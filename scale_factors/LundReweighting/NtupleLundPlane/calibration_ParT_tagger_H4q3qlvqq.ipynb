{
 "cells": [
  {
   "cell_type": "markdown",
   "metadata": {},
   "source": [
    "### load necessary modules"
   ]
  },
  {
   "cell_type": "code",
   "execution_count": 1,
   "metadata": {},
   "outputs": [
    {
     "name": "stdout",
     "output_type": "stream",
     "text": [
      "Welcome to JupyROOT 6.28/00\n"
     ]
    }
   ],
   "source": [
    "#env: lpr\n",
    "\n",
    "import uproot\n",
    "import awkward as ak\n",
    "import vector\n",
    "vector.register_awkward()\n",
    "from matplotlib import pyplot as plt\n",
    "import mplhep as hep\n",
    "hep.style.use(\"CMS\")\n",
    "import math\n",
    "import itertools\n",
    "import os\n",
    "from typing import Dict, List, Tuple\n",
    "from numpy.typing import ArrayLike\n",
    "import numpy as np\n",
    "import correctionlib\n",
    "import awkward as ak\n",
    "import fastjet\n",
    "from coffea.nanoevents.methods import vector\n",
    "from coffea import nanoevents\n",
    "from coffea import processor\n",
    "from coffea.nanoevents.methods import candidate\n",
    "from coffea.analysis_tools import Weights, PackedSelection\n",
    "from hist import Hist\n",
    "ak.behavior.update(vector.behavior)\n",
    "import sys\n",
    "sys.path.append('/home/pku/zhaoyz/Higgs/LundReweighting/utils')\n",
    "from LundReweighter import *\n",
    "# import pandas as pd\n"
   ]
  },
  {
   "cell_type": "markdown",
   "metadata": {},
   "source": [
    "### Load signal NanoAOD files and do pre-selection "
   ]
  },
  {
   "cell_type": "code",
   "execution_count": 2,
   "metadata": {},
   "outputs": [
    {
     "name": "stderr",
     "output_type": "stream",
     "text": [
      "/home/pku/zhaoyz/anaconda3/envs/lpr/lib/python3.9/site-packages/coffea/nanoevents/schemas/nanoaod.py:201: RuntimeWarning: Missing cross-reference index for Electron_genPartIdx => GenPart\n",
      "  warnings.warn(\n",
      "/home/pku/zhaoyz/anaconda3/envs/lpr/lib/python3.9/site-packages/coffea/nanoevents/schemas/nanoaod.py:201: RuntimeWarning: Missing cross-reference index for Electron_jetIdx => Jet\n",
      "  warnings.warn(\n",
      "/home/pku/zhaoyz/anaconda3/envs/lpr/lib/python3.9/site-packages/coffea/nanoevents/schemas/nanoaod.py:201: RuntimeWarning: Missing cross-reference index for Electron_photonIdx => Photon\n",
      "  warnings.warn(\n",
      "/home/pku/zhaoyz/anaconda3/envs/lpr/lib/python3.9/site-packages/coffea/nanoevents/schemas/nanoaod.py:208: RuntimeWarning: Missing cross-reference target for FatJet_genJetAK8Idx => GenJetAK8\n",
      "  warnings.warn(\n",
      "/home/pku/zhaoyz/anaconda3/envs/lpr/lib/python3.9/site-packages/coffea/nanoevents/schemas/nanoaod.py:201: RuntimeWarning: Missing cross-reference index for FsrPhoton_muonIdx => Muon\n",
      "  warnings.warn(\n",
      "/home/pku/zhaoyz/anaconda3/envs/lpr/lib/python3.9/site-packages/coffea/nanoevents/schemas/nanoaod.py:201: RuntimeWarning: Missing cross-reference index for GenVisTau_genPartIdxMother => GenPart\n",
      "  warnings.warn(\n",
      "/home/pku/zhaoyz/anaconda3/envs/lpr/lib/python3.9/site-packages/coffea/nanoevents/schemas/nanoaod.py:208: RuntimeWarning: Missing cross-reference target for Jet_electronIdx1 => Electron\n",
      "  warnings.warn(\n",
      "/home/pku/zhaoyz/anaconda3/envs/lpr/lib/python3.9/site-packages/coffea/nanoevents/schemas/nanoaod.py:208: RuntimeWarning: Missing cross-reference target for Jet_electronIdx2 => Electron\n",
      "  warnings.warn(\n",
      "/home/pku/zhaoyz/anaconda3/envs/lpr/lib/python3.9/site-packages/coffea/nanoevents/schemas/nanoaod.py:208: RuntimeWarning: Missing cross-reference target for Jet_genJetIdx => GenJet\n",
      "  warnings.warn(\n",
      "/home/pku/zhaoyz/anaconda3/envs/lpr/lib/python3.9/site-packages/coffea/nanoevents/schemas/nanoaod.py:208: RuntimeWarning: Missing cross-reference target for Jet_muonIdx1 => Muon\n",
      "  warnings.warn(\n",
      "/home/pku/zhaoyz/anaconda3/envs/lpr/lib/python3.9/site-packages/coffea/nanoevents/schemas/nanoaod.py:208: RuntimeWarning: Missing cross-reference target for Jet_muonIdx2 => Muon\n",
      "  warnings.warn(\n",
      "/home/pku/zhaoyz/anaconda3/envs/lpr/lib/python3.9/site-packages/coffea/nanoevents/schemas/nanoaod.py:201: RuntimeWarning: Missing cross-reference index for Muon_fsrPhotonIdx => FsrPhoton\n",
      "  warnings.warn(\n",
      "/home/pku/zhaoyz/anaconda3/envs/lpr/lib/python3.9/site-packages/coffea/nanoevents/schemas/nanoaod.py:201: RuntimeWarning: Missing cross-reference index for Muon_genPartIdx => GenPart\n",
      "  warnings.warn(\n",
      "/home/pku/zhaoyz/anaconda3/envs/lpr/lib/python3.9/site-packages/coffea/nanoevents/schemas/nanoaod.py:201: RuntimeWarning: Missing cross-reference index for Muon_jetIdx => Jet\n",
      "  warnings.warn(\n",
      "/home/pku/zhaoyz/anaconda3/envs/lpr/lib/python3.9/site-packages/coffea/nanoevents/schemas/nanoaod.py:201: RuntimeWarning: Missing cross-reference index for Photon_electronIdx => Electron\n",
      "  warnings.warn(\n",
      "/home/pku/zhaoyz/anaconda3/envs/lpr/lib/python3.9/site-packages/coffea/nanoevents/schemas/nanoaod.py:201: RuntimeWarning: Missing cross-reference index for Photon_genPartIdx => GenPart\n",
      "  warnings.warn(\n",
      "/home/pku/zhaoyz/anaconda3/envs/lpr/lib/python3.9/site-packages/coffea/nanoevents/schemas/nanoaod.py:201: RuntimeWarning: Missing cross-reference index for Photon_jetIdx => Jet\n",
      "  warnings.warn(\n",
      "/home/pku/zhaoyz/anaconda3/envs/lpr/lib/python3.9/site-packages/coffea/nanoevents/schemas/nanoaod.py:201: RuntimeWarning: Missing cross-reference index for Tau_genPartIdx => GenPart\n",
      "  warnings.warn(\n",
      "/home/pku/zhaoyz/anaconda3/envs/lpr/lib/python3.9/site-packages/coffea/nanoevents/schemas/nanoaod.py:201: RuntimeWarning: Missing cross-reference index for Tau_jetIdx => Jet\n",
      "  warnings.warn(\n"
     ]
    }
   ],
   "source": [
    "# #first way to load root file is using nanoevents, but suffer from low process speed\n",
    "events = nanoevents.NanoEventsFactory.from_root(\n",
    "        # \"/data/bond/zhaoyz/Ntuple/V3/2018/Merged/signal_validation/ttH.root\",\n",
    "        \"/data/bond/zhaoyz/Ntuple/V3/2018/Merged/signal_validation/ggH.root\",\n",
    "        # # \"/data/bond/zhaoyz/Ntuple/V3/2018/Merged/signal_validation/\",\n",
    "        # # \"/data/bond/zhaoyz/Ntuple/V3/2018/Merged/signal_validation/\",\n",
    "        # # \"/data/bond/zhaoyz/Ntuple/V3/2018/Merged/signal_validation/\",\n",
    "        # # \"/data/bond/zhaoyz/Ntuple/V3/2018/Merged/signal_validation/\",\n",
    "        \n",
    "        schemaclass=nanoevents.NanoAODSchema,\n",
    "    ).events()\n",
    "\n",
    "#second way to load root file is using uproot.lazy\n",
    "# events = uproot.lazy({\"/data/bond/zhaoyz/CustNano/HWWPFNano/2018/Signal_MERGED/ttHToNonbb_M125_TuneCP5_13TeV-powheg-pythia8_RunIISummer20UL18MiniAODv2-106X_upgrade2018_realistic_v16_L1v1-v2/MERGED.root\":\"Events\"})\n"
   ]
  },
  {
   "cell_type": "code",
   "execution_count": 3,
   "metadata": {},
   "outputs": [],
   "source": [
    "events_1 = events"
   ]
  },
  {
   "cell_type": "code",
   "execution_count": 4,
   "metadata": {},
   "outputs": [
    {
     "data": {
      "text/plain": [
       "['etagenwf',\n",
       " 'massgenq4f',\n",
       " 'phigenwl',\n",
       " 'mothergenq2f',\n",
       " 'fixedGridRhoFastjetAll',\n",
       " 'mothergengf',\n",
       " 'massgenq3l',\n",
       " 'phigenq5l',\n",
       " 'GenFatJetSVs',\n",
       " 'HLT',\n",
       " 'LHEWeight',\n",
       " 'Generator',\n",
       " 'fixedGridRhoFastjetCentral',\n",
       " 'etagenq2l',\n",
       " 'puWeightUp',\n",
       " 'etagenq1f',\n",
       " 'phigenq1l',\n",
       " 'PV',\n",
       " 'phigenwf',\n",
       " 'ptgenq2f',\n",
       " 'nLooseEle',\n",
       " 'JetSVs',\n",
       " 'mothergenq3f',\n",
       " 'Nj8',\n",
       " 'massgenq2f',\n",
       " 'ptgenq1f',\n",
       " 'PSWeight',\n",
       " 'massgenzf',\n",
       " 'etagenzl',\n",
       " 'GenMET',\n",
       " 'IDLoose',\n",
       " 'OtherPV',\n",
       " 'phigenq3l',\n",
       " 'ptgenq3l',\n",
       " 'gentop',\n",
       " 'mothergenq5f',\n",
       " 'DeepMETResponseTune',\n",
       " 'GenPart',\n",
       " 'ptgenzl',\n",
       " 'genantit',\n",
       " 'etagenq1l',\n",
       " 'phigengl',\n",
       " 'fixedGridRhoFastjetCentralNeutral',\n",
       " 'phigenq4f',\n",
       " 'TkMET',\n",
       " 'usenumber2',\n",
       " 'FatJet',\n",
       " 'PFCands',\n",
       " 'ptgengf',\n",
       " 'etagenq3l',\n",
       " 'genH',\n",
       " 'etagenq2f',\n",
       " 'phigengf',\n",
       " 'massgenq1l',\n",
       " 'massgenq3f',\n",
       " 'puWeightDown',\n",
       " 'LHE',\n",
       " 'CorrT1METJet',\n",
       " 'genTtbarId',\n",
       " 'taggenwl',\n",
       " 'MET',\n",
       " 'jetAK8puppi',\n",
       " 'phigenzf',\n",
       " 'ptgenq5l',\n",
       " 'CaloMET',\n",
       " 'ChsMET',\n",
       " 'genWeight',\n",
       " 'Flag',\n",
       " 'phigenq3f',\n",
       " 'etagenq4l',\n",
       " 'ak4jet',\n",
       " 'JetPFCands',\n",
       " 'mothergenq1f',\n",
       " 'genantitop',\n",
       " 'ptgenq3f',\n",
       " 'fixedGridRhoFastjetCentralChargedPileUp',\n",
       " 'RawMET',\n",
       " 'etagenq5f',\n",
       " 'ptgenq2l',\n",
       " 'mothergenq4f',\n",
       " 'phigenq1f',\n",
       " 'etagenzf',\n",
       " 'genw',\n",
       " 'LHEScaleWeight',\n",
       " 'phigenq5f',\n",
       " 'usenumber3',\n",
       " 'etagenq5l',\n",
       " 'SubJet',\n",
       " 'FatJetPFCands',\n",
       " 'taggenzl',\n",
       " 'gent',\n",
       " 'RawPuppiMET',\n",
       " 'Jet',\n",
       " 'ptgenzf',\n",
       " 'nLooseMu',\n",
       " 'etagenq3f',\n",
       " 'massgenq4l',\n",
       " 'PuppiMET',\n",
       " 'etagengf',\n",
       " 'btagWeight',\n",
       " 'phigenq2f',\n",
       " 'LHEPdfWeight',\n",
       " 'ST',\n",
       " 'luminosityBlock',\n",
       " 'massgenwl',\n",
       " 'PrefireWeight',\n",
       " 'ptgenq5f',\n",
       " 'ptgengl',\n",
       " 'usenumber1',\n",
       " 'massgenwf',\n",
       " 'puWeight',\n",
       " 'run',\n",
       " 'GenVtx',\n",
       " 'etagenq4f',\n",
       " 'LHEReweightingWeight',\n",
       " 'event',\n",
       " 'fixedGridRhoFastjetCentralCalo',\n",
       " 'ptgenwf',\n",
       " 'm',\n",
       " 'massgengl',\n",
       " 'ptgenq1l',\n",
       " 'etagengl',\n",
       " 'AK15Puppi',\n",
       " 'ptgenq4l',\n",
       " 'massgenq5f',\n",
       " 'Pileup',\n",
       " 'massgenq5l',\n",
       " 'AK15PuppiSubJet',\n",
       " 'SV',\n",
       " 'massgenq1f',\n",
       " 'massgengf',\n",
       " 'GenFatJetCands',\n",
       " 'massgenq2l',\n",
       " 'ptgenq4f',\n",
       " 'phigenq4l',\n",
       " 'phigenq2l',\n",
       " 'GenCands',\n",
       " 'DeepMETResolutionTune',\n",
       " 'phigenzl',\n",
       " 'massgenzl',\n",
       " 'FatJetSVs',\n",
       " 'ptgenwl',\n",
       " 'etagenwl']"
      ]
     },
     "execution_count": 4,
     "metadata": {},
     "output_type": "execute_result"
    }
   ],
   "source": [
    "#quick look at the fields of signal files\n",
    "events_1.fields"
   ]
  },
  {
   "cell_type": "markdown",
   "metadata": {},
   "source": [
    "### Define necessary functions to run the selection"
   ]
  },
  {
   "cell_type": "code",
   "execution_count": 5,
   "metadata": {},
   "outputs": [],
   "source": [
    "#pad array with given value\n",
    "def pad_val(\n",
    "    arr: ak.Array,\n",
    "    target: int,\n",
    "    value: float, #value can also be Bool variable \n",
    "    axis: int = 0,\n",
    "    to_numpy: bool = True,\n",
    "    clip: bool = True,\n",
    "):\n",
    "    \"\"\"\n",
    "    pads awkward array up to ``target`` index along axis ``axis`` with value ``value``,\n",
    "    optionally converts to numpy array\n",
    "    \"\"\"\n",
    "    padded_arr = ak.fill_none(ak.pad_none(arr, target, axis=axis, clip=clip), value, axis=axis)\n",
    "    # pad_none will fill the array to target length with \"None\" for dedicated axis\n",
    "    # \"clip\" means cut the array to the target length or not\n",
    "    # fill_none will replace \"None\" value to some value\n",
    "    return padded_arr.to_numpy() if to_numpy else padded_arr\n",
    "\n",
    "def add_selection(\n",
    "    name: str,\n",
    "    sel: np.ndarray,\n",
    "    selection: PackedSelection,\n",
    "    cutflow: dict = None,\n",
    "    isData: bool = False,\n",
    "    signGenWeights: ak.Array = None,\n",
    "):\n",
    "    \"\"\"adds selection to PackedSelection object and the cutflow dictionary\"\"\"\n",
    "    selection.add(name, sel)\n",
    "    if cutflow is not None: #only add to cutflow dictionary if cutflow is not None\n",
    "        cutflow[name] = (\n",
    "            np.sum(selection.all(*selection.names))\n",
    "            if isData\n",
    "            # add up sign of genWeights for MC\n",
    "            else np.sum(signGenWeights[selection.all(*selection.names)])\n",
    "        )\n"
   ]
  },
  {
   "cell_type": "code",
   "execution_count": 6,
   "metadata": {},
   "outputs": [],
   "source": [
    "#pre-selection:\n",
    "#1.Leading jet pT > 400GeV, maximum jet mass > 50GeV\n",
    "#2.Require 2 or 3 AK8 jet with pT > 200GeV\n",
    "#3.Veto (mini-)Isolated leptons\n",
    "isData = False\n",
    "signGenWeights = None if isData else np.sign(events_1[\"genWeight\"]) #get genWeight sign, because only the sign matters\n",
    "n_events = len(events_1) if isData else int(np.sum(signGenWeights)) #events number for MC events should be the sum of \"sign\"\n",
    "selection = PackedSelection() #initialize a new object\n",
    "\n",
    "cutflow = {}\n",
    "# cutflow[\"all\"] = len(events) #shouldn't be n_events?\n",
    "cutflow[\"all\"] = n_events\n",
    "preselection_cut_vals = {\"pt\": 200, \"msd\": 20, \"leading_pt\":400,\"maximum_mass\":50}\n",
    "num_jets = 2\n",
    "\n",
    "# fatjets = corrections.get_jec_jets(events, \"2018\")\n",
    "fatjets = events_1.FatJet\n",
    "\n",
    "preselection_cut_1 = pad_val(\n",
    "        ( ak.max(events_1.FatJet.pt, axis = 1) > preselection_cut_vals[\"leading_pt\"])\n",
    "        * (ak.max(events_1.FatJet.msoftdrop, axis = 1) > preselection_cut_vals[\"maximum_mass\"]), #mass and pT cut of each jet in event\n",
    "        len(events_1), #pad to num_jets length\n",
    "        False,  #pad with value False\n",
    "        )\n",
    "# finally with the length of events number, \"1\" for all jets are pT > pT_cut and mass > mass_cut\n",
    " # N.B. here clip always = True\n",
    "\n",
    "add_selection(\n",
    "    \"leading pT and maximum mass\", #string name\n",
    "    preselection_cut_1.astype(bool), #selection content\n",
    "    selection, #PackedSelection object\n",
    "    cutflow, #cut-flow dict, storing events number after each cut\n",
    "    isData,\n",
    "    signGenWeights,#sum the signGenWeights for events which pass the selection\n",
    ")\n",
    "\n",
    "\n",
    "\n",
    "preselection_cut_2 = np.prod(\n",
    "    pad_val(\n",
    "        (events_1.FatJet.pt > preselection_cut_vals[\"pt\"]),\n",
    "        # * (events.FatJet.msoftdrop > preselection_cut_vals[\"msd\"]), #mass and pT cut of each jet in event\n",
    "        num_jets, #pad to num_jets length\n",
    "        False,  #pad with value False\n",
    "        axis=1, #pad to axis=1\n",
    "    ),\n",
    "    axis=1,\n",
    ")# finally with the length of events number, \"1\" for all jets are pT > pT_cut and mass > mass_cut\n",
    " # N.B. here clip always = True\n",
    "\n",
    "add_selection(\n",
    "    \"at least 2 AK8 jet with pT >200GeV\", #string name\n",
    "    preselection_cut_2.astype(bool), #selection content\n",
    "    selection, #PackedSelection object\n",
    "    cutflow, #cut-flow dict, storing events number after each cut\n",
    "    isData,\n",
    "    signGenWeights,#sum the signGenWeights for events which pass the selection\n",
    ")\n",
    "\n",
    "preselection_cut_3 = pad_val(\n",
    "        (ak.num(events_1.FatJet.pt) == 2) | (ak.num(events_1.FatJet.pt) == 3) , #mass and pT cut of each jet in event\n",
    "        len(events_1), #pad to num_jets length\n",
    "        False,  #pad with value False\n",
    "        )\n",
    "\n",
    "add_selection(\n",
    "    \"2 or 3 AK8 jet\", #string name\n",
    "    preselection_cut_3.astype(bool), #selection content\n",
    "    selection, #PackedSelection object\n",
    "    cutflow, #cut-flow dict, storing events number after each cut\n",
    "    isData,\n",
    "    signGenWeights,#sum the signGenWeights for events which pass the selection\n",
    ")\n"
   ]
  },
  {
   "cell_type": "code",
   "execution_count": 7,
   "metadata": {},
   "outputs": [
    {
     "data": {
      "text/plain": [
       "{'all': 28890,\n",
       " 'leading pT and maximum mass': 27893.0,\n",
       " 'at least 2 AK8 jet with pT >200GeV': 27891.0,\n",
       " '2 or 3 AK8 jet': 27185.0}"
      ]
     },
     "execution_count": 7,
     "metadata": {},
     "output_type": "execute_result"
    }
   ],
   "source": [
    "cutflow"
   ]
  },
  {
   "cell_type": "code",
   "execution_count": 8,
   "metadata": {},
   "outputs": [],
   "source": [
    "filtered_events_1 = events_1[selection.all(*selection.names)]\n"
   ]
  },
  {
   "cell_type": "code",
   "execution_count": 9,
   "metadata": {},
   "outputs": [],
   "source": [
    "filtered_events = filtered_events_1"
   ]
  },
  {
   "cell_type": "markdown",
   "metadata": {},
   "source": [
    "### Gen-matching setup"
   ]
  },
  {
   "cell_type": "code",
   "execution_count": 10,
   "metadata": {},
   "outputs": [],
   "source": [
    "selection = PackedSelection() #initialize a new object\n",
    "isData = False\n",
    "signGenWeights = None if isData else np.sign(filtered_events[\"genWeight\"]) #get genWeight sign, because only the sign matters\n",
    "n_events = len(filtered_events) if isData else int(np.sum(signGenWeights)) #events number for MC events should be the sum of \"sign\"\n",
    "selection = PackedSelection() #initialize a new object\n",
    "\n",
    "cutflow = {}\n",
    "# cutflow[\"all\"] = len(events) #shouldn't be n_events?\n",
    "cutflow[\"all\"] = n_events\n",
    "\n",
    "#require WW decaying to 4q, because we want to calibrate H3q4q jet at first stage\n",
    "d_PDGID = 1\n",
    "u_PDGID = 2\n",
    "s_PDGID = 3\n",
    "c_PDGID = 4\n",
    "b_PDGID = 5\n",
    "g_PDGID = 21\n",
    "TOP_PDGID = 6\n",
    "\n",
    "ELE_PDGID = 11\n",
    "vELE_PDGID = 12\n",
    "MU_PDGID = 13\n",
    "vMU_PDGID = 14\n",
    "TAU_PDGID = 15\n",
    "vTAU_PDGID = 16\n",
    "\n",
    "Z_PDGID = 23\n",
    "W_PDGID = 24\n",
    "HIGGS_PDGID = 25\n",
    "Y_PDGID = 35\n",
    "\n",
    "b_PDGIDS = [511, 521, 523]\n",
    "\n",
    "GRAV_PDGID = 39\n",
    "\n",
    "GEN_FLAGS = [\"fromHardProcess\", \"isLastCopy\"]\n",
    "\n",
    "FILL_NONE_VALUE = -99999\n",
    "PAD_VAL = -99999\n",
    "\n",
    "skim_vars = {\n",
    "    \"eta\": \"Eta\",\n",
    "    \"phi\": \"Phi\",\n",
    "    \"mass\": \"Mass\",\n",
    "    \"pt\": \"Pt\",\n",
    "}"
   ]
  },
  {
   "cell_type": "markdown",
   "metadata": {},
   "source": [
    "### Select only HWW decay"
   ]
  },
  {
   "cell_type": "code",
   "execution_count": 11,
   "metadata": {},
   "outputs": [],
   "source": [
    "#firstly selection only HWW decay:\n",
    "selection = PackedSelection() #initialize a new object\n",
    "isData = False\n",
    "signGenWeights = None if isData else np.sign(filtered_events[\"genWeight\"]) #get genWeight sign, because only the sign matters\n",
    "n_events = len(filtered_events) if isData else int(np.sum(signGenWeights)) #events number for MC events should be the sum of \"sign\"\n",
    "selection = PackedSelection() #initialize a new object\n",
    "\n",
    "cutflow = {}\n",
    "# cutflow[\"all\"] = len(events) #shouldn't be n_events?\n",
    "cutflow[\"all\"] = n_events\n",
    "\n",
    "\n",
    "# finding the gen higgs\n",
    "higgs = filtered_events.GenPart[\n",
    "    (abs(filtered_events.GenPart.pdgId) == HIGGS_PDGID) * filtered_events.GenPart.hasFlags(GEN_FLAGS)\n",
    "]\n",
    "# saving 4-vector info\n",
    "GenHiggsVars = {f\"GenHiggs{key}\": higgs[var].to_numpy() for (var, key) in skim_vars.items()}\n",
    "\n",
    "higgs_children = higgs.children\n",
    "\n",
    "# saving whether H->bb or H->VV\n",
    "GenHiggsVars[\"GenHiggsChildren\"] = abs(higgs_children.pdgId[:, :, 0]).to_numpy()\n",
    "\n",
    "# finding WW children\n",
    "is_WW = abs(higgs_children.pdgId) == W_PDGID\n",
    "\n",
    "# Hbb = higgs[ak.sum(is_bb, axis=2) == 2]\n",
    "HWW = higgs[ak.sum(is_WW, axis=2) == 2]\n",
    "\n",
    "# checking that there are 2 b's and 2 V's\n",
    "has_WW = ak.sum(ak.flatten(is_WW, axis=2), axis=1) == 2\n",
    "\n",
    "add_selection(\n",
    "    \"HtoWW\",\n",
    "    has_WW, \n",
    "    selection, \n",
    "    cutflow, \n",
    "    False, \n",
    "    signGenWeights)\n",
    "# print(selection_all_q)"
   ]
  },
  {
   "cell_type": "code",
   "execution_count": 12,
   "metadata": {},
   "outputs": [
    {
     "data": {
      "text/plain": [
       "<NanoEventsArray [<event 1:271:270008>, ... ] type='27191 * event'>"
      ]
     },
     "execution_count": 12,
     "metadata": {},
     "output_type": "execute_result"
    }
   ],
   "source": [
    "filtered_events"
   ]
  },
  {
   "cell_type": "code",
   "execution_count": 13,
   "metadata": {},
   "outputs": [],
   "source": [
    "filtered_events_1 = filtered_events[selection.all(*selection.names)]\n",
    "del filtered_events\n",
    "filtered_events = filtered_events_1\n"
   ]
  },
  {
   "cell_type": "code",
   "execution_count": 14,
   "metadata": {},
   "outputs": [
    {
     "data": {
      "text/plain": [
       "<NanoEventsArray [<event 1:271:270008>, ... ] type='27191 * event'>"
      ]
     },
     "execution_count": 14,
     "metadata": {},
     "output_type": "execute_result"
    }
   ],
   "source": [
    "filtered_events"
   ]
  },
  {
   "cell_type": "code",
   "execution_count": 15,
   "metadata": {},
   "outputs": [],
   "source": [
    "#may take much time\n",
    "#Then do other test:\n",
    "selection = PackedSelection() #initialize a new object\n",
    "isData = False\n",
    "signGenWeights = None if isData else np.sign(filtered_events[\"genWeight\"]) #get genWeight sign, because only the sign matters\n",
    "n_events = len(filtered_events) if isData else int(np.sum(signGenWeights)) #events number for MC events should be the sum of \"sign\"\n",
    "selection = PackedSelection() #initialize a new object\n",
    "\n",
    "cutflow = {}\n",
    "# cutflow[\"all\"] = len(events) #shouldn't be n_events?\n",
    "cutflow[\"all\"] = n_events\n",
    "# finding the gen higgs\n",
    "higgs = filtered_events.GenPart[\n",
    "    (abs(filtered_events.GenPart.pdgId) == HIGGS_PDGID) * filtered_events.GenPart.hasFlags(GEN_FLAGS)\n",
    "]\n",
    "# saving 4-vector info\n",
    "GenHiggsVars = {f\"GenHiggs{key}\": higgs[var].to_numpy() for (var, key) in skim_vars.items()}\n",
    "\n",
    "higgs_children = higgs.children\n",
    "\n",
    "# saving whether H->bb or H->VV\n",
    "GenHiggsVars[\"GenHiggsChildren\"] = abs(higgs_children.pdgId[:, :, 0]).to_numpy()\n",
    "\n",
    "# finding WW children\n",
    "is_WW = abs(higgs_children.pdgId) == W_PDGID\n",
    "\n",
    "# Hbb = higgs[ak.sum(is_bb, axis=2) == 2]\n",
    "HWW = higgs[ak.sum(is_WW, axis=2) == 2]\n",
    "\n",
    "# checking that there are 2 b's and 2 V's\n",
    "has_WW = ak.sum(ak.flatten(is_WW, axis=2), axis=1) == 2\n",
    "\n",
    "add_selection(\n",
    "    \"HtoWW\",\n",
    "    has_WW, \n",
    "    selection, \n",
    "    cutflow, \n",
    "    False, \n",
    "    signGenWeights)\n",
    "# print(selection_all_q)\n",
    "\n",
    "\n",
    "\n",
    "# saving WW 4-vector info\n",
    "WW = ak.flatten(higgs_children[is_WW], axis=2)\n",
    "\n",
    "#for normal ggF, VBF HWW signal\n",
    "GenWWVars = {\n",
    "    f\"GenWW{key}\": WW[var].to_numpy() for (var, key) in skim_vars.items()\n",
    "    }\n",
    "\n",
    "#for ttHnonbb HWW signal, because there may not be H-->WW events\n",
    "# GenWWVars = {\n",
    "#     f\"GenWW{key}\": pad_val(WW[var], 2, FILL_NONE_VALUE, axis=1) for (var, key) in skim_vars.items()\n",
    "#     }\n",
    "\n",
    "# checking that each W has 2 q children, so finally the HWW jet will be H4q or H3q jet\n",
    "WW_children = WW.children\n",
    "\n",
    "quarks = abs(WW_children.pdgId) <= b_PDGID #get all the 2 Ws daughter PDGID <=5 information\n",
    "\n",
    "selection_all_q = ak.all(ak.all(quarks, axis=2), axis=1) #check if all the children of 2 Ws are quarks or not\n",
    "#so first check 2nd axis, and then check 1st axis\n",
    "add_selection(\n",
    "    \"WW decays to 4q\",\n",
    "    selection_all_q, \n",
    "    selection, \n",
    "    cutflow, \n",
    "    False, \n",
    "    signGenWeights)\n",
    "# print(selection_all_q)"
   ]
  },
  {
   "cell_type": "code",
   "execution_count": 16,
   "metadata": {},
   "outputs": [
    {
     "data": {
      "text/plain": [
       "{'all': 27185, 'HtoWW': 27185.0, 'WW decays to 4q': 17732.0}"
      ]
     },
     "execution_count": 16,
     "metadata": {},
     "output_type": "execute_result"
    }
   ],
   "source": [
    "#quick look at the cut-flow\n",
    "cutflow"
   ]
  },
  {
   "cell_type": "markdown",
   "metadata": {},
   "source": [
    "### store the PFCands, GenEtaPhi, Higgs candidate AK8 jet 4-vector information for Lund Plane use"
   ]
  },
  {
   "cell_type": "code",
   "execution_count": 17,
   "metadata": {},
   "outputs": [
    {
     "data": {
      "text/plain": [
       "<NanoEventsArray [<event 1:271:270008>, ... ] type='17738 * event'>"
      ]
     },
     "execution_count": 17,
     "metadata": {},
     "output_type": "execute_result"
    }
   ],
   "source": [
    "events_after_cut = filtered_events[selection.all(*selection.names)]\n",
    "# del filtered_events\n",
    "events_after_cut"
   ]
  },
  {
   "cell_type": "code",
   "execution_count": 18,
   "metadata": {},
   "outputs": [],
   "source": [
    "#find the Higgs jet idx, dR(gen_Higgs, jet)<0.8 & dR(gen_W_1, jet)<0.8 & dR(gen_W_2, jet)<0.8\n",
    "\n",
    "#collect gen-Higgs information\n",
    "higgs = events_after_cut.GenPart[\n",
    "    (abs(events_after_cut.GenPart.pdgId) == HIGGS_PDGID) * events_after_cut.GenPart.hasFlags(GEN_FLAGS)\n",
    "]\n",
    "GenHiggsVars = {\n",
    "    f\"GenHiggs{key}\": higgs[var].to_numpy() for (var, key) in skim_vars.items()\n",
    "    }\n",
    "higgs_children = higgs.children\n",
    "\n",
    "# collect gen-Higgs children WW information, may not be used, since only Higgs information is needed for the matching\n",
    "is_WW = abs(higgs_children.pdgId) == W_PDGID\n",
    "WW = ak.flatten(higgs_children[is_WW], axis=2)\n",
    "\n",
    "GenWWVars = {\n",
    "    # f\"GenWW{key}\": WW[var].to_numpy() for (var, key) in skim_vars.items()\n",
    "    f\"GenWW{key}\": pad_val(WW[var], 2, FILL_NONE_VALUE, axis=1) for (var, key) in skim_vars.items()\n",
    "    }\n",
    "GenW1Vars = {\n",
    "    # f\"GenWW{key}\": WW[var][:,0].to_numpy() for (var, key) in skim_vars.items()\n",
    "    f\"GenWW{key}\": pad_val(WW[var], 2, FILL_NONE_VALUE, axis=1)[:,0] for (var, key) in skim_vars.items()\n",
    "    }\n",
    "GenW2Vars = {\n",
    "    # f\"GenWW{key}\": WW[var][:,1].to_numpy() for (var, key) in skim_vars.items()\n",
    "    f\"GenWW{key}\": pad_val(WW[var], 2, FILL_NONE_VALUE, axis=1)[:,1] for (var, key) in skim_vars.items()\n",
    "    }\n",
    "\n",
    "#collect FatJet information\n",
    "fatjets = events_after_cut.FatJet\n",
    "HWW = ak.pad_none(higgs, 1, axis=1, clip=True)[:, 0] #because it's a 2D array\n",
    "WWdr = fatjets[:, :3].delta_r(HWW) #here use 3 because we have up to 3 AK8 jets, use ak.max(ak.num(WWdr,axis = 1)) for test\n",
    "match_dR = 0.8\n",
    "HWW_match = WWdr <= match_dR #FatJetIdx in each event, which is real HWW jet\n",
    "HWWJets = ak.pad_none(fatjets[HWW_match], 1, axis=1)[:, 0] #There can be None object in HWWJets array\n",
    "#tie [pt, eta, phi, mass] together, get new arrary\n",
    "\n",
    "\n"
   ]
  },
  {
   "cell_type": "code",
   "execution_count": 19,
   "metadata": {},
   "outputs": [
    {
     "data": {
      "text/plain": [
       "array([ True,  True,  True, ...,  True,  True,  True])"
      ]
     },
     "execution_count": 19,
     "metadata": {},
     "output_type": "execute_result"
    }
   ],
   "source": [
    "filled_pt = pad_val(HWWJets.pt,len(HWWJets.pt),-99)\n",
    "selection_has_HWWjet = filled_pt > 0\n",
    "selection_has_HWWjet"
   ]
  },
  {
   "cell_type": "code",
   "execution_count": 20,
   "metadata": {},
   "outputs": [
    {
     "data": {
      "text/plain": [
       "<NanoEventsArray [<event 1:271:270008>, ... ] type='17220 * event'>"
      ]
     },
     "execution_count": 20,
     "metadata": {},
     "output_type": "execute_result"
    }
   ],
   "source": [
    "events_final = events_after_cut[selection_has_HWWjet]\n",
    "len(events_final)\n",
    "events_final"
   ]
  },
  {
   "cell_type": "markdown",
   "metadata": {},
   "source": [
    "### Do it again after the final cut"
   ]
  },
  {
   "cell_type": "code",
   "execution_count": 21,
   "metadata": {},
   "outputs": [
    {
     "name": "stdout",
     "output_type": "stream",
     "text": [
      "[[[True, True], [True, True]], [[True, ... True]], [[True, True], [True, True]]]\n"
     ]
    },
    {
     "data": {
      "text/plain": [
       "17220"
      ]
     },
     "execution_count": 21,
     "metadata": {},
     "output_type": "execute_result"
    }
   ],
   "source": [
    "#find the Higgs jet idx, dR(gen_Higgs, jet)<0.8 & dR(gen_W_1, jet)<0.8 & dR(gen_W_2, jet)<0.8\n",
    "\n",
    "#collect gen-Higgs information\n",
    "higgs = events_final.GenPart[\n",
    "    (abs(events_final.GenPart.pdgId) == HIGGS_PDGID) * events_final.GenPart.hasFlags(GEN_FLAGS)\n",
    "]\n",
    "GenHiggsVars = {\n",
    "    f\"GenHiggs{key}\": higgs[var].to_numpy() for (var, key) in skim_vars.items()\n",
    "    }\n",
    "higgs_children = higgs.children\n",
    "\n",
    "# collect gen-Higgs children WW information, may not be used, since only Higgs information is needed for the matching\n",
    "is_WW = abs(higgs_children.pdgId) == W_PDGID\n",
    "WW = ak.flatten(higgs_children[is_WW], axis=2)\n",
    "\n",
    "GenWWVars = {\n",
    "    f\"GenWW{key}\": WW[var].to_numpy() for (var, key) in skim_vars.items()\n",
    "    }\n",
    "GenW1Vars = {\n",
    "    f\"GenWW{key}\": WW[var][:,0].to_numpy() for (var, key) in skim_vars.items()\n",
    "    }\n",
    "GenW2Vars = {\n",
    "    f\"GenWW{key}\": WW[var][:,1].to_numpy() for (var, key) in skim_vars.items()\n",
    "    }\n",
    "\n",
    "#collect FatJet information\n",
    "fatjets = events_final.FatJet\n",
    "HWW = ak.pad_none(higgs, 1, axis=1, clip=True)[:, 0] #because it's a 2D array\n",
    "WWdr = fatjets[:, :3].delta_r(HWW) #here use 3 because we have up to 3 AK8 jets, use ak.max(ak.num(WWdr,axis = 1)) for test\n",
    "match_dR = 0.8\n",
    "HWW_match = WWdr <= match_dR #FatJetIdx in each event, which is real HWW jet\n",
    "HWWJets = ak.pad_none(fatjets[HWW_match], 1, axis=1)[:, 0] #There can be None object in HWWJets array\n",
    "#tie [pt, eta, phi, mass] together, get new arrary\n",
    "\n",
    "\n",
    "WW_children = WW.children\n",
    "\n",
    "quarks = abs(WW_children.pdgId) <= b_PDGID #get all the 2 Ws daughter PDGID <=5 information\n",
    "print(quarks)\n",
    "\n",
    "# saving 4q 4-vector info\n",
    "Gen4qVars = {\n",
    "    f\"Gen4q{key}\": ak.to_numpy(\n",
    "        ak.fill_none(\n",
    "            ak.pad_none(ak.pad_none(WW_children[var], 2, axis=1, clip=True), 2, axis=2, clip=True),\n",
    "            FILL_NONE_VALUE,\n",
    "        )\n",
    "    )\n",
    "    for (var, key) in skim_vars.items()\n",
    "}\n",
    "len(Gen4qVars[\"Gen4qPt\"])"
   ]
  },
  {
   "cell_type": "markdown",
   "metadata": {},
   "source": [
    "### four vector for HWW jet"
   ]
  },
  {
   "cell_type": "code",
   "execution_count": 22,
   "metadata": {},
   "outputs": [],
   "source": [
    "# four vector for HWW jet\n",
    "higgs_jet_4vec_H3q4q = np.array(np.stack((np.array(HWWJets.pt), np.array(HWWJets.eta),np.array(HWWJets.phi),np.array(HWWJets.mass)), axis=1))"
   ]
  },
  {
   "cell_type": "code",
   "execution_count": 23,
   "metadata": {},
   "outputs": [
    {
     "data": {
      "text/plain": [
       "17220"
      ]
     },
     "execution_count": 23,
     "metadata": {},
     "output_type": "execute_result"
    }
   ],
   "source": [
    "len(higgs_jet_4vec_H3q4q)"
   ]
  },
  {
   "cell_type": "markdown",
   "metadata": {},
   "source": [
    "### Next eta-phi for 4 quarks"
   ]
  },
  {
   "cell_type": "code",
   "execution_count": 24,
   "metadata": {},
   "outputs": [],
   "source": [
    "# Finally construct the eta-phi array\n",
    "eta_4q = Gen4qVars[\"Gen4qEta\"].reshape(Gen4qVars[\"Gen4qEta\"].shape[0], -1)\n",
    "phi_4q = Gen4qVars[\"Gen4qPhi\"].reshape(Gen4qVars[\"Gen4qPhi\"].shape[0], -1)\n",
    "gen_parts_eta_phi_H3q4q_4q = np.array(np.dstack((eta_4q,phi_4q)))\n",
    "# can do test like : gen_parts_eta_phi[:2]"
   ]
  },
  {
   "cell_type": "code",
   "execution_count": 25,
   "metadata": {},
   "outputs": [],
   "source": [
    "#count the number of quarks inside the AK8 jet, require 3 or 4 quarks.\n",
    "def count_quarks_in_jets(jet_4vec, gen_parts_eta_phi, delta_r_cut=0.8):\n",
    "    num_jets = len(jet_4vec)\n",
    "    num_quarks_in_jets = np.zeros(num_jets, dtype=int)\n",
    "\n",
    "    for i in range(num_jets):\n",
    "        jet_eta, jet_phi = jet_4vec[i][1], jet_4vec[i][2]\n",
    "\n",
    "        quark_eta_phi = gen_parts_eta_phi[i]\n",
    "        quark_eta, quark_phi = quark_eta_phi[:, 0], quark_eta_phi[:, 1]\n",
    "\n",
    "        delta_eta = jet_eta - quark_eta\n",
    "        delta_phi = jet_phi - quark_phi\n",
    "\n",
    "        delta_r_squared = delta_eta**2 + delta_phi**2\n",
    "        quarks_in_jet = np.sqrt(delta_r_squared) < delta_r_cut\n",
    "\n",
    "        num_quarks_in_jets[i] = np.sum(quarks_in_jet)\n",
    "\n",
    "    return num_quarks_in_jets\n"
   ]
  },
  {
   "cell_type": "code",
   "execution_count": 26,
   "metadata": {},
   "outputs": [],
   "source": [
    "result_4q = count_quarks_in_jets(higgs_jet_4vec_H3q4q, gen_parts_eta_phi_H3q4q_4q)"
   ]
  },
  {
   "cell_type": "code",
   "execution_count": 27,
   "metadata": {},
   "outputs": [],
   "source": [
    "H3q4q_cut = (result_4q >= 3)"
   ]
  },
  {
   "cell_type": "markdown",
   "metadata": {},
   "source": [
    "### Get FatJetPFCands 4-vector, up to 150 length to suit the input of Oz's function"
   ]
  },
  {
   "cell_type": "code",
   "execution_count": 28,
   "metadata": {},
   "outputs": [],
   "source": [
    "# first get the jet_idx HWW jet, each event has one jet_idx\n",
    "HWW_match = WWdr <= match_dR #FatJetIdx in each event, which is real HWW jet\n",
    "HWW_match_padded = pad_val(HWW_match,3,False,1,True) #pad the array with False value\n",
    "HWW_jet_idx = np.argmax(HWW_match_padded,axis = 1) #the jet index in each jet which is true HWW jet\n",
    "# then get all the FatJetPFCands according to the jet_idx, and get PF_idx\n",
    "HWW_FatJetPFCands = (events_final.FatJetPFCands.jetIdx == HWW_jet_idx)\n",
    "HWW_FatJetPFCands_pFCandsIdx = events_final.FatJetPFCands.pFCandsIdx[HWW_FatJetPFCands]\n",
    "# at last, get PFCands 4-vector according to the PF_idx in last step\n"
   ]
  },
  {
   "cell_type": "code",
   "execution_count": 29,
   "metadata": {},
   "outputs": [],
   "source": [
    "pt_array =   ak.Array(events_final.PFCands.pt)\n",
    "eta_array =  ak.Array(events_final.PFCands.eta)\n",
    "phi_array =  ak.Array(events_final.PFCands.phi)\n",
    "mass_array = ak.Array(events_final.PFCands.mass)"
   ]
  },
  {
   "cell_type": "code",
   "execution_count": 30,
   "metadata": {},
   "outputs": [],
   "source": [
    "selected_pt =  pt_array[HWW_FatJetPFCands_pFCandsIdx]\n",
    "selected_eta = eta_array[HWW_FatJetPFCands_pFCandsIdx]\n",
    "selected_phi = phi_array[HWW_FatJetPFCands_pFCandsIdx]\n",
    "selected_mass = mass_array[HWW_FatJetPFCands_pFCandsIdx]"
   ]
  },
  {
   "cell_type": "code",
   "execution_count": 31,
   "metadata": {},
   "outputs": [],
   "source": [
    "selected_pt_padded = pad_val(selected_pt,150,0,1,True)"
   ]
  },
  {
   "cell_type": "code",
   "execution_count": 32,
   "metadata": {},
   "outputs": [],
   "source": [
    "selected_eta_padded = pad_val(selected_eta,150,0,1,True)"
   ]
  },
  {
   "cell_type": "code",
   "execution_count": 33,
   "metadata": {},
   "outputs": [],
   "source": [
    "selected_phi_padded = pad_val(selected_phi,150,0,1,True)"
   ]
  },
  {
   "cell_type": "code",
   "execution_count": 34,
   "metadata": {},
   "outputs": [],
   "source": [
    "selected_mass_padded = pad_val(selected_mass,150,0,1,True)"
   ]
  },
  {
   "cell_type": "code",
   "execution_count": 35,
   "metadata": {},
   "outputs": [],
   "source": [
    "#Construct (px,py,pz,E) using (pt,eta,phi,mass) information as the input\n",
    "pf_cands_px = selected_pt_padded * np.cos(selected_phi_padded)\n",
    "pf_cands_py = selected_pt_padded * np.sin(selected_phi_padded)\n",
    "pf_cands_pz = selected_pt_padded * np.sinh(selected_eta_padded)\n",
    "pf_cands_E = np.sqrt(pf_cands_px**2 + pf_cands_py**2 + pf_cands_pz**2 + selected_mass_padded**2)"
   ]
  },
  {
   "cell_type": "code",
   "execution_count": 36,
   "metadata": {},
   "outputs": [],
   "source": [
    "pf_cands_pxpypzE_4q = np.dstack((pf_cands_px,pf_cands_py,pf_cands_pz,pf_cands_E))"
   ]
  },
  {
   "cell_type": "code",
   "execution_count": 37,
   "metadata": {},
   "outputs": [],
   "source": [
    "# do final cut using H4q3q selection:\n",
    "gen_parts_eta_phi_H3q4q_4q = gen_parts_eta_phi_H3q4q_4q[H3q4q_cut]\n",
    "pf_cands_pxpypzE_4q = pf_cands_pxpypzE_4q[H3q4q_cut]\n",
    "higgs_jet_4vec_H3q4q = higgs_jet_4vec_H3q4q[H3q4q_cut]\n"
   ]
  },
  {
   "cell_type": "markdown",
   "metadata": {},
   "source": [
    "### Next compute tagger score"
   ]
  },
  {
   "cell_type": "code",
   "execution_count": 38,
   "metadata": {},
   "outputs": [],
   "source": [
    "eventsScoreFatjet = events_final\n",
    "tagger_scores = eventsScoreFatjet.FatJet.inclParTMDV1_probHWqqWev0c + eventsScoreFatjet.FatJet.inclParTMDV1_probHWqqWev1c + eventsScoreFatjet.FatJet.inclParTMDV1_probHWqqWmv0c + eventsScoreFatjet.FatJet.inclParTMDV1_probHWqqWmv1c + eventsScoreFatjet.FatJet.inclParTMDV1_probHWqqWq0c + eventsScoreFatjet.FatJet.inclParTMDV1_probHWqqWq1c + eventsScoreFatjet.FatJet.inclParTMDV1_probHWqqWq2c + eventsScoreFatjet.FatJet.inclParTMDV1_probHWqqWqq0c + eventsScoreFatjet.FatJet.inclParTMDV1_probHWqqWqq1c + eventsScoreFatjet.FatJet.inclParTMDV1_probHWqqWqq2c + eventsScoreFatjet.FatJet.inclParTMDV1_probHWqqWtauev0c + eventsScoreFatjet.FatJet.inclParTMDV1_probHWqqWtauev1c + eventsScoreFatjet.FatJet.inclParTMDV1_probHWqqWtauhv0c + eventsScoreFatjet.FatJet.inclParTMDV1_probHWqqWtauhv1c + eventsScoreFatjet.FatJet.inclParTMDV1_probHWqqWtaumv0c + eventsScoreFatjet.FatJet.inclParTMDV1_probHWqqWtaumv1c\n",
    "\n",
    "fatjets = events_final.FatJet\n",
    "HWW = ak.pad_none(higgs, 1, axis=1, clip=True)[:, 0] #because it's a 2D array\n",
    "WWdr = fatjets[:, :3].delta_r(HWW) #here use 3 because we have up to 3 AK8 jets, use ak.max(ak.num(WWdr,axis = 1)) for test\n",
    "match_dR = 0.8\n",
    "HWW_match = WWdr <= match_dR #FatJetIdx in each event, which is real HWW jet\n",
    "\n",
    "HWWJets_tagger_score_3q4q = ak.pad_none(tagger_scores[HWW_match], 1, axis=1)[:, 0]\n",
    "\n",
    "HWWJets_tagger_score_3q4q = HWWJets_tagger_score_3q4q[H3q4q_cut]"
   ]
  },
  {
   "cell_type": "code",
   "execution_count": 39,
   "metadata": {},
   "outputs": [
    {
     "data": {
      "text/plain": [
       "15213"
      ]
     },
     "execution_count": 39,
     "metadata": {},
     "output_type": "execute_result"
    }
   ],
   "source": [
    "len(HWWJets_tagger_score_3q4q)"
   ]
  },
  {
   "cell_type": "code",
   "execution_count": 40,
   "metadata": {},
   "outputs": [],
   "source": [
    "H3q4q_len = len(HWWJets_tagger_score_3q4q)"
   ]
  },
  {
   "cell_type": "markdown",
   "metadata": {},
   "source": [
    "### Calculate SFs and weights"
   ]
  },
  {
   "cell_type": "code",
   "execution_count": 41,
   "metadata": {},
   "outputs": [
    {
     "name": "stdout",
     "output_type": "stream",
     "text": [
      "Nominal efficiency 0.277, Corrected efficiency 0.276, SF (corrected / nom) 0.994\n",
      "Stat variation toys eff. avg 0.275, std dev 0.007\n",
      "Pt variation toys eff. avg 0.276, std dev 0.000\n",
      "\n",
      "\n",
      "Calibrated efficiency  is 0.276 +/- 0.008  (stat) +/- 0.000 (pt) +/- 0.001/0.006 (sys)+/- 0.106 (matching)  \n",
      "\n",
      "\n",
      "Now perform SFs information\n",
      "SF (corrected / nom) 0.994\n",
      "\n",
      "\n",
      "SF is 0.994 +/-0.027(stat) +/-0.001(pt) +0.001/-0.006(sys) +/-0.384(match) \n",
      "\n",
      "\n",
      "#--------------------------------------------------------------------------\n",
      "#                         FastJet release 3.4.0\n",
      "#                 M. Cacciari, G.P. Salam and G. Soyez                  \n",
      "#     A software package for jet finding and analysis at colliders      \n",
      "#                           http://fastjet.fr                           \n",
      "#\t                                                                      \n",
      "# Please cite EPJC72(2012)1896 [arXiv:1111.6097] if you use this package\n",
      "# for scientific work and optionally PLB641(2006)57 [hep-ph/0512210].   \n",
      "#                                                                       \n",
      "# FastJet is provided without warranty under the GNU GPL v2 or higher.  \n",
      "# It uses T. Chan's closest pair algorithm, S. Fortune's Voronoi code,\n",
      "# CGAL and 3rd party plugin jet algorithms. See COPYING file for details.\n",
      "#--------------------------------------------------------------------------\n"
     ]
    }
   ],
   "source": [
    "import sys, os\n",
    "sys.path.insert(0, '')\n",
    "sys.path.append(\"/home/pku/zhaoyz/Higgs/LundReweighting\")\n",
    "from utils.LundReweighter import *\n",
    "from utils.Utils import *\n",
    "\"\"\" An example how to use the Lund Plane reweighting  code \"\"\"\n",
    "\n",
    "######################## Setup \n",
    "\n",
    "#Input file \n",
    "fname = \"/home/pku/zhaoyz/Higgs/LundReweighting/data/example_signal.h5\"\n",
    "#File containing data/MC Lund Plane ratio\n",
    "f_ratio_name = '/home/pku/zhaoyz/Higgs/LundReweighting/data/ratio_2018.root'\n",
    "\n",
    "f_sig = h5py.File(fname, \"r\")\n",
    "f_ratio = ROOT.TFile.Open(f_ratio_name)\n",
    "\n",
    "#Class to help read input dataset, \"Dataset\" class defined in Utils.py\n",
    "# d = Dataset(f_sig, dtype = 1)\n",
    "# d.compute_obs() #there may be some dedicated variables inside the .h5 file\n",
    "\n",
    "#The cut we will compute a SF for 'tau21 < 0.34'\n",
    "tag_obs = 'tau21'\n",
    "score_thresh = 0.975\n",
    "\n",
    "\n",
    "#nominal data/MC Lund plane ratio (3d histogram)\n",
    "h_ratio = f_ratio.Get(\"ratio_nom\")\n",
    "#systematic variations\n",
    "h_ratio_sys_up = f_ratio.Get(\"ratio_sys_tot_up\")\n",
    "h_ratio_sys_down = f_ratio.Get(\"ratio_sys_tot_down\")\n",
    "#MC ratio of b to light quarks\n",
    "b_light_ratio = f_ratio.Get(\"h_bl_ratio\")\n",
    "\n",
    "\n",
    "#directory of pt extrapolation fits\n",
    "f_ratio.cd('pt_extrap')\n",
    "rdir = ROOT.gDirectory #get the present working directory and give it to rdir\n",
    "\n",
    "#Main class for reweighting utilities\n",
    "LP_rw = LundReweighter(pt_extrap_dir = rdir)\n",
    "\n",
    "max_evts = H3q4q_len\n",
    "\n",
    "# score = getattr(d, tag_obs)[:max_evts]\n",
    "score_cut = ((HWWJets_tagger_score_3q4q >= 0.8) & (HWWJets_tagger_score_3q4q <= 0.975))\n",
    "# score_cut = (HWWJets_tagger_score > 0.975)\n",
    "score_cut = score_cut[:max_evts]\n",
    "\n",
    "\n",
    "#Number of toys for statistical and pt extrapolation uncertainties\n",
    "nToys = 100\n",
    "#Noise vectors used to to generate the toys\n",
    "#NOTE the same vector has to be used for the whole sample/signal file for the toys to be consistent \n",
    "rand_noise = np.random.normal(size = (nToys, h_ratio.GetNbinsX(), h_ratio.GetNbinsY(), h_ratio.GetNbinsZ()))\n",
    "pt_rand_noise = np.random.normal(size = (nToys, h_ratio.GetNbinsY(), h_ratio.GetNbinsZ(), 3))\n",
    "\n",
    "\n",
    "################### Compute reweighting factors\n",
    "\n",
    "#PF candidates in the AK8 jet\n",
    "# pf_cands = d.get_masked(\"jet1_PFCands\").astype(np.float64)[:max_evts]\n",
    "pf_cands = pf_cands_pxpypzE_4q[:max_evts]\n",
    "#Generator level quarks from hard process\n",
    "\n",
    "# gen_parts = d.get_masked('gen_info')[:max_evts]\n",
    "gen_parts_eta_phi = gen_parts_eta_phi_H3q4q_4q[:max_evts]\n",
    "# gen_parts_pdg_ids = gen_parts[:,:,3]\n",
    "\n",
    "B_PDG_ID = 5\n",
    "\n",
    "# ak8_jets = d.get_masked('jet_kinematics')[:max_evts][:,2:6].astype(np.float64)\n",
    "ak8_jets = higgs_jet_4vec_H3q4q[:max_evts]\n",
    "\n",
    "#Nominal event weights of the MC, assume every event is weight '1' for this example\n",
    "weights_nom = np.ones(max_evts)\n",
    "\n",
    "LP_weights = []\n",
    "LP_weights_sys_up = []\n",
    "LP_weights_sys_down = []\n",
    "stat_smeared_weights = []\n",
    "pt_smeared_weights = []\n",
    "b_weights_up = []\n",
    "b_weights_down = []\n",
    "bad_matches = []\n",
    "\n",
    "\n",
    "for i,cands in enumerate(pf_cands):\n",
    "    # if i == 4: break\n",
    "    # print(\"now processing:\",i)\n",
    "    #Get the subjets, splittings and checking matching based on PF candidates in the jet and gen-level quarks\n",
    "    subjets, splittings, bad_match, deltaRs = LP_rw.get_splittings_and_matching(cands, gen_parts_eta_phi[i], ak8_jets[i])\n",
    "    # print(bad_match)\n",
    "    # print(deltaRs)\n",
    "    #Gets the nominal LP reweighting factor for this event and statistical + pt extrapolation toys\n",
    "    LP_weight, stat_smeared_weight, pt_smeared_weight = LP_rw.reweight_lund_plane(h_rw = h_ratio, subjets = subjets, splittings = splittings,\n",
    "            rand_noise = rand_noise, pt_rand_noise = pt_rand_noise, )\n",
    "    #Now get systematic variations\n",
    "    LP_weight_sys_up,_,_ = LP_rw.reweight_lund_plane(h_rw = h_ratio_sys_up, subjets = subjets, splittings = splittings)\n",
    "    LP_weight_sys_down,_,_ = LP_rw.reweight_lund_plane(h_rw = h_ratio_sys_down, subjets = subjets, splittings = splittings)\n",
    "\n",
    "    LP_weights.append(LP_weight)\n",
    "    stat_smeared_weights.append(stat_smeared_weight)\n",
    "    pt_smeared_weights.append(pt_smeared_weight)\n",
    "\n",
    "    LP_weights_sys_up.append(LP_weight_sys_up)\n",
    "    LP_weights_sys_down.append(LP_weight_sys_down)\n",
    "    bad_matches.append(bad_match)\n",
    "\n",
    "\n",
    "\n",
    "############### Normalize weights to preserve normalization of the MC sample\n",
    "\n",
    "#The nominal Lund Plane correction event weights\n",
    "LP_weights = LP_rw.normalize_weights(LP_weights) * weights_nom \n",
    "\n",
    "#Toy variations for stat and pt uncertainties\n",
    "stat_smeared_weights = LP_rw.normalize_weights(stat_smeared_weights) * weights_nom.reshape(max_evts, 1)\n",
    "pt_smeared_weights = LP_rw.normalize_weights(pt_smeared_weights) * weights_nom.reshape(max_evts,1)\n",
    "\n",
    "#Systematic up/down variations\n",
    "LP_weights_sys_up = LP_rw.normalize_weights(LP_weights_sys_up) * weights_nom\n",
    "LP_weights_sys_down = LP_rw.normalize_weights(LP_weights_sys_down) * weights_nom\n",
    "\n",
    "############### Compute efficiences and uncertainties\n",
    "\n",
    "\n",
    "#Efficiency of the cut in nominal MC\n",
    "eff_nom = np.average(score_cut, weights = weights_nom) #TODO\n",
    "\n",
    "#Efficiency of the cut after the Lund Plane reweighting\n",
    "eff_rw = np.average(score_cut, weights = LP_weights)\n",
    "\n",
    "#Nominal 'scale factor'\n",
    "SF = eff_rw / eff_nom\n",
    "\n",
    "print(\"Nominal efficiency %.3f, Corrected efficiency %.3f, SF (corrected / nom) %.3f\" % (eff_nom, eff_rw, SF))\n",
    "\n",
    "#NOTE, better to use corrected efficiency computed separately for each sample rather than a single 'SF'\n",
    "\n",
    "\n",
    "#Compute efficiency for each of the stat/pt toys\n",
    "eff_toys = []\n",
    "pt_eff_toys = []\n",
    "for i in range(nToys):\n",
    "    eff = np.average(score_cut, weights = stat_smeared_weights[:,i])\n",
    "    eff_toys.append(eff)\n",
    "\n",
    "    eff1 = np.average(score_cut, weights = pt_smeared_weights[:,i])\n",
    "    pt_eff_toys.append(eff1)\n",
    "\n",
    "#Compute stat and pt uncertainty based on variation in the toys\n",
    "toys_mean = np.mean(eff_toys)\n",
    "toys_std = np.std(eff_toys)\n",
    "pt_toys_mean = np.mean(pt_eff_toys)\n",
    "pt_toys_std = np.std(pt_eff_toys)\n",
    "\n",
    "eff_stat_unc = (abs(toys_mean - eff_rw)  + toys_std) \n",
    "eff_pt_unc = (abs(pt_toys_mean - eff_rw) + pt_toys_std)\n",
    "\n",
    "print(\"Stat variation toys eff. avg %.3f, std dev %.3f\" % (toys_mean, toys_std))\n",
    "print(\"Pt variation toys eff. avg %.3f, std dev %.3f\" % (pt_toys_mean, pt_toys_std))\n",
    "\n",
    "\n",
    "#Compute difference in efficiency due to weight variations as uncertainty\n",
    "def get_uncs(score_cut, weights_up, weights_down, eff_baseline):\n",
    "    eff_up =  np.average(score_cut, weights = weights_up)\n",
    "    eff_down =  np.average(score_cut, weights = weights_down)\n",
    "\n",
    "    unc_up = eff_up - eff_baseline\n",
    "    unc_down = eff_down - eff_baseline \n",
    "    return unc_up, unc_down\n",
    "\n",
    "\n",
    "#Compute efficiency of systematic variations\n",
    "sys_unc_up, sys_unc_down = get_uncs(score_cut, LP_weights_sys_up, LP_weights_sys_down, eff_rw)\n",
    "# b_unc_up, b_unc_down = get_uncs(score_cut, b_weights_up, b_weights_down, eff_rw)\n",
    "\n",
    "\n",
    "#matching uncertainty, taken as a fractional uncertainty on efficiency\n",
    "bad_match_frac = np.mean(bad_matches)\n",
    "bad_match_unc = bad_match_frac * eff_rw\n",
    "\n",
    "\n",
    "############ Results\n",
    "print(\"\\n\\nCalibrated efficiency  is %.3f +/- %.3f  (stat) +/- %.3f (pt) +/- %.3f/%.3f (sys)+/- %.3f (matching)  \\n\\n\"  % \n",
    "        (eff_rw, eff_stat_unc, eff_pt_unc, sys_unc_up, sys_unc_down, bad_match_unc))\n",
    "\n",
    "#next compute the uncertainty about SFs\n",
    "\n",
    "#Efficiency of the cut in nominal MC\n",
    "eff_nom = np.average(score_cut, weights = weights_nom) #TODO\n",
    "\n",
    "#Efficiency of the cut after the Lund Plane reweighting\n",
    "eff_rw = np.average(score_cut, weights = LP_weights)\n",
    "\n",
    "#Nominal 'scale factor'\n",
    "print(\"Now perform SFs information\")\n",
    "SF = eff_rw / eff_nom\n",
    "\n",
    "print(\"SF (corrected / nom) %.3f\" % (SF))\n",
    "\n",
    "#propagate statistical and pt extrapolation uncertainties to SF\n",
    "SF_stat_unc = (abs(toys_mean - eff_rw)  + toys_std) /eff_nom\n",
    "SF_pt_unc = (abs(pt_toys_mean - eff_rw) + pt_toys_std) /eff_nom\n",
    "\n",
    "#propagate systemetic uncertainty to SF\n",
    "eff_sys_up =  np.average(score_cut, weights = LP_weights_sys_up)\n",
    "eff_sys_down =  np.average(score_cut, weights = LP_weights_sys_down)\n",
    "\n",
    "sys_unc_up = abs(eff_rw - eff_sys_up)\n",
    "sys_unc_down = abs(eff_rw - eff_sys_down)\n",
    "\n",
    "SF_sys_unc_up = sys_unc_up/eff_nom\n",
    "SF_sys_unc_down = sys_unc_down/eff_nom\n",
    "\n",
    "#calculate bad matching uncertainty directly\n",
    "SF_match_unc = bad_match_frac * SF\n",
    "\n",
    "print(\"\\n\\nSF is %.3f +/-%.3f(stat) +/-%.3f(pt) +%.3f/-%.3f(sys) +/-%.3f(match) \\n\\n\"  % (SF, SF_stat_unc, SF_pt_unc, sys_unc_up, sys_unc_down, SF_match_unc))\n",
    "f_ratio.Close()\n"
   ]
  },
  {
   "cell_type": "markdown",
   "metadata": {},
   "source": [
    "### Plot the tagger distribution about H3q4q jet"
   ]
  },
  {
   "cell_type": "code",
   "execution_count": 42,
   "metadata": {},
   "outputs": [
    {
     "data": {
      "image/png": "[encoded data removed]",
      "text/plain": [
       "<Figure size 1000x1000 with 1 Axes>"
      ]
     },
     "metadata": {},
     "output_type": "display_data"
    }
   ],
   "source": [
    "import matplotlib as mpl\n",
    "import matplotlib.pyplot as plt\n",
    "import mplhep as hep\n",
    "import boost_histogram as bh\n",
    "from cycler import cycler\n",
    "max_evts = H3q4q_len\n",
    "#implement CMS plot style functions\n",
    "use_helvet = False ## true: use helvetica for plots, make sure the system have the font installed\n",
    "if use_helvet:\n",
    "    CMShelvet = hep.style.CMS\n",
    "    CMShelvet['font.sans-serif'] = ['Helvetica', 'Arial']\n",
    "    plt.style.use(CMShelvet)\n",
    "else:\n",
    "    plt.style.use(hep.style.CMS)\n",
    "\n",
    "plt.figure(figsize=(10,10))\n",
    "ax=plt.gca()\n",
    "plt.grid()\n",
    "hep.cms.label(data=False, year=\"2018\", ax=ax, fontname='sans-serif')\n",
    "%matplotlib inline\n",
    "#step1: plot \n",
    "\n",
    "# plt.hist(eventsEventsID3Prongs4Prongs['HqqqqVsQcdTop'], bins=20, range=(0,1), histtype='step', label='before reweighting',density=True);\n",
    "# plt.hist(eventsEventsID3Prongs4Prongs['HqqqqVsQcdTop'], bins=20, range=(0,1), histtype='step', label='after reweighting', weights=eventsEventsID3Prongs4Prongs[\"LP_weight\"],density=True);\n",
    "nbins, x_min, x_max = 20, 0, 1.0\n",
    "hist_before = bh.Histogram(bh.axis.Regular(nbins, x_min, x_max), storage=bh.storage.Weight())\n",
    "hist_before.fill(HWWJets_tagger_score_3q4q[:max_evts])\n",
    "hist_before_value = hist_before.view().value\n",
    "hist_before_err = np.sqrt(hist_before.view().variance)\n",
    "hist_after = bh.Histogram(bh.axis.Regular(nbins, x_min, x_max), storage=bh.storage.Weight())\n",
    "hist_after.fill(HWWJets_tagger_score_3q4q[:max_evts],weight=LP_weights[:max_evts])\n",
    "hist_after_value = hist_after.view().value\n",
    "hist_after_err = np.sqrt(hist_after.view().variance)\n",
    "bins = hist_before.axes[0].edges\n",
    "\n",
    "\n",
    "hep.histplot(hist_before_value,    bins=bins, yerr=hist_before_err, label= 'before Lund Plane reweighting', lw = 2,edges = False, histtype=\"step\")\n",
    "hep.histplot(hist_after_value,     bins=bins, yerr=hist_after_err,  label= 'after Lund Plane reweighting', lw = 2,edges = False, histtype=\"step\")\n",
    "\n",
    "\n",
    "plt.legend(loc='upper left',frameon=False,fontsize=20)\n",
    "y_min,y_max = plt.gca().get_ylim()\n",
    "plt.text(0.08, 0.83*y_max, \"ggF, only for H3q4q\", fontsize=20)\n",
    "# plt.xlabel(r'$H_{qqqq} / (H_{qqqq} + QCD + Top)$')\n",
    "plt.xlabel(r'HWWvs(all background) tagger score', fontsize=20, ha='right', x=1)\n",
    "plt.ylabel('Events(No xs-weighted)',fontsize=20, ha='right', y=1)\n",
    "plt.savefig(f\"TaggerDistribution_2018_ggF_H4q3q_all.pdf\", bbox_inches='tight')\n",
    "plt.xticks(size=14)\n",
    "plt.yticks(size=14)\n",
    "plt.show()\n"
   ]
  },
  {
   "cell_type": "markdown",
   "metadata": {},
   "source": [
    "## Next part is to re-calculate all the steps but focus on Hlvqq jet"
   ]
  },
  {
   "cell_type": "code",
   "execution_count": 43,
   "metadata": {},
   "outputs": [
    {
     "data": {
      "text/plain": [
       "<NanoEventsArray [<event 1:271:270008>, ... ] type='27191 * event'>"
      ]
     },
     "execution_count": 43,
     "metadata": {},
     "output_type": "execute_result"
    }
   ],
   "source": [
    "#start from here, have done all pre-selection, as well as H-->WW decay selection\n",
    "filtered_events"
   ]
  },
  {
   "cell_type": "code",
   "execution_count": 44,
   "metadata": {},
   "outputs": [],
   "source": [
    "#Then do other test:\n",
    "selection = PackedSelection() #initialize a new object\n",
    "isData = False\n",
    "signGenWeights = None if isData else np.sign(filtered_events[\"genWeight\"]) #get genWeight sign, because only the sign matters\n",
    "n_events = len(filtered_events) if isData else int(np.sum(signGenWeights)) #events number for MC events should be the sum of \"sign\"\n",
    "selection = PackedSelection() #initialize a new object\n",
    "\n",
    "cutflow = {}\n",
    "# cutflow[\"all\"] = len(events) #shouldn't be n_events?\n",
    "cutflow[\"all\"] = n_events\n",
    "# finding the gen higgs\n",
    "higgs = filtered_events.GenPart[\n",
    "    (abs(filtered_events.GenPart.pdgId) == HIGGS_PDGID) * filtered_events.GenPart.hasFlags(GEN_FLAGS)\n",
    "]\n",
    "# saving 4-vector info\n",
    "GenHiggsVars = {f\"GenHiggs{key}\": higgs[var].to_numpy() for (var, key) in skim_vars.items()}\n",
    "\n",
    "higgs_children = higgs.children\n",
    "\n",
    "# saving whether H->bb or H->VV\n",
    "GenHiggsVars[\"GenHiggsChildren\"] = abs(higgs_children.pdgId[:, :, 0]).to_numpy()\n",
    "\n",
    "# finding WW children\n",
    "is_WW = abs(higgs_children.pdgId) == W_PDGID\n",
    "\n",
    "# Hbb = higgs[ak.sum(is_bb, axis=2) == 2]\n",
    "HWW = higgs[ak.sum(is_WW, axis=2) == 2]\n",
    "\n",
    "# checking that there are 2 b's and 2 V's\n",
    "has_WW = ak.sum(ak.flatten(is_WW, axis=2), axis=1) == 2\n",
    "\n",
    "add_selection(\n",
    "    \"HtoWW\",\n",
    "    has_WW, \n",
    "    selection, \n",
    "    cutflow, \n",
    "    False, \n",
    "    signGenWeights)\n",
    "# print(selection_all_q)\n",
    "\n",
    "\n",
    "\n",
    "# saving WW 4-vector info\n",
    "WW = ak.flatten(higgs_children[is_WW], axis=2)\n",
    "\n",
    "#for normal ggF, VBF HWW signal\n",
    "GenWWVars = {\n",
    "    f\"GenWW{key}\": WW[var].to_numpy() for (var, key) in skim_vars.items()\n",
    "    }\n",
    "\n",
    "#for ttHnonbb HWW signal, because there may not be H-->WW events\n",
    "# GenWWVars = {\n",
    "#     f\"GenWW{key}\": pad_val(WW[var], 2, FILL_NONE_VALUE, axis=1) for (var, key) in skim_vars.items()\n",
    "#     }\n",
    "\n",
    "# checking that each W has 2 q children, so finally the HWW jet will be H4q or H3q jet\n",
    "WW_children = WW.children\n",
    "\n",
    "quarks = abs(WW_children.pdgId) <= b_PDGID #get all the 2 Ws daughter PDGID <=5 information\n",
    "leptons = abs(WW_children.pdgId) >= ELE_PDGID\n",
    "\n",
    "selection_all_q = ak.all(ak.all(quarks, axis=2), axis=1) #check if all the children of 2 Ws are quarks or not\n",
    "selection_all_lep = ak.all(ak.all(leptons, axis=2), axis=1)\n",
    "\n"
   ]
  },
  {
   "cell_type": "code",
   "execution_count": 45,
   "metadata": {},
   "outputs": [],
   "source": [
    "selection_semilep = (~selection_all_q) & (~selection_all_lep)"
   ]
  },
  {
   "cell_type": "code",
   "execution_count": 46,
   "metadata": {},
   "outputs": [],
   "source": [
    "add_selection(\n",
    "    \"WW decays to lvqq\",\n",
    "    selection_semilep, \n",
    "    selection, \n",
    "    cutflow, \n",
    "    False, \n",
    "    signGenWeights)\n",
    "# print(selection_all_q)"
   ]
  },
  {
   "cell_type": "code",
   "execution_count": 47,
   "metadata": {},
   "outputs": [
    {
     "data": {
      "text/plain": [
       "{'all': 27185, 'HtoWW': 27185.0, 'WW decays to lvqq': 5930.0}"
      ]
     },
     "execution_count": 47,
     "metadata": {},
     "output_type": "execute_result"
    }
   ],
   "source": [
    "cutflow"
   ]
  },
  {
   "cell_type": "markdown",
   "metadata": {},
   "source": [
    "### store the PFCands, GenEtaPhi, Higgs candidate AK8 jet 4-vector information for Lund Plane use"
   ]
  },
  {
   "cell_type": "code",
   "execution_count": 48,
   "metadata": {},
   "outputs": [
    {
     "data": {
      "text/plain": [
       "<NanoEventsArray [<event 1:271:270052>, ... ] type='5930 * event'>"
      ]
     },
     "execution_count": 48,
     "metadata": {},
     "output_type": "execute_result"
    }
   ],
   "source": [
    "events_after_cut = filtered_events[selection.all(*selection.names)]\n",
    "events_after_cut"
   ]
  },
  {
   "cell_type": "code",
   "execution_count": 49,
   "metadata": {},
   "outputs": [],
   "source": [
    "#find the Higgs jet idx, dR(gen_Higgs, jet)<0.8 & dR(gen_W_1, jet)<0.8 & dR(gen_W_2, jet)<0.8\n",
    "\n",
    "#collect gen-Higgs information\n",
    "higgs = events_after_cut.GenPart[\n",
    "    (abs(events_after_cut.GenPart.pdgId) == HIGGS_PDGID) * events_after_cut.GenPart.hasFlags(GEN_FLAGS)\n",
    "]\n",
    "GenHiggsVars = {\n",
    "    f\"GenHiggs{key}\": higgs[var].to_numpy() for (var, key) in skim_vars.items()\n",
    "    }\n",
    "higgs_children = higgs.children\n",
    "\n",
    "# collect gen-Higgs children WW information, may not be used, since only Higgs information is needed for the matching\n",
    "is_WW = abs(higgs_children.pdgId) == W_PDGID\n",
    "WW = ak.flatten(higgs_children[is_WW], axis=2)\n",
    "\n",
    "GenWWVars = {\n",
    "    # f\"GenWW{key}\": WW[var].to_numpy() for (var, key) in skim_vars.items()\n",
    "    f\"GenWW{key}\": pad_val(WW[var], 2, FILL_NONE_VALUE, axis=1) for (var, key) in skim_vars.items()\n",
    "    }\n",
    "GenW1Vars = {\n",
    "    # f\"GenWW{key}\": WW[var][:,0].to_numpy() for (var, key) in skim_vars.items()\n",
    "    f\"GenWW{key}\": pad_val(WW[var], 2, FILL_NONE_VALUE, axis=1)[:,0] for (var, key) in skim_vars.items()\n",
    "    }\n",
    "GenW2Vars = {\n",
    "    # f\"GenWW{key}\": WW[var][:,1].to_numpy() for (var, key) in skim_vars.items()\n",
    "    f\"GenWW{key}\": pad_val(WW[var], 2, FILL_NONE_VALUE, axis=1)[:,1] for (var, key) in skim_vars.items()\n",
    "    }\n",
    "\n",
    "#collect FatJet information\n",
    "fatjets = events_after_cut.FatJet\n",
    "HWW = ak.pad_none(higgs, 1, axis=1, clip=True)[:, 0] #because it's a 2D array\n",
    "WWdr = fatjets[:, :3].delta_r(HWW) #here use 3 because we have up to 3 AK8 jets, use ak.max(ak.num(WWdr,axis = 1)) for test\n",
    "match_dR = 0.8\n",
    "HWW_match = WWdr <= match_dR #FatJetIdx in each event, which is real HWW jet\n",
    "HWWJets = ak.pad_none(fatjets[HWW_match], 1, axis=1)[:, 0] #There can be None object in HWWJets array\n",
    "#tie [pt, eta, phi, mass] together, get new arrary\n",
    "\n",
    "\n"
   ]
  },
  {
   "cell_type": "code",
   "execution_count": 50,
   "metadata": {},
   "outputs": [
    {
     "data": {
      "text/plain": [
       "array([ True,  True,  True, ...,  True,  True,  True])"
      ]
     },
     "execution_count": 50,
     "metadata": {},
     "output_type": "execute_result"
    }
   ],
   "source": [
    "filled_pt = pad_val(HWWJets.pt,len(HWWJets.pt),-99)\n",
    "selection_has_HWWjet = filled_pt > 0\n",
    "selection_has_HWWjet"
   ]
  },
  {
   "cell_type": "code",
   "execution_count": 51,
   "metadata": {},
   "outputs": [
    {
     "data": {
      "text/plain": [
       "<NanoEventsArray [<event 1:271:270052>, ... ] type='5366 * event'>"
      ]
     },
     "execution_count": 51,
     "metadata": {},
     "output_type": "execute_result"
    }
   ],
   "source": [
    "events_final = events_after_cut[selection_has_HWWjet]\n",
    "len(events_final)\n",
    "events_final"
   ]
  },
  {
   "cell_type": "markdown",
   "metadata": {},
   "source": [
    "### Do it again after the final cut"
   ]
  },
  {
   "cell_type": "code",
   "execution_count": 52,
   "metadata": {},
   "outputs": [
    {
     "name": "stdout",
     "output_type": "stream",
     "text": [
      "[[[True, True], [False, False]], [[False, ... True]], [[True, True], [False, False]]]\n"
     ]
    },
    {
     "data": {
      "text/plain": [
       "5366"
      ]
     },
     "execution_count": 52,
     "metadata": {},
     "output_type": "execute_result"
    }
   ],
   "source": [
    "#find the Higgs jet idx, dR(gen_Higgs, jet)<0.8 & dR(gen_W_1, jet)<0.8 & dR(gen_W_2, jet)<0.8\n",
    "\n",
    "#collect gen-Higgs information\n",
    "higgs = events_final.GenPart[\n",
    "    (abs(events_final.GenPart.pdgId) == HIGGS_PDGID) * events_final.GenPart.hasFlags(GEN_FLAGS)\n",
    "]\n",
    "GenHiggsVars = {\n",
    "    f\"GenHiggs{key}\": higgs[var].to_numpy() for (var, key) in skim_vars.items()\n",
    "    }\n",
    "higgs_children = higgs.children\n",
    "\n",
    "# collect gen-Higgs children WW information, may not be used, since only Higgs information is needed for the matching\n",
    "is_WW = abs(higgs_children.pdgId) == W_PDGID\n",
    "WW = ak.flatten(higgs_children[is_WW], axis=2)\n",
    "\n",
    "GenWWVars = {\n",
    "    f\"GenWW{key}\": WW[var].to_numpy() for (var, key) in skim_vars.items()\n",
    "    }\n",
    "GenW1Vars = {\n",
    "    f\"GenWW{key}\": WW[var][:,0].to_numpy() for (var, key) in skim_vars.items()\n",
    "    }\n",
    "GenW2Vars = {\n",
    "    f\"GenWW{key}\": WW[var][:,1].to_numpy() for (var, key) in skim_vars.items()\n",
    "    }\n",
    "\n",
    "#collect FatJet information\n",
    "fatjets = events_final.FatJet\n",
    "HWW = ak.pad_none(higgs, 1, axis=1, clip=True)[:, 0] #because it's a 2D array\n",
    "WWdr = fatjets[:, :3].delta_r(HWW) #here use 3 because we have up to 3 AK8 jets, use ak.max(ak.num(WWdr,axis = 1)) for test\n",
    "match_dR = 0.8\n",
    "HWW_match = WWdr <= match_dR #FatJetIdx in each event, which is real HWW jet\n",
    "HWWJets = ak.pad_none(fatjets[HWW_match], 1, axis=1)[:, 0] #There can be None object in HWWJets array\n",
    "#tie [pt, eta, phi, mass] together, get new arrary\n",
    "\n",
    "\n",
    "WW_children = WW.children\n",
    "\n",
    "quarks = abs(WW_children.pdgId) <= b_PDGID #get all the 2 Ws daughter PDGID <=5 information\n",
    "print(quarks)\n",
    "\n",
    "# saving 4q 4-vector info\n",
    "Gen4qVars = {\n",
    "    f\"Gen4q{key}\": ak.to_numpy(\n",
    "        ak.fill_none(\n",
    "            ak.pad_none(ak.pad_none(WW_children[var], 2, axis=1, clip=True), 2, axis=2, clip=True),\n",
    "            FILL_NONE_VALUE,\n",
    "        )\n",
    "    )\n",
    "    for (var, key) in skim_vars.items()\n",
    "}\n",
    "len(Gen4qVars[\"Gen4qPt\"])"
   ]
  },
  {
   "cell_type": "code",
   "execution_count": 53,
   "metadata": {},
   "outputs": [],
   "source": [
    "had_w_sel = np.all(np.abs(WW_children.pdgId) <= 5 , axis =2 )\n",
    "had_ws = ak.flatten(WW[had_w_sel])\n",
    "had_ws_children = had_ws.children"
   ]
  },
  {
   "cell_type": "code",
   "execution_count": 54,
   "metadata": {},
   "outputs": [],
   "source": [
    "sel_norm = ~np.all((~had_w_sel),axis =1 )\n"
   ]
  },
  {
   "cell_type": "code",
   "execution_count": 55,
   "metadata": {},
   "outputs": [
    {
     "data": {
      "text/plain": [
       "<Array [True, True, True, ... True, True, True] type='5366 * bool'>"
      ]
     },
     "execution_count": 55,
     "metadata": {},
     "output_type": "execute_result"
    }
   ],
   "source": [
    "sel_norm"
   ]
  },
  {
   "cell_type": "markdown",
   "metadata": {},
   "source": [
    "### Some strange bugs occur, so do it again:"
   ]
  },
  {
   "cell_type": "code",
   "execution_count": 56,
   "metadata": {},
   "outputs": [
    {
     "data": {
      "text/plain": [
       "5365"
      ]
     },
     "execution_count": 56,
     "metadata": {},
     "output_type": "execute_result"
    }
   ],
   "source": [
    "events_final = events_final[sel_norm]\n",
    "len(events_final)\n"
   ]
  },
  {
   "cell_type": "code",
   "execution_count": 57,
   "metadata": {},
   "outputs": [
    {
     "name": "stdout",
     "output_type": "stream",
     "text": [
      "[[[True, True], [False, False]], [[False, ... True]], [[True, True], [False, False]]]\n"
     ]
    },
    {
     "data": {
      "text/plain": [
       "5365"
      ]
     },
     "execution_count": 57,
     "metadata": {},
     "output_type": "execute_result"
    }
   ],
   "source": [
    "#find the Higgs jet idx, dR(gen_Higgs, jet)<0.8 & dR(gen_W_1, jet)<0.8 & dR(gen_W_2, jet)<0.8\n",
    "\n",
    "#collect gen-Higgs information\n",
    "higgs = events_final.GenPart[\n",
    "    (abs(events_final.GenPart.pdgId) == HIGGS_PDGID) * events_final.GenPart.hasFlags(GEN_FLAGS)\n",
    "]\n",
    "GenHiggsVars = {\n",
    "    f\"GenHiggs{key}\": higgs[var].to_numpy() for (var, key) in skim_vars.items()\n",
    "    }\n",
    "higgs_children = higgs.children\n",
    "\n",
    "# collect gen-Higgs children WW information, may not be used, since only Higgs information is needed for the matching\n",
    "is_WW = abs(higgs_children.pdgId) == W_PDGID\n",
    "WW = ak.flatten(higgs_children[is_WW], axis=2)\n",
    "\n",
    "GenWWVars = {\n",
    "    f\"GenWW{key}\": WW[var].to_numpy() for (var, key) in skim_vars.items()\n",
    "    }\n",
    "GenW1Vars = {\n",
    "    f\"GenWW{key}\": WW[var][:,0].to_numpy() for (var, key) in skim_vars.items()\n",
    "    }\n",
    "GenW2Vars = {\n",
    "    f\"GenWW{key}\": WW[var][:,1].to_numpy() for (var, key) in skim_vars.items()\n",
    "    }\n",
    "\n",
    "#collect FatJet information\n",
    "fatjets = events_final.FatJet\n",
    "HWW = ak.pad_none(higgs, 1, axis=1, clip=True)[:, 0] #because it's a 2D array\n",
    "WWdr = fatjets[:, :3].delta_r(HWW) #here use 3 because we have up to 3 AK8 jets, use ak.max(ak.num(WWdr,axis = 1)) for test\n",
    "match_dR = 0.8\n",
    "HWW_match = WWdr <= match_dR #FatJetIdx in each event, which is real HWW jet\n",
    "HWWJets = ak.pad_none(fatjets[HWW_match], 1, axis=1)[:, 0] #There can be None object in HWWJets array\n",
    "#tie [pt, eta, phi, mass] together, get new arrary\n",
    "\n",
    "\n",
    "WW_children = WW.children\n",
    "\n",
    "quarks = abs(WW_children.pdgId) <= b_PDGID #get all the 2 Ws daughter PDGID <=5 information\n",
    "print(quarks)\n",
    "\n",
    "# saving 4q 4-vector info\n",
    "Gen4qVars = {\n",
    "    f\"Gen4q{key}\": ak.to_numpy(\n",
    "        ak.fill_none(\n",
    "            ak.pad_none(ak.pad_none(WW_children[var], 2, axis=1, clip=True), 2, axis=2, clip=True),\n",
    "            FILL_NONE_VALUE,\n",
    "        )\n",
    "    )\n",
    "    for (var, key) in skim_vars.items()\n",
    "}\n",
    "len(Gen4qVars[\"Gen4qPt\"])"
   ]
  },
  {
   "cell_type": "markdown",
   "metadata": {},
   "source": [
    "### Now it's normal"
   ]
  },
  {
   "cell_type": "code",
   "execution_count": 58,
   "metadata": {},
   "outputs": [],
   "source": [
    "had_w_sel = np.all(np.abs(WW_children.pdgId) <= 5 , axis =2 )\n",
    "had_ws = ak.flatten(WW[had_w_sel])\n",
    "had_ws_children = had_ws.children"
   ]
  },
  {
   "cell_type": "code",
   "execution_count": 59,
   "metadata": {},
   "outputs": [],
   "source": [
    "lep_w_sel = np.all(np.abs(WW_children.pdgId) > 10 , axis =2 )\n",
    "lep_ws = ak.flatten(WW[lep_w_sel])\n",
    "lep_ws_children = lep_ws.children"
   ]
  },
  {
   "cell_type": "code",
   "execution_count": 60,
   "metadata": {},
   "outputs": [
    {
     "data": {
      "text/plain": [
       "<Array [[-3, 2], [3, -4], ... [3, -4], [-1, 2]] type='5365 * option[var * ?int32...'>"
      ]
     },
     "execution_count": 60,
     "metadata": {},
     "output_type": "execute_result"
    }
   ],
   "source": [
    "had_ws_children.pdgId"
   ]
  },
  {
   "cell_type": "code",
   "execution_count": 61,
   "metadata": {},
   "outputs": [
    {
     "data": {
      "text/plain": [
       "<Array [[11, -12], [-15, ... 16], [15, -16]] type='5365 * option[var * ?int32[pa...'>"
      ]
     },
     "execution_count": 61,
     "metadata": {},
     "output_type": "execute_result"
    }
   ],
   "source": [
    "lep_ws_children.pdgId"
   ]
  },
  {
   "cell_type": "code",
   "execution_count": 62,
   "metadata": {},
   "outputs": [
    {
     "data": {
      "text/plain": [
       "5365"
      ]
     },
     "execution_count": 62,
     "metadata": {},
     "output_type": "execute_result"
    }
   ],
   "source": [
    "Gen2qVars = {\n",
    "    f\"Gen2q{key}\": ak.to_numpy(\n",
    "        ak.fill_none(\n",
    "            ak.pad_none(had_ws_children[var], 2, axis=1, clip=True),\n",
    "            FILL_NONE_VALUE,\n",
    "        )\n",
    "    )\n",
    "    for (var, key) in skim_vars.items()\n",
    "}\n",
    "len(Gen2qVars[\"Gen2qPt\"])\n",
    "\n"
   ]
  },
  {
   "cell_type": "code",
   "execution_count": 63,
   "metadata": {},
   "outputs": [
    {
     "data": {
      "text/plain": [
       "5365"
      ]
     },
     "execution_count": 63,
     "metadata": {},
     "output_type": "execute_result"
    }
   ],
   "source": [
    "GenlepVars = {\n",
    "    f\"Genlep{key}\": ak.to_numpy(\n",
    "        lep_ws_children[:,0][var])\n",
    "    for (var, key) in skim_vars.items()\n",
    "}\n",
    "len(GenlepVars[\"GenlepPt\"])"
   ]
  },
  {
   "cell_type": "markdown",
   "metadata": {},
   "source": [
    "### four vector for HWW jet"
   ]
  },
  {
   "cell_type": "code",
   "execution_count": 64,
   "metadata": {},
   "outputs": [
    {
     "data": {
      "text/plain": [
       "array([6.0300000e+02, 3.2922363e-01, 1.0476074e+00, 1.2781250e+02],\n",
       "      dtype=float32)"
      ]
     },
     "execution_count": 64,
     "metadata": {},
     "output_type": "execute_result"
    }
   ],
   "source": [
    "# four vector for HWW jet\n",
    "higgs_jet_4vec_Hlvqq = np.array(np.stack((np.array(HWWJets.pt), np.array(HWWJets.eta),np.array(HWWJets.phi),np.array(HWWJets.mass)), axis=1))\n",
    "higgs_jet_4vec_Hlvqq[1]"
   ]
  },
  {
   "cell_type": "code",
   "execution_count": 65,
   "metadata": {},
   "outputs": [
    {
     "data": {
      "text/plain": [
       "5365"
      ]
     },
     "execution_count": 65,
     "metadata": {},
     "output_type": "execute_result"
    }
   ],
   "source": [
    "len(higgs_jet_4vec_Hlvqq)"
   ]
  },
  {
   "cell_type": "markdown",
   "metadata": {},
   "source": [
    "### Next for eta-phi for 4 quarks"
   ]
  },
  {
   "cell_type": "code",
   "execution_count": 66,
   "metadata": {},
   "outputs": [],
   "source": [
    "#prepare eta, phi array only for 2q, used for Lund Plane reweighting\n",
    "#since it only takes quarks gen-level 4-vector as input\n",
    "eta_2q = Gen2qVars[\"Gen2qEta\"]\n",
    "phi_2q = Gen2qVars[\"Gen2qPhi\"]\n",
    "gen_parts_eta_phi_Hlvqq_2q = np.array(np.dstack((eta_2q,phi_2q)))"
   ]
  },
  {
   "cell_type": "code",
   "execution_count": 67,
   "metadata": {},
   "outputs": [
    {
     "data": {
      "text/plain": [
       "masked_array(\n",
       "  data=[[ 0.0559082 , -0.12548828],\n",
       "        [ 0.20410156,  0.30175781],\n",
       "        [-0.50390625, -0.54882812],\n",
       "        ...,\n",
       "        [ 0.56640625,  0.31835938],\n",
       "        [-0.23339844, -0.45019531],\n",
       "        [ 1.125     ,  0.78320312]],\n",
       "  mask=False,\n",
       "  fill_value=1e+20)"
      ]
     },
     "execution_count": 67,
     "metadata": {},
     "output_type": "execute_result"
    }
   ],
   "source": [
    "eta_2q"
   ]
  },
  {
   "cell_type": "code",
   "execution_count": 68,
   "metadata": {},
   "outputs": [],
   "source": [
    "#prepare eta, phi array for 2q + lep, to do gen-matching of the jet\n",
    "eta = np.concatenate([Gen2qVars[\"Gen2qEta\"], GenlepVars[\"GenlepEta\"][:, np.newaxis]], axis=1)\n",
    "phi = np.concatenate([Gen2qVars[\"Gen2qPhi\"], GenlepVars[\"GenlepPhi\"][:, np.newaxis]], axis=1)"
   ]
  },
  {
   "cell_type": "code",
   "execution_count": 69,
   "metadata": {},
   "outputs": [],
   "source": [
    "gen_parts_eta_phi_HWW = np.array(np.dstack((eta,phi)))"
   ]
  },
  {
   "cell_type": "code",
   "execution_count": 70,
   "metadata": {},
   "outputs": [],
   "source": [
    "result_lvqq = count_quarks_in_jets(higgs_jet_4vec_Hlvqq, gen_parts_eta_phi_HWW)"
   ]
  },
  {
   "cell_type": "code",
   "execution_count": 71,
   "metadata": {},
   "outputs": [],
   "source": [
    "Hlvqq_cut = (result_lvqq >= 3)"
   ]
  },
  {
   "cell_type": "code",
   "execution_count": 72,
   "metadata": {},
   "outputs": [
    {
     "data": {
      "text/plain": [
       "3532"
      ]
     },
     "execution_count": 72,
     "metadata": {},
     "output_type": "execute_result"
    }
   ],
   "source": [
    "np.sum(Hlvqq_cut)"
   ]
  },
  {
   "cell_type": "markdown",
   "metadata": {},
   "source": [
    "### Get FatJetPFCands 4-vector, up to 150 length to suit the input of Oz's function"
   ]
  },
  {
   "cell_type": "code",
   "execution_count": 73,
   "metadata": {},
   "outputs": [],
   "source": [
    "# first get the jet_idx HWW jet, each event has one jet_idx\n",
    "HWW_match = WWdr <= match_dR #FatJetIdx in each event, which is real HWW jet\n",
    "HWW_match_padded = pad_val(HWW_match,3,False,1,True) #pad the array with False value\n",
    "HWW_jet_idx = np.argmax(HWW_match_padded,axis = 1) #the jet index in each jet which is true HWW jet\n",
    "# then get all the FatJetPFCands according to the jet_idx, and get PF_idx\n",
    "HWW_FatJetPFCands = (events_final.FatJetPFCands.jetIdx == HWW_jet_idx)\n",
    "HWW_FatJetPFCands_pFCandsIdx = events_final.FatJetPFCands.pFCandsIdx[HWW_FatJetPFCands]\n",
    "# at last, get PFCands 4-vector according to the PF_idx in last step\n"
   ]
  },
  {
   "cell_type": "code",
   "execution_count": 74,
   "metadata": {},
   "outputs": [],
   "source": [
    "pt_array =   ak.Array(events_final.PFCands.pt)\n",
    "eta_array =  ak.Array(events_final.PFCands.eta)\n",
    "phi_array =  ak.Array(events_final.PFCands.phi)\n",
    "mass_array = ak.Array(events_final.PFCands.mass)"
   ]
  },
  {
   "cell_type": "markdown",
   "metadata": {},
   "source": [
    "### Need to clean PFCands with dR(l,pf)<0.2"
   ]
  },
  {
   "cell_type": "code",
   "execution_count": 75,
   "metadata": {},
   "outputs": [],
   "source": [
    "lep_eta = GenlepVars[\"GenlepEta\"]\n",
    "lep_phi = GenlepVars[\"GenlepPhi\"]"
   ]
  },
  {
   "cell_type": "code",
   "execution_count": 76,
   "metadata": {},
   "outputs": [
    {
     "data": {
      "text/plain": [
       "masked_array(data=[-0.01495361,  0.69921875, -1.015625  , ...,\n",
       "                    0.42382812, -0.8730469 ,  0.56640625],\n",
       "             mask=False,\n",
       "       fill_value=1e+20,\n",
       "            dtype=float32)"
      ]
     },
     "execution_count": 76,
     "metadata": {},
     "output_type": "execute_result"
    }
   ],
   "source": [
    "lep_eta"
   ]
  },
  {
   "cell_type": "code",
   "execution_count": 77,
   "metadata": {},
   "outputs": [],
   "source": [
    "#this is because the length of PFCands can be up to 409, so we pad to target = 500\n",
    "pf_eta = pad_val(eta_array, target = 500, axis = 1, value = 0)\n",
    "pf_phi = pad_val(phi_array, target = 500, axis = 1, value = 0)\n",
    "pf_pt = pad_val(pt_array, target = 500, axis = 1, value = 0)\n",
    "pf_mass = pad_val(mass_array, target = 500, axis = 1, value = 0)"
   ]
  },
  {
   "cell_type": "code",
   "execution_count": 78,
   "metadata": {},
   "outputs": [],
   "source": [
    "lep_eta_reshaped = lep_eta.reshape(-1,1)"
   ]
  },
  {
   "cell_type": "code",
   "execution_count": 79,
   "metadata": {},
   "outputs": [
    {
     "data": {
      "text/plain": [
       "masked_array(\n",
       "  data=[[-0.01495361],\n",
       "        [ 0.69921875],\n",
       "        [-1.015625  ],\n",
       "        ...,\n",
       "        [ 0.42382812],\n",
       "        [-0.8730469 ],\n",
       "        [ 0.56640625]],\n",
       "  mask=False,\n",
       "  fill_value=1e+20,\n",
       "  dtype=float32)"
      ]
     },
     "execution_count": 79,
     "metadata": {},
     "output_type": "execute_result"
    }
   ],
   "source": [
    "lep_eta_reshaped"
   ]
  },
  {
   "cell_type": "code",
   "execution_count": 80,
   "metadata": {},
   "outputs": [],
   "source": [
    "lep_phi_reshaped = lep_phi.reshape(-1,1)"
   ]
  },
  {
   "cell_type": "code",
   "execution_count": 81,
   "metadata": {},
   "outputs": [],
   "source": [
    "delta_eta = lep_eta_reshaped - pf_eta\n",
    "delta_phi = lep_phi_reshaped - pf_phi"
   ]
  },
  {
   "cell_type": "code",
   "execution_count": 82,
   "metadata": {},
   "outputs": [],
   "source": [
    "delta_r = np.sqrt(delta_eta**2 + delta_phi**2)"
   ]
  },
  {
   "cell_type": "code",
   "execution_count": 83,
   "metadata": {},
   "outputs": [],
   "source": [
    "pf_eta_rm_lep = np.copy(pf_eta)\n",
    "pf_phi_rm_lep = np.copy(pf_phi)\n",
    "pf_pt_rm_lep = np.copy(pf_pt)\n",
    "pf_mass_rm_lep = np.copy(pf_mass)"
   ]
  },
  {
   "cell_type": "code",
   "execution_count": 84,
   "metadata": {},
   "outputs": [],
   "source": [
    "pf_eta_rm_lep[delta_r<0.2] = 0.0\n",
    "pf_phi_rm_lep[delta_r<0.2] = 0.0\n",
    "pf_pt_rm_lep[delta_r<0.2] = 0.0\n",
    "pf_mass_rm_lep[delta_r<0.2] = 0.0"
   ]
  },
  {
   "cell_type": "code",
   "execution_count": 85,
   "metadata": {},
   "outputs": [
    {
     "data": {
      "text/plain": [
       "409"
      ]
     },
     "execution_count": 85,
     "metadata": {},
     "output_type": "execute_result"
    }
   ],
   "source": [
    "np.max(HWW_FatJetPFCands_pFCandsIdx)"
   ]
  },
  {
   "cell_type": "code",
   "execution_count": 86,
   "metadata": {},
   "outputs": [],
   "source": [
    "selected_eta  = ak.Array(pf_eta_rm_lep)[HWW_FatJetPFCands_pFCandsIdx]\n",
    "selected_phi  = ak.Array(pf_phi_rm_lep)[HWW_FatJetPFCands_pFCandsIdx]\n",
    "selected_pt   = ak.Array(pf_pt_rm_lep)[HWW_FatJetPFCands_pFCandsIdx]\n",
    "selected_mass = ak.Array(pf_mass_rm_lep)[HWW_FatJetPFCands_pFCandsIdx]"
   ]
  },
  {
   "cell_type": "code",
   "execution_count": 87,
   "metadata": {},
   "outputs": [
    {
     "data": {
      "text/plain": [
       "58"
      ]
     },
     "execution_count": 87,
     "metadata": {},
     "output_type": "execute_result"
    }
   ],
   "source": [
    "len(selected_eta[1])"
   ]
  },
  {
   "cell_type": "code",
   "execution_count": 88,
   "metadata": {},
   "outputs": [],
   "source": [
    "# pad the selected 4-vec array up to length of 150 to match the Lund Plane input\n",
    "selected_pt_padded = pad_val(selected_pt,150,0,1,True)\n",
    "selected_eta_padded = pad_val(selected_eta,150,0,1,True)\n",
    "selected_phi_padded = pad_val(selected_phi,150,0,1,True)\n",
    "selected_mass_padded = pad_val(selected_mass,150,0,1,True)"
   ]
  },
  {
   "cell_type": "code",
   "execution_count": 89,
   "metadata": {},
   "outputs": [],
   "source": [
    "pf_cands_px = selected_pt_padded * np.cos(selected_phi_padded)\n",
    "pf_cands_py = selected_pt_padded * np.sin(selected_phi_padded)\n",
    "pf_cands_pz = selected_pt_padded * np.sinh(selected_eta_padded)\n",
    "pf_cands_E = np.sqrt(pf_cands_px**2 + pf_cands_py**2 + pf_cands_pz**2 + selected_mass_padded**2)"
   ]
  },
  {
   "cell_type": "code",
   "execution_count": 90,
   "metadata": {},
   "outputs": [],
   "source": [
    "pf_cands_pxpypzE_lvqq = np.dstack((pf_cands_px,pf_cands_py,pf_cands_pz,pf_cands_E))"
   ]
  },
  {
   "cell_type": "code",
   "execution_count": 91,
   "metadata": {},
   "outputs": [
    {
     "name": "stdout",
     "output_type": "stream",
     "text": [
      "150\n"
     ]
    }
   ],
   "source": [
    "print(len(pf_cands_pxpypzE_lvqq[100]))"
   ]
  },
  {
   "cell_type": "markdown",
   "metadata": {},
   "source": [
    "### final check the input information"
   ]
  },
  {
   "cell_type": "code",
   "execution_count": 92,
   "metadata": {},
   "outputs": [
    {
     "name": "stdout",
     "output_type": "stream",
     "text": [
      "5365\n",
      "5365\n",
      "5365\n"
     ]
    }
   ],
   "source": [
    "#not all these 3 input array are without Hlvqq_cut\n",
    "print(len(gen_parts_eta_phi_Hlvqq_2q))\n",
    "print(len(pf_cands_pxpypzE_lvqq))\n",
    "print(len(higgs_jet_4vec_Hlvqq))"
   ]
  },
  {
   "cell_type": "code",
   "execution_count": 93,
   "metadata": {},
   "outputs": [],
   "source": [
    "gen_parts_eta_phi_Hlvqq_2q = gen_parts_eta_phi_Hlvqq_2q[Hlvqq_cut]\n",
    "pf_cands_pxpypzE_lvqq = pf_cands_pxpypzE_lvqq[Hlvqq_cut]\n",
    "higgs_jet_4vec_Hlvqq = higgs_jet_4vec_Hlvqq[Hlvqq_cut]"
   ]
  },
  {
   "cell_type": "code",
   "execution_count": 94,
   "metadata": {},
   "outputs": [
    {
     "name": "stdout",
     "output_type": "stream",
     "text": [
      "3532\n",
      "3532\n",
      "3532\n"
     ]
    }
   ],
   "source": [
    "#not all these 3 input array are with Hlvqq_cut\n",
    "print(len(gen_parts_eta_phi_Hlvqq_2q))\n",
    "print(len(pf_cands_pxpypzE_lvqq))\n",
    "print(len(higgs_jet_4vec_Hlvqq))"
   ]
  },
  {
   "cell_type": "code",
   "execution_count": 95,
   "metadata": {},
   "outputs": [],
   "source": [
    "eventsScoreFatjet = events_final\n",
    "tagger_scores = eventsScoreFatjet.FatJet.inclParTMDV1_probHWqqWev0c + eventsScoreFatjet.FatJet.inclParTMDV1_probHWqqWev1c + eventsScoreFatjet.FatJet.inclParTMDV1_probHWqqWmv0c + eventsScoreFatjet.FatJet.inclParTMDV1_probHWqqWmv1c + eventsScoreFatjet.FatJet.inclParTMDV1_probHWqqWq0c + eventsScoreFatjet.FatJet.inclParTMDV1_probHWqqWq1c + eventsScoreFatjet.FatJet.inclParTMDV1_probHWqqWq2c + eventsScoreFatjet.FatJet.inclParTMDV1_probHWqqWqq0c + eventsScoreFatjet.FatJet.inclParTMDV1_probHWqqWqq1c + eventsScoreFatjet.FatJet.inclParTMDV1_probHWqqWqq2c + eventsScoreFatjet.FatJet.inclParTMDV1_probHWqqWtauev0c + eventsScoreFatjet.FatJet.inclParTMDV1_probHWqqWtauev1c + eventsScoreFatjet.FatJet.inclParTMDV1_probHWqqWtauhv0c + eventsScoreFatjet.FatJet.inclParTMDV1_probHWqqWtauhv1c + eventsScoreFatjet.FatJet.inclParTMDV1_probHWqqWtaumv0c + eventsScoreFatjet.FatJet.inclParTMDV1_probHWqqWtaumv1c\n",
    "\n",
    "fatjets = events_final.FatJet\n",
    "HWW = ak.pad_none(higgs, 1, axis=1, clip=True)[:, 0] #because it's a 2D array\n",
    "WWdr = fatjets[:, :3].delta_r(HWW) #here use 3 because we have up to 3 AK8 jets, use ak.max(ak.num(WWdr,axis = 1)) for test\n",
    "match_dR = 0.8\n",
    "HWW_match = WWdr <= match_dR #FatJetIdx in each event, which is real HWW jet\n",
    "\n",
    "HWWJets_tagger_score_lvqq = ak.pad_none(tagger_scores[HWW_match], 1, axis=1)[:, 0]\n",
    "\n",
    "HWWJets_tagger_score_lvqq = HWWJets_tagger_score_lvqq[Hlvqq_cut]"
   ]
  },
  {
   "cell_type": "code",
   "execution_count": 96,
   "metadata": {},
   "outputs": [
    {
     "data": {
      "text/plain": [
       "3532"
      ]
     },
     "execution_count": 96,
     "metadata": {},
     "output_type": "execute_result"
    }
   ],
   "source": [
    "len(HWWJets_tagger_score_lvqq)"
   ]
  },
  {
   "cell_type": "code",
   "execution_count": 97,
   "metadata": {},
   "outputs": [],
   "source": [
    "Hlvqq_len = len(HWWJets_tagger_score_lvqq)"
   ]
  },
  {
   "cell_type": "markdown",
   "metadata": {},
   "source": [
    "### Start to calculate Lund Plane weight"
   ]
  },
  {
   "cell_type": "code",
   "execution_count": 98,
   "metadata": {},
   "outputs": [
    {
     "name": "stdout",
     "output_type": "stream",
     "text": [
      "Nominal efficiency 0.290, Corrected efficiency 0.292, SF (corrected / nom) 1.005\n",
      "Stat variation toys eff. avg 0.297, std dev 0.007\n",
      "Pt variation toys eff. avg 0.292, std dev 0.000\n",
      "\n",
      "\n",
      "Calibrated efficiency  is 0.292 +/- 0.012  (stat) +/- 0.000 (pt) +/- 0.011/-0.018 (sys)+/- 0.078 (matching)  \n",
      "\n",
      "\n",
      "Now perform SFs information\n",
      "SF (corrected / nom) 1.005\n",
      "\n",
      "\n",
      "SF is 1.005 +/-0.040(stat) +/-0.001(pt) +0.011/-0.018(sys) +/-0.269(match) \n",
      "\n",
      "\n"
     ]
    }
   ],
   "source": [
    "import sys, os\n",
    "sys.path.insert(0, '')\n",
    "sys.path.append(\"/home/pku/zhaoyz/Higgs/LundReweighting\")\n",
    "from utils.LundReweighter import *\n",
    "from utils.Utils import *\n",
    "\"\"\" An example how to use the Lund Plane reweighting  code \"\"\"\n",
    "\n",
    "######################## Setup \n",
    "\n",
    "#Input file \n",
    "fname = \"/home/pku/zhaoyz/Higgs/LundReweighting/data/example_signal.h5\"\n",
    "#File containing data/MC Lund Plane ratio\n",
    "f_ratio_name = '/home/pku/zhaoyz/Higgs/LundReweighting/data/ratio_2018.root'\n",
    "\n",
    "f_sig = h5py.File(fname, \"r\")\n",
    "f_ratio = ROOT.TFile.Open(f_ratio_name)\n",
    "\n",
    "#Class to help read input dataset, \"Dataset\" class defined in Utils.py\n",
    "# d = Dataset(f_sig, dtype = 1)\n",
    "# d.compute_obs() #there may be some dedicated variables inside the .h5 file\n",
    "\n",
    "#The cut we will compute a SF for 'tau21 < 0.34'\n",
    "tag_obs = 'tau21'\n",
    "score_thresh = 0.975\n",
    "\n",
    "\n",
    "#nominal data/MC Lund plane ratio (3d histogram)\n",
    "h_ratio = f_ratio.Get(\"ratio_nom\")\n",
    "#systematic variations\n",
    "h_ratio_sys_up = f_ratio.Get(\"ratio_sys_tot_up\")\n",
    "h_ratio_sys_down = f_ratio.Get(\"ratio_sys_tot_down\")\n",
    "#MC ratio of b to light quarks\n",
    "b_light_ratio = f_ratio.Get(\"h_bl_ratio\")\n",
    "\n",
    "\n",
    "#directory of pt extrapolation fits\n",
    "f_ratio.cd('pt_extrap')\n",
    "rdir = ROOT.gDirectory #get the present working directory and give it to rdir\n",
    "\n",
    "#Main class for reweighting utilities\n",
    "LP_rw = LundReweighter(pt_extrap_dir = rdir)\n",
    "\n",
    "max_evts = Hlvqq_len\n",
    "\n",
    "# score = getattr(d, tag_obs)[:max_evts]\n",
    "score_cut = ((HWWJets_tagger_score_lvqq >= 0.8) & (HWWJets_tagger_score_lvqq <= 0.975))\n",
    "# score_cut = (HWWJets_tagger_score > 0.975)\n",
    "score_cut = score_cut[:max_evts]\n",
    "\n",
    "\n",
    "#Number of toys for statistical and pt extrapolation uncertainties\n",
    "nToys = 100\n",
    "#Noise vectors used to to generate the toys\n",
    "#NOTE the same vector has to be used for the whole sample/signal file for the toys to be consistent \n",
    "rand_noise = np.random.normal(size = (nToys, h_ratio.GetNbinsX(), h_ratio.GetNbinsY(), h_ratio.GetNbinsZ()))\n",
    "pt_rand_noise = np.random.normal(size = (nToys, h_ratio.GetNbinsY(), h_ratio.GetNbinsZ(), 3))\n",
    "\n",
    "\n",
    "################### Compute reweighting factors\n",
    "\n",
    "#PF candidates in the AK8 jet\n",
    "# pf_cands = d.get_masked(\"jet1_PFCands\").astype(np.float64)[:max_evts]\n",
    "pf_cands = pf_cands_pxpypzE_lvqq[:max_evts]\n",
    "#Generator level quarks from hard process\n",
    "\n",
    "# gen_parts = d.get_masked('gen_info')[:max_evts]\n",
    "gen_parts_eta_phi = gen_parts_eta_phi_Hlvqq_2q[:max_evts]\n",
    "# gen_parts_pdg_ids = gen_parts[:,:,3]\n",
    "\n",
    "B_PDG_ID = 5\n",
    "\n",
    "# ak8_jets = d.get_masked('jet_kinematics')[:max_evts][:,2:6].astype(np.float64)\n",
    "ak8_jets = higgs_jet_4vec_Hlvqq[:max_evts]\n",
    "\n",
    "#Nominal event weights of the MC, assume every event is weight '1' for this example\n",
    "weights_nom = np.ones(max_evts)\n",
    "\n",
    "LP_weights = []\n",
    "LP_weights_sys_up = []\n",
    "LP_weights_sys_down = []\n",
    "stat_smeared_weights = []\n",
    "pt_smeared_weights = []\n",
    "b_weights_up = []\n",
    "b_weights_down = []\n",
    "bad_matches = []\n",
    "\n",
    "\n",
    "for i,cands in enumerate(pf_cands):\n",
    "    # if i == 4: break\n",
    "    # print(\"now processing:\",i)\n",
    "    #Get the subjets, splittings and checking matching based on PF candidates in the jet and gen-level quarks\n",
    "    subjets, splittings, bad_match, deltaRs = LP_rw.get_splittings_and_matching(cands, gen_parts_eta_phi[i], ak8_jets[i])\n",
    "    # print(bad_match)\n",
    "    # print(deltaRs)\n",
    "    #Gets the nominal LP reweighting factor for this event and statistical + pt extrapolation toys\n",
    "    LP_weight, stat_smeared_weight, pt_smeared_weight = LP_rw.reweight_lund_plane(h_rw = h_ratio, subjets = subjets, splittings = splittings,\n",
    "            rand_noise = rand_noise, pt_rand_noise = pt_rand_noise, )\n",
    "    #Now get systematic variations\n",
    "    LP_weight_sys_up,_,_ = LP_rw.reweight_lund_plane(h_rw = h_ratio_sys_up, subjets = subjets, splittings = splittings)\n",
    "    LP_weight_sys_down,_,_ = LP_rw.reweight_lund_plane(h_rw = h_ratio_sys_down, subjets = subjets, splittings = splittings)\n",
    "\n",
    "    LP_weights.append(LP_weight)\n",
    "    stat_smeared_weights.append(stat_smeared_weight)\n",
    "    pt_smeared_weights.append(pt_smeared_weight)\n",
    "\n",
    "    LP_weights_sys_up.append(LP_weight_sys_up)\n",
    "    LP_weights_sys_down.append(LP_weight_sys_down)\n",
    "    bad_matches.append(bad_match)\n",
    "\n",
    "\n",
    "\n",
    "############### Normalize weights to preserve normalization of the MC sample\n",
    "\n",
    "#The nominal Lund Plane correction event weights\n",
    "LP_weights = LP_rw.normalize_weights(LP_weights) * weights_nom \n",
    "\n",
    "#Toy variations for stat and pt uncertainties\n",
    "stat_smeared_weights = LP_rw.normalize_weights(stat_smeared_weights) * weights_nom.reshape(max_evts, 1)\n",
    "pt_smeared_weights = LP_rw.normalize_weights(pt_smeared_weights) * weights_nom.reshape(max_evts,1)\n",
    "\n",
    "#Systematic up/down variations\n",
    "LP_weights_sys_up = LP_rw.normalize_weights(LP_weights_sys_up) * weights_nom\n",
    "LP_weights_sys_down = LP_rw.normalize_weights(LP_weights_sys_down) * weights_nom\n",
    "\n",
    "############### Compute efficiences and uncertainties\n",
    "\n",
    "\n",
    "#Efficiency of the cut in nominal MC\n",
    "eff_nom = np.average(score_cut, weights = weights_nom) #TODO\n",
    "\n",
    "#Efficiency of the cut after the Lund Plane reweighting\n",
    "eff_rw = np.average(score_cut, weights = LP_weights)\n",
    "\n",
    "#Nominal 'scale factor'\n",
    "SF = eff_rw / eff_nom\n",
    "\n",
    "print(\"Nominal efficiency %.3f, Corrected efficiency %.3f, SF (corrected / nom) %.3f\" % (eff_nom, eff_rw, SF))\n",
    "\n",
    "#NOTE, better to use corrected efficiency computed separately for each sample rather than a single 'SF'\n",
    "\n",
    "\n",
    "#Compute efficiency for each of the stat/pt toys\n",
    "eff_toys = []\n",
    "pt_eff_toys = []\n",
    "for i in range(nToys):\n",
    "    eff = np.average(score_cut, weights = stat_smeared_weights[:,i])\n",
    "    eff_toys.append(eff)\n",
    "\n",
    "    eff1 = np.average(score_cut, weights = pt_smeared_weights[:,i])\n",
    "    pt_eff_toys.append(eff1)\n",
    "\n",
    "#Compute stat and pt uncertainty based on variation in the toys\n",
    "toys_mean = np.mean(eff_toys)\n",
    "toys_std = np.std(eff_toys)\n",
    "pt_toys_mean = np.mean(pt_eff_toys)\n",
    "pt_toys_std = np.std(pt_eff_toys)\n",
    "\n",
    "eff_stat_unc = (abs(toys_mean - eff_rw)  + toys_std) \n",
    "eff_pt_unc = (abs(pt_toys_mean - eff_rw) + pt_toys_std)\n",
    "\n",
    "print(\"Stat variation toys eff. avg %.3f, std dev %.3f\" % (toys_mean, toys_std))\n",
    "print(\"Pt variation toys eff. avg %.3f, std dev %.3f\" % (pt_toys_mean, pt_toys_std))\n",
    "\n",
    "\n",
    "#Compute difference in efficiency due to weight variations as uncertainty\n",
    "def get_uncs(score_cut, weights_up, weights_down, eff_baseline):\n",
    "    eff_up =  np.average(score_cut, weights = weights_up)\n",
    "    eff_down =  np.average(score_cut, weights = weights_down)\n",
    "\n",
    "    unc_up = eff_up - eff_baseline\n",
    "    unc_down = eff_down - eff_baseline \n",
    "    return unc_up, unc_down\n",
    "\n",
    "\n",
    "#Compute efficiency of systematic variations\n",
    "sys_unc_up, sys_unc_down = get_uncs(score_cut, LP_weights_sys_up, LP_weights_sys_down, eff_rw)\n",
    "# b_unc_up, b_unc_down = get_uncs(score_cut, b_weights_up, b_weights_down, eff_rw)\n",
    "\n",
    "\n",
    "#matching uncertainty, taken as a fractional uncertainty on efficiency\n",
    "bad_match_frac = np.mean(bad_matches)\n",
    "bad_match_unc = bad_match_frac * eff_rw\n",
    "\n",
    "\n",
    "############ Results\n",
    "print(\"\\n\\nCalibrated efficiency  is %.3f +/- %.3f  (stat) +/- %.3f (pt) +/- %.3f/%.3f (sys)+/- %.3f (matching)  \\n\\n\"  % \n",
    "        (eff_rw, eff_stat_unc, eff_pt_unc, sys_unc_up, sys_unc_down, bad_match_unc))\n",
    "\n",
    "#next compute the uncertainty about SFs\n",
    "\n",
    "#Efficiency of the cut in nominal MC\n",
    "eff_nom = np.average(score_cut, weights = weights_nom) #TODO\n",
    "\n",
    "#Efficiency of the cut after the Lund Plane reweighting\n",
    "eff_rw = np.average(score_cut, weights = LP_weights)\n",
    "\n",
    "#Nominal 'scale factor'\n",
    "print(\"Now perform SFs information\")\n",
    "SF = eff_rw / eff_nom\n",
    "\n",
    "print(\"SF (corrected / nom) %.3f\" % (SF))\n",
    "\n",
    "#propagate statistical and pt extrapolation uncertainties to SF\n",
    "SF_stat_unc = (abs(toys_mean - eff_rw)  + toys_std) /eff_nom\n",
    "SF_pt_unc = (abs(pt_toys_mean - eff_rw) + pt_toys_std) /eff_nom\n",
    "\n",
    "#propagate systemetic uncertainty to SF\n",
    "eff_sys_up =  np.average(score_cut, weights = LP_weights_sys_up)\n",
    "eff_sys_down =  np.average(score_cut, weights = LP_weights_sys_down)\n",
    "\n",
    "sys_unc_up = abs(eff_rw - eff_sys_up)\n",
    "sys_unc_down = abs(eff_rw - eff_sys_down)\n",
    "\n",
    "SF_sys_unc_up = sys_unc_up/eff_nom\n",
    "SF_sys_unc_down = sys_unc_down/eff_nom\n",
    "\n",
    "#calculate bad matching uncertainty directly\n",
    "SF_match_unc = bad_match_frac * SF\n",
    "\n",
    "print(\"\\n\\nSF is %.3f +/-%.3f(stat) +/-%.3f(pt) +%.3f/-%.3f(sys) +/-%.3f(match) \\n\\n\"  % (SF, SF_stat_unc, SF_pt_unc, sys_unc_up, sys_unc_down, SF_match_unc))\n",
    "f_ratio.Close()\n"
   ]
  },
  {
   "cell_type": "markdown",
   "metadata": {},
   "source": [
    "### Plot the tagger distribution about Hlvqq jet"
   ]
  },
  {
   "cell_type": "code",
   "execution_count": 99,
   "metadata": {},
   "outputs": [
    {
     "data": {
      "image/png": "[encoded data removed]",
      "text/plain": [
       "<Figure size 1000x1000 with 1 Axes>"
      ]
     },
     "metadata": {},
     "output_type": "display_data"
    }
   ],
   "source": [
    "import matplotlib as mpl\n",
    "import matplotlib.pyplot as plt\n",
    "import mplhep as hep\n",
    "import boost_histogram as bh\n",
    "from cycler import cycler\n",
    "max_evts = Hlvqq_len\n",
    "#implement CMS plot style functions\n",
    "use_helvet = False ## true: use helvetica for plots, make sure the system have the font installed\n",
    "if use_helvet:\n",
    "    CMShelvet = hep.style.CMS\n",
    "    CMShelvet['font.sans-serif'] = ['Helvetica', 'Arial']\n",
    "    plt.style.use(CMShelvet)\n",
    "else:\n",
    "    plt.style.use(hep.style.CMS)\n",
    "\n",
    "plt.figure(figsize=(10,10))\n",
    "ax=plt.gca()\n",
    "plt.grid()\n",
    "hep.cms.label(data=False, year=\"2018\", ax=ax, fontname='sans-serif')\n",
    "%matplotlib inline\n",
    "#step1: plot \n",
    "\n",
    "# plt.hist(eventsEventsID3Prongs4Prongs['HqqqqVsQcdTop'], bins=20, range=(0,1), histtype='step', label='before reweighting',density=True);\n",
    "# plt.hist(eventsEventsID3Prongs4Prongs['HqqqqVsQcdTop'], bins=20, range=(0,1), histtype='step', label='after reweighting', weights=eventsEventsID3Prongs4Prongs[\"LP_weight\"],density=True);\n",
    "nbins, x_min, x_max = 20, 0, 1.0\n",
    "hist_before = bh.Histogram(bh.axis.Regular(nbins, x_min, x_max), storage=bh.storage.Weight())\n",
    "hist_before.fill(HWWJets_tagger_score_lvqq[:max_evts])\n",
    "hist_before_value = hist_before.view().value\n",
    "hist_before_err = np.sqrt(hist_before.view().variance)\n",
    "\n",
    "hist_after = bh.Histogram(bh.axis.Regular(nbins, x_min, x_max), storage=bh.storage.Weight())\n",
    "hist_after.fill(HWWJets_tagger_score_lvqq[:max_evts],weight=LP_weights[:max_evts])\n",
    "hist_after_value = hist_after.view().value\n",
    "hist_after_err = np.sqrt(hist_after.view().variance)\n",
    "bins = hist_before.axes[0].edges\n",
    "\n",
    "\n",
    "hep.histplot(hist_before_value,    bins=bins, yerr=hist_before_err, label= 'before Lund Plane reweighting', lw = 2,edges = False, histtype=\"step\")\n",
    "hep.histplot(hist_after_value,     bins=bins, yerr=hist_after_err,  label= 'after Lund Plane reweighting', lw = 2,edges = False, histtype=\"step\")\n",
    "\n",
    "\n",
    "plt.legend(loc='upper left',frameon=False,fontsize=20)\n",
    "y_min,y_max = plt.gca().get_ylim()\n",
    "plt.text(0.08, 0.83*y_max, \"ggF,only for Hlvqq jet\", fontsize=20)\n",
    "# plt.xlabel(r'$H_{qqqq} / (H_{qqqq} + QCD + Top)$')\n",
    "plt.xlabel(r'HWWvs(all background) tagger score', fontsize=20, ha='right', x=1)\n",
    "plt.ylabel('Events(No xs-weighted)',fontsize=20, ha='right', y=1)\n",
    "plt.savefig(f\"TaggerDistribution_2018_ggF_Hlvqq_all.pdf\", bbox_inches='tight')\n",
    "plt.xticks(size=14)\n",
    "plt.yticks(size=14)\n",
    "plt.show()\n"
   ]
  },
  {
   "cell_type": "markdown",
   "metadata": {},
   "source": [
    "### Combine Hlvqq and H3q4q jets together to get final SFs"
   ]
  },
  {
   "cell_type": "code",
   "execution_count": 100,
   "metadata": {},
   "outputs": [],
   "source": [
    "# need to concat all the information together and get the whole SFs\n",
    "# but not get LP weight separately and concat LP weight together\n",
    "gen_parts_eta_phi_H3q4qlvqq = gen_parts_eta_phi_H3q4q_4q.tolist() + gen_parts_eta_phi_Hlvqq_2q.tolist()\n",
    "pf_cands_pxpypzE_H3q4qlvqq = np.concatenate([pf_cands_pxpypzE_4q,pf_cands_pxpypzE_lvqq],axis = 0)\n",
    "higgs_jet_4vec_H3q4qlvqq = np.concatenate([higgs_jet_4vec_H3q4q,higgs_jet_4vec_Hlvqq],axis = 0)\n",
    "HWWJets_tagger_score_H3q4qlvqq = np.concatenate([HWWJets_tagger_score_3q4q,HWWJets_tagger_score_lvqq],axis = 0)"
   ]
  },
  {
   "cell_type": "code",
   "execution_count": 101,
   "metadata": {},
   "outputs": [
    {
     "name": "stdout",
     "output_type": "stream",
     "text": [
      "18745\n",
      "18745\n",
      "18745\n",
      "18745\n"
     ]
    }
   ],
   "source": [
    "#not all these 3 input array are with Hlvqq_cut\n",
    "print(len(gen_parts_eta_phi_H3q4qlvqq))\n",
    "print(len(pf_cands_pxpypzE_H3q4qlvqq))\n",
    "print(len(higgs_jet_4vec_H3q4qlvqq))\n",
    "print(len(HWWJets_tagger_score_H3q4qlvqq))"
   ]
  },
  {
   "cell_type": "code",
   "execution_count": 102,
   "metadata": {},
   "outputs": [],
   "source": [
    "H3q4qlvqq_len = len(gen_parts_eta_phi_H3q4qlvqq)"
   ]
  },
  {
   "cell_type": "markdown",
   "metadata": {},
   "source": [
    "### then calculate the SFs and Lund Plane weight in the entire HWW jets"
   ]
  },
  {
   "cell_type": "code",
   "execution_count": 105,
   "metadata": {},
   "outputs": [
    {
     "name": "stdout",
     "output_type": "stream",
     "text": [
      "Nominal efficiency 0.174, Corrected efficiency 0.166, SF (corrected / nom) 0.957\n",
      "Stat variation toys eff. avg 0.166, std dev 0.005\n",
      "Pt variation toys eff. avg 0.166, std dev 0.000\n",
      "\n",
      "\n",
      "Calibrated efficiency  is 0.166 +/- 0.005  (stat) +/- 0.000 (pt) +/- -0.002/0.014 (sys)+/- 0.060 (matching)  \n",
      "\n",
      "\n",
      "Now perform SFs information\n",
      "SF (corrected / nom) 0.957\n",
      "\n",
      "\n",
      "SF is 0.957 +/-0.031(stat) +/-0.001(pt) +0.002/-0.014(sys) +/-0.348(match) \n",
      "\n",
      "\n",
      "total unc. =  0.3494406770789477\n"
     ]
    }
   ],
   "source": [
    "import sys, os\n",
    "sys.path.insert(0, '')\n",
    "sys.path.append(\"/home/pku/zhaoyz/Higgs/LundReweighting\")\n",
    "from utils.LundReweighter import *\n",
    "from utils.Utils import *\n",
    "\"\"\" An example how to use the Lund Plane reweighting  code \"\"\"\n",
    "\n",
    "######################## Setup \n",
    "\n",
    "#Input file \n",
    "fname = \"/home/pku/zhaoyz/Higgs/LundReweighting/data/example_signal.h5\"\n",
    "#File containing data/MC Lund Plane ratio\n",
    "f_ratio_name = '/home/pku/zhaoyz/Higgs/LundReweighting/data/ratio_2018.root'\n",
    "\n",
    "f_sig = h5py.File(fname, \"r\")\n",
    "f_ratio = ROOT.TFile.Open(f_ratio_name)\n",
    "\n",
    "#Class to help read input dataset, \"Dataset\" class defined in Utils.py\n",
    "# d = Dataset(f_sig, dtype = 1)\n",
    "# d.compute_obs() #there may be some dedicated variables inside the .h5 file\n",
    "\n",
    "#The cut we will compute a SF for 'tau21 < 0.34'\n",
    "tag_obs = 'tau21'\n",
    "score_thresh = 0.99\n",
    "\n",
    "\n",
    "#nominal data/MC Lund plane ratio (3d histogram)\n",
    "h_ratio = f_ratio.Get(\"ratio_nom\")\n",
    "#systematic variations\n",
    "h_ratio_sys_up = f_ratio.Get(\"ratio_sys_tot_up\")\n",
    "h_ratio_sys_down = f_ratio.Get(\"ratio_sys_tot_down\")\n",
    "#MC ratio of b to light quarks\n",
    "b_light_ratio = f_ratio.Get(\"h_bl_ratio\")\n",
    "\n",
    "\n",
    "#directory of pt extrapolation fits\n",
    "f_ratio.cd('pt_extrap')\n",
    "rdir = ROOT.gDirectory #get the present working directory and give it to rdir\n",
    "\n",
    "#Main class for reweighting utilities\n",
    "LP_rw = LundReweighter(pt_extrap_dir = rdir)\n",
    "\n",
    "max_evts = H3q4qlvqq_len\n",
    "\n",
    "# score = getattr(d, tag_obs)[:max_evts]\n",
    "score_cut = ((HWWJets_tagger_score_H3q4qlvqq >= 0.92) & (HWWJets_tagger_score_H3q4qlvqq <= 0.99))\n",
    "# score_cut = (HWWJets_tagger_score_H3q4qlvqq > 0.99)\n",
    "score_cut = score_cut[:max_evts]\n",
    "\n",
    "\n",
    "#Number of toys for statistical and pt extrapolation uncertainties\n",
    "nToys = 100\n",
    "#Noise vectors used to to generate the toys\n",
    "#NOTE the same vector has to be used for the whole sample/signal file for the toys to be consistent \n",
    "rand_noise = np.random.normal(size = (nToys, h_ratio.GetNbinsX(), h_ratio.GetNbinsY(), h_ratio.GetNbinsZ()))\n",
    "pt_rand_noise = np.random.normal(size = (nToys, h_ratio.GetNbinsY(), h_ratio.GetNbinsZ(), 3))\n",
    "\n",
    "\n",
    "################### Compute reweighting factors\n",
    "\n",
    "#PF candidates in the AK8 jet\n",
    "# pf_cands = d.get_masked(\"jet1_PFCands\").astype(np.float64)[:max_evts]\n",
    "pf_cands = pf_cands_pxpypzE_H3q4qlvqq[:max_evts]\n",
    "#Generator level quarks from hard process\n",
    "\n",
    "# gen_parts = d.get_masked('gen_info')[:max_evts]\n",
    "gen_parts_eta_phi = gen_parts_eta_phi_H3q4qlvqq[:max_evts]\n",
    "# gen_parts_pdg_ids = gen_parts[:,:,3]\n",
    "\n",
    "B_PDG_ID = 5\n",
    "\n",
    "# ak8_jets = d.get_masked('jet_kinematics')[:max_evts][:,2:6].astype(np.float64)\n",
    "ak8_jets = higgs_jet_4vec_H3q4qlvqq[:max_evts]\n",
    "\n",
    "#Nominal event weights of the MC, assume every event is weight '1' for this example\n",
    "weights_nom = np.ones(max_evts)\n",
    "\n",
    "LP_weights = []\n",
    "LP_weights_sys_up = []\n",
    "LP_weights_sys_down = []\n",
    "stat_smeared_weights = []\n",
    "pt_smeared_weights = []\n",
    "b_weights_up = []\n",
    "b_weights_down = []\n",
    "bad_matches = []\n",
    "\n",
    "\n",
    "for i,cands in enumerate(pf_cands):\n",
    "    # if i == 4: break\n",
    "    # print(\"now processing:\",i)\n",
    "    #Get the subjets, splittings and checking matching based on PF candidates in the jet and gen-level quarks\n",
    "    subjets, splittings, bad_match, deltaRs = LP_rw.get_splittings_and_matching(cands, np.array(gen_parts_eta_phi[i]), ak8_jets[i])\n",
    "    # print(bad_match)\n",
    "    # print(deltaRs)\n",
    "    #Gets the nominal LP reweighting factor for this event and statistical + pt extrapolation toys\n",
    "    LP_weight, stat_smeared_weight, pt_smeared_weight = LP_rw.reweight_lund_plane(h_rw = h_ratio, subjets = subjets, splittings = splittings,\n",
    "            rand_noise = rand_noise, pt_rand_noise = pt_rand_noise, )\n",
    "    #Now get systematic variations\n",
    "    LP_weight_sys_up,_,_ = LP_rw.reweight_lund_plane(h_rw = h_ratio_sys_up, subjets = subjets, splittings = splittings)\n",
    "    LP_weight_sys_down,_,_ = LP_rw.reweight_lund_plane(h_rw = h_ratio_sys_down, subjets = subjets, splittings = splittings)\n",
    "\n",
    "    LP_weights.append(LP_weight)\n",
    "    stat_smeared_weights.append(stat_smeared_weight)\n",
    "    pt_smeared_weights.append(pt_smeared_weight)\n",
    "\n",
    "    LP_weights_sys_up.append(LP_weight_sys_up)\n",
    "    LP_weights_sys_down.append(LP_weight_sys_down)\n",
    "    bad_matches.append(bad_match)\n",
    "\n",
    "\n",
    "\n",
    "############### Normalize weights to preserve normalization of the MC sample\n",
    "\n",
    "#The nominal Lund Plane correction event weights\n",
    "LP_weights = LP_rw.normalize_weights(LP_weights) * weights_nom \n",
    "\n",
    "#Toy variations for stat and pt uncertainties\n",
    "stat_smeared_weights = LP_rw.normalize_weights(stat_smeared_weights) * weights_nom.reshape(max_evts, 1)\n",
    "pt_smeared_weights = LP_rw.normalize_weights(pt_smeared_weights) * weights_nom.reshape(max_evts,1)\n",
    "\n",
    "#Systematic up/down variations\n",
    "LP_weights_sys_up = LP_rw.normalize_weights(LP_weights_sys_up) * weights_nom\n",
    "LP_weights_sys_down = LP_rw.normalize_weights(LP_weights_sys_down) * weights_nom\n",
    "\n",
    "############### Compute efficiences and uncertainties\n",
    "\n",
    "\n",
    "#Efficiency of the cut in nominal MC\n",
    "eff_nom = np.average(score_cut, weights = weights_nom) #TODO\n",
    "\n",
    "#Efficiency of the cut after the Lund Plane reweighting\n",
    "eff_rw = np.average(score_cut, weights = LP_weights)\n",
    "\n",
    "#Nominal 'scale factor'\n",
    "SF = eff_rw / eff_nom\n",
    "\n",
    "print(\"Nominal efficiency %.3f, Corrected efficiency %.3f, SF (corrected / nom) %.3f\" % (eff_nom, eff_rw, SF))\n",
    "\n",
    "#NOTE, better to use corrected efficiency computed separately for each sample rather than a single 'SF'\n",
    "\n",
    "\n",
    "#Compute efficiency for each of the stat/pt toys\n",
    "eff_toys = []\n",
    "pt_eff_toys = []\n",
    "for i in range(nToys):\n",
    "    eff = np.average(score_cut, weights = stat_smeared_weights[:,i])\n",
    "    eff_toys.append(eff)\n",
    "\n",
    "    eff1 = np.average(score_cut, weights = pt_smeared_weights[:,i])\n",
    "    pt_eff_toys.append(eff1)\n",
    "\n",
    "#Compute stat and pt uncertainty based on variation in the toys\n",
    "toys_mean = np.mean(eff_toys)\n",
    "toys_std = np.std(eff_toys)\n",
    "pt_toys_mean = np.mean(pt_eff_toys)\n",
    "pt_toys_std = np.std(pt_eff_toys)\n",
    "\n",
    "eff_stat_unc = (abs(toys_mean - eff_rw)  + toys_std) \n",
    "eff_pt_unc = (abs(pt_toys_mean - eff_rw) + pt_toys_std)\n",
    "\n",
    "print(\"Stat variation toys eff. avg %.3f, std dev %.3f\" % (toys_mean, toys_std))\n",
    "print(\"Pt variation toys eff. avg %.3f, std dev %.3f\" % (pt_toys_mean, pt_toys_std))\n",
    "\n",
    "\n",
    "#Compute difference in efficiency due to weight variations as uncertainty\n",
    "def get_uncs(score_cut, weights_up, weights_down, eff_baseline):\n",
    "    eff_up =  np.average(score_cut, weights = weights_up)\n",
    "    eff_down =  np.average(score_cut, weights = weights_down)\n",
    "\n",
    "    unc_up = eff_up - eff_baseline\n",
    "    unc_down = eff_down - eff_baseline \n",
    "    return unc_up, unc_down\n",
    "\n",
    "\n",
    "#Compute efficiency of systematic variations\n",
    "sys_unc_up, sys_unc_down = get_uncs(score_cut, LP_weights_sys_up, LP_weights_sys_down, eff_rw)\n",
    "# b_unc_up, b_unc_down = get_uncs(score_cut, b_weights_up, b_weights_down, eff_rw)\n",
    "\n",
    "\n",
    "#matching uncertainty, taken as a fractional uncertainty on efficiency\n",
    "bad_match_frac = np.mean(bad_matches)\n",
    "bad_match_unc = bad_match_frac * eff_rw\n",
    "\n",
    "\n",
    "############ Results\n",
    "print(\"\\n\\nCalibrated efficiency  is %.3f +/- %.3f  (stat) +/- %.3f (pt) +/- %.3f/%.3f (sys)+/- %.3f (matching)  \\n\\n\"  % \n",
    "        (eff_rw, eff_stat_unc, eff_pt_unc, sys_unc_up, sys_unc_down, bad_match_unc))\n",
    "\n",
    "#next compute the uncertainty about SFs\n",
    "\n",
    "#Efficiency of the cut in nominal MC\n",
    "eff_nom = np.average(score_cut, weights = weights_nom) #TODO\n",
    "\n",
    "#Efficiency of the cut after the Lund Plane reweighting\n",
    "eff_rw = np.average(score_cut, weights = LP_weights)\n",
    "\n",
    "#Nominal 'scale factor'\n",
    "print(\"Now perform SFs information\")\n",
    "SF = eff_rw / eff_nom\n",
    "\n",
    "print(\"SF (corrected / nom) %.3f\" % (SF))\n",
    "\n",
    "#propagate statistical and pt extrapolation uncertainties to SF\n",
    "SF_stat_unc = (abs(toys_mean - eff_rw)  + toys_std) /eff_nom\n",
    "SF_pt_unc = (abs(pt_toys_mean - eff_rw) + pt_toys_std) /eff_nom\n",
    "\n",
    "#propagate systemetic uncertainty to SF\n",
    "eff_sys_up =  np.average(score_cut, weights = LP_weights_sys_up)\n",
    "eff_sys_down =  np.average(score_cut, weights = LP_weights_sys_down)\n",
    "\n",
    "sys_unc_up = abs(eff_rw - eff_sys_up)\n",
    "sys_unc_down = abs(eff_rw - eff_sys_down)\n",
    "\n",
    "SF_sys_unc_up = sys_unc_up/eff_nom\n",
    "SF_sys_unc_down = sys_unc_down/eff_nom\n",
    "\n",
    "#calculate bad matching uncertainty directly\n",
    "SF_match_unc = bad_match_frac * SF\n",
    "\n",
    "print(\"\\n\\nSF is %.3f +/-%.3f(stat) +/-%.3f(pt) +%.3f/-%.3f(sys) +/-%.3f(match) \\n\\n\"  % (SF, SF_stat_unc, SF_pt_unc, sys_unc_up, sys_unc_down, SF_match_unc))\n",
    "print(\"total unc. = \",np.sqrt(SF_stat_unc **2 + SF_pt_unc**2 + sys_unc_up**2 + SF_match_unc**2 ))\n",
    "f_ratio.Close()\n"
   ]
  },
  {
   "cell_type": "markdown",
   "metadata": {},
   "source": [
    "### get the entire HWW jets tagger distribution"
   ]
  },
  {
   "cell_type": "code",
   "execution_count": 104,
   "metadata": {},
   "outputs": [
    {
     "data": {
      "image/png": "[encoded data removed]",
      "text/plain": [
       "<Figure size 1000x1000 with 1 Axes>"
      ]
     },
     "metadata": {},
     "output_type": "display_data"
    }
   ],
   "source": [
    "import matplotlib as mpl\n",
    "import matplotlib.pyplot as plt\n",
    "import mplhep as hep\n",
    "import boost_histogram as bh\n",
    "from cycler import cycler\n",
    "max_evts = H3q4qlvqq_len\n",
    "#implement CMS plot style functions\n",
    "use_helvet = False ## true: use helvetica for plots, make sure the system have the font installed\n",
    "if use_helvet:\n",
    "    CMShelvet = hep.style.CMS\n",
    "    CMShelvet['font.sans-serif'] = ['Helvetica', 'Arial']\n",
    "    plt.style.use(CMShelvet)\n",
    "else:\n",
    "    plt.style.use(hep.style.CMS)\n",
    "\n",
    "plt.figure(figsize=(10,10))\n",
    "ax=plt.gca()\n",
    "plt.grid()\n",
    "hep.cms.label(data=False, year=\"2018\", ax=ax, fontname='sans-serif')\n",
    "%matplotlib inline\n",
    "#step1: plot \n",
    "\n",
    "# plt.hist(eventsEventsID3Prongs4Prongs['HqqqqVsQcdTop'], bins=20, range=(0,1), histtype='step', label='before reweighting',density=True);\n",
    "# plt.hist(eventsEventsID3Prongs4Prongs['HqqqqVsQcdTop'], bins=20, range=(0,1), histtype='step', label='after reweighting', weights=eventsEventsID3Prongs4Prongs[\"LP_weight\"],density=True);\n",
    "nbins, x_min, x_max = 20, 0, 1.0\n",
    "hist_before = bh.Histogram(bh.axis.Regular(nbins, x_min, x_max), storage=bh.storage.Weight())\n",
    "hist_before.fill(HWWJets_tagger_score_H3q4qlvqq[:max_evts])\n",
    "hist_before_value = hist_before.view().value\n",
    "hist_before_err = np.sqrt(hist_before.view().variance)\n",
    "\n",
    "hist_after = bh.Histogram(bh.axis.Regular(nbins, x_min, x_max), storage=bh.storage.Weight())\n",
    "hist_after.fill(HWWJets_tagger_score_H3q4qlvqq[:max_evts],weight=LP_weights[:max_evts])\n",
    "hist_after_value = hist_after.view().value\n",
    "hist_after_err = np.sqrt(hist_after.view().variance)\n",
    "bins = hist_before.axes[0].edges\n",
    "\n",
    "\n",
    "hep.histplot(hist_before_value,    bins=bins, yerr=hist_before_err, label= 'before Lund Plane reweighting', lw = 2,edges = False, histtype=\"step\")\n",
    "hep.histplot(hist_after_value,     bins=bins, yerr=hist_after_err,  label= 'after Lund Plane reweighting', lw = 2,edges = False, histtype=\"step\")\n",
    "\n",
    "\n",
    "plt.legend(loc='upper left',frameon=False,fontsize=20)\n",
    "y_min,y_max = plt.gca().get_ylim()\n",
    "plt.text(0.08, 0.83*y_max, \"for H3q, H4q, Hlvqq jets in ggF\", fontsize=20)\n",
    "# plt.xlabel(r'$H_{qqqq} / (H_{qqqq} + QCD + Top)$')\n",
    "plt.xlabel(r'HWWvs(all background) tagger score', fontsize=20, ha='right', x=1)\n",
    "plt.ylabel('Events(No xs-weighted)',fontsize=20, ha='right', y=1)\n",
    "plt.savefig(f\"TaggerDistribution_2018_ggF_H3q4qlvqq_all.pdf\", bbox_inches='tight')\n",
    "plt.xticks(size=14)\n",
    "plt.yticks(size=14)\n",
    "plt.show()\n"
   ]
  }
 ],
 "metadata": {
  "kernelspec": {
   "display_name": "HWWCali",
   "language": "python",
   "name": "python3"
  },
  "language_info": {
   "codemirror_mode": {
    "name": "ipython",
    "version": 3
   },
   "file_extension": ".py",
   "mimetype": "text/x-python",
   "name": "python",
   "nbconvert_exporter": "python",
   "pygments_lexer": "ipython3",
   "version": "3.9.18"
  },
  "orig_nbformat": 4
 },
 "nbformat": 4,
 "nbformat_minor": 2
}

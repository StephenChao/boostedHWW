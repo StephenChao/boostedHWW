{
 "cells": [
  {
   "cell_type": "markdown",
   "metadata": {},
   "source": [
    "### load necessary modules"
   ]
  },
  {
   "cell_type": "code",
   "execution_count": 1,
   "metadata": {},
   "outputs": [
    {
     "name": "stdout",
     "output_type": "stream",
     "text": [
      "Welcome to JupyROOT 6.28/00\n"
     ]
    }
   ],
   "source": [
    "import uproot\n",
    "import awkward as ak\n",
    "import vector\n",
    "vector.register_awkward()\n",
    "from matplotlib import pyplot as plt\n",
    "import mplhep as hep\n",
    "hep.style.use(\"CMS\")\n",
    "import math\n",
    "import itertools\n",
    "import os\n",
    "from typing import Dict, List, Tuple\n",
    "from numpy.typing import ArrayLike\n",
    "import numpy as np\n",
    "import correctionlib\n",
    "import awkward as ak\n",
    "import fastjet\n",
    "from coffea.nanoevents.methods import vector\n",
    "from coffea import nanoevents\n",
    "from coffea import processor\n",
    "from coffea.nanoevents.methods import candidate\n",
    "from coffea.analysis_tools import Weights, PackedSelection\n",
    "from hist import Hist\n",
    "ak.behavior.update(vector.behavior)\n",
    "import sys\n",
    "sys.path.append('/home/pku/zhaoyz/Higgs/LundReweighting/utils')\n",
    "from LundReweighter import *\n",
    "# import pandas as pd\n"
   ]
  },
  {
   "cell_type": "markdown",
   "metadata": {},
   "source": [
    "### Load signal NanoAOD files and do pre-selection "
   ]
  },
  {
   "cell_type": "code",
   "execution_count": 2,
   "metadata": {},
   "outputs": [],
   "source": [
    "events = nanoevents.NanoEventsFactory.from_root(\n",
    "        # \"/data/bond/zhaoyz/CustNano/HWWPFNano/2018/Signal_MERGED/GluGluHToWW_Pt-200ToInf_M-125_TuneCP5_MINLO_13TeV-powheg-pythia8_RunIISummer20UL18MiniAODv2-106X_upgrade2018_realistic_v16_L1v1-v2/MERGED.root\",\n",
    "        # \"/data/bond/zhaoyz/CustNano/HWWPFNano/2018/Signal_MERGED/VBFHToWWToAny_M-125_TuneCP5_withDipoleRecoil_13TeV-powheg-jhugen751-pythia8_RunIISummer20UL18MiniAODv2-106X_upgrade2018_realistic_v16_L1v1-v2/MERGED.root\",\n",
    "        # \"/data/bond/zhaoyz/CustNano/HWWPFNano/2018/Signal_MERGED/ttHToNonbb_M125_TuneCP5_13TeV-powheg-pythia8_RunIISummer20UL18MiniAODv2-106X_upgrade2018_realistic_v16_L1v1-v2/MERGED.root\",\n",
    "        # \"/data/bond/zhaoyz/CustNano/HWWPFNano/2018/Signal_MERGED/HWminusJ_HToWW_M-125_TuneCP5_13TeV-powheg-jhugen727-pythia8_RunIISummer20UL18MiniAODv2-106X_upgrade2018_realistic_v16_L1v1-v2/MERGED.root\",\n",
    "        \"/data/bond/zhaoyz/CustNano/HWWPFNano/2018/ttbar/Semileptonic_MERGED/MERGED.root\",\n",
    "        schemaclass=nanoevents.NanoAODSchema,\n",
    "    ).events()\n",
    "\n"
   ]
  },
  {
   "cell_type": "code",
   "execution_count": 3,
   "metadata": {},
   "outputs": [],
   "source": [
    "\n",
    "frac = 0.2\n",
    "n_use = int(frac*len(events))\n",
    "events_1 = events[:n_use]"
   ]
  },
  {
   "cell_type": "code",
   "execution_count": 4,
   "metadata": {},
   "outputs": [
    {
     "data": {
      "text/plain": [
       "['OtherPV',\n",
       " 'SubGenJetAK8',\n",
       " 'PuppiMET',\n",
       " 'HLTriggerFirstPath',\n",
       " 'SoftActivityJetHT2',\n",
       " 'SoftActivityJetHT10',\n",
       " 'fixedGridRhoFastjetCentralChargedPileUp',\n",
       " 'SV',\n",
       " 'GenVtx',\n",
       " 'AK15Puppi',\n",
       " 'GenPart',\n",
       " 'GenJetSVs',\n",
       " 'RawMET',\n",
       " 'LHEPart',\n",
       " 'CorrT1METJet',\n",
       " 'SoftActivityJetNjets10',\n",
       " 'CaloMET',\n",
       " 'boostedTau',\n",
       " 'SoftActivityJet',\n",
       " 'LHEReweightingWeight',\n",
       " 'PV',\n",
       " 'FatJetSVs',\n",
       " 'TrigObj',\n",
       " 'TkMET',\n",
       " 'L1',\n",
       " 'SoftActivityJetNjets5',\n",
       " 'HLT',\n",
       " 'run',\n",
       " 'SoftActivityJetNjets2',\n",
       " 'GenVisTau',\n",
       " 'AK15PuppiSubJet',\n",
       " 'GenCands',\n",
       " 'L1simulation',\n",
       " 'GenJetAK8',\n",
       " 'Tau',\n",
       " 'JetPFCands',\n",
       " 'SoftActivityJetHT',\n",
       " 'fixedGridRhoFastjetCentralNeutral',\n",
       " 'GenJetAK15',\n",
       " 'FatJetPFCands',\n",
       " 'DeepMETResponseTune',\n",
       " 'fixedGridRhoFastjetCentral',\n",
       " 'Generator',\n",
       " 'GenMET',\n",
       " 'SubJet',\n",
       " 'fixedGridRhoFastjetCentralCalo',\n",
       " 'HLTriggerFinalPath',\n",
       " 'PFCands',\n",
       " 'genWeight',\n",
       " 'PSWeight',\n",
       " 'Photon',\n",
       " 'LHEPdfWeight',\n",
       " 'btagWeight',\n",
       " 'LHEScaleWeight',\n",
       " 'L1PreFiringWeight',\n",
       " 'RawPuppiMET',\n",
       " 'GenJetCands',\n",
       " 'GenDressedLepton',\n",
       " 'luminosityBlock',\n",
       " 'Flag',\n",
       " 'ChsMET',\n",
       " 'Electron',\n",
       " 'L1Reco',\n",
       " 'GenFatJetCands',\n",
       " 'event',\n",
       " 'LowPtElectron',\n",
       " 'Pileup',\n",
       " 'Jet',\n",
       " 'Muon',\n",
       " 'JetSVs',\n",
       " 'LHEWeight',\n",
       " 'SoftActivityJetHT5',\n",
       " 'GenJet',\n",
       " 'HTXS',\n",
       " 'fixedGridRhoFastjetAll',\n",
       " 'DeepMETResolutionTune',\n",
       " 'FatJet',\n",
       " 'GenFatJetSVs',\n",
       " 'genTtbarId',\n",
       " 'IsoTrack',\n",
       " 'GenIsolatedPhoton',\n",
       " 'MET',\n",
       " 'LHE',\n",
       " 'FsrPhoton',\n",
       " 'GenSubJetAK15']"
      ]
     },
     "execution_count": 4,
     "metadata": {},
     "output_type": "execute_result"
    }
   ],
   "source": [
    "#quick look at the fields of signal files\n",
    "events_1.fields"
   ]
  },
  {
   "cell_type": "code",
   "execution_count": 5,
   "metadata": {},
   "outputs": [],
   "source": [
    "del events"
   ]
  },
  {
   "cell_type": "code",
   "execution_count": 6,
   "metadata": {},
   "outputs": [
    {
     "data": {
      "text/plain": [
       "<NanoEventsArray [<event 1:363751:363750001>, ... ] type='1986000 * event'>"
      ]
     },
     "execution_count": 6,
     "metadata": {},
     "output_type": "execute_result"
    }
   ],
   "source": [
    "events_1"
   ]
  },
  {
   "cell_type": "markdown",
   "metadata": {},
   "source": [
    "### Define necessary functions to run the selection"
   ]
  },
  {
   "cell_type": "code",
   "execution_count": 7,
   "metadata": {},
   "outputs": [],
   "source": [
    "#pad array with given value\n",
    "def pad_val(\n",
    "    arr: ak.Array,\n",
    "    target: int,\n",
    "    value: float, #value can also be Bool variable \n",
    "    axis: int = 0,\n",
    "    to_numpy: bool = True,\n",
    "    clip: bool = True,\n",
    "):\n",
    "    \"\"\"\n",
    "    pads awkward array up to ``target`` index along axis ``axis`` with value ``value``,\n",
    "    optionally converts to numpy array\n",
    "    \"\"\"\n",
    "    padded_arr = ak.fill_none(ak.pad_none(arr, target, axis=axis, clip=clip), value, axis=axis)\n",
    "    # pad_none will fill the array to target length with \"None\" for dedicated axis\n",
    "    # \"clip\" means cut the array to the target length or not\n",
    "    # fill_none will replace \"None\" value to some value\n",
    "    return padded_arr.to_numpy() if to_numpy else padded_arr\n",
    "\n",
    "def add_selection(\n",
    "    name: str,\n",
    "    sel: np.ndarray,\n",
    "    selection: PackedSelection,\n",
    "    cutflow: dict = None,\n",
    "    isData: bool = False,\n",
    "    signGenWeights: ak.Array = None,\n",
    "):\n",
    "    \"\"\"adds selection to PackedSelection object and the cutflow dictionary\"\"\"\n",
    "    selection.add(name, sel)\n",
    "    if cutflow is not None: #only add to cutflow dictionary if cutflow is not None\n",
    "        cutflow[name] = (\n",
    "            np.sum(selection.all(*selection.names))\n",
    "            if isData\n",
    "            # add up sign of genWeights for MC\n",
    "            else np.sum(signGenWeights[selection.all(*selection.names)])\n",
    "        )\n"
   ]
  },
  {
   "cell_type": "code",
   "execution_count": 8,
   "metadata": {},
   "outputs": [],
   "source": [
    "#pre-selection:\n",
    "#1.Leading jet pT > 400GeV, maximum jet mass > 50GeV\n",
    "#2.Require 2 or 3 AK8 jet with pT > 200GeV\n",
    "#3.Veto (mini-)Isolated leptons\n",
    "isData = False\n",
    "signGenWeights = None if isData else np.sign(events_1[\"genWeight\"]) #get genWeight sign, because only the sign matters\n",
    "n_events = len(events_1) if isData else int(np.sum(signGenWeights)) #events number for MC events should be the sum of \"sign\"\n",
    "selection = PackedSelection() #initialize a new object\n",
    "\n",
    "cutflow = {}\n",
    "# cutflow[\"all\"] = len(events) #shouldn't be n_events?\n",
    "cutflow[\"all\"] = n_events\n",
    "preselection_cut_vals = {\"pt\": 200, \"msd\": 20, \"leading_pt\":400,\"maximum_mass\":50}\n",
    "num_jets = 2\n",
    "\n",
    "# fatjets = corrections.get_jec_jets(events, \"2018\")\n",
    "fatjets = events_1.FatJet\n",
    "\n",
    "preselection_cut_1 = pad_val(\n",
    "        ( ak.max(events_1.FatJet.pt, axis = 1) > preselection_cut_vals[\"leading_pt\"])\n",
    "        * (ak.max(events_1.FatJet.msoftdrop, axis = 1) > preselection_cut_vals[\"maximum_mass\"]), #mass and pT cut of each jet in event\n",
    "        len(events_1), #pad to num_jets length\n",
    "        False,  #pad with value False\n",
    "        )\n",
    "# finally with the length of events number, \"1\" for all jets are pT > pT_cut and mass > mass_cut\n",
    " # N.B. here clip always = True\n",
    "\n",
    "add_selection(\n",
    "    \"leading pT and maximum mass\", #string name\n",
    "    preselection_cut_1.astype(bool), #selection content\n",
    "    selection, #PackedSelection object\n",
    "    cutflow, #cut-flow dict, storing events number after each cut\n",
    "    isData,\n",
    "    signGenWeights,#sum the signGenWeights for events which pass the selection\n",
    ")\n",
    "\n",
    "\n",
    "\n",
    "preselection_cut_2 = np.prod(\n",
    "    pad_val(\n",
    "        (events_1.FatJet.pt > preselection_cut_vals[\"pt\"]),\n",
    "        # * (events.FatJet.msoftdrop > preselection_cut_vals[\"msd\"]), #mass and pT cut of each jet in event\n",
    "        num_jets, #pad to num_jets length\n",
    "        False,  #pad with value False\n",
    "        axis=1, #pad to axis=1\n",
    "    ),\n",
    "    axis=1,\n",
    ")# finally with the length of events number, \"1\" for all jets are pT > pT_cut and mass > mass_cut\n",
    " # N.B. here clip always = True\n",
    "\n",
    "add_selection(\n",
    "    \"at least 2 AK8 jet with pT >200GeV\", #string name\n",
    "    preselection_cut_2.astype(bool), #selection content\n",
    "    selection, #PackedSelection object\n",
    "    cutflow, #cut-flow dict, storing events number after each cut\n",
    "    isData,\n",
    "    signGenWeights,#sum the signGenWeights for events which pass the selection\n",
    ")\n",
    "\n",
    "preselection_cut_3 = pad_val(\n",
    "        (ak.num(events_1.FatJet.pt) == 2) | (ak.num(events_1.FatJet.pt) == 3) , #mass and pT cut of each jet in event\n",
    "        len(events_1), #pad to num_jets length\n",
    "        False,  #pad with value False\n",
    "        )\n",
    "\n",
    "add_selection(\n",
    "    \"2 or 3 AK8 jet\", #string name\n",
    "    preselection_cut_3.astype(bool), #selection content\n",
    "    selection, #PackedSelection object\n",
    "    cutflow, #cut-flow dict, storing events number after each cut\n",
    "    isData,\n",
    "    signGenWeights,#sum the signGenWeights for events which pass the selection\n",
    ")\n"
   ]
  },
  {
   "cell_type": "code",
   "execution_count": 9,
   "metadata": {},
   "outputs": [
    {
     "data": {
      "text/plain": [
       "{'all': 1970198,\n",
       " 'leading pT and maximum mass': 30000.0,\n",
       " 'at least 2 AK8 jet with pT >200GeV': 25777.0,\n",
       " '2 or 3 AK8 jet': 24524.0}"
      ]
     },
     "execution_count": 9,
     "metadata": {},
     "output_type": "execute_result"
    }
   ],
   "source": [
    "cutflow"
   ]
  },
  {
   "cell_type": "code",
   "execution_count": 10,
   "metadata": {},
   "outputs": [],
   "source": [
    "events_2 = events_1[selection.all(*selection.names)]"
   ]
  },
  {
   "cell_type": "code",
   "execution_count": 11,
   "metadata": {},
   "outputs": [
    {
     "data": {
      "text/plain": [
       "<NanoEventsArray [<event 1:363751:363750210>, ... ] type='25268 * event'>"
      ]
     },
     "execution_count": 11,
     "metadata": {},
     "output_type": "execute_result"
    }
   ],
   "source": [
    "events_2"
   ]
  },
  {
   "cell_type": "code",
   "execution_count": 12,
   "metadata": {},
   "outputs": [],
   "source": [
    "selection = PackedSelection()\n",
    "isData = False\n",
    "signGenWeights = None if isData else np.sign(events_2[\"genWeight\"]) #get genWeight sign, because only the sign matters\n",
    "n_events = len(events_2) if isData else int(np.sum(signGenWeights)) #events number for MC events should be the sum of \"sign\"\n",
    "\n",
    "\n",
    "cutflow = {}\n",
    "# cutflow[\"all\"] = len(events) #shouldn't be n_events?\n",
    "cutflow[\"all\"] = n_events\n",
    "\n",
    "#veto (mini-)isolated muons\n",
    "#referring to : https://github.com/farakiko/boostedhiggs/blob/ec53b97857bf64aa4d75f639e290181e65a55b4c/boostedhiggs/hwwprocessor.py#L185-L237\n",
    "muons = ak.with_field(events_2.Muon, 0, \"flavor\")\n",
    "electrons = ak.with_field(events_2.Electron, 1, \"flavor\")\n",
    "\n",
    "# muons\n",
    "loose_muons = (\n",
    "    (((muons.pt > 30) & (muons.pfRelIso04_all < 0.25)) | (muons.pt > 55))\n",
    "    & (np.abs(muons.eta) < 2.4)\n",
    "    & (muons.looseId)\n",
    ")\n",
    "n_loose_muons = ak.sum(loose_muons, axis=1)\n",
    "good_muons = (\n",
    "    (muons.pt > 30)\n",
    "    & (np.abs(muons.eta) < 2.4)\n",
    "    & (np.abs(muons.dz) < 0.1)\n",
    "    & (np.abs(muons.dxy) < 0.05)\n",
    "    & (muons.sip3d <= 4.0)\n",
    "    & muons.mediumId\n",
    ")\n",
    "n_good_muons = ak.sum(good_muons, axis=1)\n",
    "\n",
    "# electrons\n",
    "loose_electrons = (\n",
    "    (((electrons.pt > 38) & (electrons.pfRelIso03_all < 0.25)) | (electrons.pt > 120))\n",
    "    & (np.abs(electrons.eta) < 2.4)\n",
    "    & ((np.abs(electrons.eta) < 1.44) | (np.abs(electrons.eta) > 1.57))\n",
    "    & (electrons.cutBased >= 2)\n",
    ")\n",
    "n_loose_electrons = ak.sum(loose_electrons, axis=1)\n",
    "good_electrons = (\n",
    "    (electrons.pt > 38)\n",
    "    & (np.abs(electrons.eta) < 2.4)\n",
    "    & ((np.abs(electrons.eta) < 1.44) | (np.abs(electrons.eta) > 1.57))\n",
    "    & (np.abs(electrons.dz) < 0.1)\n",
    "    & (np.abs(electrons.dxy) < 0.05)\n",
    "    & (electrons.sip3d <= 4.0)\n",
    "    & (electrons.mvaFall17V2noIso_WP90)\n",
    ")\n",
    "n_good_electrons = ak.sum(good_electrons, axis=1)\n",
    "\n",
    "n_leptons = n_loose_electrons + n_good_electrons + n_loose_muons + n_good_muons\n",
    "\n",
    "preselection_cut_4 = pad_val(\n",
    "        (n_leptons == 0) , #mass and pT cut of each jet in event\n",
    "        len(events_2), #pad to num_jets length\n",
    "        False,  #pad with value False\n",
    "        )\n",
    "\n",
    "add_selection(\n",
    "    \"no (mini-)isolated leptons\", #string name\n",
    "    preselection_cut_4.astype(bool), #selection content\n",
    "    selection, #PackedSelection object\n",
    "    cutflow, #cut-flow dict, storing events number after each cut\n",
    "    isData,\n",
    "    signGenWeights,#sum the signGenWeights for events which pass the selection\n",
    ")\n"
   ]
  },
  {
   "cell_type": "code",
   "execution_count": 13,
   "metadata": {},
   "outputs": [
    {
     "data": {
      "text/plain": [
       "{'all': 24524, 'no (mini-)isolated leptons': 10209.0}"
      ]
     },
     "execution_count": 13,
     "metadata": {},
     "output_type": "execute_result"
    }
   ],
   "source": [
    "cutflow"
   ]
  },
  {
   "cell_type": "code",
   "execution_count": 14,
   "metadata": {},
   "outputs": [],
   "source": [
    "events_3 = events_2[selection.all(*selection.names)]"
   ]
  },
  {
   "cell_type": "code",
   "execution_count": 15,
   "metadata": {},
   "outputs": [],
   "source": [
    "selection = PackedSelection() #initialize a new object\n",
    "isData = False\n",
    "signGenWeights = None if isData else np.sign(events_3[\"genWeight\"]) #get genWeight sign, because only the sign matters\n",
    "n_events = len(events_3) if isData else int(np.sum(signGenWeights)) #events number for MC events should be the sum of \"sign\"\n",
    "selection = PackedSelection() #initialize a new object\n",
    "\n",
    "cutflow = {}\n",
    "# cutflow[\"all\"] = len(events) #shouldn't be n_events?\n",
    "cutflow[\"all\"] = n_events\n",
    "\n",
    "#require WW decaying to 4q, because we want to calibrate H3q4q jet at first stage\n",
    "d_PDGID = 1\n",
    "u_PDGID = 2\n",
    "s_PDGID = 3\n",
    "c_PDGID = 4\n",
    "b_PDGID = 5\n",
    "g_PDGID = 21\n",
    "TOP_PDGID = 6\n",
    "\n",
    "ELE_PDGID = 11\n",
    "vELE_PDGID = 12\n",
    "MU_PDGID = 13\n",
    "vMU_PDGID = 14\n",
    "TAU_PDGID = 15\n",
    "vTAU_PDGID = 16\n",
    "\n",
    "Z_PDGID = 23\n",
    "W_PDGID = 24\n",
    "HIGGS_PDGID = 25\n",
    "Y_PDGID = 35\n",
    "\n",
    "b_PDGIDS = [511, 521, 523]\n",
    "\n",
    "GRAV_PDGID = 39\n",
    "\n",
    "GEN_FLAGS = [\"fromHardProcess\", \"isLastCopy\"]\n",
    "\n",
    "FILL_NONE_VALUE = -99999\n",
    "PAD_VAL = -99999\n",
    "\n",
    "skim_vars = {\n",
    "    \"eta\": \"Eta\",\n",
    "    \"phi\": \"Phi\",\n",
    "    \"mass\": \"Mass\",\n",
    "    \"pt\": \"Pt\",\n",
    "}"
   ]
  },
  {
   "cell_type": "markdown",
   "metadata": {},
   "source": [
    "### start to match top, b and W"
   ]
  },
  {
   "cell_type": "code",
   "execution_count": 16,
   "metadata": {},
   "outputs": [],
   "source": [
    "del events_2\n",
    "#find gen-level top quark\n",
    "tops = events_3.GenPart[\n",
    "        (abs(events_3.GenPart.pdgId) == TOP_PDGID) * events_3.GenPart.hasFlags(GEN_FLAGS)\n",
    "]\n"
   ]
  },
  {
   "cell_type": "code",
   "execution_count": 17,
   "metadata": {},
   "outputs": [],
   "source": [
    "#find top children, refer to:https://github.com/rkansal47/HHbbVV/blob/2fc4110669081d565e115d32486c7d555db5bac7/src/HHbbVV/processors/GenSelection.py#L888\n",
    "tops_children = tops.distinctChildren\n",
    "tops_children = tops_children[tops_children.hasFlags(GEN_FLAGS)]"
   ]
  },
  {
   "cell_type": "code",
   "execution_count": 18,
   "metadata": {},
   "outputs": [],
   "source": [
    "#get gen-level W informatino\n",
    "ws = ak.flatten(tops_children[np.abs(tops_children.pdgId) == W_PDGID], axis=2)"
   ]
  },
  {
   "cell_type": "code",
   "execution_count": 19,
   "metadata": {},
   "outputs": [
    {
     "data": {
      "text/plain": [
       "10479"
      ]
     },
     "execution_count": 19,
     "metadata": {},
     "output_type": "execute_result"
    }
   ],
   "source": [
    "len(ws)"
   ]
  },
  {
   "cell_type": "code",
   "execution_count": 20,
   "metadata": {},
   "outputs": [],
   "source": [
    "# get hadronic W and top\n",
    "had_top_sel = np.all(np.abs(ws.children.pdgId) <= 5, axis=2)\n",
    "had_ws = ak.flatten(ws[had_top_sel])\n",
    "had_ws_children = had_ws.children\n",
    "had_tops = ak.flatten(tops[had_top_sel])"
   ]
  },
  {
   "cell_type": "code",
   "execution_count": 21,
   "metadata": {},
   "outputs": [],
   "source": [
    "# check for b's from top\n",
    "had_top_children = ak.flatten(tops_children[had_top_sel], axis=1)\n",
    "had_bs = had_top_children[np.abs(had_top_children.pdgId) == 5]\n",
    "# add_selection(\"top_has_bs\", np.any(had_bs.pdgId, axis=1), *selection_args)"
   ]
  },
  {
   "cell_type": "code",
   "execution_count": 22,
   "metadata": {},
   "outputs": [],
   "source": [
    "#find leading tagger score jet, denote it as leading_fatjet\n",
    "eventsScoreFatjet = events_3\n",
    "tagger_scores = eventsScoreFatjet.FatJet.inclParTMDV1_probHWqqWev0c + eventsScoreFatjet.FatJet.inclParTMDV1_probHWqqWev1c + eventsScoreFatjet.FatJet.inclParTMDV1_probHWqqWmv0c + eventsScoreFatjet.FatJet.inclParTMDV1_probHWqqWmv1c + eventsScoreFatjet.FatJet.inclParTMDV1_probHWqqWq0c + eventsScoreFatjet.FatJet.inclParTMDV1_probHWqqWq1c + eventsScoreFatjet.FatJet.inclParTMDV1_probHWqqWq2c + eventsScoreFatjet.FatJet.inclParTMDV1_probHWqqWqq0c + eventsScoreFatjet.FatJet.inclParTMDV1_probHWqqWqq1c + eventsScoreFatjet.FatJet.inclParTMDV1_probHWqqWqq2c + eventsScoreFatjet.FatJet.inclParTMDV1_probHWqqWtauev0c + eventsScoreFatjet.FatJet.inclParTMDV1_probHWqqWtauev1c + eventsScoreFatjet.FatJet.inclParTMDV1_probHWqqWtauhv0c + eventsScoreFatjet.FatJet.inclParTMDV1_probHWqqWtauhv1c + eventsScoreFatjet.FatJet.inclParTMDV1_probHWqqWtaumv0c + eventsScoreFatjet.FatJet.inclParTMDV1_probHWqqWtaumv1c\n",
    "#get maximum tagger score jet index\n",
    "max_tagger_indices = (tagger_scores == np.max(tagger_scores, axis=1))\n",
    "fatjets = events_3.FatJet\n",
    "leading_fatjet = fatjets[max_tagger_indices][:,0]"
   ]
  },
  {
   "cell_type": "code",
   "execution_count": 23,
   "metadata": {},
   "outputs": [
    {
     "data": {
      "text/plain": [
       "<FatJetArray [FatJet, FatJet, ... FatJet, FatJet] type='10479 * ?fatJet'>"
      ]
     },
     "execution_count": 23,
     "metadata": {},
     "output_type": "execute_result"
    }
   ],
   "source": [
    "leading_fatjet"
   ]
  },
  {
   "cell_type": "code",
   "execution_count": 24,
   "metadata": {},
   "outputs": [
    {
     "data": {
      "text/plain": [
       "10479"
      ]
     },
     "execution_count": 24,
     "metadata": {},
     "output_type": "execute_result"
    }
   ],
   "source": [
    "len(leading_fatjet)"
   ]
  },
  {
   "cell_type": "code",
   "execution_count": 25,
   "metadata": {},
   "outputs": [
    {
     "data": {
      "text/plain": [
       "10479"
      ]
     },
     "execution_count": 25,
     "metadata": {},
     "output_type": "execute_result"
    }
   ],
   "source": [
    "len(had_ws_children)"
   ]
  },
  {
   "cell_type": "code",
   "execution_count": 26,
   "metadata": {},
   "outputs": [
    {
     "data": {
      "text/plain": [
       "<GenParticleArray [GenParticle, GenParticle] type='2 * ?genParticle'>"
      ]
     },
     "execution_count": 26,
     "metadata": {},
     "output_type": "execute_result"
    }
   ],
   "source": [
    "had_ws_children[0]"
   ]
  },
  {
   "cell_type": "code",
   "execution_count": 27,
   "metadata": {},
   "outputs": [
    {
     "name": "stdout",
     "output_type": "stream",
     "text": [
      "[[GenParticle, GenParticle], [GenParticle, GenParticle]]\n"
     ]
    }
   ],
   "source": [
    "print(had_ws_children[:2])"
   ]
  },
  {
   "cell_type": "code",
   "execution_count": 28,
   "metadata": {},
   "outputs": [
    {
     "data": {
      "text/plain": [
       "<GenParticleArray [[GenParticle], ... [GenParticle]] type='10479 * option[var * ...'>"
      ]
     },
     "execution_count": 28,
     "metadata": {},
     "output_type": "execute_result"
    }
   ],
   "source": [
    "had_bs"
   ]
  },
  {
   "cell_type": "code",
   "execution_count": 29,
   "metadata": {},
   "outputs": [],
   "source": [
    "# gen_quarks = ak.concatenate([had_bs[:, :1], had_ws_children[:, :2]], axis=1)\n",
    "\n",
    "gen_quarks_eta = ak.concatenate([had_bs.eta[:, :1], had_ws_children.eta[:, :2]], axis=1)\n",
    "gen_quarks_phi = ak.concatenate([had_bs.phi[:, :1], had_ws_children.phi[:, :2]], axis=1)\n"
   ]
  },
  {
   "cell_type": "code",
   "execution_count": 30,
   "metadata": {},
   "outputs": [],
   "source": [
    "deltaR = 0.8\n",
    "had_w_jet_match = ak.fill_none(\n",
    "    ak.all(had_ws_children.delta_r(leading_fatjet) < deltaR, axis=1), False\n",
    ")"
   ]
  },
  {
   "cell_type": "code",
   "execution_count": 31,
   "metadata": {},
   "outputs": [],
   "source": [
    "had_b_jet_match = ak.flatten(\n",
    "    pad_val(\n",
    "        ak.fill_none(had_bs.delta_r(leading_fatjet) < deltaR, [], axis=0),\n",
    "        1,\n",
    "        False,\n",
    "        axis=1,\n",
    "        to_numpy=False,\n",
    "    )\n",
    ")\n",
    "top_match_dict = {\n",
    "    \"top_matched\": had_w_jet_match * had_b_jet_match,\n",
    "    \"w_matched\": had_w_jet_match * ~had_b_jet_match,\n",
    "    \"unmatched\": ~had_w_jet_match,\n",
    "}\n",
    "top_match_dict = {key: val.to_numpy().astype(int) for key, val in top_match_dict.items()}\n"
   ]
  },
  {
   "cell_type": "code",
   "execution_count": 32,
   "metadata": {},
   "outputs": [
    {
     "data": {
      "text/plain": [
       "10479"
      ]
     },
     "execution_count": 32,
     "metadata": {},
     "output_type": "execute_result"
    }
   ],
   "source": [
    "len(top_match_dict[\"top_matched\"])"
   ]
  },
  {
   "cell_type": "markdown",
   "metadata": {},
   "source": [
    "### store the PFCands, GenEtaPhi, Higgs candidate AK8 jet 4-vector information for Lund Plane use"
   ]
  },
  {
   "cell_type": "code",
   "execution_count": 33,
   "metadata": {},
   "outputs": [
    {
     "data": {
      "text/plain": [
       "<NanoEventsArray [<event 1:363752:363751501>, ... ] type='1686 * event'>"
      ]
     },
     "execution_count": 33,
     "metadata": {},
     "output_type": "execute_result"
    }
   ],
   "source": [
    "events_after_cut = events_3[top_match_dict[\"top_matched\"].astype(bool)]\n",
    "events_after_cut"
   ]
  },
  {
   "cell_type": "markdown",
   "metadata": {},
   "source": [
    "### four vector for HWW jet"
   ]
  },
  {
   "cell_type": "code",
   "execution_count": 34,
   "metadata": {},
   "outputs": [],
   "source": [
    "HWWJets = leading_fatjet[top_match_dict[\"top_matched\"].astype(bool)]"
   ]
  },
  {
   "cell_type": "code",
   "execution_count": 35,
   "metadata": {},
   "outputs": [
    {
     "data": {
      "text/plain": [
       "array([614.5      ,  -0.9071045,  -2.6210938, 172.5      ], dtype=float32)"
      ]
     },
     "execution_count": 35,
     "metadata": {},
     "output_type": "execute_result"
    }
   ],
   "source": [
    "# four vector for HWW jet\n",
    "higgs_jet_4vec = np.array(np.stack((np.array(HWWJets.pt), np.array(HWWJets.eta),np.array(HWWJets.phi),np.array(HWWJets.mass)), axis=1))\n",
    "higgs_jet_4vec[1]\n"
   ]
  },
  {
   "cell_type": "code",
   "execution_count": 36,
   "metadata": {},
   "outputs": [
    {
     "data": {
      "text/plain": [
       "1686"
      ]
     },
     "execution_count": 36,
     "metadata": {},
     "output_type": "execute_result"
    }
   ],
   "source": [
    "len(higgs_jet_4vec)"
   ]
  },
  {
   "cell_type": "markdown",
   "metadata": {},
   "source": [
    "### Next eta-phi for 4 quarks"
   ]
  },
  {
   "cell_type": "code",
   "execution_count": 37,
   "metadata": {},
   "outputs": [],
   "source": [
    "# eta = gen_quarks[top_match_dict[\"top_matched\"].astype(bool)].eta.to_numpy()\n",
    "# phi = gen_quarks[top_match_dict[\"top_matched\"].astype(bool)].phi.to_numpy()\n",
    "eta = gen_quarks_eta[top_match_dict[\"top_matched\"].astype(bool)].to_numpy()\n",
    "phi = gen_quarks_phi[top_match_dict[\"top_matched\"].astype(bool)].to_numpy()\n"
   ]
  },
  {
   "cell_type": "code",
   "execution_count": 38,
   "metadata": {},
   "outputs": [
    {
     "data": {
      "text/plain": [
       "masked_array(\n",
       "  data=[[ 1.2773438 ,  0.6933594 ,  1.5195312 ],\n",
       "        [-0.6796875 , -0.9511719 , -0.9609375 ],\n",
       "        [-0.76953125, -0.09863281, -0.61328125],\n",
       "        [ 0.6816406 ,  0.8671875 ,  0.9667969 ]],\n",
       "  mask=False,\n",
       "  fill_value=1e+20,\n",
       "  dtype=float32)"
      ]
     },
     "execution_count": 38,
     "metadata": {},
     "output_type": "execute_result"
    }
   ],
   "source": [
    "eta[:4]"
   ]
  },
  {
   "cell_type": "code",
   "execution_count": 39,
   "metadata": {},
   "outputs": [
    {
     "data": {
      "text/plain": [
       "masked_array(\n",
       "  data=[[ 2.6953125,  2.1328125,  2.9453125],\n",
       "        [-2.8984375, -2.6171875, -2.078125 ],\n",
       "        [ 0.9453125,  1.5195312,  1.328125 ],\n",
       "        [ 0.5996094,  0.7265625,  1.2226562]],\n",
       "  mask=False,\n",
       "  fill_value=1e+20,\n",
       "  dtype=float32)"
      ]
     },
     "execution_count": 39,
     "metadata": {},
     "output_type": "execute_result"
    }
   ],
   "source": [
    "phi[:4]"
   ]
  },
  {
   "cell_type": "code",
   "execution_count": 40,
   "metadata": {},
   "outputs": [],
   "source": [
    "gen_parts_eta_phi_bqq = np.array(np.dstack((eta,phi)))\n",
    "# can do test like : gen_parts_eta_phi[:2]"
   ]
  },
  {
   "cell_type": "code",
   "execution_count": 41,
   "metadata": {},
   "outputs": [
    {
     "data": {
      "text/plain": [
       "array([[[ 1.2773438 ,  2.6953125 ],\n",
       "        [ 0.6933594 ,  2.1328125 ],\n",
       "        [ 1.5195312 ,  2.9453125 ]],\n",
       "\n",
       "       [[-0.6796875 , -2.8984375 ],\n",
       "        [-0.9511719 , -2.6171875 ],\n",
       "        [-0.9609375 , -2.078125  ]],\n",
       "\n",
       "       [[-0.76953125,  0.9453125 ],\n",
       "        [-0.09863281,  1.5195312 ],\n",
       "        [-0.61328125,  1.328125  ]],\n",
       "\n",
       "       [[ 0.6816406 ,  0.5996094 ],\n",
       "        [ 0.8671875 ,  0.7265625 ],\n",
       "        [ 0.9667969 ,  1.2226562 ]]], dtype=float32)"
      ]
     },
     "execution_count": 41,
     "metadata": {},
     "output_type": "execute_result"
    }
   ],
   "source": [
    "gen_parts_eta_phi_bqq[:4]"
   ]
  },
  {
   "cell_type": "markdown",
   "metadata": {},
   "source": [
    "### Get FatJetPFCands 4-vector, up to 150 length to suit the input of Oz's function"
   ]
  },
  {
   "cell_type": "code",
   "execution_count": 42,
   "metadata": {},
   "outputs": [
    {
     "data": {
      "text/plain": [
       "<NanoEventsArray [<event 1:363752:363751501>, ... ] type='1686 * event'>"
      ]
     },
     "execution_count": 42,
     "metadata": {},
     "output_type": "execute_result"
    }
   ],
   "source": [
    "events_final = events_after_cut\n",
    "events_final"
   ]
  },
  {
   "cell_type": "code",
   "execution_count": 43,
   "metadata": {},
   "outputs": [],
   "source": [
    "# HWW_jet_idx = ak.argmax(tagger_scores[], axis=1)\n",
    "eventsScoreFatjet = events_final\n",
    "tagger_scores = eventsScoreFatjet.FatJet.inclParTMDV1_probHWqqWev0c + eventsScoreFatjet.FatJet.inclParTMDV1_probHWqqWev1c + eventsScoreFatjet.FatJet.inclParTMDV1_probHWqqWmv0c + eventsScoreFatjet.FatJet.inclParTMDV1_probHWqqWmv1c + eventsScoreFatjet.FatJet.inclParTMDV1_probHWqqWq0c + eventsScoreFatjet.FatJet.inclParTMDV1_probHWqqWq1c + eventsScoreFatjet.FatJet.inclParTMDV1_probHWqqWq2c + eventsScoreFatjet.FatJet.inclParTMDV1_probHWqqWqq0c + eventsScoreFatjet.FatJet.inclParTMDV1_probHWqqWqq1c + eventsScoreFatjet.FatJet.inclParTMDV1_probHWqqWqq2c + eventsScoreFatjet.FatJet.inclParTMDV1_probHWqqWtauev0c + eventsScoreFatjet.FatJet.inclParTMDV1_probHWqqWtauev1c + eventsScoreFatjet.FatJet.inclParTMDV1_probHWqqWtauhv0c + eventsScoreFatjet.FatJet.inclParTMDV1_probHWqqWtauhv1c + eventsScoreFatjet.FatJet.inclParTMDV1_probHWqqWtaumv0c + eventsScoreFatjet.FatJet.inclParTMDV1_probHWqqWtaumv1c\n",
    "#get maximum tagger score jet index\n",
    "HWW_jet_idx = ak.argmax(tagger_scores, axis=1)\n"
   ]
  },
  {
   "cell_type": "code",
   "execution_count": 44,
   "metadata": {},
   "outputs": [
    {
     "data": {
      "text/plain": [
       "<Array [0, 0, 0, 1, 0, 1, ... 0, 1, 0, 0, 1, 0] type='1686 * ?int64'>"
      ]
     },
     "execution_count": 44,
     "metadata": {},
     "output_type": "execute_result"
    }
   ],
   "source": [
    "HWW_jet_idx"
   ]
  },
  {
   "cell_type": "code",
   "execution_count": 45,
   "metadata": {},
   "outputs": [],
   "source": [
    "# first get the jet_idx HWW jet, each event has one jet_idx\n",
    "# HWW_match = WWdr <= match_dR #FatJetIdx in each event, which is real HWW jet\n",
    "# HWW_match_padded = pad_val(HWW_match,3,False,1,True) #pad the array with False value\n",
    "# HWW_jet_idx = np.argmax(HWW_match_padded,axis = 1) #the jet index in each jet which is true HWW jet\n",
    "# then get all the FatJetPFCands according to the jet_idx, and get PF_idx\n",
    "HWW_FatJetPFCands = (events_final.FatJetPFCands.jetIdx == HWW_jet_idx)\n",
    "HWW_FatJetPFCands_pFCandsIdx = events_final.FatJetPFCands.pFCandsIdx[HWW_FatJetPFCands]\n",
    "# at last, get PFCands 4-vector according to the PF_idx in last step\n"
   ]
  },
  {
   "cell_type": "code",
   "execution_count": 46,
   "metadata": {},
   "outputs": [],
   "source": [
    "pt_array =   ak.Array(events_final.PFCands.pt)\n",
    "eta_array =  ak.Array(events_final.PFCands.eta)\n",
    "phi_array =  ak.Array(events_final.PFCands.phi)\n",
    "mass_array = ak.Array(events_final.PFCands.mass)"
   ]
  },
  {
   "cell_type": "code",
   "execution_count": 47,
   "metadata": {},
   "outputs": [],
   "source": [
    "selected_pt =  pt_array[HWW_FatJetPFCands_pFCandsIdx]\n",
    "selected_eta = eta_array[HWW_FatJetPFCands_pFCandsIdx]\n",
    "selected_phi = phi_array[HWW_FatJetPFCands_pFCandsIdx]\n",
    "selected_mass = mass_array[HWW_FatJetPFCands_pFCandsIdx]"
   ]
  },
  {
   "cell_type": "code",
   "execution_count": 48,
   "metadata": {},
   "outputs": [],
   "source": [
    "selected_pt_padded = pad_val(selected_pt,150,0,1,True)\n",
    "selected_eta_padded = pad_val(selected_eta,150,0,1,True)\n",
    "selected_phi_padded = pad_val(selected_phi,150,0,1,True)\n",
    "selected_mass_padded = pad_val(selected_mass,150,0,1,True)"
   ]
  },
  {
   "cell_type": "code",
   "execution_count": 49,
   "metadata": {},
   "outputs": [],
   "source": [
    "#Construct (px,py,pz,E) using (pt,eta,phi,mass) information as the input\n",
    "pf_cands_px = selected_pt_padded * np.cos(selected_phi_padded)\n",
    "pf_cands_py = selected_pt_padded * np.sin(selected_phi_padded)\n",
    "pf_cands_pz = selected_pt_padded * np.sinh(selected_eta_padded)\n",
    "pf_cands_E = np.sqrt(pf_cands_px**2 + pf_cands_py**2 + pf_cands_pz**2 + selected_mass_padded**2)"
   ]
  },
  {
   "cell_type": "code",
   "execution_count": 50,
   "metadata": {},
   "outputs": [],
   "source": [
    "pf_cands_pxpypzE = np.dstack((pf_cands_px,pf_cands_py,pf_cands_pz,pf_cands_E))"
   ]
  },
  {
   "cell_type": "code",
   "execution_count": 51,
   "metadata": {},
   "outputs": [
    {
     "data": {
      "text/plain": [
       "masked_array(\n",
       "  data=[[-3.71473494e-01,  3.80464247e-01,  1.37904734e+00,\n",
       "          1.48458236e+00],\n",
       "        [-6.80828939e-01,  3.29444582e-01,  1.26978233e+00,\n",
       "          1.48454590e+00],\n",
       "        [-1.44500781e+00,  8.13381841e-01,  4.57691592e+00,\n",
       "          4.87003743e+00],\n",
       "        [-4.24080159e-01,  3.46839089e-01,  1.27392250e+00,\n",
       "          1.39373150e+00],\n",
       "        [-1.95012688e+01,  3.31637876e+00,  4.42415616e+01,\n",
       "          4.84626979e+01],\n",
       "        [-4.74273944e+00,  9.84041000e-01,  1.03974304e+01,\n",
       "          1.14711787e+01],\n",
       "        [-5.22455700e-01,  2.27140137e-02,  1.12012859e+00,\n",
       "          1.24403840e+00],\n",
       "        [-1.88690605e+00,  8.93796863e-01,  4.41819292e+00,\n",
       "          4.88867912e+00],\n",
       "        [-1.42685814e+00,  1.80490172e+00,  4.79292529e+00,\n",
       "          5.31838273e+00],\n",
       "        [-5.61378172e+00,  6.24740773e-01,  1.15077143e+01,\n",
       "          1.28199767e+01],\n",
       "        [-4.72487007e+00,  1.13539783e+00,  9.79557613e+00,\n",
       "          1.09355523e+01],\n",
       "        [-1.76688022e+00,  2.44138331e+00,  5.99593504e+00,\n",
       "          6.71214741e+00],\n",
       "        [-3.95548599e+00,  2.38171178e+00,  9.13116461e+00,\n",
       "          1.02330863e+01],\n",
       "        [-5.54180631e-01,  6.11417314e-01,  1.62036936e+00,\n",
       "          1.82373567e+00],\n",
       "        [-7.94541791e-01,  3.85906223e-01,  1.69211339e+00,\n",
       "          1.91387973e+00],\n",
       "        [-2.63811292e+00,  3.33707636e+00,  8.01972787e+00,\n",
       "          9.07916412e+00],\n",
       "        [-8.34417175e+00,  3.93754407e+00,  1.57467319e+01,\n",
       "          1.82512599e+01],\n",
       "        [-7.91349376e+00,  3.56561237e+00,  1.45966171e+01,\n",
       "          1.69828641e+01],\n",
       "        [-1.46286311e+01,  6.89439581e+00,  2.71267588e+01,\n",
       "          3.15817994e+01],\n",
       "        [-1.43727549e+00,  8.48302788e-01,  2.78282144e+00,\n",
       "          3.24791337e+00],\n",
       "        [-4.90819215e+00,  3.27127112e+00,  9.82953397e+00,\n",
       "          1.14643260e+01],\n",
       "        [-1.16948129e+01,  5.53265365e+00,  2.13701973e+01,\n",
       "          2.49816674e+01],\n",
       "        [-9.71324061e+00,  4.43944613e+00,  1.76206067e+01,\n",
       "          2.06048774e+01],\n",
       "        [-1.51299822e+01,  7.07658269e+00,  2.71752366e+01,\n",
       "          3.18983908e+01],\n",
       "        [-9.74076448e+00,  5.21065780e+00,  1.74731218e+01,\n",
       "          2.06727575e+01],\n",
       "        [-5.23964961e-01,  1.37524610e+00,  2.20509137e+00,\n",
       "          2.65475737e+00],\n",
       "        [-5.42172795e-01,  4.86604230e-01,  1.04423304e+00,\n",
       "          1.28086895e+00],\n",
       "        [-7.71822368e-01,  7.51358096e-01,  1.37996963e+00,\n",
       "          1.75614138e+00],\n",
       "        [-9.43697122e-01,  5.70112380e-01,  1.40987510e+00,\n",
       "          1.79521804e+00],\n",
       "        [-3.79793668e+00,  2.39172439e+00,  5.39377002e+00,\n",
       "          7.01832539e+00],\n",
       "        [-6.86363260e-01,  1.05753314e+00,  2.35849266e+00,\n",
       "          2.67795185e+00],\n",
       "        [-3.41776755e+01,  1.63942150e+01,  6.19195586e+01,\n",
       "          7.26010720e+01],\n",
       "        [-1.13351308e+00,  2.05810891e+00,  4.36148755e+00,\n",
       "          4.95607763e+00],\n",
       "        [-2.87531974e-01,  3.41323692e-02,  6.63159763e-01,\n",
       "          7.36945136e-01],\n",
       "        [-3.47008593e-01,  5.32742300e-02,  7.42107353e-01,\n",
       "          8.32732873e-01],\n",
       "        [-1.71552199e-01,  2.27780442e-01,  6.76045482e-01,\n",
       "          7.46872939e-01],\n",
       "        [-2.36320484e-01,  1.91933290e-01,  4.30174687e-01,\n",
       "          5.45163854e-01],\n",
       "        [-2.50068749e+00,  3.99242961e+00,  9.38302596e+00,\n",
       "          1.04992432e+01],\n",
       "        [-6.09629162e-01,  2.46862513e-01,  1.17880142e+00,\n",
       "          1.34987466e+00],\n",
       "        [-3.28082439e+00, -2.32644463e-01,  5.81944250e+00,\n",
       "          6.68459746e+00],\n",
       "        [-7.53374571e-01, -8.08648969e-03,  1.33155158e+00,\n",
       "          1.52992426e+00],\n",
       "        [-2.68887400e+00,  1.52219940e+00,  5.42568235e+00,\n",
       "          6.24381000e+00],\n",
       "        [-1.07218950e+00,  7.46806135e-01,  2.28734308e+00,\n",
       "          2.63424526e+00],\n",
       "        [-8.93300181e-01,  2.46768778e-01,  1.59064321e+00,\n",
       "          1.84093071e+00],\n",
       "        [-9.59931434e-01,  6.05164990e-01,  1.92682922e+00,\n",
       "          2.23614934e+00],\n",
       "        [-2.05128025e+01,  9.54544690e+00,  3.79944191e+01,\n",
       "          4.42206570e+01],\n",
       "        [-1.77319303e+00,  6.09435378e-01,  3.06016821e+00,\n",
       "          3.58890714e+00],\n",
       "        [-3.39573448e+00,  2.25127647e+00,  6.64378057e+00,\n",
       "          7.79352800e+00],\n",
       "        [-1.19976087e+02,  6.02395312e+01,  2.18857205e+02,\n",
       "          2.56751901e+02],\n",
       "        [-1.65181908e+00,  3.10040996e-01,  2.51526773e+00,\n",
       "          3.02509561e+00],\n",
       "        [-1.37486409e+00,  1.80935437e-01,  2.02459675e+00,\n",
       "          2.45397247e+00],\n",
       "        [-1.39453621e+00,  1.16691884e+00,  2.39652893e+00,\n",
       "          3.00828552e+00],\n",
       "        [-2.54884594e+00,  2.55005672e+00,  4.73296397e+00,\n",
       "          5.94981957e+00],\n",
       "        [-3.93835823e+00,  6.17986654e+00,  9.61090748e+00,\n",
       "          1.20859819e+01],\n",
       "        [-3.50967427e+00,  1.10557073e+00,  4.52813038e+00,\n",
       "          5.83472920e+00],\n",
       "        [-9.47477135e-01,  2.01900076e-01,  1.05453872e+00,\n",
       "          1.43196664e+00],\n",
       "        [-7.15253657e-01,  3.36668513e-01,  4.09873693e-01,\n",
       "          9.01330979e-01],\n",
       "        [-4.05799144e-01,  6.12073276e-01,  4.57562391e-01,\n",
       "          8.76434589e-01],\n",
       "        [-1.43705885e+00,  1.78176008e+00,  2.13205263e+00,\n",
       "          3.13128139e+00],\n",
       "        [-5.37924927e+00,  8.82583034e+00,  8.11096216e+00,\n",
       "          1.31392077e+01],\n",
       "        [-1.27683215e+01,  2.06530644e+01,  1.86341095e+01,\n",
       "          3.06076560e+01],\n",
       "        [-8.32369890e+00,  1.26753630e+01,  1.13446878e+01,\n",
       "          1.89385903e+01],\n",
       "        [-9.17414312e+00,  1.43491663e+01,  1.21697871e+01,\n",
       "          2.09329086e+01],\n",
       "        [-6.77323170e-01,  9.35889972e-01,  9.71276162e-01,\n",
       "          1.51575120e+00],\n",
       "        [-1.01649772e+00,  1.10836203e+00,  1.56760964e+00,\n",
       "          2.17235678e+00],\n",
       "        [-8.93539610e-01,  7.70226956e-01,  1.07099021e+00,\n",
       "          1.59332439e+00],\n",
       "        [-4.97569830e-01,  8.08356666e-01,  7.90937430e-01,\n",
       "          1.23555585e+00],\n",
       "        [-1.30550015e+00,  1.91584434e+00,  1.93030191e+00,\n",
       "          3.01676244e+00],\n",
       "        [-6.32713407e-01,  1.82921170e+00,  1.56875658e+00,\n",
       "          2.49145317e+00],\n",
       "        [-1.14214163e+00,  9.55720315e-01,  1.20704026e+00,\n",
       "          1.91698592e+00],\n",
       "        [-7.23327290e+00,  1.09332281e+01,  9.91163702e+00,\n",
       "          1.64346056e+01],\n",
       "        [-2.70409594e+00,  2.67647382e+00,  2.65101982e+00,\n",
       "          4.63719237e+00],\n",
       "        [-1.40577863e+00,  2.54363431e+00,  2.00687498e+00,\n",
       "          3.53183186e+00],\n",
       "        [ 0.00000000e+00,  0.00000000e+00,  0.00000000e+00,\n",
       "          0.00000000e+00],\n",
       "        [ 0.00000000e+00,  0.00000000e+00,  0.00000000e+00,\n",
       "          0.00000000e+00],\n",
       "        [ 0.00000000e+00,  0.00000000e+00,  0.00000000e+00,\n",
       "          0.00000000e+00],\n",
       "        [ 0.00000000e+00,  0.00000000e+00,  0.00000000e+00,\n",
       "          0.00000000e+00],\n",
       "        [ 0.00000000e+00,  0.00000000e+00,  0.00000000e+00,\n",
       "          0.00000000e+00],\n",
       "        [ 0.00000000e+00,  0.00000000e+00,  0.00000000e+00,\n",
       "          0.00000000e+00],\n",
       "        [ 0.00000000e+00,  0.00000000e+00,  0.00000000e+00,\n",
       "          0.00000000e+00],\n",
       "        [ 0.00000000e+00,  0.00000000e+00,  0.00000000e+00,\n",
       "          0.00000000e+00],\n",
       "        [ 0.00000000e+00,  0.00000000e+00,  0.00000000e+00,\n",
       "          0.00000000e+00],\n",
       "        [ 0.00000000e+00,  0.00000000e+00,  0.00000000e+00,\n",
       "          0.00000000e+00],\n",
       "        [ 0.00000000e+00,  0.00000000e+00,  0.00000000e+00,\n",
       "          0.00000000e+00],\n",
       "        [ 0.00000000e+00,  0.00000000e+00,  0.00000000e+00,\n",
       "          0.00000000e+00],\n",
       "        [ 0.00000000e+00,  0.00000000e+00,  0.00000000e+00,\n",
       "          0.00000000e+00],\n",
       "        [ 0.00000000e+00,  0.00000000e+00,  0.00000000e+00,\n",
       "          0.00000000e+00],\n",
       "        [ 0.00000000e+00,  0.00000000e+00,  0.00000000e+00,\n",
       "          0.00000000e+00],\n",
       "        [ 0.00000000e+00,  0.00000000e+00,  0.00000000e+00,\n",
       "          0.00000000e+00],\n",
       "        [ 0.00000000e+00,  0.00000000e+00,  0.00000000e+00,\n",
       "          0.00000000e+00],\n",
       "        [ 0.00000000e+00,  0.00000000e+00,  0.00000000e+00,\n",
       "          0.00000000e+00],\n",
       "        [ 0.00000000e+00,  0.00000000e+00,  0.00000000e+00,\n",
       "          0.00000000e+00],\n",
       "        [ 0.00000000e+00,  0.00000000e+00,  0.00000000e+00,\n",
       "          0.00000000e+00],\n",
       "        [ 0.00000000e+00,  0.00000000e+00,  0.00000000e+00,\n",
       "          0.00000000e+00],\n",
       "        [ 0.00000000e+00,  0.00000000e+00,  0.00000000e+00,\n",
       "          0.00000000e+00],\n",
       "        [ 0.00000000e+00,  0.00000000e+00,  0.00000000e+00,\n",
       "          0.00000000e+00],\n",
       "        [ 0.00000000e+00,  0.00000000e+00,  0.00000000e+00,\n",
       "          0.00000000e+00],\n",
       "        [ 0.00000000e+00,  0.00000000e+00,  0.00000000e+00,\n",
       "          0.00000000e+00],\n",
       "        [ 0.00000000e+00,  0.00000000e+00,  0.00000000e+00,\n",
       "          0.00000000e+00],\n",
       "        [ 0.00000000e+00,  0.00000000e+00,  0.00000000e+00,\n",
       "          0.00000000e+00],\n",
       "        [ 0.00000000e+00,  0.00000000e+00,  0.00000000e+00,\n",
       "          0.00000000e+00],\n",
       "        [ 0.00000000e+00,  0.00000000e+00,  0.00000000e+00,\n",
       "          0.00000000e+00],\n",
       "        [ 0.00000000e+00,  0.00000000e+00,  0.00000000e+00,\n",
       "          0.00000000e+00],\n",
       "        [ 0.00000000e+00,  0.00000000e+00,  0.00000000e+00,\n",
       "          0.00000000e+00],\n",
       "        [ 0.00000000e+00,  0.00000000e+00,  0.00000000e+00,\n",
       "          0.00000000e+00],\n",
       "        [ 0.00000000e+00,  0.00000000e+00,  0.00000000e+00,\n",
       "          0.00000000e+00],\n",
       "        [ 0.00000000e+00,  0.00000000e+00,  0.00000000e+00,\n",
       "          0.00000000e+00],\n",
       "        [ 0.00000000e+00,  0.00000000e+00,  0.00000000e+00,\n",
       "          0.00000000e+00],\n",
       "        [ 0.00000000e+00,  0.00000000e+00,  0.00000000e+00,\n",
       "          0.00000000e+00],\n",
       "        [ 0.00000000e+00,  0.00000000e+00,  0.00000000e+00,\n",
       "          0.00000000e+00],\n",
       "        [ 0.00000000e+00,  0.00000000e+00,  0.00000000e+00,\n",
       "          0.00000000e+00],\n",
       "        [ 0.00000000e+00,  0.00000000e+00,  0.00000000e+00,\n",
       "          0.00000000e+00],\n",
       "        [ 0.00000000e+00,  0.00000000e+00,  0.00000000e+00,\n",
       "          0.00000000e+00],\n",
       "        [ 0.00000000e+00,  0.00000000e+00,  0.00000000e+00,\n",
       "          0.00000000e+00],\n",
       "        [ 0.00000000e+00,  0.00000000e+00,  0.00000000e+00,\n",
       "          0.00000000e+00],\n",
       "        [ 0.00000000e+00,  0.00000000e+00,  0.00000000e+00,\n",
       "          0.00000000e+00],\n",
       "        [ 0.00000000e+00,  0.00000000e+00,  0.00000000e+00,\n",
       "          0.00000000e+00],\n",
       "        [ 0.00000000e+00,  0.00000000e+00,  0.00000000e+00,\n",
       "          0.00000000e+00],\n",
       "        [ 0.00000000e+00,  0.00000000e+00,  0.00000000e+00,\n",
       "          0.00000000e+00],\n",
       "        [ 0.00000000e+00,  0.00000000e+00,  0.00000000e+00,\n",
       "          0.00000000e+00],\n",
       "        [ 0.00000000e+00,  0.00000000e+00,  0.00000000e+00,\n",
       "          0.00000000e+00],\n",
       "        [ 0.00000000e+00,  0.00000000e+00,  0.00000000e+00,\n",
       "          0.00000000e+00],\n",
       "        [ 0.00000000e+00,  0.00000000e+00,  0.00000000e+00,\n",
       "          0.00000000e+00],\n",
       "        [ 0.00000000e+00,  0.00000000e+00,  0.00000000e+00,\n",
       "          0.00000000e+00],\n",
       "        [ 0.00000000e+00,  0.00000000e+00,  0.00000000e+00,\n",
       "          0.00000000e+00],\n",
       "        [ 0.00000000e+00,  0.00000000e+00,  0.00000000e+00,\n",
       "          0.00000000e+00],\n",
       "        [ 0.00000000e+00,  0.00000000e+00,  0.00000000e+00,\n",
       "          0.00000000e+00],\n",
       "        [ 0.00000000e+00,  0.00000000e+00,  0.00000000e+00,\n",
       "          0.00000000e+00],\n",
       "        [ 0.00000000e+00,  0.00000000e+00,  0.00000000e+00,\n",
       "          0.00000000e+00],\n",
       "        [ 0.00000000e+00,  0.00000000e+00,  0.00000000e+00,\n",
       "          0.00000000e+00],\n",
       "        [ 0.00000000e+00,  0.00000000e+00,  0.00000000e+00,\n",
       "          0.00000000e+00],\n",
       "        [ 0.00000000e+00,  0.00000000e+00,  0.00000000e+00,\n",
       "          0.00000000e+00],\n",
       "        [ 0.00000000e+00,  0.00000000e+00,  0.00000000e+00,\n",
       "          0.00000000e+00],\n",
       "        [ 0.00000000e+00,  0.00000000e+00,  0.00000000e+00,\n",
       "          0.00000000e+00],\n",
       "        [ 0.00000000e+00,  0.00000000e+00,  0.00000000e+00,\n",
       "          0.00000000e+00],\n",
       "        [ 0.00000000e+00,  0.00000000e+00,  0.00000000e+00,\n",
       "          0.00000000e+00],\n",
       "        [ 0.00000000e+00,  0.00000000e+00,  0.00000000e+00,\n",
       "          0.00000000e+00],\n",
       "        [ 0.00000000e+00,  0.00000000e+00,  0.00000000e+00,\n",
       "          0.00000000e+00],\n",
       "        [ 0.00000000e+00,  0.00000000e+00,  0.00000000e+00,\n",
       "          0.00000000e+00],\n",
       "        [ 0.00000000e+00,  0.00000000e+00,  0.00000000e+00,\n",
       "          0.00000000e+00],\n",
       "        [ 0.00000000e+00,  0.00000000e+00,  0.00000000e+00,\n",
       "          0.00000000e+00],\n",
       "        [ 0.00000000e+00,  0.00000000e+00,  0.00000000e+00,\n",
       "          0.00000000e+00],\n",
       "        [ 0.00000000e+00,  0.00000000e+00,  0.00000000e+00,\n",
       "          0.00000000e+00],\n",
       "        [ 0.00000000e+00,  0.00000000e+00,  0.00000000e+00,\n",
       "          0.00000000e+00],\n",
       "        [ 0.00000000e+00,  0.00000000e+00,  0.00000000e+00,\n",
       "          0.00000000e+00],\n",
       "        [ 0.00000000e+00,  0.00000000e+00,  0.00000000e+00,\n",
       "          0.00000000e+00],\n",
       "        [ 0.00000000e+00,  0.00000000e+00,  0.00000000e+00,\n",
       "          0.00000000e+00],\n",
       "        [ 0.00000000e+00,  0.00000000e+00,  0.00000000e+00,\n",
       "          0.00000000e+00],\n",
       "        [ 0.00000000e+00,  0.00000000e+00,  0.00000000e+00,\n",
       "          0.00000000e+00],\n",
       "        [ 0.00000000e+00,  0.00000000e+00,  0.00000000e+00,\n",
       "          0.00000000e+00]],\n",
       "  mask=False,\n",
       "  fill_value=1e+20)"
      ]
     },
     "execution_count": 51,
     "metadata": {},
     "output_type": "execute_result"
    }
   ],
   "source": [
    "pf_cands_pxpypzE[0]"
   ]
  },
  {
   "cell_type": "code",
   "execution_count": 52,
   "metadata": {},
   "outputs": [],
   "source": [
    "pf_cands_4vec = np.dstack((selected_pt_padded,selected_eta_padded,selected_phi_padded,selected_mass_padded))"
   ]
  },
  {
   "cell_type": "code",
   "execution_count": 53,
   "metadata": {},
   "outputs": [
    {
     "data": {
      "text/plain": [
       "masked_array(\n",
       "  data=[[ 5.31738281e-01,  1.68139648e+00,  2.34423828e+00,\n",
       "          1.39526367e-01],\n",
       "        [ 7.56347656e-01,  1.29003906e+00,  2.69091797e+00,\n",
       "          1.39526367e-01],\n",
       "        [ 1.65820312e+00,  1.73974609e+00,  2.62890625e+00,\n",
       "          1.39526367e-01],\n",
       "        [ 5.47851562e-01,  1.58032227e+00,  2.45605469e+00,\n",
       "          1.39526367e-01],\n",
       "        [ 1.97812500e+01,  1.54467773e+00,  2.97314453e+00,\n",
       "          1.39526367e-01],\n",
       "        [ 4.84375000e+00,  1.50732422e+00,  2.93701172e+00,\n",
       "          1.39526367e-01],\n",
       "        [ 5.22949219e-01,  1.50537109e+00,  3.09814453e+00,\n",
       "          1.39526367e-01],\n",
       "        [ 2.08789062e+00,  1.49438477e+00,  2.69921875e+00,\n",
       "          1.39526367e-01],\n",
       "        [ 2.30078125e+00,  1.48022461e+00,  2.23974609e+00,\n",
       "          1.39526367e-01],\n",
       "        [ 5.64843750e+00,  1.46020508e+00,  3.03076172e+00,\n",
       "          1.39526367e-01],\n",
       "        [ 4.85937500e+00,  1.45068359e+00,  2.90576172e+00,\n",
       "          1.39526367e-01],\n",
       "        [ 3.01367188e+00,  1.43896484e+00,  2.19726562e+00,\n",
       "          1.39526367e-01],\n",
       "        [ 4.61718750e+00,  1.43359375e+00,  2.59960938e+00,\n",
       "          1.39526367e-01],\n",
       "        [ 8.25195312e-01,  1.42724609e+00,  2.30712891e+00,\n",
       "          1.39526367e-01],\n",
       "        [ 8.83300781e-01,  1.40527344e+00,  2.68945312e+00,\n",
       "          1.39526367e-01],\n",
       "        [ 4.25390625e+00,  1.39111328e+00,  2.23974609e+00,\n",
       "          1.39526367e-01],\n",
       "        [ 9.22656250e+00,  1.30419922e+00,  2.70068359e+00,\n",
       "          1.39526367e-01],\n",
       "        [ 8.67968750e+00,  1.29150391e+00,  2.71826172e+00,\n",
       "          1.39526367e-01],\n",
       "        [ 1.61718750e+01,  1.28930664e+00,  2.70117188e+00,\n",
       "          1.39526367e-01],\n",
       "        [ 1.66894531e+00,  1.28417969e+00,  2.60839844e+00,\n",
       "          1.39526367e-01],\n",
       "        [ 5.89843750e+00,  1.28369141e+00,  2.55371094e+00,\n",
       "          1.39526367e-01],\n",
       "        [ 1.29375000e+01,  1.27612305e+00,  2.69970703e+00,\n",
       "          1.39526367e-01],\n",
       "        [ 1.06796875e+01,  1.27514648e+00,  2.71289062e+00,\n",
       "          1.39526367e-01],\n",
       "        [ 1.67031250e+01,  1.26318359e+00,  2.70410156e+00,\n",
       "          1.39526367e-01],\n",
       "        [ 1.10468750e+01,  1.23925781e+00,  2.65039062e+00,\n",
       "          1.39526367e-01],\n",
       "        [ 1.47167969e+00,  1.19384766e+00,  1.93481445e+00,\n",
       "          1.39526367e-01],\n",
       "        [ 7.28515625e-01,  1.15722656e+00,  2.41015625e+00,\n",
       "          1.39526367e-01],\n",
       "        [ 1.07714844e+00,  1.06689453e+00,  2.36962891e+00,\n",
       "          1.39526367e-01],\n",
       "        [ 1.10253906e+00,  1.06542969e+00,  2.59814453e+00,\n",
       "          1.39526367e-01],\n",
       "        [ 4.48828125e+00,  1.01708984e+00,  2.57958984e+00,\n",
       "          1.39526367e-01],\n",
       "        [ 1.26074219e+00,  1.38427734e+00,  2.14648438e+00,\n",
       "          1.39526367e-01],\n",
       "        [ 3.79062500e+01,  1.26660156e+00,  2.69433594e+00,\n",
       "         -1.09786987e-02],\n",
       "        [ 2.34960938e+00,  1.37744141e+00,  2.07421875e+00,\n",
       "          1.39526367e-01],\n",
       "        [ 2.89550781e-01,  1.56640625e+00,  3.02343750e+00,\n",
       "          1.39526367e-01],\n",
       "        [ 3.51074219e-01,  1.49340820e+00,  2.98925781e+00,\n",
       "          1.39526367e-01],\n",
       "        [ 2.85156250e-01,  1.59814453e+00,  2.21630859e+00,\n",
       "          1.39526367e-01],\n",
       "        [ 3.04443359e-01,  1.14550781e+00,  2.45947266e+00,\n",
       "          1.39526367e-01],\n",
       "        [ 4.71093750e+00,  1.43994141e+00,  2.13037109e+00,\n",
       "          0.00000000e+00],\n",
       "        [ 6.57714844e-01,  1.34667969e+00,  2.75683594e+00,\n",
       "         -0.00000000e+00],\n",
       "        [ 3.28906250e+00,  1.33544922e+00, -3.07080078e+00,\n",
       "          0.00000000e+00],\n",
       "        [ 7.53417969e-01,  1.33447266e+00, -3.13085938e+00,\n",
       "          0.00000000e+00],\n",
       "        [ 3.08984375e+00,  1.32885742e+00,  2.62646484e+00,\n",
       "         -5.96046448e-08],\n",
       "        [ 1.30664062e+00,  1.32617188e+00,  2.53320312e+00,\n",
       "          0.00000000e+00],\n",
       "        [ 9.26757812e-01,  1.30908203e+00,  2.87207031e+00,\n",
       "          0.00000000e+00],\n",
       "        [ 1.13476562e+00,  1.29980469e+00,  2.57910156e+00,\n",
       "          0.00000000e+00],\n",
       "        [ 2.26250000e+01,  1.29028320e+00,  2.70605469e+00,\n",
       "         -4.76837158e-07],\n",
       "        [ 1.87500000e+00,  1.26586914e+00,  2.81054688e+00,\n",
       "         -0.00000000e+00],\n",
       "        [ 4.07421875e+00,  1.26513672e+00,  2.55615234e+00,\n",
       "          0.00000000e+00],\n",
       "        [ 1.34250000e+02,  1.26489258e+00,  2.67626953e+00,\n",
       "          2.68220901e-06],\n",
       "        [ 1.68066406e+00,  1.19287109e+00,  2.95605469e+00,\n",
       "         -0.00000000e+00],\n",
       "        [ 1.38671875e+00,  1.17236328e+00,  3.01074219e+00,\n",
       "          0.00000000e+00],\n",
       "        [ 1.81835938e+00,  1.08935547e+00,  2.44482422e+00,\n",
       "         -0.00000000e+00],\n",
       "        [ 3.60546875e+00,  1.08618164e+00,  2.35595703e+00,\n",
       "          5.96046448e-08],\n",
       "        [ 7.32812500e+00,  1.08544922e+00,  2.13818359e+00,\n",
       "         -1.19209290e-07],\n",
       "        [ 3.67968750e+00,  1.03540039e+00,  2.83642578e+00,\n",
       "          5.96046448e-08],\n",
       "        [ 9.68750000e-01,  9.42626953e-01,  2.93164062e+00,\n",
       "          0.00000000e+00],\n",
       "        [ 7.90527344e-01,  4.97680664e-01,  2.70166016e+00,\n",
       "          1.39526367e-01],\n",
       "        [ 7.34375000e-01,  5.88500977e-01,  2.15625000e+00,\n",
       "          1.39526367e-01],\n",
       "        [ 2.28906250e+00,  8.32031250e-01,  2.24951172e+00,\n",
       "          1.39526367e-01],\n",
       "        [ 1.03359375e+01,  7.20703125e-01,  2.11816406e+00,\n",
       "          1.39526367e-01],\n",
       "        [ 2.42812500e+01,  7.07031250e-01,  2.12451172e+00,\n",
       "          1.39526367e-01],\n",
       "        [ 1.51640625e+01,  6.91650391e-01,  2.15185547e+00,\n",
       "          1.39526367e-01],\n",
       "        [ 1.70312500e+01,  6.64550781e-01,  2.13964844e+00,\n",
       "          1.39526367e-01],\n",
       "        [ 1.15527344e+00,  7.64160156e-01,  2.19726562e+00,\n",
       "          1.39526367e-01],\n",
       "        [ 1.50390625e+00,  9.11010742e-01,  2.31298828e+00,\n",
       "          0.00000000e+00],\n",
       "        [ 1.17968750e+00,  8.14697266e-01,  2.43017578e+00,\n",
       "          0.00000000e+00],\n",
       "        [ 9.49218750e-01,  7.58422852e-01,  2.12255859e+00,\n",
       "         -0.00000000e+00],\n",
       "        [ 2.31835938e+00,  7.57934570e-01,  2.16894531e+00,\n",
       "          0.00000000e+00],\n",
       "        [ 1.93554688e+00,  7.40844727e-01,  1.90380859e+00,\n",
       "          0.00000000e+00],\n",
       "        [ 1.48925781e+00,  7.40844727e-01,  2.44482422e+00,\n",
       "          0.00000000e+00],\n",
       "        [ 1.31093750e+01,  6.97998047e-01,  2.15527344e+00,\n",
       "         -1.19209290e-07],\n",
       "        [ 3.80468750e+00,  6.50024414e-01,  2.36132812e+00,\n",
       "          0.00000000e+00],\n",
       "        [ 2.90625000e+00,  6.44897461e-01,  2.07568359e+00,\n",
       "         -0.00000000e+00],\n",
       "        [ 0.00000000e+00,  0.00000000e+00,  0.00000000e+00,\n",
       "          0.00000000e+00],\n",
       "        [ 0.00000000e+00,  0.00000000e+00,  0.00000000e+00,\n",
       "          0.00000000e+00],\n",
       "        [ 0.00000000e+00,  0.00000000e+00,  0.00000000e+00,\n",
       "          0.00000000e+00],\n",
       "        [ 0.00000000e+00,  0.00000000e+00,  0.00000000e+00,\n",
       "          0.00000000e+00],\n",
       "        [ 0.00000000e+00,  0.00000000e+00,  0.00000000e+00,\n",
       "          0.00000000e+00],\n",
       "        [ 0.00000000e+00,  0.00000000e+00,  0.00000000e+00,\n",
       "          0.00000000e+00],\n",
       "        [ 0.00000000e+00,  0.00000000e+00,  0.00000000e+00,\n",
       "          0.00000000e+00],\n",
       "        [ 0.00000000e+00,  0.00000000e+00,  0.00000000e+00,\n",
       "          0.00000000e+00],\n",
       "        [ 0.00000000e+00,  0.00000000e+00,  0.00000000e+00,\n",
       "          0.00000000e+00],\n",
       "        [ 0.00000000e+00,  0.00000000e+00,  0.00000000e+00,\n",
       "          0.00000000e+00],\n",
       "        [ 0.00000000e+00,  0.00000000e+00,  0.00000000e+00,\n",
       "          0.00000000e+00],\n",
       "        [ 0.00000000e+00,  0.00000000e+00,  0.00000000e+00,\n",
       "          0.00000000e+00],\n",
       "        [ 0.00000000e+00,  0.00000000e+00,  0.00000000e+00,\n",
       "          0.00000000e+00],\n",
       "        [ 0.00000000e+00,  0.00000000e+00,  0.00000000e+00,\n",
       "          0.00000000e+00],\n",
       "        [ 0.00000000e+00,  0.00000000e+00,  0.00000000e+00,\n",
       "          0.00000000e+00],\n",
       "        [ 0.00000000e+00,  0.00000000e+00,  0.00000000e+00,\n",
       "          0.00000000e+00],\n",
       "        [ 0.00000000e+00,  0.00000000e+00,  0.00000000e+00,\n",
       "          0.00000000e+00],\n",
       "        [ 0.00000000e+00,  0.00000000e+00,  0.00000000e+00,\n",
       "          0.00000000e+00],\n",
       "        [ 0.00000000e+00,  0.00000000e+00,  0.00000000e+00,\n",
       "          0.00000000e+00],\n",
       "        [ 0.00000000e+00,  0.00000000e+00,  0.00000000e+00,\n",
       "          0.00000000e+00],\n",
       "        [ 0.00000000e+00,  0.00000000e+00,  0.00000000e+00,\n",
       "          0.00000000e+00],\n",
       "        [ 0.00000000e+00,  0.00000000e+00,  0.00000000e+00,\n",
       "          0.00000000e+00],\n",
       "        [ 0.00000000e+00,  0.00000000e+00,  0.00000000e+00,\n",
       "          0.00000000e+00],\n",
       "        [ 0.00000000e+00,  0.00000000e+00,  0.00000000e+00,\n",
       "          0.00000000e+00],\n",
       "        [ 0.00000000e+00,  0.00000000e+00,  0.00000000e+00,\n",
       "          0.00000000e+00],\n",
       "        [ 0.00000000e+00,  0.00000000e+00,  0.00000000e+00,\n",
       "          0.00000000e+00],\n",
       "        [ 0.00000000e+00,  0.00000000e+00,  0.00000000e+00,\n",
       "          0.00000000e+00],\n",
       "        [ 0.00000000e+00,  0.00000000e+00,  0.00000000e+00,\n",
       "          0.00000000e+00],\n",
       "        [ 0.00000000e+00,  0.00000000e+00,  0.00000000e+00,\n",
       "          0.00000000e+00],\n",
       "        [ 0.00000000e+00,  0.00000000e+00,  0.00000000e+00,\n",
       "          0.00000000e+00],\n",
       "        [ 0.00000000e+00,  0.00000000e+00,  0.00000000e+00,\n",
       "          0.00000000e+00],\n",
       "        [ 0.00000000e+00,  0.00000000e+00,  0.00000000e+00,\n",
       "          0.00000000e+00],\n",
       "        [ 0.00000000e+00,  0.00000000e+00,  0.00000000e+00,\n",
       "          0.00000000e+00],\n",
       "        [ 0.00000000e+00,  0.00000000e+00,  0.00000000e+00,\n",
       "          0.00000000e+00],\n",
       "        [ 0.00000000e+00,  0.00000000e+00,  0.00000000e+00,\n",
       "          0.00000000e+00],\n",
       "        [ 0.00000000e+00,  0.00000000e+00,  0.00000000e+00,\n",
       "          0.00000000e+00],\n",
       "        [ 0.00000000e+00,  0.00000000e+00,  0.00000000e+00,\n",
       "          0.00000000e+00],\n",
       "        [ 0.00000000e+00,  0.00000000e+00,  0.00000000e+00,\n",
       "          0.00000000e+00],\n",
       "        [ 0.00000000e+00,  0.00000000e+00,  0.00000000e+00,\n",
       "          0.00000000e+00],\n",
       "        [ 0.00000000e+00,  0.00000000e+00,  0.00000000e+00,\n",
       "          0.00000000e+00],\n",
       "        [ 0.00000000e+00,  0.00000000e+00,  0.00000000e+00,\n",
       "          0.00000000e+00],\n",
       "        [ 0.00000000e+00,  0.00000000e+00,  0.00000000e+00,\n",
       "          0.00000000e+00],\n",
       "        [ 0.00000000e+00,  0.00000000e+00,  0.00000000e+00,\n",
       "          0.00000000e+00],\n",
       "        [ 0.00000000e+00,  0.00000000e+00,  0.00000000e+00,\n",
       "          0.00000000e+00],\n",
       "        [ 0.00000000e+00,  0.00000000e+00,  0.00000000e+00,\n",
       "          0.00000000e+00],\n",
       "        [ 0.00000000e+00,  0.00000000e+00,  0.00000000e+00,\n",
       "          0.00000000e+00],\n",
       "        [ 0.00000000e+00,  0.00000000e+00,  0.00000000e+00,\n",
       "          0.00000000e+00],\n",
       "        [ 0.00000000e+00,  0.00000000e+00,  0.00000000e+00,\n",
       "          0.00000000e+00],\n",
       "        [ 0.00000000e+00,  0.00000000e+00,  0.00000000e+00,\n",
       "          0.00000000e+00],\n",
       "        [ 0.00000000e+00,  0.00000000e+00,  0.00000000e+00,\n",
       "          0.00000000e+00],\n",
       "        [ 0.00000000e+00,  0.00000000e+00,  0.00000000e+00,\n",
       "          0.00000000e+00],\n",
       "        [ 0.00000000e+00,  0.00000000e+00,  0.00000000e+00,\n",
       "          0.00000000e+00],\n",
       "        [ 0.00000000e+00,  0.00000000e+00,  0.00000000e+00,\n",
       "          0.00000000e+00],\n",
       "        [ 0.00000000e+00,  0.00000000e+00,  0.00000000e+00,\n",
       "          0.00000000e+00],\n",
       "        [ 0.00000000e+00,  0.00000000e+00,  0.00000000e+00,\n",
       "          0.00000000e+00],\n",
       "        [ 0.00000000e+00,  0.00000000e+00,  0.00000000e+00,\n",
       "          0.00000000e+00],\n",
       "        [ 0.00000000e+00,  0.00000000e+00,  0.00000000e+00,\n",
       "          0.00000000e+00],\n",
       "        [ 0.00000000e+00,  0.00000000e+00,  0.00000000e+00,\n",
       "          0.00000000e+00],\n",
       "        [ 0.00000000e+00,  0.00000000e+00,  0.00000000e+00,\n",
       "          0.00000000e+00],\n",
       "        [ 0.00000000e+00,  0.00000000e+00,  0.00000000e+00,\n",
       "          0.00000000e+00],\n",
       "        [ 0.00000000e+00,  0.00000000e+00,  0.00000000e+00,\n",
       "          0.00000000e+00],\n",
       "        [ 0.00000000e+00,  0.00000000e+00,  0.00000000e+00,\n",
       "          0.00000000e+00],\n",
       "        [ 0.00000000e+00,  0.00000000e+00,  0.00000000e+00,\n",
       "          0.00000000e+00],\n",
       "        [ 0.00000000e+00,  0.00000000e+00,  0.00000000e+00,\n",
       "          0.00000000e+00],\n",
       "        [ 0.00000000e+00,  0.00000000e+00,  0.00000000e+00,\n",
       "          0.00000000e+00],\n",
       "        [ 0.00000000e+00,  0.00000000e+00,  0.00000000e+00,\n",
       "          0.00000000e+00],\n",
       "        [ 0.00000000e+00,  0.00000000e+00,  0.00000000e+00,\n",
       "          0.00000000e+00],\n",
       "        [ 0.00000000e+00,  0.00000000e+00,  0.00000000e+00,\n",
       "          0.00000000e+00],\n",
       "        [ 0.00000000e+00,  0.00000000e+00,  0.00000000e+00,\n",
       "          0.00000000e+00],\n",
       "        [ 0.00000000e+00,  0.00000000e+00,  0.00000000e+00,\n",
       "          0.00000000e+00],\n",
       "        [ 0.00000000e+00,  0.00000000e+00,  0.00000000e+00,\n",
       "          0.00000000e+00],\n",
       "        [ 0.00000000e+00,  0.00000000e+00,  0.00000000e+00,\n",
       "          0.00000000e+00],\n",
       "        [ 0.00000000e+00,  0.00000000e+00,  0.00000000e+00,\n",
       "          0.00000000e+00],\n",
       "        [ 0.00000000e+00,  0.00000000e+00,  0.00000000e+00,\n",
       "          0.00000000e+00],\n",
       "        [ 0.00000000e+00,  0.00000000e+00,  0.00000000e+00,\n",
       "          0.00000000e+00],\n",
       "        [ 0.00000000e+00,  0.00000000e+00,  0.00000000e+00,\n",
       "          0.00000000e+00],\n",
       "        [ 0.00000000e+00,  0.00000000e+00,  0.00000000e+00,\n",
       "          0.00000000e+00]],\n",
       "  mask=False,\n",
       "  fill_value=1e+20)"
      ]
     },
     "execution_count": 53,
     "metadata": {},
     "output_type": "execute_result"
    }
   ],
   "source": [
    "pf_cands_4vec[0]"
   ]
  },
  {
   "cell_type": "markdown",
   "metadata": {},
   "source": [
    "### Next compute tagger score"
   ]
  },
  {
   "cell_type": "code",
   "execution_count": 54,
   "metadata": {},
   "outputs": [],
   "source": [
    "tagger_scores = leading_fatjet\n",
    "tagger_scores = leading_fatjet.inclParTMDV1_probHWqqWev0c + leading_fatjet.inclParTMDV1_probHWqqWev1c + leading_fatjet.inclParTMDV1_probHWqqWmv0c + leading_fatjet.inclParTMDV1_probHWqqWmv1c + leading_fatjet.inclParTMDV1_probHWqqWq0c + leading_fatjet.inclParTMDV1_probHWqqWq1c + leading_fatjet.inclParTMDV1_probHWqqWq2c + leading_fatjet.inclParTMDV1_probHWqqWqq0c + leading_fatjet.inclParTMDV1_probHWqqWqq1c + leading_fatjet.inclParTMDV1_probHWqqWqq2c + leading_fatjet.inclParTMDV1_probHWqqWtauev0c + leading_fatjet.inclParTMDV1_probHWqqWtauev1c + leading_fatjet.inclParTMDV1_probHWqqWtauhv0c + leading_fatjet.inclParTMDV1_probHWqqWtauhv1c + leading_fatjet.inclParTMDV1_probHWqqWtaumv0c + leading_fatjet.inclParTMDV1_probHWqqWtaumv1c\n",
    "HWWJets_tagger_score = tagger_scores[top_match_dict[\"top_matched\"].astype(bool)]"
   ]
  },
  {
   "cell_type": "markdown",
   "metadata": {},
   "source": [
    "### Calculate SFs and weights"
   ]
  },
  {
   "cell_type": "code",
   "execution_count": 55,
   "metadata": {},
   "outputs": [
    {
     "name": "stdout",
     "output_type": "stream",
     "text": [
      "Nominal efficiency 0.039, Corrected efficiency 0.043, SF (corrected / nom) 1.089\n",
      "Stat variation toys eff. avg 0.043, std dev 0.004\n",
      "Pt variation toys eff. avg 0.043, std dev 0.000\n",
      "\n",
      "\n",
      "Calibrated efficiency  is 0.043 +/- 0.004  (stat) +/- 0.000 (pt) +/- -0.002/0.003 (sys)+/- 0.013 (matching)  \n",
      "\n",
      "\n",
      "Now perform SFs information\n",
      "SF (corrected / nom) 1.089\n",
      "\n",
      "\n",
      "SF is 1.089 +/-0.106(stat) +/-0.013(pt) +0.002/-0.003(sys) +/-0.342(match) \n",
      "\n",
      "\n",
      "#--------------------------------------------------------------------------\n",
      "#                         FastJet release 3.4.0\n",
      "#                 M. Cacciari, G.P. Salam and G. Soyez                  \n",
      "#     A software package for jet finding and analysis at colliders      \n",
      "#                           http://fastjet.fr                           \n",
      "#\t                                                                      \n",
      "# Please cite EPJC72(2012)1896 [arXiv:1111.6097] if you use this package\n",
      "# for scientific work and optionally PLB641(2006)57 [hep-ph/0512210].   \n",
      "#                                                                       \n",
      "# FastJet is provided without warranty under the GNU GPL v2 or higher.  \n",
      "# It uses T. Chan's closest pair algorithm, S. Fortune's Voronoi code,\n",
      "# CGAL and 3rd party plugin jet algorithms. See COPYING file for details.\n",
      "#--------------------------------------------------------------------------\n"
     ]
    }
   ],
   "source": [
    "import sys, os\n",
    "sys.path.insert(0, '')\n",
    "sys.path.append(\"/home/pku/zhaoyz/Higgs/LundReweighting\")\n",
    "from utils.LundReweighter import *\n",
    "from utils.Utils import *\n",
    "\"\"\" An example how to use the Lund Plane reweighting  code \"\"\"\n",
    "\n",
    "######################## Setup \n",
    "\n",
    "#Input file \n",
    "fname = \"/home/pku/zhaoyz/Higgs/LundReweighting/data/example_signal.h5\"\n",
    "#File containing data/MC Lund Plane ratio\n",
    "f_ratio_name = '/home/pku/zhaoyz/Higgs/LundReweighting/data/ratio_2018.root'\n",
    "\n",
    "f_sig = h5py.File(fname, \"r\")\n",
    "f_ratio = ROOT.TFile.Open(f_ratio_name)\n",
    "\n",
    "#Class to help read input dataset, \"Dataset\" class defined in Utils.py\n",
    "# d = Dataset(f_sig, dtype = 1)\n",
    "# d.compute_obs() #there may be some dedicated variables inside the .h5 file\n",
    "\n",
    "#The cut we will compute a SF for 'tau21 < 0.34'\n",
    "tag_obs = 'tau21'\n",
    "score_thresh = 0.975\n",
    "\n",
    "\n",
    "#nominal data/MC Lund plane ratio (3d histogram)\n",
    "h_ratio = f_ratio.Get(\"ratio_nom\")\n",
    "#systematic variations\n",
    "h_ratio_sys_up = f_ratio.Get(\"ratio_sys_tot_up\")\n",
    "h_ratio_sys_down = f_ratio.Get(\"ratio_sys_tot_down\")\n",
    "#MC ratio of b to light quarks\n",
    "b_light_ratio = f_ratio.Get(\"h_bl_ratio\")\n",
    "\n",
    "\n",
    "#directory of pt extrapolation fits\n",
    "f_ratio.cd('pt_extrap')\n",
    "rdir = ROOT.gDirectory #get the present working directory and give it to rdir\n",
    "\n",
    "#Main class for reweighting utilities\n",
    "LP_rw = LundReweighter(pt_extrap_dir = rdir)\n",
    "\n",
    "max_evts = 1500\n",
    "\n",
    "# score = getattr(d, tag_obs)[:max_evts]\n",
    "score_cut = ((HWWJets_tagger_score >= 0.8) & (HWWJets_tagger_score <= 0.975))\n",
    "# score_cut = (HWWJets_tagger_score > 0.975)\n",
    "score_cut = score_cut[:max_evts]\n",
    "\n",
    "\n",
    "#Number of toys for statistical and pt extrapolation uncertainties\n",
    "nToys = 100\n",
    "#Noise vectors used to to generate the toys\n",
    "#NOTE the same vector has to be used for the whole sample/signal file for the toys to be consistent \n",
    "rand_noise = np.random.normal(size = (nToys, h_ratio.GetNbinsX(), h_ratio.GetNbinsY(), h_ratio.GetNbinsZ()))\n",
    "pt_rand_noise = np.random.normal(size = (nToys, h_ratio.GetNbinsY(), h_ratio.GetNbinsZ(), 3))\n",
    "\n",
    "\n",
    "################### Compute reweighting factors\n",
    "\n",
    "#PF candidates in the AK8 jet\n",
    "# pf_cands = d.get_masked(\"jet1_PFCands\").astype(np.float64)[:max_evts]\n",
    "pf_cands = pf_cands_pxpypzE[:max_evts]\n",
    "#Generator level quarks from hard process\n",
    "\n",
    "# gen_parts = d.get_masked('gen_info')[:max_evts]\n",
    "gen_parts_eta_phi = gen_parts_eta_phi_bqq[:max_evts]\n",
    "# gen_parts_pdg_ids = gen_parts[:,:,3]\n",
    "\n",
    "B_PDG_ID = 5\n",
    "\n",
    "# ak8_jets = d.get_masked('jet_kinematics')[:max_evts][:,2:6].astype(np.float64)\n",
    "ak8_jets = higgs_jet_4vec[:max_evts]\n",
    "\n",
    "#Nominal event weights of the MC, assume every event is weight '1' for this example\n",
    "weights_nom = np.ones(max_evts)\n",
    "\n",
    "LP_weights = []\n",
    "LP_weights_sys_up = []\n",
    "LP_weights_sys_down = []\n",
    "stat_smeared_weights = []\n",
    "pt_smeared_weights = []\n",
    "b_weights_up = []\n",
    "b_weights_down = []\n",
    "bad_matches = []\n",
    "\n",
    "\n",
    "for i,cands in enumerate(pf_cands):\n",
    "    # if i == 4: break\n",
    "    # print(\"now processing:\",i)\n",
    "    #Get the subjets, splittings and checking matching based on PF candidates in the jet and gen-level quarks\n",
    "    subjets, splittings, bad_match, deltaRs = LP_rw.get_splittings_and_matching(cands, gen_parts_eta_phi[i], ak8_jets[i])\n",
    "    # print(bad_match)\n",
    "    # print(deltaRs)\n",
    "    #Gets the nominal LP reweighting factor for this event and statistical + pt extrapolation toys\n",
    "    LP_weight, stat_smeared_weight, pt_smeared_weight = LP_rw.reweight_lund_plane(h_rw = h_ratio, subjets = subjets, splittings = splittings,\n",
    "            rand_noise = rand_noise, pt_rand_noise = pt_rand_noise, )\n",
    "    #Now get systematic variations\n",
    "    LP_weight_sys_up,_,_ = LP_rw.reweight_lund_plane(h_rw = h_ratio_sys_up, subjets = subjets, splittings = splittings)\n",
    "    LP_weight_sys_down,_,_ = LP_rw.reweight_lund_plane(h_rw = h_ratio_sys_down, subjets = subjets, splittings = splittings)\n",
    "\n",
    "    LP_weights.append(LP_weight)\n",
    "    stat_smeared_weights.append(stat_smeared_weight)\n",
    "    pt_smeared_weights.append(pt_smeared_weight)\n",
    "\n",
    "    LP_weights_sys_up.append(LP_weight_sys_up)\n",
    "    LP_weights_sys_down.append(LP_weight_sys_down)\n",
    "    bad_matches.append(bad_match)\n",
    "\n",
    "\n",
    "\n",
    "############### Normalize weights to preserve normalization of the MC sample\n",
    "\n",
    "#The nominal Lund Plane correction event weights\n",
    "LP_weights = LP_rw.normalize_weights(LP_weights) * weights_nom \n",
    "\n",
    "#Toy variations for stat and pt uncertainties\n",
    "stat_smeared_weights = LP_rw.normalize_weights(stat_smeared_weights) * weights_nom.reshape(max_evts, 1)\n",
    "pt_smeared_weights = LP_rw.normalize_weights(pt_smeared_weights) * weights_nom.reshape(max_evts,1)\n",
    "\n",
    "#Systematic up/down variations\n",
    "LP_weights_sys_up = LP_rw.normalize_weights(LP_weights_sys_up) * weights_nom\n",
    "LP_weights_sys_down = LP_rw.normalize_weights(LP_weights_sys_down) * weights_nom\n",
    "\n",
    "############### Compute efficiences and uncertainties\n",
    "\n",
    "\n",
    "#Efficiency of the cut in nominal MC\n",
    "eff_nom = np.average(score_cut, weights = weights_nom) #TODO\n",
    "\n",
    "#Efficiency of the cut after the Lund Plane reweighting\n",
    "eff_rw = np.average(score_cut, weights = LP_weights)\n",
    "\n",
    "#Nominal 'scale factor'\n",
    "SF = eff_rw / eff_nom\n",
    "\n",
    "print(\"Nominal efficiency %.3f, Corrected efficiency %.3f, SF (corrected / nom) %.3f\" % (eff_nom, eff_rw, SF))\n",
    "\n",
    "#NOTE, better to use corrected efficiency computed separately for each sample rather than a single 'SF'\n",
    "\n",
    "\n",
    "#Compute efficiency for each of the stat/pt toys\n",
    "eff_toys = []\n",
    "pt_eff_toys = []\n",
    "for i in range(nToys):\n",
    "    eff = np.average(score_cut, weights = stat_smeared_weights[:,i])\n",
    "    eff_toys.append(eff)\n",
    "\n",
    "    eff1 = np.average(score_cut, weights = pt_smeared_weights[:,i])\n",
    "    pt_eff_toys.append(eff1)\n",
    "\n",
    "#Compute stat and pt uncertainty based on variation in the toys\n",
    "toys_mean = np.mean(eff_toys)\n",
    "toys_std = np.std(eff_toys)\n",
    "pt_toys_mean = np.mean(pt_eff_toys)\n",
    "pt_toys_std = np.std(pt_eff_toys)\n",
    "\n",
    "eff_stat_unc = (abs(toys_mean - eff_rw)  + toys_std) \n",
    "eff_pt_unc = (abs(pt_toys_mean - eff_rw) + pt_toys_std)\n",
    "\n",
    "print(\"Stat variation toys eff. avg %.3f, std dev %.3f\" % (toys_mean, toys_std))\n",
    "print(\"Pt variation toys eff. avg %.3f, std dev %.3f\" % (pt_toys_mean, pt_toys_std))\n",
    "\n",
    "\n",
    "#Compute difference in efficiency due to weight variations as uncertainty\n",
    "def get_uncs(score_cut, weights_up, weights_down, eff_baseline):\n",
    "    eff_up =  np.average(score_cut, weights = weights_up)\n",
    "    eff_down =  np.average(score_cut, weights = weights_down)\n",
    "\n",
    "    unc_up = eff_up - eff_baseline\n",
    "    unc_down = eff_down - eff_baseline \n",
    "    return unc_up, unc_down\n",
    "\n",
    "\n",
    "#Compute efficiency of systematic variations\n",
    "sys_unc_up, sys_unc_down = get_uncs(score_cut, LP_weights_sys_up, LP_weights_sys_down, eff_rw)\n",
    "# b_unc_up, b_unc_down = get_uncs(score_cut, b_weights_up, b_weights_down, eff_rw)\n",
    "\n",
    "\n",
    "#matching uncertainty, taken as a fractional uncertainty on efficiency\n",
    "bad_match_frac = np.mean(bad_matches)\n",
    "bad_match_unc = bad_match_frac * eff_rw\n",
    "\n",
    "\n",
    "############ Results\n",
    "print(\"\\n\\nCalibrated efficiency  is %.3f +/- %.3f  (stat) +/- %.3f (pt) +/- %.3f/%.3f (sys)+/- %.3f (matching)  \\n\\n\"  % \n",
    "        (eff_rw, eff_stat_unc, eff_pt_unc, sys_unc_up, sys_unc_down, bad_match_unc))\n",
    "\n",
    "#next compute the uncertainty about SFs\n",
    "\n",
    "#Efficiency of the cut in nominal MC\n",
    "eff_nom = np.average(score_cut, weights = weights_nom) #TODO\n",
    "\n",
    "#Efficiency of the cut after the Lund Plane reweighting\n",
    "eff_rw = np.average(score_cut, weights = LP_weights)\n",
    "\n",
    "#Nominal 'scale factor'\n",
    "print(\"Now perform SFs information\")\n",
    "SF = eff_rw / eff_nom\n",
    "\n",
    "print(\"SF (corrected / nom) %.3f\" % (SF))\n",
    "\n",
    "#propagate statistical and pt extrapolation uncertainties to SF\n",
    "SF_stat_unc = (abs(toys_mean - eff_rw)  + toys_std) /eff_nom\n",
    "SF_pt_unc = (abs(pt_toys_mean - eff_rw) + pt_toys_std) /eff_nom\n",
    "\n",
    "#propagate systemetic uncertainty to SF\n",
    "eff_sys_up =  np.average(score_cut, weights = LP_weights_sys_up)\n",
    "eff_sys_down =  np.average(score_cut, weights = LP_weights_sys_down)\n",
    "\n",
    "sys_unc_up = abs(eff_rw - eff_sys_up)\n",
    "sys_unc_down = abs(eff_rw - eff_sys_down)\n",
    "\n",
    "SF_sys_unc_up = sys_unc_up/eff_nom\n",
    "SF_sys_unc_down = sys_unc_down/eff_nom\n",
    "\n",
    "#calculate bad matching uncertainty directly\n",
    "SF_match_unc = bad_match_frac * SF\n",
    "\n",
    "print(\"\\n\\nSF is %.3f +/-%.3f(stat) +/-%.3f(pt) +%.3f/-%.3f(sys) +/-%.3f(match) \\n\\n\"  % (SF, SF_stat_unc, SF_pt_unc, sys_unc_up, sys_unc_down, SF_match_unc))\n",
    "f_ratio.Close()\n"
   ]
  },
  {
   "cell_type": "markdown",
   "metadata": {},
   "source": [
    "### Make some new plots"
   ]
  },
  {
   "cell_type": "code",
   "execution_count": 56,
   "metadata": {},
   "outputs": [
    {
     "data": {
      "image/png": "[encoded data removed]",
      "text/plain": [
       "<Figure size 1000x1000 with 1 Axes>"
      ]
     },
     "metadata": {},
     "output_type": "display_data"
    }
   ],
   "source": [
    "import matplotlib as mpl\n",
    "import matplotlib.pyplot as plt\n",
    "import mplhep as hep\n",
    "import boost_histogram as bh\n",
    "from cycler import cycler\n",
    "max_evts = 1500\n",
    "#implement CMS plot style functions\n",
    "use_helvet = False ## true: use helvetica for plots, make sure the system have the font installed\n",
    "if use_helvet:\n",
    "    CMShelvet = hep.style.CMS\n",
    "    CMShelvet['font.sans-serif'] = ['Helvetica', 'Arial']\n",
    "    plt.style.use(CMShelvet)\n",
    "else:\n",
    "    plt.style.use(hep.style.CMS)\n",
    "\n",
    "plt.figure(figsize=(10,10))\n",
    "ax=plt.gca()\n",
    "plt.grid()\n",
    "hep.cms.label(data=False, year=\"2018\", ax=ax, fontname='sans-serif')\n",
    "%matplotlib inline\n",
    "#step1: plot \n",
    "\n",
    "# plt.hist(eventsEventsID3Prongs4Prongs['HqqqqVsQcdTop'], bins=20, range=(0,1), histtype='step', label='before reweighting',density=True);\n",
    "# plt.hist(eventsEventsID3Prongs4Prongs['HqqqqVsQcdTop'], bins=20, range=(0,1), histtype='step', label='after reweighting', weights=eventsEventsID3Prongs4Prongs[\"LP_weight\"],density=True);\n",
    "nbins, x_min, x_max = 10, 0, 1.0\n",
    "hist_before = bh.Histogram(bh.axis.Regular(nbins, x_min, x_max), storage=bh.storage.Weight())\n",
    "hist_before.fill(HWWJets_tagger_score[:max_evts])\n",
    "hist_before_value = hist_before.view().value\n",
    "hist_before_err = np.sqrt(hist_before.view().variance)\n",
    "hist_after = bh.Histogram(bh.axis.Regular(nbins, x_min, x_max), storage=bh.storage.Weight())\n",
    "hist_after.fill(HWWJets_tagger_score[:max_evts],weight=LP_weights[:max_evts])\n",
    "hist_after_value = hist_after.view().value\n",
    "hist_after_err = np.sqrt(hist_after.view().variance)\n",
    "bins = hist_before.axes[0].edges\n",
    "\n",
    "\n",
    "hep.histplot(hist_before_value,    bins=bins, yerr=hist_before_err, label= 'before Lund Plane reweighting', lw = 2,edges = False, histtype=\"step\")\n",
    "hep.histplot(hist_after_value,     bins=bins, yerr=hist_after_err,  label= 'after Lund Plane reweighting', lw = 2,edges = False, histtype=\"step\")\n",
    "\n",
    "\n",
    "plt.legend(loc='upper left',frameon=False,fontsize=20)\n",
    "y_min,y_max = plt.gca().get_ylim()\n",
    "plt.text(0.08, 0.83*y_max, \"tt-semileponic,tbqq jet\", fontsize=20)\n",
    "# plt.xlabel(r'$H_{qqqq} / (H_{qqqq} + QCD + Top)$')\n",
    "plt.xlabel(r'HWWvs(all background) tagger score', fontsize=20, ha='right', x=1)\n",
    "plt.ylabel('Events(No xs-weighted)',fontsize=20, ha='right', y=1)\n",
    "plt.savefig(f\"TaggerDistribution_2018_ttHnonbb.pdf\", bbox_inches='tight')\n",
    "plt.xticks(size=14)\n",
    "plt.yticks(size=14)\n",
    "plt.show()\n"
   ]
  },
  {
   "cell_type": "code",
   "execution_count": null,
   "metadata": {},
   "outputs": [],
   "source": []
  }
 ],
 "metadata": {
  "kernelspec": {
   "display_name": "HWWCali",
   "language": "python",
   "name": "python3"
  },
  "language_info": {
   "codemirror_mode": {
    "name": "ipython",
    "version": 3
   },
   "file_extension": ".py",
   "mimetype": "text/x-python",
   "name": "python",
   "nbconvert_exporter": "python",
   "pygments_lexer": "ipython3",
   "version": "3.9.18"
  },
  "orig_nbformat": 4
 },
 "nbformat": 4,
 "nbformat_minor": 2
}

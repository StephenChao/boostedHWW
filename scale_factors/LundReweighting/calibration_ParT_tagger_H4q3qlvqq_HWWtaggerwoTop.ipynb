{
 "cells": [
  {
   "cell_type": "markdown",
   "metadata": {},
   "source": [
    "### load necessary modules"
   ]
  },
  {
   "cell_type": "code",
   "execution_count": 99,
   "metadata": {},
   "outputs": [],
   "source": [
    "import uproot\n",
    "import awkward as ak\n",
    "import vector\n",
    "vector.register_awkward()\n",
    "from matplotlib import pyplot as plt\n",
    "import mplhep as hep\n",
    "hep.style.use(\"CMS\")\n",
    "import math\n",
    "import itertools\n",
    "import os\n",
    "from typing import Dict, List, Tuple\n",
    "from numpy.typing import ArrayLike\n",
    "import numpy as np\n",
    "import correctionlib\n",
    "import awkward as ak\n",
    "import fastjet\n",
    "from coffea.nanoevents.methods import vector\n",
    "from coffea import nanoevents\n",
    "from coffea import processor\n",
    "from coffea.nanoevents.methods import candidate\n",
    "from coffea.analysis_tools import Weights, PackedSelection\n",
    "from hist import Hist\n",
    "ak.behavior.update(vector.behavior)\n",
    "import sys\n",
    "sys.path.append('/home/pku/zhaoyz/Higgs/LundReweighting/utils')\n",
    "from LundReweighter import *\n",
    "# import pandas as pd\n"
   ]
  },
  {
   "cell_type": "markdown",
   "metadata": {},
   "source": [
    "### Load signal NanoAOD files and do pre-selection "
   ]
  },
  {
   "cell_type": "code",
   "execution_count": 100,
   "metadata": {},
   "outputs": [],
   "source": [
    "# #first way to load root file is using nanoevents, but suffer from low process speed\n",
    "events = nanoevents.NanoEventsFactory.from_root(\n",
    "        \"/data/bond/zhaoyz/CustNano/HWWPFNano/2018/Signal_MERGED/GluGluHToWW_Pt-200ToInf_M-125_TuneCP5_MINLO_13TeV-powheg-pythia8_RunIISummer20UL18MiniAODv2-106X_upgrade2018_realistic_v16_L1v1-v2/MERGED.root\",\n",
    "        # \"/data/bond/zhaoyz/CustNano/HWWPFNano/2018/Signal_MERGED/VBFHToWWToAny_M-125_TuneCP5_withDipoleRecoil_13TeV-powheg-jhugen751-pythia8_RunIISummer20UL18MiniAODv2-106X_upgrade2018_realistic_v16_L1v1-v2/MERGED.root\",\n",
    "        # \"/data/bond/zhaoyz/CustNano/HWWPFNano/2018/Signal_MERGED/ttHToNonbb_M125_TuneCP5_13TeV-powheg-pythia8_RunIISummer20UL18MiniAODv2-106X_upgrade2018_realistic_v16_L1v1-v2/MERGED.root\",\n",
    "        # \"/data/bond/zhaoyz/CustNano/HWWPFNano/2018/Signal_MERGED/HWminusJ_HToWW_M-125_TuneCP5_13TeV-powheg-jhugen727-pythia8_RunIISummer20UL18MiniAODv2-106X_upgrade2018_realistic_v16_L1v1-v2/MERGED.root\",\n",
    "        # \"/data/bond/zhaoyz/CustNano/HWWPFNano/2018/Signal_MERGED/HZJ_HToWW_M-125_TuneCP5_13TeV-powheg-jhugen727-pythia8_RunIISummer20UL18MiniAODv2-106X_upgrade2018_realistic_v16_L1v1-v2/MERGED.root\"\n",
    "        schemaclass=nanoevents.NanoAODSchema,\n",
    "    ).events()\n",
    "\n",
    "#second way to load root file is using uproot.lazy\n",
    "# events = uproot.lazy({\"/data/bond/zhaoyz/CustNano/HWWPFNano/2018/Signal_MERGED/ttHToNonbb_M125_TuneCP5_13TeV-powheg-pythia8_RunIISummer20UL18MiniAODv2-106X_upgrade2018_realistic_v16_L1v1-v2/MERGED.root\":\"Events\"})\n"
   ]
  },
  {
   "cell_type": "code",
   "execution_count": 101,
   "metadata": {},
   "outputs": [],
   "source": [
    "frac = 1\n",
    "n_use = int(frac*len(events))\n",
    "events_1 = events[:n_use]\n",
    "del events"
   ]
  },
  {
   "cell_type": "code",
   "execution_count": 102,
   "metadata": {},
   "outputs": [
    {
     "data": {
      "text/plain": [
       "['PFCands',\n",
       " 'SubJet',\n",
       " 'HLT',\n",
       " 'SoftActivityJetHT2',\n",
       " 'LHEPart',\n",
       " 'GenDressedLepton',\n",
       " 'SoftActivityJetHT5',\n",
       " 'fixedGridRhoFastjetAll',\n",
       " 'TrigObj',\n",
       " 'GenJetSVs',\n",
       " 'L1PreFiringWeight',\n",
       " 'event',\n",
       " 'LHEWeight',\n",
       " 'luminosityBlock',\n",
       " 'fixedGridRhoFastjetCentralNeutral',\n",
       " 'Generator',\n",
       " 'GenIsolatedPhoton',\n",
       " 'GenJetCands',\n",
       " 'AK15PuppiSubJet',\n",
       " 'run',\n",
       " 'fixedGridRhoFastjetCentralCalo',\n",
       " 'JetPFCands',\n",
       " 'SoftActivityJetHT',\n",
       " 'FsrPhoton',\n",
       " 'fixedGridRhoFastjetCentral',\n",
       " 'L1Reco',\n",
       " 'PSWeight',\n",
       " 'RawPuppiMET',\n",
       " 'boostedTau',\n",
       " 'GenPart',\n",
       " 'GenJet',\n",
       " 'fixedGridRhoFastjetCentralChargedPileUp',\n",
       " 'btagWeight',\n",
       " 'GenJetAK8',\n",
       " 'SoftActivityJetNjets5',\n",
       " 'RawMET',\n",
       " 'SV',\n",
       " 'GenMET',\n",
       " 'JetSVs',\n",
       " 'SoftActivityJetHT10',\n",
       " 'FatJet',\n",
       " 'L1simulation',\n",
       " 'LHEReweightingWeight',\n",
       " 'FatJetSVs',\n",
       " 'GenFatJetCands',\n",
       " 'LHEPdfWeight',\n",
       " 'HLTriggerFirstPath',\n",
       " 'GenFatJetSVs',\n",
       " 'GenSubJetAK15',\n",
       " 'DeepMETResolutionTune',\n",
       " 'Electron',\n",
       " 'Jet',\n",
       " 'genWeight',\n",
       " 'Photon',\n",
       " 'L1',\n",
       " 'Pileup',\n",
       " 'Muon',\n",
       " 'HLTriggerFinalPath',\n",
       " 'CaloMET',\n",
       " 'PuppiMET',\n",
       " 'genTtbarId',\n",
       " 'Flag',\n",
       " 'OtherPV',\n",
       " 'ChsMET',\n",
       " 'MET',\n",
       " 'TkMET',\n",
       " 'LowPtElectron',\n",
       " 'SoftActivityJet',\n",
       " 'SubGenJetAK8',\n",
       " 'SoftActivityJetNjets2',\n",
       " 'SoftActivityJetNjets10',\n",
       " 'AK15Puppi',\n",
       " 'FatJetPFCands',\n",
       " 'LHE',\n",
       " 'GenVtx',\n",
       " 'HTXS',\n",
       " 'GenVisTau',\n",
       " 'IsoTrack',\n",
       " 'LHEScaleWeight',\n",
       " 'PV',\n",
       " 'CorrT1METJet',\n",
       " 'Tau',\n",
       " 'GenJetAK15',\n",
       " 'DeepMETResponseTune',\n",
       " 'GenCands']"
      ]
     },
     "execution_count": 102,
     "metadata": {},
     "output_type": "execute_result"
    }
   ],
   "source": [
    "#quick look at the fields of signal files\n",
    "events_1.fields"
   ]
  },
  {
   "cell_type": "code",
   "execution_count": 103,
   "metadata": {},
   "outputs": [],
   "source": [
    "desired_fields = [\"Electron\",\"Muon\",\"FatJet\",\"genWeight\",\"GenPart\",\"FatJetPFCands\",\"PFCands\",\"MET\",\"Jet\"]\n",
    "filtered_events = events_1[desired_fields]\n",
    "del events_1"
   ]
  },
  {
   "cell_type": "markdown",
   "metadata": {},
   "source": [
    "### Define necessary functions to run the selection"
   ]
  },
  {
   "cell_type": "code",
   "execution_count": 104,
   "metadata": {},
   "outputs": [],
   "source": [
    "#pad array with given value\n",
    "def pad_val(\n",
    "    arr: ak.Array,\n",
    "    target: int,\n",
    "    value: float, #value can also be Bool variable \n",
    "    axis: int = 0,\n",
    "    to_numpy: bool = True,\n",
    "    clip: bool = True,\n",
    "):\n",
    "    \"\"\"\n",
    "    pads awkward array up to ``target`` index along axis ``axis`` with value ``value``,\n",
    "    optionally converts to numpy array\n",
    "    \"\"\"\n",
    "    padded_arr = ak.fill_none(ak.pad_none(arr, target, axis=axis, clip=clip), value, axis=axis)\n",
    "    # pad_none will fill the array to target length with \"None\" for dedicated axis\n",
    "    # \"clip\" means cut the array to the target length or not\n",
    "    # fill_none will replace \"None\" value to some value\n",
    "    return padded_arr.to_numpy() if to_numpy else padded_arr\n",
    "\n",
    "def add_selection(\n",
    "    name: str,\n",
    "    sel: np.ndarray,\n",
    "    selection: PackedSelection,\n",
    "    cutflow: dict = None,\n",
    "    isData: bool = False,\n",
    "    signGenWeights: ak.Array = None,\n",
    "):\n",
    "    \"\"\"adds selection to PackedSelection object and the cutflow dictionary\"\"\"\n",
    "    selection.add(name, sel)\n",
    "    if cutflow is not None: #only add to cutflow dictionary if cutflow is not None\n",
    "        cutflow[name] = (\n",
    "            np.sum(selection.all(*selection.names))\n",
    "            if isData\n",
    "            # add up sign of genWeights for MC\n",
    "            else np.sum(signGenWeights[selection.all(*selection.names)])\n",
    "        )\n"
   ]
  },
  {
   "cell_type": "code",
   "execution_count": 105,
   "metadata": {},
   "outputs": [],
   "source": [
    "#pre-selection:\n",
    "#1.Leading jet pT > 400GeV, maximum jet mass > 50GeV\n",
    "#2.Require 2 or 3 AK8 jet with pT > 200GeV\n",
    "#3.Veto (mini-)Isolated leptons\n",
    "isData = False\n",
    "signGenWeights = None if isData else np.sign(filtered_events[\"genWeight\"]) #get genWeight sign, because only the sign matters\n",
    "n_events = len(filtered_events) if isData else int(np.sum(signGenWeights)) #events number for MC events should be the sum of \"sign\"\n",
    "selection = PackedSelection() #initialize a new object\n",
    "\n",
    "cutflow = {}\n",
    "# cutflow[\"all\"] = len(events) #shouldn't be n_events?\n",
    "cutflow[\"all\"] = n_events\n",
    "preselection_cut_vals = {\"pt\": 200, \"msd\": 20, \"leading_pt\":400,\"maximum_mass\":50}\n",
    "num_jets = 2\n",
    "\n",
    "# fatjets = corrections.get_jec_jets(events, \"2018\")\n",
    "fatjets = filtered_events.FatJet\n",
    "\n",
    "preselection_cut_1 = pad_val(\n",
    "        ( ak.max(filtered_events.FatJet.pt, axis = 1) > preselection_cut_vals[\"leading_pt\"])\n",
    "        * (ak.max(filtered_events.FatJet.msoftdrop, axis = 1) > preselection_cut_vals[\"maximum_mass\"]), #mass and pT cut of each jet in event\n",
    "        len(filtered_events), #pad to num_jets length\n",
    "        False,  #pad with value False\n",
    "        )\n",
    "# finally with the length of events number, \"1\" for all jets are pT > pT_cut and mass > mass_cut\n",
    " # N.B. here clip always = True\n",
    "\n",
    "add_selection(\n",
    "    \"leading pT and maximum mass\", #string name\n",
    "    preselection_cut_1.astype(bool), #selection content\n",
    "    selection, #PackedSelection object\n",
    "    cutflow, #cut-flow dict, storing events number after each cut\n",
    "    isData,\n",
    "    signGenWeights,#sum the signGenWeights for events which pass the selection\n",
    ")\n",
    "\n",
    "\n",
    "\n",
    "preselection_cut_2 = np.prod(\n",
    "    pad_val(\n",
    "        (filtered_events.FatJet.pt > preselection_cut_vals[\"pt\"]),\n",
    "        # * (events.FatJet.msoftdrop > preselection_cut_vals[\"msd\"]), #mass and pT cut of each jet in event\n",
    "        num_jets, #pad to num_jets length\n",
    "        False,  #pad with value False\n",
    "        axis=1, #pad to axis=1\n",
    "    ),\n",
    "    axis=1,\n",
    ")# finally with the length of events number, \"1\" for all jets are pT > pT_cut and mass > mass_cut\n",
    " # N.B. here clip always = True\n",
    "\n",
    "add_selection(\n",
    "    \"at least 2 AK8 jet with pT >200GeV\", #string name\n",
    "    preselection_cut_2.astype(bool), #selection content\n",
    "    selection, #PackedSelection object\n",
    "    cutflow, #cut-flow dict, storing events number after each cut\n",
    "    isData,\n",
    "    signGenWeights,#sum the signGenWeights for events which pass the selection\n",
    ")\n",
    "\n",
    "preselection_cut_3 = pad_val(\n",
    "        (ak.num(filtered_events.FatJet.pt) == 2) | (ak.num(filtered_events.FatJet.pt) == 3) , #mass and pT cut of each jet in event\n",
    "        len(filtered_events), #pad to num_jets length\n",
    "        False,  #pad with value False\n",
    "        )\n",
    "\n",
    "add_selection(\n",
    "    \"2 or 3 AK8 jet\", #string name\n",
    "    preselection_cut_3.astype(bool), #selection content\n",
    "    selection, #PackedSelection object\n",
    "    cutflow, #cut-flow dict, storing events number after each cut\n",
    "    isData,\n",
    "    signGenWeights,#sum the signGenWeights for events which pass the selection\n",
    ")\n"
   ]
  },
  {
   "cell_type": "code",
   "execution_count": 106,
   "metadata": {},
   "outputs": [
    {
     "data": {
      "text/plain": [
       "{'all': 538727,\n",
       " 'leading pT and maximum mass': 37672.0,\n",
       " 'at least 2 AK8 jet with pT >200GeV': 36238.0,\n",
       " '2 or 3 AK8 jet': 35305.0}"
      ]
     },
     "execution_count": 106,
     "metadata": {},
     "output_type": "execute_result"
    }
   ],
   "source": [
    "cutflow"
   ]
  },
  {
   "cell_type": "code",
   "execution_count": 107,
   "metadata": {},
   "outputs": [],
   "source": [
    "filtered_events_1 = filtered_events[selection.all(*selection.names)]\n",
    "del filtered_events\n",
    "filtered_events = filtered_events_1\n"
   ]
  },
  {
   "cell_type": "code",
   "execution_count": 108,
   "metadata": {},
   "outputs": [
    {
     "data": {
      "text/plain": [
       "<Array [{Electron: [Electron], ... Jet, Jet]}] type='35315 * {\"Electron\": var * ...'>"
      ]
     },
     "execution_count": 108,
     "metadata": {},
     "output_type": "execute_result"
    }
   ],
   "source": [
    "filtered_events"
   ]
  },
  {
   "cell_type": "code",
   "execution_count": 109,
   "metadata": {},
   "outputs": [],
   "source": [
    "selection = PackedSelection() #initialize a new object\n",
    "isData = False\n",
    "signGenWeights = None if isData else np.sign(filtered_events[\"genWeight\"]) #get genWeight sign, because only the sign matters\n",
    "n_events = len(filtered_events) if isData else int(np.sum(signGenWeights)) #events number for MC events should be the sum of \"sign\"\n",
    "selection = PackedSelection() #initialize a new object\n",
    "\n",
    "cutflow = {}\n",
    "# cutflow[\"all\"] = len(events) #shouldn't be n_events?\n",
    "cutflow[\"all\"] = n_events\n",
    "\n",
    "#veto (mini-)isolated muons\n",
    "#referring to : https://github.com/farakiko/boostedhiggs/blob/ec53b97857bf64aa4d75f639e290181e65a55b4c/boostedhiggs/hwwprocessor.py#L185-L237\n",
    "muons = ak.with_field(filtered_events.Muon, 0, \"flavor\")\n",
    "electrons = ak.with_field(filtered_events.Electron, 1, \"flavor\")\n",
    "\n",
    "# muons\n",
    "loose_muons = (\n",
    "    (((muons.pt > 30) & (muons.pfRelIso04_all < 0.25)) | (muons.pt > 55))\n",
    "    & (np.abs(muons.eta) < 2.4)\n",
    "    & (muons.looseId)\n",
    ")\n",
    "n_loose_muons = ak.sum(loose_muons, axis=1)\n",
    "good_muons = (\n",
    "    (muons.pt > 30)\n",
    "    & (np.abs(muons.eta) < 2.4)\n",
    "    & (np.abs(muons.dz) < 0.1)\n",
    "    & (np.abs(muons.dxy) < 0.05)\n",
    "    & (muons.sip3d <= 4.0)\n",
    "    & muons.mediumId\n",
    ")\n",
    "n_good_muons = ak.sum(good_muons, axis=1)\n",
    "\n",
    "# electrons\n",
    "loose_electrons = (\n",
    "    (((electrons.pt > 38) & (electrons.pfRelIso03_all < 0.25)) | (electrons.pt > 120))\n",
    "    & (np.abs(electrons.eta) < 2.4)\n",
    "    & ((np.abs(electrons.eta) < 1.44) | (np.abs(electrons.eta) > 1.57))\n",
    "    & (electrons.cutBased >= 2)\n",
    "    # & (electrons.cutBased >= electrons.LOOSE) #cut-based ID Fall17 V2 (0:fail, 1:veto, 2:loose, 3:medium, 4:tight)\n",
    ")\n",
    "n_loose_electrons = ak.sum(loose_electrons, axis=1)\n",
    "good_electrons = (\n",
    "    (electrons.pt > 38)\n",
    "    & (np.abs(electrons.eta) < 2.4)\n",
    "    & ((np.abs(electrons.eta) < 1.44) | (np.abs(electrons.eta) > 1.57))\n",
    "    & (np.abs(electrons.dz) < 0.1)\n",
    "    & (np.abs(electrons.dxy) < 0.05)\n",
    "    & (electrons.sip3d <= 4.0)\n",
    "    & (electrons.mvaFall17V2noIso_WP90)\n",
    ")\n",
    "n_good_electrons = ak.sum(good_electrons, axis=1)\n",
    "\n",
    "n_leptons = n_loose_electrons + n_good_electrons + n_loose_muons + n_good_muons\n",
    "\n",
    "preselection_cut_4 = pad_val(\n",
    "        (n_leptons == 0) , #mass and pT cut of each jet in event\n",
    "        len(filtered_events), #pad to num_jets length\n",
    "        False,  #pad with value False\n",
    "        )\n",
    "\n",
    "add_selection(\n",
    "    \"no (mini-)isolated leptons\", #string name\n",
    "    preselection_cut_4.astype(bool), #selection content\n",
    "    selection, #PackedSelection object\n",
    "    cutflow, #cut-flow dict, storing events number after each cut\n",
    "    isData,\n",
    "    signGenWeights,#sum the signGenWeights for events which pass the selection\n",
    ")\n"
   ]
  },
  {
   "cell_type": "code",
   "execution_count": 110,
   "metadata": {},
   "outputs": [
    {
     "data": {
      "text/plain": [
       "{'all': 35305, 'no (mini-)isolated leptons': 27037.0}"
      ]
     },
     "execution_count": 110,
     "metadata": {},
     "output_type": "execute_result"
    }
   ],
   "source": [
    "cutflow"
   ]
  },
  {
   "cell_type": "code",
   "execution_count": 111,
   "metadata": {},
   "outputs": [],
   "source": [
    "filtered_events_1 = filtered_events[selection.all(*selection.names)]\n",
    "del filtered_events\n",
    "filtered_events = filtered_events_1"
   ]
  },
  {
   "cell_type": "markdown",
   "metadata": {},
   "source": [
    "### now gen-matching selection"
   ]
  },
  {
   "cell_type": "code",
   "execution_count": 112,
   "metadata": {},
   "outputs": [],
   "source": [
    "selection = PackedSelection() #initialize a new object\n",
    "isData = False\n",
    "signGenWeights = None if isData else np.sign(filtered_events[\"genWeight\"]) #get genWeight sign, because only the sign matters\n",
    "n_events = len(filtered_events) if isData else int(np.sum(signGenWeights)) #events number for MC events should be the sum of \"sign\"\n",
    "selection = PackedSelection() #initialize a new object\n",
    "\n",
    "cutflow = {}\n",
    "# cutflow[\"all\"] = len(events) #shouldn't be n_events?\n",
    "cutflow[\"all\"] = n_events\n",
    "\n",
    "#require WW decaying to 4q, because we want to calibrate H3q4q jet at first stage\n",
    "d_PDGID = 1\n",
    "u_PDGID = 2\n",
    "s_PDGID = 3\n",
    "c_PDGID = 4\n",
    "b_PDGID = 5\n",
    "g_PDGID = 21\n",
    "TOP_PDGID = 6\n",
    "\n",
    "ELE_PDGID = 11\n",
    "vELE_PDGID = 12\n",
    "MU_PDGID = 13\n",
    "vMU_PDGID = 14\n",
    "TAU_PDGID = 15\n",
    "vTAU_PDGID = 16\n",
    "\n",
    "Z_PDGID = 23\n",
    "W_PDGID = 24\n",
    "HIGGS_PDGID = 25\n",
    "Y_PDGID = 35\n",
    "\n",
    "b_PDGIDS = [511, 521, 523]\n",
    "\n",
    "GRAV_PDGID = 39\n",
    "\n",
    "GEN_FLAGS = [\"fromHardProcess\", \"isLastCopy\"]\n",
    "\n",
    "FILL_NONE_VALUE = -99999\n",
    "PAD_VAL = -99999\n",
    "\n",
    "skim_vars = {\n",
    "    \"eta\": \"Eta\",\n",
    "    \"phi\": \"Phi\",\n",
    "    \"mass\": \"Mass\",\n",
    "    \"pt\": \"Pt\",\n",
    "}"
   ]
  },
  {
   "cell_type": "markdown",
   "metadata": {},
   "source": [
    "### Select only HWW decay"
   ]
  },
  {
   "cell_type": "code",
   "execution_count": 113,
   "metadata": {},
   "outputs": [],
   "source": [
    "#firstly selection only HWW decay:\n",
    "selection = PackedSelection() #initialize a new object\n",
    "isData = False\n",
    "signGenWeights = None if isData else np.sign(filtered_events[\"genWeight\"]) #get genWeight sign, because only the sign matters\n",
    "n_events = len(filtered_events) if isData else int(np.sum(signGenWeights)) #events number for MC events should be the sum of \"sign\"\n",
    "selection = PackedSelection() #initialize a new object\n",
    "\n",
    "cutflow = {}\n",
    "# cutflow[\"all\"] = len(events) #shouldn't be n_events?\n",
    "cutflow[\"all\"] = n_events\n",
    "\n",
    "\n",
    "# finding the gen higgs\n",
    "higgs = filtered_events.GenPart[\n",
    "    (abs(filtered_events.GenPart.pdgId) == HIGGS_PDGID) * filtered_events.GenPart.hasFlags(GEN_FLAGS)\n",
    "]\n",
    "# saving 4-vector info\n",
    "GenHiggsVars = {f\"GenHiggs{key}\": higgs[var].to_numpy() for (var, key) in skim_vars.items()}\n",
    "\n",
    "higgs_children = higgs.children\n",
    "\n",
    "# saving whether H->bb or H->VV\n",
    "GenHiggsVars[\"GenHiggsChildren\"] = abs(higgs_children.pdgId[:, :, 0]).to_numpy()\n",
    "\n",
    "# finding WW children\n",
    "is_WW = abs(higgs_children.pdgId) == W_PDGID\n",
    "\n",
    "# Hbb = higgs[ak.sum(is_bb, axis=2) == 2]\n",
    "HWW = higgs[ak.sum(is_WW, axis=2) == 2]\n",
    "\n",
    "# checking that there are 2 b's and 2 V's\n",
    "has_WW = ak.sum(ak.flatten(is_WW, axis=2), axis=1) == 2\n",
    "\n",
    "add_selection(\n",
    "    \"HtoWW\",\n",
    "    has_WW, \n",
    "    selection, \n",
    "    cutflow, \n",
    "    False, \n",
    "    signGenWeights)\n",
    "# print(selection_all_q)"
   ]
  },
  {
   "cell_type": "code",
   "execution_count": 114,
   "metadata": {},
   "outputs": [
    {
     "data": {
      "text/plain": [
       "<Array [{Electron: [Electron], ... Jet, Jet]}] type='27043 * {\"Electron\": var * ...'>"
      ]
     },
     "execution_count": 114,
     "metadata": {},
     "output_type": "execute_result"
    }
   ],
   "source": [
    "filtered_events"
   ]
  },
  {
   "cell_type": "code",
   "execution_count": 115,
   "metadata": {},
   "outputs": [],
   "source": [
    "filtered_events_1 = filtered_events[selection.all(*selection.names)]\n",
    "del filtered_events\n",
    "filtered_events = filtered_events_1\n"
   ]
  },
  {
   "cell_type": "code",
   "execution_count": 116,
   "metadata": {},
   "outputs": [
    {
     "data": {
      "text/plain": [
       "<Array [{Electron: [Electron], ... Jet, Jet]}] type='27043 * {\"Electron\": var * ...'>"
      ]
     },
     "execution_count": 116,
     "metadata": {},
     "output_type": "execute_result"
    }
   ],
   "source": [
    "filtered_events"
   ]
  },
  {
   "cell_type": "code",
   "execution_count": 117,
   "metadata": {},
   "outputs": [],
   "source": [
    "#may take much time\n",
    "#Then do other test:\n",
    "selection = PackedSelection() #initialize a new object\n",
    "isData = False\n",
    "signGenWeights = None if isData else np.sign(filtered_events[\"genWeight\"]) #get genWeight sign, because only the sign matters\n",
    "n_events = len(filtered_events) if isData else int(np.sum(signGenWeights)) #events number for MC events should be the sum of \"sign\"\n",
    "selection = PackedSelection() #initialize a new object\n",
    "\n",
    "cutflow = {}\n",
    "# cutflow[\"all\"] = len(events) #shouldn't be n_events?\n",
    "cutflow[\"all\"] = n_events\n",
    "# finding the gen higgs\n",
    "higgs = filtered_events.GenPart[\n",
    "    (abs(filtered_events.GenPart.pdgId) == HIGGS_PDGID) * filtered_events.GenPart.hasFlags(GEN_FLAGS)\n",
    "]\n",
    "# saving 4-vector info\n",
    "GenHiggsVars = {f\"GenHiggs{key}\": higgs[var].to_numpy() for (var, key) in skim_vars.items()}\n",
    "\n",
    "higgs_children = higgs.children\n",
    "\n",
    "# saving whether H->bb or H->VV\n",
    "GenHiggsVars[\"GenHiggsChildren\"] = abs(higgs_children.pdgId[:, :, 0]).to_numpy()\n",
    "\n",
    "# finding WW children\n",
    "is_WW = abs(higgs_children.pdgId) == W_PDGID\n",
    "\n",
    "# Hbb = higgs[ak.sum(is_bb, axis=2) == 2]\n",
    "HWW = higgs[ak.sum(is_WW, axis=2) == 2]\n",
    "\n",
    "# checking that there are 2 b's and 2 V's\n",
    "has_WW = ak.sum(ak.flatten(is_WW, axis=2), axis=1) == 2\n",
    "\n",
    "add_selection(\n",
    "    \"HtoWW\",\n",
    "    has_WW, \n",
    "    selection, \n",
    "    cutflow, \n",
    "    False, \n",
    "    signGenWeights)\n",
    "# print(selection_all_q)\n",
    "\n",
    "\n",
    "\n",
    "# saving WW 4-vector info\n",
    "WW = ak.flatten(higgs_children[is_WW], axis=2)\n",
    "\n",
    "#for normal ggF, VBF HWW signal\n",
    "GenWWVars = {\n",
    "    f\"GenWW{key}\": WW[var].to_numpy() for (var, key) in skim_vars.items()\n",
    "    }\n",
    "\n",
    "#for ttHnonbb HWW signal, because there may not be H-->WW events\n",
    "# GenWWVars = {\n",
    "#     f\"GenWW{key}\": pad_val(WW[var], 2, FILL_NONE_VALUE, axis=1) for (var, key) in skim_vars.items()\n",
    "#     }\n",
    "\n",
    "# checking that each W has 2 q children, so finally the HWW jet will be H4q or H3q jet\n",
    "WW_children = WW.children\n",
    "\n",
    "quarks = abs(WW_children.pdgId) <= b_PDGID #get all the 2 Ws daughter PDGID <=5 information\n",
    "\n",
    "selection_all_q = ak.all(ak.all(quarks, axis=2), axis=1) #check if all the children of 2 Ws are quarks or not\n",
    "#so first check 2nd axis, and then check 1st axis\n",
    "add_selection(\n",
    "    \"WW decays to 4q\",\n",
    "    selection_all_q, \n",
    "    selection, \n",
    "    cutflow, \n",
    "    False, \n",
    "    signGenWeights)\n",
    "# print(selection_all_q)"
   ]
  },
  {
   "cell_type": "code",
   "execution_count": 118,
   "metadata": {},
   "outputs": [
    {
     "data": {
      "text/plain": [
       "{'all': 27037, 'HtoWW': 27037.0, 'WW decays to 4q': 18272.0}"
      ]
     },
     "execution_count": 118,
     "metadata": {},
     "output_type": "execute_result"
    }
   ],
   "source": [
    "#quick look at the cut-flow\n",
    "cutflow"
   ]
  },
  {
   "cell_type": "markdown",
   "metadata": {},
   "source": [
    "### store the PFCands, GenEtaPhi, Higgs candidate AK8 jet 4-vector information for Lund Plane use"
   ]
  },
  {
   "cell_type": "code",
   "execution_count": 119,
   "metadata": {},
   "outputs": [
    {
     "data": {
      "text/plain": [
       "<Array [{Electron: [Electron], ... Jet, Jet]}] type='18278 * {\"Electron\": var * ...'>"
      ]
     },
     "execution_count": 119,
     "metadata": {},
     "output_type": "execute_result"
    }
   ],
   "source": [
    "events_after_cut = filtered_events[selection.all(*selection.names)]\n",
    "# del filtered_events\n",
    "events_after_cut"
   ]
  },
  {
   "cell_type": "code",
   "execution_count": 120,
   "metadata": {},
   "outputs": [],
   "source": [
    "#find the Higgs jet idx, dR(gen_Higgs, jet)<0.8 & dR(gen_W_1, jet)<0.8 & dR(gen_W_2, jet)<0.8\n",
    "\n",
    "#collect gen-Higgs information\n",
    "higgs = events_after_cut.GenPart[\n",
    "    (abs(events_after_cut.GenPart.pdgId) == HIGGS_PDGID) * events_after_cut.GenPart.hasFlags(GEN_FLAGS)\n",
    "]\n",
    "GenHiggsVars = {\n",
    "    f\"GenHiggs{key}\": higgs[var].to_numpy() for (var, key) in skim_vars.items()\n",
    "    }\n",
    "higgs_children = higgs.children\n",
    "\n",
    "# collect gen-Higgs children WW information, may not be used, since only Higgs information is needed for the matching\n",
    "is_WW = abs(higgs_children.pdgId) == W_PDGID\n",
    "WW = ak.flatten(higgs_children[is_WW], axis=2)\n",
    "\n",
    "GenWWVars = {\n",
    "    # f\"GenWW{key}\": WW[var].to_numpy() for (var, key) in skim_vars.items()\n",
    "    f\"GenWW{key}\": pad_val(WW[var], 2, FILL_NONE_VALUE, axis=1) for (var, key) in skim_vars.items()\n",
    "    }\n",
    "GenW1Vars = {\n",
    "    # f\"GenWW{key}\": WW[var][:,0].to_numpy() for (var, key) in skim_vars.items()\n",
    "    f\"GenWW{key}\": pad_val(WW[var], 2, FILL_NONE_VALUE, axis=1)[:,0] for (var, key) in skim_vars.items()\n",
    "    }\n",
    "GenW2Vars = {\n",
    "    # f\"GenWW{key}\": WW[var][:,1].to_numpy() for (var, key) in skim_vars.items()\n",
    "    f\"GenWW{key}\": pad_val(WW[var], 2, FILL_NONE_VALUE, axis=1)[:,1] for (var, key) in skim_vars.items()\n",
    "    }\n",
    "\n",
    "#collect FatJet information\n",
    "fatjets = events_after_cut.FatJet\n",
    "HWW = ak.pad_none(higgs, 1, axis=1, clip=True)[:, 0] #because it's a 2D array\n",
    "WWdr = fatjets[:, :3].delta_r(HWW) #here use 3 because we have up to 3 AK8 jets, use ak.max(ak.num(WWdr,axis = 1)) for test\n",
    "match_dR = 0.8\n",
    "HWW_match = WWdr <= match_dR #FatJetIdx in each event, which is real HWW jet\n",
    "HWWJets = ak.pad_none(fatjets[HWW_match], 1, axis=1)[:, 0] #There can be None object in HWWJets array\n",
    "#tie [pt, eta, phi, mass] together, get new arrary\n",
    "\n",
    "\n"
   ]
  },
  {
   "cell_type": "code",
   "execution_count": 121,
   "metadata": {},
   "outputs": [
    {
     "data": {
      "text/plain": [
       "array([ True,  True,  True, ...,  True,  True,  True])"
      ]
     },
     "execution_count": 121,
     "metadata": {},
     "output_type": "execute_result"
    }
   ],
   "source": [
    "filled_pt = pad_val(HWWJets.pt,len(HWWJets.pt),-99)\n",
    "selection_has_HWWjet = filled_pt > 0\n",
    "selection_has_HWWjet"
   ]
  },
  {
   "cell_type": "code",
   "execution_count": 122,
   "metadata": {},
   "outputs": [
    {
     "data": {
      "text/plain": [
       "<Array [{Electron: [Electron], ... Jet, Jet]}] type='17748 * {\"Electron\": var * ...'>"
      ]
     },
     "execution_count": 122,
     "metadata": {},
     "output_type": "execute_result"
    }
   ],
   "source": [
    "events_final = events_after_cut[selection_has_HWWjet]\n",
    "len(events_final)\n",
    "events_final"
   ]
  },
  {
   "cell_type": "markdown",
   "metadata": {},
   "source": [
    "### Do it again after the final cut"
   ]
  },
  {
   "cell_type": "code",
   "execution_count": 123,
   "metadata": {},
   "outputs": [
    {
     "name": "stdout",
     "output_type": "stream",
     "text": [
      "[[[True, True], [True, True]], [[True, ... True]], [[True, True], [True, True]]]\n"
     ]
    },
    {
     "data": {
      "text/plain": [
       "17748"
      ]
     },
     "execution_count": 123,
     "metadata": {},
     "output_type": "execute_result"
    }
   ],
   "source": [
    "#find the Higgs jet idx, dR(gen_Higgs, jet)<0.8 & dR(gen_W_1, jet)<0.8 & dR(gen_W_2, jet)<0.8\n",
    "\n",
    "#collect gen-Higgs information\n",
    "higgs = events_final.GenPart[\n",
    "    (abs(events_final.GenPart.pdgId) == HIGGS_PDGID) * events_final.GenPart.hasFlags(GEN_FLAGS)\n",
    "]\n",
    "GenHiggsVars = {\n",
    "    f\"GenHiggs{key}\": higgs[var].to_numpy() for (var, key) in skim_vars.items()\n",
    "    }\n",
    "higgs_children = higgs.children\n",
    "\n",
    "# collect gen-Higgs children WW information, may not be used, since only Higgs information is needed for the matching\n",
    "is_WW = abs(higgs_children.pdgId) == W_PDGID\n",
    "WW = ak.flatten(higgs_children[is_WW], axis=2)\n",
    "\n",
    "GenWWVars = {\n",
    "    f\"GenWW{key}\": WW[var].to_numpy() for (var, key) in skim_vars.items()\n",
    "    }\n",
    "GenW1Vars = {\n",
    "    f\"GenWW{key}\": WW[var][:,0].to_numpy() for (var, key) in skim_vars.items()\n",
    "    }\n",
    "GenW2Vars = {\n",
    "    f\"GenWW{key}\": WW[var][:,1].to_numpy() for (var, key) in skim_vars.items()\n",
    "    }\n",
    "\n",
    "#collect FatJet information\n",
    "fatjets = events_final.FatJet\n",
    "HWW = ak.pad_none(higgs, 1, axis=1, clip=True)[:, 0] #because it's a 2D array\n",
    "WWdr = fatjets[:, :3].delta_r(HWW) #here use 3 because we have up to 3 AK8 jets, use ak.max(ak.num(WWdr,axis = 1)) for test\n",
    "match_dR = 0.8\n",
    "HWW_match = WWdr <= match_dR #FatJetIdx in each event, which is real HWW jet\n",
    "HWWJets = ak.pad_none(fatjets[HWW_match], 1, axis=1)[:, 0] #There can be None object in HWWJets array\n",
    "#tie [pt, eta, phi, mass] together, get new arrary\n",
    "\n",
    "\n",
    "WW_children = WW.children\n",
    "\n",
    "quarks = abs(WW_children.pdgId) <= b_PDGID #get all the 2 Ws daughter PDGID <=5 information\n",
    "print(quarks)\n",
    "\n",
    "# saving 4q 4-vector info\n",
    "Gen4qVars = {\n",
    "    f\"Gen4q{key}\": ak.to_numpy(\n",
    "        ak.fill_none(\n",
    "            ak.pad_none(ak.pad_none(WW_children[var], 2, axis=1, clip=True), 2, axis=2, clip=True),\n",
    "            FILL_NONE_VALUE,\n",
    "        )\n",
    "    )\n",
    "    for (var, key) in skim_vars.items()\n",
    "}\n",
    "len(Gen4qVars[\"Gen4qPt\"])"
   ]
  },
  {
   "cell_type": "markdown",
   "metadata": {},
   "source": [
    "### four vector for HWW jet"
   ]
  },
  {
   "cell_type": "code",
   "execution_count": 124,
   "metadata": {},
   "outputs": [],
   "source": [
    "# four vector for HWW jet\n",
    "higgs_jet_4vec_H3q4q = np.array(np.stack((np.array(HWWJets.pt), np.array(HWWJets.eta),np.array(HWWJets.phi),np.array(HWWJets.mass)), axis=1))"
   ]
  },
  {
   "cell_type": "code",
   "execution_count": 125,
   "metadata": {},
   "outputs": [
    {
     "data": {
      "text/plain": [
       "17748"
      ]
     },
     "execution_count": 125,
     "metadata": {},
     "output_type": "execute_result"
    }
   ],
   "source": [
    "len(higgs_jet_4vec_H3q4q)"
   ]
  },
  {
   "cell_type": "markdown",
   "metadata": {},
   "source": [
    "### Next eta-phi for 4 quarks"
   ]
  },
  {
   "cell_type": "code",
   "execution_count": 126,
   "metadata": {},
   "outputs": [],
   "source": [
    "# Finally construct the eta-phi array\n",
    "eta_4q = Gen4qVars[\"Gen4qEta\"].reshape(Gen4qVars[\"Gen4qEta\"].shape[0], -1)\n",
    "phi_4q = Gen4qVars[\"Gen4qPhi\"].reshape(Gen4qVars[\"Gen4qPhi\"].shape[0], -1)\n",
    "gen_parts_eta_phi_H3q4q_4q = np.array(np.dstack((eta_4q,phi_4q)))\n",
    "# can do test like : gen_parts_eta_phi[:2]"
   ]
  },
  {
   "cell_type": "code",
   "execution_count": 127,
   "metadata": {},
   "outputs": [],
   "source": [
    "#count the number of quarks inside the AK8 jet, require 3 or 4 quarks.\n",
    "def count_quarks_in_jets(jet_4vec, gen_parts_eta_phi, delta_r_cut=0.8):\n",
    "    num_jets = len(jet_4vec)\n",
    "    num_quarks_in_jets = np.zeros(num_jets, dtype=int)\n",
    "\n",
    "    for i in range(num_jets):\n",
    "        jet_eta, jet_phi = jet_4vec[i][1], jet_4vec[i][2]\n",
    "\n",
    "        quark_eta_phi = gen_parts_eta_phi[i]\n",
    "        quark_eta, quark_phi = quark_eta_phi[:, 0], quark_eta_phi[:, 1]\n",
    "\n",
    "        delta_eta = jet_eta - quark_eta\n",
    "        delta_phi = jet_phi - quark_phi\n",
    "\n",
    "        delta_r_squared = delta_eta**2 + delta_phi**2\n",
    "        quarks_in_jet = np.sqrt(delta_r_squared) < delta_r_cut\n",
    "\n",
    "        num_quarks_in_jets[i] = np.sum(quarks_in_jet)\n",
    "\n",
    "    return num_quarks_in_jets\n"
   ]
  },
  {
   "cell_type": "code",
   "execution_count": 128,
   "metadata": {},
   "outputs": [],
   "source": [
    "result_4q = count_quarks_in_jets(higgs_jet_4vec_H3q4q, gen_parts_eta_phi_H3q4q_4q)"
   ]
  },
  {
   "cell_type": "code",
   "execution_count": 129,
   "metadata": {},
   "outputs": [],
   "source": [
    "H3q4q_cut = (result_4q >= 3)"
   ]
  },
  {
   "cell_type": "markdown",
   "metadata": {},
   "source": [
    "### Get FatJetPFCands 4-vector, up to 150 length to suit the input of Oz's function"
   ]
  },
  {
   "cell_type": "code",
   "execution_count": 130,
   "metadata": {},
   "outputs": [],
   "source": [
    "# first get the jet_idx HWW jet, each event has one jet_idx\n",
    "HWW_match = WWdr <= match_dR #FatJetIdx in each event, which is real HWW jet\n",
    "HWW_match_padded = pad_val(HWW_match,3,False,1,True) #pad the array with False value\n",
    "HWW_jet_idx = np.argmax(HWW_match_padded,axis = 1) #the jet index in each jet which is true HWW jet\n",
    "# then get all the FatJetPFCands according to the jet_idx, and get PF_idx\n",
    "HWW_FatJetPFCands = (events_final.FatJetPFCands.jetIdx == HWW_jet_idx)\n",
    "HWW_FatJetPFCands_pFCandsIdx = events_final.FatJetPFCands.pFCandsIdx[HWW_FatJetPFCands]\n",
    "# at last, get PFCands 4-vector according to the PF_idx in last step\n"
   ]
  },
  {
   "cell_type": "code",
   "execution_count": 131,
   "metadata": {},
   "outputs": [],
   "source": [
    "pt_array =   ak.Array(events_final.PFCands.pt)\n",
    "eta_array =  ak.Array(events_final.PFCands.eta)\n",
    "phi_array =  ak.Array(events_final.PFCands.phi)\n",
    "mass_array = ak.Array(events_final.PFCands.mass)"
   ]
  },
  {
   "cell_type": "code",
   "execution_count": 132,
   "metadata": {},
   "outputs": [],
   "source": [
    "selected_pt =  pt_array[HWW_FatJetPFCands_pFCandsIdx]\n",
    "selected_eta = eta_array[HWW_FatJetPFCands_pFCandsIdx]\n",
    "selected_phi = phi_array[HWW_FatJetPFCands_pFCandsIdx]\n",
    "selected_mass = mass_array[HWW_FatJetPFCands_pFCandsIdx]"
   ]
  },
  {
   "cell_type": "code",
   "execution_count": 133,
   "metadata": {},
   "outputs": [],
   "source": [
    "selected_pt_padded = pad_val(selected_pt,150,0,1,True)"
   ]
  },
  {
   "cell_type": "code",
   "execution_count": 134,
   "metadata": {},
   "outputs": [],
   "source": [
    "selected_eta_padded = pad_val(selected_eta,150,0,1,True)"
   ]
  },
  {
   "cell_type": "code",
   "execution_count": 135,
   "metadata": {},
   "outputs": [],
   "source": [
    "selected_phi_padded = pad_val(selected_phi,150,0,1,True)"
   ]
  },
  {
   "cell_type": "code",
   "execution_count": 136,
   "metadata": {},
   "outputs": [],
   "source": [
    "selected_mass_padded = pad_val(selected_mass,150,0,1,True)"
   ]
  },
  {
   "cell_type": "code",
   "execution_count": 137,
   "metadata": {},
   "outputs": [],
   "source": [
    "#Construct (px,py,pz,E) using (pt,eta,phi,mass) information as the input\n",
    "pf_cands_px = selected_pt_padded * np.cos(selected_phi_padded)\n",
    "pf_cands_py = selected_pt_padded * np.sin(selected_phi_padded)\n",
    "pf_cands_pz = selected_pt_padded * np.sinh(selected_eta_padded)\n",
    "pf_cands_E = np.sqrt(pf_cands_px**2 + pf_cands_py**2 + pf_cands_pz**2 + selected_mass_padded**2)"
   ]
  },
  {
   "cell_type": "code",
   "execution_count": 138,
   "metadata": {},
   "outputs": [],
   "source": [
    "pf_cands_pxpypzE_4q = np.dstack((pf_cands_px,pf_cands_py,pf_cands_pz,pf_cands_E))"
   ]
  },
  {
   "cell_type": "code",
   "execution_count": 139,
   "metadata": {},
   "outputs": [],
   "source": [
    "# do final cut using H4q3q selection:\n",
    "gen_parts_eta_phi_H3q4q_4q = gen_parts_eta_phi_H3q4q_4q[H3q4q_cut]\n",
    "pf_cands_pxpypzE_4q = pf_cands_pxpypzE_4q[H3q4q_cut]\n",
    "higgs_jet_4vec_H3q4q = higgs_jet_4vec_H3q4q[H3q4q_cut]\n"
   ]
  },
  {
   "cell_type": "markdown",
   "metadata": {},
   "source": [
    "### Next compute tagger score"
   ]
  },
  {
   "cell_type": "code",
   "execution_count": 140,
   "metadata": {},
   "outputs": [],
   "source": [
    "eventsScoreFatjet = events_final\n",
    "tagger_scores = (eventsScoreFatjet.FatJet.inclParTMDV1_probHWqqWev0c + eventsScoreFatjet.FatJet.inclParTMDV1_probHWqqWev1c + eventsScoreFatjet.FatJet.inclParTMDV1_probHWqqWmv0c + eventsScoreFatjet.FatJet.inclParTMDV1_probHWqqWmv1c + eventsScoreFatjet.FatJet.inclParTMDV1_probHWqqWq0c + eventsScoreFatjet.FatJet.inclParTMDV1_probHWqqWq1c + eventsScoreFatjet.FatJet.inclParTMDV1_probHWqqWq2c + eventsScoreFatjet.FatJet.inclParTMDV1_probHWqqWqq0c + eventsScoreFatjet.FatJet.inclParTMDV1_probHWqqWqq1c + eventsScoreFatjet.FatJet.inclParTMDV1_probHWqqWqq2c + eventsScoreFatjet.FatJet.inclParTMDV1_probHWqqWtauev0c + eventsScoreFatjet.FatJet.inclParTMDV1_probHWqqWtauev1c + eventsScoreFatjet.FatJet.inclParTMDV1_probHWqqWtauhv0c + eventsScoreFatjet.FatJet.inclParTMDV1_probHWqqWtauhv1c + eventsScoreFatjet.FatJet.inclParTMDV1_probHWqqWtaumv0c + eventsScoreFatjet.FatJet.inclParTMDV1_probHWqqWtaumv1c)/(ak.ones_like(eventsScoreFatjet.FatJet.inclParTMDV1_probHWqqWtaumv1c) - eventsScoreFatjet.FatJet.inclParTMDV1_probTopbWtauev - eventsScoreFatjet.FatJet.inclParTMDV1_probTopbWq0c - eventsScoreFatjet.FatJet.inclParTMDV1_probTopbWmv - eventsScoreFatjet.FatJet.inclParTMDV1_probTopbWev - eventsScoreFatjet.FatJet.inclParTMDV1_probTopbWqq0c - eventsScoreFatjet.FatJet.inclParTMDV1_probTopbWqq1c - eventsScoreFatjet.FatJet.inclParTMDV1_probTopbWtauhv - eventsScoreFatjet.FatJet.inclParTMDV1_probTopbWq1c - eventsScoreFatjet.FatJet.inclParTMDV1_probTopbWtaumv)\n",
    "\n",
    "fatjets = events_final.FatJet\n",
    "HWW = ak.pad_none(higgs, 1, axis=1, clip=True)[:, 0] #because it's a 2D array\n",
    "WWdr = fatjets[:, :3].delta_r(HWW) #here use 3 because we have up to 3 AK8 jets, use ak.max(ak.num(WWdr,axis = 1)) for test\n",
    "match_dR = 0.8\n",
    "HWW_match = WWdr <= match_dR #FatJetIdx in each event, which is real HWW jet\n",
    "\n",
    "HWWJets_tagger_score_3q4q = ak.pad_none(tagger_scores[HWW_match], 1, axis=1)[:, 0]\n",
    "\n",
    "HWWJets_tagger_score_3q4q = HWWJets_tagger_score_3q4q[H3q4q_cut]"
   ]
  },
  {
   "cell_type": "code",
   "execution_count": 141,
   "metadata": {},
   "outputs": [
    {
     "data": {
      "text/plain": [
       "15668"
      ]
     },
     "execution_count": 141,
     "metadata": {},
     "output_type": "execute_result"
    }
   ],
   "source": [
    "len(HWWJets_tagger_score_3q4q)"
   ]
  },
  {
   "cell_type": "code",
   "execution_count": 142,
   "metadata": {},
   "outputs": [],
   "source": [
    "H3q4q_len = len(HWWJets_tagger_score_3q4q)"
   ]
  },
  {
   "cell_type": "markdown",
   "metadata": {},
   "source": [
    "### Calculate SFs and weights"
   ]
  },
  {
   "cell_type": "code",
   "execution_count": 143,
   "metadata": {},
   "outputs": [
    {
     "name": "stdout",
     "output_type": "stream",
     "text": [
      "Nominal efficiency 0.175, Corrected efficiency 0.163, SF (corrected / nom) 0.936\n",
      "Stat variation toys eff. avg 0.164, std dev 0.005\n",
      "Pt variation toys eff. avg 0.163, std dev 0.000\n",
      "\n",
      "\n",
      "Calibrated efficiency  is 0.163 +/- 0.006  (stat) +/- 0.000 (pt) +/- 0.001/0.011 (sys)+/- 0.075 (matching)  \n",
      "\n",
      "\n",
      "Now perform SFs information\n",
      "SF (corrected / nom) 0.936\n",
      "\n",
      "\n",
      "SF is 0.936 +/-0.032(stat) +/-0.002(pt) +0.001/-0.011(sys) +/-0.430(match) \n",
      "\n",
      "\n"
     ]
    }
   ],
   "source": [
    "import sys, os\n",
    "sys.path.insert(0, '')\n",
    "sys.path.append(\"/home/pku/zhaoyz/Higgs/LundReweighting\")\n",
    "from utils.LundReweighter import *\n",
    "from utils.Utils import *\n",
    "\"\"\" An example how to use the Lund Plane reweighting  code \"\"\"\n",
    "\n",
    "######################## Setup \n",
    "\n",
    "#Input file \n",
    "fname = \"/home/pku/zhaoyz/Higgs/LundReweighting/data/example_signal.h5\"\n",
    "#File containing data/MC Lund Plane ratio\n",
    "f_ratio_name = '/home/pku/zhaoyz/Higgs/LundReweighting/data/ratio_2018.root'\n",
    "\n",
    "f_sig = h5py.File(fname, \"r\")\n",
    "f_ratio = ROOT.TFile.Open(f_ratio_name)\n",
    "\n",
    "#Class to help read input dataset, \"Dataset\" class defined in Utils.py\n",
    "# d = Dataset(f_sig, dtype = 1)\n",
    "# d.compute_obs() #there may be some dedicated variables inside the .h5 file\n",
    "\n",
    "#The cut we will compute a SF for 'tau21 < 0.34'\n",
    "tag_obs = 'tau21'\n",
    "score_thresh = 0.975\n",
    "\n",
    "\n",
    "#nominal data/MC Lund plane ratio (3d histogram)\n",
    "h_ratio = f_ratio.Get(\"ratio_nom\")\n",
    "#systematic variations\n",
    "h_ratio_sys_up = f_ratio.Get(\"ratio_sys_tot_up\")\n",
    "h_ratio_sys_down = f_ratio.Get(\"ratio_sys_tot_down\")\n",
    "#MC ratio of b to light quarks\n",
    "b_light_ratio = f_ratio.Get(\"h_bl_ratio\")\n",
    "\n",
    "\n",
    "#directory of pt extrapolation fits\n",
    "f_ratio.cd('pt_extrap')\n",
    "rdir = ROOT.gDirectory #get the present working directory and give it to rdir\n",
    "\n",
    "#Main class for reweighting utilities\n",
    "LP_rw = LundReweighter(pt_extrap_dir = rdir)\n",
    "\n",
    "max_evts = H3q4q_len\n",
    "\n",
    "# score = getattr(d, tag_obs)[:max_evts]\n",
    "# score_cut = ((HWWJets_tagger_score_3q4q >= 0.8) & (HWWJets_tagger_score_3q4q <= 0.975))\n",
    "score_cut = (HWWJets_tagger_score_3q4q > 0.95)\n",
    "score_cut = score_cut[:max_evts]\n",
    "\n",
    "\n",
    "#Number of toys for statistical and pt extrapolation uncertainties\n",
    "nToys = 100\n",
    "#Noise vectors used to to generate the toys\n",
    "#NOTE the same vector has to be used for the whole sample/signal file for the toys to be consistent \n",
    "rand_noise = np.random.normal(size = (nToys, h_ratio.GetNbinsX(), h_ratio.GetNbinsY(), h_ratio.GetNbinsZ()))\n",
    "pt_rand_noise = np.random.normal(size = (nToys, h_ratio.GetNbinsY(), h_ratio.GetNbinsZ(), 3))\n",
    "\n",
    "\n",
    "################### Compute reweighting factors\n",
    "\n",
    "#PF candidates in the AK8 jet\n",
    "# pf_cands = d.get_masked(\"jet1_PFCands\").astype(np.float64)[:max_evts]\n",
    "pf_cands = pf_cands_pxpypzE_4q[:max_evts]\n",
    "#Generator level quarks from hard process\n",
    "\n",
    "# gen_parts = d.get_masked('gen_info')[:max_evts]\n",
    "gen_parts_eta_phi = gen_parts_eta_phi_H3q4q_4q[:max_evts]\n",
    "# gen_parts_pdg_ids = gen_parts[:,:,3]\n",
    "\n",
    "B_PDG_ID = 5\n",
    "\n",
    "# ak8_jets = d.get_masked('jet_kinematics')[:max_evts][:,2:6].astype(np.float64)\n",
    "ak8_jets = higgs_jet_4vec_H3q4q[:max_evts]\n",
    "\n",
    "#Nominal event weights of the MC, assume every event is weight '1' for this example\n",
    "weights_nom = np.ones(max_evts)\n",
    "\n",
    "LP_weights = []\n",
    "LP_weights_sys_up = []\n",
    "LP_weights_sys_down = []\n",
    "stat_smeared_weights = []\n",
    "pt_smeared_weights = []\n",
    "b_weights_up = []\n",
    "b_weights_down = []\n",
    "bad_matches = []\n",
    "\n",
    "\n",
    "for i,cands in enumerate(pf_cands):\n",
    "    # if i == 4: break\n",
    "    # print(\"now processing:\",i)\n",
    "    #Get the subjets, splittings and checking matching based on PF candidates in the jet and gen-level quarks\n",
    "    subjets, splittings, bad_match, deltaRs = LP_rw.get_splittings_and_matching(cands, gen_parts_eta_phi[i], ak8_jets[i])\n",
    "    # print(bad_match)\n",
    "    # print(deltaRs)\n",
    "    #Gets the nominal LP reweighting factor for this event and statistical + pt extrapolation toys\n",
    "    LP_weight, stat_smeared_weight, pt_smeared_weight = LP_rw.reweight_lund_plane(h_rw = h_ratio, subjets = subjets, splittings = splittings,\n",
    "            rand_noise = rand_noise, pt_rand_noise = pt_rand_noise, )\n",
    "    #Now get systematic variations\n",
    "    LP_weight_sys_up,_,_ = LP_rw.reweight_lund_plane(h_rw = h_ratio_sys_up, subjets = subjets, splittings = splittings)\n",
    "    LP_weight_sys_down,_,_ = LP_rw.reweight_lund_plane(h_rw = h_ratio_sys_down, subjets = subjets, splittings = splittings)\n",
    "\n",
    "    LP_weights.append(LP_weight)\n",
    "    stat_smeared_weights.append(stat_smeared_weight)\n",
    "    pt_smeared_weights.append(pt_smeared_weight)\n",
    "\n",
    "    LP_weights_sys_up.append(LP_weight_sys_up)\n",
    "    LP_weights_sys_down.append(LP_weight_sys_down)\n",
    "    bad_matches.append(bad_match)\n",
    "\n",
    "\n",
    "\n",
    "############### Normalize weights to preserve normalization of the MC sample\n",
    "\n",
    "#The nominal Lund Plane correction event weights\n",
    "LP_weights = LP_rw.normalize_weights(LP_weights) * weights_nom \n",
    "\n",
    "#Toy variations for stat and pt uncertainties\n",
    "stat_smeared_weights = LP_rw.normalize_weights(stat_smeared_weights) * weights_nom.reshape(max_evts, 1)\n",
    "pt_smeared_weights = LP_rw.normalize_weights(pt_smeared_weights) * weights_nom.reshape(max_evts,1)\n",
    "\n",
    "#Systematic up/down variations\n",
    "LP_weights_sys_up = LP_rw.normalize_weights(LP_weights_sys_up) * weights_nom\n",
    "LP_weights_sys_down = LP_rw.normalize_weights(LP_weights_sys_down) * weights_nom\n",
    "\n",
    "############### Compute efficiences and uncertainties\n",
    "\n",
    "\n",
    "#Efficiency of the cut in nominal MC\n",
    "eff_nom = np.average(score_cut, weights = weights_nom) #TODO\n",
    "\n",
    "#Efficiency of the cut after the Lund Plane reweighting\n",
    "eff_rw = np.average(score_cut, weights = LP_weights)\n",
    "\n",
    "#Nominal 'scale factor'\n",
    "SF = eff_rw / eff_nom\n",
    "\n",
    "print(\"Nominal efficiency %.3f, Corrected efficiency %.3f, SF (corrected / nom) %.3f\" % (eff_nom, eff_rw, SF))\n",
    "\n",
    "#NOTE, better to use corrected efficiency computed separately for each sample rather than a single 'SF'\n",
    "\n",
    "\n",
    "#Compute efficiency for each of the stat/pt toys\n",
    "eff_toys = []\n",
    "pt_eff_toys = []\n",
    "for i in range(nToys):\n",
    "    eff = np.average(score_cut, weights = stat_smeared_weights[:,i])\n",
    "    eff_toys.append(eff)\n",
    "\n",
    "    eff1 = np.average(score_cut, weights = pt_smeared_weights[:,i])\n",
    "    pt_eff_toys.append(eff1)\n",
    "\n",
    "#Compute stat and pt uncertainty based on variation in the toys\n",
    "toys_mean = np.mean(eff_toys)\n",
    "toys_std = np.std(eff_toys)\n",
    "pt_toys_mean = np.mean(pt_eff_toys)\n",
    "pt_toys_std = np.std(pt_eff_toys)\n",
    "\n",
    "eff_stat_unc = (abs(toys_mean - eff_rw)  + toys_std) \n",
    "eff_pt_unc = (abs(pt_toys_mean - eff_rw) + pt_toys_std)\n",
    "\n",
    "print(\"Stat variation toys eff. avg %.3f, std dev %.3f\" % (toys_mean, toys_std))\n",
    "print(\"Pt variation toys eff. avg %.3f, std dev %.3f\" % (pt_toys_mean, pt_toys_std))\n",
    "\n",
    "\n",
    "#Compute difference in efficiency due to weight variations as uncertainty\n",
    "def get_uncs(score_cut, weights_up, weights_down, eff_baseline):\n",
    "    eff_up =  np.average(score_cut, weights = weights_up)\n",
    "    eff_down =  np.average(score_cut, weights = weights_down)\n",
    "\n",
    "    unc_up = eff_up - eff_baseline\n",
    "    unc_down = eff_down - eff_baseline \n",
    "    return unc_up, unc_down\n",
    "\n",
    "\n",
    "#Compute efficiency of systematic variations\n",
    "sys_unc_up, sys_unc_down = get_uncs(score_cut, LP_weights_sys_up, LP_weights_sys_down, eff_rw)\n",
    "# b_unc_up, b_unc_down = get_uncs(score_cut, b_weights_up, b_weights_down, eff_rw)\n",
    "\n",
    "\n",
    "#matching uncertainty, taken as a fractional uncertainty on efficiency\n",
    "bad_match_frac = np.mean(bad_matches)\n",
    "bad_match_unc = bad_match_frac * eff_rw\n",
    "\n",
    "\n",
    "############ Results\n",
    "print(\"\\n\\nCalibrated efficiency  is %.3f +/- %.3f  (stat) +/- %.3f (pt) +/- %.3f/%.3f (sys)+/- %.3f (matching)  \\n\\n\"  % \n",
    "        (eff_rw, eff_stat_unc, eff_pt_unc, sys_unc_up, sys_unc_down, bad_match_unc))\n",
    "\n",
    "#next compute the uncertainty about SFs\n",
    "\n",
    "#Efficiency of the cut in nominal MC\n",
    "eff_nom = np.average(score_cut, weights = weights_nom) #TODO\n",
    "\n",
    "#Efficiency of the cut after the Lund Plane reweighting\n",
    "eff_rw = np.average(score_cut, weights = LP_weights)\n",
    "\n",
    "#Nominal 'scale factor'\n",
    "print(\"Now perform SFs information\")\n",
    "SF = eff_rw / eff_nom\n",
    "\n",
    "print(\"SF (corrected / nom) %.3f\" % (SF))\n",
    "\n",
    "#propagate statistical and pt extrapolation uncertainties to SF\n",
    "SF_stat_unc = (abs(toys_mean - eff_rw)  + toys_std) /eff_nom\n",
    "SF_pt_unc = (abs(pt_toys_mean - eff_rw) + pt_toys_std) /eff_nom\n",
    "\n",
    "#propagate systemetic uncertainty to SF\n",
    "eff_sys_up =  np.average(score_cut, weights = LP_weights_sys_up)\n",
    "eff_sys_down =  np.average(score_cut, weights = LP_weights_sys_down)\n",
    "\n",
    "sys_unc_up = abs(eff_rw - eff_sys_up)\n",
    "sys_unc_down = abs(eff_rw - eff_sys_down)\n",
    "\n",
    "SF_sys_unc_up = sys_unc_up/eff_nom\n",
    "SF_sys_unc_down = sys_unc_down/eff_nom\n",
    "\n",
    "#calculate bad matching uncertainty directly\n",
    "SF_match_unc = bad_match_frac * SF\n",
    "\n",
    "print(\"\\n\\nSF is %.3f +/-%.3f(stat) +/-%.3f(pt) +%.3f/-%.3f(sys) +/-%.3f(match) \\n\\n\"  % (SF, SF_stat_unc, SF_pt_unc, sys_unc_up, sys_unc_down, SF_match_unc))\n",
    "f_ratio.Close()\n"
   ]
  },
  {
   "cell_type": "markdown",
   "metadata": {},
   "source": [
    "### Plot the tagger distribution about H3q4q jet"
   ]
  },
  {
   "cell_type": "code",
   "execution_count": 144,
   "metadata": {},
   "outputs": [
    {
     "data": {
      "image/png": "[encoded data removed]",
      "text/plain": [
       "<Figure size 1000x1000 with 1 Axes>"
      ]
     },
     "metadata": {},
     "output_type": "display_data"
    }
   ],
   "source": [
    "import matplotlib as mpl\n",
    "import matplotlib.pyplot as plt\n",
    "import mplhep as hep\n",
    "import boost_histogram as bh\n",
    "from cycler import cycler\n",
    "max_evts = H3q4q_len\n",
    "#implement CMS plot style functions\n",
    "use_helvet = False ## true: use helvetica for plots, make sure the system have the font installed\n",
    "if use_helvet:\n",
    "    CMShelvet = hep.style.CMS\n",
    "    CMShelvet['font.sans-serif'] = ['Helvetica', 'Arial']\n",
    "    plt.style.use(CMShelvet)\n",
    "else:\n",
    "    plt.style.use(hep.style.CMS)\n",
    "\n",
    "plt.figure(figsize=(10,10))\n",
    "ax=plt.gca()\n",
    "plt.grid()\n",
    "hep.cms.label(data=False, year=\"2018\", ax=ax, fontname='sans-serif')\n",
    "%matplotlib inline\n",
    "#step1: plot \n",
    "\n",
    "# plt.hist(eventsEventsID3Prongs4Prongs['HqqqqVsQcdTop'], bins=20, range=(0,1), histtype='step', label='before reweighting',density=True);\n",
    "# plt.hist(eventsEventsID3Prongs4Prongs['HqqqqVsQcdTop'], bins=20, range=(0,1), histtype='step', label='after reweighting', weights=eventsEventsID3Prongs4Prongs[\"LP_weight\"],density=True);\n",
    "nbins, x_min, x_max = 20, 0, 1.0\n",
    "hist_before = bh.Histogram(bh.axis.Regular(nbins, x_min, x_max), storage=bh.storage.Weight())\n",
    "hist_before.fill(HWWJets_tagger_score_3q4q[:max_evts])\n",
    "hist_before_value = hist_before.view().value\n",
    "hist_before_err = np.sqrt(hist_before.view().variance)\n",
    "hist_after = bh.Histogram(bh.axis.Regular(nbins, x_min, x_max), storage=bh.storage.Weight())\n",
    "hist_after.fill(HWWJets_tagger_score_3q4q[:max_evts],weight=LP_weights[:max_evts])\n",
    "hist_after_value = hist_after.view().value\n",
    "hist_after_err = np.sqrt(hist_after.view().variance)\n",
    "bins = hist_before.axes[0].edges\n",
    "\n",
    "\n",
    "hep.histplot(hist_before_value,    bins=bins, yerr=hist_before_err, label= 'before Lund Plane reweighting', lw = 2,edges = False, histtype=\"step\")\n",
    "hep.histplot(hist_after_value,     bins=bins, yerr=hist_after_err,  label= 'after Lund Plane reweighting', lw = 2,edges = False, histtype=\"step\")\n",
    "\n",
    "\n",
    "plt.legend(loc='upper left',frameon=False,fontsize=20)\n",
    "y_min,y_max = plt.gca().get_ylim()\n",
    "plt.text(0.08, 0.83*y_max, \"ggF, only for H3q4q\", fontsize=20)\n",
    "# plt.xlabel(r'$H_{qqqq} / (H_{qqqq} + QCD + Top)$')\n",
    "plt.xlabel(r'$jet_{a}:HWW\\ score(without\\ P_{top}\\ in\\ denominator)$', fontsize=20, ha='right', x=1)\n",
    "plt.ylabel('Events(No xs-weighted)',fontsize=20, ha='right', y=1)\n",
    "plt.savefig(f\"TaggerDistribution_2018_ggF_H4q3q_HWWwoTop.pdf\", bbox_inches='tight')\n",
    "plt.xticks(size=14)\n",
    "plt.yticks(size=14)\n",
    "plt.show()\n"
   ]
  }
 ],
 "metadata": {
  "kernelspec": {
   "display_name": "HWWCali",
   "language": "python",
   "name": "python3"
  },
  "language_info": {
   "codemirror_mode": {
    "name": "ipython",
    "version": 3
   },
   "file_extension": ".py",
   "mimetype": "text/x-python",
   "name": "python",
   "nbconvert_exporter": "python",
   "pygments_lexer": "ipython3",
   "version": "3.9.18"
  },
  "orig_nbformat": 4
 },
 "nbformat": 4,
 "nbformat_minor": 2
}

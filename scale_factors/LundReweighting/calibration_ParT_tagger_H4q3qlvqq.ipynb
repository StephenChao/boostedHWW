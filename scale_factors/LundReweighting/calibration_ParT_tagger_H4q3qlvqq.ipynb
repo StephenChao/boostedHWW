{
 "cells": [
  {
   "cell_type": "markdown",
   "metadata": {},
   "source": [
    "### load necessary modules"
   ]
  },
  {
   "cell_type": "code",
   "execution_count": 1,
   "metadata": {},
   "outputs": [
    {
     "name": "stdout",
     "output_type": "stream",
     "text": [
      "Welcome to JupyROOT 6.28/00\n"
     ]
    }
   ],
   "source": [
    "import uproot\n",
    "import awkward as ak\n",
    "import vector\n",
    "vector.register_awkward()\n",
    "from matplotlib import pyplot as plt\n",
    "import mplhep as hep\n",
    "hep.style.use(\"CMS\")\n",
    "import math\n",
    "import itertools\n",
    "import os\n",
    "from typing import Dict, List, Tuple\n",
    "from numpy.typing import ArrayLike\n",
    "import numpy as np\n",
    "import correctionlib\n",
    "import awkward as ak\n",
    "import fastjet\n",
    "from coffea.nanoevents.methods import vector\n",
    "from coffea import nanoevents\n",
    "from coffea import processor\n",
    "from coffea.nanoevents.methods import candidate\n",
    "from coffea.analysis_tools import Weights, PackedSelection\n",
    "from hist import Hist\n",
    "ak.behavior.update(vector.behavior)\n",
    "import sys\n",
    "sys.path.append('/home/pku/zhaoyz/Higgs/LundReweighting/utils')\n",
    "from LundReweighter import *\n",
    "# import pandas as pd\n"
   ]
  },
  {
   "cell_type": "markdown",
   "metadata": {},
   "source": [
    "### Load signal NanoAOD files and do pre-selection "
   ]
  },
  {
   "cell_type": "code",
   "execution_count": 2,
   "metadata": {},
   "outputs": [],
   "source": [
    "# #first way to load root file is using nanoevents, but suffer from low process speed\n",
    "events = nanoevents.NanoEventsFactory.from_root(\n",
    "        \"/data/bond/zhaoyz/CustNano/HWWPFNano/2018/Signal_MERGED/GluGluHToWW_Pt-200ToInf_M-125_TuneCP5_MINLO_13TeV-powheg-pythia8_RunIISummer20UL18MiniAODv2-106X_upgrade2018_realistic_v16_L1v1-v2/MERGED.root\",\n",
    "        # \"/data/bond/zhaoyz/CustNano/HWWPFNano/2018/Signal_MERGED/VBFHToWWToAny_M-125_TuneCP5_withDipoleRecoil_13TeV-powheg-jhugen751-pythia8_RunIISummer20UL18MiniAODv2-106X_upgrade2018_realistic_v16_L1v1-v2/MERGED.root\",\n",
    "        # \"/data/bond/zhaoyz/CustNano/HWWPFNano/2018/Signal_MERGED/ttHToNonbb_M125_TuneCP5_13TeV-powheg-pythia8_RunIISummer20UL18MiniAODv2-106X_upgrade2018_realistic_v16_L1v1-v2/MERGED.root\",\n",
    "        # \"/data/bond/zhaoyz/CustNano/HWWPFNano/2018/Signal_MERGED/HWminusJ_HToWW_M-125_TuneCP5_13TeV-powheg-jhugen727-pythia8_RunIISummer20UL18MiniAODv2-106X_upgrade2018_realistic_v16_L1v1-v2/MERGED.root\",\n",
    "        # \"/data/bond/zhaoyz/CustNano/HWWPFNano/2018/Signal_MERGED/HZJ_HToWW_M-125_TuneCP5_13TeV-powheg-jhugen727-pythia8_RunIISummer20UL18MiniAODv2-106X_upgrade2018_realistic_v16_L1v1-v2/MERGED.root\"\n",
    "        schemaclass=nanoevents.NanoAODSchema,\n",
    "    ).events()\n",
    "\n",
    "#second way to load root file is using uproot.lazy\n",
    "# events = uproot.lazy({\"/data/bond/zhaoyz/CustNano/HWWPFNano/2018/Signal_MERGED/ttHToNonbb_M125_TuneCP5_13TeV-powheg-pythia8_RunIISummer20UL18MiniAODv2-106X_upgrade2018_realistic_v16_L1v1-v2/MERGED.root\":\"Events\"})\n"
   ]
  },
  {
   "cell_type": "code",
   "execution_count": 3,
   "metadata": {},
   "outputs": [],
   "source": [
    "frac = 1\n",
    "n_use = int(frac*len(events))\n",
    "events = events[:n_use]"
   ]
  },
  {
   "cell_type": "code",
   "execution_count": 4,
   "metadata": {},
   "outputs": [
    {
     "data": {
      "text/plain": [
       "['SubGenJetAK8',\n",
       " 'JetSVs',\n",
       " 'fixedGridRhoFastjetAll',\n",
       " 'OtherPV',\n",
       " 'DeepMETResponseTune',\n",
       " 'Electron',\n",
       " 'L1Reco',\n",
       " 'LHEPdfWeight',\n",
       " 'GenJetSVs',\n",
       " 'event',\n",
       " 'GenVtx',\n",
       " 'GenIsolatedPhoton',\n",
       " 'HTXS',\n",
       " 'LHEPart',\n",
       " 'PFCands',\n",
       " 'L1',\n",
       " 'fixedGridRhoFastjetCentral',\n",
       " 'GenVisTau',\n",
       " 'SoftActivityJetHT5',\n",
       " 'ChsMET',\n",
       " 'DeepMETResolutionTune',\n",
       " 'SoftActivityJetHT',\n",
       " 'genWeight',\n",
       " 'Flag',\n",
       " 'LHEReweightingWeight',\n",
       " 'L1simulation',\n",
       " 'PSWeight',\n",
       " 'fixedGridRhoFastjetCentralChargedPileUp',\n",
       " 'GenCands',\n",
       " 'RawPuppiMET',\n",
       " 'AK15Puppi',\n",
       " 'GenDressedLepton',\n",
       " 'MET',\n",
       " 'GenSubJetAK15',\n",
       " 'fixedGridRhoFastjetCentralNeutral',\n",
       " 'HLTriggerFinalPath',\n",
       " 'run',\n",
       " 'fixedGridRhoFastjetCentralCalo',\n",
       " 'Tau',\n",
       " 'SoftActivityJetHT2',\n",
       " 'CaloMET',\n",
       " 'HLT',\n",
       " 'genTtbarId',\n",
       " 'SoftActivityJetNjets5',\n",
       " 'TrigObj',\n",
       " 'LowPtElectron',\n",
       " 'GenMET',\n",
       " 'GenFatJetCands',\n",
       " 'AK15PuppiSubJet',\n",
       " 'boostedTau',\n",
       " 'GenJet',\n",
       " 'CorrT1METJet',\n",
       " 'LHEWeight',\n",
       " 'RawMET',\n",
       " 'SV',\n",
       " 'LHE',\n",
       " 'GenJetCands',\n",
       " 'FatJetSVs',\n",
       " 'GenFatJetSVs',\n",
       " 'GenJetAK8',\n",
       " 'IsoTrack',\n",
       " 'Photon',\n",
       " 'FatJet',\n",
       " 'FatJetPFCands',\n",
       " 'Muon',\n",
       " 'btagWeight',\n",
       " 'SoftActivityJetNjets2',\n",
       " 'JetPFCands',\n",
       " 'PuppiMET',\n",
       " 'Jet',\n",
       " 'PV',\n",
       " 'SoftActivityJetNjets10',\n",
       " 'luminosityBlock',\n",
       " 'GenPart',\n",
       " 'FsrPhoton',\n",
       " 'SoftActivityJetHT10',\n",
       " 'TkMET',\n",
       " 'SubJet',\n",
       " 'L1PreFiringWeight',\n",
       " 'HLTriggerFirstPath',\n",
       " 'LHEScaleWeight',\n",
       " 'Pileup',\n",
       " 'SoftActivityJet',\n",
       " 'Generator',\n",
       " 'GenJetAK15']"
      ]
     },
     "execution_count": 4,
     "metadata": {},
     "output_type": "execute_result"
    }
   ],
   "source": [
    "#quick look at the fields of signal files\n",
    "events.fields"
   ]
  },
  {
   "cell_type": "code",
   "execution_count": 5,
   "metadata": {},
   "outputs": [],
   "source": [
    "desired_fields = [\"Electron\",\"Muon\",\"FatJet\",\"genWeight\",\"GenPart\",\"FatJetPFCands\",\"PFCands\"]\n",
    "filtered_events = events[desired_fields]\n",
    "# # filtered_events = ak.Array({field: events[field] for field in desired_fields})\n",
    "# builder = ak.ArrayBuilder()\n",
    "\n",
    "# # only add the fields that we are interested\n",
    "# for field in events.fields:\n",
    "#     if field in desired_fields:\n",
    "#         builder.begin_list()\n",
    "#         builder.append(events[field])\n",
    "#         builder.end_list()\n",
    "\n",
    "# # build awkward array\n",
    "# filtered_events = builder.snapshot()"
   ]
  },
  {
   "cell_type": "code",
   "execution_count": 6,
   "metadata": {},
   "outputs": [
    {
     "data": {
      "text/plain": [
       "<Array [{Electron: [Electron], ... ] type='538999 * {\"Electron\": var * electron,...'>"
      ]
     },
     "execution_count": 6,
     "metadata": {},
     "output_type": "execute_result"
    }
   ],
   "source": [
    "filtered_events"
   ]
  },
  {
   "cell_type": "code",
   "execution_count": 7,
   "metadata": {},
   "outputs": [
    {
     "data": {
      "text/plain": [
       "['Electron',\n",
       " 'Muon',\n",
       " 'FatJet',\n",
       " 'genWeight',\n",
       " 'GenPart',\n",
       " 'FatJetPFCands',\n",
       " 'PFCands']"
      ]
     },
     "execution_count": 7,
     "metadata": {},
     "output_type": "execute_result"
    }
   ],
   "source": [
    "filtered_events.fields"
   ]
  },
  {
   "cell_type": "markdown",
   "metadata": {},
   "source": [
    "### Define necessary functions to run the selection"
   ]
  },
  {
   "cell_type": "code",
   "execution_count": 8,
   "metadata": {},
   "outputs": [],
   "source": [
    "#pad array with given value\n",
    "def pad_val(\n",
    "    arr: ak.Array,\n",
    "    target: int,\n",
    "    value: float, #value can also be Bool variable \n",
    "    axis: int = 0,\n",
    "    to_numpy: bool = True,\n",
    "    clip: bool = True,\n",
    "):\n",
    "    \"\"\"\n",
    "    pads awkward array up to ``target`` index along axis ``axis`` with value ``value``,\n",
    "    optionally converts to numpy array\n",
    "    \"\"\"\n",
    "    padded_arr = ak.fill_none(ak.pad_none(arr, target, axis=axis, clip=clip), value, axis=axis)\n",
    "    # pad_none will fill the array to target length with \"None\" for dedicated axis\n",
    "    # \"clip\" means cut the array to the target length or not\n",
    "    # fill_none will replace \"None\" value to some value\n",
    "    return padded_arr.to_numpy() if to_numpy else padded_arr\n",
    "\n",
    "def add_selection(\n",
    "    name: str,\n",
    "    sel: np.ndarray,\n",
    "    selection: PackedSelection,\n",
    "    cutflow: dict = None,\n",
    "    isData: bool = False,\n",
    "    signGenWeights: ak.Array = None,\n",
    "):\n",
    "    \"\"\"adds selection to PackedSelection object and the cutflow dictionary\"\"\"\n",
    "    selection.add(name, sel)\n",
    "    if cutflow is not None: #only add to cutflow dictionary if cutflow is not None\n",
    "        cutflow[name] = (\n",
    "            np.sum(selection.all(*selection.names))\n",
    "            if isData\n",
    "            # add up sign of genWeights for MC\n",
    "            else np.sum(signGenWeights[selection.all(*selection.names)])\n",
    "        )\n"
   ]
  },
  {
   "cell_type": "code",
   "execution_count": 9,
   "metadata": {},
   "outputs": [],
   "source": [
    "#pre-selection:\n",
    "#1.Leading jet pT > 400GeV, maximum jet mass > 50GeV\n",
    "#2.Require 2 or 3 AK8 jet with pT > 200GeV\n",
    "#3.Veto (mini-)Isolated leptons\n",
    "isData = False\n",
    "signGenWeights = None if isData else np.sign(filtered_events[\"genWeight\"]) #get genWeight sign, because only the sign matters\n",
    "n_events = len(filtered_events) if isData else int(np.sum(signGenWeights)) #events number for MC events should be the sum of \"sign\"\n",
    "selection = PackedSelection() #initialize a new object\n",
    "\n",
    "cutflow = {}\n",
    "# cutflow[\"all\"] = len(events) #shouldn't be n_events?\n",
    "cutflow[\"all\"] = n_events\n",
    "preselection_cut_vals = {\"pt\": 200, \"msd\": 20, \"leading_pt\":400,\"maximum_mass\":50}\n",
    "num_jets = 2\n",
    "\n",
    "# fatjets = corrections.get_jec_jets(events, \"2018\")\n",
    "fatjets = filtered_events.FatJet\n",
    "\n",
    "preselection_cut_1 = pad_val(\n",
    "        ( ak.max(filtered_events.FatJet.pt, axis = 1) > preselection_cut_vals[\"leading_pt\"])\n",
    "        * (ak.max(filtered_events.FatJet.msoftdrop, axis = 1) > preselection_cut_vals[\"maximum_mass\"]), #mass and pT cut of each jet in event\n",
    "        len(events), #pad to num_jets length\n",
    "        False,  #pad with value False\n",
    "        )\n",
    "# finally with the length of events number, \"1\" for all jets are pT > pT_cut and mass > mass_cut\n",
    " # N.B. here clip always = True\n",
    "\n",
    "add_selection(\n",
    "    \"leading pT and maximum mass\", #string name\n",
    "    preselection_cut_1.astype(bool), #selection content\n",
    "    selection, #PackedSelection object\n",
    "    cutflow, #cut-flow dict, storing events number after each cut\n",
    "    isData,\n",
    "    signGenWeights,#sum the signGenWeights for events which pass the selection\n",
    ")\n",
    "\n",
    "\n",
    "\n",
    "preselection_cut_2 = np.prod(\n",
    "    pad_val(\n",
    "        (filtered_events.FatJet.pt > preselection_cut_vals[\"pt\"]),\n",
    "        # * (events.FatJet.msoftdrop > preselection_cut_vals[\"msd\"]), #mass and pT cut of each jet in event\n",
    "        num_jets, #pad to num_jets length\n",
    "        False,  #pad with value False\n",
    "        axis=1, #pad to axis=1\n",
    "    ),\n",
    "    axis=1,\n",
    ")# finally with the length of events number, \"1\" for all jets are pT > pT_cut and mass > mass_cut\n",
    " # N.B. here clip always = True\n",
    "\n",
    "add_selection(\n",
    "    \"at least 2 AK8 jet with pT >200GeV\", #string name\n",
    "    preselection_cut_2.astype(bool), #selection content\n",
    "    selection, #PackedSelection object\n",
    "    cutflow, #cut-flow dict, storing events number after each cut\n",
    "    isData,\n",
    "    signGenWeights,#sum the signGenWeights for events which pass the selection\n",
    ")\n",
    "\n",
    "preselection_cut_3 = pad_val(\n",
    "        (ak.num(filtered_events.FatJet.pt) == 2) | (ak.num(filtered_events.FatJet.pt) == 3) , #mass and pT cut of each jet in event\n",
    "        len(filtered_events), #pad to num_jets length\n",
    "        False,  #pad with value False\n",
    "        )\n",
    "\n",
    "add_selection(\n",
    "    \"2 or 3 AK8 jet\", #string name\n",
    "    preselection_cut_3.astype(bool), #selection content\n",
    "    selection, #PackedSelection object\n",
    "    cutflow, #cut-flow dict, storing events number after each cut\n",
    "    isData,\n",
    "    signGenWeights,#sum the signGenWeights for events which pass the selection\n",
    ")\n"
   ]
  },
  {
   "cell_type": "code",
   "execution_count": 10,
   "metadata": {},
   "outputs": [
    {
     "data": {
      "text/plain": [
       "{'all': 538727,\n",
       " 'leading pT and maximum mass': 37672.0,\n",
       " 'at least 2 AK8 jet with pT >200GeV': 36238.0,\n",
       " '2 or 3 AK8 jet': 35305.0}"
      ]
     },
     "execution_count": 10,
     "metadata": {},
     "output_type": "execute_result"
    }
   ],
   "source": [
    "cutflow"
   ]
  },
  {
   "cell_type": "code",
   "execution_count": 11,
   "metadata": {},
   "outputs": [],
   "source": [
    "filtered_events = filtered_events[selection.all(*selection.names)]\n",
    "# events = nanoevents.NanoEventsFactory.from_events(events[selection.all(*selection.names)])\n"
   ]
  },
  {
   "cell_type": "code",
   "execution_count": 12,
   "metadata": {},
   "outputs": [
    {
     "data": {
      "text/plain": [
       "<Array [{Electron: [Electron], ... ] type='35315 * {\"Electron\": var * electron, ...'>"
      ]
     },
     "execution_count": 12,
     "metadata": {},
     "output_type": "execute_result"
    }
   ],
   "source": [
    "filtered_events"
   ]
  },
  {
   "cell_type": "code",
   "execution_count": 13,
   "metadata": {},
   "outputs": [],
   "source": [
    "selection = PackedSelection() #initialize a new object\n",
    "isData = False\n",
    "signGenWeights = None if isData else np.sign(filtered_events[\"genWeight\"]) #get genWeight sign, because only the sign matters\n",
    "n_events = len(filtered_events) if isData else int(np.sum(signGenWeights)) #events number for MC events should be the sum of \"sign\"\n",
    "selection = PackedSelection() #initialize a new object\n",
    "\n",
    "cutflow = {}\n",
    "# cutflow[\"all\"] = len(events) #shouldn't be n_events?\n",
    "cutflow[\"all\"] = n_events\n",
    "\n",
    "#veto (mini-)isolated muons\n",
    "#referring to : https://github.com/farakiko/boostedhiggs/blob/ec53b97857bf64aa4d75f639e290181e65a55b4c/boostedhiggs/hwwprocessor.py#L185-L237\n",
    "muons = ak.with_field(filtered_events.Muon, 0, \"flavor\")\n",
    "electrons = ak.with_field(filtered_events.Electron, 1, \"flavor\")\n",
    "\n",
    "# muons\n",
    "loose_muons = (\n",
    "    (((muons.pt > 30) & (muons.pfRelIso04_all < 0.25)) | (muons.pt > 55))\n",
    "    & (np.abs(muons.eta) < 2.4)\n",
    "    & (muons.looseId)\n",
    ")\n",
    "n_loose_muons = ak.sum(loose_muons, axis=1)\n",
    "good_muons = (\n",
    "    (muons.pt > 30)\n",
    "    & (np.abs(muons.eta) < 2.4)\n",
    "    & (np.abs(muons.dz) < 0.1)\n",
    "    & (np.abs(muons.dxy) < 0.05)\n",
    "    & (muons.sip3d <= 4.0)\n",
    "    & muons.mediumId\n",
    ")\n",
    "n_good_muons = ak.sum(good_muons, axis=1)\n",
    "\n",
    "# electrons\n",
    "loose_electrons = (\n",
    "    (((electrons.pt > 38) & (electrons.pfRelIso03_all < 0.25)) | (electrons.pt > 120))\n",
    "    & (np.abs(electrons.eta) < 2.4)\n",
    "    & ((np.abs(electrons.eta) < 1.44) | (np.abs(electrons.eta) > 1.57))\n",
    "    & (electrons.cutBased >= 2)\n",
    "    # & (electrons.cutBased >= electrons.LOOSE) #cut-based ID Fall17 V2 (0:fail, 1:veto, 2:loose, 3:medium, 4:tight)\n",
    ")\n",
    "n_loose_electrons = ak.sum(loose_electrons, axis=1)\n",
    "good_electrons = (\n",
    "    (electrons.pt > 38)\n",
    "    & (np.abs(electrons.eta) < 2.4)\n",
    "    & ((np.abs(electrons.eta) < 1.44) | (np.abs(electrons.eta) > 1.57))\n",
    "    & (np.abs(electrons.dz) < 0.1)\n",
    "    & (np.abs(electrons.dxy) < 0.05)\n",
    "    & (electrons.sip3d <= 4.0)\n",
    "    & (electrons.mvaFall17V2noIso_WP90)\n",
    ")\n",
    "n_good_electrons = ak.sum(good_electrons, axis=1)\n",
    "\n",
    "n_leptons = n_loose_electrons + n_good_electrons + n_loose_muons + n_good_muons\n",
    "\n",
    "preselection_cut_4 = pad_val(\n",
    "        (n_leptons == 0) , #mass and pT cut of each jet in event\n",
    "        len(filtered_events), #pad to num_jets length\n",
    "        False,  #pad with value False\n",
    "        )\n",
    "\n",
    "add_selection(\n",
    "    \"no (mini-)isolated leptons\", #string name\n",
    "    preselection_cut_4.astype(bool), #selection content\n",
    "    selection, #PackedSelection object\n",
    "    cutflow, #cut-flow dict, storing events number after each cut\n",
    "    isData,\n",
    "    signGenWeights,#sum the signGenWeights for events which pass the selection\n",
    ")\n"
   ]
  },
  {
   "cell_type": "code",
   "execution_count": 14,
   "metadata": {},
   "outputs": [
    {
     "data": {
      "text/plain": [
       "{'all': 35305, 'no (mini-)isolated leptons': 27037.0}"
      ]
     },
     "execution_count": 14,
     "metadata": {},
     "output_type": "execute_result"
    }
   ],
   "source": [
    "cutflow"
   ]
  },
  {
   "cell_type": "code",
   "execution_count": 15,
   "metadata": {},
   "outputs": [],
   "source": [
    "filtered_events = filtered_events[selection.all(*selection.names)]"
   ]
  },
  {
   "cell_type": "code",
   "execution_count": 16,
   "metadata": {},
   "outputs": [],
   "source": [
    "selection = PackedSelection() #initialize a new object\n",
    "isData = False\n",
    "signGenWeights = None if isData else np.sign(filtered_events[\"genWeight\"]) #get genWeight sign, because only the sign matters\n",
    "n_events = len(filtered_events) if isData else int(np.sum(signGenWeights)) #events number for MC events should be the sum of \"sign\"\n",
    "selection = PackedSelection() #initialize a new object\n",
    "\n",
    "cutflow = {}\n",
    "# cutflow[\"all\"] = len(events) #shouldn't be n_events?\n",
    "cutflow[\"all\"] = n_events\n",
    "\n",
    "#require WW decaying to 4q, because we want to calibrate H3q4q jet at first stage\n",
    "d_PDGID = 1\n",
    "u_PDGID = 2\n",
    "s_PDGID = 3\n",
    "c_PDGID = 4\n",
    "b_PDGID = 5\n",
    "g_PDGID = 21\n",
    "TOP_PDGID = 6\n",
    "\n",
    "ELE_PDGID = 11\n",
    "vELE_PDGID = 12\n",
    "MU_PDGID = 13\n",
    "vMU_PDGID = 14\n",
    "TAU_PDGID = 15\n",
    "vTAU_PDGID = 16\n",
    "\n",
    "Z_PDGID = 23\n",
    "W_PDGID = 24\n",
    "HIGGS_PDGID = 25\n",
    "Y_PDGID = 35\n",
    "\n",
    "b_PDGIDS = [511, 521, 523]\n",
    "\n",
    "GRAV_PDGID = 39\n",
    "\n",
    "GEN_FLAGS = [\"fromHardProcess\", \"isLastCopy\"]\n",
    "\n",
    "FILL_NONE_VALUE = -99999\n",
    "PAD_VAL = -99999\n",
    "\n",
    "skim_vars = {\n",
    "    \"eta\": \"Eta\",\n",
    "    \"phi\": \"Phi\",\n",
    "    \"mass\": \"Mass\",\n",
    "    \"pt\": \"Pt\",\n",
    "}"
   ]
  },
  {
   "cell_type": "markdown",
   "metadata": {},
   "source": [
    "### Select only HWW decay"
   ]
  },
  {
   "cell_type": "code",
   "execution_count": 17,
   "metadata": {},
   "outputs": [],
   "source": [
    "#firstly selection only HWW decay:\n",
    "selection = PackedSelection() #initialize a new object\n",
    "isData = False\n",
    "signGenWeights = None if isData else np.sign(filtered_events[\"genWeight\"]) #get genWeight sign, because only the sign matters\n",
    "n_events = len(filtered_events) if isData else int(np.sum(signGenWeights)) #events number for MC events should be the sum of \"sign\"\n",
    "selection = PackedSelection() #initialize a new object\n",
    "\n",
    "cutflow = {}\n",
    "# cutflow[\"all\"] = len(events) #shouldn't be n_events?\n",
    "cutflow[\"all\"] = n_events\n",
    "\n",
    "\n",
    "# finding the gen higgs\n",
    "higgs = filtered_events.GenPart[\n",
    "    (abs(filtered_events.GenPart.pdgId) == HIGGS_PDGID) * filtered_events.GenPart.hasFlags(GEN_FLAGS)\n",
    "]\n",
    "# saving 4-vector info\n",
    "GenHiggsVars = {f\"GenHiggs{key}\": higgs[var].to_numpy() for (var, key) in skim_vars.items()}\n",
    "\n",
    "higgs_children = higgs.children\n",
    "\n",
    "# saving whether H->bb or H->VV\n",
    "GenHiggsVars[\"GenHiggsChildren\"] = abs(higgs_children.pdgId[:, :, 0]).to_numpy()\n",
    "\n",
    "# finding WW children\n",
    "is_WW = abs(higgs_children.pdgId) == W_PDGID\n",
    "\n",
    "# Hbb = higgs[ak.sum(is_bb, axis=2) == 2]\n",
    "HWW = higgs[ak.sum(is_WW, axis=2) == 2]\n",
    "\n",
    "# checking that there are 2 b's and 2 V's\n",
    "has_WW = ak.sum(ak.flatten(is_WW, axis=2), axis=1) == 2\n",
    "\n",
    "add_selection(\n",
    "    \"HtoWW\",\n",
    "    has_WW, \n",
    "    selection, \n",
    "    cutflow, \n",
    "    False, \n",
    "    signGenWeights)\n",
    "# print(selection_all_q)"
   ]
  },
  {
   "cell_type": "code",
   "execution_count": 18,
   "metadata": {},
   "outputs": [
    {
     "data": {
      "text/plain": [
       "<Array [{Electron: [Electron], ... ] type='27043 * {\"Electron\": var * electron, ...'>"
      ]
     },
     "execution_count": 18,
     "metadata": {},
     "output_type": "execute_result"
    }
   ],
   "source": [
    "filtered_events"
   ]
  },
  {
   "cell_type": "code",
   "execution_count": 19,
   "metadata": {},
   "outputs": [],
   "source": [
    "filtered_events = filtered_events[selection.all(*selection.names)]\n"
   ]
  },
  {
   "cell_type": "code",
   "execution_count": 20,
   "metadata": {},
   "outputs": [
    {
     "data": {
      "text/plain": [
       "<Array [{Electron: [Electron], ... ] type='27043 * {\"Electron\": var * electron, ...'>"
      ]
     },
     "execution_count": 20,
     "metadata": {},
     "output_type": "execute_result"
    }
   ],
   "source": [
    "filtered_events"
   ]
  },
  {
   "cell_type": "code",
   "execution_count": 21,
   "metadata": {},
   "outputs": [],
   "source": [
    "#Then do other test:\n",
    "selection = PackedSelection() #initialize a new object\n",
    "isData = False\n",
    "signGenWeights = None if isData else np.sign(filtered_events[\"genWeight\"]) #get genWeight sign, because only the sign matters\n",
    "n_events = len(filtered_events) if isData else int(np.sum(signGenWeights)) #events number for MC events should be the sum of \"sign\"\n",
    "selection = PackedSelection() #initialize a new object\n",
    "\n",
    "cutflow = {}\n",
    "# cutflow[\"all\"] = len(events) #shouldn't be n_events?\n",
    "cutflow[\"all\"] = n_events\n",
    "# finding the gen higgs\n",
    "higgs = filtered_events.GenPart[\n",
    "    (abs(filtered_events.GenPart.pdgId) == HIGGS_PDGID) * filtered_events.GenPart.hasFlags(GEN_FLAGS)\n",
    "]\n",
    "# saving 4-vector info\n",
    "GenHiggsVars = {f\"GenHiggs{key}\": higgs[var].to_numpy() for (var, key) in skim_vars.items()}\n",
    "\n",
    "higgs_children = higgs.children\n",
    "\n",
    "# saving whether H->bb or H->VV\n",
    "GenHiggsVars[\"GenHiggsChildren\"] = abs(higgs_children.pdgId[:, :, 0]).to_numpy()\n",
    "\n",
    "# finding WW children\n",
    "is_WW = abs(higgs_children.pdgId) == W_PDGID\n",
    "\n",
    "# Hbb = higgs[ak.sum(is_bb, axis=2) == 2]\n",
    "HWW = higgs[ak.sum(is_WW, axis=2) == 2]\n",
    "\n",
    "# checking that there are 2 b's and 2 V's\n",
    "has_WW = ak.sum(ak.flatten(is_WW, axis=2), axis=1) == 2\n",
    "\n",
    "add_selection(\n",
    "    \"HtoWW\",\n",
    "    has_WW, \n",
    "    selection, \n",
    "    cutflow, \n",
    "    False, \n",
    "    signGenWeights)\n",
    "# print(selection_all_q)\n",
    "\n",
    "\n",
    "\n",
    "# saving WW 4-vector info\n",
    "WW = ak.flatten(higgs_children[is_WW], axis=2)\n",
    "\n",
    "#for normal ggF, VBF HWW signal\n",
    "GenWWVars = {\n",
    "    f\"GenWW{key}\": WW[var].to_numpy() for (var, key) in skim_vars.items()\n",
    "    }\n",
    "\n",
    "#for ttHnonbb HWW signal, because there may not be H-->WW events\n",
    "# GenWWVars = {\n",
    "#     f\"GenWW{key}\": pad_val(WW[var], 2, FILL_NONE_VALUE, axis=1) for (var, key) in skim_vars.items()\n",
    "#     }\n",
    "\n",
    "# checking that each W has 2 q children, so finally the HWW jet will be H4q or H3q jet\n",
    "WW_children = WW.children\n",
    "\n",
    "quarks = abs(WW_children.pdgId) <= b_PDGID #get all the 2 Ws daughter PDGID <=5 information\n",
    "\n",
    "selection_all_q = ak.all(ak.all(quarks, axis=2), axis=1) #check if all the children of 2 Ws are quarks or not\n",
    "#so first check 2nd axis, and then check 1st axis\n",
    "add_selection(\n",
    "    \"WW decays to 4q\",\n",
    "    selection_all_q, \n",
    "    selection, \n",
    "    cutflow, \n",
    "    False, \n",
    "    signGenWeights)\n",
    "# print(selection_all_q)"
   ]
  },
  {
   "cell_type": "code",
   "execution_count": 22,
   "metadata": {},
   "outputs": [
    {
     "data": {
      "text/plain": [
       "{'all': 27037, 'HtoWW': 27037.0, 'WW decays to 4q': 18272.0}"
      ]
     },
     "execution_count": 22,
     "metadata": {},
     "output_type": "execute_result"
    }
   ],
   "source": [
    "#quick look at the cut-flow\n",
    "cutflow"
   ]
  },
  {
   "cell_type": "markdown",
   "metadata": {},
   "source": [
    "### store the PFCands, GenEtaPhi, Higgs candidate AK8 jet 4-vector information for Lund Plane use"
   ]
  },
  {
   "cell_type": "code",
   "execution_count": 23,
   "metadata": {},
   "outputs": [
    {
     "data": {
      "text/plain": [
       "<Array [{Electron: [Electron], ... ] type='18278 * {\"Electron\": var * electron, ...'>"
      ]
     },
     "execution_count": 23,
     "metadata": {},
     "output_type": "execute_result"
    }
   ],
   "source": [
    "events_after_cut = filtered_events[selection.all(*selection.names)]\n",
    "events_after_cut"
   ]
  },
  {
   "cell_type": "code",
   "execution_count": 24,
   "metadata": {},
   "outputs": [],
   "source": [
    "#find the Higgs jet idx, dR(gen_Higgs, jet)<0.8 & dR(gen_W_1, jet)<0.8 & dR(gen_W_2, jet)<0.8\n",
    "\n",
    "#collect gen-Higgs information\n",
    "higgs = events_after_cut.GenPart[\n",
    "    (abs(events_after_cut.GenPart.pdgId) == HIGGS_PDGID) * events_after_cut.GenPart.hasFlags(GEN_FLAGS)\n",
    "]\n",
    "GenHiggsVars = {\n",
    "    f\"GenHiggs{key}\": higgs[var].to_numpy() for (var, key) in skim_vars.items()\n",
    "    }\n",
    "higgs_children = higgs.children\n",
    "\n",
    "# collect gen-Higgs children WW information, may not be used, since only Higgs information is needed for the matching\n",
    "is_WW = abs(higgs_children.pdgId) == W_PDGID\n",
    "WW = ak.flatten(higgs_children[is_WW], axis=2)\n",
    "\n",
    "GenWWVars = {\n",
    "    # f\"GenWW{key}\": WW[var].to_numpy() for (var, key) in skim_vars.items()\n",
    "    f\"GenWW{key}\": pad_val(WW[var], 2, FILL_NONE_VALUE, axis=1) for (var, key) in skim_vars.items()\n",
    "    }\n",
    "GenW1Vars = {\n",
    "    # f\"GenWW{key}\": WW[var][:,0].to_numpy() for (var, key) in skim_vars.items()\n",
    "    f\"GenWW{key}\": pad_val(WW[var], 2, FILL_NONE_VALUE, axis=1)[:,0] for (var, key) in skim_vars.items()\n",
    "    }\n",
    "GenW2Vars = {\n",
    "    # f\"GenWW{key}\": WW[var][:,1].to_numpy() for (var, key) in skim_vars.items()\n",
    "    f\"GenWW{key}\": pad_val(WW[var], 2, FILL_NONE_VALUE, axis=1)[:,1] for (var, key) in skim_vars.items()\n",
    "    }\n",
    "\n",
    "#collect FatJet information\n",
    "fatjets = events_after_cut.FatJet\n",
    "HWW = ak.pad_none(higgs, 1, axis=1, clip=True)[:, 0] #because it's a 2D array\n",
    "WWdr = fatjets[:, :3].delta_r(HWW) #here use 3 because we have up to 3 AK8 jets, use ak.max(ak.num(WWdr,axis = 1)) for test\n",
    "match_dR = 0.8\n",
    "HWW_match = WWdr <= match_dR #FatJetIdx in each event, which is real HWW jet\n",
    "HWWJets = ak.pad_none(fatjets[HWW_match], 1, axis=1)[:, 0] #There can be None object in HWWJets array\n",
    "#tie [pt, eta, phi, mass] together, get new arrary\n",
    "\n",
    "\n"
   ]
  },
  {
   "cell_type": "code",
   "execution_count": 25,
   "metadata": {},
   "outputs": [
    {
     "data": {
      "text/plain": [
       "array([ True,  True,  True, ...,  True,  True,  True])"
      ]
     },
     "execution_count": 25,
     "metadata": {},
     "output_type": "execute_result"
    }
   ],
   "source": [
    "filled_pt = pad_val(HWWJets.pt,len(HWWJets.pt),-99)\n",
    "selection_has_HWWjet = filled_pt > 0\n",
    "selection_has_HWWjet"
   ]
  },
  {
   "cell_type": "code",
   "execution_count": 26,
   "metadata": {},
   "outputs": [
    {
     "data": {
      "text/plain": [
       "<Array [{Electron: [Electron], ... ] type='17748 * {\"Electron\": var * electron, ...'>"
      ]
     },
     "execution_count": 26,
     "metadata": {},
     "output_type": "execute_result"
    }
   ],
   "source": [
    "events_final = events_after_cut[selection_has_HWWjet]\n",
    "len(events_final)\n",
    "events_final"
   ]
  },
  {
   "cell_type": "markdown",
   "metadata": {},
   "source": [
    "### Do it again after the final cut"
   ]
  },
  {
   "cell_type": "code",
   "execution_count": 27,
   "metadata": {},
   "outputs": [
    {
     "name": "stdout",
     "output_type": "stream",
     "text": [
      "[[[True, True], [True, True]], [[True, ... True]], [[True, True], [True, True]]]\n"
     ]
    },
    {
     "data": {
      "text/plain": [
       "17748"
      ]
     },
     "execution_count": 27,
     "metadata": {},
     "output_type": "execute_result"
    }
   ],
   "source": [
    "#find the Higgs jet idx, dR(gen_Higgs, jet)<0.8 & dR(gen_W_1, jet)<0.8 & dR(gen_W_2, jet)<0.8\n",
    "\n",
    "#collect gen-Higgs information\n",
    "higgs = events_final.GenPart[\n",
    "    (abs(events_final.GenPart.pdgId) == HIGGS_PDGID) * events_final.GenPart.hasFlags(GEN_FLAGS)\n",
    "]\n",
    "GenHiggsVars = {\n",
    "    f\"GenHiggs{key}\": higgs[var].to_numpy() for (var, key) in skim_vars.items()\n",
    "    }\n",
    "higgs_children = higgs.children\n",
    "\n",
    "# collect gen-Higgs children WW information, may not be used, since only Higgs information is needed for the matching\n",
    "is_WW = abs(higgs_children.pdgId) == W_PDGID\n",
    "WW = ak.flatten(higgs_children[is_WW], axis=2)\n",
    "\n",
    "GenWWVars = {\n",
    "    f\"GenWW{key}\": WW[var].to_numpy() for (var, key) in skim_vars.items()\n",
    "    }\n",
    "GenW1Vars = {\n",
    "    f\"GenWW{key}\": WW[var][:,0].to_numpy() for (var, key) in skim_vars.items()\n",
    "    }\n",
    "GenW2Vars = {\n",
    "    f\"GenWW{key}\": WW[var][:,1].to_numpy() for (var, key) in skim_vars.items()\n",
    "    }\n",
    "\n",
    "#collect FatJet information\n",
    "fatjets = events_final.FatJet\n",
    "HWW = ak.pad_none(higgs, 1, axis=1, clip=True)[:, 0] #because it's a 2D array\n",
    "WWdr = fatjets[:, :3].delta_r(HWW) #here use 3 because we have up to 3 AK8 jets, use ak.max(ak.num(WWdr,axis = 1)) for test\n",
    "match_dR = 0.8\n",
    "HWW_match = WWdr <= match_dR #FatJetIdx in each event, which is real HWW jet\n",
    "HWWJets = ak.pad_none(fatjets[HWW_match], 1, axis=1)[:, 0] #There can be None object in HWWJets array\n",
    "#tie [pt, eta, phi, mass] together, get new arrary\n",
    "\n",
    "\n",
    "WW_children = WW.children\n",
    "\n",
    "quarks = abs(WW_children.pdgId) <= b_PDGID #get all the 2 Ws daughter PDGID <=5 information\n",
    "print(quarks)\n",
    "\n",
    "# saving 4q 4-vector info\n",
    "Gen4qVars = {\n",
    "    f\"Gen4q{key}\": ak.to_numpy(\n",
    "        ak.fill_none(\n",
    "            ak.pad_none(ak.pad_none(WW_children[var], 2, axis=1, clip=True), 2, axis=2, clip=True),\n",
    "            FILL_NONE_VALUE,\n",
    "        )\n",
    "    )\n",
    "    for (var, key) in skim_vars.items()\n",
    "}\n",
    "len(Gen4qVars[\"Gen4qPt\"])"
   ]
  },
  {
   "cell_type": "markdown",
   "metadata": {},
   "source": [
    "### four vector for HWW jet"
   ]
  },
  {
   "cell_type": "code",
   "execution_count": 28,
   "metadata": {},
   "outputs": [
    {
     "data": {
      "text/plain": [
       "array([431.75     ,   0.8215332,  -2.0444336, 132.75     ], dtype=float32)"
      ]
     },
     "execution_count": 28,
     "metadata": {},
     "output_type": "execute_result"
    }
   ],
   "source": [
    "# four vector for HWW jet\n",
    "higgs_jet_4vec = np.array(np.stack((np.array(HWWJets.pt), np.array(HWWJets.eta),np.array(HWWJets.phi),np.array(HWWJets.mass)), axis=1))\n",
    "higgs_jet_4vec[1]"
   ]
  },
  {
   "cell_type": "code",
   "execution_count": 29,
   "metadata": {},
   "outputs": [
    {
     "data": {
      "text/plain": [
       "17748"
      ]
     },
     "execution_count": 29,
     "metadata": {},
     "output_type": "execute_result"
    }
   ],
   "source": [
    "len(higgs_jet_4vec)"
   ]
  },
  {
   "cell_type": "code",
   "execution_count": 30,
   "metadata": {},
   "outputs": [
    {
     "data": {
      "text/plain": [
       "array([252.125     ,  -0.576416  ,  -0.67297363, 101.375     ],\n",
       "      dtype=float32)"
      ]
     },
     "execution_count": 30,
     "metadata": {},
     "output_type": "execute_result"
    }
   ],
   "source": [
    "higgs_jet_4vec[0]"
   ]
  },
  {
   "cell_type": "markdown",
   "metadata": {},
   "source": [
    "### Next eta-phi for 4 quarks"
   ]
  },
  {
   "cell_type": "code",
   "execution_count": 31,
   "metadata": {},
   "outputs": [],
   "source": [
    "# Finally construct the eta-phi array\n",
    "eta = Gen4qVars[\"Gen4qEta\"].reshape(Gen4qVars[\"Gen4qEta\"].shape[0], -1)\n",
    "phi = Gen4qVars[\"Gen4qPhi\"].reshape(Gen4qVars[\"Gen4qPhi\"].shape[0], -1)\n",
    "gen_parts_eta_phi_HWW = np.array(np.dstack((eta,phi)))\n",
    "# can do test like : gen_parts_eta_phi[:2]"
   ]
  },
  {
   "cell_type": "code",
   "execution_count": 32,
   "metadata": {},
   "outputs": [
    {
     "data": {
      "text/plain": [
       "masked_array(\n",
       "  data=[[-0.75976562, -0.03344727, -0.35742188,  0.26464844],\n",
       "        [ 0.74414062,  0.74804688,  0.75976562,  0.921875  ],\n",
       "        [-0.8359375 , -1.1875    , -0.76953125, -0.60546875],\n",
       "        ...,\n",
       "        [-2.7421875 , -0.9921875 , -1.14453125, -1.0703125 ],\n",
       "        [ 0.43164062, -0.01672363,  0.6015625 ,  0.12792969],\n",
       "        [ 0.09936523,  1.0859375 ,  0.70898438,  0.77148438]],\n",
       "  mask=False,\n",
       "  fill_value=1e+20)"
      ]
     },
     "execution_count": 32,
     "metadata": {},
     "output_type": "execute_result"
    }
   ],
   "source": [
    "eta"
   ]
  },
  {
   "cell_type": "code",
   "execution_count": 33,
   "metadata": {},
   "outputs": [
    {
     "data": {
      "text/plain": [
       "array([[-0.75976562, -0.44433594],\n",
       "       [-0.03344727, -1.4609375 ],\n",
       "       [-0.35742188, -0.54101562],\n",
       "       [ 0.26464844, -1.18359375]])"
      ]
     },
     "execution_count": 33,
     "metadata": {},
     "output_type": "execute_result"
    }
   ],
   "source": [
    "gen_parts_eta_phi_HWW[0]"
   ]
  },
  {
   "cell_type": "code",
   "execution_count": 34,
   "metadata": {},
   "outputs": [],
   "source": [
    "#count the number of quarks inside the AK8 jet, require 3 or 4 quarks.\n",
    "def count_quarks_in_jets(jet_4vec, gen_parts_eta_phi, delta_r_cut=0.8):\n",
    "    num_jets = len(jet_4vec)\n",
    "    num_quarks_in_jets = np.zeros(num_jets, dtype=int)\n",
    "\n",
    "    for i in range(num_jets):\n",
    "        jet_eta, jet_phi = jet_4vec[i][1], jet_4vec[i][2]\n",
    "\n",
    "        quark_eta_phi = gen_parts_eta_phi[i]\n",
    "        quark_eta, quark_phi = quark_eta_phi[:, 0], quark_eta_phi[:, 1]\n",
    "\n",
    "        delta_eta = jet_eta - quark_eta\n",
    "        delta_phi = jet_phi - quark_phi\n",
    "\n",
    "        delta_r_squared = delta_eta**2 + delta_phi**2\n",
    "        quarks_in_jet = np.sqrt(delta_r_squared) < delta_r_cut\n",
    "\n",
    "        num_quarks_in_jets[i] = np.sum(quarks_in_jet)\n",
    "\n",
    "    return num_quarks_in_jets\n"
   ]
  },
  {
   "cell_type": "code",
   "execution_count": 35,
   "metadata": {},
   "outputs": [],
   "source": [
    "result = count_quarks_in_jets(higgs_jet_4vec, gen_parts_eta_phi_HWW)"
   ]
  },
  {
   "cell_type": "code",
   "execution_count": 36,
   "metadata": {},
   "outputs": [
    {
     "data": {
      "text/plain": [
       "17748"
      ]
     },
     "execution_count": 36,
     "metadata": {},
     "output_type": "execute_result"
    }
   ],
   "source": [
    "len(result)"
   ]
  },
  {
   "cell_type": "code",
   "execution_count": 37,
   "metadata": {},
   "outputs": [],
   "source": [
    "H3q4q_cut = (result >= 3)"
   ]
  },
  {
   "cell_type": "code",
   "execution_count": 38,
   "metadata": {},
   "outputs": [
    {
     "data": {
      "text/plain": [
       "15668"
      ]
     },
     "execution_count": 38,
     "metadata": {},
     "output_type": "execute_result"
    }
   ],
   "source": [
    "np.sum(H3q4q_cut)\n",
    "#we should apply H3q4q cut to the events, to make sure we select the real H3q4q jet, but not only Higgs jet"
   ]
  },
  {
   "cell_type": "markdown",
   "metadata": {},
   "source": [
    "### Get FatJetPFCands 4-vector, up to 150 length to suit the input of Oz's function"
   ]
  },
  {
   "cell_type": "code",
   "execution_count": null,
   "metadata": {},
   "outputs": [],
   "source": []
  },
  {
   "cell_type": "code",
   "execution_count": 39,
   "metadata": {},
   "outputs": [],
   "source": [
    "# first get the jet_idx HWW jet, each event has one jet_idx\n",
    "HWW_match = WWdr <= match_dR #FatJetIdx in each event, which is real HWW jet\n",
    "HWW_match_padded = pad_val(HWW_match,3,False,1,True) #pad the array with False value\n",
    "HWW_jet_idx = np.argmax(HWW_match_padded,axis = 1) #the jet index in each jet which is true HWW jet\n",
    "# then get all the FatJetPFCands according to the jet_idx, and get PF_idx\n",
    "HWW_FatJetPFCands = (events_final.FatJetPFCands.jetIdx == HWW_jet_idx)\n",
    "HWW_FatJetPFCands_pFCandsIdx = events_final.FatJetPFCands.pFCandsIdx[HWW_FatJetPFCands]\n",
    "# at last, get PFCands 4-vector according to the PF_idx in last step\n"
   ]
  },
  {
   "cell_type": "code",
   "execution_count": 40,
   "metadata": {},
   "outputs": [
    {
     "data": {
      "text/plain": [
       "<Array [[0, 1, 2, 4, ... 181, 183, 185, 120]] type='2 * var * int32[parameters={...'>"
      ]
     },
     "execution_count": 40,
     "metadata": {},
     "output_type": "execute_result"
    }
   ],
   "source": [
    "HWW_FatJetPFCands_pFCandsIdx[:2]"
   ]
  },
  {
   "cell_type": "code",
   "execution_count": 41,
   "metadata": {},
   "outputs": [],
   "source": [
    "index_array = ak.to_list(HWW_FatJetPFCands_pFCandsIdx)"
   ]
  },
  {
   "cell_type": "code",
   "execution_count": 42,
   "metadata": {},
   "outputs": [],
   "source": [
    "pt_array =   ak.Array(events_final.PFCands.pt)\n",
    "eta_array =  ak.Array(events_final.PFCands.eta)\n",
    "phi_array =  ak.Array(events_final.PFCands.phi)\n",
    "mass_array = ak.Array(events_final.PFCands.mass)"
   ]
  },
  {
   "cell_type": "code",
   "execution_count": 43,
   "metadata": {},
   "outputs": [],
   "source": [
    "selected_pt =  pt_array[HWW_FatJetPFCands_pFCandsIdx]\n",
    "selected_eta = eta_array[HWW_FatJetPFCands_pFCandsIdx]\n",
    "selected_phi = phi_array[HWW_FatJetPFCands_pFCandsIdx]\n",
    "selected_mass = mass_array[HWW_FatJetPFCands_pFCandsIdx]"
   ]
  },
  {
   "cell_type": "code",
   "execution_count": 44,
   "metadata": {},
   "outputs": [
    {
     "name": "stdout",
     "output_type": "stream",
     "text": [
      "[0.897, 0.948, 0.846, 0.702, 0.662, 1.89, ... 2.47, 2.41, 0.68, 0.585, 1.86, 0.36]\n"
     ]
    }
   ],
   "source": [
    "print(selected_pt[0])"
   ]
  },
  {
   "cell_type": "code",
   "execution_count": 45,
   "metadata": {},
   "outputs": [],
   "source": [
    "# selected_pt_2[0]"
   ]
  },
  {
   "cell_type": "code",
   "execution_count": 46,
   "metadata": {},
   "outputs": [],
   "source": [
    "# selected_pt = [[pt_array[i][j] for j in indices] for i, indices in enumerate(index_array)]"
   ]
  },
  {
   "cell_type": "code",
   "execution_count": 47,
   "metadata": {},
   "outputs": [],
   "source": [
    "# selected_eta = [[eta_array[i][j] for j in indices] for i, indices in enumerate(index_array)]"
   ]
  },
  {
   "cell_type": "code",
   "execution_count": 48,
   "metadata": {},
   "outputs": [],
   "source": [
    "# selected_phi = [[phi_array[i][j] for j in indices] for i, indices in enumerate(index_array)]"
   ]
  },
  {
   "cell_type": "code",
   "execution_count": 49,
   "metadata": {},
   "outputs": [],
   "source": [
    "# selected_mass = [[mass_array[i][j] for j in indices] for i, indices in enumerate(index_array)]"
   ]
  },
  {
   "cell_type": "code",
   "execution_count": 50,
   "metadata": {},
   "outputs": [],
   "source": [
    "selected_pt_padded = pad_val(selected_pt,150,0,1,True)"
   ]
  },
  {
   "cell_type": "code",
   "execution_count": 51,
   "metadata": {},
   "outputs": [],
   "source": [
    "selected_eta_padded = pad_val(selected_eta,150,0,1,True)"
   ]
  },
  {
   "cell_type": "code",
   "execution_count": 52,
   "metadata": {},
   "outputs": [],
   "source": [
    "selected_phi_padded = pad_val(selected_phi,150,0,1,True)"
   ]
  },
  {
   "cell_type": "code",
   "execution_count": 53,
   "metadata": {},
   "outputs": [],
   "source": [
    "selected_mass_padded = pad_val(selected_mass,150,0,1,True)"
   ]
  },
  {
   "cell_type": "code",
   "execution_count": 54,
   "metadata": {},
   "outputs": [],
   "source": [
    "# selected_pt_padded = pad_val(selected_pt,150,0,1,True)\n",
    "# selected_eta_padded = pad_val(selected_eta,150,0,1,True)\n",
    "# selected_phi_padded = pad_val(selected_phi,150,0,1,True)\n",
    "# selected_mass_padded = pad_val(selected_mass,150,0,1,True)"
   ]
  },
  {
   "cell_type": "code",
   "execution_count": 55,
   "metadata": {},
   "outputs": [],
   "source": [
    "#Construct (px,py,pz,E) using (pt,eta,phi,mass) information as the input\n",
    "pf_cands_px = selected_pt_padded * np.cos(selected_phi_padded)\n",
    "pf_cands_py = selected_pt_padded * np.sin(selected_phi_padded)\n",
    "pf_cands_pz = selected_pt_padded * np.sinh(selected_eta_padded)\n",
    "pf_cands_E = np.sqrt(pf_cands_px**2 + pf_cands_py**2 + pf_cands_pz**2 + selected_mass_padded**2)"
   ]
  },
  {
   "cell_type": "code",
   "execution_count": 56,
   "metadata": {},
   "outputs": [],
   "source": [
    "pf_cands_pxpypzE = np.dstack((pf_cands_px,pf_cands_py,pf_cands_pz,pf_cands_E))"
   ]
  },
  {
   "cell_type": "code",
   "execution_count": 57,
   "metadata": {},
   "outputs": [],
   "source": [
    "# pf_cands_pxpypzE[0]"
   ]
  },
  {
   "cell_type": "code",
   "execution_count": 58,
   "metadata": {},
   "outputs": [
    {
     "data": {
      "text/plain": [
       "array([[ 8.10577952e-01, -3.84087659e-01, -3.13862593e-01,\n",
       "         9.60488043e-01],\n",
       "       [ 6.04126386e-01, -7.30252543e-01, -2.81108272e-01,\n",
       "         9.98362126e-01],\n",
       "       [ 7.93602427e-01, -2.92248121e-01, -4.35692314e-01,\n",
       "         9.61514002e-01],\n",
       "       [ 6.96063797e-01, -9.22367535e-02, -4.74479662e-01,\n",
       "         8.58842818e-01],\n",
       "       [ 5.42024227e-01, -3.79410344e-01, -1.19854127e-01,\n",
       "         6.86713252e-01],\n",
       "       [ 1.70039687e+00, -8.15275460e-01, -1.28097120e+00,\n",
       "         2.28393923e+00],\n",
       "       [ 1.20165231e+00, -8.27446147e-01, -6.31600568e-01,\n",
       "         1.59593931e+00],\n",
       "       [ 1.04264116e+00, -9.49441969e-01, -7.45713077e-01,\n",
       "         1.60127957e+00],\n",
       "       [ 1.54806765e+00, -1.27244914e+00, -4.78125787e-01,\n",
       "         2.06487582e+00],\n",
       "       [ 2.72326420e+00, -1.62622973e+00, -8.58086273e-01,\n",
       "         3.28885553e+00],\n",
       "       [ 5.21716537e+00, -3.23858934e+00, -1.76979373e+00,\n",
       "         6.39209769e+00],\n",
       "       [ 1.83590332e+00, -1.60932391e+00, -7.69010057e-01,\n",
       "         2.56345637e+00],\n",
       "       [ 2.65715544e+00, -1.65214384e+00, -1.27930283e+00,\n",
       "         3.38321410e+00],\n",
       "       [ 5.10253007e-01, -5.38293228e-01, -3.16502256e-01,\n",
       "         8.18388060e-01],\n",
       "       [ 1.19356359e+00, -7.97621957e-01, -1.07397547e+00,\n",
       "         1.79824519e+00],\n",
       "       [ 4.58459970e+00, -2.12868769e+00, -3.91885078e+00,\n",
       "         6.39739985e+00],\n",
       "       [ 1.00407028e+01, -4.88063308e+00, -8.92772777e+00,\n",
       "         1.42954567e+01],\n",
       "       [ 4.28594997e+00, -1.89823316e+00, -3.81837806e+00,\n",
       "         6.04748996e+00],\n",
       "       [ 4.06497083e+01, -2.00205862e+01, -3.80740240e+01,\n",
       "         5.91849145e+01],\n",
       "       [ 9.55508998e-01, -3.63907849e-01, -8.61737236e-01,\n",
       "         1.34442740e+00],\n",
       "       [ 8.29389061e+00, -4.16569082e+00, -8.12551698e+00,\n",
       "         1.23363296e+01],\n",
       "       [ 4.68719946e-01, -5.30797820e-03, -4.00168063e-01,\n",
       "         6.31924559e-01],\n",
       "       [ 2.72916205e-01, -2.33058838e-01, -4.10961021e-01,\n",
       "         5.63166268e-01],\n",
       "       [ 5.73818849e-01, -6.73455373e-01, -1.50572529e-01,\n",
       "         8.97486656e-01],\n",
       "       [ 1.47355131e+00, -1.35804522e+00, -3.94379675e-01,\n",
       "         2.04234561e+00],\n",
       "       [ 2.97469919e+00, -2.28334507e+00, -8.67230022e-01,\n",
       "         3.84897232e+00],\n",
       "       [ 7.40879612e-01, -4.03746781e-01, -1.96236925e-01,\n",
       "         8.66269585e-01],\n",
       "       [ 1.07484981e+00, -8.60638016e-01, -5.67077022e-01,\n",
       "         1.48915287e+00],\n",
       "       [ 3.60295655e+00, -2.21710846e+00, -1.84743684e+00,\n",
       "         4.61626350e+00],\n",
       "       [ 8.38311011e+00, -4.64904965e+00, -4.20148577e+00,\n",
       "         1.04662639e+01],\n",
       "       [ 9.60261158e-01, -1.82978487e-01, -6.16674533e-01,\n",
       "         1.15579847e+00],\n",
       "       [ 2.57934170e+00, -1.34336957e+00, -2.07022608e+00,\n",
       "         3.56980132e+00],\n",
       "       [ 1.43253782e+01, -6.04060114e+00, -1.18809079e+01,\n",
       "         1.95668417e+01],\n",
       "       [ 4.78461358e+00, -1.38294680e+00, -3.91916856e+00,\n",
       "         6.33758244e+00],\n",
       "       [ 1.76723662e+00, -7.32647613e-01, -1.79049121e+00,\n",
       "         2.62025887e+00],\n",
       "       [ 6.41783559e-01, -3.34302723e-01, -7.65557123e-01,\n",
       "         1.05343351e+00],\n",
       "       [ 4.13822274e-01, -2.71386178e-01, -5.81761846e-01,\n",
       "         7.63771024e-01],\n",
       "       [ 2.54472139e-01, -6.27092551e-01, -3.58347633e-01,\n",
       "         7.78384076e-01],\n",
       "       [ 1.40514623e+00, -4.24620042e+00, -1.16169199e+00,\n",
       "         4.62316448e+00],\n",
       "       [ 2.07360532e+00, -3.31964550e+00, -1.76807922e+00,\n",
       "         4.29714521e+00],\n",
       "       [ 7.17131885e+00, -1.53616611e+01, -8.00693913e+00,\n",
       "         1.87493730e+01],\n",
       "       [ 2.24065996e+00, -3.16389135e+00, -1.99255220e+00,\n",
       "         4.36124953e+00],\n",
       "       [ 1.55028184e+00, -2.22629777e+00, -1.40994134e+00,\n",
       "         3.05740259e+00],\n",
       "       [ 1.64564746e+00, -2.57814665e+00, -1.65002628e+00,\n",
       "         3.47808137e+00],\n",
       "       [ 4.91139440e-01, -2.41143016e+00, -1.51283012e+00,\n",
       "         2.89211618e+00],\n",
       "       [ 8.59114390e-01, -1.19969843e+00, -9.37259772e-01,\n",
       "         1.75364687e+00],\n",
       "       [ 2.96693180e-01, -8.44412884e-01, -5.72642912e-01,\n",
       "         1.07165642e+00],\n",
       "       [ 4.63547735e-01, -1.08267343e+00, -7.60705097e-01,\n",
       "         1.40897059e+00],\n",
       "       [ 1.86163094e+00, -3.99797554e+00, -2.27567399e+00,\n",
       "         4.96463875e+00],\n",
       "       [ 1.36010629e-01, -4.55722605e-01, -1.67244371e-01,\n",
       "         5.23087250e-01],\n",
       "       [ 3.27821816e-01, -5.18311440e-01, -6.13024863e-02,\n",
       "         6.16337478e-01],\n",
       "       [ 1.05280800e+00, -2.54260522e+00, -3.93359697e-01,\n",
       "         2.77992407e+00],\n",
       "       [ 9.75760843e-01, -1.48671245e+00, -7.17956170e-01,\n",
       "         1.91778106e+00],\n",
       "       [ 1.94821475e-01, -4.49860351e-01, -1.98114543e-01,\n",
       "         5.28752413e-01],\n",
       "       [ 1.84440516e-01, -1.06718678e+00, -4.78145161e-01,\n",
       "         1.18386178e+00],\n",
       "       [ 2.64159132e-01, -4.51326754e-01, -2.41070863e-01,\n",
       "         5.75839428e-01],\n",
       "       [ 8.04682629e+00, -1.07909881e+01, -7.39276095e+00,\n",
       "         1.53574006e+01],\n",
       "       [ 7.15587827e-01, -1.46874122e+00, -9.07987639e-01,\n",
       "         1.86914640e+00],\n",
       "       [ 6.86309248e-01, -1.12792053e+00, -7.78907095e-01,\n",
       "         1.53294532e+00],\n",
       "       [ 3.05968254e-01, -4.48551548e-01, -3.59576807e-01,\n",
       "         6.51237701e-01],\n",
       "       [ 4.62951017e-01, -8.94088900e-01, -9.11079536e-01,\n",
       "         1.35786027e+00],\n",
       "       [ 3.94791322e-01, -6.23858170e-01, -6.68795515e-01,\n",
       "         9.96165973e-01],\n",
       "       [ 3.80587358e-01, -8.01429709e-01, -9.73797013e-01,\n",
       "         1.31735225e+00],\n",
       "       [ 3.61303382e+00, -2.50157781e+00,  1.51306467e-01,\n",
       "         4.39934838e+00],\n",
       "       [ 1.82472805e+00, -1.71746870e+00,  5.57395098e-01,\n",
       "         2.57089247e+00],\n",
       "       [ 1.60652832e+00, -1.88222165e+00,  4.23436060e-01,\n",
       "         2.51444969e+00],\n",
       "       [ 1.31777110e+00, -2.01800210e+00,  3.52084061e-01,\n",
       "         2.43973030e+00],\n",
       "       [ 6.11443882e-01, -2.97952131e-01, -1.05866593e-02,\n",
       "         6.80258165e-01],\n",
       "       [ 5.36376953e-01, -2.34628540e-01, -2.67017882e-02,\n",
       "         5.86057824e-01],\n",
       "       [ 1.70536476e+00, -7.50698370e-01, -3.11482742e+00,\n",
       "         3.62959597e+00],\n",
       "       [ 2.77380766e-01, -2.29645958e-01,  4.61498739e-02,\n",
       "         3.88940578e-01],\n",
       "       [ 0.00000000e+00,  0.00000000e+00,  0.00000000e+00,\n",
       "         0.00000000e+00],\n",
       "       [ 0.00000000e+00,  0.00000000e+00,  0.00000000e+00,\n",
       "         0.00000000e+00],\n",
       "       [ 0.00000000e+00,  0.00000000e+00,  0.00000000e+00,\n",
       "         0.00000000e+00],\n",
       "       [ 0.00000000e+00,  0.00000000e+00,  0.00000000e+00,\n",
       "         0.00000000e+00],\n",
       "       [ 0.00000000e+00,  0.00000000e+00,  0.00000000e+00,\n",
       "         0.00000000e+00],\n",
       "       [ 0.00000000e+00,  0.00000000e+00,  0.00000000e+00,\n",
       "         0.00000000e+00],\n",
       "       [ 0.00000000e+00,  0.00000000e+00,  0.00000000e+00,\n",
       "         0.00000000e+00],\n",
       "       [ 0.00000000e+00,  0.00000000e+00,  0.00000000e+00,\n",
       "         0.00000000e+00],\n",
       "       [ 0.00000000e+00,  0.00000000e+00,  0.00000000e+00,\n",
       "         0.00000000e+00],\n",
       "       [ 0.00000000e+00,  0.00000000e+00,  0.00000000e+00,\n",
       "         0.00000000e+00],\n",
       "       [ 0.00000000e+00,  0.00000000e+00,  0.00000000e+00,\n",
       "         0.00000000e+00],\n",
       "       [ 0.00000000e+00,  0.00000000e+00,  0.00000000e+00,\n",
       "         0.00000000e+00],\n",
       "       [ 0.00000000e+00,  0.00000000e+00,  0.00000000e+00,\n",
       "         0.00000000e+00],\n",
       "       [ 0.00000000e+00,  0.00000000e+00,  0.00000000e+00,\n",
       "         0.00000000e+00],\n",
       "       [ 0.00000000e+00,  0.00000000e+00,  0.00000000e+00,\n",
       "         0.00000000e+00],\n",
       "       [ 0.00000000e+00,  0.00000000e+00,  0.00000000e+00,\n",
       "         0.00000000e+00],\n",
       "       [ 0.00000000e+00,  0.00000000e+00,  0.00000000e+00,\n",
       "         0.00000000e+00],\n",
       "       [ 0.00000000e+00,  0.00000000e+00,  0.00000000e+00,\n",
       "         0.00000000e+00],\n",
       "       [ 0.00000000e+00,  0.00000000e+00,  0.00000000e+00,\n",
       "         0.00000000e+00],\n",
       "       [ 0.00000000e+00,  0.00000000e+00,  0.00000000e+00,\n",
       "         0.00000000e+00],\n",
       "       [ 0.00000000e+00,  0.00000000e+00,  0.00000000e+00,\n",
       "         0.00000000e+00],\n",
       "       [ 0.00000000e+00,  0.00000000e+00,  0.00000000e+00,\n",
       "         0.00000000e+00],\n",
       "       [ 0.00000000e+00,  0.00000000e+00,  0.00000000e+00,\n",
       "         0.00000000e+00],\n",
       "       [ 0.00000000e+00,  0.00000000e+00,  0.00000000e+00,\n",
       "         0.00000000e+00],\n",
       "       [ 0.00000000e+00,  0.00000000e+00,  0.00000000e+00,\n",
       "         0.00000000e+00],\n",
       "       [ 0.00000000e+00,  0.00000000e+00,  0.00000000e+00,\n",
       "         0.00000000e+00],\n",
       "       [ 0.00000000e+00,  0.00000000e+00,  0.00000000e+00,\n",
       "         0.00000000e+00],\n",
       "       [ 0.00000000e+00,  0.00000000e+00,  0.00000000e+00,\n",
       "         0.00000000e+00],\n",
       "       [ 0.00000000e+00,  0.00000000e+00,  0.00000000e+00,\n",
       "         0.00000000e+00],\n",
       "       [ 0.00000000e+00,  0.00000000e+00,  0.00000000e+00,\n",
       "         0.00000000e+00],\n",
       "       [ 0.00000000e+00,  0.00000000e+00,  0.00000000e+00,\n",
       "         0.00000000e+00],\n",
       "       [ 0.00000000e+00,  0.00000000e+00,  0.00000000e+00,\n",
       "         0.00000000e+00],\n",
       "       [ 0.00000000e+00,  0.00000000e+00,  0.00000000e+00,\n",
       "         0.00000000e+00],\n",
       "       [ 0.00000000e+00,  0.00000000e+00,  0.00000000e+00,\n",
       "         0.00000000e+00],\n",
       "       [ 0.00000000e+00,  0.00000000e+00,  0.00000000e+00,\n",
       "         0.00000000e+00],\n",
       "       [ 0.00000000e+00,  0.00000000e+00,  0.00000000e+00,\n",
       "         0.00000000e+00],\n",
       "       [ 0.00000000e+00,  0.00000000e+00,  0.00000000e+00,\n",
       "         0.00000000e+00],\n",
       "       [ 0.00000000e+00,  0.00000000e+00,  0.00000000e+00,\n",
       "         0.00000000e+00],\n",
       "       [ 0.00000000e+00,  0.00000000e+00,  0.00000000e+00,\n",
       "         0.00000000e+00],\n",
       "       [ 0.00000000e+00,  0.00000000e+00,  0.00000000e+00,\n",
       "         0.00000000e+00],\n",
       "       [ 0.00000000e+00,  0.00000000e+00,  0.00000000e+00,\n",
       "         0.00000000e+00],\n",
       "       [ 0.00000000e+00,  0.00000000e+00,  0.00000000e+00,\n",
       "         0.00000000e+00],\n",
       "       [ 0.00000000e+00,  0.00000000e+00,  0.00000000e+00,\n",
       "         0.00000000e+00],\n",
       "       [ 0.00000000e+00,  0.00000000e+00,  0.00000000e+00,\n",
       "         0.00000000e+00],\n",
       "       [ 0.00000000e+00,  0.00000000e+00,  0.00000000e+00,\n",
       "         0.00000000e+00],\n",
       "       [ 0.00000000e+00,  0.00000000e+00,  0.00000000e+00,\n",
       "         0.00000000e+00],\n",
       "       [ 0.00000000e+00,  0.00000000e+00,  0.00000000e+00,\n",
       "         0.00000000e+00],\n",
       "       [ 0.00000000e+00,  0.00000000e+00,  0.00000000e+00,\n",
       "         0.00000000e+00],\n",
       "       [ 0.00000000e+00,  0.00000000e+00,  0.00000000e+00,\n",
       "         0.00000000e+00],\n",
       "       [ 0.00000000e+00,  0.00000000e+00,  0.00000000e+00,\n",
       "         0.00000000e+00],\n",
       "       [ 0.00000000e+00,  0.00000000e+00,  0.00000000e+00,\n",
       "         0.00000000e+00],\n",
       "       [ 0.00000000e+00,  0.00000000e+00,  0.00000000e+00,\n",
       "         0.00000000e+00],\n",
       "       [ 0.00000000e+00,  0.00000000e+00,  0.00000000e+00,\n",
       "         0.00000000e+00],\n",
       "       [ 0.00000000e+00,  0.00000000e+00,  0.00000000e+00,\n",
       "         0.00000000e+00],\n",
       "       [ 0.00000000e+00,  0.00000000e+00,  0.00000000e+00,\n",
       "         0.00000000e+00],\n",
       "       [ 0.00000000e+00,  0.00000000e+00,  0.00000000e+00,\n",
       "         0.00000000e+00],\n",
       "       [ 0.00000000e+00,  0.00000000e+00,  0.00000000e+00,\n",
       "         0.00000000e+00],\n",
       "       [ 0.00000000e+00,  0.00000000e+00,  0.00000000e+00,\n",
       "         0.00000000e+00],\n",
       "       [ 0.00000000e+00,  0.00000000e+00,  0.00000000e+00,\n",
       "         0.00000000e+00],\n",
       "       [ 0.00000000e+00,  0.00000000e+00,  0.00000000e+00,\n",
       "         0.00000000e+00],\n",
       "       [ 0.00000000e+00,  0.00000000e+00,  0.00000000e+00,\n",
       "         0.00000000e+00],\n",
       "       [ 0.00000000e+00,  0.00000000e+00,  0.00000000e+00,\n",
       "         0.00000000e+00],\n",
       "       [ 0.00000000e+00,  0.00000000e+00,  0.00000000e+00,\n",
       "         0.00000000e+00],\n",
       "       [ 0.00000000e+00,  0.00000000e+00,  0.00000000e+00,\n",
       "         0.00000000e+00],\n",
       "       [ 0.00000000e+00,  0.00000000e+00,  0.00000000e+00,\n",
       "         0.00000000e+00],\n",
       "       [ 0.00000000e+00,  0.00000000e+00,  0.00000000e+00,\n",
       "         0.00000000e+00],\n",
       "       [ 0.00000000e+00,  0.00000000e+00,  0.00000000e+00,\n",
       "         0.00000000e+00],\n",
       "       [ 0.00000000e+00,  0.00000000e+00,  0.00000000e+00,\n",
       "         0.00000000e+00],\n",
       "       [ 0.00000000e+00,  0.00000000e+00,  0.00000000e+00,\n",
       "         0.00000000e+00],\n",
       "       [ 0.00000000e+00,  0.00000000e+00,  0.00000000e+00,\n",
       "         0.00000000e+00],\n",
       "       [ 0.00000000e+00,  0.00000000e+00,  0.00000000e+00,\n",
       "         0.00000000e+00],\n",
       "       [ 0.00000000e+00,  0.00000000e+00,  0.00000000e+00,\n",
       "         0.00000000e+00],\n",
       "       [ 0.00000000e+00,  0.00000000e+00,  0.00000000e+00,\n",
       "         0.00000000e+00],\n",
       "       [ 0.00000000e+00,  0.00000000e+00,  0.00000000e+00,\n",
       "         0.00000000e+00],\n",
       "       [ 0.00000000e+00,  0.00000000e+00,  0.00000000e+00,\n",
       "         0.00000000e+00],\n",
       "       [ 0.00000000e+00,  0.00000000e+00,  0.00000000e+00,\n",
       "         0.00000000e+00],\n",
       "       [ 0.00000000e+00,  0.00000000e+00,  0.00000000e+00,\n",
       "         0.00000000e+00],\n",
       "       [ 0.00000000e+00,  0.00000000e+00,  0.00000000e+00,\n",
       "         0.00000000e+00],\n",
       "       [ 0.00000000e+00,  0.00000000e+00,  0.00000000e+00,\n",
       "         0.00000000e+00]])"
      ]
     },
     "execution_count": 58,
     "metadata": {},
     "output_type": "execute_result"
    }
   ],
   "source": [
    "pf_cands_pxpypzE[0]"
   ]
  },
  {
   "cell_type": "code",
   "execution_count": 59,
   "metadata": {},
   "outputs": [],
   "source": [
    "pf_cands_4vec = np.dstack((selected_pt_padded,selected_eta_padded,selected_phi_padded,selected_mass_padded))"
   ]
  },
  {
   "cell_type": "code",
   "execution_count": 60,
   "metadata": {},
   "outputs": [
    {
     "data": {
      "text/plain": [
       "array([[ 8.96972656e-01, -3.43139648e-01, -4.42504883e-01,\n",
       "         1.39526367e-01],\n",
       "       [ 9.47753906e-01, -2.92419434e-01, -8.79638672e-01,\n",
       "         1.39526367e-01],\n",
       "       [ 8.45703125e-01, -4.94750977e-01, -3.52844238e-01,\n",
       "         1.39526367e-01],\n",
       "       [ 7.02148438e-01, -6.32690430e-01, -1.31744385e-01,\n",
       "         1.39526367e-01],\n",
       "       [ 6.61621094e-01, -1.80175781e-01, -6.10717773e-01,\n",
       "         1.39526367e-01],\n",
       "       [ 1.88574219e+00, -6.35620117e-01, -4.47082520e-01,\n",
       "         1.39526367e-01],\n",
       "       [ 1.45898438e+00, -4.20410156e-01, -6.03027344e-01,\n",
       "         1.39526367e-01],\n",
       "       [ 1.41015625e+00, -5.06835938e-01, -7.38647461e-01,\n",
       "         1.39526367e-01],\n",
       "       [ 2.00390625e+00, -2.36389160e-01, -6.87988281e-01,\n",
       "         1.39526367e-01],\n",
       "       [ 3.17187500e+00, -2.67333984e-01, -5.38330078e-01,\n",
       "         1.39526367e-01],\n",
       "       [ 6.14062500e+00, -2.84362793e-01, -5.55541992e-01,\n",
       "         1.39526367e-01],\n",
       "       [ 2.44140625e+00, -3.09997559e-01, -7.19726562e-01,\n",
       "         1.39526367e-01],\n",
       "       [ 3.12890625e+00, -3.98254395e-01, -5.56274414e-01,\n",
       "         1.39526367e-01],\n",
       "       [ 7.41699219e-01, -4.14733887e-01, -8.12133789e-01,\n",
       "         1.39526367e-01],\n",
       "       [ 1.43554688e+00, -6.91650391e-01, -5.89111328e-01,\n",
       "         1.39526367e-01],\n",
       "       [ 5.05468750e+00, -7.13256836e-01, -4.34692383e-01,\n",
       "         1.39526367e-01],\n",
       "       [ 1.11640625e+01, -7.32421875e-01, -4.52453613e-01,\n",
       "         1.39526367e-01],\n",
       "       [ 4.68750000e+00, -7.44018555e-01, -4.16931152e-01,\n",
       "         1.39526367e-01],\n",
       "       [ 4.53125000e+01, -7.63793945e-01, -4.57641602e-01,\n",
       "        -1.21688843e-02],\n",
       "       [ 1.02246094e+00, -7.65747070e-01, -3.63891602e-01,\n",
       "         1.39526367e-01],\n",
       "       [ 9.28125000e+00, -7.90527344e-01, -4.65454102e-01,\n",
       "         1.39282227e-01],\n",
       "       [ 4.68750000e-01, -7.74047852e-01, -1.13239288e-02,\n",
       "         1.39526367e-01],\n",
       "       [ 3.58886719e-01, -9.80346680e-01, -7.06787109e-01,\n",
       "         1.39526367e-01],\n",
       "       [ 8.84765625e-01, -1.69372559e-01, -8.65112305e-01,\n",
       "        -0.00000000e+00],\n",
       "       [ 2.00390625e+00, -1.95556641e-01, -7.44628906e-01,\n",
       "         0.00000000e+00],\n",
       "       [ 3.75000000e+00, -2.29248047e-01, -6.54663086e-01,\n",
       "         0.00000000e+00],\n",
       "       [ 8.43750000e-01, -2.30529785e-01, -4.98962402e-01,\n",
       "        -0.00000000e+00],\n",
       "       [ 1.37695312e+00, -4.01000977e-01, -6.75170898e-01,\n",
       "         0.00000000e+00],\n",
       "       [ 4.23046875e+00, -4.23889160e-01, -5.51635742e-01,\n",
       "        -0.00000000e+00],\n",
       "       [ 9.58593750e+00, -4.25354004e-01, -5.06347656e-01,\n",
       "        -1.19209290e-07],\n",
       "       [ 9.77539062e-01, -5.95092773e-01, -1.88293457e-01,\n",
       "        -0.00000000e+00],\n",
       "       [ 2.90820312e+00, -6.62353516e-01, -4.80163574e-01,\n",
       "         0.00000000e+00],\n",
       "       [ 1.55468750e+01, -7.04467773e-01, -3.99047852e-01,\n",
       "        -2.38418579e-07],\n",
       "       [ 4.98046875e+00, -7.22412109e-01, -2.81372070e-01,\n",
       "        -5.96046448e-08],\n",
       "       [ 1.91308594e+00, -8.35327148e-01, -3.93005371e-01,\n",
       "         0.00000000e+00],\n",
       "       [ 7.23632812e-01, -9.21752930e-01, -4.80224609e-01,\n",
       "         0.00000000e+00],\n",
       "       [ 4.94873047e-01, -1.00024414e+00, -5.80444336e-01,\n",
       "         0.00000000e+00],\n",
       "       [ 6.76757812e-01, -5.07446289e-01, -1.18530273e+00,\n",
       "         1.39526367e-01],\n",
       "       [ 4.47265625e+00, -2.56896973e-01, -1.25122070e+00,\n",
       "         1.39526367e-01],\n",
       "       [ 3.91406250e+00, -4.37622070e-01, -1.01245117e+00,\n",
       "         1.39526367e-01],\n",
       "       [ 1.69531250e+01, -4.56298828e-01, -1.13403320e+00,\n",
       "         1.39526367e-01],\n",
       "       [ 3.87695312e+00, -4.93652344e-01, -9.54589844e-01,\n",
       "         1.39526367e-01],\n",
       "       [ 2.71289062e+00, -4.98779297e-01, -9.62524414e-01,\n",
       "         7.05242157e-04],\n",
       "       [ 3.05859375e+00, -5.16235352e-01, -1.00268555e+00,\n",
       "         1.39526367e-01],\n",
       "       [ 2.46093750e+00, -5.81420898e-01, -1.36987305e+00,\n",
       "         1.39526367e-01],\n",
       "       [ 1.47558594e+00, -5.98754883e-01, -9.49340820e-01,\n",
       "         1.39526367e-01],\n",
       "       [ 8.95019531e-01, -6.02661133e-01, -1.23291016e+00,\n",
       "         1.39526367e-01],\n",
       "       [ 1.17773438e+00, -6.07788086e-01, -1.16625977e+00,\n",
       "         1.39526367e-01],\n",
       "       [ 4.41015625e+00, -4.95483398e-01, -1.13500977e+00,\n",
       "         1.39526367e-01],\n",
       "       [ 4.75585938e-01, -3.44787598e-01, -1.28076172e+00,\n",
       "         1.39526367e-01],\n",
       "       [ 6.13281250e-01, -9.97924805e-02, -1.00683594e+00,\n",
       "        -0.00000000e+00],\n",
       "       [ 2.75195312e+00, -1.42456055e-01, -1.17822266e+00,\n",
       "        -0.00000000e+00],\n",
       "       [ 1.77832031e+00, -3.93493652e-01, -9.89990234e-01,\n",
       "        -0.00000000e+00],\n",
       "       [ 4.90234375e-01, -3.93859863e-01, -1.16210938e+00,\n",
       "        -0.00000000e+00],\n",
       "       [ 1.08300781e+00, -4.28283691e-01, -1.39965820e+00,\n",
       "         0.00000000e+00],\n",
       "       [ 5.22949219e-01, -4.46044922e-01, -1.04125977e+00,\n",
       "         0.00000000e+00],\n",
       "       [ 1.34609375e+01, -5.24780273e-01, -9.30053711e-01,\n",
       "         1.19209290e-07],\n",
       "       [ 1.63378906e+00, -5.30517578e-01, -1.11743164e+00,\n",
       "         0.00000000e+00],\n",
       "       [ 1.32031250e+00, -5.60180664e-01, -1.02416992e+00,\n",
       "         0.00000000e+00],\n",
       "       [ 5.42968750e-01, -6.21459961e-01, -9.72167969e-01,\n",
       "        -0.00000000e+00],\n",
       "       [ 1.00683594e+00, -8.12500000e-01, -1.09301758e+00,\n",
       "        -0.00000000e+00],\n",
       "       [ 7.38281250e-01, -8.13232422e-01, -1.00659180e+00,\n",
       "        -0.00000000e+00],\n",
       "       [ 8.87207031e-01, -9.48730469e-01, -1.12744141e+00,\n",
       "         0.00000000e+00],\n",
       "       [ 4.39453125e+00,  3.44238281e-02, -6.05590820e-01,\n",
       "         1.39526367e-01],\n",
       "       [ 2.50585938e+00,  2.20642090e-01, -7.55126953e-01,\n",
       "         1.39526367e-01],\n",
       "       [ 2.47460938e+00,  1.70288086e-01, -8.64257812e-01,\n",
       "         1.39526367e-01],\n",
       "       [ 2.41015625e+00,  1.45568848e-01, -9.92309570e-01,\n",
       "         1.39526367e-01],\n",
       "       [ 6.80175781e-01, -1.55639648e-02, -4.53430176e-01,\n",
       "        -0.00000000e+00],\n",
       "       [ 5.85449219e-01, -4.55932617e-02, -4.12353516e-01,\n",
       "         0.00000000e+00],\n",
       "       [ 1.86328125e+00, -1.28637695e+00, -4.14672852e-01,\n",
       "        -0.00000000e+00],\n",
       "       [ 3.60107422e-01,  1.27807617e-01, -6.91528320e-01,\n",
       "         1.39526367e-01],\n",
       "       [ 0.00000000e+00,  0.00000000e+00,  0.00000000e+00,\n",
       "         0.00000000e+00],\n",
       "       [ 0.00000000e+00,  0.00000000e+00,  0.00000000e+00,\n",
       "         0.00000000e+00],\n",
       "       [ 0.00000000e+00,  0.00000000e+00,  0.00000000e+00,\n",
       "         0.00000000e+00],\n",
       "       [ 0.00000000e+00,  0.00000000e+00,  0.00000000e+00,\n",
       "         0.00000000e+00],\n",
       "       [ 0.00000000e+00,  0.00000000e+00,  0.00000000e+00,\n",
       "         0.00000000e+00],\n",
       "       [ 0.00000000e+00,  0.00000000e+00,  0.00000000e+00,\n",
       "         0.00000000e+00],\n",
       "       [ 0.00000000e+00,  0.00000000e+00,  0.00000000e+00,\n",
       "         0.00000000e+00],\n",
       "       [ 0.00000000e+00,  0.00000000e+00,  0.00000000e+00,\n",
       "         0.00000000e+00],\n",
       "       [ 0.00000000e+00,  0.00000000e+00,  0.00000000e+00,\n",
       "         0.00000000e+00],\n",
       "       [ 0.00000000e+00,  0.00000000e+00,  0.00000000e+00,\n",
       "         0.00000000e+00],\n",
       "       [ 0.00000000e+00,  0.00000000e+00,  0.00000000e+00,\n",
       "         0.00000000e+00],\n",
       "       [ 0.00000000e+00,  0.00000000e+00,  0.00000000e+00,\n",
       "         0.00000000e+00],\n",
       "       [ 0.00000000e+00,  0.00000000e+00,  0.00000000e+00,\n",
       "         0.00000000e+00],\n",
       "       [ 0.00000000e+00,  0.00000000e+00,  0.00000000e+00,\n",
       "         0.00000000e+00],\n",
       "       [ 0.00000000e+00,  0.00000000e+00,  0.00000000e+00,\n",
       "         0.00000000e+00],\n",
       "       [ 0.00000000e+00,  0.00000000e+00,  0.00000000e+00,\n",
       "         0.00000000e+00],\n",
       "       [ 0.00000000e+00,  0.00000000e+00,  0.00000000e+00,\n",
       "         0.00000000e+00],\n",
       "       [ 0.00000000e+00,  0.00000000e+00,  0.00000000e+00,\n",
       "         0.00000000e+00],\n",
       "       [ 0.00000000e+00,  0.00000000e+00,  0.00000000e+00,\n",
       "         0.00000000e+00],\n",
       "       [ 0.00000000e+00,  0.00000000e+00,  0.00000000e+00,\n",
       "         0.00000000e+00],\n",
       "       [ 0.00000000e+00,  0.00000000e+00,  0.00000000e+00,\n",
       "         0.00000000e+00],\n",
       "       [ 0.00000000e+00,  0.00000000e+00,  0.00000000e+00,\n",
       "         0.00000000e+00],\n",
       "       [ 0.00000000e+00,  0.00000000e+00,  0.00000000e+00,\n",
       "         0.00000000e+00],\n",
       "       [ 0.00000000e+00,  0.00000000e+00,  0.00000000e+00,\n",
       "         0.00000000e+00],\n",
       "       [ 0.00000000e+00,  0.00000000e+00,  0.00000000e+00,\n",
       "         0.00000000e+00],\n",
       "       [ 0.00000000e+00,  0.00000000e+00,  0.00000000e+00,\n",
       "         0.00000000e+00],\n",
       "       [ 0.00000000e+00,  0.00000000e+00,  0.00000000e+00,\n",
       "         0.00000000e+00],\n",
       "       [ 0.00000000e+00,  0.00000000e+00,  0.00000000e+00,\n",
       "         0.00000000e+00],\n",
       "       [ 0.00000000e+00,  0.00000000e+00,  0.00000000e+00,\n",
       "         0.00000000e+00],\n",
       "       [ 0.00000000e+00,  0.00000000e+00,  0.00000000e+00,\n",
       "         0.00000000e+00],\n",
       "       [ 0.00000000e+00,  0.00000000e+00,  0.00000000e+00,\n",
       "         0.00000000e+00],\n",
       "       [ 0.00000000e+00,  0.00000000e+00,  0.00000000e+00,\n",
       "         0.00000000e+00],\n",
       "       [ 0.00000000e+00,  0.00000000e+00,  0.00000000e+00,\n",
       "         0.00000000e+00],\n",
       "       [ 0.00000000e+00,  0.00000000e+00,  0.00000000e+00,\n",
       "         0.00000000e+00],\n",
       "       [ 0.00000000e+00,  0.00000000e+00,  0.00000000e+00,\n",
       "         0.00000000e+00],\n",
       "       [ 0.00000000e+00,  0.00000000e+00,  0.00000000e+00,\n",
       "         0.00000000e+00],\n",
       "       [ 0.00000000e+00,  0.00000000e+00,  0.00000000e+00,\n",
       "         0.00000000e+00],\n",
       "       [ 0.00000000e+00,  0.00000000e+00,  0.00000000e+00,\n",
       "         0.00000000e+00],\n",
       "       [ 0.00000000e+00,  0.00000000e+00,  0.00000000e+00,\n",
       "         0.00000000e+00],\n",
       "       [ 0.00000000e+00,  0.00000000e+00,  0.00000000e+00,\n",
       "         0.00000000e+00],\n",
       "       [ 0.00000000e+00,  0.00000000e+00,  0.00000000e+00,\n",
       "         0.00000000e+00],\n",
       "       [ 0.00000000e+00,  0.00000000e+00,  0.00000000e+00,\n",
       "         0.00000000e+00],\n",
       "       [ 0.00000000e+00,  0.00000000e+00,  0.00000000e+00,\n",
       "         0.00000000e+00],\n",
       "       [ 0.00000000e+00,  0.00000000e+00,  0.00000000e+00,\n",
       "         0.00000000e+00],\n",
       "       [ 0.00000000e+00,  0.00000000e+00,  0.00000000e+00,\n",
       "         0.00000000e+00],\n",
       "       [ 0.00000000e+00,  0.00000000e+00,  0.00000000e+00,\n",
       "         0.00000000e+00],\n",
       "       [ 0.00000000e+00,  0.00000000e+00,  0.00000000e+00,\n",
       "         0.00000000e+00],\n",
       "       [ 0.00000000e+00,  0.00000000e+00,  0.00000000e+00,\n",
       "         0.00000000e+00],\n",
       "       [ 0.00000000e+00,  0.00000000e+00,  0.00000000e+00,\n",
       "         0.00000000e+00],\n",
       "       [ 0.00000000e+00,  0.00000000e+00,  0.00000000e+00,\n",
       "         0.00000000e+00],\n",
       "       [ 0.00000000e+00,  0.00000000e+00,  0.00000000e+00,\n",
       "         0.00000000e+00],\n",
       "       [ 0.00000000e+00,  0.00000000e+00,  0.00000000e+00,\n",
       "         0.00000000e+00],\n",
       "       [ 0.00000000e+00,  0.00000000e+00,  0.00000000e+00,\n",
       "         0.00000000e+00],\n",
       "       [ 0.00000000e+00,  0.00000000e+00,  0.00000000e+00,\n",
       "         0.00000000e+00],\n",
       "       [ 0.00000000e+00,  0.00000000e+00,  0.00000000e+00,\n",
       "         0.00000000e+00],\n",
       "       [ 0.00000000e+00,  0.00000000e+00,  0.00000000e+00,\n",
       "         0.00000000e+00],\n",
       "       [ 0.00000000e+00,  0.00000000e+00,  0.00000000e+00,\n",
       "         0.00000000e+00],\n",
       "       [ 0.00000000e+00,  0.00000000e+00,  0.00000000e+00,\n",
       "         0.00000000e+00],\n",
       "       [ 0.00000000e+00,  0.00000000e+00,  0.00000000e+00,\n",
       "         0.00000000e+00],\n",
       "       [ 0.00000000e+00,  0.00000000e+00,  0.00000000e+00,\n",
       "         0.00000000e+00],\n",
       "       [ 0.00000000e+00,  0.00000000e+00,  0.00000000e+00,\n",
       "         0.00000000e+00],\n",
       "       [ 0.00000000e+00,  0.00000000e+00,  0.00000000e+00,\n",
       "         0.00000000e+00],\n",
       "       [ 0.00000000e+00,  0.00000000e+00,  0.00000000e+00,\n",
       "         0.00000000e+00],\n",
       "       [ 0.00000000e+00,  0.00000000e+00,  0.00000000e+00,\n",
       "         0.00000000e+00],\n",
       "       [ 0.00000000e+00,  0.00000000e+00,  0.00000000e+00,\n",
       "         0.00000000e+00],\n",
       "       [ 0.00000000e+00,  0.00000000e+00,  0.00000000e+00,\n",
       "         0.00000000e+00],\n",
       "       [ 0.00000000e+00,  0.00000000e+00,  0.00000000e+00,\n",
       "         0.00000000e+00],\n",
       "       [ 0.00000000e+00,  0.00000000e+00,  0.00000000e+00,\n",
       "         0.00000000e+00],\n",
       "       [ 0.00000000e+00,  0.00000000e+00,  0.00000000e+00,\n",
       "         0.00000000e+00],\n",
       "       [ 0.00000000e+00,  0.00000000e+00,  0.00000000e+00,\n",
       "         0.00000000e+00],\n",
       "       [ 0.00000000e+00,  0.00000000e+00,  0.00000000e+00,\n",
       "         0.00000000e+00],\n",
       "       [ 0.00000000e+00,  0.00000000e+00,  0.00000000e+00,\n",
       "         0.00000000e+00],\n",
       "       [ 0.00000000e+00,  0.00000000e+00,  0.00000000e+00,\n",
       "         0.00000000e+00],\n",
       "       [ 0.00000000e+00,  0.00000000e+00,  0.00000000e+00,\n",
       "         0.00000000e+00],\n",
       "       [ 0.00000000e+00,  0.00000000e+00,  0.00000000e+00,\n",
       "         0.00000000e+00],\n",
       "       [ 0.00000000e+00,  0.00000000e+00,  0.00000000e+00,\n",
       "         0.00000000e+00],\n",
       "       [ 0.00000000e+00,  0.00000000e+00,  0.00000000e+00,\n",
       "         0.00000000e+00],\n",
       "       [ 0.00000000e+00,  0.00000000e+00,  0.00000000e+00,\n",
       "         0.00000000e+00],\n",
       "       [ 0.00000000e+00,  0.00000000e+00,  0.00000000e+00,\n",
       "         0.00000000e+00]])"
      ]
     },
     "execution_count": 60,
     "metadata": {},
     "output_type": "execute_result"
    }
   ],
   "source": [
    "pf_cands_4vec[0]"
   ]
  },
  {
   "cell_type": "code",
   "execution_count": 61,
   "metadata": {},
   "outputs": [],
   "source": [
    "# do final cut using H4q3q selection:\n",
    "gen_parts_eta_phi_HWW = gen_parts_eta_phi_HWW[H3q4q_cut]\n",
    "pf_cands_pxpypzE = pf_cands_pxpypzE[H3q4q_cut]\n",
    "higgs_jet_4vec = higgs_jet_4vec[H3q4q_cut]\n"
   ]
  },
  {
   "cell_type": "markdown",
   "metadata": {},
   "source": [
    "### Next compute tagger score"
   ]
  },
  {
   "cell_type": "code",
   "execution_count": 62,
   "metadata": {},
   "outputs": [],
   "source": [
    "eventsScoreFatjet = events_final\n",
    "tagger_scores = eventsScoreFatjet.FatJet.inclParTMDV1_probHWqqWev0c + eventsScoreFatjet.FatJet.inclParTMDV1_probHWqqWev1c + eventsScoreFatjet.FatJet.inclParTMDV1_probHWqqWmv0c + eventsScoreFatjet.FatJet.inclParTMDV1_probHWqqWmv1c + eventsScoreFatjet.FatJet.inclParTMDV1_probHWqqWq0c + eventsScoreFatjet.FatJet.inclParTMDV1_probHWqqWq1c + eventsScoreFatjet.FatJet.inclParTMDV1_probHWqqWq2c + eventsScoreFatjet.FatJet.inclParTMDV1_probHWqqWqq0c + eventsScoreFatjet.FatJet.inclParTMDV1_probHWqqWqq1c + eventsScoreFatjet.FatJet.inclParTMDV1_probHWqqWqq2c + eventsScoreFatjet.FatJet.inclParTMDV1_probHWqqWtauev0c + eventsScoreFatjet.FatJet.inclParTMDV1_probHWqqWtauev1c + eventsScoreFatjet.FatJet.inclParTMDV1_probHWqqWtauhv0c + eventsScoreFatjet.FatJet.inclParTMDV1_probHWqqWtauhv1c + eventsScoreFatjet.FatJet.inclParTMDV1_probHWqqWtaumv0c + eventsScoreFatjet.FatJet.inclParTMDV1_probHWqqWtaumv1c"
   ]
  },
  {
   "cell_type": "code",
   "execution_count": 63,
   "metadata": {},
   "outputs": [],
   "source": [
    "fatjets = events_final.FatJet\n",
    "HWW = ak.pad_none(higgs, 1, axis=1, clip=True)[:, 0] #because it's a 2D array\n",
    "WWdr = fatjets[:, :3].delta_r(HWW) #here use 3 because we have up to 3 AK8 jets, use ak.max(ak.num(WWdr,axis = 1)) for test\n",
    "match_dR = 0.8\n",
    "HWW_match = WWdr <= match_dR #FatJetIdx in each event, which is real HWW jet"
   ]
  },
  {
   "cell_type": "code",
   "execution_count": 64,
   "metadata": {},
   "outputs": [
    {
     "data": {
      "text/plain": [
       "<Array [[False, True], ... [True, False]] type='17748 * option[var * bool]'>"
      ]
     },
     "execution_count": 64,
     "metadata": {},
     "output_type": "execute_result"
    }
   ],
   "source": [
    "HWW_match"
   ]
  },
  {
   "cell_type": "code",
   "execution_count": 65,
   "metadata": {},
   "outputs": [],
   "source": [
    "HWWJets_tagger_score = ak.pad_none(tagger_scores[HWW_match], 1, axis=1)[:, 0]"
   ]
  },
  {
   "cell_type": "code",
   "execution_count": 66,
   "metadata": {},
   "outputs": [
    {
     "data": {
      "text/plain": [
       "<Array [0.214, 0.976, 0.678, ... 0.633, 0.118] type='17748 * ?float32'>"
      ]
     },
     "execution_count": 66,
     "metadata": {},
     "output_type": "execute_result"
    }
   ],
   "source": [
    "HWWJets_tagger_score"
   ]
  },
  {
   "cell_type": "code",
   "execution_count": 67,
   "metadata": {},
   "outputs": [
    {
     "data": {
      "text/plain": [
       "<Array [0.976, 0.678, 0.044, ... 0.633, 0.118] type='15668 * ?float32'>"
      ]
     },
     "execution_count": 67,
     "metadata": {},
     "output_type": "execute_result"
    }
   ],
   "source": [
    "HWWJets_tagger_score = HWWJets_tagger_score[H3q4q_cut]\n",
    "HWWJets_tagger_score"
   ]
  },
  {
   "cell_type": "markdown",
   "metadata": {},
   "source": [
    "### Calculate SFs and weights"
   ]
  },
  {
   "cell_type": "code",
   "execution_count": 68,
   "metadata": {},
   "outputs": [
    {
     "name": "stdout",
     "output_type": "stream",
     "text": [
      "Nominal efficiency 0.272, Corrected efficiency 0.251, SF (corrected / nom) 0.924\n",
      "Stat variation toys eff. avg 0.256, std dev 0.007\n",
      "Pt variation toys eff. avg 0.251, std dev 0.000\n",
      "\n",
      "\n",
      "Calibrated efficiency  is 0.251 +/- 0.012  (stat) +/- 0.000 (pt) +/- 0.012/0.013 (sys)+/- 0.118 (matching)  \n",
      "\n",
      "\n",
      "Now perform SFs information\n",
      "SF (corrected / nom) 0.924\n",
      "\n",
      "\n",
      "SF is 0.924 +/-0.045(stat) +/-0.002(pt) +0.012/-0.013(sys) +/-0.433(match) \n",
      "\n",
      "\n",
      "#--------------------------------------------------------------------------\n",
      "#                         FastJet release 3.4.0\n",
      "#                 M. Cacciari, G.P. Salam and G. Soyez                  \n",
      "#     A software package for jet finding and analysis at colliders      \n",
      "#                           http://fastjet.fr                           \n",
      "#\t                                                                      \n",
      "# Please cite EPJC72(2012)1896 [arXiv:1111.6097] if you use this package\n",
      "# for scientific work and optionally PLB641(2006)57 [hep-ph/0512210].   \n",
      "#                                                                       \n",
      "# FastJet is provided without warranty under the GNU GPL v2 or higher.  \n",
      "# It uses T. Chan's closest pair algorithm, S. Fortune's Voronoi code,\n",
      "# CGAL and 3rd party plugin jet algorithms. See COPYING file for details.\n",
      "#--------------------------------------------------------------------------\n"
     ]
    }
   ],
   "source": [
    "import sys, os\n",
    "sys.path.insert(0, '')\n",
    "sys.path.append(\"/home/pku/zhaoyz/Higgs/LundReweighting\")\n",
    "from utils.LundReweighter import *\n",
    "from utils.Utils import *\n",
    "\"\"\" An example how to use the Lund Plane reweighting  code \"\"\"\n",
    "\n",
    "######################## Setup \n",
    "\n",
    "#Input file \n",
    "fname = \"/home/pku/zhaoyz/Higgs/LundReweighting/data/example_signal.h5\"\n",
    "#File containing data/MC Lund Plane ratio\n",
    "f_ratio_name = '/home/pku/zhaoyz/Higgs/LundReweighting/data/ratio_2018.root'\n",
    "\n",
    "f_sig = h5py.File(fname, \"r\")\n",
    "f_ratio = ROOT.TFile.Open(f_ratio_name)\n",
    "\n",
    "#Class to help read input dataset, \"Dataset\" class defined in Utils.py\n",
    "# d = Dataset(f_sig, dtype = 1)\n",
    "# d.compute_obs() #there may be some dedicated variables inside the .h5 file\n",
    "\n",
    "#The cut we will compute a SF for 'tau21 < 0.34'\n",
    "tag_obs = 'tau21'\n",
    "score_thresh = 0.975\n",
    "\n",
    "\n",
    "#nominal data/MC Lund plane ratio (3d histogram)\n",
    "h_ratio = f_ratio.Get(\"ratio_nom\")\n",
    "#systematic variations\n",
    "h_ratio_sys_up = f_ratio.Get(\"ratio_sys_tot_up\")\n",
    "h_ratio_sys_down = f_ratio.Get(\"ratio_sys_tot_down\")\n",
    "#MC ratio of b to light quarks\n",
    "b_light_ratio = f_ratio.Get(\"h_bl_ratio\")\n",
    "\n",
    "\n",
    "#directory of pt extrapolation fits\n",
    "f_ratio.cd('pt_extrap')\n",
    "rdir = ROOT.gDirectory #get the present working directory and give it to rdir\n",
    "\n",
    "#Main class for reweighting utilities\n",
    "LP_rw = LundReweighter(pt_extrap_dir = rdir)\n",
    "\n",
    "max_evts = 5000\n",
    "\n",
    "# score = getattr(d, tag_obs)[:max_evts]\n",
    "score_cut = ((HWWJets_tagger_score >= 0.8) & (HWWJets_tagger_score <= 0.975))\n",
    "# score_cut = (HWWJets_tagger_score > 0.975)\n",
    "score_cut = score_cut[:max_evts]\n",
    "\n",
    "\n",
    "#Number of toys for statistical and pt extrapolation uncertainties\n",
    "nToys = 100\n",
    "#Noise vectors used to to generate the toys\n",
    "#NOTE the same vector has to be used for the whole sample/signal file for the toys to be consistent \n",
    "rand_noise = np.random.normal(size = (nToys, h_ratio.GetNbinsX(), h_ratio.GetNbinsY(), h_ratio.GetNbinsZ()))\n",
    "pt_rand_noise = np.random.normal(size = (nToys, h_ratio.GetNbinsY(), h_ratio.GetNbinsZ(), 3))\n",
    "\n",
    "\n",
    "################### Compute reweighting factors\n",
    "\n",
    "#PF candidates in the AK8 jet\n",
    "# pf_cands = d.get_masked(\"jet1_PFCands\").astype(np.float64)[:max_evts]\n",
    "pf_cands = pf_cands_pxpypzE[:max_evts]\n",
    "#Generator level quarks from hard process\n",
    "\n",
    "# gen_parts = d.get_masked('gen_info')[:max_evts]\n",
    "gen_parts_eta_phi = gen_parts_eta_phi_HWW[:max_evts]\n",
    "# gen_parts_pdg_ids = gen_parts[:,:,3]\n",
    "\n",
    "B_PDG_ID = 5\n",
    "\n",
    "# ak8_jets = d.get_masked('jet_kinematics')[:max_evts][:,2:6].astype(np.float64)\n",
    "ak8_jets = higgs_jet_4vec[:max_evts]\n",
    "\n",
    "#Nominal event weights of the MC, assume every event is weight '1' for this example\n",
    "weights_nom = np.ones(max_evts)\n",
    "\n",
    "LP_weights = []\n",
    "LP_weights_sys_up = []\n",
    "LP_weights_sys_down = []\n",
    "stat_smeared_weights = []\n",
    "pt_smeared_weights = []\n",
    "b_weights_up = []\n",
    "b_weights_down = []\n",
    "bad_matches = []\n",
    "\n",
    "\n",
    "for i,cands in enumerate(pf_cands):\n",
    "    # if i == 4: break\n",
    "    # print(\"now processing:\",i)\n",
    "    #Get the subjets, splittings and checking matching based on PF candidates in the jet and gen-level quarks\n",
    "    subjets, splittings, bad_match, deltaRs = LP_rw.get_splittings_and_matching(cands, gen_parts_eta_phi[i], ak8_jets[i])\n",
    "    # print(bad_match)\n",
    "    # print(deltaRs)\n",
    "    #Gets the nominal LP reweighting factor for this event and statistical + pt extrapolation toys\n",
    "    LP_weight, stat_smeared_weight, pt_smeared_weight = LP_rw.reweight_lund_plane(h_rw = h_ratio, subjets = subjets, splittings = splittings,\n",
    "            rand_noise = rand_noise, pt_rand_noise = pt_rand_noise, )\n",
    "    #Now get systematic variations\n",
    "    LP_weight_sys_up,_,_ = LP_rw.reweight_lund_plane(h_rw = h_ratio_sys_up, subjets = subjets, splittings = splittings)\n",
    "    LP_weight_sys_down,_,_ = LP_rw.reweight_lund_plane(h_rw = h_ratio_sys_down, subjets = subjets, splittings = splittings)\n",
    "\n",
    "    LP_weights.append(LP_weight)\n",
    "    stat_smeared_weights.append(stat_smeared_weight)\n",
    "    pt_smeared_weights.append(pt_smeared_weight)\n",
    "\n",
    "    LP_weights_sys_up.append(LP_weight_sys_up)\n",
    "    LP_weights_sys_down.append(LP_weight_sys_down)\n",
    "    bad_matches.append(bad_match)\n",
    "\n",
    "\n",
    "\n",
    "############### Normalize weights to preserve normalization of the MC sample\n",
    "\n",
    "#The nominal Lund Plane correction event weights\n",
    "LP_weights = LP_rw.normalize_weights(LP_weights) * weights_nom \n",
    "\n",
    "#Toy variations for stat and pt uncertainties\n",
    "stat_smeared_weights = LP_rw.normalize_weights(stat_smeared_weights) * weights_nom.reshape(max_evts, 1)\n",
    "pt_smeared_weights = LP_rw.normalize_weights(pt_smeared_weights) * weights_nom.reshape(max_evts,1)\n",
    "\n",
    "#Systematic up/down variations\n",
    "LP_weights_sys_up = LP_rw.normalize_weights(LP_weights_sys_up) * weights_nom\n",
    "LP_weights_sys_down = LP_rw.normalize_weights(LP_weights_sys_down) * weights_nom\n",
    "\n",
    "############### Compute efficiences and uncertainties\n",
    "\n",
    "\n",
    "#Efficiency of the cut in nominal MC\n",
    "eff_nom = np.average(score_cut, weights = weights_nom) #TODO\n",
    "\n",
    "#Efficiency of the cut after the Lund Plane reweighting\n",
    "eff_rw = np.average(score_cut, weights = LP_weights)\n",
    "\n",
    "#Nominal 'scale factor'\n",
    "SF = eff_rw / eff_nom\n",
    "\n",
    "print(\"Nominal efficiency %.3f, Corrected efficiency %.3f, SF (corrected / nom) %.3f\" % (eff_nom, eff_rw, SF))\n",
    "\n",
    "#NOTE, better to use corrected efficiency computed separately for each sample rather than a single 'SF'\n",
    "\n",
    "\n",
    "#Compute efficiency for each of the stat/pt toys\n",
    "eff_toys = []\n",
    "pt_eff_toys = []\n",
    "for i in range(nToys):\n",
    "    eff = np.average(score_cut, weights = stat_smeared_weights[:,i])\n",
    "    eff_toys.append(eff)\n",
    "\n",
    "    eff1 = np.average(score_cut, weights = pt_smeared_weights[:,i])\n",
    "    pt_eff_toys.append(eff1)\n",
    "\n",
    "#Compute stat and pt uncertainty based on variation in the toys\n",
    "toys_mean = np.mean(eff_toys)\n",
    "toys_std = np.std(eff_toys)\n",
    "pt_toys_mean = np.mean(pt_eff_toys)\n",
    "pt_toys_std = np.std(pt_eff_toys)\n",
    "\n",
    "eff_stat_unc = (abs(toys_mean - eff_rw)  + toys_std) \n",
    "eff_pt_unc = (abs(pt_toys_mean - eff_rw) + pt_toys_std)\n",
    "\n",
    "print(\"Stat variation toys eff. avg %.3f, std dev %.3f\" % (toys_mean, toys_std))\n",
    "print(\"Pt variation toys eff. avg %.3f, std dev %.3f\" % (pt_toys_mean, pt_toys_std))\n",
    "\n",
    "\n",
    "#Compute difference in efficiency due to weight variations as uncertainty\n",
    "def get_uncs(score_cut, weights_up, weights_down, eff_baseline):\n",
    "    eff_up =  np.average(score_cut, weights = weights_up)\n",
    "    eff_down =  np.average(score_cut, weights = weights_down)\n",
    "\n",
    "    unc_up = eff_up - eff_baseline\n",
    "    unc_down = eff_down - eff_baseline \n",
    "    return unc_up, unc_down\n",
    "\n",
    "\n",
    "#Compute efficiency of systematic variations\n",
    "sys_unc_up, sys_unc_down = get_uncs(score_cut, LP_weights_sys_up, LP_weights_sys_down, eff_rw)\n",
    "# b_unc_up, b_unc_down = get_uncs(score_cut, b_weights_up, b_weights_down, eff_rw)\n",
    "\n",
    "\n",
    "#matching uncertainty, taken as a fractional uncertainty on efficiency\n",
    "bad_match_frac = np.mean(bad_matches)\n",
    "bad_match_unc = bad_match_frac * eff_rw\n",
    "\n",
    "\n",
    "############ Results\n",
    "print(\"\\n\\nCalibrated efficiency  is %.3f +/- %.3f  (stat) +/- %.3f (pt) +/- %.3f/%.3f (sys)+/- %.3f (matching)  \\n\\n\"  % \n",
    "        (eff_rw, eff_stat_unc, eff_pt_unc, sys_unc_up, sys_unc_down, bad_match_unc))\n",
    "\n",
    "#next compute the uncertainty about SFs\n",
    "\n",
    "#Efficiency of the cut in nominal MC\n",
    "eff_nom = np.average(score_cut, weights = weights_nom) #TODO\n",
    "\n",
    "#Efficiency of the cut after the Lund Plane reweighting\n",
    "eff_rw = np.average(score_cut, weights = LP_weights)\n",
    "\n",
    "#Nominal 'scale factor'\n",
    "print(\"Now perform SFs information\")\n",
    "SF = eff_rw / eff_nom\n",
    "\n",
    "print(\"SF (corrected / nom) %.3f\" % (SF))\n",
    "\n",
    "#propagate statistical and pt extrapolation uncertainties to SF\n",
    "SF_stat_unc = (abs(toys_mean - eff_rw)  + toys_std) /eff_nom\n",
    "SF_pt_unc = (abs(pt_toys_mean - eff_rw) + pt_toys_std) /eff_nom\n",
    "\n",
    "#propagate systemetic uncertainty to SF\n",
    "eff_sys_up =  np.average(score_cut, weights = LP_weights_sys_up)\n",
    "eff_sys_down =  np.average(score_cut, weights = LP_weights_sys_down)\n",
    "\n",
    "sys_unc_up = abs(eff_rw - eff_sys_up)\n",
    "sys_unc_down = abs(eff_rw - eff_sys_down)\n",
    "\n",
    "SF_sys_unc_up = sys_unc_up/eff_nom\n",
    "SF_sys_unc_down = sys_unc_down/eff_nom\n",
    "\n",
    "#calculate bad matching uncertainty directly\n",
    "SF_match_unc = bad_match_frac * SF\n",
    "\n",
    "print(\"\\n\\nSF is %.3f +/-%.3f(stat) +/-%.3f(pt) +%.3f/-%.3f(sys) +/-%.3f(match) \\n\\n\"  % (SF, SF_stat_unc, SF_pt_unc, sys_unc_up, sys_unc_down, SF_match_unc))\n",
    "f_ratio.Close()\n"
   ]
  },
  {
   "cell_type": "markdown",
   "metadata": {},
   "source": [
    "### Make some new plots"
   ]
  },
  {
   "cell_type": "code",
   "execution_count": 69,
   "metadata": {},
   "outputs": [
    {
     "data": {
      "text/plain": [
       "<Array [[0.000424, 0.00367, ... 0.000553]] type='17748 * var * float32[parameter...'>"
      ]
     },
     "execution_count": 69,
     "metadata": {},
     "output_type": "execute_result"
    }
   ],
   "source": [
    "events_final.FatJet.inclParTMDV1_probHWqqWev0c"
   ]
  },
  {
   "cell_type": "code",
   "execution_count": 70,
   "metadata": {},
   "outputs": [],
   "source": [
    "def get_one_file_score_HWW(events_final):\n",
    "    eventsScoreFatjet = events_final[H3q4q_cut]\n",
    "    # eventsScoreEventsID = eventsScore.arrays(['run', 'luminosityBlock', 'event', 'GenPart_pt','GenPart_eta','GenPart_phi','GenPart_mass','GenPart_genPartIdxMother','GenPart_pdgId', \"GenPart_status\", \"FatJet_pt\",\"FatJet_eta\",\"FatJet_phi\",\"FatJet_mass\", \"FatJetPFCands_jetIdx\", \"FatJetPFCands_pFCandsIdx\", \"PFCands_pt\", \"PFCands_eta\", \"PFCands_phi\", \"PFCands_mass\"], library=\"pd\")\n",
    "    # eventsScoreFatjet = eventsScore.arrays(['FatJet_inclParTMDV1_probHWqqWev0c', 'FatJet_inclParTMDV1_probHWqqWev1c', 'FatJet_inclParTMDV1_probHWqqWmv0c', 'FatJet_inclParTMDV1_probHWqqWmv1c', 'FatJet_inclParTMDV1_probHWqqWq0c', 'FatJet_inclParTMDV1_probHWqqWq1c', 'FatJet_inclParTMDV1_probHWqqWq2c', 'FatJet_inclParTMDV1_probHWqqWqq0c', 'FatJet_inclParTMDV1_probHWqqWqq1c', 'FatJet_inclParTMDV1_probHWqqWqq2c', 'FatJet_inclParTMDV1_probHWqqWtauev0c', 'FatJet_inclParTMDV1_probHWqqWtauev1c', 'FatJet_inclParTMDV1_probHWqqWtauhv0c', 'FatJet_inclParTMDV1_probHWqqWtauhv1c', 'FatJet_inclParTMDV1_probHWqqWtaumv0c', 'FatJet_inclParTMDV1_probHWqqWtaumv1c'])\n",
    "    HqqqqVsQcdTop = eventsScoreFatjet.FatJet.inclParTMDV1_probHWqqWev0c + eventsScoreFatjet.FatJet.inclParTMDV1_probHWqqWev1c + eventsScoreFatjet.FatJet.inclParTMDV1_probHWqqWmv0c + eventsScoreFatjet.FatJet.inclParTMDV1_probHWqqWmv1c + eventsScoreFatjet.FatJet.inclParTMDV1_probHWqqWq0c + eventsScoreFatjet.FatJet.inclParTMDV1_probHWqqWq1c + eventsScoreFatjet.FatJet.inclParTMDV1_probHWqqWq2c + eventsScoreFatjet.FatJet.inclParTMDV1_probHWqqWqq0c + eventsScoreFatjet.FatJet.inclParTMDV1_probHWqqWqq1c + eventsScoreFatjet.FatJet.inclParTMDV1_probHWqqWqq2c + eventsScoreFatjet.FatJet.inclParTMDV1_probHWqqWtauev0c + eventsScoreFatjet.FatJet.inclParTMDV1_probHWqqWtauev1c + eventsScoreFatjet.FatJet.inclParTMDV1_probHWqqWtauhv0c + eventsScoreFatjet.FatJet.inclParTMDV1_probHWqqWtauhv1c + eventsScoreFatjet.FatJet.inclParTMDV1_probHWqqWtaumv0c + eventsScoreFatjet.FatJet.inclParTMDV1_probHWqqWtaumv1c\n",
    "    #actually here it's HWWvsAll background tagger, but still named HqqqqVsQCDTop    \n",
    "    leading_HqqqqVsQcdTop = ak.Array(ak.max(HqqqqVsQcdTop, axis=1) )#because each event has more than 1 jet\n",
    "    eventsScoreFatjet[\"HqqqqVsQcdTop\"] = list(leading_HqqqqVsQcdTop) # why use list here?\n",
    "    # eventsScoreFatjet[\"HqqqqVsQcdTop\"] = eventsScoreFatjet[\"HqqqqVsQcdTop\"]\n",
    "    return eventsScoreFatjet \n",
    "a = get_one_file_score_HWW(events_final)"
   ]
  },
  {
   "cell_type": "code",
   "execution_count": 71,
   "metadata": {},
   "outputs": [
    {
     "data": {
      "image/png": "[encoded data removed]",
      "text/plain": [
       "<Figure size 1000x1000 with 1 Axes>"
      ]
     },
     "metadata": {},
     "output_type": "display_data"
    }
   ],
   "source": [
    "import matplotlib as mpl\n",
    "import matplotlib.pyplot as plt\n",
    "import mplhep as hep\n",
    "import boost_histogram as bh\n",
    "from cycler import cycler\n",
    "max_evts = 5000\n",
    "#implement CMS plot style functions\n",
    "use_helvet = False ## true: use helvetica for plots, make sure the system have the font installed\n",
    "if use_helvet:\n",
    "    CMShelvet = hep.style.CMS\n",
    "    CMShelvet['font.sans-serif'] = ['Helvetica', 'Arial']\n",
    "    plt.style.use(CMShelvet)\n",
    "else:\n",
    "    plt.style.use(hep.style.CMS)\n",
    "\n",
    "plt.figure(figsize=(10,10))\n",
    "ax=plt.gca()\n",
    "plt.grid()\n",
    "hep.cms.label(data=False, year=\"2018\", ax=ax, fontname='sans-serif')\n",
    "%matplotlib inline\n",
    "#step1: plot \n",
    "\n",
    "# plt.hist(eventsEventsID3Prongs4Prongs['HqqqqVsQcdTop'], bins=20, range=(0,1), histtype='step', label='before reweighting',density=True);\n",
    "# plt.hist(eventsEventsID3Prongs4Prongs['HqqqqVsQcdTop'], bins=20, range=(0,1), histtype='step', label='after reweighting', weights=eventsEventsID3Prongs4Prongs[\"LP_weight\"],density=True);\n",
    "nbins, x_min, x_max = 20, 0, 1.0\n",
    "hist_before = bh.Histogram(bh.axis.Regular(nbins, x_min, x_max), storage=bh.storage.Weight())\n",
    "hist_before.fill(HWWJets_tagger_score[:max_evts])\n",
    "hist_before_value = hist_before.view().value\n",
    "hist_before_err = np.sqrt(hist_before.view().variance)\n",
    "hist_after = bh.Histogram(bh.axis.Regular(nbins, x_min, x_max), storage=bh.storage.Weight())\n",
    "hist_after.fill(HWWJets_tagger_score[:max_evts],weight=LP_weights[:max_evts])\n",
    "hist_after_value = hist_after.view().value\n",
    "hist_after_err = np.sqrt(hist_after.view().variance)\n",
    "bins = hist_before.axes[0].edges\n",
    "\n",
    "\n",
    "hep.histplot(hist_before_value,    bins=bins, yerr=hist_before_err, label= 'before Lund Plane reweighting', lw = 2,edges = False, histtype=\"step\")\n",
    "hep.histplot(hist_after_value,     bins=bins, yerr=hist_after_err,  label= 'after Lund Plane reweighting', lw = 2,edges = False, histtype=\"step\")\n",
    "\n",
    "\n",
    "plt.legend(loc='upper left',frameon=False,fontsize=20)\n",
    "y_min,y_max = plt.gca().get_ylim()\n",
    "plt.text(0.08, 0.83*y_max, \"ggF\", fontsize=20)\n",
    "# plt.xlabel(r'$H_{qqqq} / (H_{qqqq} + QCD + Top)$')\n",
    "plt.xlabel(r'HWWvs(all background) tagger score', fontsize=20, ha='right', x=1)\n",
    "plt.ylabel('Events(No xs-weighted)',fontsize=20, ha='right', y=1)\n",
    "plt.savefig(f\"TaggerDistribution_2018_ggF_H4q3qlvqq.pdf\", bbox_inches='tight')\n",
    "plt.xticks(size=14)\n",
    "plt.yticks(size=14)\n",
    "plt.show()\n"
   ]
  },
  {
   "cell_type": "markdown",
   "metadata": {},
   "source": [
    "## Next part is to re-calculate all the steps but focus on Hlvqq jet"
   ]
  },
  {
   "cell_type": "code",
   "execution_count": 72,
   "metadata": {},
   "outputs": [
    {
     "data": {
      "text/plain": [
       "<Array [{Electron: [Electron], ... ] type='27043 * {\"Electron\": var * electron, ...'>"
      ]
     },
     "execution_count": 72,
     "metadata": {},
     "output_type": "execute_result"
    }
   ],
   "source": [
    "#start from here, have done all pre-selection, as well as H-->WW decay selection\n",
    "filtered_events"
   ]
  },
  {
   "cell_type": "code",
   "execution_count": 73,
   "metadata": {},
   "outputs": [],
   "source": [
    "#Then do other test:\n",
    "selection = PackedSelection() #initialize a new object\n",
    "isData = False\n",
    "signGenWeights = None if isData else np.sign(filtered_events[\"genWeight\"]) #get genWeight sign, because only the sign matters\n",
    "n_events = len(filtered_events) if isData else int(np.sum(signGenWeights)) #events number for MC events should be the sum of \"sign\"\n",
    "selection = PackedSelection() #initialize a new object\n",
    "\n",
    "cutflow = {}\n",
    "# cutflow[\"all\"] = len(events) #shouldn't be n_events?\n",
    "cutflow[\"all\"] = n_events\n",
    "# finding the gen higgs\n",
    "higgs = filtered_events.GenPart[\n",
    "    (abs(filtered_events.GenPart.pdgId) == HIGGS_PDGID) * filtered_events.GenPart.hasFlags(GEN_FLAGS)\n",
    "]\n",
    "# saving 4-vector info\n",
    "GenHiggsVars = {f\"GenHiggs{key}\": higgs[var].to_numpy() for (var, key) in skim_vars.items()}\n",
    "\n",
    "higgs_children = higgs.children\n",
    "\n",
    "# saving whether H->bb or H->VV\n",
    "GenHiggsVars[\"GenHiggsChildren\"] = abs(higgs_children.pdgId[:, :, 0]).to_numpy()\n",
    "\n",
    "# finding WW children\n",
    "is_WW = abs(higgs_children.pdgId) == W_PDGID\n",
    "\n",
    "# Hbb = higgs[ak.sum(is_bb, axis=2) == 2]\n",
    "HWW = higgs[ak.sum(is_WW, axis=2) == 2]\n",
    "\n",
    "# checking that there are 2 b's and 2 V's\n",
    "has_WW = ak.sum(ak.flatten(is_WW, axis=2), axis=1) == 2\n",
    "\n",
    "add_selection(\n",
    "    \"HtoWW\",\n",
    "    has_WW, \n",
    "    selection, \n",
    "    cutflow, \n",
    "    False, \n",
    "    signGenWeights)\n",
    "# print(selection_all_q)\n",
    "\n",
    "\n",
    "\n",
    "# saving WW 4-vector info\n",
    "WW = ak.flatten(higgs_children[is_WW], axis=2)\n",
    "\n",
    "#for normal ggF, VBF HWW signal\n",
    "GenWWVars = {\n",
    "    f\"GenWW{key}\": WW[var].to_numpy() for (var, key) in skim_vars.items()\n",
    "    }\n",
    "\n",
    "#for ttHnonbb HWW signal, because there may not be H-->WW events\n",
    "# GenWWVars = {\n",
    "#     f\"GenWW{key}\": pad_val(WW[var], 2, FILL_NONE_VALUE, axis=1) for (var, key) in skim_vars.items()\n",
    "#     }\n",
    "\n",
    "# checking that each W has 2 q children, so finally the HWW jet will be H4q or H3q jet\n",
    "WW_children = WW.children\n",
    "\n",
    "quarks = abs(WW_children.pdgId) <= b_PDGID #get all the 2 Ws daughter PDGID <=5 information\n",
    "leptons = abs(WW_children.pdgId) >= ELE_PDGID\n",
    "\n",
    "selection_all_q = ak.all(ak.all(quarks, axis=2), axis=1) #check if all the children of 2 Ws are quarks or not\n",
    "selection_all_lep = ak.all(ak.all(leptons, axis=2), axis=1)\n",
    "\n"
   ]
  },
  {
   "cell_type": "code",
   "execution_count": 74,
   "metadata": {},
   "outputs": [],
   "source": [
    "selection_semilep = (~selection_all_q) & (~selection_all_lep)"
   ]
  },
  {
   "cell_type": "code",
   "execution_count": 75,
   "metadata": {},
   "outputs": [],
   "source": [
    "add_selection(\n",
    "    \"WW decays to lvqq\",\n",
    "    selection_semilep, \n",
    "    selection, \n",
    "    cutflow, \n",
    "    False, \n",
    "    signGenWeights)\n",
    "# print(selection_all_q)"
   ]
  },
  {
   "cell_type": "code",
   "execution_count": 76,
   "metadata": {},
   "outputs": [
    {
     "data": {
      "text/plain": [
       "{'all': 27037, 'HtoWW': 27037.0, 'WW decays to lvqq': 5291.0}"
      ]
     },
     "execution_count": 76,
     "metadata": {},
     "output_type": "execute_result"
    }
   ],
   "source": [
    "cutflow"
   ]
  },
  {
   "cell_type": "markdown",
   "metadata": {},
   "source": [
    "### store the PFCands, GenEtaPhi, Higgs candidate AK8 jet 4-vector information for Lund Plane use"
   ]
  },
  {
   "cell_type": "code",
   "execution_count": 77,
   "metadata": {},
   "outputs": [
    {
     "data": {
      "text/plain": [
       "<Array [{Electron: [Electron], ... ] type='5291 * {\"Electron\": var * electron, \"...'>"
      ]
     },
     "execution_count": 77,
     "metadata": {},
     "output_type": "execute_result"
    }
   ],
   "source": [
    "events_after_cut = filtered_events[selection.all(*selection.names)]\n",
    "events_after_cut"
   ]
  },
  {
   "cell_type": "code",
   "execution_count": 78,
   "metadata": {},
   "outputs": [],
   "source": [
    "#find the Higgs jet idx, dR(gen_Higgs, jet)<0.8 & dR(gen_W_1, jet)<0.8 & dR(gen_W_2, jet)<0.8\n",
    "\n",
    "#collect gen-Higgs information\n",
    "higgs = events_after_cut.GenPart[\n",
    "    (abs(events_after_cut.GenPart.pdgId) == HIGGS_PDGID) * events_after_cut.GenPart.hasFlags(GEN_FLAGS)\n",
    "]\n",
    "GenHiggsVars = {\n",
    "    f\"GenHiggs{key}\": higgs[var].to_numpy() for (var, key) in skim_vars.items()\n",
    "    }\n",
    "higgs_children = higgs.children\n",
    "\n",
    "# collect gen-Higgs children WW information, may not be used, since only Higgs information is needed for the matching\n",
    "is_WW = abs(higgs_children.pdgId) == W_PDGID\n",
    "WW = ak.flatten(higgs_children[is_WW], axis=2)\n",
    "\n",
    "GenWWVars = {\n",
    "    # f\"GenWW{key}\": WW[var].to_numpy() for (var, key) in skim_vars.items()\n",
    "    f\"GenWW{key}\": pad_val(WW[var], 2, FILL_NONE_VALUE, axis=1) for (var, key) in skim_vars.items()\n",
    "    }\n",
    "GenW1Vars = {\n",
    "    # f\"GenWW{key}\": WW[var][:,0].to_numpy() for (var, key) in skim_vars.items()\n",
    "    f\"GenWW{key}\": pad_val(WW[var], 2, FILL_NONE_VALUE, axis=1)[:,0] for (var, key) in skim_vars.items()\n",
    "    }\n",
    "GenW2Vars = {\n",
    "    # f\"GenWW{key}\": WW[var][:,1].to_numpy() for (var, key) in skim_vars.items()\n",
    "    f\"GenWW{key}\": pad_val(WW[var], 2, FILL_NONE_VALUE, axis=1)[:,1] for (var, key) in skim_vars.items()\n",
    "    }\n",
    "\n",
    "#collect FatJet information\n",
    "fatjets = events_after_cut.FatJet\n",
    "HWW = ak.pad_none(higgs, 1, axis=1, clip=True)[:, 0] #because it's a 2D array\n",
    "WWdr = fatjets[:, :3].delta_r(HWW) #here use 3 because we have up to 3 AK8 jets, use ak.max(ak.num(WWdr,axis = 1)) for test\n",
    "match_dR = 0.8\n",
    "HWW_match = WWdr <= match_dR #FatJetIdx in each event, which is real HWW jet\n",
    "HWWJets = ak.pad_none(fatjets[HWW_match], 1, axis=1)[:, 0] #There can be None object in HWWJets array\n",
    "#tie [pt, eta, phi, mass] together, get new arrary\n",
    "\n",
    "\n"
   ]
  },
  {
   "cell_type": "code",
   "execution_count": 79,
   "metadata": {},
   "outputs": [
    {
     "data": {
      "text/plain": [
       "array([ True,  True, False, ...,  True,  True,  True])"
      ]
     },
     "execution_count": 79,
     "metadata": {},
     "output_type": "execute_result"
    }
   ],
   "source": [
    "filled_pt = pad_val(HWWJets.pt,len(HWWJets.pt),-99)\n",
    "selection_has_HWWjet = filled_pt > 0\n",
    "selection_has_HWWjet"
   ]
  },
  {
   "cell_type": "code",
   "execution_count": 80,
   "metadata": {},
   "outputs": [
    {
     "data": {
      "text/plain": [
       "<Array [{Electron: [Electron], ... ] type='4699 * {\"Electron\": var * electron, \"...'>"
      ]
     },
     "execution_count": 80,
     "metadata": {},
     "output_type": "execute_result"
    }
   ],
   "source": [
    "events_final = events_after_cut[selection_has_HWWjet]\n",
    "len(events_final)\n",
    "events_final"
   ]
  },
  {
   "cell_type": "markdown",
   "metadata": {},
   "source": [
    "### Do it again after the final cut"
   ]
  },
  {
   "cell_type": "code",
   "execution_count": 81,
   "metadata": {},
   "outputs": [
    {
     "name": "stdout",
     "output_type": "stream",
     "text": [
      "[[[False, False], [True, True]], [[False, ... True]], [[True, True], [False, False]]]\n"
     ]
    },
    {
     "data": {
      "text/plain": [
       "4699"
      ]
     },
     "execution_count": 81,
     "metadata": {},
     "output_type": "execute_result"
    }
   ],
   "source": [
    "#find the Higgs jet idx, dR(gen_Higgs, jet)<0.8 & dR(gen_W_1, jet)<0.8 & dR(gen_W_2, jet)<0.8\n",
    "\n",
    "#collect gen-Higgs information\n",
    "higgs = events_final.GenPart[\n",
    "    (abs(events_final.GenPart.pdgId) == HIGGS_PDGID) * events_final.GenPart.hasFlags(GEN_FLAGS)\n",
    "]\n",
    "GenHiggsVars = {\n",
    "    f\"GenHiggs{key}\": higgs[var].to_numpy() for (var, key) in skim_vars.items()\n",
    "    }\n",
    "higgs_children = higgs.children\n",
    "\n",
    "# collect gen-Higgs children WW information, may not be used, since only Higgs information is needed for the matching\n",
    "is_WW = abs(higgs_children.pdgId) == W_PDGID\n",
    "WW = ak.flatten(higgs_children[is_WW], axis=2)\n",
    "\n",
    "GenWWVars = {\n",
    "    f\"GenWW{key}\": WW[var].to_numpy() for (var, key) in skim_vars.items()\n",
    "    }\n",
    "GenW1Vars = {\n",
    "    f\"GenWW{key}\": WW[var][:,0].to_numpy() for (var, key) in skim_vars.items()\n",
    "    }\n",
    "GenW2Vars = {\n",
    "    f\"GenWW{key}\": WW[var][:,1].to_numpy() for (var, key) in skim_vars.items()\n",
    "    }\n",
    "\n",
    "#collect FatJet information\n",
    "fatjets = events_final.FatJet\n",
    "HWW = ak.pad_none(higgs, 1, axis=1, clip=True)[:, 0] #because it's a 2D array\n",
    "WWdr = fatjets[:, :3].delta_r(HWW) #here use 3 because we have up to 3 AK8 jets, use ak.max(ak.num(WWdr,axis = 1)) for test\n",
    "match_dR = 0.8\n",
    "HWW_match = WWdr <= match_dR #FatJetIdx in each event, which is real HWW jet\n",
    "HWWJets = ak.pad_none(fatjets[HWW_match], 1, axis=1)[:, 0] #There can be None object in HWWJets array\n",
    "#tie [pt, eta, phi, mass] together, get new arrary\n",
    "\n",
    "\n",
    "WW_children = WW.children\n",
    "\n",
    "quarks = abs(WW_children.pdgId) <= b_PDGID #get all the 2 Ws daughter PDGID <=5 information\n",
    "print(quarks)\n",
    "\n",
    "# saving 4q 4-vector info\n",
    "Gen4qVars = {\n",
    "    f\"Gen4q{key}\": ak.to_numpy(\n",
    "        ak.fill_none(\n",
    "            ak.pad_none(ak.pad_none(WW_children[var], 2, axis=1, clip=True), 2, axis=2, clip=True),\n",
    "            FILL_NONE_VALUE,\n",
    "        )\n",
    "    )\n",
    "    for (var, key) in skim_vars.items()\n",
    "}\n",
    "len(Gen4qVars[\"Gen4qPt\"])"
   ]
  },
  {
   "cell_type": "code",
   "execution_count": null,
   "metadata": {},
   "outputs": [],
   "source": []
  },
  {
   "cell_type": "code",
   "execution_count": 82,
   "metadata": {},
   "outputs": [],
   "source": [
    "had_w_sel = np.all(np.abs(WW_children.pdgId) <= 5 , axis =2 )\n",
    "had_ws = ak.flatten(WW[had_w_sel])\n",
    "had_ws_children = had_ws.children"
   ]
  },
  {
   "cell_type": "code",
   "execution_count": 83,
   "metadata": {},
   "outputs": [],
   "source": [
    "sel_norm = ~np.all((~had_w_sel),axis =1 )\n"
   ]
  },
  {
   "cell_type": "code",
   "execution_count": 84,
   "metadata": {},
   "outputs": [
    {
     "data": {
      "text/plain": [
       "<Array [True, True, True, ... True, True, True] type='4699 * bool'>"
      ]
     },
     "execution_count": 84,
     "metadata": {},
     "output_type": "execute_result"
    }
   ],
   "source": [
    "sel_norm"
   ]
  },
  {
   "cell_type": "markdown",
   "metadata": {},
   "source": [
    "### Some strange bugs occur, so do it again:"
   ]
  },
  {
   "cell_type": "code",
   "execution_count": 85,
   "metadata": {},
   "outputs": [
    {
     "data": {
      "text/plain": [
       "4698"
      ]
     },
     "execution_count": 85,
     "metadata": {},
     "output_type": "execute_result"
    }
   ],
   "source": [
    "events_final = events_final[sel_norm]\n",
    "len(events_final)\n"
   ]
  },
  {
   "cell_type": "code",
   "execution_count": 86,
   "metadata": {},
   "outputs": [
    {
     "name": "stdout",
     "output_type": "stream",
     "text": [
      "[[[False, False], [True, True]], [[False, ... True]], [[True, True], [False, False]]]\n"
     ]
    },
    {
     "data": {
      "text/plain": [
       "4698"
      ]
     },
     "execution_count": 86,
     "metadata": {},
     "output_type": "execute_result"
    }
   ],
   "source": [
    "#find the Higgs jet idx, dR(gen_Higgs, jet)<0.8 & dR(gen_W_1, jet)<0.8 & dR(gen_W_2, jet)<0.8\n",
    "\n",
    "#collect gen-Higgs information\n",
    "higgs = events_final.GenPart[\n",
    "    (abs(events_final.GenPart.pdgId) == HIGGS_PDGID) * events_final.GenPart.hasFlags(GEN_FLAGS)\n",
    "]\n",
    "GenHiggsVars = {\n",
    "    f\"GenHiggs{key}\": higgs[var].to_numpy() for (var, key) in skim_vars.items()\n",
    "    }\n",
    "higgs_children = higgs.children\n",
    "\n",
    "# collect gen-Higgs children WW information, may not be used, since only Higgs information is needed for the matching\n",
    "is_WW = abs(higgs_children.pdgId) == W_PDGID\n",
    "WW = ak.flatten(higgs_children[is_WW], axis=2)\n",
    "\n",
    "GenWWVars = {\n",
    "    f\"GenWW{key}\": WW[var].to_numpy() for (var, key) in skim_vars.items()\n",
    "    }\n",
    "GenW1Vars = {\n",
    "    f\"GenWW{key}\": WW[var][:,0].to_numpy() for (var, key) in skim_vars.items()\n",
    "    }\n",
    "GenW2Vars = {\n",
    "    f\"GenWW{key}\": WW[var][:,1].to_numpy() for (var, key) in skim_vars.items()\n",
    "    }\n",
    "\n",
    "#collect FatJet information\n",
    "fatjets = events_final.FatJet\n",
    "HWW = ak.pad_none(higgs, 1, axis=1, clip=True)[:, 0] #because it's a 2D array\n",
    "WWdr = fatjets[:, :3].delta_r(HWW) #here use 3 because we have up to 3 AK8 jets, use ak.max(ak.num(WWdr,axis = 1)) for test\n",
    "match_dR = 0.8\n",
    "HWW_match = WWdr <= match_dR #FatJetIdx in each event, which is real HWW jet\n",
    "HWWJets = ak.pad_none(fatjets[HWW_match], 1, axis=1)[:, 0] #There can be None object in HWWJets array\n",
    "#tie [pt, eta, phi, mass] together, get new arrary\n",
    "\n",
    "\n",
    "WW_children = WW.children\n",
    "\n",
    "quarks = abs(WW_children.pdgId) <= b_PDGID #get all the 2 Ws daughter PDGID <=5 information\n",
    "print(quarks)\n",
    "\n",
    "# saving 4q 4-vector info\n",
    "Gen4qVars = {\n",
    "    f\"Gen4q{key}\": ak.to_numpy(\n",
    "        ak.fill_none(\n",
    "            ak.pad_none(ak.pad_none(WW_children[var], 2, axis=1, clip=True), 2, axis=2, clip=True),\n",
    "            FILL_NONE_VALUE,\n",
    "        )\n",
    "    )\n",
    "    for (var, key) in skim_vars.items()\n",
    "}\n",
    "len(Gen4qVars[\"Gen4qPt\"])"
   ]
  },
  {
   "cell_type": "markdown",
   "metadata": {},
   "source": [
    "### Now it's normal"
   ]
  },
  {
   "cell_type": "code",
   "execution_count": 87,
   "metadata": {},
   "outputs": [],
   "source": [
    "had_w_sel = np.all(np.abs(WW_children.pdgId) <= 5 , axis =2 )\n",
    "had_ws = ak.flatten(WW[had_w_sel])\n",
    "had_ws_children = had_ws.children"
   ]
  },
  {
   "cell_type": "code",
   "execution_count": 88,
   "metadata": {},
   "outputs": [],
   "source": [
    "lep_w_sel = np.all(np.abs(WW_children.pdgId) > 10 , axis =2 )\n",
    "lep_ws = ak.flatten(WW[lep_w_sel])\n",
    "lep_ws_children = lep_ws.children"
   ]
  },
  {
   "cell_type": "code",
   "execution_count": 89,
   "metadata": {},
   "outputs": [
    {
     "data": {
      "text/plain": [
       "<Array [[3, -4], [1, -2], ... [3, -4], [-1, 2]] type='4698 * option[var * ?int32...'>"
      ]
     },
     "execution_count": 89,
     "metadata": {},
     "output_type": "execute_result"
    }
   ],
   "source": [
    "had_ws_children.pdgId"
   ]
  },
  {
   "cell_type": "code",
   "execution_count": 90,
   "metadata": {},
   "outputs": [
    {
     "data": {
      "text/plain": [
       "<Array [[-15, 16], [-15, ... 16], [15, -16]] type='4698 * option[var * ?int32[pa...'>"
      ]
     },
     "execution_count": 90,
     "metadata": {},
     "output_type": "execute_result"
    }
   ],
   "source": [
    "lep_ws_children.pdgId"
   ]
  },
  {
   "cell_type": "code",
   "execution_count": 91,
   "metadata": {},
   "outputs": [
    {
     "data": {
      "text/plain": [
       "4698"
      ]
     },
     "execution_count": 91,
     "metadata": {},
     "output_type": "execute_result"
    }
   ],
   "source": [
    "Gen2qVars = {\n",
    "    f\"Gen2q{key}\": ak.to_numpy(\n",
    "        ak.fill_none(\n",
    "            ak.pad_none(had_ws_children[var], 2, axis=1, clip=True),\n",
    "            FILL_NONE_VALUE,\n",
    "        )\n",
    "    )\n",
    "    for (var, key) in skim_vars.items()\n",
    "}\n",
    "len(Gen2qVars[\"Gen2qPt\"])\n",
    "\n"
   ]
  },
  {
   "cell_type": "code",
   "execution_count": 92,
   "metadata": {},
   "outputs": [
    {
     "data": {
      "text/plain": [
       "<GenParticleArray [GenParticle, GenParticle] type='2 * ?genParticle'>"
      ]
     },
     "execution_count": 92,
     "metadata": {},
     "output_type": "execute_result"
    }
   ],
   "source": [
    "lep_ws_children[1]"
   ]
  },
  {
   "cell_type": "code",
   "execution_count": 93,
   "metadata": {},
   "outputs": [
    {
     "data": {
      "text/plain": [
       "4698"
      ]
     },
     "execution_count": 93,
     "metadata": {},
     "output_type": "execute_result"
    }
   ],
   "source": [
    "GenlepVars = {\n",
    "    f\"Genlep{key}\": ak.to_numpy(\n",
    "        lep_ws_children[:,0][var])\n",
    "    for (var, key) in skim_vars.items()\n",
    "}\n",
    "len(GenlepVars[\"GenlepPt\"])"
   ]
  },
  {
   "cell_type": "code",
   "execution_count": 94,
   "metadata": {},
   "outputs": [
    {
     "data": {
      "text/plain": [
       "67.5"
      ]
     },
     "execution_count": 94,
     "metadata": {},
     "output_type": "execute_result"
    }
   ],
   "source": [
    "GenlepVars[\"GenlepPt\"][0]"
   ]
  },
  {
   "cell_type": "code",
   "execution_count": 95,
   "metadata": {},
   "outputs": [
    {
     "data": {
      "text/plain": [
       "masked_array(data=[147.5, 398. ],\n",
       "             mask=False,\n",
       "       fill_value=1e+20)"
      ]
     },
     "execution_count": 95,
     "metadata": {},
     "output_type": "execute_result"
    }
   ],
   "source": [
    "Gen2qVars[\"Gen2qPt\"][0]"
   ]
  },
  {
   "cell_type": "code",
   "execution_count": 96,
   "metadata": {},
   "outputs": [
    {
     "data": {
      "text/plain": [
       "masked_array(\n",
       "  data=[[ 67.5  ,  52.375],\n",
       "        [147.5  , 398.   ]],\n",
       "  mask=False,\n",
       "  fill_value=1e+20)"
      ]
     },
     "execution_count": 96,
     "metadata": {},
     "output_type": "execute_result"
    }
   ],
   "source": [
    "Gen4qVars[\"Gen4qPt\"][0]"
   ]
  },
  {
   "cell_type": "markdown",
   "metadata": {},
   "source": [
    "### four vector for HWW jet"
   ]
  },
  {
   "cell_type": "code",
   "execution_count": 97,
   "metadata": {},
   "outputs": [
    {
     "data": {
      "text/plain": [
       "array([264.25      ,  -0.5539551 ,   0.26501465,  66.4375    ],\n",
       "      dtype=float32)"
      ]
     },
     "execution_count": 97,
     "metadata": {},
     "output_type": "execute_result"
    }
   ],
   "source": [
    "# four vector for HWW jet\n",
    "higgs_jet_4vec = np.array(np.stack((np.array(HWWJets.pt), np.array(HWWJets.eta),np.array(HWWJets.phi),np.array(HWWJets.mass)), axis=1))\n",
    "higgs_jet_4vec[1]"
   ]
  },
  {
   "cell_type": "code",
   "execution_count": 98,
   "metadata": {},
   "outputs": [
    {
     "data": {
      "text/plain": [
       "4698"
      ]
     },
     "execution_count": 98,
     "metadata": {},
     "output_type": "execute_result"
    }
   ],
   "source": [
    "len(higgs_jet_4vec)"
   ]
  },
  {
   "cell_type": "code",
   "execution_count": 99,
   "metadata": {},
   "outputs": [
    {
     "data": {
      "text/plain": [
       "array([6.0300000e+02, 3.2922363e-01, 1.0476074e+00, 1.2781250e+02],\n",
       "      dtype=float32)"
      ]
     },
     "execution_count": 99,
     "metadata": {},
     "output_type": "execute_result"
    }
   ],
   "source": [
    "higgs_jet_4vec[0]"
   ]
  },
  {
   "cell_type": "markdown",
   "metadata": {},
   "source": [
    "### Next for eta-phi for 4 quarks"
   ]
  },
  {
   "cell_type": "code",
   "execution_count": 100,
   "metadata": {},
   "outputs": [
    {
     "data": {
      "text/plain": [
       "masked_array(data=[ 0.69921875, -1.015625  ,  0.0793457 , -0.9296875 ],\n",
       "             mask=False,\n",
       "       fill_value=1e+20,\n",
       "            dtype=float32)"
      ]
     },
     "execution_count": 100,
     "metadata": {},
     "output_type": "execute_result"
    }
   ],
   "source": [
    "GenlepVars[\"GenlepEta\"][:4]"
   ]
  },
  {
   "cell_type": "code",
   "execution_count": 101,
   "metadata": {},
   "outputs": [
    {
     "data": {
      "text/plain": [
       "masked_array(data=[ 0.9355469 ,  0.20410156,  0.6328125 , -0.6621094 ],\n",
       "             mask=False,\n",
       "       fill_value=1e+20,\n",
       "            dtype=float32)"
      ]
     },
     "execution_count": 101,
     "metadata": {},
     "output_type": "execute_result"
    }
   ],
   "source": [
    "GenlepVars[\"GenlepPhi\"][:4]"
   ]
  },
  {
   "cell_type": "code",
   "execution_count": 102,
   "metadata": {},
   "outputs": [
    {
     "data": {
      "text/plain": [
       "masked_array(\n",
       "  data=[[ 0.20410156,  0.30175781],\n",
       "        [-0.50390625, -0.54882812],\n",
       "        [ 0.0067749 ,  0.06616211],\n",
       "        [-1.02734375, -0.30957031]],\n",
       "  mask=False,\n",
       "  fill_value=1e+20)"
      ]
     },
     "execution_count": 102,
     "metadata": {},
     "output_type": "execute_result"
    }
   ],
   "source": [
    "Gen2qVars[\"Gen2qEta\"][:4]"
   ]
  },
  {
   "cell_type": "code",
   "execution_count": 103,
   "metadata": {},
   "outputs": [
    {
     "data": {
      "text/plain": [
       "masked_array(\n",
       "  data=[[ 1.28515625,  0.97265625],\n",
       "        [-0.14160156,  0.40820312],\n",
       "        [ 0.9453125 ,  1.0390625 ],\n",
       "        [-0.68164062, -1.04296875]],\n",
       "  mask=False,\n",
       "  fill_value=1e+20)"
      ]
     },
     "execution_count": 103,
     "metadata": {},
     "output_type": "execute_result"
    }
   ],
   "source": [
    "Gen2qVars[\"Gen2qPhi\"][:4]"
   ]
  },
  {
   "cell_type": "code",
   "execution_count": 104,
   "metadata": {},
   "outputs": [],
   "source": [
    "eta = np.concatenate([Gen2qVars[\"Gen2qEta\"], GenlepVars[\"GenlepEta\"][:, np.newaxis]], axis=1)\n",
    "phi = np.concatenate([Gen2qVars[\"Gen2qPhi\"], GenlepVars[\"GenlepPhi\"][:, np.newaxis]], axis=1)"
   ]
  },
  {
   "cell_type": "code",
   "execution_count": 105,
   "metadata": {},
   "outputs": [
    {
     "data": {
      "text/plain": [
       "masked_array(\n",
       "  data=[[ 0.20410156,  0.30175781,  0.69921875],\n",
       "        [-0.50390625, -0.54882812, -1.015625  ],\n",
       "        [ 0.0067749 ,  0.06616211,  0.0793457 ],\n",
       "        [-1.02734375, -0.30957031, -0.9296875 ]],\n",
       "  mask=False,\n",
       "  fill_value=1e+20)"
      ]
     },
     "execution_count": 105,
     "metadata": {},
     "output_type": "execute_result"
    }
   ],
   "source": [
    "eta[:4]"
   ]
  },
  {
   "cell_type": "code",
   "execution_count": 106,
   "metadata": {},
   "outputs": [],
   "source": [
    "gen_parts_eta_phi_HWW = np.array(np.dstack((eta,phi)))"
   ]
  },
  {
   "cell_type": "code",
   "execution_count": 107,
   "metadata": {},
   "outputs": [
    {
     "data": {
      "text/plain": [
       "array([[[ 0.20410156,  1.28515625],\n",
       "        [ 0.30175781,  0.97265625],\n",
       "        [ 0.69921875,  0.93554688]],\n",
       "\n",
       "       [[-0.50390625, -0.14160156],\n",
       "        [-0.54882812,  0.40820312],\n",
       "        [-1.015625  ,  0.20410156]],\n",
       "\n",
       "       [[ 0.0067749 ,  0.9453125 ],\n",
       "        [ 0.06616211,  1.0390625 ],\n",
       "        [ 0.0793457 ,  0.6328125 ]],\n",
       "\n",
       "       [[-1.02734375, -0.68164062],\n",
       "        [-0.30957031, -1.04296875],\n",
       "        [-0.9296875 , -0.66210938]]])"
      ]
     },
     "execution_count": 107,
     "metadata": {},
     "output_type": "execute_result"
    }
   ],
   "source": [
    "gen_parts_eta_phi_HWW[:4]"
   ]
  },
  {
   "cell_type": "code",
   "execution_count": 108,
   "metadata": {},
   "outputs": [],
   "source": [
    "result_lvqq = count_quarks_in_jets(higgs_jet_4vec, gen_parts_eta_phi_HWW)"
   ]
  },
  {
   "cell_type": "code",
   "execution_count": 109,
   "metadata": {},
   "outputs": [
    {
     "data": {
      "text/plain": [
       "4698"
      ]
     },
     "execution_count": 109,
     "metadata": {},
     "output_type": "execute_result"
    }
   ],
   "source": [
    "len(result_lvqq)"
   ]
  },
  {
   "cell_type": "code",
   "execution_count": 110,
   "metadata": {},
   "outputs": [
    {
     "data": {
      "text/plain": [
       "array([3, 3, 3, ..., 3, 2, 3])"
      ]
     },
     "execution_count": 110,
     "metadata": {},
     "output_type": "execute_result"
    }
   ],
   "source": [
    "result_lvqq"
   ]
  },
  {
   "cell_type": "code",
   "execution_count": 111,
   "metadata": {},
   "outputs": [],
   "source": [
    "Hlvqq_cut = (result_lvqq >= 3)"
   ]
  },
  {
   "cell_type": "code",
   "execution_count": 112,
   "metadata": {},
   "outputs": [
    {
     "data": {
      "text/plain": [
       "2974"
      ]
     },
     "execution_count": 112,
     "metadata": {},
     "output_type": "execute_result"
    }
   ],
   "source": [
    "np.sum(Hlvqq_cut)"
   ]
  },
  {
   "cell_type": "markdown",
   "metadata": {},
   "source": [
    "### Get FatJetPFCands 4-vector, up to 150 length to suit the input of Oz's function"
   ]
  },
  {
   "cell_type": "code",
   "execution_count": 113,
   "metadata": {},
   "outputs": [],
   "source": [
    "# first get the jet_idx HWW jet, each event has one jet_idx\n",
    "HWW_match = WWdr <= match_dR #FatJetIdx in each event, which is real HWW jet\n",
    "HWW_match_padded = pad_val(HWW_match,3,False,1,True) #pad the array with False value\n",
    "HWW_jet_idx = np.argmax(HWW_match_padded,axis = 1) #the jet index in each jet which is true HWW jet\n",
    "# then get all the FatJetPFCands according to the jet_idx, and get PF_idx\n",
    "HWW_FatJetPFCands = (events_final.FatJetPFCands.jetIdx == HWW_jet_idx)\n",
    "HWW_FatJetPFCands_pFCandsIdx = events_final.FatJetPFCands.pFCandsIdx[HWW_FatJetPFCands]\n",
    "# at last, get PFCands 4-vector according to the PF_idx in last step\n"
   ]
  },
  {
   "cell_type": "code",
   "execution_count": 114,
   "metadata": {},
   "outputs": [
    {
     "data": {
      "text/plain": [
       "4698"
      ]
     },
     "execution_count": 114,
     "metadata": {},
     "output_type": "execute_result"
    }
   ],
   "source": [
    "len(HWW_FatJetPFCands_pFCandsIdx)"
   ]
  },
  {
   "cell_type": "code",
   "execution_count": 115,
   "metadata": {},
   "outputs": [],
   "source": [
    "pt_array =   ak.Array(events_final.PFCands.pt)\n",
    "eta_array =  ak.Array(events_final.PFCands.eta)\n",
    "phi_array =  ak.Array(events_final.PFCands.phi)\n",
    "mass_array = ak.Array(events_final.PFCands.mass)"
   ]
  },
  {
   "cell_type": "code",
   "execution_count": 116,
   "metadata": {},
   "outputs": [
    {
     "data": {
      "text/plain": [
       "<Array [[0.759, 0.567, 0.763, ... 0.75, 4.06]] type='4698 * var * float32[parame...'>"
      ]
     },
     "execution_count": 116,
     "metadata": {},
     "output_type": "execute_result"
    }
   ],
   "source": [
    "pt_array"
   ]
  },
  {
   "cell_type": "markdown",
   "metadata": {},
   "source": [
    "### Need to clean PFCands with dR(l,pf)<0.2"
   ]
  },
  {
   "cell_type": "code",
   "execution_count": 117,
   "metadata": {},
   "outputs": [],
   "source": [
    "lep_eta = GenlepVars[\"GenlepEta\"]\n",
    "lep_phi = GenlepVars[\"GenlepPhi\"]\n",
    "# def get_dr(lep_eta, lep_phi, pf_eta, pf_phi):\n",
    "#     return ak.sqrt\n"
   ]
  },
  {
   "cell_type": "code",
   "execution_count": 118,
   "metadata": {},
   "outputs": [],
   "source": [
    "pf_eta = pad_val(eta_array, target = 200, axis = 1, value = 0)\n",
    "pf_phi = pad_val(phi_array, target = 200, axis = 1, value = 0)\n",
    "pf_pt = pad_val(pt_array, target = 200, axis = 1, value = 0)\n",
    "pf_mass = pad_val(mass_array, target = 200, axis = 1, value = 0)"
   ]
  },
  {
   "cell_type": "code",
   "execution_count": 119,
   "metadata": {},
   "outputs": [
    {
     "data": {
      "text/plain": [
       "masked_array(data=[ 0.69921875, -1.015625  ,  0.0793457 ],\n",
       "             mask=False,\n",
       "       fill_value=1e+20,\n",
       "            dtype=float32)"
      ]
     },
     "execution_count": 119,
     "metadata": {},
     "output_type": "execute_result"
    }
   ],
   "source": [
    "lep_eta[:3]"
   ]
  },
  {
   "cell_type": "code",
   "execution_count": 126,
   "metadata": {},
   "outputs": [],
   "source": [
    "lep_eta_reshaped = lep_eta.reshape(-1,1)"
   ]
  },
  {
   "cell_type": "code",
   "execution_count": 127,
   "metadata": {},
   "outputs": [
    {
     "data": {
      "text/plain": [
       "masked_array(\n",
       "  data=[[ 0.69921875],\n",
       "        [-1.015625  ],\n",
       "        [ 0.0793457 ],\n",
       "        ...,\n",
       "        [-0.53515625],\n",
       "        [-0.8730469 ],\n",
       "        [ 0.56640625]],\n",
       "  mask=False,\n",
       "  fill_value=1e+20,\n",
       "  dtype=float32)"
      ]
     },
     "execution_count": 127,
     "metadata": {},
     "output_type": "execute_result"
    }
   ],
   "source": [
    "lep_eta_reshaped"
   ]
  },
  {
   "cell_type": "code",
   "execution_count": 120,
   "metadata": {},
   "outputs": [
    {
     "data": {
      "text/plain": [
       "masked_array(data=[0.9355469 , 0.20410156, 0.6328125 ],\n",
       "             mask=False,\n",
       "       fill_value=1e+20,\n",
       "            dtype=float32)"
      ]
     },
     "execution_count": 120,
     "metadata": {},
     "output_type": "execute_result"
    }
   ],
   "source": [
    "lep_phi[:3]"
   ]
  },
  {
   "cell_type": "code",
   "execution_count": 128,
   "metadata": {},
   "outputs": [],
   "source": [
    "lep_phi_reshaped = lep_phi.reshape(-1,1)"
   ]
  },
  {
   "cell_type": "code",
   "execution_count": 129,
   "metadata": {},
   "outputs": [
    {
     "data": {
      "text/plain": [
       "masked_array(\n",
       "  data=[[ 0.9355469 ],\n",
       "        [ 0.20410156],\n",
       "        [ 0.6328125 ],\n",
       "        ...,\n",
       "        [ 1.1328125 ],\n",
       "        [-1.7539062 ],\n",
       "        [-0.85546875]],\n",
       "  mask=False,\n",
       "  fill_value=1e+20,\n",
       "  dtype=float32)"
      ]
     },
     "execution_count": 129,
     "metadata": {},
     "output_type": "execute_result"
    }
   ],
   "source": [
    "lep_phi_reshaped"
   ]
  },
  {
   "cell_type": "code",
   "execution_count": 139,
   "metadata": {},
   "outputs": [
    {
     "data": {
      "text/plain": [
       "masked_array(data=[-1.015625],\n",
       "             mask=False,\n",
       "       fill_value=1e+20,\n",
       "            dtype=float32)"
      ]
     },
     "execution_count": 139,
     "metadata": {},
     "output_type": "execute_result"
    }
   ],
   "source": [
    "lep_eta_reshaped[1]"
   ]
  },
  {
   "cell_type": "code",
   "execution_count": 136,
   "metadata": {},
   "outputs": [
    {
     "data": {
      "text/plain": [
       "array([0., 0., 0.])"
      ]
     },
     "execution_count": 136,
     "metadata": {},
     "output_type": "execute_result"
    }
   ],
   "source": [
    "pf_eta[1][-3:]"
   ]
  },
  {
   "cell_type": "code",
   "execution_count": 140,
   "metadata": {},
   "outputs": [],
   "source": [
    "delta_eta = lep_eta_reshaped - pf_eta\n",
    "delta_phi = lep_phi_reshaped - pf_phi"
   ]
  },
  {
   "cell_type": "code",
   "execution_count": 143,
   "metadata": {},
   "outputs": [
    {
     "data": {
      "text/plain": [
       "masked_array(data=[ 0.45220947, -1.10791016, -0.0958252 ],\n",
       "             mask=False,\n",
       "       fill_value=1e+20)"
      ]
     },
     "execution_count": 143,
     "metadata": {},
     "output_type": "execute_result"
    }
   ],
   "source": [
    "delta_eta[0][:3]"
   ]
  },
  {
   "cell_type": "code",
   "execution_count": 144,
   "metadata": {},
   "outputs": [
    {
     "data": {
      "text/plain": [
       "masked_array(data=[0.0645752 , 3.16210938, 0.1697998 ],\n",
       "             mask=False,\n",
       "       fill_value=1e+20)"
      ]
     },
     "execution_count": 144,
     "metadata": {},
     "output_type": "execute_result"
    }
   ],
   "source": [
    "delta_phi[0][:3]"
   ]
  },
  {
   "cell_type": "code",
   "execution_count": 141,
   "metadata": {},
   "outputs": [],
   "source": [
    "delta_r = np.sqrt(delta_eta**2 + delta_phi**2)"
   ]
  },
  {
   "cell_type": "code",
   "execution_count": 147,
   "metadata": {},
   "outputs": [
    {
     "data": {
      "text/plain": [
       "masked_array(data=[3.1618957942204227, 2.922658103915771,\n",
       "                   3.1116998406136642],\n",
       "             mask=[False, False, False],\n",
       "       fill_value=1e+20)"
      ]
     },
     "execution_count": 147,
     "metadata": {},
     "output_type": "execute_result"
    }
   ],
   "source": [
    "delta_r[0][-3:]"
   ]
  },
  {
   "cell_type": "code",
   "execution_count": 138,
   "metadata": {},
   "outputs": [
    {
     "data": {
      "text/plain": [
       "masked_array(data=[-1.015625, -1.015625, -1.015625],\n",
       "             mask=False,\n",
       "       fill_value=1e+20)"
      ]
     },
     "execution_count": 138,
     "metadata": {},
     "output_type": "execute_result"
    }
   ],
   "source": [
    "delta_eta[1][-3:]"
   ]
  },
  {
   "cell_type": "code",
   "execution_count": 148,
   "metadata": {},
   "outputs": [
    {
     "data": {
      "text/plain": [
       "array([[ 0.87097168, -2.2265625 ,  0.76574707, -2.5390625 , -2.28076172,\n",
       "        -1.96459961, -3.04296875, -1.97290039, -2.43212891, -1.54614258,\n",
       "        -2.02246094, -2.74072266,  1.36010742,  3.08691406, -2.85742188,\n",
       "         0.99304199,  0.88269043, -1.90844727, -1.83032227, -2.25097656,\n",
       "        -2.14501953,  0.88378906, -2.52148438, -2.67529297, -2.23925781,\n",
       "        -2.25585938,  3.12353516,  3.04345703, -2.94091797,  3.0703125 ,\n",
       "        -2.63818359, -2.86914062, -2.76660156, -2.734375  , -2.72998047,\n",
       "        -2.68505859, -2.81396484, -2.4453125 ,  0.94604492,  1.02929688,\n",
       "         1.04882812,  1.07202148,  0.97436523,  1.01391602,  0.98901367,\n",
       "         0.99853516,  0.95495605,  1.01147461,  0.96533203,  1.05786133,\n",
       "         1.0715332 ,  1.01367188,  0.97631836,  0.97741699,  0.97033691,\n",
       "         1.03735352,  0.96594238,  1.03125   ,  1.015625  ,  1.05444336,\n",
       "         1.28198242,  1.35473633,  0.94360352,  1.31982422,  1.28930664,\n",
       "         1.2956543 ,  1.23339844,  1.31958008,  1.31665039, -2.43359375,\n",
       "        -2.27246094, -1.921875  , -1.96704102, -2.10009766, -2.01074219,\n",
       "        -1.9543457 , -1.96899414, -1.98950195, -2.17333984, -1.85375977,\n",
       "        -1.97192383, -1.96240234, -2.0078125 , -1.87817383, -1.83203125,\n",
       "        -1.98071289, -1.87573242, -1.8190918 , -1.96801758, -1.55566406,\n",
       "        -1.96850586, -1.88012695, -1.90942383, -2.234375  , -1.85693359,\n",
       "        -1.99560547, -1.89282227, -1.90820312, -1.90722656, -1.91162109,\n",
       "        -2.0390625 , -1.93188477, -1.92602539, -2.15283203, -2.64648438,\n",
       "        -2.890625  , -2.15478516,  0.76025391, -1.20263672, -2.64550781,\n",
       "        -2.50683594, -1.7746582 , -1.60009766, -1.5637207 ,  0.97680664,\n",
       "        -2.19873047, -2.20800781,  1.01000977,  1.03149414, -2.03955078,\n",
       "        -2.45068359, -2.76513672, -2.25195312, -2.39501953,  3.07519531,\n",
       "        -2.50341797, -3.07568359, -2.37597656,  2.95800781, -2.37988281,\n",
       "        -2.21533203, -3.03759766, -2.94677734, -2.15136719, -2.39990234,\n",
       "        -3.01464844, -2.93994141, -2.72998047, -2.85107422, -2.78173828,\n",
       "        -2.62695312, -2.88574219, -2.46728516, -2.76464844, -2.68554688,\n",
       "        -2.69580078, -2.72998047, -2.66796875, -3.01025391, -2.3984375 ,\n",
       "        -2.53613281, -2.91064453, -2.57421875, -3.09619141, -2.76464844,\n",
       "         0.99743652,  0.91625977,  0.57067871,  0.88513184, -2.484375  ,\n",
       "         1.0234375 ,  0.98901367,  0.73718262,  0.89050293,  1.04248047,\n",
       "         0.95422363,  1.17797852,  0.9197998 ,  0.76037598,  0.91625977,\n",
       "         1.25170898,  1.10961914,  1.16235352,  0.76049805,  0.88574219,\n",
       "         1.01513672,  1.00634766,  0.7088623 ,  1.38061523,  1.09838867,\n",
       "         0.74353027,  1.12719727,  1.04101562,  1.24609375,  1.32055664,\n",
       "         1.08251953,  1.43994141, -1.70166016,  1.08813477, -1.89453125,\n",
       "        -1.74194336, -1.77368164, -1.86010742, -2.22607422, -2.00292969,\n",
       "        -2.29589844, -2.20947266, -1.98461914, -1.72338867, -1.92504883],\n",
       "       [-1.30639648, -1.45141602, -1.45092773, -1.95336914,  0.09170532,\n",
       "        -2.97021484, -1.09130859, -0.78845215, -1.00219727, -0.74316406,\n",
       "        -1.8984375 , -0.92028809, -1.55688477, -2.98925781, -2.5078125 ,\n",
       "        -2.95117188, -2.75830078, -0.14764404,  3.11572266, -2.67773438,\n",
       "        -2.19873047, -0.00634956, -1.28540039, -1.62182617, -1.87475586,\n",
       "        -2.85253906, -2.22607422, -2.90429688, -2.93359375, -2.02539062,\n",
       "        -1.8112793 , -2.97265625, -2.91796875, -2.93164062, -2.92919922,\n",
       "        -3.10058594, -2.87255859, -2.91894531, -2.9453125 , -2.93212891,\n",
       "        -2.88232422, -2.92089844, -2.84912109, -1.86010742, -2.98046875,\n",
       "        -2.93164062, -2.99609375, -2.94628906, -2.98388672, -2.92529297,\n",
       "        -2.96728516, -2.24658203, -2.96240234, -2.21386719, -1.52368164,\n",
       "        -2.96679688, -2.17041016, -0.03447723,  0.55871582,  0.46105957,\n",
       "         0.39886475,  0.37335205,  0.41033936, -2.58837891, -1.31958008,\n",
       "        -1.01147461, -0.87719727, -0.94006348, -1.55737305, -0.77966309,\n",
       "        -1.25830078, -3.02441406,  3.03222656, -1.79882812, -2.66845703,\n",
       "        -1.58276367, -0.32531738,  0.12042236,  0.09580994,  0.65893555,\n",
       "         0.4864502 , -1.05249023, -0.79943848, -1.54418945, -0.9777832 ,\n",
       "        -3.09619141, -1.35009766, -1.01635742, -1.5546875 , -1.0300293 ,\n",
       "        -0.09727478, -1.16015625, -1.20288086, -0.71862793, -1.23535156,\n",
       "        -2.81591797, -1.59643555, -1.33300781, -1.92822266, -1.87231445,\n",
       "        -1.67285156, -2.76416016, -1.88989258, -1.47192383, -2.87402344,\n",
       "        -3.00976562, -1.29907227, -1.72363281, -2.88525391, -2.67773438,\n",
       "        -1.52319336, -3.06591797,  2.91699219, -2.76220703, -1.70166016,\n",
       "        -2.90185547, -2.99609375, -1.66552734, -1.28173828, -3.11328125,\n",
       "        -1.8203125 , -2.76367188, -1.63916016, -2.97851562, -3.07861328,\n",
       "        -1.28686523, -2.63085938, -1.61450195, -2.99707031, -3.03125   ,\n",
       "        -2.70947266, -1.86889648, -3.01025391, -1.73901367,  0.05743408,\n",
       "        -0.23947144, -0.22314453, -0.18847656, -0.14550781, -0.16268921,\n",
       "         0.14413452,  0.40228271, -0.17617798,  0.09179688, -0.08076477,\n",
       "        -0.01924896, -0.22735596,  0.43719482,  0.32073975, -0.30841064,\n",
       "         0.09228516,  0.13067627, -0.01113129,  0.14413452,  0.        ,\n",
       "         0.        ,  0.        ,  0.        ,  0.        ,  0.        ,\n",
       "         0.        ,  0.        ,  0.        ,  0.        ,  0.        ,\n",
       "         0.        ,  0.        ,  0.        ,  0.        ,  0.        ,\n",
       "         0.        ,  0.        ,  0.        ,  0.        ,  0.        ,\n",
       "         0.        ,  0.        ,  0.        ,  0.        ,  0.        ,\n",
       "         0.        ,  0.        ,  0.        ,  0.        ,  0.        ,\n",
       "         0.        ,  0.        ,  0.        ,  0.        ,  0.        ,\n",
       "         0.        ,  0.        ,  0.        ,  0.        ,  0.        ,\n",
       "         0.        ,  0.        ,  0.        ,  0.        ,  0.        ],\n",
       "       [ 0.89526367, -1.69995117, -2.00195312,  0.83911133,  0.5032959 ,\n",
       "         0.32617188,  0.57434082,  1.35766602,  1.34130859, -1.74047852,\n",
       "        -2.40966797,  1.04321289,  1.46191406,  0.71044922, -2.08935547,\n",
       "        -1.91943359, -1.26513672,  1.05615234, -2.21875   , -2.57861328,\n",
       "        -2.10253906, -1.7097168 , -2.13525391,  0.97058105,  1.03881836,\n",
       "         1.046875  ,  1.04370117,  1.03833008,  0.99230957,  1.01635742,\n",
       "         1.03100586,  1.57910156,  1.2043457 ,  1.42797852,  1.35400391,\n",
       "        -1.35131836, -2.33203125, -1.64599609, -1.98022461, -2.36914062,\n",
       "        -2.35888672, -2.32373047, -2.01708984, -1.92993164, -1.71313477,\n",
       "        -1.89208984, -2.05175781, -2.06054688, -1.8828125 ,  1.47143555,\n",
       "         0.42980957,  1.43994141,  1.09301758,  1.85913086, -2.21435547,\n",
       "         0.49835205,  1.18334961,  0.63916016,  1.04296875,  1.20629883,\n",
       "         0.9609375 ,  1.16137695,  1.00170898,  0.58288574,  0.67907715,\n",
       "         0.74157715,  1.07055664,  1.33325195,  0.25665283,  0.26837158,\n",
       "         1.43725586,  1.734375  ,  1.70874023,  1.71704102,  1.64794922,\n",
       "         1.62084961,  1.5793457 ,  1.66479492, -1.60961914, -1.64233398,\n",
       "        -1.62695312, -1.47607422, -1.93212891, -1.6472168 , -1.56201172,\n",
       "        -1.72802734, -1.63305664, -1.89868164, -1.95043945, -2.05517578,\n",
       "        -1.66113281, -1.52709961, -2.29443359, -2.23339844, -2.35400391,\n",
       "        -2.18505859, -1.30908203, -2.3515625 , -2.04443359, -2.02929688,\n",
       "        -2.08349609, -2.35791016, -1.86010742, -1.83984375, -1.90649414,\n",
       "         0.        ,  0.        ,  0.        ,  0.        ,  0.        ,\n",
       "         0.        ,  0.        ,  0.        ,  0.        ,  0.        ,\n",
       "         0.        ,  0.        ,  0.        ,  0.        ,  0.        ,\n",
       "         0.        ,  0.        ,  0.        ,  0.        ,  0.        ,\n",
       "         0.        ,  0.        ,  0.        ,  0.        ,  0.        ,\n",
       "         0.        ,  0.        ,  0.        ,  0.        ,  0.        ,\n",
       "         0.        ,  0.        ,  0.        ,  0.        ,  0.        ,\n",
       "         0.        ,  0.        ,  0.        ,  0.        ,  0.        ,\n",
       "         0.        ,  0.        ,  0.        ,  0.        ,  0.        ,\n",
       "         0.        ,  0.        ,  0.        ,  0.        ,  0.        ,\n",
       "         0.        ,  0.        ,  0.        ,  0.        ,  0.        ,\n",
       "         0.        ,  0.        ,  0.        ,  0.        ,  0.        ,\n",
       "         0.        ,  0.        ,  0.        ,  0.        ,  0.        ,\n",
       "         0.        ,  0.        ,  0.        ,  0.        ,  0.        ,\n",
       "         0.        ,  0.        ,  0.        ,  0.        ,  0.        ,\n",
       "         0.        ,  0.        ,  0.        ,  0.        ,  0.        ,\n",
       "         0.        ,  0.        ,  0.        ,  0.        ,  0.        ,\n",
       "         0.        ,  0.        ,  0.        ,  0.        ,  0.        ,\n",
       "         0.        ,  0.        ,  0.        ,  0.        ,  0.        ]])"
      ]
     },
     "execution_count": 148,
     "metadata": {},
     "output_type": "execute_result"
    }
   ],
   "source": [
    "pf_phi[:3]"
   ]
  },
  {
   "cell_type": "code",
   "execution_count": 150,
   "metadata": {},
   "outputs": [
    {
     "data": {
      "text/plain": [
       "array([0.75878906, 0.56738281, 0.76318359, 0.54345703, 0.64453125])"
      ]
     },
     "execution_count": 150,
     "metadata": {},
     "output_type": "execute_result"
    }
   ],
   "source": [
    "pf_pt[0][:5]"
   ]
  },
  {
   "cell_type": "code",
   "execution_count": 161,
   "metadata": {},
   "outputs": [
    {
     "data": {
      "text/plain": [
       "masked_array(data=[0.05764472432707477, 0.05403635109274154,\n",
       "                   3.018486390564529, 2.9931832118456376,\n",
       "                   3.4043457068236496],\n",
       "             mask=[False, False, False, False, False],\n",
       "       fill_value=1e+20)"
      ]
     },
     "execution_count": 161,
     "metadata": {},
     "output_type": "execute_result"
    }
   ],
   "source": [
    "delta_r[0][15:20]"
   ]
  },
  {
   "cell_type": "code",
   "execution_count": 151,
   "metadata": {},
   "outputs": [],
   "source": [
    "pf_eta_rm_lep = np.copy(pf_eta)\n",
    "pf_phi_rm_lep = np.copy(pf_phi)\n",
    "pf_pt_rm_lep = np.copy(pf_pt)\n",
    "pf_mass_rm_lep = np.copy(pf_mass)"
   ]
  },
  {
   "cell_type": "code",
   "execution_count": 156,
   "metadata": {},
   "outputs": [],
   "source": [
    "pf_eta_rm_lep[delta_r<0.2] = 0.0\n",
    "pf_phi_rm_lep[delta_r<0.2] = 0.0\n",
    "pf_pt_rm_lep[delta_r<0.2] = 0.0\n",
    "pf_mass_rm_lep[delta_r<0.2] = 0.0"
   ]
  },
  {
   "cell_type": "code",
   "execution_count": 162,
   "metadata": {},
   "outputs": [
    {
     "data": {
      "text/plain": [
       "array([ 0.69506836,  0.68798828, -0.31219482, -0.44494629, -0.4989624 ])"
      ]
     },
     "execution_count": 162,
     "metadata": {},
     "output_type": "execute_result"
    }
   ],
   "source": [
    "pf_eta[0][15:20]"
   ]
  },
  {
   "cell_type": "code",
   "execution_count": 163,
   "metadata": {},
   "outputs": [
    {
     "data": {
      "text/plain": [
       "array([ 0.        ,  0.        , -0.31219482, -0.44494629, -0.4989624 ])"
      ]
     },
     "execution_count": 163,
     "metadata": {},
     "output_type": "execute_result"
    }
   ],
   "source": [
    "pf_eta_rm_lep[0][15:20]"
   ]
  },
  {
   "cell_type": "code",
   "execution_count": null,
   "metadata": {},
   "outputs": [],
   "source": []
  },
  {
   "cell_type": "code",
   "execution_count": null,
   "metadata": {},
   "outputs": [
    {
     "ename": "ImportError",
     "evalue": "cannot import name 'NanoEvents' from 'coffea.nanoevents' (/home/pku/zhaoyz/anaconda3/envs/lpr/lib/python3.9/site-packages/coffea/nanoevents/__init__.py)",
     "output_type": "error",
     "traceback": [
      "\u001b[0;31m---------------------------------------------------------------------------\u001b[0m",
      "\u001b[0;31mImportError\u001b[0m                               Traceback (most recent call last)",
      "\u001b[1;32m/home/pku/zhaoyz/Higgs/boostedHWW/scale_factors/LundReweighting/calibration_ParT_tagger_H4q3qlvqq.ipynb 单元格 147\u001b[0m line \u001b[0;36m4\n\u001b[1;32m      <a href='vscode-notebook-cell://ssh-remote%2Bnode06/home/pku/zhaoyz/Higgs/boostedHWW/scale_factors/LundReweighting/calibration_ParT_tagger_H4q3qlvqq.ipynb#Y344sdnNjb2RlLXJlbW90ZQ%3D%3D?line=1'>2</a>\u001b[0m \u001b[39mimport\u001b[39;00m \u001b[39mawkward\u001b[39;00m \u001b[39mas\u001b[39;00m \u001b[39mak\u001b[39;00m\n\u001b[1;32m      <a href='vscode-notebook-cell://ssh-remote%2Bnode06/home/pku/zhaoyz/Higgs/boostedHWW/scale_factors/LundReweighting/calibration_ParT_tagger_H4q3qlvqq.ipynb#Y344sdnNjb2RlLXJlbW90ZQ%3D%3D?line=2'>3</a>\u001b[0m \u001b[39mimport\u001b[39;00m \u001b[39mcoffea\u001b[39;00m\u001b[39m.\u001b[39;00m\u001b[39mnanoevents\u001b[39;00m\u001b[39m.\u001b[39;00m\u001b[39mmethods\u001b[39;00m\u001b[39m.\u001b[39;00m\u001b[39mvector\u001b[39;00m \u001b[39mas\u001b[39;00m \u001b[39mvector\u001b[39;00m\n\u001b[0;32m----> <a href='vscode-notebook-cell://ssh-remote%2Bnode06/home/pku/zhaoyz/Higgs/boostedHWW/scale_factors/LundReweighting/calibration_ParT_tagger_H4q3qlvqq.ipynb#Y344sdnNjb2RlLXJlbW90ZQ%3D%3D?line=3'>4</a>\u001b[0m \u001b[39mfrom\u001b[39;00m \u001b[39mcoffea\u001b[39;00m\u001b[39m.\u001b[39;00m\u001b[39mnanoevents\u001b[39;00m \u001b[39mimport\u001b[39;00m NanoEvents, NanoAODSchema\n\u001b[1;32m      <a href='vscode-notebook-cell://ssh-remote%2Bnode06/home/pku/zhaoyz/Higgs/boostedHWW/scale_factors/LundReweighting/calibration_ParT_tagger_H4q3qlvqq.ipynb#Y344sdnNjb2RlLXJlbW90ZQ%3D%3D?line=5'>6</a>\u001b[0m \u001b[39m# 示例数据\u001b[39;00m\n\u001b[1;32m      <a href='vscode-notebook-cell://ssh-remote%2Bnode06/home/pku/zhaoyz/Higgs/boostedHWW/scale_factors/LundReweighting/calibration_ParT_tagger_H4q3qlvqq.ipynb#Y344sdnNjb2RlLXJlbW90ZQ%3D%3D?line=6'>7</a>\u001b[0m lep_eta \u001b[39m=\u001b[39m ak\u001b[39m.\u001b[39mArray([\u001b[39m1.0\u001b[39m, \u001b[39m2.0\u001b[39m, \u001b[39m3.0\u001b[39m])\n",
      "\u001b[0;31mImportError\u001b[0m: cannot import name 'NanoEvents' from 'coffea.nanoevents' (/home/pku/zhaoyz/anaconda3/envs/lpr/lib/python3.9/site-packages/coffea/nanoevents/__init__.py)"
     ]
    }
   ],
   "source": [
    "import numpy as np\n",
    "import awkward as ak\n",
    "import coffea.nanoevents.methods.vector as vector\n",
    "from coffea.nanoevents import NanoEvents, NanoAODSchema\n",
    "\n",
    "# 示例数据\n",
    "lep_eta = ak.Array([1.0, 2.0, 3.0])\n",
    "lep_phi = ak.Array([0.1, 0.2, 0.3])\n",
    "pf_eta = ak.Array([[-0.1, -0.2, -0.3], [0.5, 0.6, 0.7], [-1.0, -1.1, -1.2]])\n",
    "pf_phi = ak.Array([[0.2, 0.3, 0.4], [0.7, 0.8, 0.9], [-1.1, -1.2, -1.3]])\n",
    "\n",
    "# 将示例数据转换为 NumPy 数组\n",
    "lep_eta_np = ak.to_numpy(lep_eta)\n",
    "lep_phi_np = ak.to_numpy(lep_phi)\n",
    "pf_eta_np = ak.to_numpy(pf_eta)\n",
    "pf_phi_np = ak.to_numpy(pf_phi)\n",
    "\n",
    "# 创建 NanoEvents\n",
    "events = NanoEvents.from_arrays({\n",
    "    \"lep\": {\"pt\": np.ones_like(lep_eta_np), \"eta\": lep_eta_np, \"phi\": lep_phi_np},\n",
    "    \"pf\": {\"pt\": np.ones_like(pf_eta_np), \"eta\": pf_eta_np, \"phi\": pf_phi_np},\n",
    "}, schema=NanoAODSchema)\n",
    "\n",
    "# 使用 delta_r 计算\n",
    "delta_r = vector.delta_r(events.lep, events.pf)\n",
    "\n",
    "# 打印结果\n",
    "print(delta_r)\n"
   ]
  },
  {
   "cell_type": "markdown",
   "metadata": {},
   "source": [
    "### Plot the tagger distribution about Hlvqq jet"
   ]
  },
  {
   "cell_type": "code",
   "execution_count": null,
   "metadata": {},
   "outputs": [],
   "source": [
    "eventsScoreFatjet = events_final\n",
    "tagger_scores = eventsScoreFatjet.FatJet.inclParTMDV1_probHWqqWev0c + eventsScoreFatjet.FatJet.inclParTMDV1_probHWqqWev1c + eventsScoreFatjet.FatJet.inclParTMDV1_probHWqqWmv0c + eventsScoreFatjet.FatJet.inclParTMDV1_probHWqqWmv1c + eventsScoreFatjet.FatJet.inclParTMDV1_probHWqqWq0c + eventsScoreFatjet.FatJet.inclParTMDV1_probHWqqWq1c + eventsScoreFatjet.FatJet.inclParTMDV1_probHWqqWq2c + eventsScoreFatjet.FatJet.inclParTMDV1_probHWqqWqq0c + eventsScoreFatjet.FatJet.inclParTMDV1_probHWqqWqq1c + eventsScoreFatjet.FatJet.inclParTMDV1_probHWqqWqq2c + eventsScoreFatjet.FatJet.inclParTMDV1_probHWqqWtauev0c + eventsScoreFatjet.FatJet.inclParTMDV1_probHWqqWtauev1c + eventsScoreFatjet.FatJet.inclParTMDV1_probHWqqWtauhv0c + eventsScoreFatjet.FatJet.inclParTMDV1_probHWqqWtauhv1c + eventsScoreFatjet.FatJet.inclParTMDV1_probHWqqWtaumv0c + eventsScoreFatjet.FatJet.inclParTMDV1_probHWqqWtaumv1c"
   ]
  },
  {
   "cell_type": "code",
   "execution_count": null,
   "metadata": {},
   "outputs": [
    {
     "data": {
      "text/plain": [
       "<Array [{Electron: [Electron], ... ] type='4698 * {\"Electron\": var * electron, \"...'>"
      ]
     },
     "execution_count": 234,
     "metadata": {},
     "output_type": "execute_result"
    }
   ],
   "source": [
    "eventsScoreFatjet"
   ]
  },
  {
   "cell_type": "code",
   "execution_count": null,
   "metadata": {},
   "outputs": [],
   "source": [
    "fatjets = events_final.FatJet\n",
    "HWW = ak.pad_none(higgs, 1, axis=1, clip=True)[:, 0] #because it's a 2D array\n",
    "WWdr = fatjets[:, :3].delta_r(HWW) #here use 3 because we have up to 3 AK8 jets, use ak.max(ak.num(WWdr,axis = 1)) for test\n",
    "match_dR = 0.8\n",
    "HWW_match = WWdr <= match_dR #FatJetIdx in each event, which is real HWW jet"
   ]
  },
  {
   "cell_type": "code",
   "execution_count": null,
   "metadata": {},
   "outputs": [],
   "source": [
    "HWWJets_tagger_score = ak.pad_none(tagger_scores[HWW_match], 1, axis=1)[:, 0]"
   ]
  },
  {
   "cell_type": "code",
   "execution_count": null,
   "metadata": {},
   "outputs": [
    {
     "data": {
      "text/plain": [
       "<Array [0.984, 0.0724, 0.268, ... 0.942, 0.736] type='4698 * ?float32'>"
      ]
     },
     "execution_count": 241,
     "metadata": {},
     "output_type": "execute_result"
    }
   ],
   "source": [
    "HWWJets_tagger_score"
   ]
  },
  {
   "cell_type": "code",
   "execution_count": null,
   "metadata": {},
   "outputs": [
    {
     "data": {
      "text/plain": [
       "<Array [0.984, 0.0724, 0.268, ... 0.938, 0.736] type='2974 * ?float32'>"
      ]
     },
     "execution_count": 242,
     "metadata": {},
     "output_type": "execute_result"
    }
   ],
   "source": [
    "HWWJets_tagger_score = HWWJets_tagger_score[Hlvqq_cut]\n",
    "HWWJets_tagger_score"
   ]
  },
  {
   "cell_type": "code",
   "execution_count": null,
   "metadata": {},
   "outputs": [
    {
     "data": {
      "image/png": "[encoded data removed]",
      "text/plain": [
       "<Figure size 1000x1000 with 1 Axes>"
      ]
     },
     "metadata": {},
     "output_type": "display_data"
    }
   ],
   "source": [
    "import matplotlib as mpl\n",
    "import matplotlib.pyplot as plt\n",
    "import mplhep as hep\n",
    "import boost_histogram as bh\n",
    "from cycler import cycler\n",
    "max_evts = 2900\n",
    "#implement CMS plot style functions\n",
    "use_helvet = False ## true: use helvetica for plots, make sure the system have the font installed\n",
    "if use_helvet:\n",
    "    CMShelvet = hep.style.CMS\n",
    "    CMShelvet['font.sans-serif'] = ['Helvetica', 'Arial']\n",
    "    plt.style.use(CMShelvet)\n",
    "else:\n",
    "    plt.style.use(hep.style.CMS)\n",
    "\n",
    "plt.figure(figsize=(10,10))\n",
    "ax=plt.gca()\n",
    "plt.grid()\n",
    "hep.cms.label(data=False, year=\"2018\", ax=ax, fontname='sans-serif')\n",
    "%matplotlib inline\n",
    "#step1: plot \n",
    "\n",
    "# plt.hist(eventsEventsID3Prongs4Prongs['HqqqqVsQcdTop'], bins=20, range=(0,1), histtype='step', label='before reweighting',density=True);\n",
    "# plt.hist(eventsEventsID3Prongs4Prongs['HqqqqVsQcdTop'], bins=20, range=(0,1), histtype='step', label='after reweighting', weights=eventsEventsID3Prongs4Prongs[\"LP_weight\"],density=True);\n",
    "nbins, x_min, x_max = 20, 0, 1.0\n",
    "hist_before = bh.Histogram(bh.axis.Regular(nbins, x_min, x_max), storage=bh.storage.Weight())\n",
    "hist_before.fill(HWWJets_tagger_score[:max_evts])\n",
    "hist_before_value = hist_before.view().value\n",
    "hist_before_err = np.sqrt(hist_before.view().variance)\n",
    "\n",
    "# hist_after = bh.Histogram(bh.axis.Regular(nbins, x_min, x_max), storage=bh.storage.Weight())\n",
    "# hist_after.fill(HWWJets_tagger_score[:max_evts],weight=LP_weights[:max_evts])\n",
    "# hist_after_value = hist_after.view().value\n",
    "# hist_after_err = np.sqrt(hist_after.view().variance)\n",
    "# bins = hist_before.axes[0].edges\n",
    "\n",
    "\n",
    "hep.histplot(hist_before_value,    bins=bins, yerr=hist_before_err, label= 'before Lund Plane reweighting', lw = 2,edges = False, histtype=\"step\")\n",
    "# hep.histplot(hist_after_value,     bins=bins, yerr=hist_after_err,  label= 'after Lund Plane reweighting', lw = 2,edges = False, histtype=\"step\")\n",
    "\n",
    "\n",
    "plt.legend(loc='upper left',frameon=False,fontsize=20)\n",
    "y_min,y_max = plt.gca().get_ylim()\n",
    "plt.text(0.08, 0.83*y_max, \"ggF,only for Hlvqq jet\", fontsize=20)\n",
    "# plt.xlabel(r'$H_{qqqq} / (H_{qqqq} + QCD + Top)$')\n",
    "plt.xlabel(r'HWWvs(all background) tagger score', fontsize=20, ha='right', x=1)\n",
    "plt.ylabel('Events(No xs-weighted)',fontsize=20, ha='right', y=1)\n",
    "plt.savefig(f\"TaggerDistribution_2018_ggF_Hlvqq.pdf\", bbox_inches='tight')\n",
    "plt.xticks(size=14)\n",
    "plt.yticks(size=14)\n",
    "plt.show()\n"
   ]
  },
  {
   "cell_type": "code",
   "execution_count": null,
   "metadata": {},
   "outputs": [],
   "source": []
  }
 ],
 "metadata": {
  "kernelspec": {
   "display_name": "HWWCali",
   "language": "python",
   "name": "python3"
  },
  "language_info": {
   "codemirror_mode": {
    "name": "ipython",
    "version": 3
   },
   "file_extension": ".py",
   "mimetype": "text/x-python",
   "name": "python",
   "nbconvert_exporter": "python",
   "pygments_lexer": "ipython3",
   "version": "3.9.18"
  },
  "orig_nbformat": 4
 },
 "nbformat": 4,
 "nbformat_minor": 2
}

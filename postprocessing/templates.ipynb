{
 "cells": [
  {
   "attachments": {},
   "cell_type": "markdown",
   "metadata": {},
   "source": [
    "### Introduction: This is the Jupyter notebook to do the flowing things:\n",
    "\n",
    "1. Read slimmed PKU Tree files\n",
    "2. Store the raw MC histograms to pickle files\n",
    "\n",
    "kernel:HWW\n",
    "\n"
   ]
  },
  {
   "cell_type": "markdown",
   "metadata": {},
   "source": [
    "### Import necessary modules"
   ]
  },
  {
   "cell_type": "code",
   "execution_count": 38,
   "metadata": {},
   "outputs": [],
   "source": [
    "import numpy as np\n",
    "import os\n",
    "import pandas as pd\n",
    "import random\n",
    "import awkward as ak\n",
    "import matplotlib as mpl\n",
    "import matplotlib.pyplot as plt\n",
    "import mplhep as hep\n",
    "import boost_histogram as bh\n",
    "from scipy import interpolate\n",
    "# from sklearn.metrics import roc_curve, auc\n",
    "from cycler import cycler\n",
    "import uproot\n",
    "# means uproot4\n",
    "import ROOT\n",
    "import argparse\n",
    "import glob\n",
    "import json\n",
    "import logging\n",
    "import os\n",
    "import pickle as pkl\n",
    "import warnings\n",
    "\n",
    "import hist as hist2\n",
    "import pyarrow\n",
    "# import utils #local file: utils.py\n",
    "import yaml\n",
    "from typing import Dict, List, Union\n",
    "from dataclasses import dataclass, field\n",
    "from copy import deepcopy\n",
    "\n",
    "# from coffea import hist\n",
    "from coffea.nanoevents import NanoEventsFactory, NanoAODSchema\n",
    "from coffea.nanoevents.methods import vector\n",
    "# from coffea.nanoevents.methods.vector import PtEtaPhiMLorentzVector"
   ]
  },
  {
   "attachments": {},
   "cell_type": "markdown",
   "metadata": {},
   "source": [
    "### Read SlimmedTree files"
   ]
  },
  {
   "cell_type": "code",
   "execution_count": 39,
   "metadata": {},
   "outputs": [],
   "source": [
    "#load the slimmedtree files using uproot\n",
    "\n",
    "#different year available here.\n",
    "year = \"2016APV\"\n",
    "# year = \"2016\"\n",
    "# year = \"2017\"\n",
    "# year = \"2018\"\n",
    "# year = \"Full-Run2\"\n",
    "\n",
    "#if run on PKU cluster, use this:\n",
    "# CustNanoData = {\n",
    "#     'data'        : \"/data/bond/zhaoyz/SlimmedTree/V5/%s/Data/SlimmedTree_Data.root\"%(year),\n",
    "#     'QCD'         : \"/data/bond/zhaoyz/SlimmedTree/V5/%s/MC/SlimmedTree_QCD.root\"%(year),\n",
    "#     'Top'         : \"/data/bond/zhaoyz/SlimmedTree/V5/%s/MC/SlimmedTree_Top.root\"%(year),\n",
    "#     'WJets'       : \"/data/bond/zhaoyz/SlimmedTree/V5/%s/MC/SlimmedTree_WJets.root\"%(year),\n",
    "#     'Rest'        : \"/data/bond/zhaoyz/SlimmedTree/V5/%s/MC/SlimmedTree_Rest.root\"%(year),\n",
    "#     'TotalSignal' : \"/data/bond/zhaoyz/SlimmedTree/V5/%s/Signal/SlimmedTree_Total.root\"%(year),\n",
    "#     'ggF'         : \"/data/bond/zhaoyz/SlimmedTree/V5/%s/Signal/SlimmedTree_GluGlu.root\"%(year),\n",
    "#     'VH'          : \"/data/bond/zhaoyz/SlimmedTree/V5/%s/Signal/SlimmedTree_VH.root\"%(year),\n",
    "#     'ttH'         : \"/data/bond/zhaoyz/SlimmedTree/V5/%s/Signal/SlimmedTree_ttH.root\"%(year),\n",
    "#     'VBF'         : \"/data/bond/zhaoyz/SlimmedTree/V5/%s/Signal/SlimmedTree_VBF.root\"%(year),\n",
    "# } \n",
    "\n",
    "#if run on lxplus, use this:\n",
    "# CustNanoData = {\n",
    "#     'data'        : \"/eos/user/y/yuzhe/HWW/SlimmedTree/V5/%s/Data/SlimmedTree_Data.root\"%(year),\n",
    "#     'QCD'         : \"/eos/user/y/yuzhe/HWW/SlimmedTree/V5/%s/MC/SlimmedTree_QCD.root\"%(year),\n",
    "#     'Top'         : \"/eos/user/y/yuzhe/HWW/SlimmedTree/V5/%s/MC/SlimmedTree_Top.root\"%(year),\n",
    "#     'WJets'       : \"/eos/user/y/yuzhe/HWW/SlimmedTree/V5/%s/MC/SlimmedTree_WJets.root\"%(year),\n",
    "#     'Rest'        : \"/eos/user/y/yuzhe/HWW/SlimmedTree/V5/%s/MC/SlimmedTree_Rest.root\"%(year),\n",
    "#     'TotalSignal' : \"/eos/user/y/yuzhe/HWW/SlimmedTree/V5/%s/Signal/SlimmedTree_Total.root\"%(year),\n",
    "#     'ggF'         : \"/eos/user/y/yuzhe/HWW/SlimmedTree/V5/%s/Signal/SlimmedTree_GluGlu.root\"%(year),\n",
    "#     'VH'          : \"/eos/user/y/yuzhe/HWW/SlimmedTree/V5/%s/Signal/SlimmedTree_VH.root\"%(year),\n",
    "#     'ttH'         : \"/eos/user/y/yuzhe/HWW/SlimmedTree/V5/%s/Signal/SlimmedTree_ttH.root\"%(year),\n",
    "#     'VBF'         : \"/eos/user/y/yuzhe/HWW/SlimmedTree/V5/%s/Signal/SlimmedTree_VBF.root\"%(year),\n",
    "# }  \n",
    "\n",
    "#if run on CMSconnect, use this:\n",
    "CustNanoData = {\n",
    "    'data'        : \"/ospool/cms-user/yuzhe/SlimmedTree/V6/%s/Data/SlimmedTree_Data.root\"%(year),\n",
    "    'QCD'         : \"/ospool/cms-user/yuzhe/SlimmedTree/V6/%s/MC/SlimmedTree_QCD.root\"%(year),\n",
    "    'TT'          : \"/ospool/cms-user/yuzhe/SlimmedTree/V6/%s/MC/SlimmedTree_TT.root\"%(year),\n",
    "    'ST'          : \"/ospool/cms-user/yuzhe/SlimmedTree/V6/%s/MC/SlimmedTree_ST.root\"%(year),\n",
    "    'WJets'       : \"/ospool/cms-user/yuzhe/SlimmedTree/V6/%s/MC/SlimmedTree_WJets.root\"%(year),\n",
    "    'Rest'        : \"/ospool/cms-user/yuzhe/SlimmedTree/V6/%s/MC/SlimmedTree_Rest.root\"%(year),\n",
    "    'TotalSignal' : \"/ospool/cms-user/yuzhe/SlimmedTree/V6/%s/Signal/SlimmedTree_Total.root\"%(year),\n",
    "    'ggF'         : \"/ospool/cms-user/yuzhe/SlimmedTree/V6/%s/Signal/SlimmedTree_GluGlu.root\"%(year),\n",
    "    'ZH'          : \"/ospool/cms-user/yuzhe/SlimmedTree/V6/%s/Signal/SlimmedTree_WH.root\"%(year),\n",
    "    'WH'          : \"/ospool/cms-user/yuzhe/SlimmedTree/V6/%s/Signal/SlimmedTree_HZJ.root\"%(year),\n",
    "    'ttH'         : \"/ospool/cms-user/yuzhe/SlimmedTree/V6/%s/Signal/SlimmedTree_ttH.root\"%(year),\n",
    "    'VBF'         : \"/ospool/cms-user/yuzhe/SlimmedTree/V6/%s/Signal/SlimmedTree_VBF.root\"%(year),\n",
    "}        \n",
    "\n",
    "\n",
    "BKG = [\"QCD\",\"Top\",\"WJets\",\"Rest\"]\n",
    "files = {typefile : {} for typefile in CustNanoData}\n",
    "for typefile in CustNanoData:\n",
    "    files[typefile] = uproot.lazy({CustNanoData[typefile]: \"PKUTree\" })\n",
    "    \n",
    "#for signal decomposition plots, we store these information in different objects\n",
    "files[r\"$H^{4q}$\"] = files[\"TotalSignal\"][files[\"TotalSignal\"][\"R4q_a\"] == 1]\n",
    "files[r\"$H^{3q}$\"] = files[\"TotalSignal\"][(files[\"TotalSignal\"][\"R3q_a\"] == 1) & (files[\"TotalSignal\"][\"R3q_taudecay_a\"] != 1)]\n",
    "files[\"W\"] = files[\"TotalSignal\"][files[\"TotalSignal\"][\"w_a\"] == 1]\n",
    "files[\"top\"] = files[\"TotalSignal\"][files[\"TotalSignal\"][\"t_a\"] == 1]\n",
    "files[\"Z\"] = files[\"TotalSignal\"][files[\"TotalSignal\"][\"z_a\"] == 1]\n",
    "files[r\"$H^{lqq}$\"] = files[\"TotalSignal\"][(files[\"TotalSignal\"][\"Rlqq_a\"] == 1) | (files[\"TotalSignal\"][\"R3q_taudecay_a\"] == 1)]\n",
    "files[\"g/q\"] = files[\"TotalSignal\"][files[\"TotalSignal\"][\"gKK_g_a\"] == 1]\n",
    "files[\"rest\"] = files[\"TotalSignal\"][(files[\"TotalSignal\"][\"u_a\"] == 1) | (files[\"TotalSignal\"][\"Rlq_a\"] == 1) | (files[\"TotalSignal\"][\"R2q_a\"] == 1)]\n"
   ]
  },
  {
   "attachments": {},
   "cell_type": "markdown",
   "metadata": {},
   "source": [
    "### Get DPhi in the events"
   ]
  },
  {
   "cell_type": "code",
   "execution_count": 40,
   "metadata": {},
   "outputs": [],
   "source": [
    "def get_dphi(events):\n",
    "    pT_higgs   = events[\"PTj_V2_a\"]\n",
    "    eta_higgs  = events[\"Etaj_V2_a\"]\n",
    "    phi_higgs  = events[\"Phij_V2_a\"]\n",
    "    mass_higgs = events[\"Mj_V2_a\"]\n",
    "    pT_MET = events[\"MET_et\"]\n",
    "    eta_MET = events[\"Etaj_V2_a\"]\n",
    "    phi_MET = events[\"MET_phi\"]\n",
    "    mass_MET = ak.zeros_like(events[\"MET_phi\"])\n",
    "    vec_higgs = ak.zip({\n",
    "        \"pt\"   : pT_higgs   ,\n",
    "        \"eta\"  : eta_higgs  ,\n",
    "        \"phi\"  : phi_higgs  ,\n",
    "        \"mass\" : mass_higgs ,\n",
    "    },\n",
    "    with_name=\"PtEtaPhiMLorentzVector\",\n",
    "    behavior=vector.behavior,\n",
    "    )\n",
    "    vec_MET = ak.zip({\n",
    "        \"pt\"   :   pT_MET   ,\n",
    "        \"eta\"  :  eta_MET  ,\n",
    "        \"phi\"  :  phi_MET  ,\n",
    "        \"mass\" : mass_MET ,\n",
    "    },\n",
    "    with_name=\"PtEtaPhiMLorentzVector\",\n",
    "    behavior=vector.behavior,\n",
    "    )\n",
    "    delta_phi = np.subtract(vec_MET.phi, vec_higgs.phi)\n",
    "    delta_phi = np.where(delta_phi > np.pi, delta_phi - 2*np.pi, delta_phi)\n",
    "    delta_phi = np.where(delta_phi < -np.pi, delta_phi + 2*np.pi, delta_phi)\n",
    "    delta_phi = np.abs(delta_phi)\n",
    "    print(delta_phi)\n",
    "    events[\"DPhi\"] = delta_phi"
   ]
  },
  {
   "cell_type": "code",
   "execution_count": 41,
   "metadata": {},
   "outputs": [
    {
     "name": "stdout",
     "output_type": "stream",
     "text": [
      "Add dphi of: data\n"
     ]
    },
    {
     "name": "stdout",
     "output_type": "stream",
     "text": [
      "[3.14, 0.298, 2.27, 0.915, 0.409, 0.824, ... 1.54, 0.654, 0.7, 2.53, 1.87, 0.291]\n",
      "Add dphi of: QCD\n",
      "[2.31, 3.08, 2.34, 3.11, 2.24, 2.81, ... 0.702, 0.273, 0.0464, 2.74, 3.07, 0.518]\n",
      "Add dphi of: TT\n",
      "[3.04, 0.473, 3.05, 1.31, 0.713, 0.0965, ... 0.407, 0.131, 3.02, 2.47, 2.96, 1.77]\n",
      "Add dphi of: ST\n",
      "[2.41, 0.636, 1.02, 0.0351, 2.12, 0.928, 1.44, ... 1.48, 3.02, 2.9, 2.58, 2.77, 0.61]\n",
      "Add dphi of: WJets\n",
      "[0.108, 0.158, 2, 0.181, 0.337, 2.65, 0.613, ... 2.6, 2.94, 0.249, 0.245, 2.88, 2.77]\n",
      "Add dphi of: Rest\n",
      "[2.99, 0.122, 3.07, 0.258, 0.213, 2.38, ... 1.85, 1.57, 0.00223, 0.102, 0.152, 0.309]\n",
      "Add dphi of: TotalSignal\n",
      "[1.89, 0.0198, 0.206, 3.14, 0.668, 1.61, ... 0.424, 0.474, 3.13, 0.239, 0.263, 0.227]\n",
      "Add dphi of: ggF\n",
      "[1.89, 0.0198, 0.206, 3.14, 0.668, 1.61, ... 0.0329, 0.688, 0.31, 0.00507, 2.89, 2.9]\n",
      "Add dphi of: ZH\n",
      "[0.102, 3.03, 0.153, 2.24, 2.7, 3, ... 0.424, 0.474, 3.13, 0.239, 0.263, 0.227]\n",
      "Add dphi of: WH\n",
      "[0.424, 2.3, 1.97, 1.23, 2.17, 2.47, ... 0.084, 1.92, 0.409, 1.61, 2.1, 0.0788]\n",
      "Add dphi of: ttH\n",
      "[2.67, 0.821, 3.03, 2.52, 0.515, 2.84, ... 3.08, 1.94, 0.795, 0.592, 0.57, 3.01]\n",
      "Add dphi of: VBF\n",
      "[0.763, 0.0619, 0.353, 1.86, 0.0673, 0.653, ... 1.85, 0.588, 2.18, 0.00056, 0.0315]\n",
      "Add dphi of: $H^{4q}$\n",
      "[0.206, 0.668, 1.53, 0.86, 2.52, 0.208, ... 0.196, 2.94, 3.11, 0.385, 2.47, 0.474]\n",
      "Add dphi of: $H^{3q}$\n",
      "[1.89, 3.14, 1.14, 2.38, 1.85, 2.55, 2.45, ... 0.585, 1, 0.137, 2.46, 2.47, 3.13]\n",
      "Add dphi of: W\n",
      "[0.0868, 0.266, 0.569, 1.42, 3.07, 2.61, ... 1.24, 2.87, 0.474, 0.454, 0.263, 0.227]\n",
      "Add dphi of: top\n",
      "[2.67, 3.03, 0.515, 2.84, 0.284, 2.18, ... 2.91, 1.59, 1.21, 0.232, 0.149, 3.08]\n",
      "Add dphi of: Z\n",
      "[0.077, 0.0245, 3.1, 1.64, 2.44, 2.95, ... 1.34, 1.7, 0.494, 0.0033, 0.084, 0.409]\n",
      "Add dphi of: $H^{lqq}$\n",
      "[0.0198, 2.99, 0.0146, 0.378, 0.0706, 1.44, ... 0.02, 2.36, 0.0365, 0.424, 0.239]\n",
      "Add dphi of: g/q\n",
      "[1.61, 1.16, 2.7, 1.92, 2.52, 0.654, 1.73, ... 0.0487, 1.75, 2.08, 0.19, 0.862, 2.58]\n",
      "Add dphi of: rest\n",
      "[2.98, 0.0103, 2.03, 0.343, 0.296, 2.9, ... 0.153, 1.63, 2.98, 0.07, 0.0489, 0.146]\n"
     ]
    }
   ],
   "source": [
    "for k in files:\n",
    "    print(\"Add dphi of:\",k)\n",
    "    get_dphi(events=files[k])"
   ]
  },
  {
   "cell_type": "markdown",
   "metadata": {},
   "source": [
    "### Get MET recovery mass"
   ]
  },
  {
   "cell_type": "code",
   "execution_count": 42,
   "metadata": {},
   "outputs": [],
   "source": [
    "\n",
    "def get_reco(events,mass = \"Mj_corr_V2_a\", MET_UE = None):\n",
    "    pT_higgs   = events[\"PTj_V2_a\"]\n",
    "    eta_higgs  = events[\"Etaj_V2_a\"]\n",
    "    phi_higgs  = events[\"Phij_V2_a\"]\n",
    "    mass_higgs = events[mass]\n",
    "    if not MET_UE:\n",
    "        pT_MET = events[\"MET_et\"]\n",
    "        phi_MET = events[\"MET_phi\"]\n",
    "    elif MET_UE == \"up\":\n",
    "        pT_MET = events[\"MET_et_UEup\"]\n",
    "        phi_MET = events[\"MET_phi_UEup\"]\n",
    "    elif MET_UE == \"down\":\n",
    "        pT_MET = events[\"MET_et_UEdown\"]\n",
    "        phi_MET = events[\"MET_phi_UEdown\"]\n",
    "    eta_MET = events[\"Etaj_V2_a\"]\n",
    "    mass_MET = ak.zeros_like(events[\"MET_phi\"])\n",
    "    vec_higgs = ak.zip({\n",
    "        \"pt\"   : pT_higgs   ,\n",
    "        \"eta\"  : eta_higgs  ,\n",
    "        \"phi\"  : phi_higgs  ,\n",
    "        \"mass\" : mass_higgs ,\n",
    "    },\n",
    "    with_name=\"PtEtaPhiMLorentzVector\",\n",
    "    behavior=vector.behavior,\n",
    "    )\n",
    "\n",
    "    vec_MET = ak.zip({\n",
    "        \"pt\"   :   pT_MET   ,\n",
    "        \"eta\"  :  eta_MET  ,\n",
    "        \"phi\"  :  phi_MET  ,\n",
    "        \"mass\" : mass_MET ,\n",
    "    },\n",
    "    with_name=\"PtEtaPhiMLorentzVector\",\n",
    "    behavior=vector.behavior,\n",
    "    )\n",
    "\n",
    "    vec_sum = vec_MET + vec_higgs\n",
    "    mH_reco = vec_sum.mass\n",
    "    if not MET_UE: mass_str = \"MH_Reco\" if mass == \"Mj_corr_V2_a\" else mass\n",
    "    else : mass_str = \"MH_Reco\" + \"_UE_\" + MET_UE\n",
    "    \n",
    "    if not MET_UE: \n",
    "        events[mass_str] = ak.where(( (events[\"DPhi\"] < 0.8) & (events[\"MET_et\"]/events[\"PTj_V2_a\"] > 0.1)), mH_reco, events[mass])\n",
    "    elif MET_UE == \"up\" : \n",
    "        events[mass_str] = ak.where(( (events[\"DPhi\"] < 0.8) & (events[\"MET_et_UEup\"]/events[\"PTj_V2_a\"] > 0.1)), mH_reco, events[mass])\n",
    "    elif MET_UE == \"down\" : \n",
    "        events[mass_str] = ak.where(( (events[\"DPhi\"] < 0.8) & (events[\"MET_et_UEdown\"]/events[\"PTj_V2_a\"] > 0.1)), mH_reco, events[mass])"
   ]
  },
  {
   "cell_type": "code",
   "execution_count": 43,
   "metadata": {},
   "outputs": [
    {
     "name": "stdout",
     "output_type": "stream",
     "text": [
      "Add reco of: TT\n"
     ]
    },
    {
     "name": "stdout",
     "output_type": "stream",
     "text": [
      "Add reco of: ST\n",
      "Add reco of: WJets\n",
      "Add reco of: Rest\n",
      "Add reco of: TotalSignal\n",
      "Add reco of: ggF\n",
      "Add reco of: ZH\n",
      "Add reco of: WH\n",
      "Add reco of: ttH\n",
      "Add reco of: VBF\n",
      "Add reco of: $H^{4q}$\n",
      "Add reco of: $H^{3q}$\n",
      "Add reco of: W\n",
      "Add reco of: top\n",
      "Add reco of: Z\n",
      "Add reco of: $H^{lqq}$\n",
      "Add reco of: g/q\n",
      "Add reco of: rest\n"
     ]
    }
   ],
   "source": [
    "for k in files:\n",
    "    # note that QCD and Data don't have such variation\n",
    "    if k == \"data\" or k == \"QCD\": continue\n",
    "    print(\"Add reco of:\",k)\n",
    "    get_reco(events=files[k])\n",
    "    get_reco(events=files[k],MET_UE = \"up\")\n",
    "    get_reco(events=files[k],MET_UE = \"down\")\n",
    "    \n",
    "    get_reco(events=files[k],mass = \"Mj_jesTotalUp_a\")\n",
    "    get_reco(events=files[k],mass = \"Mj_jesTotalDown_a\")\n",
    "    get_reco(events=files[k],mass = \"Mj_jerUp_a\")\n",
    "    get_reco(events=files[k],mass = \"Mj_jerDown_a\")\n",
    "    \n",
    "    get_reco(events=files[k],mass = \"Mj_jmsUp_a\")\n",
    "    get_reco(events=files[k],mass = \"Mj_jmsDown_a\")\n",
    "    get_reco(events=files[k],mass = \"Mj_jmrUp_a\")\n",
    "    get_reco(events=files[k],mass = \"Mj_jmrDown_a\")"
   ]
  },
  {
   "cell_type": "markdown",
   "metadata": {},
   "source": [
    "### some test about variables / output all the variables"
   ]
  },
  {
   "cell_type": "code",
   "execution_count": 44,
   "metadata": {},
   "outputs": [
    {
     "data": {
      "text/plain": [
       "['a_TopbWqq1c',\n",
       " 'a_HWqqWq2c',\n",
       " 'nb_m_deep_ex',\n",
       " 'a_TopbWmv',\n",
       " 'nb_l_deep_in',\n",
       " 'puWeightDown',\n",
       " 'Rlqq_a',\n",
       " 'b_HWWvsQCD_V2',\n",
       " 'LHEScaleWeight_1',\n",
       " 'a_HWqqWq1c',\n",
       " 'a_QCDc',\n",
       " 'Mj_V2_c',\n",
       " 'R2q_a',\n",
       " 'R3q_taudecay_c',\n",
       " 'puWeightUp',\n",
       " 'Mj_jmrDown_b',\n",
       " 'R4q_b',\n",
       " 'a_QCDbb',\n",
       " 'gKK_g_b',\n",
       " 'a_TopbWq0c',\n",
       " 'a_Hcc',\n",
       " 'tlqq_a',\n",
       " 'Mj_jerUp_b',\n",
       " 'Mj_corr_3',\n",
       " 'Etaj',\n",
       " 'PTj_2',\n",
       " 'PTj_mid',\n",
       " 'a_HWqqWtauhv0c',\n",
       " 'w_b',\n",
       " 'LHEScaleWeight_6',\n",
       " 'LHEScaleWeight_2',\n",
       " 'Mj',\n",
       " 'Rlq_a',\n",
       " 'tlqq_b',\n",
       " 'a_HWqqWtaumv1c',\n",
       " 'Mj_jmsUp_b',\n",
       " 'MET_et_UEup',\n",
       " 'tlqq_c',\n",
       " 'Mj_3',\n",
       " 'a_Htauhtauh',\n",
       " 'a_HWqqWev0c',\n",
       " 'u_a',\n",
       " 'a_HWqqWqq2c',\n",
       " 'a_HWqqWqq1c',\n",
       " 'Mj_jmsDown_c',\n",
       " 'z_a',\n",
       " 'R3q_taudecay_b',\n",
       " 'puWeight',\n",
       " 'Etaj_V2_c',\n",
       " 'c_HWWvsQCD_V2',\n",
       " 'Mj_jerDown_b',\n",
       " 'R2q_c',\n",
       " 'Mj_jmrUp_b',\n",
       " 'a_QCDb',\n",
       " 'Rlqq_c',\n",
       " 'PSWeight_2',\n",
       " 'MET_T1Smear_phi_XYcorr',\n",
       " 'a_HWqqWqq0c',\n",
       " 'a_QCDothers',\n",
       " 'Mj_jesTotalUp_c',\n",
       " 'MJJ',\n",
       " 'a_HWqqWtauhv1c',\n",
       " 'b_HWW_V2',\n",
       " 'Mj_jerDown_c',\n",
       " 'Mj_jmsDown_b',\n",
       " 'Mj_jesTotalUp_b',\n",
       " 'nb_m_deep_in',\n",
       " 'PSWeight_1',\n",
       " 'Mj_V2_b',\n",
       " 'MET_et',\n",
       " 'Mj_jesTotalDown_c',\n",
       " 'a_HWqqWtaumv0c',\n",
       " 'PTj_3',\n",
       " 't_c',\n",
       " 'SF',\n",
       " 'a_HWqqWq0c',\n",
       " 'MET_et_UEdown',\n",
       " 'nb_t_deep_in',\n",
       " 'LHEScaleWeight_5',\n",
       " 'z_c',\n",
       " 'a_HWqqWtauev0c',\n",
       " 'Etaj_V2_b',\n",
       " 'Mj_min',\n",
       " 'Mj_corr_2',\n",
       " 'MET_phi_UEdown',\n",
       " 'Mj_max',\n",
       " 'a_TopbWqq0c',\n",
       " 'a_HWqqWmv1c',\n",
       " 'w_a',\n",
       " 'a_HWqqWtauev1c',\n",
       " 'a_HWWvsQCD_V2',\n",
       " 'Phij_min',\n",
       " 'nb_t_deep_ex',\n",
       " 'Phij_max',\n",
       " 'Mj_jesTotalDown_b',\n",
       " 'Phij_mid',\n",
       " 'R3q_a',\n",
       " 'MET_et_NoXYCorr',\n",
       " 'z_b',\n",
       " 'Mj_jmrUp_c',\n",
       " 'R4q_a',\n",
       " 'w_c',\n",
       " 'nb_l_deep_ex',\n",
       " 'Rlqq_b',\n",
       " 'Mj_mid',\n",
       " 'a_Hbb',\n",
       " 'a_HWqqWev1c',\n",
       " 'R3q_c',\n",
       " 'Nj4_ex',\n",
       " 'PTj',\n",
       " 'PSWeight_3',\n",
       " 'Nj8',\n",
       " 'Etaj_mid',\n",
       " 'a_QCDcc',\n",
       " 'Etaj_3',\n",
       " 'a_Htauhtaum',\n",
       " 'Nj4_in',\n",
       " 'HT',\n",
       " 'MET_phi_UEup',\n",
       " 'a_TopbWev',\n",
       " 'LHEScaleWeight_7',\n",
       " 'PSWeight_0',\n",
       " 'c_HWW_V2',\n",
       " 't_a',\n",
       " 'PTj_V2_b',\n",
       " 'a_Hqq',\n",
       " 'a_TopbWtauhv',\n",
       " 'PTj_V2_c',\n",
       " 'Phij_V2_c',\n",
       " 'Mj_jmrDown_c',\n",
       " 'Etaj_max',\n",
       " 'Mj_V2_a',\n",
       " 'gKK_g_a',\n",
       " 'Mj_corr_c',\n",
       " 't_b',\n",
       " 'Mj_jmsUp_c',\n",
       " 'Phij_3',\n",
       " 'a_Hss',\n",
       " 'a_TopbWtaumv',\n",
       " 'gKK_g_c',\n",
       " 'ST',\n",
       " 'weight',\n",
       " 'Mj_corr_b',\n",
       " 'PTj_min',\n",
       " 'R3q_b',\n",
       " 'Mj_corr_a',\n",
       " 'u_b',\n",
       " 'MJJJ',\n",
       " 'MET_phi',\n",
       " 'Etaj_min',\n",
       " 'a_HWW_V2',\n",
       " 'Mj_corr_V2_b',\n",
       " 'Phij_V2_a',\n",
       " 'Mj_2',\n",
       " 'LHEScaleWeight_8',\n",
       " 'PTj_V2_a',\n",
       " 'Mj_corr_V2_c',\n",
       " 'Phij_V2_b',\n",
       " 'Etaj_2',\n",
       " 'Rlq_b',\n",
       " 'Rlq_c',\n",
       " 'a_TopbWq1c',\n",
       " 'R3q_taudecay_a',\n",
       " 'R2q_b',\n",
       " 'PTj_max',\n",
       " 'MET_T1Smear_pt_XYcorr',\n",
       " 'LHEScaleWeight_3',\n",
       " 'u_c',\n",
       " 'a_HWqqWmv0c',\n",
       " 'a_TopbWtauev',\n",
       " 'Mj_corr',\n",
       " 'Mj_jerUp_c',\n",
       " 'Phij',\n",
       " 'LHEScaleWeight_4',\n",
       " 'a_Htauhtaue',\n",
       " 'Phij_2',\n",
       " 'Mj_corr_V2_a',\n",
       " 'MET_phi_NoXYCorr',\n",
       " 'R4q_c',\n",
       " 'SF_unc',\n",
       " 'LHEScaleWeight_0',\n",
       " 'Etaj_V2_a',\n",
       " 'DPhi',\n",
       " 'MH_Reco',\n",
       " 'MH_Reco_UE_up',\n",
       " 'MH_Reco_UE_down',\n",
       " 'Mj_jesTotalUp_a',\n",
       " 'Mj_jesTotalDown_a',\n",
       " 'Mj_jerUp_a',\n",
       " 'Mj_jerDown_a',\n",
       " 'Mj_jmsUp_a',\n",
       " 'Mj_jmsDown_a',\n",
       " 'Mj_jmrUp_a',\n",
       " 'Mj_jmrDown_a']"
      ]
     },
     "execution_count": 44,
     "metadata": {},
     "output_type": "execute_result"
    }
   ],
   "source": [
    "files[\"TotalSignal\"].fields"
   ]
  },
  {
   "attachments": {},
   "cell_type": "markdown",
   "metadata": {},
   "source": [
    "### plot setting"
   ]
  },
  {
   "cell_type": "code",
   "execution_count": 45,
   "metadata": {},
   "outputs": [],
   "source": [
    "import matplotlib as mpl\n",
    "import matplotlib.pyplot as plt\n",
    "import mplhep as hep\n",
    "import boost_histogram as bh\n",
    "from cycler import cycler\n",
    "\n",
    "use_helvet = False ## true: use helvetica for plots, make sure the system have the font installed\n",
    "if use_helvet:\n",
    "    CMShelvet = hep.style.CMS\n",
    "    CMShelvet['font.sans-serif'] = ['Helvetica', 'Arial']\n",
    "    plt.style.use(CMShelvet)\n",
    "else:\n",
    "    plt.style.use(hep.style.CMS)\n",
    "\n",
    "def flow(hist: bh.Histogram, overflow: bool=True, underflow: bool=True):\n",
    "    h, var = hist.view(flow=(overflow | underflow)).value, hist.view(flow=(overflow | underflow)).variance\n",
    "    if overflow: \n",
    "        # h, var also include underflow bins but in plots usually no underflow data\n",
    "        # And we've filled None with -999, so we shouldn't show underflow data (mostly from filled None)\n",
    "        # You have to access the overflow and underflow bins data like below:\n",
    "        h[-2] += h[-1]; var[-2] += var[-1]\n",
    "    if underflow:\n",
    "        h[1] += h[0]; var[1] += var[0]\n",
    "    if overflow or underflow:\n",
    "        h, var = h[1:-1], var[1:-1]\n",
    "    return h, var\n",
    "    # Return the updated histogram and variance\n",
    "\n",
    "def error_bar(h, var, type='data'):\n",
    "    from scipy.interpolate import CubicSpline\n",
    "    if type == 'data':\n",
    "        number = h\n",
    "    elif type == 'mc':  # h = k*N, var = k^2*N, std = k*sqrt(N)\n",
    "        number = h**2 / var\n",
    "    else:\n",
    "        raise ValueError(\"type should be 'data' or 'mc'! \")\n",
    "    center = range(11) # Number: 0-10\n",
    "    up = np.array([1.84, 3.30, 4.64, 5.92, 7.16, 8.38, 9.58, 10.77, 11.95, 13.11, 14.27]) - center\n",
    "    down = center - np.array([0, 0.17, 0.71, 1.37, 2.09, 2.84, 3.62, 4.42, 5.23, 6.06, 6.89])\n",
    "    #cs means to create a CubicSpline object\n",
    "    cs_up = CubicSpline(x=center, y=up)\n",
    "    cs_down = CubicSpline(x=center, y=down)\n",
    "    \n",
    "    Garwood = (number>0)&(number<10)\n",
    "    poison_error_bar = np.sqrt(number)\n",
    "    up_error_bar = np.copy(poison_error_bar)\n",
    "    down_error_bar = np.copy(poison_error_bar)\n",
    "    up_error_bar[Garwood] = cs_up(number[Garwood])\n",
    "    down_error_bar[Garwood] = cs_down(number[Garwood])\n",
    "    if type == 'mc':\n",
    "        up_error_bar *= var/h\n",
    "        down_error_bar *= var/h\n",
    "    up_error_bar [up_error_bar < 0 ] = 0\n",
    "    down_error_bar [down_error_bar < 0 ] = 0\n",
    "    return np.array([down_error_bar, up_error_bar])\n",
    "\n",
    "\n",
    "# function to find the optimal region with S/sqrt(B)\n",
    "# not used so far\n",
    "def optimalcut(shist, bhist):\n",
    "    n_bins = len(shist)\n",
    "    best_lower = None\n",
    "    best_upper = None\n",
    "    best_s_sqrt_b = 0\n",
    "\n",
    "    for lower in range(n_bins):\n",
    "        for upper in range(lower+1, n_bins+1):\n",
    "            s = np.sum(shist[lower:upper])\n",
    "            b = np.sum(bhist[lower:upper])\n",
    "            s_sqrt_b = s / np.sqrt(b + 1)\n",
    "\n",
    "            if s_sqrt_b > best_s_sqrt_b:\n",
    "                best_lower = lower\n",
    "                best_upper = upper\n",
    "                best_s_sqrt_b = s_sqrt_b\n",
    "\n",
    "    return best_lower, best_upper, best_s_sqrt_b\n",
    "\n",
    "def optimalcut_oneside(shist, bhist, epsilon = 0.01):\n",
    "    '''\n",
    "    Given the signal histogram and background histogram, \n",
    "    show the one-side cut for the variable to get best s/sqrt(b).\n",
    "    Args:\n",
    "        shist:signal histogram\n",
    "        bhist:background histogram\n",
    "        epsilon(float): epsilon to avoid numerical errs \n",
    "    '''\n",
    "    n_bins = len(shist)\n",
    "    best_cut = 0\n",
    "    best_s_sqrt_b = 0\n",
    "\n",
    "    for cut in range(n_bins):\n",
    "        s = np.sum(shist[cut:])\n",
    "        b = np.sum(bhist[cut:])\n",
    "        s_sqrt_b = s / np.sqrt(b + epsilon)\n",
    "        if s_sqrt_b > best_s_sqrt_b:\n",
    "            best_cut = cut\n",
    "            best_s_sqrt_b = s_sqrt_b\n",
    "        \n",
    "    return best_cut, best_s_sqrt_b\n",
    "\n",
    "def optimalcut_mid_combine(shist1, shist2, bhist, epsilon = 1):\n",
    "    '''\n",
    "    Given the signal histogram and background histogram, \n",
    "    show the one-side cut for the variable to get best s/sqrt(b).\n",
    "    Args:\n",
    "        shist:signal histogram\n",
    "        bhist:background histogram\n",
    "        epsilon(float): epsilon to avoid numerical errs \n",
    "    '''\n",
    "    n_bins = len(shist1)\n",
    "    best_cut = 0\n",
    "    best_combined_sig_two_side = 0\n",
    "\n",
    "    for cut in range(n_bins):\n",
    "        s_right_side = np.sum(shist2[cut:])\n",
    "        b_right_side = np.sum(bhist[cut:])\n",
    "        s_left_side = np.sum(shist1[:cut])\n",
    "        b_left_side = np.sum(bhist[:cut])\n",
    "        s_sqrt_b_right_side = s_right_side / np.sqrt(b_right_side + epsilon)\n",
    "        s_sqrt_b_left_side = s_left_side / np.sqrt(b_left_side + epsilon)\n",
    "        combined_sig_two_side = np.sqrt((s_sqrt_b_right_side)**2 + (s_sqrt_b_left_side)**2)\n",
    "        if combined_sig_two_side > best_combined_sig_two_side:\n",
    "            best_cut = cut\n",
    "            best_combined_sig_two_side = combined_sig_two_side\n",
    "        \n",
    "    return best_cut, best_combined_sig_two_side\n"
   ]
  },
  {
   "cell_type": "markdown",
   "metadata": {},
   "source": [
    "### Define templates dir"
   ]
  },
  {
   "cell_type": "code",
   "execution_count": 46,
   "metadata": {},
   "outputs": [],
   "source": [
    "MAIN_DIR = \".\"\n",
    "\n",
    "plot_dir = f\"{MAIN_DIR}/templates/18Mar24\"\n",
    "_ = os.system(f\"mkdir -p {plot_dir}\")"
   ]
  },
  {
   "cell_type": "markdown",
   "metadata": {},
   "source": [
    "### Define observable object variables"
   ]
  },
  {
   "cell_type": "code",
   "execution_count": 47,
   "metadata": {},
   "outputs": [],
   "source": [
    "@dataclass\n",
    "class ShapeVar:\n",
    "    \"\"\"Class to store attributes of a variable to make a histogram of.\n",
    "\n",
    "    Args:\n",
    "        var (str): variable name\n",
    "        label (str): variable label\n",
    "        bins (List[int]): bins\n",
    "        reg (bool, optional): Use a regular axis or variable binning. Defaults to True.\n",
    "        blind_window (List[int], optional): if blinding, set min and max values to set 0. Defaults to None.\n",
    "        significance_dir (str, optional): if plotting significance, which direction to plot it in.\n",
    "          See more in plotting.py:ratioHistPlot(). Options are [\"left\", \"right\", \"bin\"]. Defaults to \"right\".\n",
    "    \"\"\"\n",
    "\n",
    "    var: str = None\n",
    "    label: str = None\n",
    "    bins: List[int] = None\n",
    "    reg: bool = True #regular axis\n",
    "    blind_window: List[int] = None\n",
    "    significance_dir: str = \"right\"\n",
    "\n",
    "    def __post_init__(self):\n",
    "        # create axis used for histogramming\n",
    "        if self.reg:\n",
    "            self.axis = hist2.axis.Regular(*self.bins, name=self.var, label=self.label)\n",
    "        else:\n",
    "            self.axis = hist2.axis.Variable(self.bins, name=self.var, label=self.label)\n",
    "\n",
    "@dataclass\n",
    "class Syst:\n",
    "    samples: list[str] = None\n",
    "    years: list[str] = field(default_factory=lambda: years)\n",
    "    label: str = None\n",
    "    \n",
    "def blindBins(h: hist2.Hist, blind_region: List, blind_sample: str = None, axis=0):\n",
    "    \"\"\"\n",
    "    Blind (i.e. zero) bins in histogram ``h``.\n",
    "    If ``blind_sample`` specified, only blind that sample, else blinds all.\n",
    "    \"\"\"\n",
    "    if axis > 0:\n",
    "        raise Exception(\"not implemented > 1D blinding yet\")\n",
    "\n",
    "    bins = h.axes[axis + 1].edges\n",
    "    lv = int(np.searchsorted(bins, blind_region[0], \"right\"))\n",
    "    rv = int(np.searchsorted(bins, blind_region[1], \"left\") + 1)\n",
    "\n",
    "    if blind_sample is not None:\n",
    "        data_key_index = np.where(np.array(list(h.axes[0])) == blind_sample)[0][0]\n",
    "        h.view(flow=True)[data_key_index][lv:rv].value = 0\n",
    "        h.view(flow=True)[data_key_index][lv:rv].variance = 0\n",
    "    else:\n",
    "        h.view(flow=True)[:, lv:rv].value = 0\n",
    "        h.view(flow=True)[:, lv:rv].variance = 0       \n",
    "shape_vars = [\n",
    "    ShapeVar(\n",
    "        \"MH_Reco\",\n",
    "        r\"Higgs candidate MET recovery mass [GeV]\",\n",
    "        [20, 50, 250],\n",
    "        reg=True,\n",
    "        blind_window=[90, 150],\n",
    "    )\n",
    "]\n"
   ]
  },
  {
   "cell_type": "markdown",
   "metadata": {},
   "source": [
    "### Define samples we consider"
   ]
  },
  {
   "cell_type": "code",
   "execution_count": 48,
   "metadata": {},
   "outputs": [],
   "source": [
    "sig_keys = [\n",
    "    \"ggF\",\n",
    "    \"VBF\",\n",
    "    \"ZH\",\n",
    "    \"WH\",\n",
    "    \"ttH\",\n",
    "]\n",
    "\n",
    "bkg_keys = [\n",
    "    \"TT\",\n",
    "    \"WJets\",\n",
    "    \"ST\",\n",
    "    \"Rest\"\n",
    "]\n",
    "\n",
    "mc_keys = sig_keys + bkg_keys"
   ]
  },
  {
   "cell_type": "markdown",
   "metadata": {},
   "source": [
    "### Define weight shift list"
   ]
  },
  {
   "cell_type": "code",
   "execution_count": 50,
   "metadata": {},
   "outputs": [],
   "source": [
    "years = [\"2016APV\", \"2016\", \"2017\", \"2018\"]\n",
    "\n",
    "weight_shifts = {\n",
    "    \"pileup\": Syst(samples=mc_keys, label=\"Pileup\"),\n",
    "    \"ISRPartonShower\": Syst(samples=mc_keys, label=\"ISR Parton Shower\"),\n",
    "    \"FSRPartonShower\": Syst(samples=mc_keys, label=\"FSR Parton Shower\"),\n",
    "    \"QCDscale\": Syst(samples=bkg_keys, label=\"QCDScale\"),\n",
    "    \"trigger\" : Syst(samples=mc_keys, label=\"Trigger SF\"),\n",
    "}"
   ]
  },
  {
   "cell_type": "markdown",
   "metadata": {},
   "source": [
    "### Define variation shift list"
   ]
  },
  {
   "cell_type": "code",
   "execution_count": 51,
   "metadata": {},
   "outputs": [],
   "source": [
    "jecs = {\n",
    "    \"JES\": \"JES_jes\",\n",
    "    \"JER\": \"JER\",\n",
    "}\n",
    "\n",
    "uncluste = {\n",
    "    \"UE\": \"unclusteredEnergy\",\n",
    "}\n",
    "\n",
    "jec_shifts = []\n",
    "for key in jecs:\n",
    "    for shift in [\"up\", \"down\"]:\n",
    "        jec_shifts.append(f\"{key}_{shift}\")\n",
    "\n",
    "ue_shifts = []\n",
    "for key in ue_shifts:\n",
    "    for shift in [\"up\", \"down\"]:\n",
    "        ue_shifts.append(f\"{key}_{shift}\")"
   ]
  },
  {
   "cell_type": "markdown",
   "metadata": {},
   "source": [
    "### Define CUT(aka. regions)"
   ]
  },
  {
   "cell_type": "code",
   "execution_count": 9,
   "metadata": {},
   "outputs": [],
   "source": [
    "CUT = {        \n",
    "    \"SR1a\" : {k:  (files[k][\"nb_t_deep_in\"] == 0 ) & (files[k][\"MH_Reco\"] >= 50) & (files[k][\"MET_et\"]/files[k][\"PTj_V2_a\"] <= 0.25) & (files[k][\"a_HWW_V2\"] >= 0.99) for k in files}, \n",
    "    \"SR1b\" : {k:  (files[k][\"nb_t_deep_in\"] == 0 ) & (files[k][\"MH_Reco\"] >= 50) & (files[k][\"MET_et\"]/files[k][\"PTj_V2_a\"] <= 0.25) & (files[k][\"a_HWW_V2\"] >= 0.92) & (files[k][\"a_HWW_V2\"] < 0.99) for k in files},   \n",
    "    \"SR2a\" : {k:  (files[k][\"nb_t_deep_in\"] == 0 ) & (files[k][\"MH_Reco\"] >= 50) & (files[k][\"MET_et\"]/files[k][\"PTj_V2_a\"] > 0.25) & (files[k][\"a_HWW_V2\"] >= 0.99) & (files[k][\"DPhi\"] < 0.8)for k in files}, \n",
    "    \"SR2b\" : {k:  (files[k][\"nb_t_deep_in\"] == 0 ) & (files[k][\"MH_Reco\"] >= 50) & (files[k][\"MET_et\"]/files[k][\"PTj_V2_a\"] > 0.25) & (files[k][\"a_HWW_V2\"] >= 0.92) & (files[k][\"a_HWW_V2\"] < 0.99) & (files[k][\"DPhi\"] < 0.8)for k in files},   \n",
    "    \"CR1\"  : {k:  (files[k][\"nb_t_deep_in\"] == 0 ) & (files[k][\"MH_Reco\"] >= 50) & (files[k][\"MET_et\"]/files[k][\"PTj_V2_a\"] <= 0.25) & (files[k][\"a_HWW_V2\"] < 0.92) for k in files},\n",
    "    \"CR2\"  : {k:  (files[k][\"nb_t_deep_in\"] == 0 ) & (files[k][\"MH_Reco\"] >= 50) & (files[k][\"MET_et\"]/files[k][\"PTj_V2_a\"] > 0.25)  & (files[k][\"a_HWW_V2\"] < 0.92) & (files[k][\"DPhi\"] < 0.8) for k in files},   \n",
    "    }\n",
    "\n",
    "# CR: 0.6-0.8"
   ]
  },
  {
   "cell_type": "code",
   "execution_count": 10,
   "metadata": {},
   "outputs": [],
   "source": [
    "CUT_BLINDED = {\n",
    "        \"SR1a_blinded\" : {k: (files[k][\"nb_t_deep_in\"] == 0 ) & (files[k][\"MH_Reco\"] >= 50) & ((files[k][\"MH_Reco\"] <= 90) | (files[k][\"MH_Reco\"] >= 150)) & (files[k][\"MET_et\"]/files[k][\"PTj_V2_a\"] <= 0.25) & (files[k][\"a_HWW_V2\"] >= 0.99) for k in files}, \n",
    "        \"SR1b_blinded\" : {k: (files[k][\"nb_t_deep_in\"] == 0 ) & (files[k][\"MH_Reco\"] >= 50) & ((files[k][\"MH_Reco\"] <= 90) | (files[k][\"MH_Reco\"] >= 150)) & (files[k][\"MET_et\"]/files[k][\"PTj_V2_a\"] <= 0.25) & (files[k][\"a_HWW_V2\"] >= 0.92) & (files[k][\"a_HWW_V2\"] < 0.99) for k in files},   \n",
    "        \"SR2a_blinded\" : {k: (files[k][\"nb_t_deep_in\"] == 0 ) & (files[k][\"MH_Reco\"] >= 50) & ((files[k][\"MH_Reco\"] <= 90) | (files[k][\"MH_Reco\"] >= 150)) & (files[k][\"MET_et\"]/files[k][\"PTj_V2_a\"] > 0.25) & (files[k][\"a_HWW_V2\"] >= 0.99) & (files[k][\"DPhi\"] < 0.8)for k in files}, \n",
    "        \"SR2b_blinded\" : {k: (files[k][\"nb_t_deep_in\"] == 0 ) & (files[k][\"MH_Reco\"] >= 50) & ((files[k][\"MH_Reco\"] <= 90) | (files[k][\"MH_Reco\"] >= 150)) & (files[k][\"MET_et\"]/files[k][\"PTj_V2_a\"] > 0.25) & (files[k][\"a_HWW_V2\"] >= 0.92) & (files[k][\"a_HWW_V2\"] < 0.99) & (files[k][\"DPhi\"] < 0.8)for k in files},   \n",
    "        \"CR1_blinded\"  : {k: (files[k][\"nb_t_deep_in\"] == 0 ) & (files[k][\"MH_Reco\"] >= 50) & ((files[k][\"MH_Reco\"] <= 90) | (files[k][\"MH_Reco\"] >= 150)) & (files[k][\"MET_et\"]/files[k][\"PTj_V2_a\"] <= 0.25) & (files[k][\"a_HWW_V2\"] < 0.92) for k in files},\n",
    "        \"CR2_blinded\"  : {k: (files[k][\"nb_t_deep_in\"] == 0 ) & (files[k][\"MH_Reco\"] >= 50) & ((files[k][\"MH_Reco\"] <= 90) | (files[k][\"MH_Reco\"] >= 150)) & (files[k][\"MET_et\"]/files[k][\"PTj_V2_a\"] > 0.25)  & (files[k][\"a_HWW_V2\"] < 0.92) & (files[k][\"DPhi\"] < 0.8)for k in files},   \n",
    "}"
   ]
  },
  {
   "cell_type": "markdown",
   "metadata": {},
   "source": [
    "### Save hist templates to pkl files\n",
    "\n",
    "We note here that no particular operation is needed for QCD, since we only need raw QCD MC ratio as initial tranfer factor in the actual QCD prediction, and rhalphabet method will use (data - other bkg) in fail(control) region and perform simultaneous fit with pass(signal) region"
   ]
  },
  {
   "cell_type": "code",
   "execution_count": 11,
   "metadata": {},
   "outputs": [],
   "source": [
    "\n",
    "def save_pkl(files, path_str = plot_dir, template_file = \"hists_templates_run2.pkl\"):\n",
    "    regions = [\"SR1a\",\"SR1b\",\"CR1\",\"SR2a\",\"SR2b\",\"CR2\"] #signal regions or control regions\n",
    "    # samples = list(['data','QCD','Top','WJets','Rest','TotalSignal','ggF','VH','ttH','VBF']) \n",
    "    samples = list(['data','QCD','TT','ST','WJets','Rest','ggF','WH','ZH','ttH','VBF']) # ignore the combined \"TotalSignal\" for a test\n",
    "    weights = [] #uncertainties to be added \n",
    "    templates = {}\n",
    "    for region in regions:\n",
    "        templates[region] = hist2.Hist(\n",
    "            hist2.axis.StrCategory(samples, name=\"Sample\"),\n",
    "            # hist2.axis.StrCategory([], name=\"systematic\", growth=True),\n",
    "            *[shape_var.axis for shape_var in shape_vars],\n",
    "            storage=\"weight\",\n",
    "            ) #initialize a hist object\n",
    "        for sample in samples:\n",
    "            data = files[sample][CUT[region][sample]] if (\"blinded\" not in region) else files[sample][CUT_BLINDED[region][sample]]\n",
    "            templates[region].fill(\n",
    "                Sample=sample,\n",
    "                # systematic=\"nominal\",\n",
    "                MH_Reco=data[\"MH_Reco\"],\n",
    "                weight=data[\"weight\"],\n",
    "            )\n",
    "            if sample == \"data\": \n",
    "                if (region.endswith(\"a\") or region.endswith(\"b\")):\n",
    "                    # blind signal mass windows in pass region in data\n",
    "                    print(\"blind data of \",region)\n",
    "                    for i, shape_var in enumerate(shape_vars):\n",
    "                        if shape_var.blind_window is not None:\n",
    "                            blindBins(templates[region], shape_var.blind_window, \"data\", axis=i) \n",
    "            for weight in weights:\n",
    "                pass #uncertainties to be added\n",
    "        print(\"done fill template \",region)        \n",
    "    #Creates blinded copies of each region's templates and saves a pickle of the templates\n",
    "    blind_window = shape_vars[0].blind_window\n",
    "    for label, template in list(templates.items()):\n",
    "        blinded_template = deepcopy(template)\n",
    "        blindBins(blinded_template, blind_window)\n",
    "        templates[f\"{label}Blinded\"] = blinded_template\n",
    "    with open(path_str + template_file, \"wb\") as fp:\n",
    "        pkl.dump(templates, fp) # dump the templates of each region in a pkl file\n",
    "        print(\"Saved templates to\", template_file)"
   ]
  },
  {
   "cell_type": "code",
   "execution_count": 12,
   "metadata": {},
   "outputs": [
    {
     "name": "stdout",
     "output_type": "stream",
     "text": [
      "blind data of  SR1a\n",
      "done fill template  SR1a\n",
      "blind data of  SR1b\n",
      "done fill template  SR1b\n",
      "done fill template  CR1\n"
     ]
    },
    {
     "name": "stdout",
     "output_type": "stream",
     "text": [
      "blind data of  SR2a\n",
      "done fill template  SR2a\n",
      "blind data of  SR2b\n",
      "done fill template  SR2b\n",
      "done fill template  CR2\n",
      "Saved templates to hists_templates_run2.pkl\n"
     ]
    }
   ],
   "source": [
    "save_pkl(files = files)\n"
   ]
  },
  {
   "cell_type": "markdown",
   "metadata": {},
   "source": [
    "### some test about the output templates"
   ]
  },
  {
   "cell_type": "code",
   "execution_count": 13,
   "metadata": {},
   "outputs": [
    {
     "data": {
      "text/html": [
       "<html>\n",
       "<div style=\"display:flex; align-items:center;\">\n",
       "<div style=\"width:290px;\">\n",
       "<svg xmlns=\"http://www.w3.org/2000/svg\" viewBox=\"-10 -105 270 120\">\n",
       "<line x1=\"-5\" y1=\"0\" x2=\"255\" y2=\"0\" style=\"fill:none;stroke-width:2;stroke:currentColor\"/>\n",
       "<text text-anchor=\"middle\" x=\"0\" y=\"15\" style=\"fill:currentColor;\">\n",
       "50\n",
       "</text>\n",
       "<text text-anchor=\"middle\" x=\"250\" y=\"15\" style=\"fill:currentColor;\">\n",
       "250\n",
       "</text>\n",
       "<text text-anchor=\"middle\" x=\"125.0\" y=\"15\" style=\"fill:currentColor;\">\n",
       "Higgs candidate MET recovery mass [GeV]\n",
       "</text>\n",
       "<polyline points=\"  0,0   0,-12.5 12.5,-12.5 12.5,-28.6  25,-28.6  25,-39.3 37.5,-39.3 37.5,-58.9  50,-58.9  50,-0 62.5,-0 62.5,-0  75,-0  75,-0 87.5,-0 87.5,-0 100,-0 100,-0 112.5,-0 112.5,-0 125,-0 125,-100 137.5,-100 137.5,-83.9 150,-83.9 150,-83.9 162.5,-83.9 162.5,-87.5 175,-87.5 175,-94.6 187.5,-94.6 187.5,-66.1 200,-66.1 200,-44.6 212.5,-44.6 212.5,-33.9 225,-33.9 225,-33.9 237.5,-33.9 237.5,-16.1 250,-16.1 250,0\" style=\"fill:none; stroke:currentColor;\"/>\n",
       "</svg>\n",
       "</div>\n",
       "<div style=\"flex=grow:1;\">\n",
       "Regular(20, 50, 250, name='MH_Reco', label='Higgs candidate MET recovery mass [GeV]')<br/>\n",
       "<hr style=\"margin-top:.2em; margin-bottom:.2em;\"/>\n",
       "Weight() Σ=WeightedSum(value=439, variance=439) <em>(WeightedSum(value=478, variance=478) with flow)</em>\n",
       "\n",
       "</div>\n",
       "</div>\n",
       "</html>"
      ],
      "text/plain": [
       "Hist(Regular(20, 50, 250, name='MH_Reco', label='Higgs candidate MET recovery mass [GeV]'), storage=Weight()) # Sum: WeightedSum(value=439, variance=439) (WeightedSum(value=478, variance=478) with flow)"
      ]
     },
     "execution_count": 13,
     "metadata": {},
     "output_type": "execute_result"
    }
   ],
   "source": [
    "with open(\"/home/pku/zhaoyz/Higgs/boostedHWW/postprocessing/templates/29Jan2024/hists_templates_run2.pkl\",\"rb\") as f:\n",
    "    hists_template1 = pkl.load(f)\n",
    "# hists_template[\"pass\"][\"QCD\",:]  \n",
    "# hists_template[\"pass\"][\"QCD\",:].sum().value\n",
    "# hists_template[\"CR2\"][\"QCD\",:]\n",
    "hists_template1[\"SR2a\"][\"data\",:]"
   ]
  },
  {
   "cell_type": "code",
   "execution_count": 14,
   "metadata": {},
   "outputs": [
    {
     "data": {
      "text/html": [
       "<html>\n",
       "<div style=\"display:flex; align-items:center;\">\n",
       "<div style=\"width:290px;\">\n",
       "<svg xmlns=\"http://www.w3.org/2000/svg\" viewBox=\"-20 -270 290 290\">\n",
       "<text text-anchor=\"middle\" x=\"0\" y=\"13\" style=\"fill:currentColor;\">\n",
       "0\n",
       "</text>\n",
       "<text text-anchor=\"middle\" x=\"250\" y=\"13\" style=\"fill:currentColor;\">\n",
       "9\n",
       "</text>\n",
       "<text text-anchor=\"middle\" x=\"-10\" y=\"0\" style=\"fill:currentColor;\">\n",
       "50\n",
       "</text>\n",
       "<text text-anchor=\"middle\" x=\"-10\" y=\"-250\" style=\"fill:currentColor;\">\n",
       "250\n",
       "</text>\n",
       "<text text-anchor=\"middle\" x=\"125.0\" y=\"13\" style=\"fill:currentColor;\">\n",
       "Sample\n",
       "</text>\n",
       "<text text-anchor=\"middle\" x=\"-10\" y=\"-125.0\" transform=\"rotate(-90,-10,-125.0)\" style=\"fill:currentColor;\">\n",
       "Higgs candidate MET recovery mass [GeV]\n",
       "</text>\n",
       "<rect x=\"0.0\" y=\"-12.5\" width=\"27.778\" height=\"12.5\" opacity=\"0.7393112400886992\" fill=\"currentColor\" stroke-width=\"0.1\"/>\n",
       "<rect x=\"27.777777777777775\" y=\"-12.5\" width=\"27.778\" height=\"12.5\" opacity=\"0.8528734852745937\" fill=\"currentColor\" stroke-width=\"0.1\"/>\n",
       "<rect x=\"55.55555555555555\" y=\"-12.5\" width=\"27.778\" height=\"12.5\" opacity=\"0.002899988484727368\" fill=\"currentColor\" stroke-width=\"0.1\"/>\n",
       "<rect x=\"83.33333333333333\" y=\"-12.5\" width=\"27.778\" height=\"12.5\" opacity=\"0.036855274175761385\" fill=\"currentColor\" stroke-width=\"0.1\"/>\n",
       "<rect x=\"111.1111111111111\" y=\"-12.5\" width=\"27.778\" height=\"12.5\" opacity=\"0.006863887640368086\" fill=\"currentColor\" stroke-width=\"0.1\"/>\n",
       "<rect x=\"138.88888888888889\" y=\"-12.5\" width=\"27.778\" height=\"12.5\" opacity=\"0.0003852756420975204\" fill=\"currentColor\" stroke-width=\"0.1\"/>\n",
       "<rect x=\"166.66666666666666\" y=\"-12.5\" width=\"27.778\" height=\"12.5\" opacity=\"0.0001564328148157002\" fill=\"currentColor\" stroke-width=\"0.1\"/>\n",
       "<rect x=\"194.44444444444446\" y=\"-12.5\" width=\"27.778\" height=\"12.5\" opacity=\"2.763904596792724e-05\" fill=\"currentColor\" stroke-width=\"0.1\"/>\n",
       "<rect x=\"222.2222222222222\" y=\"-12.5\" width=\"27.778\" height=\"12.5\" opacity=\"0.0001874447111904417\" fill=\"currentColor\" stroke-width=\"0.1\"/>\n",
       "<rect x=\"0.0\" y=\"-25.0\" width=\"27.778\" height=\"12.5\" opacity=\"0.7212792586231211\" fill=\"currentColor\" stroke-width=\"0.1\"/>\n",
       "<rect x=\"27.777777777777775\" y=\"-25.0\" width=\"27.778\" height=\"12.5\" opacity=\"0.8198632782214136\" fill=\"currentColor\" stroke-width=\"0.1\"/>\n",
       "<rect x=\"55.55555555555555\" y=\"-25.0\" width=\"27.778\" height=\"12.5\" opacity=\"0.0036756098558701376\" fill=\"currentColor\" stroke-width=\"0.1\"/>\n",
       "<rect x=\"83.33333333333333\" y=\"-25.0\" width=\"27.778\" height=\"12.5\" opacity=\"0.03946952762187769\" fill=\"currentColor\" stroke-width=\"0.1\"/>\n",
       "<rect x=\"111.1111111111111\" y=\"-25.0\" width=\"27.778\" height=\"12.5\" opacity=\"0.008861003358857512\" fill=\"currentColor\" stroke-width=\"0.1\"/>\n",
       "<rect x=\"138.88888888888889\" y=\"-25.0\" width=\"27.778\" height=\"12.5\" opacity=\"0.0005595454308160077\" fill=\"currentColor\" stroke-width=\"0.1\"/>\n",
       "<rect x=\"166.66666666666666\" y=\"-25.0\" width=\"27.778\" height=\"12.5\" opacity=\"0.000212598867493645\" fill=\"currentColor\" stroke-width=\"0.1\"/>\n",
       "<rect x=\"194.44444444444446\" y=\"-25.0\" width=\"27.778\" height=\"12.5\" opacity=\"3.442206513053975e-05\" fill=\"currentColor\" stroke-width=\"0.1\"/>\n",
       "<rect x=\"222.2222222222222\" y=\"-25.0\" width=\"27.778\" height=\"12.5\" opacity=\"0.0003912009872117455\" fill=\"currentColor\" stroke-width=\"0.1\"/>\n",
       "<rect x=\"0.0\" y=\"-37.5\" width=\"27.778\" height=\"12.5\" opacity=\"0.7881036605249692\" fill=\"currentColor\" stroke-width=\"0.1\"/>\n",
       "<rect x=\"27.777777777777775\" y=\"-37.5\" width=\"27.778\" height=\"12.5\" opacity=\"1.0\" fill=\"currentColor\" stroke-width=\"0.1\"/>\n",
       "<rect x=\"55.55555555555555\" y=\"-37.5\" width=\"27.778\" height=\"12.5\" opacity=\"0.010346840268939993\" fill=\"currentColor\" stroke-width=\"0.1\"/>\n",
       "<rect x=\"83.33333333333333\" y=\"-37.5\" width=\"27.778\" height=\"12.5\" opacity=\"0.05522693922069232\" fill=\"currentColor\" stroke-width=\"0.1\"/>\n",
       "<rect x=\"111.1111111111111\" y=\"-37.5\" width=\"27.778\" height=\"12.5\" opacity=\"0.019915155263040808\" fill=\"currentColor\" stroke-width=\"0.1\"/>\n",
       "<rect x=\"138.88888888888889\" y=\"-37.5\" width=\"27.778\" height=\"12.5\" opacity=\"0.0009072368794747558\" fill=\"currentColor\" stroke-width=\"0.1\"/>\n",
       "<rect x=\"166.66666666666666\" y=\"-37.5\" width=\"27.778\" height=\"12.5\" opacity=\"0.00031376226122898314\" fill=\"currentColor\" stroke-width=\"0.1\"/>\n",
       "<rect x=\"194.44444444444446\" y=\"-37.5\" width=\"27.778\" height=\"12.5\" opacity=\"4.655633090013203e-05\" fill=\"currentColor\" stroke-width=\"0.1\"/>\n",
       "<rect x=\"222.2222222222222\" y=\"-37.5\" width=\"27.778\" height=\"12.5\" opacity=\"0.0004626399316248414\" fill=\"currentColor\" stroke-width=\"0.1\"/>\n",
       "<rect x=\"0.0\" y=\"-50.0\" width=\"27.778\" height=\"12.5\" opacity=\"0.7796180221882266\" fill=\"currentColor\" stroke-width=\"0.1\"/>\n",
       "<rect x=\"27.777777777777775\" y=\"-50.0\" width=\"27.778\" height=\"12.5\" opacity=\"0.90113349155465\" fill=\"currentColor\" stroke-width=\"0.1\"/>\n",
       "<rect x=\"55.55555555555555\" y=\"-50.0\" width=\"27.778\" height=\"12.5\" opacity=\"0.023145701286819503\" fill=\"currentColor\" stroke-width=\"0.1\"/>\n",
       "<rect x=\"83.33333333333333\" y=\"-50.0\" width=\"27.778\" height=\"12.5\" opacity=\"0.09032260094596758\" fill=\"currentColor\" stroke-width=\"0.1\"/>\n",
       "<rect x=\"111.1111111111111\" y=\"-50.0\" width=\"27.778\" height=\"12.5\" opacity=\"0.01457005538334179\" fill=\"currentColor\" stroke-width=\"0.1\"/>\n",
       "<rect x=\"138.88888888888889\" y=\"-50.0\" width=\"27.778\" height=\"12.5\" opacity=\"0.001343549354743056\" fill=\"currentColor\" stroke-width=\"0.1\"/>\n",
       "<rect x=\"166.66666666666666\" y=\"-50.0\" width=\"27.778\" height=\"12.5\" opacity=\"0.0004785751973762465\" fill=\"currentColor\" stroke-width=\"0.1\"/>\n",
       "<rect x=\"194.44444444444446\" y=\"-50.0\" width=\"27.778\" height=\"12.5\" opacity=\"9.547149732167385e-05\" fill=\"currentColor\" stroke-width=\"0.1\"/>\n",
       "<rect x=\"222.2222222222222\" y=\"-50.0\" width=\"27.778\" height=\"12.5\" opacity=\"0.000835393500713029\" fill=\"currentColor\" stroke-width=\"0.1\"/>\n",
       "<rect x=\"0.0\" y=\"-62.5\" width=\"27.778\" height=\"12.5\" opacity=\"0.0\" fill=\"currentColor\" stroke-width=\"0.1\"/>\n",
       "<rect x=\"27.777777777777775\" y=\"-62.5\" width=\"27.778\" height=\"12.5\" opacity=\"0.0\" fill=\"currentColor\" stroke-width=\"0.1\"/>\n",
       "<rect x=\"55.55555555555555\" y=\"-62.5\" width=\"27.778\" height=\"12.5\" opacity=\"0.0\" fill=\"currentColor\" stroke-width=\"0.1\"/>\n",
       "<rect x=\"83.33333333333333\" y=\"-62.5\" width=\"27.778\" height=\"12.5\" opacity=\"0.0\" fill=\"currentColor\" stroke-width=\"0.1\"/>\n",
       "<rect x=\"111.1111111111111\" y=\"-62.5\" width=\"27.778\" height=\"12.5\" opacity=\"0.0\" fill=\"currentColor\" stroke-width=\"0.1\"/>\n",
       "<rect x=\"138.88888888888889\" y=\"-62.5\" width=\"27.778\" height=\"12.5\" opacity=\"0.0\" fill=\"currentColor\" stroke-width=\"0.1\"/>\n",
       "<rect x=\"166.66666666666666\" y=\"-62.5\" width=\"27.778\" height=\"12.5\" opacity=\"0.0\" fill=\"currentColor\" stroke-width=\"0.1\"/>\n",
       "<rect x=\"194.44444444444446\" y=\"-62.5\" width=\"27.778\" height=\"12.5\" opacity=\"0.0\" fill=\"currentColor\" stroke-width=\"0.1\"/>\n",
       "<rect x=\"222.2222222222222\" y=\"-62.5\" width=\"27.778\" height=\"12.5\" opacity=\"0.0\" fill=\"currentColor\" stroke-width=\"0.1\"/>\n",
       "<rect x=\"0.0\" y=\"-75.0\" width=\"27.778\" height=\"12.5\" opacity=\"0.0\" fill=\"currentColor\" stroke-width=\"0.1\"/>\n",
       "<rect x=\"27.777777777777775\" y=\"-75.0\" width=\"27.778\" height=\"12.5\" opacity=\"0.0\" fill=\"currentColor\" stroke-width=\"0.1\"/>\n",
       "<rect x=\"55.55555555555555\" y=\"-75.0\" width=\"27.778\" height=\"12.5\" opacity=\"0.0\" fill=\"currentColor\" stroke-width=\"0.1\"/>\n",
       "<rect x=\"83.33333333333333\" y=\"-75.0\" width=\"27.778\" height=\"12.5\" opacity=\"0.0\" fill=\"currentColor\" stroke-width=\"0.1\"/>\n",
       "<rect x=\"111.1111111111111\" y=\"-75.0\" width=\"27.778\" height=\"12.5\" opacity=\"0.0\" fill=\"currentColor\" stroke-width=\"0.1\"/>\n",
       "<rect x=\"138.88888888888889\" y=\"-75.0\" width=\"27.778\" height=\"12.5\" opacity=\"0.0\" fill=\"currentColor\" stroke-width=\"0.1\"/>\n",
       "<rect x=\"166.66666666666666\" y=\"-75.0\" width=\"27.778\" height=\"12.5\" opacity=\"0.0\" fill=\"currentColor\" stroke-width=\"0.1\"/>\n",
       "<rect x=\"194.44444444444446\" y=\"-75.0\" width=\"27.778\" height=\"12.5\" opacity=\"0.0\" fill=\"currentColor\" stroke-width=\"0.1\"/>\n",
       "<rect x=\"222.2222222222222\" y=\"-75.0\" width=\"27.778\" height=\"12.5\" opacity=\"0.0\" fill=\"currentColor\" stroke-width=\"0.1\"/>\n",
       "<rect x=\"0.0\" y=\"-87.5\" width=\"27.778\" height=\"12.5\" opacity=\"0.0\" fill=\"currentColor\" stroke-width=\"0.1\"/>\n",
       "<rect x=\"27.777777777777775\" y=\"-87.5\" width=\"27.778\" height=\"12.5\" opacity=\"0.0\" fill=\"currentColor\" stroke-width=\"0.1\"/>\n",
       "<rect x=\"55.55555555555555\" y=\"-87.5\" width=\"27.778\" height=\"12.5\" opacity=\"0.0\" fill=\"currentColor\" stroke-width=\"0.1\"/>\n",
       "<rect x=\"83.33333333333333\" y=\"-87.5\" width=\"27.778\" height=\"12.5\" opacity=\"0.0\" fill=\"currentColor\" stroke-width=\"0.1\"/>\n",
       "<rect x=\"111.1111111111111\" y=\"-87.5\" width=\"27.778\" height=\"12.5\" opacity=\"0.0\" fill=\"currentColor\" stroke-width=\"0.1\"/>\n",
       "<rect x=\"138.88888888888889\" y=\"-87.5\" width=\"27.778\" height=\"12.5\" opacity=\"0.0\" fill=\"currentColor\" stroke-width=\"0.1\"/>\n",
       "<rect x=\"166.66666666666666\" y=\"-87.5\" width=\"27.778\" height=\"12.5\" opacity=\"0.0\" fill=\"currentColor\" stroke-width=\"0.1\"/>\n",
       "<rect x=\"194.44444444444446\" y=\"-87.5\" width=\"27.778\" height=\"12.5\" opacity=\"0.0\" fill=\"currentColor\" stroke-width=\"0.1\"/>\n",
       "<rect x=\"222.2222222222222\" y=\"-87.5\" width=\"27.778\" height=\"12.5\" opacity=\"0.0\" fill=\"currentColor\" stroke-width=\"0.1\"/>\n",
       "<rect x=\"0.0\" y=\"-100.0\" width=\"27.778\" height=\"12.5\" opacity=\"0.0\" fill=\"currentColor\" stroke-width=\"0.1\"/>\n",
       "<rect x=\"27.777777777777775\" y=\"-100.0\" width=\"27.778\" height=\"12.5\" opacity=\"0.0\" fill=\"currentColor\" stroke-width=\"0.1\"/>\n",
       "<rect x=\"55.55555555555555\" y=\"-100.0\" width=\"27.778\" height=\"12.5\" opacity=\"0.0\" fill=\"currentColor\" stroke-width=\"0.1\"/>\n",
       "<rect x=\"83.33333333333333\" y=\"-100.0\" width=\"27.778\" height=\"12.5\" opacity=\"0.0\" fill=\"currentColor\" stroke-width=\"0.1\"/>\n",
       "<rect x=\"111.1111111111111\" y=\"-100.0\" width=\"27.778\" height=\"12.5\" opacity=\"0.0\" fill=\"currentColor\" stroke-width=\"0.1\"/>\n",
       "<rect x=\"138.88888888888889\" y=\"-100.0\" width=\"27.778\" height=\"12.5\" opacity=\"0.0\" fill=\"currentColor\" stroke-width=\"0.1\"/>\n",
       "<rect x=\"166.66666666666666\" y=\"-100.0\" width=\"27.778\" height=\"12.5\" opacity=\"0.0\" fill=\"currentColor\" stroke-width=\"0.1\"/>\n",
       "<rect x=\"194.44444444444446\" y=\"-100.0\" width=\"27.778\" height=\"12.5\" opacity=\"0.0\" fill=\"currentColor\" stroke-width=\"0.1\"/>\n",
       "<rect x=\"222.2222222222222\" y=\"-100.0\" width=\"27.778\" height=\"12.5\" opacity=\"0.0\" fill=\"currentColor\" stroke-width=\"0.1\"/>\n",
       "<rect x=\"0.0\" y=\"-112.5\" width=\"27.778\" height=\"12.5\" opacity=\"0.0\" fill=\"currentColor\" stroke-width=\"0.1\"/>\n",
       "<rect x=\"27.777777777777775\" y=\"-112.5\" width=\"27.778\" height=\"12.5\" opacity=\"0.0\" fill=\"currentColor\" stroke-width=\"0.1\"/>\n",
       "<rect x=\"55.55555555555555\" y=\"-112.5\" width=\"27.778\" height=\"12.5\" opacity=\"0.0\" fill=\"currentColor\" stroke-width=\"0.1\"/>\n",
       "<rect x=\"83.33333333333333\" y=\"-112.5\" width=\"27.778\" height=\"12.5\" opacity=\"0.0\" fill=\"currentColor\" stroke-width=\"0.1\"/>\n",
       "<rect x=\"111.1111111111111\" y=\"-112.5\" width=\"27.778\" height=\"12.5\" opacity=\"0.0\" fill=\"currentColor\" stroke-width=\"0.1\"/>\n",
       "<rect x=\"138.88888888888889\" y=\"-112.5\" width=\"27.778\" height=\"12.5\" opacity=\"0.0\" fill=\"currentColor\" stroke-width=\"0.1\"/>\n",
       "<rect x=\"166.66666666666666\" y=\"-112.5\" width=\"27.778\" height=\"12.5\" opacity=\"0.0\" fill=\"currentColor\" stroke-width=\"0.1\"/>\n",
       "<rect x=\"194.44444444444446\" y=\"-112.5\" width=\"27.778\" height=\"12.5\" opacity=\"0.0\" fill=\"currentColor\" stroke-width=\"0.1\"/>\n",
       "<rect x=\"222.2222222222222\" y=\"-112.5\" width=\"27.778\" height=\"12.5\" opacity=\"0.0\" fill=\"currentColor\" stroke-width=\"0.1\"/>\n",
       "<rect x=\"0.0\" y=\"-125.0\" width=\"27.778\" height=\"12.5\" opacity=\"0.0\" fill=\"currentColor\" stroke-width=\"0.1\"/>\n",
       "<rect x=\"27.777777777777775\" y=\"-125.0\" width=\"27.778\" height=\"12.5\" opacity=\"0.0\" fill=\"currentColor\" stroke-width=\"0.1\"/>\n",
       "<rect x=\"55.55555555555555\" y=\"-125.0\" width=\"27.778\" height=\"12.5\" opacity=\"0.0\" fill=\"currentColor\" stroke-width=\"0.1\"/>\n",
       "<rect x=\"83.33333333333333\" y=\"-125.0\" width=\"27.778\" height=\"12.5\" opacity=\"0.0\" fill=\"currentColor\" stroke-width=\"0.1\"/>\n",
       "<rect x=\"111.1111111111111\" y=\"-125.0\" width=\"27.778\" height=\"12.5\" opacity=\"0.0\" fill=\"currentColor\" stroke-width=\"0.1\"/>\n",
       "<rect x=\"138.88888888888889\" y=\"-125.0\" width=\"27.778\" height=\"12.5\" opacity=\"0.0\" fill=\"currentColor\" stroke-width=\"0.1\"/>\n",
       "<rect x=\"166.66666666666666\" y=\"-125.0\" width=\"27.778\" height=\"12.5\" opacity=\"0.0\" fill=\"currentColor\" stroke-width=\"0.1\"/>\n",
       "<rect x=\"194.44444444444446\" y=\"-125.0\" width=\"27.778\" height=\"12.5\" opacity=\"0.0\" fill=\"currentColor\" stroke-width=\"0.1\"/>\n",
       "<rect x=\"222.2222222222222\" y=\"-125.0\" width=\"27.778\" height=\"12.5\" opacity=\"0.0\" fill=\"currentColor\" stroke-width=\"0.1\"/>\n",
       "<rect x=\"0.0\" y=\"-137.5\" width=\"27.778\" height=\"12.5\" opacity=\"0.6491513327608092\" fill=\"currentColor\" stroke-width=\"0.1\"/>\n",
       "<rect x=\"27.777777777777775\" y=\"-137.5\" width=\"27.778\" height=\"12.5\" opacity=\"0.887135846857921\" fill=\"currentColor\" stroke-width=\"0.1\"/>\n",
       "<rect x=\"55.55555555555555\" y=\"-137.5\" width=\"27.778\" height=\"12.5\" opacity=\"0.014539016648587779\" fill=\"currentColor\" stroke-width=\"0.1\"/>\n",
       "<rect x=\"83.33333333333333\" y=\"-137.5\" width=\"27.778\" height=\"12.5\" opacity=\"0.06346611412542842\" fill=\"currentColor\" stroke-width=\"0.1\"/>\n",
       "<rect x=\"111.1111111111111\" y=\"-137.5\" width=\"27.778\" height=\"12.5\" opacity=\"0.02164500209976843\" fill=\"currentColor\" stroke-width=\"0.1\"/>\n",
       "<rect x=\"138.88888888888889\" y=\"-137.5\" width=\"27.778\" height=\"12.5\" opacity=\"0.0007514903294072339\" fill=\"currentColor\" stroke-width=\"0.1\"/>\n",
       "<rect x=\"166.66666666666666\" y=\"-137.5\" width=\"27.778\" height=\"12.5\" opacity=\"0.0002645219545212479\" fill=\"currentColor\" stroke-width=\"0.1\"/>\n",
       "<rect x=\"194.44444444444446\" y=\"-137.5\" width=\"27.778\" height=\"12.5\" opacity=\"4.727886872437819e-05\" fill=\"currentColor\" stroke-width=\"0.1\"/>\n",
       "<rect x=\"222.2222222222222\" y=\"-137.5\" width=\"27.778\" height=\"12.5\" opacity=\"0.0002941833801075064\" fill=\"currentColor\" stroke-width=\"0.1\"/>\n",
       "<rect x=\"0.0\" y=\"-150.0\" width=\"27.778\" height=\"12.5\" opacity=\"0.6268765321268598\" fill=\"currentColor\" stroke-width=\"0.1\"/>\n",
       "<rect x=\"27.777777777777775\" y=\"-150.0\" width=\"27.778\" height=\"12.5\" opacity=\"0.641748204094848\" fill=\"currentColor\" stroke-width=\"0.1\"/>\n",
       "<rect x=\"55.55555555555555\" y=\"-150.0\" width=\"27.778\" height=\"12.5\" opacity=\"0.014328113528302124\" fill=\"currentColor\" stroke-width=\"0.1\"/>\n",
       "<rect x=\"83.33333333333333\" y=\"-150.0\" width=\"27.778\" height=\"12.5\" opacity=\"0.05767189657086927\" fill=\"currentColor\" stroke-width=\"0.1\"/>\n",
       "<rect x=\"111.1111111111111\" y=\"-150.0\" width=\"27.778\" height=\"12.5\" opacity=\"0.016065305793888474\" fill=\"currentColor\" stroke-width=\"0.1\"/>\n",
       "<rect x=\"138.88888888888889\" y=\"-150.0\" width=\"27.778\" height=\"12.5\" opacity=\"0.00040917957255740217\" fill=\"currentColor\" stroke-width=\"0.1\"/>\n",
       "<rect x=\"166.66666666666666\" y=\"-150.0\" width=\"27.778\" height=\"12.5\" opacity=\"0.0001366917219588017\" fill=\"currentColor\" stroke-width=\"0.1\"/>\n",
       "<rect x=\"194.44444444444446\" y=\"-150.0\" width=\"27.778\" height=\"12.5\" opacity=\"4.699447204999939e-05\" fill=\"currentColor\" stroke-width=\"0.1\"/>\n",
       "<rect x=\"222.2222222222222\" y=\"-150.0\" width=\"27.778\" height=\"12.5\" opacity=\"0.0001878279324397007\" fill=\"currentColor\" stroke-width=\"0.1\"/>\n",
       "<rect x=\"0.0\" y=\"-162.5\" width=\"27.778\" height=\"12.5\" opacity=\"0.5165632337492059\" fill=\"currentColor\" stroke-width=\"0.1\"/>\n",
       "<rect x=\"27.777777777777775\" y=\"-162.5\" width=\"27.778\" height=\"12.5\" opacity=\"0.6668389501933001\" fill=\"currentColor\" stroke-width=\"0.1\"/>\n",
       "<rect x=\"55.55555555555555\" y=\"-162.5\" width=\"27.778\" height=\"12.5\" opacity=\"0.015197045627067954\" fill=\"currentColor\" stroke-width=\"0.1\"/>\n",
       "<rect x=\"83.33333333333333\" y=\"-162.5\" width=\"27.778\" height=\"12.5\" opacity=\"0.05359733062085643\" fill=\"currentColor\" stroke-width=\"0.1\"/>\n",
       "<rect x=\"111.1111111111111\" y=\"-162.5\" width=\"27.778\" height=\"12.5\" opacity=\"0.010330071771362664\" fill=\"currentColor\" stroke-width=\"0.1\"/>\n",
       "<rect x=\"138.88888888888889\" y=\"-162.5\" width=\"27.778\" height=\"12.5\" opacity=\"0.0002355981345793373\" fill=\"currentColor\" stroke-width=\"0.1\"/>\n",
       "<rect x=\"166.66666666666666\" y=\"-162.5\" width=\"27.778\" height=\"12.5\" opacity=\"0.00011562613116979452\" fill=\"currentColor\" stroke-width=\"0.1\"/>\n",
       "<rect x=\"194.44444444444446\" y=\"-162.5\" width=\"27.778\" height=\"12.5\" opacity=\"4.586056290697791e-05\" fill=\"currentColor\" stroke-width=\"0.1\"/>\n",
       "<rect x=\"222.2222222222222\" y=\"-162.5\" width=\"27.778\" height=\"12.5\" opacity=\"9.759577400765895e-05\" fill=\"currentColor\" stroke-width=\"0.1\"/>\n",
       "<rect x=\"0.0\" y=\"-175.0\" width=\"27.778\" height=\"12.5\" opacity=\"0.48368138519432835\" fill=\"currentColor\" stroke-width=\"0.1\"/>\n",
       "<rect x=\"27.777777777777775\" y=\"-175.0\" width=\"27.778\" height=\"12.5\" opacity=\"0.5487593916563349\" fill=\"currentColor\" stroke-width=\"0.1\"/>\n",
       "<rect x=\"55.55555555555555\" y=\"-175.0\" width=\"27.778\" height=\"12.5\" opacity=\"0.016483483482317225\" fill=\"currentColor\" stroke-width=\"0.1\"/>\n",
       "<rect x=\"83.33333333333333\" y=\"-175.0\" width=\"27.778\" height=\"12.5\" opacity=\"0.042446215992252775\" fill=\"currentColor\" stroke-width=\"0.1\"/>\n",
       "<rect x=\"111.1111111111111\" y=\"-175.0\" width=\"27.778\" height=\"12.5\" opacity=\"0.010358853324424525\" fill=\"currentColor\" stroke-width=\"0.1\"/>\n",
       "<rect x=\"138.88888888888889\" y=\"-175.0\" width=\"27.778\" height=\"12.5\" opacity=\"0.00012167882009017292\" fill=\"currentColor\" stroke-width=\"0.1\"/>\n",
       "<rect x=\"166.66666666666666\" y=\"-175.0\" width=\"27.778\" height=\"12.5\" opacity=\"9.244963444142048e-05\" fill=\"currentColor\" stroke-width=\"0.1\"/>\n",
       "<rect x=\"194.44444444444446\" y=\"-175.0\" width=\"27.778\" height=\"12.5\" opacity=\"3.456339987364465e-05\" fill=\"currentColor\" stroke-width=\"0.1\"/>\n",
       "<rect x=\"222.2222222222222\" y=\"-175.0\" width=\"27.778\" height=\"12.5\" opacity=\"5.7465549790868674e-05\" fill=\"currentColor\" stroke-width=\"0.1\"/>\n",
       "<rect x=\"0.0\" y=\"-187.5\" width=\"27.778\" height=\"12.5\" opacity=\"0.43170685038177997\" fill=\"currentColor\" stroke-width=\"0.1\"/>\n",
       "<rect x=\"27.777777777777775\" y=\"-187.5\" width=\"27.778\" height=\"12.5\" opacity=\"0.39440887630270083\" fill=\"currentColor\" stroke-width=\"0.1\"/>\n",
       "<rect x=\"55.55555555555555\" y=\"-187.5\" width=\"27.778\" height=\"12.5\" opacity=\"0.014633755060187673\" fill=\"currentColor\" stroke-width=\"0.1\"/>\n",
       "<rect x=\"83.33333333333333\" y=\"-187.5\" width=\"27.778\" height=\"12.5\" opacity=\"0.03913603581831142\" fill=\"currentColor\" stroke-width=\"0.1\"/>\n",
       "<rect x=\"111.1111111111111\" y=\"-187.5\" width=\"27.778\" height=\"12.5\" opacity=\"0.010992190709152671\" fill=\"currentColor\" stroke-width=\"0.1\"/>\n",
       "<rect x=\"138.88888888888889\" y=\"-187.5\" width=\"27.778\" height=\"12.5\" opacity=\"0.0001459638666464416\" fill=\"currentColor\" stroke-width=\"0.1\"/>\n",
       "<rect x=\"166.66666666666666\" y=\"-187.5\" width=\"27.778\" height=\"12.5\" opacity=\"5.622810913340468e-05\" fill=\"currentColor\" stroke-width=\"0.1\"/>\n",
       "<rect x=\"194.44444444444446\" y=\"-187.5\" width=\"27.778\" height=\"12.5\" opacity=\"4.0175672935635174e-05\" fill=\"currentColor\" stroke-width=\"0.1\"/>\n",
       "<rect x=\"222.2222222222222\" y=\"-187.5\" width=\"27.778\" height=\"12.5\" opacity=\"4.635901332142883e-05\" fill=\"currentColor\" stroke-width=\"0.1\"/>\n",
       "<rect x=\"0.0\" y=\"-200.0\" width=\"27.778\" height=\"12.5\" opacity=\"0.3563968101431893\" fill=\"currentColor\" stroke-width=\"0.1\"/>\n",
       "<rect x=\"27.777777777777775\" y=\"-200.0\" width=\"27.778\" height=\"12.5\" opacity=\"0.4298991767404969\" fill=\"currentColor\" stroke-width=\"0.1\"/>\n",
       "<rect x=\"55.55555555555555\" y=\"-200.0\" width=\"27.778\" height=\"12.5\" opacity=\"0.01199803725946021\" fill=\"currentColor\" stroke-width=\"0.1\"/>\n",
       "<rect x=\"83.33333333333333\" y=\"-200.0\" width=\"27.778\" height=\"12.5\" opacity=\"0.03283468782881344\" fill=\"currentColor\" stroke-width=\"0.1\"/>\n",
       "<rect x=\"111.1111111111111\" y=\"-200.0\" width=\"27.778\" height=\"12.5\" opacity=\"0.011873804385408101\" fill=\"currentColor\" stroke-width=\"0.1\"/>\n",
       "<rect x=\"138.88888888888889\" y=\"-200.0\" width=\"27.778\" height=\"12.5\" opacity=\"3.061287973666466e-05\" fill=\"currentColor\" stroke-width=\"0.1\"/>\n",
       "<rect x=\"166.66666666666666\" y=\"-200.0\" width=\"27.778\" height=\"12.5\" opacity=\"4.1312419281574595e-05\" fill=\"currentColor\" stroke-width=\"0.1\"/>\n",
       "<rect x=\"194.44444444444446\" y=\"-200.0\" width=\"27.778\" height=\"12.5\" opacity=\"2.5742817800339026e-05\" fill=\"currentColor\" stroke-width=\"0.1\"/>\n",
       "<rect x=\"222.2222222222222\" y=\"-200.0\" width=\"27.778\" height=\"12.5\" opacity=\"9.868260823051653e-06\" fill=\"currentColor\" stroke-width=\"0.1\"/>\n",
       "<rect x=\"0.0\" y=\"-212.5\" width=\"27.778\" height=\"12.5\" opacity=\"0.2969973417859911\" fill=\"currentColor\" stroke-width=\"0.1\"/>\n",
       "<rect x=\"27.777777777777775\" y=\"-212.5\" width=\"27.778\" height=\"12.5\" opacity=\"0.369413311528464\" fill=\"currentColor\" stroke-width=\"0.1\"/>\n",
       "<rect x=\"55.55555555555555\" y=\"-212.5\" width=\"27.778\" height=\"12.5\" opacity=\"0.01015481324293623\" fill=\"currentColor\" stroke-width=\"0.1\"/>\n",
       "<rect x=\"83.33333333333333\" y=\"-212.5\" width=\"27.778\" height=\"12.5\" opacity=\"0.02682751561093367\" fill=\"currentColor\" stroke-width=\"0.1\"/>\n",
       "<rect x=\"111.1111111111111\" y=\"-212.5\" width=\"27.778\" height=\"12.5\" opacity=\"0.0064528005314366055\" fill=\"currentColor\" stroke-width=\"0.1\"/>\n",
       "<rect x=\"138.88888888888889\" y=\"-212.5\" width=\"27.778\" height=\"12.5\" opacity=\"8.399223441522538e-06\" fill=\"currentColor\" stroke-width=\"0.1\"/>\n",
       "<rect x=\"166.66666666666666\" y=\"-212.5\" width=\"27.778\" height=\"12.5\" opacity=\"4.24049837863334e-05\" fill=\"currentColor\" stroke-width=\"0.1\"/>\n",
       "<rect x=\"194.44444444444446\" y=\"-212.5\" width=\"27.778\" height=\"12.5\" opacity=\"2.073063712704192e-05\" fill=\"currentColor\" stroke-width=\"0.1\"/>\n",
       "<rect x=\"222.2222222222222\" y=\"-212.5\" width=\"27.778\" height=\"12.5\" opacity=\"0.0\" fill=\"currentColor\" stroke-width=\"0.1\"/>\n",
       "<rect x=\"0.0\" y=\"-225.0\" width=\"27.778\" height=\"12.5\" opacity=\"0.2216873015474005\" fill=\"currentColor\" stroke-width=\"0.1\"/>\n",
       "<rect x=\"27.777777777777775\" y=\"-225.0\" width=\"27.778\" height=\"12.5\" opacity=\"0.24760023139367235\" fill=\"currentColor\" stroke-width=\"0.1\"/>\n",
       "<rect x=\"55.55555555555555\" y=\"-225.0\" width=\"27.778\" height=\"12.5\" opacity=\"0.00905421223137425\" fill=\"currentColor\" stroke-width=\"0.1\"/>\n",
       "<rect x=\"83.33333333333333\" y=\"-225.0\" width=\"27.778\" height=\"12.5\" opacity=\"0.021910219675792875\" fill=\"currentColor\" stroke-width=\"0.1\"/>\n",
       "<rect x=\"111.1111111111111\" y=\"-225.0\" width=\"27.778\" height=\"12.5\" opacity=\"0.004736211860106112\" fill=\"currentColor\" stroke-width=\"0.1\"/>\n",
       "<rect x=\"138.88888888888889\" y=\"-225.0\" width=\"27.778\" height=\"12.5\" opacity=\"6.913795892237202e-05\" fill=\"currentColor\" stroke-width=\"0.1\"/>\n",
       "<rect x=\"166.66666666666666\" y=\"-225.0\" width=\"27.778\" height=\"12.5\" opacity=\"2.413151843983058e-05\" fill=\"currentColor\" stroke-width=\"0.1\"/>\n",
       "<rect x=\"194.44444444444446\" y=\"-225.0\" width=\"27.778\" height=\"12.5\" opacity=\"1.2356753729488122e-05\" fill=\"currentColor\" stroke-width=\"0.1\"/>\n",
       "<rect x=\"222.2222222222222\" y=\"-225.0\" width=\"27.778\" height=\"12.5\" opacity=\"1.7293396414180346e-05\" fill=\"currentColor\" stroke-width=\"0.1\"/>\n",
       "<rect x=\"0.0\" y=\"-237.5\" width=\"27.778\" height=\"12.5\" opacity=\"0.19835179612135834\" fill=\"currentColor\" stroke-width=\"0.1\"/>\n",
       "<rect x=\"27.777777777777775\" y=\"-237.5\" width=\"27.778\" height=\"12.5\" opacity=\"0.23127086459906648\" fill=\"currentColor\" stroke-width=\"0.1\"/>\n",
       "<rect x=\"55.55555555555555\" y=\"-237.5\" width=\"27.778\" height=\"12.5\" opacity=\"0.006894628757881682\" fill=\"currentColor\" stroke-width=\"0.1\"/>\n",
       "<rect x=\"83.33333333333333\" y=\"-237.5\" width=\"27.778\" height=\"12.5\" opacity=\"0.016249958679864986\" fill=\"currentColor\" stroke-width=\"0.1\"/>\n",
       "<rect x=\"111.1111111111111\" y=\"-237.5\" width=\"27.778\" height=\"12.5\" opacity=\"0.0030937691180889914\" fill=\"currentColor\" stroke-width=\"0.1\"/>\n",
       "<rect x=\"138.88888888888889\" y=\"-237.5\" width=\"27.778\" height=\"12.5\" opacity=\"2.139313996690366e-05\" fill=\"currentColor\" stroke-width=\"0.1\"/>\n",
       "<rect x=\"166.66666666666666\" y=\"-237.5\" width=\"27.778\" height=\"12.5\" opacity=\"2.6298164518583365e-05\" fill=\"currentColor\" stroke-width=\"0.1\"/>\n",
       "<rect x=\"194.44444444444446\" y=\"-237.5\" width=\"27.778\" height=\"12.5\" opacity=\"2.0240069740983766e-05\" fill=\"currentColor\" stroke-width=\"0.1\"/>\n",
       "<rect x=\"222.2222222222222\" y=\"-237.5\" width=\"27.778\" height=\"12.5\" opacity=\"0.0\" fill=\"currentColor\" stroke-width=\"0.1\"/>\n",
       "<rect x=\"0.0\" y=\"-250.0\" width=\"27.778\" height=\"12.5\" opacity=\"0.17819840507159465\" fill=\"currentColor\" stroke-width=\"0.1\"/>\n",
       "<rect x=\"27.777777777777775\" y=\"-250.0\" width=\"27.778\" height=\"12.5\" opacity=\"0.20415391077520467\" fill=\"currentColor\" stroke-width=\"0.1\"/>\n",
       "<rect x=\"55.55555555555555\" y=\"-250.0\" width=\"27.778\" height=\"12.5\" opacity=\"0.004885252329046266\" fill=\"currentColor\" stroke-width=\"0.1\"/>\n",
       "<rect x=\"83.33333333333333\" y=\"-250.0\" width=\"27.778\" height=\"12.5\" opacity=\"0.015211490401091475\" fill=\"currentColor\" stroke-width=\"0.1\"/>\n",
       "<rect x=\"111.1111111111111\" y=\"-250.0\" width=\"27.778\" height=\"12.5\" opacity=\"0.004835989592584476\" fill=\"currentColor\" stroke-width=\"0.1\"/>\n",
       "<rect x=\"138.88888888888889\" y=\"-250.0\" width=\"27.778\" height=\"12.5\" opacity=\"1.5464643120452976e-05\" fill=\"currentColor\" stroke-width=\"0.1\"/>\n",
       "<rect x=\"166.66666666666666\" y=\"-250.0\" width=\"27.778\" height=\"12.5\" opacity=\"1.467749270043524e-05\" fill=\"currentColor\" stroke-width=\"0.1\"/>\n",
       "<rect x=\"194.44444444444446\" y=\"-250.0\" width=\"27.778\" height=\"12.5\" opacity=\"1.316240126630041e-05\" fill=\"currentColor\" stroke-width=\"0.1\"/>\n",
       "<rect x=\"222.2222222222222\" y=\"-250.0\" width=\"27.778\" height=\"12.5\" opacity=\"0.0\" fill=\"currentColor\" stroke-width=\"0.1\"/>\n",
       "</svg>\n",
       "</div>\n",
       "<div style=\"flex=grow:1;\">\n",
       "StrCategory(['data', 'QCD', 'Top', 'WJets', 'Rest', 'ggF', 'VH', 'ttH', 'VBF'], name='Sample')<br/>\n",
       "Regular(20, 50, 250, name='MH_Reco', label='Higgs candidate MET recovery mass [GeV]')<br/>\n",
       "<hr style=\"margin-top:.2em; margin-bottom:.2em;\"/>\n",
       "Weight() Σ=WeightedSum(value=15172.1, variance=49488.2) <em>(WeightedSum(value=16346.9, variance=50955.8) with flow)</em>\n",
       "\n",
       "</div>\n",
       "</div>\n",
       "</html>"
      ],
      "text/plain": [
       "Hist(\n",
       "  StrCategory(['data', 'QCD', 'Top', 'WJets', 'Rest', 'ggF', 'VH', 'ttH', 'VBF'], name='Sample'),\n",
       "  Regular(20, 50, 250, name='MH_Reco', label='Higgs candidate MET recovery mass [GeV]'),\n",
       "  storage=Weight()) # Sum: WeightedSum(value=15172.1, variance=49488.2) (WeightedSum(value=16346.9, variance=50955.8) with flow)"
      ]
     },
     "execution_count": 14,
     "metadata": {},
     "output_type": "execute_result"
    }
   ],
   "source": [
    "hists_template1[\"SR1aBlinded\"]"
   ]
  },
  {
   "cell_type": "code",
   "execution_count": 15,
   "metadata": {},
   "outputs": [
    {
     "data": {
      "text/plain": [
       "array([4340.60013481, 4133.65798645, 6723.26535784, 5317.90207409,\n",
       "       4784.74330639, 3802.64412873, 7207.47248974, 5552.02268741,\n",
       "       4345.83959678, 4780.61467887, 4704.34121613, 3050.58159605,\n",
       "       3283.55190705, 2823.03592685, 1516.18951594, 1880.52420034,\n",
       "       2392.39906575,  943.09371738,  929.99007566,  667.823064  ])"
      ]
     },
     "execution_count": 15,
     "metadata": {},
     "output_type": "execute_result"
    }
   ],
   "source": [
    "sample_template1 = hists_template1[\"SR1a\"][\"QCD\", :]\n",
    "err = sample_template1.variances()\n",
    "err"
   ]
  },
  {
   "cell_type": "code",
   "execution_count": 16,
   "metadata": {},
   "outputs": [
    {
     "name": "stdout",
     "output_type": "stream",
     "text": [
      "0 Regular(20, 50, 250, name='MH_Reco', label='Higgs candidate MET recovery mass [GeV]')\n"
     ]
    }
   ],
   "source": [
    "for i , axis in enumerate(hists_template1[\"SR1a\"].axes[1:]):\n",
    "    print(i, axis)"
   ]
  },
  {
   "cell_type": "markdown",
   "metadata": {},
   "source": [
    "### Some test of HHbbVV analysis for reference"
   ]
  },
  {
   "cell_type": "code",
   "execution_count": 26,
   "metadata": {},
   "outputs": [],
   "source": [
    "# with open(\"/home/pku/zhaoyz/Higgs/HHbbVV/src/HHbbVV/postprocessing/templates/23Jun14/2018_templates.pkl\",\"rb\") as f:\n",
    "with open(\"/ospool/cms-user/yuzhe/BoostedHWW/prediction/HHbbVV/src/HHbbVV/postprocessing/templates/24Mar15UpdateData/2018_templates.pkl\",\"rb\") as f:\n",
    "    hists_template2 = pkl.load(f)\n",
    "# hists_template[\"pass\"][\"QCD\",:]  \n",
    "# hists_template[\"pass\"][\"QCD\",:].sum().value\n"
   ]
  },
  {
   "cell_type": "code",
   "execution_count": 27,
   "metadata": {},
   "outputs": [
    {
     "data": {
      "text/plain": [
       "dict_keys(['pass', 'fail', 'pass_JES_up', 'fail_JES_up', 'pass_JES_down', 'fail_JES_down', 'pass_JER_up', 'fail_JER_up', 'pass_JER_down', 'fail_JER_down', 'pass_JMS_up', 'fail_JMS_up', 'pass_JMS_down', 'fail_JMS_down', 'pass_JMR_up', 'fail_JMR_up', 'pass_JMR_down', 'fail_JMR_down', 'passBlinded', 'failBlinded', 'pass_JES_upBlinded', 'fail_JES_upBlinded', 'pass_JES_downBlinded', 'fail_JES_downBlinded', 'pass_JER_upBlinded', 'fail_JER_upBlinded', 'pass_JER_downBlinded', 'fail_JER_downBlinded', 'pass_JMS_upBlinded', 'fail_JMS_upBlinded', 'pass_JMS_downBlinded', 'fail_JMS_downBlinded', 'pass_JMR_upBlinded', 'fail_JMR_upBlinded', 'pass_JMR_downBlinded', 'fail_JMR_downBlinded'])"
      ]
     },
     "execution_count": 27,
     "metadata": {},
     "output_type": "execute_result"
    }
   ],
   "source": [
    "hists_template2.keys()"
   ]
  },
  {
   "cell_type": "code",
   "execution_count": 28,
   "metadata": {},
   "outputs": [
    {
     "data": {
      "text/plain": [
       "Hist(\n",
       "  StrCategory(['HHbbVV', 'ggHH_kl_2p45_kt_1_HHbbVV', 'ggHH_kl_5_kt_1_HHbbVV', 'ggHH_kl_0_kt_1_HHbbVV', 'VBFHHbbVV', 'qqHH_CV_1_C2V_0_kl_1_HHbbVV', 'qqHH_CV_1p5_C2V_1_kl_1_HHbbVV', 'qqHH_CV_1_C2V_1_kl_2_HHbbVV', 'qqHH_CV_1_C2V_2_kl_1_HHbbVV', 'qqHH_CV_1_C2V_1_kl_0_HHbbVV', 'QCD', 'TT', 'ST', 'W+Jets', 'Z+Jets', 'Diboson', 'ggFHbb', 'VBFHbb', 'ZHbb', 'WHbb', 'ggZHbb', 'ttHbb', 'HWW', 'Data', 'HHbbVV_txbb_down', 'ggHH_kl_2p45_kt_1_HHbbVV_txbb_down', 'ggHH_kl_5_kt_1_HHbbVV_txbb_down', 'ggHH_kl_0_kt_1_HHbbVV_txbb_down', 'VBFHHbbVV_txbb_down', 'qqHH_CV_1_C2V_0_kl_1_HHbbVV_txbb_down', 'qqHH_CV_1p5_C2V_1_kl_1_HHbbVV_txbb_down', 'qqHH_CV_1_C2V_1_kl_2_HHbbVV_txbb_down', 'qqHH_CV_1_C2V_2_kl_1_HHbbVV_txbb_down', 'qqHH_CV_1_C2V_1_kl_0_HHbbVV_txbb_down', 'HHbbVV_pileup_down', 'ggHH_kl_2p45_kt_1_HHbbVV_pileup_down', 'ggHH_kl_5_kt_1_HHbbVV_pileup_down', 'ggHH_kl_0_kt_1_HHbbVV_pileup_down', 'VBFHHbbVV_pileup_down', 'qqHH_CV_1_C2V_0_kl_1_HHbbVV_pileup_down', 'qqHH_CV_1p5_C2V_1_kl_1_HHbbVV_pileup_down', 'qqHH_CV_1_C2V_1_kl_2_HHbbVV_pileup_down', 'qqHH_CV_1_C2V_2_kl_1_HHbbVV_pileup_down', 'qqHH_CV_1_C2V_1_kl_0_HHbbVV_pileup_down', 'TT_pileup_down', 'ST_pileup_down', 'W+Jets_pileup_down', 'Z+Jets_pileup_down', 'HHbbVV_pileupID_down', 'ggHH_kl_2p45_kt_1_HHbbVV_pileupID_down', 'ggHH_kl_5_kt_1_HHbbVV_pileupID_down', 'ggHH_kl_0_kt_1_HHbbVV_pileupID_down', 'VBFHHbbVV_pileupID_down', 'qqHH_CV_1_C2V_0_kl_1_HHbbVV_pileupID_down', 'qqHH_CV_1p5_C2V_1_kl_1_HHbbVV_pileupID_down', 'qqHH_CV_1_C2V_1_kl_2_HHbbVV_pileupID_down', 'qqHH_CV_1_C2V_2_kl_1_HHbbVV_pileupID_down', 'qqHH_CV_1_C2V_1_kl_0_HHbbVV_pileupID_down', 'TT_pileupID_down', 'ST_pileupID_down', 'W+Jets_pileupID_down', 'Z+Jets_pileupID_down', 'HHbbVV_ISRPartonShower_down', 'ggHH_kl_2p45_kt_1_HHbbVV_ISRPartonShower_down', 'ggHH_kl_5_kt_1_HHbbVV_ISRPartonShower_down', 'ggHH_kl_0_kt_1_HHbbVV_ISRPartonShower_down', 'VBFHHbbVV_ISRPartonShower_down', 'qqHH_CV_1_C2V_0_kl_1_HHbbVV_ISRPartonShower_down', 'qqHH_CV_1p5_C2V_1_kl_1_HHbbVV_ISRPartonShower_down', 'qqHH_CV_1_C2V_1_kl_2_HHbbVV_ISRPartonShower_down', 'qqHH_CV_1_C2V_2_kl_1_HHbbVV_ISRPartonShower_down', 'qqHH_CV_1_C2V_1_kl_0_HHbbVV_ISRPartonShower_down', 'TT_ISRPartonShower_down', 'ST_ISRPartonShower_down', 'W+Jets_ISRPartonShower_down', 'Z+Jets_ISRPartonShower_down', 'HHbbVV_FSRPartonShower_down', 'ggHH_kl_2p45_kt_1_HHbbVV_FSRPartonShower_down', 'ggHH_kl_5_kt_1_HHbbVV_FSRPartonShower_down', 'ggHH_kl_0_kt_1_HHbbVV_FSRPartonShower_down', 'VBFHHbbVV_FSRPartonShower_down', 'qqHH_CV_1_C2V_0_kl_1_HHbbVV_FSRPartonShower_down', 'qqHH_CV_1p5_C2V_1_kl_1_HHbbVV_FSRPartonShower_down', 'qqHH_CV_1_C2V_1_kl_2_HHbbVV_FSRPartonShower_down', 'qqHH_CV_1_C2V_2_kl_1_HHbbVV_FSRPartonShower_down', 'qqHH_CV_1_C2V_1_kl_0_HHbbVV_FSRPartonShower_down', 'TT_FSRPartonShower_down', 'ST_FSRPartonShower_down', 'W+Jets_FSRPartonShower_down', 'Z+Jets_FSRPartonShower_down', 'HHbbVV_L1EcalPrefiring_down', 'ggHH_kl_2p45_kt_1_HHbbVV_L1EcalPrefiring_down', 'ggHH_kl_5_kt_1_HHbbVV_L1EcalPrefiring_down', 'ggHH_kl_0_kt_1_HHbbVV_L1EcalPrefiring_down', 'VBFHHbbVV_L1EcalPrefiring_down', 'qqHH_CV_1_C2V_0_kl_1_HHbbVV_L1EcalPrefiring_down', 'qqHH_CV_1p5_C2V_1_kl_1_HHbbVV_L1EcalPrefiring_down', 'qqHH_CV_1_C2V_1_kl_2_HHbbVV_L1EcalPrefiring_down', 'qqHH_CV_1_C2V_2_kl_1_HHbbVV_L1EcalPrefiring_down', 'qqHH_CV_1_C2V_1_kl_0_HHbbVV_L1EcalPrefiring_down', 'TT_L1EcalPrefiring_down', 'ST_L1EcalPrefiring_down', 'W+Jets_L1EcalPrefiring_down', 'Z+Jets_L1EcalPrefiring_down', 'HHbbVV_electron_id_down', 'ggHH_kl_2p45_kt_1_HHbbVV_electron_id_down', 'ggHH_kl_5_kt_1_HHbbVV_electron_id_down', 'ggHH_kl_0_kt_1_HHbbVV_electron_id_down', 'VBFHHbbVV_electron_id_down', 'qqHH_CV_1_C2V_0_kl_1_HHbbVV_electron_id_down', 'qqHH_CV_1p5_C2V_1_kl_1_HHbbVV_electron_id_down', 'qqHH_CV_1_C2V_1_kl_2_HHbbVV_electron_id_down', 'qqHH_CV_1_C2V_2_kl_1_HHbbVV_electron_id_down', 'qqHH_CV_1_C2V_1_kl_0_HHbbVV_electron_id_down', 'TT_electron_id_down', 'ST_electron_id_down', 'W+Jets_electron_id_down', 'Z+Jets_electron_id_down', 'HHbbVV_muon_id_down', 'ggHH_kl_2p45_kt_1_HHbbVV_muon_id_down', 'ggHH_kl_5_kt_1_HHbbVV_muon_id_down', 'ggHH_kl_0_kt_1_HHbbVV_muon_id_down', 'VBFHHbbVV_muon_id_down', 'qqHH_CV_1_C2V_0_kl_1_HHbbVV_muon_id_down', 'qqHH_CV_1p5_C2V_1_kl_1_HHbbVV_muon_id_down', 'qqHH_CV_1_C2V_1_kl_2_HHbbVV_muon_id_down', 'qqHH_CV_1_C2V_2_kl_1_HHbbVV_muon_id_down', 'qqHH_CV_1_C2V_1_kl_0_HHbbVV_muon_id_down', 'TT_muon_id_down', 'ST_muon_id_down', 'W+Jets_muon_id_down', 'Z+Jets_muon_id_down', 'HHbbVV_scale_down', 'ggHH_kl_2p45_kt_1_HHbbVV_scale_down', 'ggHH_kl_5_kt_1_HHbbVV_scale_down', 'ggHH_kl_0_kt_1_HHbbVV_scale_down', 'VBFHHbbVV_scale_down', 'qqHH_CV_1_C2V_0_kl_1_HHbbVV_scale_down', 'qqHH_CV_1p5_C2V_1_kl_1_HHbbVV_scale_down', 'qqHH_CV_1_C2V_1_kl_2_HHbbVV_scale_down', 'qqHH_CV_1_C2V_2_kl_1_HHbbVV_scale_down', 'qqHH_CV_1_C2V_1_kl_0_HHbbVV_scale_down', 'TT_scale_down', 'HHbbVV_pdf_down', 'ggHH_kl_2p45_kt_1_HHbbVV_pdf_down', 'ggHH_kl_5_kt_1_HHbbVV_pdf_down', 'ggHH_kl_0_kt_1_HHbbVV_pdf_down', 'VBFHHbbVV_pdf_down', 'qqHH_CV_1_C2V_0_kl_1_HHbbVV_pdf_down', 'qqHH_CV_1p5_C2V_1_kl_1_HHbbVV_pdf_down', 'qqHH_CV_1_C2V_1_kl_2_HHbbVV_pdf_down', 'qqHH_CV_1_C2V_2_kl_1_HHbbVV_pdf_down', 'qqHH_CV_1_C2V_1_kl_0_HHbbVV_pdf_down', 'HHbbVV_txbb_up', 'ggHH_kl_2p45_kt_1_HHbbVV_txbb_up', 'ggHH_kl_5_kt_1_HHbbVV_txbb_up', 'ggHH_kl_0_kt_1_HHbbVV_txbb_up', 'VBFHHbbVV_txbb_up', 'qqHH_CV_1_C2V_0_kl_1_HHbbVV_txbb_up', 'qqHH_CV_1p5_C2V_1_kl_1_HHbbVV_txbb_up', 'qqHH_CV_1_C2V_1_kl_2_HHbbVV_txbb_up', 'qqHH_CV_1_C2V_2_kl_1_HHbbVV_txbb_up', 'qqHH_CV_1_C2V_1_kl_0_HHbbVV_txbb_up', 'HHbbVV_pileup_up', 'ggHH_kl_2p45_kt_1_HHbbVV_pileup_up', 'ggHH_kl_5_kt_1_HHbbVV_pileup_up', 'ggHH_kl_0_kt_1_HHbbVV_pileup_up', 'VBFHHbbVV_pileup_up', 'qqHH_CV_1_C2V_0_kl_1_HHbbVV_pileup_up', 'qqHH_CV_1p5_C2V_1_kl_1_HHbbVV_pileup_up', 'qqHH_CV_1_C2V_1_kl_2_HHbbVV_pileup_up', 'qqHH_CV_1_C2V_2_kl_1_HHbbVV_pileup_up', 'qqHH_CV_1_C2V_1_kl_0_HHbbVV_pileup_up', 'TT_pileup_up', 'ST_pileup_up', 'W+Jets_pileup_up', 'Z+Jets_pileup_up', 'HHbbVV_pileupID_up', 'ggHH_kl_2p45_kt_1_HHbbVV_pileupID_up', 'ggHH_kl_5_kt_1_HHbbVV_pileupID_up', 'ggHH_kl_0_kt_1_HHbbVV_pileupID_up', 'VBFHHbbVV_pileupID_up', 'qqHH_CV_1_C2V_0_kl_1_HHbbVV_pileupID_up', 'qqHH_CV_1p5_C2V_1_kl_1_HHbbVV_pileupID_up', 'qqHH_CV_1_C2V_1_kl_2_HHbbVV_pileupID_up', 'qqHH_CV_1_C2V_2_kl_1_HHbbVV_pileupID_up', 'qqHH_CV_1_C2V_1_kl_0_HHbbVV_pileupID_up', 'TT_pileupID_up', 'ST_pileupID_up', 'W+Jets_pileupID_up', 'Z+Jets_pileupID_up', 'HHbbVV_ISRPartonShower_up', 'ggHH_kl_2p45_kt_1_HHbbVV_ISRPartonShower_up', 'ggHH_kl_5_kt_1_HHbbVV_ISRPartonShower_up', 'ggHH_kl_0_kt_1_HHbbVV_ISRPartonShower_up', 'VBFHHbbVV_ISRPartonShower_up', 'qqHH_CV_1_C2V_0_kl_1_HHbbVV_ISRPartonShower_up', 'qqHH_CV_1p5_C2V_1_kl_1_HHbbVV_ISRPartonShower_up', 'qqHH_CV_1_C2V_1_kl_2_HHbbVV_ISRPartonShower_up', 'qqHH_CV_1_C2V_2_kl_1_HHbbVV_ISRPartonShower_up', 'qqHH_CV_1_C2V_1_kl_0_HHbbVV_ISRPartonShower_up', 'TT_ISRPartonShower_up', 'ST_ISRPartonShower_up', 'W+Jets_ISRPartonShower_up', 'Z+Jets_ISRPartonShower_up', 'HHbbVV_FSRPartonShower_up', 'ggHH_kl_2p45_kt_1_HHbbVV_FSRPartonShower_up', 'ggHH_kl_5_kt_1_HHbbVV_FSRPartonShower_up', 'ggHH_kl_0_kt_1_HHbbVV_FSRPartonShower_up', 'VBFHHbbVV_FSRPartonShower_up', 'qqHH_CV_1_C2V_0_kl_1_HHbbVV_FSRPartonShower_up', 'qqHH_CV_1p5_C2V_1_kl_1_HHbbVV_FSRPartonShower_up', 'qqHH_CV_1_C2V_1_kl_2_HHbbVV_FSRPartonShower_up', 'qqHH_CV_1_C2V_2_kl_1_HHbbVV_FSRPartonShower_up', 'qqHH_CV_1_C2V_1_kl_0_HHbbVV_FSRPartonShower_up', 'TT_FSRPartonShower_up', 'ST_FSRPartonShower_up', 'W+Jets_FSRPartonShower_up', 'Z+Jets_FSRPartonShower_up', 'HHbbVV_L1EcalPrefiring_up', 'ggHH_kl_2p45_kt_1_HHbbVV_L1EcalPrefiring_up', 'ggHH_kl_5_kt_1_HHbbVV_L1EcalPrefiring_up', 'ggHH_kl_0_kt_1_HHbbVV_L1EcalPrefiring_up', 'VBFHHbbVV_L1EcalPrefiring_up', 'qqHH_CV_1_C2V_0_kl_1_HHbbVV_L1EcalPrefiring_up', 'qqHH_CV_1p5_C2V_1_kl_1_HHbbVV_L1EcalPrefiring_up', 'qqHH_CV_1_C2V_1_kl_2_HHbbVV_L1EcalPrefiring_up', 'qqHH_CV_1_C2V_2_kl_1_HHbbVV_L1EcalPrefiring_up', 'qqHH_CV_1_C2V_1_kl_0_HHbbVV_L1EcalPrefiring_up', 'TT_L1EcalPrefiring_up', 'ST_L1EcalPrefiring_up', 'W+Jets_L1EcalPrefiring_up', 'Z+Jets_L1EcalPrefiring_up', 'HHbbVV_electron_id_up', 'ggHH_kl_2p45_kt_1_HHbbVV_electron_id_up', 'ggHH_kl_5_kt_1_HHbbVV_electron_id_up', 'ggHH_kl_0_kt_1_HHbbVV_electron_id_up', 'VBFHHbbVV_electron_id_up', 'qqHH_CV_1_C2V_0_kl_1_HHbbVV_electron_id_up', 'qqHH_CV_1p5_C2V_1_kl_1_HHbbVV_electron_id_up', 'qqHH_CV_1_C2V_1_kl_2_HHbbVV_electron_id_up', 'qqHH_CV_1_C2V_2_kl_1_HHbbVV_electron_id_up', 'qqHH_CV_1_C2V_1_kl_0_HHbbVV_electron_id_up', 'TT_electron_id_up', 'ST_electron_id_up', 'W+Jets_electron_id_up', 'Z+Jets_electron_id_up', 'HHbbVV_muon_id_up', 'ggHH_kl_2p45_kt_1_HHbbVV_muon_id_up', 'ggHH_kl_5_kt_1_HHbbVV_muon_id_up', 'ggHH_kl_0_kt_1_HHbbVV_muon_id_up', 'VBFHHbbVV_muon_id_up', 'qqHH_CV_1_C2V_0_kl_1_HHbbVV_muon_id_up', 'qqHH_CV_1p5_C2V_1_kl_1_HHbbVV_muon_id_up', 'qqHH_CV_1_C2V_1_kl_2_HHbbVV_muon_id_up', 'qqHH_CV_1_C2V_2_kl_1_HHbbVV_muon_id_up', 'qqHH_CV_1_C2V_1_kl_0_HHbbVV_muon_id_up', 'TT_muon_id_up', 'ST_muon_id_up', 'W+Jets_muon_id_up', 'Z+Jets_muon_id_up', 'HHbbVV_scale_up', 'ggHH_kl_2p45_kt_1_HHbbVV_scale_up', 'ggHH_kl_5_kt_1_HHbbVV_scale_up', 'ggHH_kl_0_kt_1_HHbbVV_scale_up', 'VBFHHbbVV_scale_up', 'qqHH_CV_1_C2V_0_kl_1_HHbbVV_scale_up', 'qqHH_CV_1p5_C2V_1_kl_1_HHbbVV_scale_up', 'qqHH_CV_1_C2V_1_kl_2_HHbbVV_scale_up', 'qqHH_CV_1_C2V_2_kl_1_HHbbVV_scale_up', 'qqHH_CV_1_C2V_1_kl_0_HHbbVV_scale_up', 'TT_scale_up', 'HHbbVV_pdf_up', 'ggHH_kl_2p45_kt_1_HHbbVV_pdf_up', 'ggHH_kl_5_kt_1_HHbbVV_pdf_up', 'ggHH_kl_0_kt_1_HHbbVV_pdf_up', 'VBFHHbbVV_pdf_up', 'qqHH_CV_1_C2V_0_kl_1_HHbbVV_pdf_up', 'qqHH_CV_1p5_C2V_1_kl_1_HHbbVV_pdf_up', 'qqHH_CV_1_C2V_1_kl_2_HHbbVV_pdf_up', 'qqHH_CV_1_C2V_2_kl_1_HHbbVV_pdf_up', 'qqHH_CV_1_C2V_1_kl_0_HHbbVV_pdf_up'], name='Sample'),\n",
       "  Regular(20, 50, 250, name='bbFatJetParticleNetMass', label='$m^{bb}_\\\\mathrm{Reg}$ (GeV)'),\n",
       "  storage=Weight()) # Sum: WeightedSum(value=-nan, variance=88.7794) (WeightedSum(value=-nan, variance=88.7794) with flow)"
      ]
     },
     "execution_count": 28,
     "metadata": {},
     "output_type": "execute_result"
    }
   ],
   "source": [
    "hists_template2[\"pass\"]"
   ]
  },
  {
   "cell_type": "code",
   "execution_count": 35,
   "metadata": {},
   "outputs": [
    {
     "data": {
      "text/html": [
       "<html>\n",
       "<div style=\"display:flex; align-items:center;\">\n",
       "<div style=\"width:290px;\">\n",
       "<svg xmlns=\"http://www.w3.org/2000/svg\" viewBox=\"-10 -105 270 120\">\n",
       "<line x1=\"-5\" y1=\"0\" x2=\"255\" y2=\"0\" style=\"fill:none;stroke-width:2;stroke:currentColor\"/>\n",
       "<text text-anchor=\"middle\" x=\"0\" y=\"15\" style=\"fill:currentColor;\">\n",
       "50\n",
       "</text>\n",
       "<text text-anchor=\"middle\" x=\"250\" y=\"15\" style=\"fill:currentColor;\">\n",
       "250\n",
       "</text>\n",
       "<text text-anchor=\"middle\" x=\"125.0\" y=\"15\" style=\"fill:currentColor;\">\n",
       "$m^{bb}_\\mathrm{Reg}$ (GeV)\n",
       "</text>\n",
       "<polyline points=\"  0,0   0,-0.291 12.5,-0.291 12.5,-0.929  25,-0.929  25,-1.24 37.5,-1.24 37.5,-2.34  50,-2.34  50,-6.78 62.5,-6.78 62.5,-23.1  75,-23.1  75,-65.2 87.5,-65.2 87.5,-100 100,-100 100,-99.9 112.5,-99.9 112.5,-43.7 125,-43.7 125,-15.4 137.5,-15.4 137.5,-4.36 150,-4.36 150,-3.33 162.5,-3.33 162.5,-1.39 175,-1.39 175,-1.3 187.5,-1.3 187.5,-0.462 200,-0.462 200,-0.314 212.5,-0.314 212.5,-0.0419 225,-0.0419 225,-0.121 237.5,-0.121 237.5,-0.0729 250,-0.0729 250,0\" style=\"fill:none; stroke:currentColor;\"/>\n",
       "</svg>\n",
       "</div>\n",
       "<div style=\"flex=grow:1;\">\n",
       "Regular(20, 50, 250, name='bbFatJetParticleNetMass', label='$m^{bb}_\\\\mathrm{Reg}$ (GeV)')<br/>\n",
       "<hr style=\"margin-top:.2em; margin-bottom:.2em;\"/>\n",
       "Weight() Σ=WeightedSum(value=0.105892, variance=3.89652e-06)\n",
       "\n",
       "</div>\n",
       "</div>\n",
       "</html>"
      ],
      "text/plain": [
       "Hist(Regular(20, 50, 250, name='bbFatJetParticleNetMass', label='$m^{bb}_\\\\mathrm{Reg}$ (GeV)'), storage=Weight()) # Sum: WeightedSum(value=0.105892, variance=3.89652e-06)"
      ]
     },
     "execution_count": 35,
     "metadata": {},
     "output_type": "execute_result"
    }
   ],
   "source": [
    "hists_template2[\"pass\"][\"HHbbVV_pileup_up\",:]"
   ]
  },
  {
   "cell_type": "code",
   "execution_count": 33,
   "metadata": {},
   "outputs": [
    {
     "data": {
      "text/html": [
       "<html>\n",
       "<div style=\"display:flex; align-items:center;\">\n",
       "<div style=\"width:290px;\">\n",
       "<svg xmlns=\"http://www.w3.org/2000/svg\" viewBox=\"-10 -105 270 120\">\n",
       "<line x1=\"-5\" y1=\"0\" x2=\"255\" y2=\"0\" style=\"fill:none;stroke-width:2;stroke:currentColor\"/>\n",
       "<text text-anchor=\"middle\" x=\"0\" y=\"15\" style=\"fill:currentColor;\">\n",
       "50\n",
       "</text>\n",
       "<text text-anchor=\"middle\" x=\"250\" y=\"15\" style=\"fill:currentColor;\">\n",
       "250\n",
       "</text>\n",
       "<text text-anchor=\"middle\" x=\"125.0\" y=\"15\" style=\"fill:currentColor;\">\n",
       "$m^{bb}_\\mathrm{Reg}$ (GeV)\n",
       "</text>\n",
       "<polyline points=\"  0,0   0,-0.291 12.5,-0.291 12.5,-0.929  25,-0.929  25,-1.24 37.5,-1.24 37.5,-2.34  50,-2.34  50,-6.78 62.5,-6.78 62.5,-23.1  75,-23.1  75,-65.2 87.5,-65.2 87.5,-100 100,-100 100,-99.9 112.5,-99.9 112.5,-43.7 125,-43.7 125,-15.4 137.5,-15.4 137.5,-4.36 150,-4.36 150,-3.33 162.5,-3.33 162.5,-1.39 175,-1.39 175,-1.3 187.5,-1.3 187.5,-0.462 200,-0.462 200,-0.314 212.5,-0.314 212.5,-0.0419 225,-0.0419 225,-0.121 237.5,-0.121 237.5,-0.0729 250,-0.0729 250,0\" style=\"fill:none; stroke:currentColor;\"/>\n",
       "</svg>\n",
       "</div>\n",
       "<div style=\"flex=grow:1;\">\n",
       "Regular(20, 50, 250, name='bbFatJetParticleNetMass', label='$m^{bb}_\\\\mathrm{Reg}$ (GeV)')<br/>\n",
       "<hr style=\"margin-top:.2em; margin-bottom:.2em;\"/>\n",
       "Weight() Σ=WeightedSum(value=0.105892, variance=3.89652e-06)\n",
       "\n",
       "</div>\n",
       "</div>\n",
       "</html>"
      ],
      "text/plain": [
       "Hist(Regular(20, 50, 250, name='bbFatJetParticleNetMass', label='$m^{bb}_\\\\mathrm{Reg}$ (GeV)'), storage=Weight()) # Sum: WeightedSum(value=0.105892, variance=3.89652e-06)"
      ]
     },
     "execution_count": 33,
     "metadata": {},
     "output_type": "execute_result"
    }
   ],
   "source": [
    "hists_template2[\"pass\"][\"HHbbVV_pileup_up\",:]"
   ]
  },
  {
   "cell_type": "code",
   "execution_count": 36,
   "metadata": {},
   "outputs": [
    {
     "data": {
      "text/html": [
       "<html>\n",
       "<div style=\"display:flex; align-items:center;\">\n",
       "<div style=\"width:290px;\">\n",
       "<svg xmlns=\"http://www.w3.org/2000/svg\" viewBox=\"-10 -105 270 120\">\n",
       "<line x1=\"-5\" y1=\"0\" x2=\"255\" y2=\"0\" style=\"fill:none;stroke-width:2;stroke:currentColor\"/>\n",
       "<text text-anchor=\"middle\" x=\"0\" y=\"15\" style=\"fill:currentColor;\">\n",
       "50\n",
       "</text>\n",
       "<text text-anchor=\"middle\" x=\"250\" y=\"15\" style=\"fill:currentColor;\">\n",
       "250\n",
       "</text>\n",
       "<text text-anchor=\"middle\" x=\"125.0\" y=\"15\" style=\"fill:currentColor;\">\n",
       "$m^{bb}_\\mathrm{Reg}$ (GeV)\n",
       "</text>\n",
       "<polyline points=\"  0,0   0,-0.339 12.5,-0.339 12.5,-0.687  25,-0.687  25,-1.23 37.5,-1.23 37.5,-2.23  50,-2.23  50,-6.6 62.5,-6.6 62.5,-23.3  75,-23.3  75,-64.8 87.5,-64.8 87.5,-100 100,-100 100,-98.1 112.5,-98.1 112.5,-43.1 125,-43.1 125,-15.6 137.5,-15.6 137.5,-4.63 150,-4.63 150,-3.22 162.5,-3.22 162.5,-1.41 175,-1.41 175,-1.04 187.5,-1.04 187.5,-0.502 200,-0.502 200,-0.315 212.5,-0.315 212.5,-0.0169 225,-0.0169 225,-0.109 237.5,-0.109 237.5,-0.0887 250,-0.0887 250,0\" style=\"fill:none; stroke:currentColor;\"/>\n",
       "</svg>\n",
       "</div>\n",
       "<div style=\"flex=grow:1;\">\n",
       "Regular(20, 50, 250, name='bbFatJetParticleNetMass', label='$m^{bb}_\\\\mathrm{Reg}$ (GeV)')<br/>\n",
       "<hr style=\"margin-top:.2em; margin-bottom:.2em;\"/>\n",
       "Weight() Σ=WeightedSum(value=0.106171, variance=3.43708e-06)\n",
       "\n",
       "</div>\n",
       "</div>\n",
       "</html>"
      ],
      "text/plain": [
       "Hist(Regular(20, 50, 250, name='bbFatJetParticleNetMass', label='$m^{bb}_\\\\mathrm{Reg}$ (GeV)'), storage=Weight()) # Sum: WeightedSum(value=0.106171, variance=3.43708e-06)"
      ]
     },
     "execution_count": 36,
     "metadata": {},
     "output_type": "execute_result"
    }
   ],
   "source": [
    "hists_template2[\"pass\"][\"HHbbVV\",:]"
   ]
  },
  {
   "cell_type": "code",
   "execution_count": 19,
   "metadata": {},
   "outputs": [
    {
     "data": {
      "text/plain": [
       "Hist(\n",
       "  StrCategory(['HHbbVV', 'ggHH_kl_2p45_kt_1_HHbbVV', 'ggHH_kl_5_kt_1_HHbbVV', 'ggHH_kl_0_kt_1_HHbbVV', 'VBFHHbbVV', 'qqHH_CV_1_C2V_0_kl_1_HHbbVV', 'qqHH_CV_1p5_C2V_1_kl_1_HHbbVV', 'qqHH_CV_1_C2V_1_kl_2_HHbbVV', 'qqHH_CV_1_C2V_2_kl_1_HHbbVV', 'qqHH_CV_1_C2V_1_kl_0_HHbbVV', 'QCD', 'TT', 'ST', 'W+Jets', 'Z+Jets', 'Diboson', 'ggFHbb', 'VBFHbb', 'ZHbb', 'WHbb', 'ggZHbb', 'ttHbb', 'HWW', 'Data', 'HHbbVV_txbb_down', 'ggHH_kl_2p45_kt_1_HHbbVV_txbb_down', 'ggHH_kl_5_kt_1_HHbbVV_txbb_down', 'ggHH_kl_0_kt_1_HHbbVV_txbb_down', 'VBFHHbbVV_txbb_down', 'qqHH_CV_1_C2V_0_kl_1_HHbbVV_txbb_down', 'qqHH_CV_1p5_C2V_1_kl_1_HHbbVV_txbb_down', 'qqHH_CV_1_C2V_1_kl_2_HHbbVV_txbb_down', 'qqHH_CV_1_C2V_2_kl_1_HHbbVV_txbb_down', 'qqHH_CV_1_C2V_1_kl_0_HHbbVV_txbb_down', 'HHbbVV_pileup_down', 'ggHH_kl_2p45_kt_1_HHbbVV_pileup_down', 'ggHH_kl_5_kt_1_HHbbVV_pileup_down', 'ggHH_kl_0_kt_1_HHbbVV_pileup_down', 'VBFHHbbVV_pileup_down', 'qqHH_CV_1_C2V_0_kl_1_HHbbVV_pileup_down', 'qqHH_CV_1p5_C2V_1_kl_1_HHbbVV_pileup_down', 'qqHH_CV_1_C2V_1_kl_2_HHbbVV_pileup_down', 'qqHH_CV_1_C2V_2_kl_1_HHbbVV_pileup_down', 'qqHH_CV_1_C2V_1_kl_0_HHbbVV_pileup_down', 'TT_pileup_down', 'ST_pileup_down', 'W+Jets_pileup_down', 'Z+Jets_pileup_down', 'HHbbVV_pileupID_down', 'ggHH_kl_2p45_kt_1_HHbbVV_pileupID_down', 'ggHH_kl_5_kt_1_HHbbVV_pileupID_down', 'ggHH_kl_0_kt_1_HHbbVV_pileupID_down', 'VBFHHbbVV_pileupID_down', 'qqHH_CV_1_C2V_0_kl_1_HHbbVV_pileupID_down', 'qqHH_CV_1p5_C2V_1_kl_1_HHbbVV_pileupID_down', 'qqHH_CV_1_C2V_1_kl_2_HHbbVV_pileupID_down', 'qqHH_CV_1_C2V_2_kl_1_HHbbVV_pileupID_down', 'qqHH_CV_1_C2V_1_kl_0_HHbbVV_pileupID_down', 'TT_pileupID_down', 'ST_pileupID_down', 'W+Jets_pileupID_down', 'Z+Jets_pileupID_down', 'HHbbVV_ISRPartonShower_down', 'ggHH_kl_2p45_kt_1_HHbbVV_ISRPartonShower_down', 'ggHH_kl_5_kt_1_HHbbVV_ISRPartonShower_down', 'ggHH_kl_0_kt_1_HHbbVV_ISRPartonShower_down', 'VBFHHbbVV_ISRPartonShower_down', 'qqHH_CV_1_C2V_0_kl_1_HHbbVV_ISRPartonShower_down', 'qqHH_CV_1p5_C2V_1_kl_1_HHbbVV_ISRPartonShower_down', 'qqHH_CV_1_C2V_1_kl_2_HHbbVV_ISRPartonShower_down', 'qqHH_CV_1_C2V_2_kl_1_HHbbVV_ISRPartonShower_down', 'qqHH_CV_1_C2V_1_kl_0_HHbbVV_ISRPartonShower_down', 'TT_ISRPartonShower_down', 'ST_ISRPartonShower_down', 'W+Jets_ISRPartonShower_down', 'Z+Jets_ISRPartonShower_down', 'HHbbVV_FSRPartonShower_down', 'ggHH_kl_2p45_kt_1_HHbbVV_FSRPartonShower_down', 'ggHH_kl_5_kt_1_HHbbVV_FSRPartonShower_down', 'ggHH_kl_0_kt_1_HHbbVV_FSRPartonShower_down', 'VBFHHbbVV_FSRPartonShower_down', 'qqHH_CV_1_C2V_0_kl_1_HHbbVV_FSRPartonShower_down', 'qqHH_CV_1p5_C2V_1_kl_1_HHbbVV_FSRPartonShower_down', 'qqHH_CV_1_C2V_1_kl_2_HHbbVV_FSRPartonShower_down', 'qqHH_CV_1_C2V_2_kl_1_HHbbVV_FSRPartonShower_down', 'qqHH_CV_1_C2V_1_kl_0_HHbbVV_FSRPartonShower_down', 'TT_FSRPartonShower_down', 'ST_FSRPartonShower_down', 'W+Jets_FSRPartonShower_down', 'Z+Jets_FSRPartonShower_down', 'HHbbVV_L1EcalPrefiring_down', 'ggHH_kl_2p45_kt_1_HHbbVV_L1EcalPrefiring_down', 'ggHH_kl_5_kt_1_HHbbVV_L1EcalPrefiring_down', 'ggHH_kl_0_kt_1_HHbbVV_L1EcalPrefiring_down', 'VBFHHbbVV_L1EcalPrefiring_down', 'qqHH_CV_1_C2V_0_kl_1_HHbbVV_L1EcalPrefiring_down', 'qqHH_CV_1p5_C2V_1_kl_1_HHbbVV_L1EcalPrefiring_down', 'qqHH_CV_1_C2V_1_kl_2_HHbbVV_L1EcalPrefiring_down', 'qqHH_CV_1_C2V_2_kl_1_HHbbVV_L1EcalPrefiring_down', 'qqHH_CV_1_C2V_1_kl_0_HHbbVV_L1EcalPrefiring_down', 'TT_L1EcalPrefiring_down', 'ST_L1EcalPrefiring_down', 'W+Jets_L1EcalPrefiring_down', 'Z+Jets_L1EcalPrefiring_down', 'HHbbVV_electron_id_down', 'ggHH_kl_2p45_kt_1_HHbbVV_electron_id_down', 'ggHH_kl_5_kt_1_HHbbVV_electron_id_down', 'ggHH_kl_0_kt_1_HHbbVV_electron_id_down', 'VBFHHbbVV_electron_id_down', 'qqHH_CV_1_C2V_0_kl_1_HHbbVV_electron_id_down', 'qqHH_CV_1p5_C2V_1_kl_1_HHbbVV_electron_id_down', 'qqHH_CV_1_C2V_1_kl_2_HHbbVV_electron_id_down', 'qqHH_CV_1_C2V_2_kl_1_HHbbVV_electron_id_down', 'qqHH_CV_1_C2V_1_kl_0_HHbbVV_electron_id_down', 'TT_electron_id_down', 'ST_electron_id_down', 'W+Jets_electron_id_down', 'Z+Jets_electron_id_down', 'HHbbVV_muon_id_down', 'ggHH_kl_2p45_kt_1_HHbbVV_muon_id_down', 'ggHH_kl_5_kt_1_HHbbVV_muon_id_down', 'ggHH_kl_0_kt_1_HHbbVV_muon_id_down', 'VBFHHbbVV_muon_id_down', 'qqHH_CV_1_C2V_0_kl_1_HHbbVV_muon_id_down', 'qqHH_CV_1p5_C2V_1_kl_1_HHbbVV_muon_id_down', 'qqHH_CV_1_C2V_1_kl_2_HHbbVV_muon_id_down', 'qqHH_CV_1_C2V_2_kl_1_HHbbVV_muon_id_down', 'qqHH_CV_1_C2V_1_kl_0_HHbbVV_muon_id_down', 'TT_muon_id_down', 'ST_muon_id_down', 'W+Jets_muon_id_down', 'Z+Jets_muon_id_down', 'HHbbVV_scale_down', 'ggHH_kl_2p45_kt_1_HHbbVV_scale_down', 'ggHH_kl_5_kt_1_HHbbVV_scale_down', 'ggHH_kl_0_kt_1_HHbbVV_scale_down', 'VBFHHbbVV_scale_down', 'qqHH_CV_1_C2V_0_kl_1_HHbbVV_scale_down', 'qqHH_CV_1p5_C2V_1_kl_1_HHbbVV_scale_down', 'qqHH_CV_1_C2V_1_kl_2_HHbbVV_scale_down', 'qqHH_CV_1_C2V_2_kl_1_HHbbVV_scale_down', 'qqHH_CV_1_C2V_1_kl_0_HHbbVV_scale_down', 'TT_scale_down', 'HHbbVV_pdf_down', 'ggHH_kl_2p45_kt_1_HHbbVV_pdf_down', 'ggHH_kl_5_kt_1_HHbbVV_pdf_down', 'ggHH_kl_0_kt_1_HHbbVV_pdf_down', 'VBFHHbbVV_pdf_down', 'qqHH_CV_1_C2V_0_kl_1_HHbbVV_pdf_down', 'qqHH_CV_1p5_C2V_1_kl_1_HHbbVV_pdf_down', 'qqHH_CV_1_C2V_1_kl_2_HHbbVV_pdf_down', 'qqHH_CV_1_C2V_2_kl_1_HHbbVV_pdf_down', 'qqHH_CV_1_C2V_1_kl_0_HHbbVV_pdf_down', 'HHbbVV_txbb_up', 'ggHH_kl_2p45_kt_1_HHbbVV_txbb_up', 'ggHH_kl_5_kt_1_HHbbVV_txbb_up', 'ggHH_kl_0_kt_1_HHbbVV_txbb_up', 'VBFHHbbVV_txbb_up', 'qqHH_CV_1_C2V_0_kl_1_HHbbVV_txbb_up', 'qqHH_CV_1p5_C2V_1_kl_1_HHbbVV_txbb_up', 'qqHH_CV_1_C2V_1_kl_2_HHbbVV_txbb_up', 'qqHH_CV_1_C2V_2_kl_1_HHbbVV_txbb_up', 'qqHH_CV_1_C2V_1_kl_0_HHbbVV_txbb_up', 'HHbbVV_pileup_up', 'ggHH_kl_2p45_kt_1_HHbbVV_pileup_up', 'ggHH_kl_5_kt_1_HHbbVV_pileup_up', 'ggHH_kl_0_kt_1_HHbbVV_pileup_up', 'VBFHHbbVV_pileup_up', 'qqHH_CV_1_C2V_0_kl_1_HHbbVV_pileup_up', 'qqHH_CV_1p5_C2V_1_kl_1_HHbbVV_pileup_up', 'qqHH_CV_1_C2V_1_kl_2_HHbbVV_pileup_up', 'qqHH_CV_1_C2V_2_kl_1_HHbbVV_pileup_up', 'qqHH_CV_1_C2V_1_kl_0_HHbbVV_pileup_up', 'TT_pileup_up', 'ST_pileup_up', 'W+Jets_pileup_up', 'Z+Jets_pileup_up', 'HHbbVV_pileupID_up', 'ggHH_kl_2p45_kt_1_HHbbVV_pileupID_up', 'ggHH_kl_5_kt_1_HHbbVV_pileupID_up', 'ggHH_kl_0_kt_1_HHbbVV_pileupID_up', 'VBFHHbbVV_pileupID_up', 'qqHH_CV_1_C2V_0_kl_1_HHbbVV_pileupID_up', 'qqHH_CV_1p5_C2V_1_kl_1_HHbbVV_pileupID_up', 'qqHH_CV_1_C2V_1_kl_2_HHbbVV_pileupID_up', 'qqHH_CV_1_C2V_2_kl_1_HHbbVV_pileupID_up', 'qqHH_CV_1_C2V_1_kl_0_HHbbVV_pileupID_up', 'TT_pileupID_up', 'ST_pileupID_up', 'W+Jets_pileupID_up', 'Z+Jets_pileupID_up', 'HHbbVV_ISRPartonShower_up', 'ggHH_kl_2p45_kt_1_HHbbVV_ISRPartonShower_up', 'ggHH_kl_5_kt_1_HHbbVV_ISRPartonShower_up', 'ggHH_kl_0_kt_1_HHbbVV_ISRPartonShower_up', 'VBFHHbbVV_ISRPartonShower_up', 'qqHH_CV_1_C2V_0_kl_1_HHbbVV_ISRPartonShower_up', 'qqHH_CV_1p5_C2V_1_kl_1_HHbbVV_ISRPartonShower_up', 'qqHH_CV_1_C2V_1_kl_2_HHbbVV_ISRPartonShower_up', 'qqHH_CV_1_C2V_2_kl_1_HHbbVV_ISRPartonShower_up', 'qqHH_CV_1_C2V_1_kl_0_HHbbVV_ISRPartonShower_up', 'TT_ISRPartonShower_up', 'ST_ISRPartonShower_up', 'W+Jets_ISRPartonShower_up', 'Z+Jets_ISRPartonShower_up', 'HHbbVV_FSRPartonShower_up', 'ggHH_kl_2p45_kt_1_HHbbVV_FSRPartonShower_up', 'ggHH_kl_5_kt_1_HHbbVV_FSRPartonShower_up', 'ggHH_kl_0_kt_1_HHbbVV_FSRPartonShower_up', 'VBFHHbbVV_FSRPartonShower_up', 'qqHH_CV_1_C2V_0_kl_1_HHbbVV_FSRPartonShower_up', 'qqHH_CV_1p5_C2V_1_kl_1_HHbbVV_FSRPartonShower_up', 'qqHH_CV_1_C2V_1_kl_2_HHbbVV_FSRPartonShower_up', 'qqHH_CV_1_C2V_2_kl_1_HHbbVV_FSRPartonShower_up', 'qqHH_CV_1_C2V_1_kl_0_HHbbVV_FSRPartonShower_up', 'TT_FSRPartonShower_up', 'ST_FSRPartonShower_up', 'W+Jets_FSRPartonShower_up', 'Z+Jets_FSRPartonShower_up', 'HHbbVV_L1EcalPrefiring_up', 'ggHH_kl_2p45_kt_1_HHbbVV_L1EcalPrefiring_up', 'ggHH_kl_5_kt_1_HHbbVV_L1EcalPrefiring_up', 'ggHH_kl_0_kt_1_HHbbVV_L1EcalPrefiring_up', 'VBFHHbbVV_L1EcalPrefiring_up', 'qqHH_CV_1_C2V_0_kl_1_HHbbVV_L1EcalPrefiring_up', 'qqHH_CV_1p5_C2V_1_kl_1_HHbbVV_L1EcalPrefiring_up', 'qqHH_CV_1_C2V_1_kl_2_HHbbVV_L1EcalPrefiring_up', 'qqHH_CV_1_C2V_2_kl_1_HHbbVV_L1EcalPrefiring_up', 'qqHH_CV_1_C2V_1_kl_0_HHbbVV_L1EcalPrefiring_up', 'TT_L1EcalPrefiring_up', 'ST_L1EcalPrefiring_up', 'W+Jets_L1EcalPrefiring_up', 'Z+Jets_L1EcalPrefiring_up', 'HHbbVV_electron_id_up', 'ggHH_kl_2p45_kt_1_HHbbVV_electron_id_up', 'ggHH_kl_5_kt_1_HHbbVV_electron_id_up', 'ggHH_kl_0_kt_1_HHbbVV_electron_id_up', 'VBFHHbbVV_electron_id_up', 'qqHH_CV_1_C2V_0_kl_1_HHbbVV_electron_id_up', 'qqHH_CV_1p5_C2V_1_kl_1_HHbbVV_electron_id_up', 'qqHH_CV_1_C2V_1_kl_2_HHbbVV_electron_id_up', 'qqHH_CV_1_C2V_2_kl_1_HHbbVV_electron_id_up', 'qqHH_CV_1_C2V_1_kl_0_HHbbVV_electron_id_up', 'TT_electron_id_up', 'ST_electron_id_up', 'W+Jets_electron_id_up', 'Z+Jets_electron_id_up', 'HHbbVV_muon_id_up', 'ggHH_kl_2p45_kt_1_HHbbVV_muon_id_up', 'ggHH_kl_5_kt_1_HHbbVV_muon_id_up', 'ggHH_kl_0_kt_1_HHbbVV_muon_id_up', 'VBFHHbbVV_muon_id_up', 'qqHH_CV_1_C2V_0_kl_1_HHbbVV_muon_id_up', 'qqHH_CV_1p5_C2V_1_kl_1_HHbbVV_muon_id_up', 'qqHH_CV_1_C2V_1_kl_2_HHbbVV_muon_id_up', 'qqHH_CV_1_C2V_2_kl_1_HHbbVV_muon_id_up', 'qqHH_CV_1_C2V_1_kl_0_HHbbVV_muon_id_up', 'TT_muon_id_up', 'ST_muon_id_up', 'W+Jets_muon_id_up', 'Z+Jets_muon_id_up', 'HHbbVV_scale_up', 'ggHH_kl_2p45_kt_1_HHbbVV_scale_up', 'ggHH_kl_5_kt_1_HHbbVV_scale_up', 'ggHH_kl_0_kt_1_HHbbVV_scale_up', 'VBFHHbbVV_scale_up', 'qqHH_CV_1_C2V_0_kl_1_HHbbVV_scale_up', 'qqHH_CV_1p5_C2V_1_kl_1_HHbbVV_scale_up', 'qqHH_CV_1_C2V_1_kl_2_HHbbVV_scale_up', 'qqHH_CV_1_C2V_2_kl_1_HHbbVV_scale_up', 'qqHH_CV_1_C2V_1_kl_0_HHbbVV_scale_up', 'TT_scale_up', 'HHbbVV_pdf_up', 'ggHH_kl_2p45_kt_1_HHbbVV_pdf_up', 'ggHH_kl_5_kt_1_HHbbVV_pdf_up', 'ggHH_kl_0_kt_1_HHbbVV_pdf_up', 'VBFHHbbVV_pdf_up', 'qqHH_CV_1_C2V_0_kl_1_HHbbVV_pdf_up', 'qqHH_CV_1p5_C2V_1_kl_1_HHbbVV_pdf_up', 'qqHH_CV_1_C2V_1_kl_2_HHbbVV_pdf_up', 'qqHH_CV_1_C2V_2_kl_1_HHbbVV_pdf_up', 'qqHH_CV_1_C2V_1_kl_0_HHbbVV_pdf_up'], name='Sample'),\n",
       "  Regular(20, 50, 250, name='bbFatJetParticleNetMass', label='$m^{bb}_\\\\mathrm{Reg}$ (GeV)'),\n",
       "  storage=Weight()) # Sum: WeightedSum(value=-nan, variance=76.8341) (WeightedSum(value=-nan, variance=76.8341) with flow)"
      ]
     },
     "execution_count": 19,
     "metadata": {},
     "output_type": "execute_result"
    }
   ],
   "source": [
    "hists_template2[\"passBlinded\"]"
   ]
  },
  {
   "cell_type": "markdown",
   "metadata": {},
   "source": [
    "### test how to load and use the *.pkl template file"
   ]
  },
  {
   "cell_type": "code",
   "execution_count": 22,
   "metadata": {},
   "outputs": [
    {
     "ename": "KeyError",
     "evalue": "'SR3a'",
     "output_type": "error",
     "traceback": [
      "\u001b[0;31m---------------------------------------------------------------------------\u001b[0m",
      "\u001b[0;31mKeyError\u001b[0m                                  Traceback (most recent call last)",
      "\u001b[1;32m/home/pku/zhaoyz/Higgs/boostedHWW/postprocessing/templates.ipynb 单元格 34\u001b[0m line \u001b[0;36m1\n\u001b[1;32m      <a href='vscode-notebook-cell://ssh-remote%2Bfarm/home/pku/zhaoyz/Higgs/boostedHWW/postprocessing/templates.ipynb#X45sdnNjb2RlLXJlbW90ZQ%3D%3D?line=6'>7</a>\u001b[0m     massbins \u001b[39m=\u001b[39m h\u001b[39m.\u001b[39maxes[mass_axis]\u001b[39m.\u001b[39medges\n\u001b[1;32m      <a href='vscode-notebook-cell://ssh-remote%2Bfarm/home/pku/zhaoyz/Higgs/boostedHWW/postprocessing/templates.ipynb#X45sdnNjb2RlLXJlbW90ZQ%3D%3D?line=7'>8</a>\u001b[0m     \u001b[39mreturn\u001b[39;00m (h[sample, :]\u001b[39m.\u001b[39mvalues(), massbins, \u001b[39m\"\u001b[39m\u001b[39mMH_Reco\u001b[39m\u001b[39m\"\u001b[39m)\n\u001b[0;32m---> <a href='vscode-notebook-cell://ssh-remote%2Bfarm/home/pku/zhaoyz/Higgs/boostedHWW/postprocessing/templates.ipynb#X45sdnNjb2RlLXJlbW90ZQ%3D%3D?line=9'>10</a>\u001b[0m a \u001b[39m=\u001b[39m get_template(hists_template1[\u001b[39m\"\u001b[39;49m\u001b[39mSR3a\u001b[39;49m\u001b[39m\"\u001b[39;49m],\u001b[39m\"\u001b[39m\u001b[39mQCD\u001b[39m\u001b[39m\"\u001b[39m)\n\u001b[1;32m     <a href='vscode-notebook-cell://ssh-remote%2Bfarm/home/pku/zhaoyz/Higgs/boostedHWW/postprocessing/templates.ipynb#X45sdnNjb2RlLXJlbW90ZQ%3D%3D?line=10'>11</a>\u001b[0m a\n",
      "\u001b[0;31mKeyError\u001b[0m: 'SR3a'"
     ]
    }
   ],
   "source": [
    "def get_template(h, sample):\n",
    "    ''' \n",
    "    histogram h Hist, with axes:[\"samples\",\"systematic\",\"MH_Reco\"]\n",
    "    sample is sample name in [\"QCD\",...,\"data\"]\n",
    "    '''\n",
    "    mass_axis = 1 #axis index\n",
    "    massbins = h.axes[mass_axis].edges\n",
    "    return (h[sample, :].values(), massbins, \"MH_Reco\")\n",
    "\n",
    "a = get_template(hists_template1[\"SR3a\"],\"QCD\")\n",
    "a"
   ]
  },
  {
   "cell_type": "markdown",
   "metadata": {},
   "source": [
    "### Some other test"
   ]
  },
  {
   "cell_type": "code",
   "execution_count": null,
   "metadata": {},
   "outputs": [
    {
     "data": {
      "text/plain": [
       "dict_keys(['CR1_blinded', 'CR2_blinded', 'CR3_blinded'])"
      ]
     },
     "metadata": {},
     "output_type": "display_data"
    }
   ],
   "source": [
    "regions = {\n",
    "        \"CR1\" :{\"SRa\": \"SR1a\",\"SRb\":\"SR1b\"},\n",
    "        \"CR2\" :{\"SRa\": \"SR2a\",\"SRb\":\"SR2b\"},\n",
    "        \"CR3\" :{\"SRa\": \"SR3a\",\"SRb\":\"SR3b\"},\n",
    "        }\n",
    "\n",
    "regions_blinded = { key_fail + \"_blinded\": {key_pass + \"_blinded\" : key_pass_ab + \"_blinded\" for key_pass , key_pass_ab in key_pass_dict.items()}  for key_fail , key_pass_dict in regions.items()}\n",
    "regions_blinded.keys()"
   ]
  },
  {
   "cell_type": "code",
   "execution_count": null,
   "metadata": {},
   "outputs": [
    {
     "data": {
      "text/plain": [
       "True"
      ]
     },
     "metadata": {},
     "output_type": "display_data"
    }
   ],
   "source": [
    "region = \"SR1a_blinded\"\n",
    "pass_region = (\"a_\" in region)\n",
    "pass_region"
   ]
  },
  {
   "cell_type": "code",
   "execution_count": null,
   "metadata": {},
   "outputs": [
    {
     "data": {
      "text/plain": [
       "'SR1a'"
      ]
     },
     "metadata": {},
     "output_type": "display_data"
    }
   ],
   "source": [
    "region = \"SR1aBlinded\"\n",
    "region_noblinded = region.split(\"Blinded\")[0]\n",
    "region_noblinded"
   ]
  },
  {
   "cell_type": "markdown",
   "metadata": {},
   "source": [
    "### function to scale the "
   ]
  },
  {
   "cell_type": "code",
   "execution_count": null,
   "metadata": {},
   "outputs": [],
   "source": []
  }
 ],
 "metadata": {
  "kernelspec": {
   "display_name": "Python 3.9.6 64-bit",
   "language": "python",
   "name": "python3"
  },
  "language_info": {
   "codemirror_mode": {
    "name": "ipython",
    "version": 3
   },
   "file_extension": ".py",
   "mimetype": "text/x-python",
   "name": "python",
   "nbconvert_exporter": "python",
   "pygments_lexer": "ipython3",
   "version": "3.9.18"
  },
  "orig_nbformat": 4,
  "vscode": {
   "interpreter": {
    "hash": "bc8653c37afde981a02f518cc5ed66e36d68f5e1c41895fdf66da08341e86c45"
   }
  }
 },
 "nbformat": 4,
 "nbformat_minor": 2
}

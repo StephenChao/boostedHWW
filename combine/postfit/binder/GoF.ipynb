{
 "cells": [
  {
   "cell_type": "code",
   "execution_count": 1,
   "metadata": {},
   "outputs": [],
   "source": [
    "from typing import List\n",
    "import uproot\n",
    "import numpy as np\n",
    "import matplotlib.pyplot as plt\n",
    "import mplhep as hep\n",
    "import matplotlib.ticker as mticker\n",
    "import os\n",
    "\n",
    "plt.style.use(hep.style.CMS)\n",
    "hep.style.use(\"CMS\")\n",
    "formatter = mticker.ScalarFormatter(useMathText=True)\n",
    "formatter.set_powerlimits((-3, 3))\n",
    "plt.rcParams.update({\"font.size\": 20})"
   ]
  },
  {
   "cell_type": "code",
   "execution_count": 2,
   "metadata": {},
   "outputs": [],
   "source": [
    "MAIN_DIR = \"../../\"\n",
    "\n",
    "plot_dir = f\"{MAIN_DIR}/plots/GoF/23Oct9\"\n",
    "_ = os.system(f\"mkdir -p {plot_dir}\")"
   ]
  },
  {
   "cell_type": "code",
   "execution_count": 24,
   "metadata": {},
   "outputs": [
    {
     "ename": "ValueError",
     "evalue": "no TTrees found\nin file /ospool/cms-user/yuzhe/BoostedHWW/prediction/boostedHWW/combine/scripts/f_test/cards/nTF_3/higgsCombineTest.GoodnessOfFit.mH125.root",
     "output_type": "error",
     "traceback": [
      "\u001b[0;31m---------------------------------------------------------------------------\u001b[0m",
      "\u001b[0;31mValueError\u001b[0m                                Traceback (most recent call last)",
      "Cell \u001b[0;32mIn[24], line 9\u001b[0m\n\u001b[1;32m      3\u001b[0m file \u001b[39m=\u001b[39m uproot\u001b[39m.\u001b[39mconcatenate(\n\u001b[1;32m      4\u001b[0m     \u001b[39mf\u001b[39m\u001b[39m\"\u001b[39m\u001b[39m/ospool/cms-user/yuzhe/BoostedHWW/prediction/boostedHWW/combine/scripts/f_test/cards/nTF_3/higgsCombineData.GoodnessOfFit.mH125.root\u001b[39m\u001b[39m\"\u001b[39m\n\u001b[1;32m      5\u001b[0m )\n\u001b[1;32m      7\u001b[0m data_ts \u001b[39m=\u001b[39m file[\u001b[39m\"\u001b[39m\u001b[39mlimit\u001b[39m\u001b[39m\"\u001b[39m][\u001b[39m0\u001b[39m]  \u001b[39m# data test statistic\u001b[39;00m\n\u001b[0;32m----> 9\u001b[0m file \u001b[39m=\u001b[39m uproot\u001b[39m.\u001b[39;49mconcatenate(\n\u001b[1;32m     10\u001b[0m     \u001b[39mf\u001b[39;49m\u001b[39m\"\u001b[39;49m\u001b[39m/ospool/cms-user/yuzhe/BoostedHWW/prediction/boostedHWW/combine/scripts/f_test/cards/nTF_3/higgsCombineTest.GoodnessOfFit.mH125.root\u001b[39;49m\u001b[39m\"\u001b[39;49m\n\u001b[1;32m     11\u001b[0m )\n\u001b[1;32m     12\u001b[0m \u001b[39m# //\u001b[39;00m\n\u001b[1;32m     13\u001b[0m toy_ts \u001b[39m=\u001b[39m np\u001b[39m.\u001b[39marray(file[\u001b[39m\"\u001b[39m\u001b[39mlimit\u001b[39m\u001b[39m\"\u001b[39m])  \u001b[39m# toy test statistics\u001b[39;00m\n",
      "File \u001b[0;32m~/miniconda3/envs/bbVV/lib/python3.8/site-packages/uproot/behaviors/TBranch.py:348\u001b[0m, in \u001b[0;36mconcatenate\u001b[0;34m(files, expressions, cut, filter_name, filter_typename, filter_branch, aliases, language, decompression_executor, interpretation_executor, library, how, custom_classes, allow_missing, **options)\u001b[0m\n\u001b[1;32m    346\u001b[0m global_start \u001b[39m=\u001b[39m \u001b[39m0\u001b[39m\n\u001b[1;32m    347\u001b[0m \u001b[39mfor\u001b[39;00m file_path, object_path \u001b[39min\u001b[39;00m files:\n\u001b[0;32m--> 348\u001b[0m     hasbranches \u001b[39m=\u001b[39m uproot\u001b[39m.\u001b[39;49m_util\u001b[39m.\u001b[39;49mregularize_object_path(\n\u001b[1;32m    349\u001b[0m         file_path, object_path, custom_classes, allow_missing, options\n\u001b[1;32m    350\u001b[0m     )\n\u001b[1;32m    351\u001b[0m     \u001b[39mif\u001b[39;00m hasbranches \u001b[39mis\u001b[39;00m \u001b[39mnot\u001b[39;00m \u001b[39mNone\u001b[39;00m:\n\u001b[1;32m    352\u001b[0m         \u001b[39mwith\u001b[39;00m hasbranches:\n",
      "File \u001b[0;32m~/miniconda3/envs/bbVV/lib/python3.8/site-packages/uproot/_util.py:1027\u001b[0m, in \u001b[0;36mregularize_object_path\u001b[0;34m(file_path, object_path, custom_classes, allow_missing, options)\u001b[0m\n\u001b[1;32m   1025\u001b[0m                     \u001b[39mreturn\u001b[39;00m \u001b[39mNone\u001b[39;00m\n\u001b[1;32m   1026\u001b[0m                 \u001b[39melse\u001b[39;00m:\n\u001b[0;32m-> 1027\u001b[0m                     \u001b[39mraise\u001b[39;00m \u001b[39mValueError\u001b[39;00m(\n\u001b[1;32m   1028\u001b[0m \u001b[39m                        \u001b[39m\u001b[39m\"\"\"no TTrees found\u001b[39;00m\n\u001b[1;32m   1029\u001b[0m \u001b[39min file {}\"\"\"\u001b[39;00m\u001b[39m.\u001b[39mformat(\n\u001b[1;32m   1030\u001b[0m                             file_path\n\u001b[1;32m   1031\u001b[0m                         )\n\u001b[1;32m   1032\u001b[0m                     )\n\u001b[1;32m   1033\u001b[0m             \u001b[39melif\u001b[39;00m \u001b[39mlen\u001b[39m(trees) \u001b[39m==\u001b[39m \u001b[39m1\u001b[39m:\n\u001b[1;32m   1034\u001b[0m                 \u001b[39mreturn\u001b[39;00m file[trees[\u001b[39m0\u001b[39m]]\n",
      "\u001b[0;31mValueError\u001b[0m: no TTrees found\nin file /ospool/cms-user/yuzhe/BoostedHWW/prediction/boostedHWW/combine/scripts/f_test/cards/nTF_3/higgsCombineTest.GoodnessOfFit.mH125.root"
     ]
    }
   ],
   "source": [
    "# cards_dir = \"23May13MP\"\n",
    "\n",
    "file = uproot.concatenate(\n",
    "    f\"/ospool/cms-user/yuzhe/BoostedHWW/prediction/boostedHWW/combine/scripts/f_test/cards/nTF_3/higgsCombineData.GoodnessOfFit.mH125.root\"\n",
    ")\n",
    "\n",
    "data_ts = file[\"limit\"][0]  # data test statistic\n",
    "\n",
    "file = uproot.concatenate(\n",
    "    f\"/ospool/cms-user/yuzhe/BoostedHWW/prediction/boostedHWW/combine/scripts/f_test/cards/nTF_3/higgsCombineTest.GoodnessOfFit.mH125.root\"\n",
    ")\n",
    "# //\n",
    "toy_ts = np.array(file[\"limit\"])  # toy test statistics"
   ]
  },
  {
   "cell_type": "code",
   "execution_count": 22,
   "metadata": {},
   "outputs": [
    {
     "data": {
      "text/plain": [
       "5642.3164473846555"
      ]
     },
     "execution_count": 22,
     "metadata": {},
     "output_type": "execute_result"
    }
   ],
   "source": [
    "data_ts "
   ]
  },
  {
   "cell_type": "code",
   "execution_count": 23,
   "metadata": {},
   "outputs": [
    {
     "data": {
      "text/plain": [
       "array([], dtype=float64)"
      ]
     },
     "execution_count": 23,
     "metadata": {},
     "output_type": "execute_result"
    }
   ],
   "source": [
    "# toy_ts = np.array(file[\"limit\"])\n",
    "toy_ts"
   ]
  },
  {
   "cell_type": "code",
   "execution_count": 11,
   "metadata": {},
   "outputs": [],
   "source": [
    "def p_value(data_ts: float, toy_ts: List[float]):\n",
    "    return np.mean(toy_ts >= data_ts)"
   ]
  },
  {
   "cell_type": "code",
   "execution_count": 12,
   "metadata": {},
   "outputs": [
    {
     "name": "stderr",
     "output_type": "stream",
     "text": [
      "/home/yuzhe/miniconda3/envs/bbVV/lib/python3.8/site-packages/numpy/core/fromnumeric.py:3464: RuntimeWarning: Mean of empty slice.\n",
      "  return _methods._mean(a, axis=axis, dtype=dtype,\n",
      "/home/yuzhe/miniconda3/envs/bbVV/lib/python3.8/site-packages/numpy/core/_methods.py:192: RuntimeWarning: invalid value encountered in scalar divide\n",
      "  ret = ret.dtype.type(ret / rcount)\n"
     ]
    },
    {
     "data": {
      "text/plain": [
       "nan"
      ]
     },
     "execution_count": 12,
     "metadata": {},
     "output_type": "execute_result"
    }
   ],
   "source": [
    "pval = p_value(data_ts, toy_ts)\n",
    "pval"
   ]
  },
  {
   "cell_type": "code",
   "execution_count": 13,
   "metadata": {},
   "outputs": [
    {
     "ename": "ValueError",
     "evalue": "zero-size array to reduction operation maximum which has no identity",
     "output_type": "error",
     "traceback": [
      "\u001b[0;31m---------------------------------------------------------------------------\u001b[0m",
      "\u001b[0;31mValueError\u001b[0m                                Traceback (most recent call last)",
      "Cell \u001b[0;32mIn[13], line 1\u001b[0m\n\u001b[0;32m----> 1\u001b[0m plot_max \u001b[39m=\u001b[39m \u001b[39mmax\u001b[39m(np\u001b[39m.\u001b[39;49mmax(toy_ts), data_ts)\n\u001b[1;32m      2\u001b[0m plot_min \u001b[39m=\u001b[39m \u001b[39mmin\u001b[39m(np\u001b[39m.\u001b[39mmin(toy_ts), data_ts)\n",
      "File \u001b[0;32m<__array_function__ internals>:200\u001b[0m, in \u001b[0;36mamax\u001b[0;34m(*args, **kwargs)\u001b[0m\n",
      "File \u001b[0;32m~/miniconda3/envs/bbVV/lib/python3.8/site-packages/numpy/core/fromnumeric.py:2820\u001b[0m, in \u001b[0;36mamax\u001b[0;34m(a, axis, out, keepdims, initial, where)\u001b[0m\n\u001b[1;32m   2703\u001b[0m \u001b[39m@array_function_dispatch\u001b[39m(_amax_dispatcher)\n\u001b[1;32m   2704\u001b[0m \u001b[39mdef\u001b[39;00m \u001b[39mamax\u001b[39m(a, axis\u001b[39m=\u001b[39m\u001b[39mNone\u001b[39;00m, out\u001b[39m=\u001b[39m\u001b[39mNone\u001b[39;00m, keepdims\u001b[39m=\u001b[39mnp\u001b[39m.\u001b[39m_NoValue, initial\u001b[39m=\u001b[39mnp\u001b[39m.\u001b[39m_NoValue,\n\u001b[1;32m   2705\u001b[0m          where\u001b[39m=\u001b[39mnp\u001b[39m.\u001b[39m_NoValue):\n\u001b[1;32m   2706\u001b[0m \u001b[39m    \u001b[39m\u001b[39m\"\"\"\u001b[39;00m\n\u001b[1;32m   2707\u001b[0m \u001b[39m    Return the maximum of an array or maximum along an axis.\u001b[39;00m\n\u001b[1;32m   2708\u001b[0m \n\u001b[0;32m   (...)\u001b[0m\n\u001b[1;32m   2818\u001b[0m \u001b[39m    5\u001b[39;00m\n\u001b[1;32m   2819\u001b[0m \u001b[39m    \"\"\"\u001b[39;00m\n\u001b[0;32m-> 2820\u001b[0m     \u001b[39mreturn\u001b[39;00m _wrapreduction(a, np\u001b[39m.\u001b[39;49mmaximum, \u001b[39m'\u001b[39;49m\u001b[39mmax\u001b[39;49m\u001b[39m'\u001b[39;49m, axis, \u001b[39mNone\u001b[39;49;00m, out,\n\u001b[1;32m   2821\u001b[0m                           keepdims\u001b[39m=\u001b[39;49mkeepdims, initial\u001b[39m=\u001b[39;49minitial, where\u001b[39m=\u001b[39;49mwhere)\n",
      "File \u001b[0;32m~/miniconda3/envs/bbVV/lib/python3.8/site-packages/numpy/core/fromnumeric.py:86\u001b[0m, in \u001b[0;36m_wrapreduction\u001b[0;34m(obj, ufunc, method, axis, dtype, out, **kwargs)\u001b[0m\n\u001b[1;32m     83\u001b[0m         \u001b[39melse\u001b[39;00m:\n\u001b[1;32m     84\u001b[0m             \u001b[39mreturn\u001b[39;00m reduction(axis\u001b[39m=\u001b[39maxis, out\u001b[39m=\u001b[39mout, \u001b[39m*\u001b[39m\u001b[39m*\u001b[39mpasskwargs)\n\u001b[0;32m---> 86\u001b[0m \u001b[39mreturn\u001b[39;00m ufunc\u001b[39m.\u001b[39;49mreduce(obj, axis, dtype, out, \u001b[39m*\u001b[39;49m\u001b[39m*\u001b[39;49mpasskwargs)\n",
      "\u001b[0;31mValueError\u001b[0m: zero-size array to reduction operation maximum which has no identity"
     ]
    }
   ],
   "source": [
    "plot_max = max(np.max(toy_ts), data_ts)\n",
    "plot_min = min(np.min(toy_ts), data_ts)"
   ]
  },
  {
   "cell_type": "code",
   "execution_count": null,
   "metadata": {},
   "outputs": [],
   "source": [
    "plt.figure(figsize=(12, 8))\n",
    "_ = plt.hist(\n",
    "    toy_ts, np.linspace(plot_min, plot_max, 10), color=\"dimgrey\", histtype=\"step\", label=\"Toys\"\n",
    ")\n",
    "plt.axvline(data_ts, color=\"red\", linestyle=\":\", label=rf\"Data ($p$-value = {pval:.2f})\")\n",
    "_ = plt.legend()\n",
    "plt.title(\"Goodness of Fit\")\n",
    "plt.ylabel(\"Number of Toys\")\n",
    "plt.xlabel(\"Test Statistics\")\n",
    "plt.savefig(f\"{plot_dir}/gof.pdf\")"
   ]
  },
  {
   "cell_type": "code",
   "execution_count": null,
   "metadata": {},
   "outputs": [],
   "source": [
    "from scipy.stats import chi2\n",
    "\n",
    "chi2_df = 100\n",
    "\n",
    "plt.figure(figsize=(12, 8))\n",
    "x = np.linspace(plot_min, plot_max, 101)\n",
    "plt.plot(\n",
    "    x,\n",
    "    chi2.pdf(x, chi2_df) * 1.3,\n",
    "    color=\"blue\",\n",
    "    linestyle=\"--\",\n",
    "    alpha=0.6,\n",
    "    label=rf\"$\\chi^2_{{DoF = {chi2_df}}}$\",\n",
    ")\n",
    "_ = plt.hist(\n",
    "    toy_ts,\n",
    "    np.linspace(plot_min, plot_max, 10),\n",
    "    density=True,\n",
    "    color=\"dimgrey\",\n",
    "    histtype=\"step\",\n",
    "    label=\"Toys\",\n",
    ")\n",
    "plt.axvline(data_ts, color=\"red\", linestyle=\":\", label=rf\"Data ($p$-value = {pval:.2f})\")\n",
    "_ = plt.legend()\n",
    "plt.title(\"Goodness of Fit\")\n",
    "plt.ylabel(\"Number of Toys (A.U.)\")\n",
    "plt.xlabel(\"Test Statistics\")\n",
    "plt.savefig(f\"{plot_dir}/gof_chi2.pdf\")"
   ]
  },
  {
   "cell_type": "code",
   "execution_count": null,
   "metadata": {},
   "outputs": [],
   "source": []
  }
 ],
 "metadata": {
  "kernelspec": {
   "display_name": "bbVV",
   "language": "python",
   "name": "python3"
  },
  "language_info": {
   "codemirror_mode": {
    "name": "ipython",
    "version": 3
   },
   "file_extension": ".py",
   "mimetype": "text/x-python",
   "name": "python",
   "nbconvert_exporter": "python",
   "pygments_lexer": "ipython3",
   "version": "3.8.17"
  },
  "orig_nbformat": 4,
  "vscode": {
   "interpreter": {
    "hash": "5b9eab485576227e6cf1b964bb8855c46cbdf15c3e77cecdb2bb309145d3e8d8"
   }
  }
 },
 "nbformat": 4,
 "nbformat_minor": 2
}

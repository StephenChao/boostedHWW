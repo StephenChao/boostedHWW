{
 "cells": [
  {
   "cell_type": "code",
   "execution_count": 1,
   "metadata": {},
   "outputs": [],
   "source": [
    "from typing import List\n",
    "import uproot\n",
    "import numpy as np\n",
    "import matplotlib.pyplot as plt\n",
    "import mplhep as hep\n",
    "import matplotlib.ticker as mticker\n",
    "import os\n",
    "\n",
    "plt.style.use(hep.style.CMS)\n",
    "hep.style.use(\"CMS\")\n",
    "formatter = mticker.ScalarFormatter(useMathText=True)\n",
    "formatter.set_powerlimits((-3, 3))\n",
    "plt.rcParams.update({\"font.size\": 20})"
   ]
  },
  {
   "cell_type": "code",
   "execution_count": 2,
   "metadata": {},
   "outputs": [],
   "source": [
    "MAIN_DIR = \"../../\"\n",
    "\n",
    "plot_dir = f\"{MAIN_DIR}/plots/GoF/23Oct9\"\n",
    "_ = os.system(f\"mkdir -p {plot_dir}\")"
   ]
  },
  {
   "cell_type": "code",
   "execution_count": 8,
   "metadata": {},
   "outputs": [
    {
     "ename": "FileNotFoundError",
     "evalue": "file not found\n\n    '/ospool/cms-user/yuzhe/BoostedHWW/prediction/boostedHWW/combine/scripts/f_test/cards/nTF_0/higgsCombineToys.GoodnessOfFit.mH125.*.root'\n\nFiles may be specified as:\n   * str/bytes: relative or absolute filesystem path or URL, without any colons\n         other than Windows drive letter or URL schema.\n         Examples: \"rel/file.root\", \"C:\\abs\\file.root\", \"http://where/what.root\"\n   * str/bytes: same with an object-within-ROOT path, separated by a colon.\n         Example: \"rel/file.root:tdirectory/ttree\"\n   * pathlib.Path: always interpreted as a filesystem path or URL only (no\n         object-within-ROOT path), regardless of whether there are any colons.\n         Examples: Path(\"rel:/file.root\"), Path(\"/abs/path:stuff.root\")\n\nFunctions that accept many files (uproot.iterate, etc.) also allow:\n   * glob syntax in str/bytes and pathlib.Path.\n         Examples: Path(\"rel/*.root\"), \"/abs/*.root:tdirectory/ttree\"\n   * dict: keys are filesystem paths, values are objects-within-ROOT paths.\n         Example: {\"/data_v1/*.root\": \"ttree_v1\", \"/data_v2/*.root\": \"ttree_v2\"}\n   * already-open TTree objects.\n   * iterables of the above.\n",
     "output_type": "error",
     "traceback": [
      "\u001b[0;31m---------------------------------------------------------------------------\u001b[0m",
      "\u001b[0;31mFileNotFoundError\u001b[0m                         Traceback (most recent call last)",
      "Cell \u001b[0;32mIn[8], line 9\u001b[0m\n\u001b[1;32m      3\u001b[0m file \u001b[39m=\u001b[39m uproot\u001b[39m.\u001b[39mconcatenate(\n\u001b[1;32m      4\u001b[0m     \u001b[39mf\u001b[39m\u001b[39m\"\u001b[39m\u001b[39m/ospool/cms-user/yuzhe/BoostedHWW/prediction/boostedHWW/combine/scripts/f_test/cards/nTF_0/higgsCombineData.GoodnessOfFit.mH125.root\u001b[39m\u001b[39m\"\u001b[39m\n\u001b[1;32m      5\u001b[0m )\n\u001b[1;32m      7\u001b[0m data_ts \u001b[39m=\u001b[39m file[\u001b[39m\"\u001b[39m\u001b[39mlimit\u001b[39m\u001b[39m\"\u001b[39m][\u001b[39m0\u001b[39m]  \u001b[39m# data test statistic\u001b[39;00m\n\u001b[0;32m----> 9\u001b[0m file \u001b[39m=\u001b[39m uproot\u001b[39m.\u001b[39;49mconcatenate(\n\u001b[1;32m     10\u001b[0m     \u001b[39mf\u001b[39;49m\u001b[39m\"\u001b[39;49m\u001b[39m/ospool/cms-user/yuzhe/BoostedHWW/prediction/boostedHWW/combine/scripts/f_test/cards/nTF_0/higgsCombineToys.GoodnessOfFit.mH125.*.root\u001b[39;49m\u001b[39m\"\u001b[39;49m\n\u001b[1;32m     11\u001b[0m )\n\u001b[1;32m     12\u001b[0m \u001b[39m# //\u001b[39;00m\n\u001b[1;32m     13\u001b[0m toy_ts \u001b[39m=\u001b[39m np\u001b[39m.\u001b[39marray(file[\u001b[39m\"\u001b[39m\u001b[39mlimit\u001b[39m\u001b[39m\"\u001b[39m])  \u001b[39m# toy test statistics\u001b[39;00m\n",
      "File \u001b[0;32m~/miniconda3/envs/bbVV/lib/python3.8/site-packages/uproot/behaviors/TBranch.py:339\u001b[0m, in \u001b[0;36mconcatenate\u001b[0;34m(files, expressions, cut, filter_name, filter_typename, filter_branch, aliases, language, decompression_executor, interpretation_executor, library, how, custom_classes, allow_missing, **options)\u001b[0m\n\u001b[1;32m    222\u001b[0m \u001b[39mdef\u001b[39;00m \u001b[39mconcatenate\u001b[39m(\n\u001b[1;32m    223\u001b[0m     files,\n\u001b[1;32m    224\u001b[0m     expressions\u001b[39m=\u001b[39m\u001b[39mNone\u001b[39;00m,\n\u001b[0;32m   (...)\u001b[0m\n\u001b[1;32m    237\u001b[0m     \u001b[39m*\u001b[39m\u001b[39m*\u001b[39moptions,  \u001b[39m# NOTE: a comma after **options breaks Python 2\u001b[39;00m\n\u001b[1;32m    238\u001b[0m ):\n\u001b[1;32m    239\u001b[0m \u001b[39m    \u001b[39m\u001b[39m\"\"\"\u001b[39;00m\n\u001b[1;32m    240\u001b[0m \u001b[39m    Args:\u001b[39;00m\n\u001b[1;32m    241\u001b[0m \u001b[39m        files: See below.\u001b[39;00m\n\u001b[0;32m   (...)\u001b[0m\n\u001b[1;32m    337\u001b[0m \u001b[39m      ``TTrees``.\u001b[39;00m\n\u001b[1;32m    338\u001b[0m \u001b[39m    \"\"\"\u001b[39;00m\n\u001b[0;32m--> 339\u001b[0m     files \u001b[39m=\u001b[39m uproot\u001b[39m.\u001b[39;49m_util\u001b[39m.\u001b[39;49mregularize_files(files)\n\u001b[1;32m    340\u001b[0m     decompression_executor, interpretation_executor \u001b[39m=\u001b[39m _regularize_executors(\n\u001b[1;32m    341\u001b[0m         decompression_executor, interpretation_executor, \u001b[39mNone\u001b[39;00m\n\u001b[1;32m    342\u001b[0m     )\n\u001b[1;32m    343\u001b[0m     library \u001b[39m=\u001b[39m uproot\u001b[39m.\u001b[39minterpretation\u001b[39m.\u001b[39mlibrary\u001b[39m.\u001b[39m_regularize_library(library)\n",
      "File \u001b[0;32m~/miniconda3/envs/bbVV/lib/python3.8/site-packages/uproot/_util.py:996\u001b[0m, in \u001b[0;36mregularize_files\u001b[0;34m(files)\u001b[0m\n\u001b[1;32m    993\u001b[0m         out\u001b[39m.\u001b[39mappend((file_path, object_path))\n\u001b[1;32m    995\u001b[0m \u001b[39mif\u001b[39;00m \u001b[39mlen\u001b[39m(out) \u001b[39m==\u001b[39m \u001b[39m0\u001b[39m:\n\u001b[0;32m--> 996\u001b[0m     \u001b[39mraise\u001b[39;00m _file_not_found(files)\n\u001b[1;32m    998\u001b[0m \u001b[39mreturn\u001b[39;00m out\n",
      "\u001b[0;31mFileNotFoundError\u001b[0m: file not found\n\n    '/ospool/cms-user/yuzhe/BoostedHWW/prediction/boostedHWW/combine/scripts/f_test/cards/nTF_0/higgsCombineToys.GoodnessOfFit.mH125.*.root'\n\nFiles may be specified as:\n   * str/bytes: relative or absolute filesystem path or URL, without any colons\n         other than Windows drive letter or URL schema.\n         Examples: \"rel/file.root\", \"C:\\abs\\file.root\", \"http://where/what.root\"\n   * str/bytes: same with an object-within-ROOT path, separated by a colon.\n         Example: \"rel/file.root:tdirectory/ttree\"\n   * pathlib.Path: always interpreted as a filesystem path or URL only (no\n         object-within-ROOT path), regardless of whether there are any colons.\n         Examples: Path(\"rel:/file.root\"), Path(\"/abs/path:stuff.root\")\n\nFunctions that accept many files (uproot.iterate, etc.) also allow:\n   * glob syntax in str/bytes and pathlib.Path.\n         Examples: Path(\"rel/*.root\"), \"/abs/*.root:tdirectory/ttree\"\n   * dict: keys are filesystem paths, values are objects-within-ROOT paths.\n         Example: {\"/data_v1/*.root\": \"ttree_v1\", \"/data_v2/*.root\": \"ttree_v2\"}\n   * already-open TTree objects.\n   * iterables of the above.\n"
     ]
    }
   ],
   "source": [
    "# cards_dir = \"23May13MP\"\n",
    "\n",
    "file = uproot.concatenate(\n",
    "    f\"/ospool/cms-user/yuzhe/BoostedHWW/prediction/boostedHWW/combine/scripts/f_test/cards/nTF_0/higgsCombineData.GoodnessOfFit.mH125.root\"\n",
    ")\n",
    "\n",
    "data_ts = file[\"limit\"][0]  # data test statistic\n",
    "\n",
    "file = uproot.concatenate(\n",
    "    f\"/ospool/cms-user/yuzhe/BoostedHWW/prediction/boostedHWW/combine/scripts/f_test/cards/nTF_0/higgsCombineToys.GoodnessOfFit.mH125.*.root\"\n",
    ")\n",
    "# //\n",
    "toy_ts = np.array(file[\"limit\"])  # toy test statistics"
   ]
  },
  {
   "cell_type": "code",
   "execution_count": null,
   "metadata": {},
   "outputs": [],
   "source": [
    "def p_value(data_ts: float, toy_ts: List[float]):\n",
    "    return np.mean(toy_ts >= data_ts)"
   ]
  },
  {
   "cell_type": "code",
   "execution_count": null,
   "metadata": {},
   "outputs": [],
   "source": [
    "pval = p_value(data_ts, toy_ts)\n",
    "pval"
   ]
  },
  {
   "cell_type": "code",
   "execution_count": null,
   "metadata": {},
   "outputs": [],
   "source": [
    "plot_max = max(np.max(toy_ts), data_ts)\n",
    "plot_min = min(np.min(toy_ts), data_ts)"
   ]
  },
  {
   "cell_type": "code",
   "execution_count": null,
   "metadata": {},
   "outputs": [],
   "source": [
    "plt.figure(figsize=(12, 8))\n",
    "_ = plt.hist(\n",
    "    toy_ts, np.linspace(plot_min, plot_max, 10), color=\"dimgrey\", histtype=\"step\", label=\"Toys\"\n",
    ")\n",
    "plt.axvline(data_ts, color=\"red\", linestyle=\":\", label=rf\"Data ($p$-value = {pval:.2f})\")\n",
    "_ = plt.legend()\n",
    "plt.title(\"Goodness of Fit\")\n",
    "plt.ylabel(\"Number of Toys\")\n",
    "plt.xlabel(\"Test Statistics\")\n",
    "plt.savefig(f\"{plot_dir}/gof.pdf\")"
   ]
  },
  {
   "cell_type": "code",
   "execution_count": null,
   "metadata": {},
   "outputs": [],
   "source": [
    "from scipy.stats import chi2\n",
    "\n",
    "chi2_df = 100\n",
    "\n",
    "plt.figure(figsize=(12, 8))\n",
    "x = np.linspace(plot_min, plot_max, 101)\n",
    "plt.plot(\n",
    "    x,\n",
    "    chi2.pdf(x, chi2_df) * 1.3,\n",
    "    color=\"blue\",\n",
    "    linestyle=\"--\",\n",
    "    alpha=0.6,\n",
    "    label=rf\"$\\chi^2_{{DoF = {chi2_df}}}$\",\n",
    ")\n",
    "_ = plt.hist(\n",
    "    toy_ts,\n",
    "    np.linspace(plot_min, plot_max, 10),\n",
    "    density=True,\n",
    "    color=\"dimgrey\",\n",
    "    histtype=\"step\",\n",
    "    label=\"Toys\",\n",
    ")\n",
    "plt.axvline(data_ts, color=\"red\", linestyle=\":\", label=rf\"Data ($p$-value = {pval:.2f})\")\n",
    "_ = plt.legend()\n",
    "plt.title(\"Goodness of Fit\")\n",
    "plt.ylabel(\"Number of Toys (A.U.)\")\n",
    "plt.xlabel(\"Test Statistics\")\n",
    "plt.savefig(f\"{plot_dir}/gof_chi2.pdf\")"
   ]
  },
  {
   "cell_type": "code",
   "execution_count": null,
   "metadata": {},
   "outputs": [],
   "source": []
  }
 ],
 "metadata": {
  "kernelspec": {
   "display_name": "bbVV",
   "language": "python",
   "name": "python3"
  },
  "language_info": {
   "codemirror_mode": {
    "name": "ipython",
    "version": 3
   },
   "file_extension": ".py",
   "mimetype": "text/x-python",
   "name": "python",
   "nbconvert_exporter": "python",
   "pygments_lexer": "ipython3",
   "version": "3.8.17"
  },
  "orig_nbformat": 4,
  "vscode": {
   "interpreter": {
    "hash": "5b9eab485576227e6cf1b964bb8855c46cbdf15c3e77cecdb2bb309145d3e8d8"
   }
  }
 },
 "nbformat": 4,
 "nbformat_minor": 2
}

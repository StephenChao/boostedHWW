{
 "cells": [
  {
   "cell_type": "code",
   "execution_count": 1,
   "metadata": {},
   "outputs": [],
   "source": [
    "import uproot\n",
    "import awkward as ak\n",
    "import numpy as np\n",
    "import math\n",
    "import sklearn.metrics as m\n",
    "import numba as nb\n",
    "from coffea.nanoevents.methods import vector\n",
    "from coffea.nanoevents import NanoEventsFactory, BaseSchema, NanoAODSchema\n",
    "import os\n",
    "\n",
    "import boost_histogram as bh\n",
    "from matplotlib import pyplot as plt\n",
    "import matplotlib as mpl\n",
    "from cycler import cycler\n",
    "import mplhep as hep\n",
    "use_helvet = True  ## true: use helvetica for plots, make sure the system have the font installed\n",
    "if use_helvet:\n",
    "    CMShelvet = hep.style.CMS\n",
    "    CMShelvet['font.sans-serif'] = ['Helvetica', 'Arial']\n",
    "    plt.style.use(CMShelvet)\n",
    "else:\n",
    "    plt.style.use(hep.style.CMS)\n",
    "\n",
    "import os, sys  \n",
    "\n",
    "# os.environ['OPENBLAS_NUM_THREADS'] = '1'\n",
    "\n",
    "class dotdict(dict):\n",
    "    __getattr__ = dict.get\n",
    "    __setattr__ = dict.__setitem__\n",
    "    __delattr__ = dict.__delitem__\n"
   ]
  },
  {
   "cell_type": "code",
   "execution_count": 2,
   "metadata": {},
   "outputs": [],
   "source": [
    "# df = uproot.lazy('/data/bond/fudawei/public/customizedNanoAOD/output/mc/2017/QCD/QCD_HT1000to1500/154.root:Events')"
   ]
  },
  {
   "cell_type": "code",
   "execution_count": null,
   "metadata": {},
   "outputs": [],
   "source": []
  },
  {
   "cell_type": "code",
   "execution_count": 231,
   "metadata": {},
   "outputs": [],
   "source": [
    "events = NanoEventsFactory.from_root(\n",
    "    '/data/bond/fudawei/public/customizedNanoAOD/output/mc/2017/TTJets/TTJets/merged_2.root',\n",
    "    # '/data/bond/fudawei/public/customizedNanoAOD/output/mc/2017/QCD/QCD_HT1000to1500/merged_2.root',\n",
    ").events()\n",
    "\n",
    "events = events[ak.num(events.FatJet) >= 1]\n",
    "# events = ak.concatenate([NanoEventsFactory.from_root(\n",
    "#     f'/data/bond/fudawei/public/customizedNanoAOD/output/mc/2017/QCD/QCD_HT1000to1500/{i}.root',\n",
    "# ).events() for i in range(10)], axis=0)"
   ]
  },
  {
   "cell_type": "code",
   "execution_count": 232,
   "metadata": {},
   "outputs": [
    {
     "data": {
      "text/plain": [
       "<NanoEventsArray [<event 1:100084:259915555>, ... ] type='330706 * event'>"
      ]
     },
     "execution_count": 232,
     "metadata": {},
     "output_type": "execute_result"
    }
   ],
   "source": [
    "events"
   ]
  },
  {
   "cell_type": "code",
   "execution_count": 233,
   "metadata": {},
   "outputs": [
    {
     "name": "stderr",
     "output_type": "stream",
     "text": [
      "findfont: Generic family 'sans-serif' not found because none of the following families were found: Helvetica, Arial\n",
      "findfont: Generic family 'sans-serif' not found because none of the following families were found: Helvetica, Arial\n",
      "findfont: Generic family 'sans-serif' not found because none of the following families were found: Helvetica, Arial\n",
      "findfont: Generic family 'sans-serif' not found because none of the following families were found: Helvetica, Arial\n",
      "findfont: Generic family 'sans-serif' not found because none of the following families were found: Helvetica, Arial\n",
      "findfont: Generic family 'sans-serif' not found because none of the following families were found: Helvetica, Arial\n",
      "findfont: Generic family 'sans-serif' not found because none of the following families were found: Helvetica, Arial\n",
      "findfont: Generic family 'sans-serif' not found because none of the following families were found: Helvetica, Arial\n",
      "findfont: Generic family 'sans-serif' not found because none of the following families were found: Helvetica, Arial\n",
      "findfont: Generic family 'sans-serif' not found because none of the following families were found: Helvetica, Arial\n",
      "findfont: Generic family 'sans-serif' not found because none of the following families were found: Helvetica, Arial\n",
      "findfont: Generic family 'sans-serif' not found because none of the following families were found: Helvetica, Arial\n",
      "findfont: Generic family 'sans-serif' not found because none of the following families were found: Helvetica, Arial\n",
      "findfont: Generic family 'sans-serif' not found because none of the following families were found: Helvetica, Arial\n",
      "findfont: Generic family 'sans-serif' not found because none of the following families were found: Helvetica, Arial\n",
      "findfont: Generic family 'sans-serif' not found because none of the following families were found: Helvetica, Arial\n",
      "findfont: Generic family 'sans-serif' not found because none of the following families were found: Helvetica, Arial\n",
      "findfont: Generic family 'sans-serif' not found because none of the following families were found: Helvetica, Arial\n",
      "findfont: Generic family 'sans-serif' not found because none of the following families were found: Helvetica, Arial\n",
      "findfont: Generic family 'sans-serif' not found because none of the following families were found: Helvetica, Arial\n",
      "findfont: Generic family 'sans-serif' not found because none of the following families were found: Helvetica, Arial\n",
      "findfont: Generic family 'sans-serif' not found because none of the following families were found: Helvetica, Arial\n",
      "findfont: Generic family 'sans-serif' not found because none of the following families were found: Helvetica, Arial\n",
      "findfont: Generic family 'sans-serif' not found because none of the following families were found: Helvetica, Arial\n",
      "findfont: Generic family 'sans-serif' not found because none of the following families were found: Helvetica, Arial\n",
      "findfont: Generic family 'sans-serif' not found because none of the following families were found: Helvetica, Arial\n",
      "findfont: Generic family 'sans-serif' not found because none of the following families were found: Helvetica, Arial\n",
      "findfont: Generic family 'sans-serif' not found because none of the following families were found: Helvetica, Arial\n",
      "findfont: Generic family 'sans-serif' not found because none of the following families were found: Helvetica, Arial\n",
      "findfont: Generic family 'sans-serif' not found because none of the following families were found: Helvetica, Arial\n",
      "findfont: Generic family 'sans-serif' not found because none of the following families were found: Helvetica, Arial\n",
      "findfont: Generic family 'sans-serif' not found because none of the following families were found: Helvetica, Arial\n",
      "findfont: Generic family 'sans-serif' not found because none of the following families were found: Helvetica, Arial\n",
      "findfont: Generic family 'sans-serif' not found because none of the following families were found: Helvetica, Arial\n",
      "findfont: Generic family 'sans-serif' not found because none of the following families were found: Helvetica, Arial\n",
      "findfont: Generic family 'sans-serif' not found because none of the following families were found: Helvetica, Arial\n",
      "findfont: Generic family 'sans-serif' not found because none of the following families were found: Helvetica, Arial\n",
      "findfont: Generic family 'sans-serif' not found because none of the following families were found: Helvetica, Arial\n",
      "findfont: Generic family 'sans-serif' not found because none of the following families were found: Helvetica, Arial\n",
      "findfont: Generic family 'sans-serif' not found because none of the following families were found: Helvetica, Arial\n",
      "findfont: Generic family 'sans-serif' not found because none of the following families were found: Helvetica, Arial\n",
      "findfont: Generic family 'sans-serif' not found because none of the following families were found: Helvetica, Arial\n",
      "findfont: Generic family 'sans-serif' not found because none of the following families were found: Helvetica, Arial\n",
      "findfont: Generic family 'sans-serif' not found because none of the following families were found: Helvetica, Arial\n",
      "findfont: Generic family 'sans-serif' not found because none of the following families were found: Helvetica, Arial\n",
      "findfont: Generic family 'sans-serif' not found because none of the following families were found: Helvetica, Arial\n",
      "findfont: Generic family 'sans-serif' not found because none of the following families were found: Helvetica, Arial\n",
      "findfont: Generic family 'sans-serif' not found because none of the following families were found: Helvetica, Arial\n",
      "findfont: Generic family 'sans-serif' not found because none of the following families were found: Helvetica, Arial\n",
      "findfont: Generic family 'sans-serif' not found because none of the following families were found: Helvetica, Arial\n",
      "findfont: Generic family 'sans-serif' not found because none of the following families were found: Helvetica, Arial\n",
      "findfont: Generic family 'sans-serif' not found because none of the following families were found: Helvetica, Arial\n",
      "findfont: Generic family 'sans-serif' not found because none of the following families were found: Helvetica, Arial\n",
      "findfont: Generic family 'sans-serif' not found because none of the following families were found: Helvetica, Arial\n",
      "findfont: Generic family 'sans-serif' not found because none of the following families were found: Helvetica, Arial\n",
      "findfont: Generic family 'sans-serif' not found because none of the following families were found: Helvetica, Arial\n",
      "findfont: Generic family 'sans-serif' not found because none of the following families were found: Helvetica, Arial\n",
      "findfont: Generic family 'sans-serif' not found because none of the following families were found: Helvetica, Arial\n",
      "findfont: Generic family 'sans-serif' not found because none of the following families were found: Helvetica, Arial\n",
      "findfont: Generic family 'sans-serif' not found because none of the following families were found: Helvetica, Arial\n"
     ]
    },
    {
     "data": {
      "image/png": "[encoded data removed]",
      "text/plain": [
       "<Figure size 1000x1000 with 1 Axes>"
      ]
     },
     "metadata": {},
     "output_type": "display_data"
    }
   ],
   "source": [
    "f, ax = plt.subplots(figsize=(10,10))\n",
    "\n",
    "nbin, xmin, xmax = 40, 0, 1\n",
    "hist = bh.Histogram(bh.axis.Regular(nbin, xmin, xmax), storage=bh.storage.Weight())\n",
    "\n",
    "num = 'inclParTMDV1_probTopbWqq0c + inclParTMDV1_probTopbWqq1c + inclParTMDV1_probTopbWq0c + inclParTMDV1_probTopbWq1c'\n",
    "num_bl = 'inclParTMDV1_probTopbWev + inclParTMDV1_probTopbWmv'\n",
    "num_bell = 'inclParTMDV1_probTopbWev + inclParTMDV1_probTopbWmv + inclParTMDV1_probTopbWtauev + inclParTMDV1_probTopbWtaumv'\n",
    "discr = f'({num}) / ({num} + inclParTMDV1_probQCDbb + inclParTMDV1_probQCDcc + inclParTMDV1_probQCDb + inclParTMDV1_probQCDc + inclParTMDV1_probQCDothers)'\n",
    "tagger_arr = ak.numexpr.evaluate(discr, events[ak.num(events.FatJet) >= 1].FatJet[:, 0])\n",
    "hist.fill(tagger_arr[~np.isnan(tagger_arr)])\n",
    "# hist.fill(arr_clean)\n",
    "# \n",
    "\n",
    "content, yerr = hist.view().value, np.sqrt(hist.view().variance)\n",
    "hep.histplot(content, bins=hist.axes[0].edges, yerr=yerr)\n",
    "ax.set_xlabel('Label', ha='right', x=1.0); ax.set_ylabel('Events / bins', ha='right', y=1.0);\n"
   ]
  },
  {
   "cell_type": "markdown",
   "metadata": {},
   "source": [
    "### find tlb jet tagger distribution\n"
   ]
  },
  {
   "cell_type": "code",
   "execution_count": 234,
   "metadata": {},
   "outputs": [],
   "source": [
    "deltaR = 0.8\n",
    "\n",
    "d_PDGID = 1\n",
    "b_PDGID = 5\n",
    "g_PDGID = 21\n",
    "TOP_PDGID = 6\n",
    "\n",
    "ELE_PDGID = 11\n",
    "vELE_PDGID = 12\n",
    "MU_PDGID = 13\n",
    "vMU_PDGID = 14\n",
    "TAU_PDGID = 15\n",
    "vTAU_PDGID = 16\n",
    "\n",
    "Z_PDGID = 23\n",
    "W_PDGID = 24\n",
    "HIGGS_PDGID = 25\n",
    "\n",
    "GEN_FLAGS = [\"fromHardProcess\", \"isLastCopy\"]\n",
    "\n",
    "# finding the two gen tops\n",
    "tops = events.GenPart[\n",
    "    (abs(events.GenPart.pdgId) == TOP_PDGID) * events.GenPart.hasFlags(GEN_FLAGS)\n",
    "]\n"
   ]
  },
  {
   "cell_type": "code",
   "execution_count": 235,
   "metadata": {},
   "outputs": [],
   "source": [
    "num_jets = 1\n",
    "fatjets = events.FatJet\n",
    "leading_fatjets = ak.pad_none(fatjets, num_jets, axis=1)[:, :num_jets]"
   ]
  },
  {
   "cell_type": "code",
   "execution_count": 236,
   "metadata": {},
   "outputs": [
    {
     "data": {
      "text/plain": [
       "<FatJetArray [[FatJet], [FatJet, ... [FatJet]] type='330706 * var * ?fatJet'>"
      ]
     },
     "execution_count": 236,
     "metadata": {},
     "output_type": "execute_result"
    }
   ],
   "source": [
    "leading_fatjets"
   ]
  },
  {
   "cell_type": "code",
   "execution_count": 70,
   "metadata": {},
   "outputs": [
    {
     "data": {
      "text/plain": [
       "1"
      ]
     },
     "execution_count": 70,
     "metadata": {},
     "output_type": "execute_result"
    }
   ],
   "source": [
    "max(ak.num(leading_fatjets))"
   ]
  },
  {
   "cell_type": "code",
   "execution_count": 97,
   "metadata": {},
   "outputs": [
    {
     "data": {
      "text/plain": [
       "<Array [[2, -1], [12, -11, ... 4, -3], [4, -3]] type='1099006 * option[var * ?in...'>"
      ]
     },
     "execution_count": 97,
     "metadata": {},
     "output_type": "execute_result"
    }
   ],
   "source": [
    "ws.children.pdgId[:,0]"
   ]
  },
  {
   "cell_type": "code",
   "execution_count": 94,
   "metadata": {},
   "outputs": [],
   "source": [
    "a = np.abs(ws.children.pdgId[:,0]) > 5"
   ]
  },
  {
   "cell_type": "code",
   "execution_count": 96,
   "metadata": {},
   "outputs": [
    {
     "data": {
      "text/plain": [
       "<Array [False, False] type='2 * ?bool'>"
      ]
     },
     "execution_count": 96,
     "metadata": {},
     "output_type": "execute_result"
    }
   ],
   "source": [
    "a[0]"
   ]
  },
  {
   "cell_type": "code",
   "execution_count": 98,
   "metadata": {},
   "outputs": [],
   "source": [
    "a = (np.all(np.abs(ws.children.pdgId[:,0]) > 5,axis = 1) & (np.all(np.abs(ws.children.pdgId[:,1]) <= 5,axis = 1))) | (np.all(np.abs(ws.children.pdgId[:,1]) > 5,axis = 1) & (np.all(np.abs(ws.children.pdgId[:,0]) <= 5,axis = 1)))"
   ]
  },
  {
   "cell_type": "code",
   "execution_count": 112,
   "metadata": {},
   "outputs": [
    {
     "data": {
      "text/plain": [
       "<Array [[[2, -1], [1, -2, ... 4, -3], [1, -2]]] type='1099006 * var * option[var...'>"
      ]
     },
     "execution_count": 112,
     "metadata": {},
     "output_type": "execute_result"
    }
   ],
   "source": [
    "ws.children.pdgId"
   ]
  },
  {
   "cell_type": "code",
   "execution_count": 125,
   "metadata": {},
   "outputs": [],
   "source": [
    "a = np.all(np.abs(ws.children.pdgId[:,0]) > 5,axis = 1)"
   ]
  },
  {
   "cell_type": "code",
   "execution_count": 126,
   "metadata": {},
   "outputs": [],
   "source": [
    "c = np.all(np.abs(ws.children.pdgId[:,1]) > 5,axis = 1)"
   ]
  },
  {
   "cell_type": "code",
   "execution_count": 127,
   "metadata": {},
   "outputs": [],
   "source": [
    "b = np.all(np.abs(ws.children.pdgId[:,0]) <= 5,axis = 1)"
   ]
  },
  {
   "cell_type": "code",
   "execution_count": 128,
   "metadata": {},
   "outputs": [],
   "source": [
    "d = np.all(np.abs(ws.children.pdgId[:,1]) <= 5,axis = 1)"
   ]
  },
  {
   "cell_type": "code",
   "execution_count": 129,
   "metadata": {},
   "outputs": [
    {
     "data": {
      "text/plain": [
       "<Array [[4, -1], [11, -12]] type='2 * option[var * ?int32[parameters={\"__doc__\":...'>"
      ]
     },
     "execution_count": 129,
     "metadata": {},
     "output_type": "execute_result"
    }
   ],
   "source": [
    "ws[(a & d) | (c & b)].children.pdgId[0]"
   ]
  },
  {
   "cell_type": "code",
   "execution_count": 99,
   "metadata": {},
   "outputs": [
    {
     "data": {
      "text/plain": [
       "487952"
      ]
     },
     "execution_count": 99,
     "metadata": {},
     "output_type": "execute_result"
    }
   ],
   "source": [
    "ak.sum(a)"
   ]
  },
  {
   "cell_type": "code",
   "execution_count": 133,
   "metadata": {},
   "outputs": [
    {
     "data": {
      "text/plain": [
       "<GenParticleArray [[GenParticle, ... GenParticle]] type='1099006 * var * ?genPar...'>"
      ]
     },
     "execution_count": 133,
     "metadata": {},
     "output_type": "execute_result"
    }
   ],
   "source": [
    "ws"
   ]
  },
  {
   "cell_type": "code",
   "execution_count": 151,
   "metadata": {},
   "outputs": [
    {
     "data": {
      "text/plain": [
       "<Array [False, False, False, ... True, False] type='1099006 * ?bool'>"
      ]
     },
     "execution_count": 151,
     "metadata": {},
     "output_type": "execute_result"
    }
   ],
   "source": [
    "lep_top_sel"
   ]
  },
  {
   "cell_type": "code",
   "execution_count": 237,
   "metadata": {},
   "outputs": [],
   "source": [
    "tops_children = tops.distinctChildren\n",
    "tops_children = tops_children[tops_children.hasFlags(GEN_FLAGS)]\n",
    "ws = ak.flatten(tops_children[np.abs(tops_children.pdgId) == W_PDGID], axis=2)\n",
    "\n",
    "#only select semi-lep ttbar for simplicity\n",
    "lep_top_sel = ((np.all(np.abs(ws.children.pdgId[:,0]) > 5,axis = 1) & (np.all(np.abs(ws.children.pdgId[:,1]) <= 5,axis = 1))) | (np.all(np.abs(ws.children.pdgId[:,1]) > 5,axis = 1) & (np.all(np.abs(ws.children.pdgId[:,0]) <= 5,axis = 1))))\n",
    "#find the leptonic W\n",
    "lep_ws_sel = np.all(np.abs(ws[lep_top_sel].children.pdgId) > 5, axis=2)\n",
    "lep_ws = ak.flatten(ws[lep_top_sel][lep_ws_sel])\n",
    "#find lepton\n",
    "lepton_sel = (np.abs(lep_ws.children.pdgId) == 11) | ((np.abs(lep_ws.children.pdgId) == 13)) | ((np.abs(lep_ws.children.pdgId) == 15))\n",
    "lepton = lep_ws.children[lepton_sel]\n",
    "#find leptonic top\n",
    "lep_tops = tops[lep_top_sel][lep_ws_sel]\n",
    "lep_top_children = ak.flatten(lep_tops.children, axis=1)\n",
    "lep_bs = lep_top_children[np.abs(lep_top_children.pdgId) == 5]\n"
   ]
  },
  {
   "cell_type": "code",
   "execution_count": 203,
   "metadata": {},
   "outputs": [],
   "source": [
    "a = lep_bs.pdgId/np.abs(lep_bs.pdgId)"
   ]
  },
  {
   "cell_type": "code",
   "execution_count": 204,
   "metadata": {},
   "outputs": [],
   "source": [
    "b = lepton.pdgId/np.abs(lepton.pdgId)"
   ]
  },
  {
   "cell_type": "code",
   "execution_count": 207,
   "metadata": {},
   "outputs": [
    {
     "data": {
      "text/plain": [
       "0.0"
      ]
     },
     "execution_count": 207,
     "metadata": {},
     "output_type": "execute_result"
    }
   ],
   "source": [
    "np.sum(a + b)"
   ]
  },
  {
   "cell_type": "code",
   "execution_count": 194,
   "metadata": {},
   "outputs": [
    {
     "data": {
      "text/plain": [
       "<GenParticleArray [[[GenParticle, ... GenParticle]]] type='487952 * option[var *...'>"
      ]
     },
     "execution_count": 194,
     "metadata": {},
     "output_type": "execute_result"
    }
   ],
   "source": [
    "lep_tops.children"
   ]
  },
  {
   "cell_type": "code",
   "execution_count": 193,
   "metadata": {},
   "outputs": [
    {
     "data": {
      "text/plain": [
       "<GenParticleArray [[GenParticle, ... GenParticle]] type='487952 * option[var * ?...'>"
      ]
     },
     "execution_count": 193,
     "metadata": {},
     "output_type": "execute_result"
    }
   ],
   "source": [
    "lep_top_children"
   ]
  },
  {
   "cell_type": "code",
   "execution_count": 184,
   "metadata": {},
   "outputs": [],
   "source": [
    "lep_tops = tops[lep_top_sel][lep_ws_sel]"
   ]
  },
  {
   "cell_type": "code",
   "execution_count": 188,
   "metadata": {},
   "outputs": [
    {
     "data": {
      "text/plain": [
       "<Array [[[2, -5, -2], [-24]]] type='1 * option[var * option[var * ?int32[paramet...'>"
      ]
     },
     "execution_count": 188,
     "metadata": {},
     "output_type": "execute_result"
    }
   ],
   "source": [
    "lep_tops[0].children.children.pdgId"
   ]
  },
  {
   "cell_type": "code",
   "execution_count": 183,
   "metadata": {},
   "outputs": [
    {
     "data": {
      "text/plain": [
       "<Array [[False, True], ... [False, True]] type='487952 * option[var * ?bool]'>"
      ]
     },
     "execution_count": 183,
     "metadata": {},
     "output_type": "execute_result"
    }
   ],
   "source": [
    "lep_ws_sel"
   ]
  },
  {
   "cell_type": "code",
   "execution_count": 182,
   "metadata": {},
   "outputs": [
    {
     "data": {
      "text/plain": [
       "<Array [[5, 24], [-5, -24]] type='2 * var * ?int32[parameters={\"__doc__\": \"PDG i...'>"
      ]
     },
     "execution_count": 182,
     "metadata": {},
     "output_type": "execute_result"
    }
   ],
   "source": [
    "lep_tops.children.pdgId[0]"
   ]
  },
  {
   "cell_type": "code",
   "execution_count": 173,
   "metadata": {},
   "outputs": [
    {
     "data": {
      "text/plain": [
       "<Array [-13] type='1 * ?int32[parameters={\"__doc__\": \"PDG id\"}]'>"
      ]
     },
     "execution_count": 173,
     "metadata": {},
     "output_type": "execute_result"
    }
   ],
   "source": [
    "lepton.pdgId[100]"
   ]
  },
  {
   "cell_type": "code",
   "execution_count": 159,
   "metadata": {},
   "outputs": [
    {
     "data": {
      "text/plain": [
       "<Array [[False, True], ... [False, True]] type='487952 * option[var * ?bool]'>"
      ]
     },
     "execution_count": 159,
     "metadata": {},
     "output_type": "execute_result"
    }
   ],
   "source": [
    "lep_ws_sel"
   ]
  },
  {
   "cell_type": "code",
   "execution_count": 168,
   "metadata": {},
   "outputs": [
    {
     "data": {
      "text/plain": [
       "<Array [2, 2, 2, 2, 2, 2, ... 2, 2, 2, 2, 2, 2] type='487952 * ?int64'>"
      ]
     },
     "execution_count": 168,
     "metadata": {},
     "output_type": "execute_result"
    }
   ],
   "source": [
    "ak.num(lep_ws.children)"
   ]
  },
  {
   "cell_type": "code",
   "execution_count": 148,
   "metadata": {},
   "outputs": [],
   "source": [
    "lep_ws = ak.flatten(ws[lep_top_sel],axis = 1)"
   ]
  },
  {
   "cell_type": "code",
   "execution_count": 153,
   "metadata": {},
   "outputs": [
    {
     "data": {
      "text/plain": [
       "<Array [[4, -1], [11, -12]] type='2 * option[var * ?int32[parameters={\"__doc__\":...'>"
      ]
     },
     "execution_count": 153,
     "metadata": {},
     "output_type": "execute_result"
    }
   ],
   "source": [
    "ws[lep_top_sel][0].children.pdgId"
   ]
  },
  {
   "cell_type": "code",
   "execution_count": 149,
   "metadata": {},
   "outputs": [
    {
     "data": {
      "text/plain": [
       "<Array [4, -1] type='2 * ?int32[parameters={\"__doc__\": \"PDG id\"}]'>"
      ]
     },
     "execution_count": 149,
     "metadata": {},
     "output_type": "execute_result"
    }
   ],
   "source": [
    "lep_ws.children.pdgId[0]"
   ]
  },
  {
   "cell_type": "code",
   "execution_count": 108,
   "metadata": {},
   "outputs": [
    {
     "data": {
      "text/plain": [
       "<Array [[2, -1], [1, -2]] type='2 * option[var * ?int32[parameters={\"__doc__\": \"...'>"
      ]
     },
     "execution_count": 108,
     "metadata": {},
     "output_type": "execute_result"
    }
   ],
   "source": [
    "ws.children[0].pdgId"
   ]
  },
  {
   "cell_type": "code",
   "execution_count": 146,
   "metadata": {},
   "outputs": [
    {
     "data": {
      "text/plain": [
       "<Array [[4, -1], [11, -12]] type='2 * option[var * ?int32[parameters={\"__doc__\":...'>"
      ]
     },
     "execution_count": 146,
     "metadata": {},
     "output_type": "execute_result"
    }
   ],
   "source": [
    "ws[lep_top_sel].children[0].pdgId"
   ]
  },
  {
   "cell_type": "code",
   "execution_count": 141,
   "metadata": {},
   "outputs": [
    {
     "data": {
      "text/plain": [
       "<Array [[4, -1], [11, -12, ... -3], [11, -12]] type='975904 * option[var * ?int3...'>"
      ]
     },
     "execution_count": 141,
     "metadata": {},
     "output_type": "execute_result"
    }
   ],
   "source": [
    "lep_ws.children.pdgId"
   ]
  },
  {
   "cell_type": "code",
   "execution_count": 137,
   "metadata": {},
   "outputs": [
    {
     "data": {
      "text/plain": [
       "<Array [[4, -1], [11, -12]] type='2 * option[var * ?int32[parameters={\"__doc__\":...'>"
      ]
     },
     "execution_count": 137,
     "metadata": {},
     "output_type": "execute_result"
    }
   ],
   "source": [
    "ws[lep_top_sel].children.pdgId[0]"
   ]
  },
  {
   "cell_type": "code",
   "execution_count": null,
   "metadata": {},
   "outputs": [],
   "source": []
  },
  {
   "cell_type": "code",
   "execution_count": 238,
   "metadata": {},
   "outputs": [],
   "source": [
    "def pad_val(\n",
    "    arr: ak.Array,\n",
    "    target: int,\n",
    "    value: float,\n",
    "    axis: int = 0,\n",
    "    to_numpy: bool = True,\n",
    "    clip: bool = True,\n",
    "):\n",
    "    \"\"\"\n",
    "    pads awkward array up to ``target`` index along axis ``axis`` with value ``value``,\n",
    "    optionally converts to numpy array\n",
    "    \"\"\"\n",
    "    ret = ak.fill_none(ak.pad_none(arr, target, axis=axis, clip=clip), value, axis=axis)\n",
    "    return ret.to_numpy() if to_numpy else ret\n",
    "\n",
    "leading_fatjets_leptop = leading_fatjets[lep_top_sel]\n",
    "\n",
    "lep_jet_match = ak.flatten(\n",
    "    pad_val(lepton.delta_r(leading_fatjets_leptop[:, 0]) < deltaR, 1, False, axis=1, to_numpy=False)\n",
    ")\n",
    "lep_b_jet_match = ak.flatten(\n",
    "    pad_val(lep_bs.delta_r(leading_fatjets_leptop[:, 0]) < deltaR, 1, False, axis=1, to_numpy=False)\n",
    ")\n",
    "# merged_top_jet_match = had_w_jet_match * had_b_jet_match\n"
   ]
  },
  {
   "cell_type": "code",
   "execution_count": 241,
   "metadata": {},
   "outputs": [
    {
     "data": {
      "text/plain": [
       "<FatJetArray [[FatJet], [FatJet, ... [FatJet]] type='142121 * option[var * ?fatJet]'>"
      ]
     },
     "execution_count": 241,
     "metadata": {},
     "output_type": "execute_result"
    }
   ],
   "source": [
    "leading_fatjets_leptop"
   ]
  },
  {
   "cell_type": "markdown",
   "metadata": {},
   "source": [
    "### plot tagger distri"
   ]
  },
  {
   "cell_type": "code",
   "execution_count": 227,
   "metadata": {},
   "outputs": [
    {
     "data": {
      "text/plain": [
       "12517"
      ]
     },
     "execution_count": 227,
     "metadata": {},
     "output_type": "execute_result"
    }
   ],
   "source": [
    "ak.sum(lep_jet_match * lep_b_jet_match)"
   ]
  },
  {
   "cell_type": "code",
   "execution_count": 239,
   "metadata": {},
   "outputs": [
    {
     "data": {
      "text/plain": [
       "<Array [[0.975], [0.494], ... [0.615], [0.891]] type='12517 * option[var * ?floa...'>"
      ]
     },
     "execution_count": 239,
     "metadata": {},
     "output_type": "execute_result"
    }
   ],
   "source": [
    "ak.numexpr.evaluate(discr, leading_fatjets_leptop[lep_jet_match * lep_b_jet_match])"
   ]
  },
  {
   "cell_type": "code",
   "execution_count": 243,
   "metadata": {},
   "outputs": [
    {
     "name": "stderr",
     "output_type": "stream",
     "text": [
      "findfont: Generic family 'sans-serif' not found because none of the following families were found: Helvetica, Arial\n",
      "findfont: Generic family 'sans-serif' not found because none of the following families were found: Helvetica, Arial\n",
      "findfont: Generic family 'sans-serif' not found because none of the following families were found: Helvetica, Arial\n",
      "findfont: Generic family 'sans-serif' not found because none of the following families were found: Helvetica, Arial\n",
      "findfont: Generic family 'sans-serif' not found because none of the following families were found: Helvetica, Arial\n",
      "findfont: Generic family 'sans-serif' not found because none of the following families were found: Helvetica, Arial\n",
      "findfont: Generic family 'sans-serif' not found because none of the following families were found: Helvetica, Arial\n",
      "findfont: Generic family 'sans-serif' not found because none of the following families were found: Helvetica, Arial\n",
      "findfont: Generic family 'sans-serif' not found because none of the following families were found: Helvetica, Arial\n",
      "findfont: Generic family 'sans-serif' not found because none of the following families were found: Helvetica, Arial\n",
      "findfont: Generic family 'sans-serif' not found because none of the following families were found: Helvetica, Arial\n",
      "findfont: Generic family 'sans-serif' not found because none of the following families were found: Helvetica, Arial\n",
      "findfont: Generic family 'sans-serif' not found because none of the following families were found: Helvetica, Arial\n",
      "findfont: Generic family 'sans-serif' not found because none of the following families were found: Helvetica, Arial\n",
      "findfont: Generic family 'sans-serif' not found because none of the following families were found: Helvetica, Arial\n",
      "findfont: Generic family 'sans-serif' not found because none of the following families were found: Helvetica, Arial\n",
      "findfont: Generic family 'sans-serif' not found because none of the following families were found: Helvetica, Arial\n",
      "findfont: Generic family 'sans-serif' not found because none of the following families were found: Helvetica, Arial\n",
      "findfont: Generic family 'sans-serif' not found because none of the following families were found: Helvetica, Arial\n",
      "findfont: Generic family 'sans-serif' not found because none of the following families were found: Helvetica, Arial\n",
      "findfont: Generic family 'sans-serif' not found because none of the following families were found: Helvetica, Arial\n",
      "findfont: Generic family 'sans-serif' not found because none of the following families were found: Helvetica, Arial\n"
     ]
    },
    {
     "name": "stderr",
     "output_type": "stream",
     "text": [
      "findfont: Generic family 'sans-serif' not found because none of the following families were found: Helvetica, Arial\n",
      "findfont: Generic family 'sans-serif' not found because none of the following families were found: Helvetica, Arial\n",
      "findfont: Generic family 'sans-serif' not found because none of the following families were found: Helvetica, Arial\n",
      "findfont: Generic family 'sans-serif' not found because none of the following families were found: Helvetica, Arial\n",
      "findfont: Generic family 'sans-serif' not found because none of the following families were found: Helvetica, Arial\n",
      "findfont: Generic family 'sans-serif' not found because none of the following families were found: Helvetica, Arial\n",
      "findfont: Generic family 'sans-serif' not found because none of the following families were found: Helvetica, Arial\n",
      "findfont: Generic family 'sans-serif' not found because none of the following families were found: Helvetica, Arial\n",
      "findfont: Generic family 'sans-serif' not found because none of the following families were found: Helvetica, Arial\n",
      "findfont: Generic family 'sans-serif' not found because none of the following families were found: Helvetica, Arial\n",
      "findfont: Generic family 'sans-serif' not found because none of the following families were found: Helvetica, Arial\n",
      "findfont: Generic family 'sans-serif' not found because none of the following families were found: Helvetica, Arial\n",
      "findfont: Generic family 'sans-serif' not found because none of the following families were found: Helvetica, Arial\n",
      "findfont: Generic family 'sans-serif' not found because none of the following families were found: Helvetica, Arial\n",
      "findfont: Generic family 'sans-serif' not found because none of the following families were found: Helvetica, Arial\n",
      "findfont: Generic family 'sans-serif' not found because none of the following families were found: Helvetica, Arial\n",
      "findfont: Generic family 'sans-serif' not found because none of the following families were found: Helvetica, Arial\n",
      "findfont: Generic family 'sans-serif' not found because none of the following families were found: Helvetica, Arial\n",
      "findfont: Generic family 'sans-serif' not found because none of the following families were found: Helvetica, Arial\n",
      "findfont: Generic family 'sans-serif' not found because none of the following families were found: Helvetica, Arial\n",
      "findfont: Generic family 'sans-serif' not found because none of the following families were found: Helvetica, Arial\n",
      "findfont: Generic family 'sans-serif' not found because none of the following families were found: Helvetica, Arial\n",
      "findfont: Generic family 'sans-serif' not found because none of the following families were found: Helvetica, Arial\n",
      "findfont: Generic family 'sans-serif' not found because none of the following families were found: Helvetica, Arial\n",
      "findfont: Generic family 'sans-serif' not found because none of the following families were found: Helvetica, Arial\n",
      "findfont: Generic family 'sans-serif' not found because none of the following families were found: Helvetica, Arial\n",
      "findfont: Generic family 'sans-serif' not found because none of the following families were found: Helvetica, Arial\n",
      "findfont: Generic family 'sans-serif' not found because none of the following families were found: Helvetica, Arial\n",
      "findfont: Generic family 'sans-serif' not found because none of the following families were found: Helvetica, Arial\n",
      "findfont: Generic family 'sans-serif' not found because none of the following families were found: Helvetica, Arial\n",
      "findfont: Generic family 'sans-serif' not found because none of the following families were found: Helvetica, Arial\n",
      "findfont: Generic family 'sans-serif' not found because none of the following families were found: Helvetica, Arial\n",
      "findfont: Generic family 'sans-serif' not found because none of the following families were found: Helvetica, Arial\n",
      "findfont: Generic family 'sans-serif' not found because none of the following families were found: Helvetica, Arial\n",
      "findfont: Generic family 'sans-serif' not found because none of the following families were found: Helvetica, Arial\n",
      "findfont: Generic family 'sans-serif' not found because none of the following families were found: Helvetica, Arial\n",
      "findfont: Generic family 'sans-serif' not found because none of the following families were found: Helvetica, Arial\n",
      "findfont: Generic family 'sans-serif' not found because none of the following families were found: Helvetica, Arial\n"
     ]
    },
    {
     "data": {
      "image/png": "[encoded data removed]",
      "text/plain": [
       "<Figure size 1000x1000 with 1 Axes>"
      ]
     },
     "metadata": {},
     "output_type": "display_data"
    },
    {
     "ename": "",
     "evalue": "",
     "output_type": "error",
     "traceback": [
      "\u001b[1;31mThe Kernel crashed while executing code in the the current cell or a previous cell. Please review the code in the cell(s) to identify a possible cause of the failure. Click <a href='https://aka.ms/vscodeJupyterKernelCrash'>here</a> for more info. View Jupyter <a href='command:jupyter.viewOutput'>log</a> for further details."
     ]
    }
   ],
   "source": [
    "f, ax = plt.subplots(figsize=(10,10))\n",
    "\n",
    "nbin, xmin, xmax = 40, 0, 1\n",
    "hist = bh.Histogram(bh.axis.Regular(nbin, xmin, xmax), storage=bh.storage.Weight())\n",
    "\n",
    "num = 'inclParTMDV1_probTopbWqq0c + inclParTMDV1_probTopbWqq1c + inclParTMDV1_probTopbWq0c + inclParTMDV1_probTopbWq1c'\n",
    "num_bl = 'inclParTMDV1_probTopbWev + inclParTMDV1_probTopbWmv'\n",
    "num_bell = 'inclParTMDV1_probTopbWev + inclParTMDV1_probTopbWmv + inclParTMDV1_probTopbWtauev + inclParTMDV1_probTopbWtaumv'\n",
    "discr = f'({num_bl}) / ({num_bl} + inclParTMDV1_probQCDbb + inclParTMDV1_probQCDcc + inclParTMDV1_probQCDb + inclParTMDV1_probQCDc + inclParTMDV1_probQCDothers)'\n",
    "tagger_arr = ak.numexpr.evaluate(discr, leading_fatjets_leptop[lep_jet_match * lep_b_jet_match])[:,0]\n",
    "hist.fill(tagger_arr[~np.isnan(tagger_arr)])\n",
    "# hist.fill(arr_clean)\n",
    "# \n",
    "\n",
    "content, yerr = hist.view().value, np.sqrt(hist.view().variance)\n",
    "hep.histplot(content, bins=hist.axes[0].edges, yerr=yerr)\n",
    "ax.set_xlabel('Label', ha='right', x=1.0); ax.set_ylabel('Events / bins', ha='right', y=1.0);\n"
   ]
  },
  {
   "cell_type": "markdown",
   "metadata": {},
   "source": [
    "### some check"
   ]
  },
  {
   "cell_type": "code",
   "execution_count": 63,
   "metadata": {},
   "outputs": [
    {
     "data": {
      "text/plain": [
       "0.7933419144153604"
      ]
     },
     "execution_count": 63,
     "metadata": {},
     "output_type": "execute_result"
    }
   ],
   "source": [
    "num = 'inclParTMDV1_probTopbWqq0c + inclParTMDV1_probTopbWqq1c + inclParTMDV1_probTopbWq0c + inclParTMDV1_probTopbWq1c'\n",
    "num_bl = 'inclParTMDV1_probTopbWev + inclParTMDV1_probTopbWmv'\n",
    "num_bell = 'inclParTMDV1_probTopbWev + inclParTMDV1_probTopbWmv + inclParTMDV1_probTopbWtauev + inclParTMDV1_probTopbWtaumv'\n",
    "discr = f'({num}) / ({num} + inclParTMDV1_probQCDbb + inclParTMDV1_probQCDcc + inclParTMDV1_probQCDb + inclParTMDV1_probQCDc + inclParTMDV1_probQCDothers)'\n",
    "arr = ak.numexpr.evaluate(discr, events[ak.num(events.FatJet) >= 1].FatJet[:, 0])\n",
    "np.quantile(arr[~np.isnan(arr)], q=0.99)\n",
    "# np.quantile(arr,q=0.9)"
   ]
  },
  {
   "cell_type": "code",
   "execution_count": 35,
   "metadata": {},
   "outputs": [
    {
     "data": {
      "text/plain": [
       "<Array [0.00542, 0.00836, ... 0.12, 0.000117] type='330706 * float32'>"
      ]
     },
     "execution_count": 35,
     "metadata": {},
     "output_type": "execute_result"
    }
   ],
   "source": [
    "arr"
   ]
  },
  {
   "cell_type": "code",
   "execution_count": 39,
   "metadata": {},
   "outputs": [],
   "source": [
    "arr_clean = arr[~np.isnan(arr)]"
   ]
  },
  {
   "cell_type": "code",
   "execution_count": 40,
   "metadata": {},
   "outputs": [
    {
     "data": {
      "text/plain": [
       "<Array [0.00542, 0.00836, ... 0.12, 0.000117] type='315428 * float32'>"
      ]
     },
     "execution_count": 40,
     "metadata": {},
     "output_type": "execute_result"
    }
   ],
   "source": [
    "arr_clean"
   ]
  },
  {
   "cell_type": "code",
   "execution_count": 41,
   "metadata": {},
   "outputs": [
    {
     "data": {
      "text/plain": [
       "0.9999935030937195"
      ]
     },
     "execution_count": 41,
     "metadata": {},
     "output_type": "execute_result"
    }
   ],
   "source": [
    "np.quantile(arr_clean, q = 1 - 1e-2)"
   ]
  },
  {
   "cell_type": "code",
   "execution_count": 11,
   "metadata": {},
   "outputs": [
    {
     "data": {
      "text/plain": [
       "<Array [0.00152, 0.00195, ... 9.94e-05] type='330061 * float32'>"
      ]
     },
     "execution_count": 11,
     "metadata": {},
     "output_type": "execute_result"
    }
   ],
   "source": [
    "arr"
   ]
  },
  {
   "cell_type": "code",
   "execution_count": 23,
   "metadata": {},
   "outputs": [
    {
     "name": "stdout",
     "output_type": "stream",
     "text": [
      "contain NaN\n"
     ]
    }
   ],
   "source": [
    "if ak.any(np.isnan(arr)): print(\"contain NaN\")\n"
   ]
  },
  {
   "cell_type": "code",
   "execution_count": 19,
   "metadata": {},
   "outputs": [],
   "source": [
    "nan_indices = np.where(np.isnan(arr))[0]"
   ]
  },
  {
   "cell_type": "code",
   "execution_count": 20,
   "metadata": {},
   "outputs": [
    {
     "data": {
      "text/plain": [
       "<Array [68, 94, 131, ... 330632, 330640] type='15278 * int64'>"
      ]
     },
     "execution_count": 20,
     "metadata": {},
     "output_type": "execute_result"
    }
   ],
   "source": [
    "nan_indices"
   ]
  },
  {
   "cell_type": "code",
   "execution_count": 22,
   "metadata": {},
   "outputs": [
    {
     "data": {
      "text/plain": [
       "0.0"
      ]
     },
     "execution_count": 22,
     "metadata": {},
     "output_type": "execute_result"
    }
   ],
   "source": [
    "events[ak.num(events.FatJet) >= 1].FatJet[:, 0][68].inclParTMDV1_probTopbWev"
   ]
  },
  {
   "cell_type": "code",
   "execution_count": 50,
   "metadata": {},
   "outputs": [
    {
     "data": {
      "text/plain": [
       "0.0"
      ]
     },
     "execution_count": 50,
     "metadata": {},
     "output_type": "execute_result"
    }
   ],
   "source": [
    "num_bl = 'inclParTMDV1_probTopbWev + inclParTMDV1_probTopbWmv'\n",
    "ak.numexpr.evaluate(num_bl, events[ak.num(events.FatJet) >= 1].FatJet[:, 0])[68]"
   ]
  },
  {
   "cell_type": "code",
   "execution_count": 7,
   "metadata": {},
   "outputs": [
    {
     "data": {
      "text/plain": [
       "['ParticleNetMDraw_probQCDb',\n",
       " 'ParticleNetMDraw_probQCDbb',\n",
       " 'ParticleNetMDraw_probQCDc',\n",
       " 'ParticleNetMDraw_probQCDcc',\n",
       " 'ParticleNetMDraw_probQCDothers',\n",
       " 'ParticleNetMDraw_probXbb',\n",
       " 'ParticleNetMDraw_probXcc',\n",
       " 'ParticleNetMDraw_probXqq',\n",
       " 'ParticleNetraw_probHbb',\n",
       " 'ParticleNetraw_probHcc',\n",
       " 'ParticleNetraw_probHqqqq',\n",
       " 'ParticleNetraw_probQCDb',\n",
       " 'ParticleNetraw_probQCDbb',\n",
       " 'ParticleNetraw_probQCDc',\n",
       " 'ParticleNetraw_probQCDcc',\n",
       " 'ParticleNetraw_probQCDothers',\n",
       " 'ParticleNetraw_probTbc',\n",
       " 'ParticleNetraw_probTbcq',\n",
       " 'ParticleNetraw_probTbel',\n",
       " 'ParticleNetraw_probTbmu',\n",
       " 'ParticleNetraw_probTbq',\n",
       " 'ParticleNetraw_probTbqq',\n",
       " 'ParticleNetraw_probTbta',\n",
       " 'ParticleNetraw_probWcq',\n",
       " 'ParticleNetraw_probWqq',\n",
       " 'ParticleNetraw_probZbb',\n",
       " 'ParticleNetraw_probZcc',\n",
       " 'ParticleNetraw_probZqq',\n",
       " 'area',\n",
       " 'btagCMVA',\n",
       " 'btagCSVV2',\n",
       " 'btagDDBvL',\n",
       " 'btagDDBvLV2',\n",
       " 'btagDDBvL_noMD',\n",
       " 'btagDDCvB',\n",
       " 'btagDDCvBV2',\n",
       " 'btagDDCvB_noMD',\n",
       " 'btagDDCvL',\n",
       " 'btagDDCvLV2',\n",
       " 'btagDDCvL_noMD',\n",
       " 'btagDeepB',\n",
       " 'btagHbb',\n",
       " 'deepHWWMDV1_probHww3q',\n",
       " 'deepHWWMDV1_probHww4q',\n",
       " 'deepHWWMDV1_probHww4q3qvsQCD',\n",
       " 'deepHWWMDV1_probHww4qvsQCD',\n",
       " 'deepHWWMDV1_probHwwevqq',\n",
       " 'deepHWWMDV1_probHwwhadtauvqq',\n",
       " 'deepHWWMDV1_probHwwleptauevqq',\n",
       " 'deepHWWMDV1_probHwwleptaumvqq',\n",
       " 'deepHWWMDV1_probHwwmvqq',\n",
       " 'deepHWWMDV1_probQCDb',\n",
       " 'deepHWWMDV1_probQCDbb',\n",
       " 'deepHWWMDV1_probQCDc',\n",
       " 'deepHWWMDV1_probQCDcc',\n",
       " 'deepHWWMDV1_probQCDothers',\n",
       " 'deepTagMD_H4qvsQCD',\n",
       " 'deepTagMD_HbbvsQCD',\n",
       " 'deepTagMD_TvsQCD',\n",
       " 'deepTagMD_WvsQCD',\n",
       " 'deepTagMD_ZHbbvsQCD',\n",
       " 'deepTagMD_ZHccvsQCD',\n",
       " 'deepTagMD_ZbbvsQCD',\n",
       " 'deepTagMD_ZvsQCD',\n",
       " 'deepTagMD_bbvsLight',\n",
       " 'deepTagMD_ccvsLight',\n",
       " 'deepTagMD_probHbb',\n",
       " 'deepTagMD_probHcc',\n",
       " 'deepTagMD_probHqqqq',\n",
       " 'deepTagMD_probQCDb',\n",
       " 'deepTagMD_probQCDbb',\n",
       " 'deepTagMD_probQCDc',\n",
       " 'deepTagMD_probQCDcc',\n",
       " 'deepTagMD_probQCDothers',\n",
       " 'deepTagMD_probTbc',\n",
       " 'deepTagMD_probTbcq',\n",
       " 'deepTagMD_probTbq',\n",
       " 'deepTagMD_probTbqq',\n",
       " 'deepTagMD_probWcq',\n",
       " 'deepTagMD_probWqq',\n",
       " 'deepTagMD_probZbb',\n",
       " 'deepTagMD_probZcc',\n",
       " 'deepTagMD_probZqq',\n",
       " 'deepTag_H',\n",
       " 'deepTag_QCD',\n",
       " 'deepTag_QCDothers',\n",
       " 'deepTag_TvsQCD',\n",
       " 'deepTag_WvsQCD',\n",
       " 'deepTag_ZvsQCD',\n",
       " 'deepTag_probHbb',\n",
       " 'deepTag_probHcc',\n",
       " 'deepTag_probHqqqq',\n",
       " 'deepTag_probQCDb',\n",
       " 'deepTag_probQCDbb',\n",
       " 'deepTag_probQCDc',\n",
       " 'deepTag_probQCDcc',\n",
       " 'deepTag_probQCDothers',\n",
       " 'deepTag_probTbc',\n",
       " 'deepTag_probTbcq',\n",
       " 'deepTag_probTbq',\n",
       " 'deepTag_probTbqq',\n",
       " 'deepTag_probWcq',\n",
       " 'deepTag_probWqq',\n",
       " 'deepTag_probZbb',\n",
       " 'deepTag_probZcc',\n",
       " 'deepTag_probZqq',\n",
       " 'eta',\n",
       " 'inclParTMDV1_HWW4q3qvsQCD',\n",
       " 'inclParTMDV1_HWW4qvsQCD',\n",
       " 'inclParTMDV1_HWWlvqqvsQCDTop',\n",
       " 'inclParTMDV1_HWWlvqqvsTopblv',\n",
       " 'inclParTMDV1_HbbvsQCD',\n",
       " 'inclParTMDV1_HccvsQCD',\n",
       " 'inclParTMDV1_hidNeuron000',\n",
       " 'inclParTMDV1_hidNeuron001',\n",
       " 'inclParTMDV1_hidNeuron002',\n",
       " 'inclParTMDV1_hidNeuron003',\n",
       " 'inclParTMDV1_hidNeuron004',\n",
       " 'inclParTMDV1_hidNeuron005',\n",
       " 'inclParTMDV1_hidNeuron006',\n",
       " 'inclParTMDV1_hidNeuron007',\n",
       " 'inclParTMDV1_hidNeuron008',\n",
       " 'inclParTMDV1_hidNeuron009',\n",
       " 'inclParTMDV1_hidNeuron010',\n",
       " 'inclParTMDV1_hidNeuron011',\n",
       " 'inclParTMDV1_hidNeuron012',\n",
       " 'inclParTMDV1_hidNeuron013',\n",
       " 'inclParTMDV1_hidNeuron014',\n",
       " 'inclParTMDV1_hidNeuron015',\n",
       " 'inclParTMDV1_hidNeuron016',\n",
       " 'inclParTMDV1_hidNeuron017',\n",
       " 'inclParTMDV1_hidNeuron018',\n",
       " 'inclParTMDV1_hidNeuron019',\n",
       " 'inclParTMDV1_hidNeuron020',\n",
       " 'inclParTMDV1_hidNeuron021',\n",
       " 'inclParTMDV1_hidNeuron022',\n",
       " 'inclParTMDV1_hidNeuron023',\n",
       " 'inclParTMDV1_hidNeuron024',\n",
       " 'inclParTMDV1_hidNeuron025',\n",
       " 'inclParTMDV1_hidNeuron026',\n",
       " 'inclParTMDV1_hidNeuron027',\n",
       " 'inclParTMDV1_hidNeuron028',\n",
       " 'inclParTMDV1_hidNeuron029',\n",
       " 'inclParTMDV1_hidNeuron030',\n",
       " 'inclParTMDV1_hidNeuron031',\n",
       " 'inclParTMDV1_hidNeuron032',\n",
       " 'inclParTMDV1_hidNeuron033',\n",
       " 'inclParTMDV1_hidNeuron034',\n",
       " 'inclParTMDV1_hidNeuron035',\n",
       " 'inclParTMDV1_hidNeuron036',\n",
       " 'inclParTMDV1_hidNeuron037',\n",
       " 'inclParTMDV1_hidNeuron038',\n",
       " 'inclParTMDV1_hidNeuron039',\n",
       " 'inclParTMDV1_hidNeuron040',\n",
       " 'inclParTMDV1_hidNeuron041',\n",
       " 'inclParTMDV1_hidNeuron042',\n",
       " 'inclParTMDV1_hidNeuron043',\n",
       " 'inclParTMDV1_hidNeuron044',\n",
       " 'inclParTMDV1_hidNeuron045',\n",
       " 'inclParTMDV1_hidNeuron046',\n",
       " 'inclParTMDV1_hidNeuron047',\n",
       " 'inclParTMDV1_hidNeuron048',\n",
       " 'inclParTMDV1_hidNeuron049',\n",
       " 'inclParTMDV1_hidNeuron050',\n",
       " 'inclParTMDV1_hidNeuron051',\n",
       " 'inclParTMDV1_hidNeuron052',\n",
       " 'inclParTMDV1_hidNeuron053',\n",
       " 'inclParTMDV1_hidNeuron054',\n",
       " 'inclParTMDV1_hidNeuron055',\n",
       " 'inclParTMDV1_hidNeuron056',\n",
       " 'inclParTMDV1_hidNeuron057',\n",
       " 'inclParTMDV1_hidNeuron058',\n",
       " 'inclParTMDV1_hidNeuron059',\n",
       " 'inclParTMDV1_hidNeuron060',\n",
       " 'inclParTMDV1_hidNeuron061',\n",
       " 'inclParTMDV1_hidNeuron062',\n",
       " 'inclParTMDV1_hidNeuron063',\n",
       " 'inclParTMDV1_hidNeuron064',\n",
       " 'inclParTMDV1_hidNeuron065',\n",
       " 'inclParTMDV1_hidNeuron066',\n",
       " 'inclParTMDV1_hidNeuron067',\n",
       " 'inclParTMDV1_hidNeuron068',\n",
       " 'inclParTMDV1_hidNeuron069',\n",
       " 'inclParTMDV1_hidNeuron070',\n",
       " 'inclParTMDV1_hidNeuron071',\n",
       " 'inclParTMDV1_hidNeuron072',\n",
       " 'inclParTMDV1_hidNeuron073',\n",
       " 'inclParTMDV1_hidNeuron074',\n",
       " 'inclParTMDV1_hidNeuron075',\n",
       " 'inclParTMDV1_hidNeuron076',\n",
       " 'inclParTMDV1_hidNeuron077',\n",
       " 'inclParTMDV1_hidNeuron078',\n",
       " 'inclParTMDV1_hidNeuron079',\n",
       " 'inclParTMDV1_hidNeuron080',\n",
       " 'inclParTMDV1_hidNeuron081',\n",
       " 'inclParTMDV1_hidNeuron082',\n",
       " 'inclParTMDV1_hidNeuron083',\n",
       " 'inclParTMDV1_hidNeuron084',\n",
       " 'inclParTMDV1_hidNeuron085',\n",
       " 'inclParTMDV1_hidNeuron086',\n",
       " 'inclParTMDV1_hidNeuron087',\n",
       " 'inclParTMDV1_hidNeuron088',\n",
       " 'inclParTMDV1_hidNeuron089',\n",
       " 'inclParTMDV1_hidNeuron090',\n",
       " 'inclParTMDV1_hidNeuron091',\n",
       " 'inclParTMDV1_hidNeuron092',\n",
       " 'inclParTMDV1_hidNeuron093',\n",
       " 'inclParTMDV1_hidNeuron094',\n",
       " 'inclParTMDV1_hidNeuron095',\n",
       " 'inclParTMDV1_hidNeuron096',\n",
       " 'inclParTMDV1_hidNeuron097',\n",
       " 'inclParTMDV1_hidNeuron098',\n",
       " 'inclParTMDV1_hidNeuron099',\n",
       " 'inclParTMDV1_hidNeuron100',\n",
       " 'inclParTMDV1_hidNeuron101',\n",
       " 'inclParTMDV1_hidNeuron102',\n",
       " 'inclParTMDV1_hidNeuron103',\n",
       " 'inclParTMDV1_hidNeuron104',\n",
       " 'inclParTMDV1_hidNeuron105',\n",
       " 'inclParTMDV1_hidNeuron106',\n",
       " 'inclParTMDV1_hidNeuron107',\n",
       " 'inclParTMDV1_hidNeuron108',\n",
       " 'inclParTMDV1_hidNeuron109',\n",
       " 'inclParTMDV1_hidNeuron110',\n",
       " 'inclParTMDV1_hidNeuron111',\n",
       " 'inclParTMDV1_hidNeuron112',\n",
       " 'inclParTMDV1_hidNeuron113',\n",
       " 'inclParTMDV1_hidNeuron114',\n",
       " 'inclParTMDV1_hidNeuron115',\n",
       " 'inclParTMDV1_hidNeuron116',\n",
       " 'inclParTMDV1_hidNeuron117',\n",
       " 'inclParTMDV1_hidNeuron118',\n",
       " 'inclParTMDV1_hidNeuron119',\n",
       " 'inclParTMDV1_hidNeuron120',\n",
       " 'inclParTMDV1_hidNeuron121',\n",
       " 'inclParTMDV1_hidNeuron122',\n",
       " 'inclParTMDV1_hidNeuron123',\n",
       " 'inclParTMDV1_hidNeuron124',\n",
       " 'inclParTMDV1_hidNeuron125',\n",
       " 'inclParTMDV1_hidNeuron126',\n",
       " 'inclParTMDV1_hidNeuron127',\n",
       " 'inclParTMDV1_mass',\n",
       " 'inclParTMDV1_probHWqqWev0c',\n",
       " 'inclParTMDV1_probHWqqWev1c',\n",
       " 'inclParTMDV1_probHWqqWmv0c',\n",
       " 'inclParTMDV1_probHWqqWmv1c',\n",
       " 'inclParTMDV1_probHWqqWq0c',\n",
       " 'inclParTMDV1_probHWqqWq1c',\n",
       " 'inclParTMDV1_probHWqqWq2c',\n",
       " 'inclParTMDV1_probHWqqWqq0c',\n",
       " 'inclParTMDV1_probHWqqWqq1c',\n",
       " 'inclParTMDV1_probHWqqWqq2c',\n",
       " 'inclParTMDV1_probHWqqWtauev0c',\n",
       " 'inclParTMDV1_probHWqqWtauev1c',\n",
       " 'inclParTMDV1_probHWqqWtauhv0c',\n",
       " 'inclParTMDV1_probHWqqWtauhv1c',\n",
       " 'inclParTMDV1_probHWqqWtaumv0c',\n",
       " 'inclParTMDV1_probHWqqWtaumv1c',\n",
       " 'inclParTMDV1_probHbb',\n",
       " 'inclParTMDV1_probHcc',\n",
       " 'inclParTMDV1_probHqq',\n",
       " 'inclParTMDV1_probHss',\n",
       " 'inclParTMDV1_probHtauhtaue',\n",
       " 'inclParTMDV1_probHtauhtauh',\n",
       " 'inclParTMDV1_probHtauhtaum',\n",
       " 'inclParTMDV1_probQCDb',\n",
       " 'inclParTMDV1_probQCDbb',\n",
       " 'inclParTMDV1_probQCDc',\n",
       " 'inclParTMDV1_probQCDcc',\n",
       " 'inclParTMDV1_probQCDothers',\n",
       " 'inclParTMDV1_probTopbWev',\n",
       " 'inclParTMDV1_probTopbWmv',\n",
       " 'inclParTMDV1_probTopbWq0c',\n",
       " 'inclParTMDV1_probTopbWq1c',\n",
       " 'inclParTMDV1_probTopbWqq0c',\n",
       " 'inclParTMDV1_probTopbWqq1c',\n",
       " 'inclParTMDV1_probTopbWtauev',\n",
       " 'inclParTMDV1_probTopbWtauhv',\n",
       " 'inclParTMDV1_probTopbWtaumv',\n",
       " 'mass',\n",
       " 'msoftdrop',\n",
       " 'n2b1',\n",
       " 'n3b1',\n",
       " 'particleNetMD_QCD',\n",
       " 'particleNetMD_Xbb',\n",
       " 'particleNetMD_Xcc',\n",
       " 'particleNetMD_Xqq',\n",
       " 'particleNet_H4qvsQCD',\n",
       " 'particleNet_HbbvsQCD',\n",
       " 'particleNet_HccvsQCD',\n",
       " 'particleNet_QCD',\n",
       " 'particleNet_TvsQCD',\n",
       " 'particleNet_WvsQCD',\n",
       " 'particleNet_ZvsQCD',\n",
       " 'phi',\n",
       " 'pt',\n",
       " 'rawFactor',\n",
       " 'tau1',\n",
       " 'tau2',\n",
       " 'tau3',\n",
       " 'tau4',\n",
       " 'lsf3',\n",
       " 'jetId',\n",
       " 'subJetIdx1',\n",
       " 'subJetIdx2',\n",
       " 'electronIdx3SJ',\n",
       " 'muonIdx3SJ',\n",
       " 'genJetAK8Idx',\n",
       " 'hadronFlavour',\n",
       " 'nBHadrons',\n",
       " 'nCHadrons',\n",
       " 'genJetAK8IdxG',\n",
       " 'subJetIdx1G',\n",
       " 'subJetIdx2G',\n",
       " 'subJetIdxG']"
      ]
     },
     "execution_count": 7,
     "metadata": {},
     "output_type": "execute_result"
    }
   ],
   "source": [
    "ak.fields(events.FatJet)"
   ]
  },
  {
   "cell_type": "markdown",
   "metadata": {},
   "source": [
    "### find tbl gen-matching information"
   ]
  },
  {
   "cell_type": "code",
   "execution_count": null,
   "metadata": {},
   "outputs": [],
   "source": []
  },
  {
   "cell_type": "markdown",
   "metadata": {},
   "source": [
    "### processing"
   ]
  },
  {
   "cell_type": "code",
   "execution_count": 8,
   "metadata": {},
   "outputs": [
    {
     "name": "stderr",
     "output_type": "stream",
     "text": [
      "/home/pku/zhaoyz/anaconda3/envs/lpr/lib/python3.9/site-packages/coffea/util.py:154: FutureWarning: In coffea version v2023.3.0 (target date: 31 Mar 2023), this will be an error.\n",
      "(Set coffea.deprecations_as_errors = True to get a stack trace now.)\n",
      "ImportError: coffea.hist is deprecated\n",
      "  warnings.warn(message, FutureWarning)\n"
     ]
    }
   ],
   "source": [
    "from coffea import processor, hist\n",
    "from functools import partial\n",
    "\n",
    "class TblNodeAnalyzeProcessor(processor.ProcessorABC):\n",
    "    def __init__(self):\n",
    "        dataset = hist.Cat(\"dataset\", \"dataset\")\n",
    "\n",
    "        self._accumulator = processor.dict_accumulator({\n",
    "            # defination of cutflow (nested dictionary of int) copied from the example\n",
    "            'cutflow': processor.defaultdict_accumulator(\n",
    "                partial(processor.defaultdict_accumulator, int)\n",
    "            ),\n",
    "        })\n",
    "\n",
    "    @property\n",
    "    def accumulator(self):\n",
    "        return self._accumulator\n",
    "\n",
    "    def process(self, events):\n",
    "        out = self.accumulator.identity()\n",
    "        dataset = events.metadata['dataset']\n",
    "        out['cutflow'][dataset]['all'] += len(events)\n",
    "\n",
    "        fname = f\"coffea_output/{dataset}/{events.metadata['filename'].split('/')[-1].replace('.root','')}_{int(events.metadata['entrystop'])}.root\"\n",
    "\n",
    "        # lepton selection\n",
    "        lep_sel = (ak.num(events.Electron) + ak.num(events.Muon) == 1) & (ak.num(events.Jet) >= 2) & (ak.num(events.FatJet) >= 1)\n",
    "        events = events[lep_sel]\n",
    "\n",
    "        # the lepton object\n",
    "        lep = ak.concatenate([events.Electron, events.Muon], axis=1)[:, 0]\n",
    "        lep_isel = ak.num(events.Electron) > 0\n",
    "\n",
    "        # jet and MET selection\n",
    "        jet_sel = (events.Jet.pt[:, 0] > 50) & (events.Jet.pt[:, 1] > ak.where(lep_isel, 40, 50))\n",
    "        jet_btagsel = ak.num(events.Jet[events.Jet.btagDeepFlavB > 0.3040]) >= 1 # MP in 2017 deepjet, https://btv-wiki.docs.cern.ch/ScaleFactors/UL2017/#ak4-b-tagging\n",
    "\n",
    "        met_sel = events.MET.pt > ak.where(lep_isel, 60, 70)\n",
    "\n",
    "        # fatjet selection\n",
    "        fatjet = events.FatJet[:, 0]\n",
    "        fatjet_sel = (fatjet.pt > 400) & (fatjet.msoftdrop > 105) & (fatjet.msoftdrop < 210)\n",
    "\n",
    "        # fatjet top-tagging discr. We use ParT (MD) to construct the t->bqq discr and manually cut at 1% mistag WP\n",
    "        num = 'inclParTMDV1_probTopbWqq0c + inclParTMDV1_probTopbWqq1c + inclParTMDV1_probTopbWq0c + inclParTMDV1_probTopbWq1c'\n",
    "        discr = f'({num}) / ({num} + inclParTMDV1_probQCDbb + inclParTMDV1_probQCDcc + inclParTMDV1_probQCDb + inclParTMDV1_probQCDc + inclParTMDV1_probQCDothers)'\n",
    "        fatjet_toptagsel = ak.numexpr.evaluate(discr, fatjet) > 0.79 # 1% mistag rate on QCD\n",
    "\n",
    "        # selection based on all objects\n",
    "        # sel = jet_sel & jet_btagsel & met_sel & fatjet_sel & fatjet_toptagsel\n",
    "        sel = jet_sel & jet_btagsel & met_sel # let's remove the fatjet sel for now\n",
    "        events = events[sel]\n",
    "\n",
    "        # ==== Now we finished all selections ====\n",
    "\n",
    "        # define objects\n",
    "        fj1 = events.FatJet[:, 0]\n",
    "        fj2 = events.mask[ak.num(events.FatJet) >= 2].FatJet[:, 1] # use mask since a second fj may not exist\n",
    "\n",
    "        jets = events.Jet\n",
    "        lep = ak.concatenate([events.Electron, events.Muon], axis=1)[:, 0]\n",
    "        lep_isel = ak.num(events.Electron) > 0\n",
    "\n",
    "        # t->bqq discr\n",
    "        num = 'inclParTMDV1_probTopbWqq0c + inclParTMDV1_probTopbWqq1c + inclParTMDV1_probTopbWq0c + inclParTMDV1_probTopbWq1c'\n",
    "        fj1_ParTV1_discr_bqqvsQCD = ak.numexpr.evaluate(f'({num}) / ({num} + inclParTMDV1_probQCDbb + inclParTMDV1_probQCDcc + inclParTMDV1_probQCDb + inclParTMDV1_probQCDc + inclParTMDV1_probQCDothers)', fj1)\n",
    "        \n",
    "        # t->bl discr\n",
    "        num_bl = 'inclParTMDV1_probTopbWev + inclParTMDV1_probTopbWmv'\n",
    "        num_bell = 'inclParTMDV1_probTopbWev + inclParTMDV1_probTopbWmv + inclParTMDV1_probTopbWtauev + inclParTMDV1_probTopbWtaumv'\n",
    "        fj2_ParTV1_discr_blvsQCD = ak.numexpr.evaluate(f'({num_bl}) / ({num_bl} + inclParTMDV1_probQCDbb + inclParTMDV1_probQCDcc + inclParTMDV1_probQCDb + inclParTMDV1_probQCDc + inclParTMDV1_probQCDothers)', fj2)\n",
    "        fj2_ParTV1_discr_bellvsQCD = ak.numexpr.evaluate(f'({num_bell}) / ({num_bell} + inclParTMDV1_probQCDbb + inclParTMDV1_probQCDcc + inclParTMDV1_probQCDb + inclParTMDV1_probQCDc + inclParTMDV1_probQCDothers)', fj2)\n",
    "\n",
    "        # the 2D reconstruction workflow\n",
    "\n",
    "        pair = ak.cartesian([lep, jets[jets.pt > 15]]) # all lep-jet pair with jet pt > 15\n",
    "        dr_pair = pair['1'].delta_r(pair['0'])\n",
    "        mindr_ind = ak.singletons(ak.argmin(dr_pair, axis=1))\n",
    "\n",
    "        jet_closest = pair['1'][mindr_ind][:, 0]\n",
    "        mindr = dr_pair[mindr_ind][:, 0]\n",
    "\n",
    "        ptrel = lep.pt * np.abs(np.sin(lep.phi - jet_closest.phi)) # lep pt *perpendicular* to jet axis\n",
    "\n",
    "        # construct output variables\n",
    "        output = {}\n",
    "        output['fj1_pt'] = fj1.pt\n",
    "        output['fj1_eta'] = fj1.eta\n",
    "        output['fj1_phi'] = fj1.phi\n",
    "        output['fj1_sdmass'] = fj1.msoftdrop\n",
    "        output['fj2_pt'] = ak.fill_none(fj2.pt, 0)\n",
    "        output['fj2_eta'] = ak.fill_none(fj2.eta, 0)\n",
    "        output['fj2_phi'] = ak.fill_none(fj2.phi, 0)\n",
    "        output['fj2_sdmass'] = ak.fill_none(fj2.msoftdrop, 0)\n",
    "\n",
    "        output['fj1_ParTV1_discr_bqqvsQCD'] = ak.fill_none(fj1_ParTV1_discr_bqqvsQCD, 0)\n",
    "        output['fj2_ParTV1_discr_blvsQCD'] = ak.fill_none(fj2_ParTV1_discr_blvsQCD, 0)\n",
    "        output['fj2_ParTV1_discr_bellvsQCD'] = ak.fill_none(fj2_ParTV1_discr_bellvsQCD, 0)\n",
    "\n",
    "        output['dr_fj12'] = ak.fill_none(fj1.delta_r(fj2), -1)\n",
    "\n",
    "        output['lep_pt'] = lep.pt\n",
    "        output['lep_eta'] = lep.eta\n",
    "        output['lep_phi'] = lep.phi\n",
    "        output['lep_isel'] = lep_isel\n",
    "        output['lep_mindr_jet'] = mindr\n",
    "        output['lep_ptrel_jet'] = ptrel\n",
    "\n",
    "        output['deta_jet12'] = jets[:, 0].eta - jets[:, 1].eta\n",
    "\n",
    "        # store root\n",
    "        print(fname)\n",
    "        os.makedirs(os.path.dirname(fname), exist_ok=True)\n",
    "        with uproot.recreate(fname) as fout:\n",
    "            output_root = {}\n",
    "            for bname in output.keys():\n",
    "                if not output[bname].fields:\n",
    "                    output_root[bname] = ak.packed(ak.without_parameters(output[bname]))\n",
    "                else:\n",
    "                    b_nest = {}\n",
    "                    for n in output[bname].fields:\n",
    "                        b_nest[n] = ak.packed(ak.without_parameters(output[bname][n]))\n",
    "                    output_root[bname] = ak.zip(b_nest)\n",
    "            fout[\"tree\"] = output_root\n",
    "\n",
    "        out['cutflow'][dataset]['passed'] += len(events)\n",
    "        return out\n",
    "    \n",
    "    def postprocess(self, accumulator):\n",
    "        return accumulator"
   ]
  },
  {
   "cell_type": "code",
   "execution_count": 9,
   "metadata": {},
   "outputs": [],
   "source": [
    "import glob\n",
    "fileset = {\n",
    "    'ttbar': glob.glob('/data/bond/fudawei/public/customizedNanoAOD/output/mc/2017/TTJets/TTJets/*0.root'),\n",
    "    'qcd': glob.glob('/data/bond/fudawei/public/customizedNanoAOD/output/mc/2017/QCD/QCD_HT1000to1500/*.root'),\n",
    "}"
   ]
  },
  {
   "cell_type": "code",
   "execution_count": 10,
   "metadata": {},
   "outputs": [
    {
     "data": {
      "text/html": [
       "<pre style=\"white-space:pre;overflow-x:auto;line-height:normal;font-family:Menlo,'DejaVu Sans Mono',consolas,'Courier New',monospace\">/home/pku/zhaoyz/anaconda3/envs/lpr/lib/python3.9/site-packages/rich/live.py:231: UserWarning: install \"ipywidgets\"\n",
       "for Jupyter support\n",
       "  warnings.warn('install \"ipywidgets\" for Jupyter support')\n",
       "</pre>\n"
      ],
      "text/plain": [
       "/home/pku/zhaoyz/anaconda3/envs/lpr/lib/python3.9/site-packages/rich/live.py:231: UserWarning: install \"ipywidgets\"\n",
       "for Jupyter support\n",
       "  warnings.warn('install \"ipywidgets\" for Jupyter support')\n"
      ]
     },
     "metadata": {},
     "output_type": "display_data"
    },
    {
     "data": {
      "text/html": [
       "<pre style=\"white-space:pre;overflow-x:auto;line-height:normal;font-family:Menlo,'DejaVu Sans Mono',consolas,'Courier New',monospace\"></pre>\n"
      ],
      "text/plain": []
     },
     "metadata": {},
     "output_type": "display_data"
    },
    {
     "data": {
      "text/html": [
       "<pre style=\"white-space:pre;overflow-x:auto;line-height:normal;font-family:Menlo,'DejaVu Sans Mono',consolas,'Courier New',monospace\">\n",
       "</pre>\n"
      ],
      "text/plain": [
       "\n"
      ]
     },
     "metadata": {},
     "output_type": "display_data"
    },
    {
     "name": "stdout",
     "output_type": "stream",
     "text": [
      "coffea_output/qcd/merged_6_116913.root\n",
      "coffea_output/qcd/merged_6_233826.root\n",
      "coffea_output/ttbar/merged_130_99931.root\n",
      "coffea_output/ttbar/merged_130_199862.root\n",
      "coffea_output/ttbar/merged_130_299793.root\n",
      "coffea_output/ttbar/merged_130_399724.root\n",
      "coffea_output/qcd/merged_5_419072.root\n",
      "coffea_output/qcd/merged_5_523840.root\n",
      "coffea_output/qcd/merged_5_314304.root\n",
      "coffea_output/qcd/merged_5_209536.root\n",
      "coffea_output/qcd/merged_5_628603.root\n",
      "coffea_output/qcd/merged_5_104768.root\n",
      "coffea_output/qcd/merged_2_427596.root\n",
      "coffea_output/qcd/merged_2_534495.root\n",
      "coffea_output/qcd/merged_2_320697.root\n",
      "coffea_output/qcd/merged_2_641389.root\n",
      "coffea_output/qcd/merged_2_106899.root\n",
      "coffea_output/qcd/merged_2_213798.root\n",
      "coffea_output/qcd/merged_0_101415.root\n",
      "coffea_output/qcd/merged_4_479785.root\n",
      "coffea_output/qcd/merged_4_671698.root\n",
      "coffea_output/qcd/merged_4_287871.root\n",
      "coffea_output/qcd/merged_4_575742.root\n",
      "coffea_output/qcd/merged_4_383828.root\n",
      "coffea_output/qcd/merged_4_95957.root\n",
      "coffea_output/qcd/merged_4_191914.root\n",
      "coffea_output/qcd/merged_0_304245.root\n",
      "coffea_output/qcd/merged_0_405660.root\n",
      "coffea_output/qcd/merged_0_507075.root\n",
      "coffea_output/qcd/merged_0_202830.root\n",
      "coffea_output/qcd/merged_0_608489.root\n",
      "coffea_output/qcd/merged_1_303942.root\n",
      "coffea_output/qcd/merged_1_405256.root\n",
      "coffea_output/qcd/merged_1_607882.root\n",
      "coffea_output/qcd/merged_1_101314.root\n",
      "coffea_output/qcd/merged_1_506570.root\n",
      "coffea_output/qcd/merged_1_202628.root\n",
      "coffea_output/ttbar/merged_10_498935.root\n",
      "coffea_output/ttbar/merged_10_199574.root\n",
      "coffea_output/ttbar/merged_10_1097652.root\n",
      "coffea_output/ttbar/merged_10_798296.root\n",
      "coffea_output/ttbar/merged_160_898587.rootcoffea_output/ttbar/merged_10_898083.root\n",
      "\n",
      "coffea_output/ttbar/merged_10_997870.rootcoffea_output/qcd/merged_3_415984.root\n",
      "\n",
      "coffea_output/ttbar/merged_10_299361.root\n",
      "coffea_output/ttbar/merged_10_598722.root\n",
      "coffea_output/ttbar/merged_10_399148.rootcoffea_output/qcd/merged_3_623971.rootcoffea_output/ttbar/merged_10_698509.root\n",
      "\n",
      "coffea_output/ttbar/merged_10_99787.root\n",
      "\n",
      "coffea_output/qcd/merged_3_311988.rootcoffea_output/ttbar/merged_160_199686.root\n",
      "\n",
      "coffea_output/qcd/merged_3_519980.root\n",
      "coffea_output/ttbar/merged_160_599058.root\n",
      "coffea_output/qcd/merged_3_103996.root\n",
      "coffea_output/qcd/merged_3_207992.root\n",
      "coffea_output/ttbar/merged_160_499215.root\n",
      "coffea_output/ttbar/merged_160_399372.root\n",
      "coffea_output/ttbar/merged_160_1098263.root\n",
      "coffea_output/ttbar/merged_160_99843.rootcoffea_output/ttbar/merged_160_299529.root\n",
      "\n",
      "coffea_output/ttbar/merged_160_998430.root\n",
      "coffea_output/ttbar/merged_160_698901.root\n",
      "coffea_output/ttbar/merged_160_798744.root\n",
      "coffea_output/ttbar/merged_130_999310.root\n",
      "coffea_output/ttbar/merged_130_1099233.root\n",
      "coffea_output/ttbar/merged_130_599586.root\n",
      "coffea_output/ttbar/merged_130_699517.rootcoffea_output/ttbar/merged_130_799448.root\n",
      "\n",
      "coffea_output/ttbar/merged_130_499655.root\n",
      "coffea_output/ttbar/merged_130_899379.root\n",
      "coffea_output/ttbar/merged_0_99919.root\n",
      "coffea_output/ttbar/merged_0_199838.root\n",
      "coffea_output/ttbar/merged_0_799352.root\n",
      "coffea_output/ttbar/merged_0_899271.root\n",
      "coffea_output/ttbar/merged_0_299757.root\n",
      "coffea_output/ttbar/merged_0_699433.root\n",
      "coffea_output/ttbar/merged_0_999190.root\n",
      "coffea_output/ttbar/merged_0_499595.root\n",
      "coffea_output/ttbar/merged_0_599514.root\n",
      "coffea_output/ttbar/merged_0_399676.root\n",
      "coffea_output/ttbar/merged_0_1099105.root\n",
      "coffea_output/ttbar/merged_190_897795.root\n",
      "coffea_output/ttbar/merged_190_498775.root\n",
      "coffea_output/ttbar/merged_190_598530.root\n",
      "coffea_output/ttbar/merged_190_798040.root\n",
      "coffea_output/ttbar/merged_190_99755.root\n",
      "coffea_output/ttbar/merged_190_698285.root\n",
      "coffea_output/ttbar/merged_190_199510.root\n",
      "coffea_output/ttbar/merged_190_299265.root\n",
      "coffea_output/ttbar/merged_190_1097298.root\n",
      "coffea_output/ttbar/merged_190_997550.root\n",
      "coffea_output/ttbar/merged_190_399020.root\n",
      "coffea_output/ttbar/merged_200_710381.root\n",
      "coffea_output/ttbar/merged_200_913347.root\n",
      "coffea_output/ttbar/merged_200_811864.root\n",
      "coffea_output/ttbar/merged_200_1014821.root\n",
      "coffea_output/ttbar/merged_200_202966.root\n",
      "coffea_output/ttbar/merged_200_608898.root\n",
      "coffea_output/ttbar/merged_200_304449.root\n",
      "coffea_output/ttbar/merged_200_101483.root\n",
      "coffea_output/ttbar/merged_200_405932.root\n",
      "coffea_output/ttbar/merged_200_507415.root\n",
      "coffea_output/ttbar/merged_60_699286.root\n",
      "coffea_output/ttbar/merged_60_899082.root\n",
      "coffea_output/ttbar/merged_60_199796.root\n",
      "coffea_output/ttbar/merged_60_99898.root\n",
      "coffea_output/ttbar/merged_60_499490.root\n",
      "coffea_output/ttbar/merged_60_599388.root\n",
      "coffea_output/ttbar/merged_60_299694.root\n",
      "coffea_output/ttbar/merged_60_1098875.root\n",
      "coffea_output/ttbar/merged_60_399592.root\n",
      "coffea_output/ttbar/merged_60_799184.root\n",
      "coffea_output/ttbar/merged_60_998980.root\n",
      "coffea_output/ttbar/merged_220_99830.root\n",
      "coffea_output/ttbar/merged_220_199660.root\n",
      "coffea_output/ttbar/merged_220_299490.root\n",
      "coffea_output/ttbar/merged_220_499150.root\n",
      "coffea_output/ttbar/merged_220_399320.root\n",
      "coffea_output/ttbar/merged_220_698810.root\n",
      "coffea_output/ttbar/merged_220_598980.root\n",
      "coffea_output/ttbar/merged_220_1098128.root\n",
      "coffea_output/ttbar/merged_220_998300.root\n",
      "coffea_output/ttbar/merged_220_798640.root\n",
      "coffea_output/ttbar/merged_220_898470.root\n",
      "coffea_output/ttbar/merged_170_99904.root\n",
      "coffea_output/ttbar/merged_170_699328.root\n",
      "coffea_output/ttbar/merged_170_999040.root\n",
      "coffea_output/ttbar/merged_170_499520.root\n",
      "coffea_output/ttbar/merged_170_599424.root\n",
      "coffea_output/ttbar/merged_170_799232.root\n",
      "coffea_output/ttbar/merged_170_399616.root\n",
      "coffea_output/ttbar/merged_170_199808.root\n",
      "coffea_output/ttbar/merged_170_299712.root\n",
      "coffea_output/ttbar/merged_170_1098942.root\n",
      "coffea_output/ttbar/merged_170_899136.root\n",
      "coffea_output/ttbar/merged_30_494365.root\n",
      "coffea_output/ttbar/merged_30_98873.root\n",
      "coffea_output/ttbar/merged_30_296619.root\n",
      "coffea_output/ttbar/merged_30_197746.root\n",
      "coffea_output/ttbar/merged_30_593238.root\n",
      "coffea_output/ttbar/merged_30_395492.root\n",
      "coffea_output/ttbar/merged_30_889857.root\n",
      "coffea_output/ttbar/merged_30_988730.root\n",
      "coffea_output/ttbar/merged_30_692111.root\n",
      "coffea_output/ttbar/merged_30_790984.root\n",
      "coffea_output/ttbar/merged_30_1087601.root\n",
      "coffea_output/ttbar/merged_90_200026.root\n",
      "coffea_output/ttbar/merged_90_300039.root\n",
      "coffea_output/ttbar/merged_90_400052.rootcoffea_output/ttbar/merged_90_1100133.root\n",
      "\n",
      "coffea_output/ttbar/merged_90_100013.root\n",
      "coffea_output/ttbar/merged_90_1000130.root\n",
      "coffea_output/ttbar/merged_90_700091.root\n",
      "coffea_output/ttbar/merged_90_800104.root\n",
      "coffea_output/ttbar/merged_90_500065.root\n",
      "coffea_output/ttbar/merged_90_600078.root\n",
      "coffea_output/ttbar/merged_90_900117.root\n",
      "coffea_output/ttbar/merged_70_799904.root\n",
      "coffea_output/ttbar/merged_70_1099864.root\n",
      "coffea_output/ttbar/merged_70_199976.root\n",
      "coffea_output/ttbar/merged_70_499940.root\n",
      "coffea_output/ttbar/merged_70_899892.root\n",
      "coffea_output/ttbar/merged_70_399952.root\n",
      "coffea_output/ttbar/merged_70_99988.root\n",
      "coffea_output/ttbar/merged_70_999880.root\n",
      "coffea_output/ttbar/merged_70_299964.root\n",
      "coffea_output/ttbar/merged_70_699916.root\n",
      "coffea_output/ttbar/merged_70_599928.root\n",
      "coffea_output/ttbar/merged_80_205236.root\n",
      "coffea_output/ttbar/merged_80_102618.root\n",
      "coffea_output/ttbar/merged_50_998720.root\n",
      "coffea_output/ttbar/merged_50_798976.root\n",
      "coffea_output/ttbar/merged_50_199744.root\n",
      "coffea_output/ttbar/merged_50_898848.root\n",
      "coffea_output/ttbar/merged_50_1098584.root\n",
      "coffea_output/ttbar/merged_50_599232.root\n",
      "coffea_output/ttbar/merged_50_99872.root\n",
      "coffea_output/ttbar/merged_50_699104.root\n",
      "coffea_output/ttbar/merged_50_499360.root\n",
      "coffea_output/ttbar/merged_50_399488.root\n",
      "coffea_output/ttbar/merged_80_513090.root\n",
      "coffea_output/ttbar/merged_80_410472.root\n",
      "coffea_output/ttbar/merged_80_307854.root\n",
      "coffea_output/ttbar/merged_50_299616.root\n",
      "coffea_output/ttbar/merged_40_799568.root\n",
      "coffea_output/ttbar/merged_40_499730.root\n",
      "coffea_output/ttbar/merged_40_399784.root\n",
      "coffea_output/ttbar/merged_40_199892.root\n",
      "coffea_output/ttbar/merged_40_599676.root\n",
      "coffea_output/ttbar/merged_40_999460.root\n",
      "coffea_output/ttbar/merged_40_699622.root\n",
      "coffea_output/ttbar/merged_40_299838.root\n",
      "coffea_output/ttbar/merged_40_1099404.root\n",
      "coffea_output/ttbar/merged_40_99946.root\n",
      "coffea_output/ttbar/merged_40_899514.root\n",
      "coffea_output/ttbar/merged_80_923562.root\n",
      "coffea_output/ttbar/merged_80_718326.root\n",
      "coffea_output/ttbar/merged_80_820944.root\n",
      "coffea_output/ttbar/merged_80_1128789.root\n",
      "coffea_output/ttbar/merged_80_1026180.root\n",
      "coffea_output/ttbar/merged_80_615708.root\n",
      "coffea_output/ttbar/merged_210_899253.root\n",
      "coffea_output/ttbar/merged_210_699419.root\n",
      "coffea_output/ttbar/merged_210_199834.root\n",
      "coffea_output/ttbar/merged_210_1099080.root\n",
      "coffea_output/ttbar/merged_210_399668.root\n",
      "coffea_output/ttbar/merged_210_299751.root\n",
      "coffea_output/ttbar/merged_210_999170.root\n",
      "coffea_output/ttbar/merged_210_499585.root\n",
      "coffea_output/ttbar/merged_210_99917.root\n",
      "coffea_output/ttbar/merged_210_799336.root\n",
      "coffea_output/ttbar/merged_210_599502.root\n",
      "coffea_output/ttbar/merged_110_199524.root\n",
      "coffea_output/ttbar/merged_110_698334.root\n",
      "coffea_output/ttbar/merged_110_399048.root\n",
      "coffea_output/ttbar/merged_110_99762.root\n",
      "coffea_output/ttbar/merged_110_798096.root\n",
      "coffea_output/ttbar/merged_110_299286.root\n",
      "coffea_output/ttbar/merged_110_498810.root\n",
      "coffea_output/ttbar/merged_110_598572.root\n",
      "coffea_output/ttbar/merged_110_897858.root\n",
      "coffea_output/ttbar/merged_110_1097377.root\n",
      "coffea_output/ttbar/merged_110_997620.root\n",
      "coffea_output/ttbar/merged_150_99842.root\n",
      "coffea_output/ttbar/merged_150_998420.root\n",
      "coffea_output/ttbar/merged_150_599052.root\n",
      "coffea_output/ttbar/merged_150_898578.root\n",
      "coffea_output/ttbar/merged_150_798736.root\n",
      "coffea_output/ttbar/merged_150_299526.root\n",
      "coffea_output/ttbar/merged_150_399368.root\n",
      "coffea_output/ttbar/merged_150_1098255.root\n",
      "coffea_output/ttbar/merged_150_698894.root\n",
      "coffea_output/ttbar/merged_150_199684.root\n",
      "coffea_output/ttbar/merged_150_499210.root\n",
      "coffea_output/ttbar/merged_140_698411.root\n",
      "coffea_output/ttbar/merged_100_100007.root\n",
      "coffea_output/ttbar/merged_100_700049.root\n",
      "coffea_output/ttbar/merged_100_1100069.root\n",
      "coffea_output/ttbar/merged_140_399092.root\n",
      "coffea_output/ttbar/merged_100_1000070.root\n",
      "coffea_output/ttbar/merged_100_300021.root\n",
      "coffea_output/ttbar/merged_140_99773.root\n",
      "coffea_output/ttbar/merged_140_498865.root\n",
      "coffea_output/ttbar/merged_100_200014.root\n",
      "coffea_output/ttbar/merged_140_997730.root\n",
      "coffea_output/ttbar/merged_140_299319.root\n",
      "coffea_output/ttbar/merged_140_199546.root\n",
      "coffea_output/ttbar/merged_100_400028.root\n",
      "coffea_output/ttbar/merged_140_897957.root\n",
      "coffea_output/ttbar/merged_140_798184.root\n",
      "coffea_output/ttbar/merged_100_800056.root\n",
      "coffea_output/ttbar/merged_100_600042.root\n",
      "coffea_output/ttbar/merged_140_1097494.root\n",
      "coffea_output/ttbar/merged_100_500035.root\n",
      "coffea_output/ttbar/merged_140_598638.root\n",
      "coffea_output/ttbar/merged_100_900063.root\n",
      "coffea_output/ttbar/merged_20_499290.root\n",
      "coffea_output/ttbar/merged_20_99858.root\n",
      "coffea_output/ttbar/merged_20_399432.root\n",
      "coffea_output/ttbar/merged_20_299574.root\n",
      "coffea_output/ttbar/merged_20_1098430.root\n",
      "coffea_output/ttbar/merged_20_798864.root\n",
      "coffea_output/ttbar/merged_20_199716.root\n",
      "coffea_output/ttbar/merged_20_898722.root\n",
      "coffea_output/ttbar/merged_20_998580.root\n",
      "coffea_output/ttbar/merged_20_699006.root\n",
      "coffea_output/ttbar/merged_20_599148.root\n",
      "coffea_output/ttbar/merged_180_998330.root\n",
      "coffea_output/ttbar/merged_180_698831.root\n",
      "coffea_output/ttbar/merged_180_199666.root\n",
      "coffea_output/ttbar/merged_180_99833.root\n",
      "coffea_output/ttbar/merged_180_598998.root\n",
      "coffea_output/ttbar/merged_180_798664.root\n",
      "coffea_output/ttbar/merged_180_399332.root\n",
      "coffea_output/ttbar/merged_180_499165.root\n",
      "coffea_output/ttbar/merged_180_898497.root\n",
      "coffea_output/ttbar/merged_180_1098156.root\n",
      "coffea_output/ttbar/merged_180_299499.root\n",
      "coffea_output/ttbar/merged_120_193636.root\n",
      "coffea_output/ttbar/merged_120_580908.root\n",
      "coffea_output/ttbar/merged_120_968180.root\n",
      "coffea_output/ttbar/merged_120_290454.root\n",
      "coffea_output/ttbar/merged_120_387272.root\n",
      "coffea_output/ttbar/merged_120_96818.root\n",
      "coffea_output/ttbar/merged_120_871362.root\n",
      "coffea_output/ttbar/merged_120_774544.root\n",
      "coffea_output/ttbar/merged_120_677726.root\n",
      "coffea_output/ttbar/merged_120_1064989.root\n",
      "coffea_output/ttbar/merged_120_484090.root\n"
     ]
    },
    {
     "data": {
      "text/html": [
       "<pre style=\"white-space:pre;overflow-x:auto;line-height:normal;font-family:Menlo,'DejaVu Sans Mono',consolas,'Courier New',monospace\"></pre>\n"
      ],
      "text/plain": []
     },
     "metadata": {},
     "output_type": "display_data"
    },
    {
     "data": {
      "text/html": [
       "<pre style=\"white-space:pre;overflow-x:auto;line-height:normal;font-family:Menlo,'DejaVu Sans Mono',consolas,'Courier New',monospace\">\n",
       "</pre>\n"
      ],
      "text/plain": [
       "\n"
      ]
     },
     "metadata": {},
     "output_type": "display_data"
    }
   ],
   "source": [
    "result = processor.run_uproot_job(\n",
    "    fileset=fileset,\n",
    "    treename=\"Events\",\n",
    "    processor_instance=TblNodeAnalyzeProcessor(),\n",
    "    executor=processor.futures_executor,\n",
    "    executor_args={\"schema\": NanoAODSchema, \"workers\": 60},\n",
    ")"
   ]
  },
  {
   "cell_type": "code",
   "execution_count": null,
   "metadata": {},
   "outputs": [],
   "source": []
  },
  {
   "cell_type": "code",
   "execution_count": null,
   "metadata": {},
   "outputs": [],
   "source": []
  },
  {
   "cell_type": "code",
   "execution_count": null,
   "metadata": {},
   "outputs": [],
   "source": []
  }
 ],
 "metadata": {
  "kernelspec": {
   "display_name": "weaver",
   "language": "python",
   "name": "python3"
  },
  "language_info": {
   "codemirror_mode": {
    "name": "ipython",
    "version": 3
   },
   "file_extension": ".py",
   "mimetype": "text/x-python",
   "name": "python",
   "nbconvert_exporter": "python",
   "pygments_lexer": "ipython3",
   "version": "3.9.18"
  }
 },
 "nbformat": 4,
 "nbformat_minor": 2
}

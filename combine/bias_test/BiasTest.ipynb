{
 "cells": [
  {
   "cell_type": "code",
   "execution_count": 1,
   "metadata": {},
   "outputs": [],
   "source": [
    "#env used: bbVV\n",
    "\n",
    "from typing import List\n",
    "import uproot\n",
    "import numpy as np\n",
    "import matplotlib.pyplot as plt\n",
    "import mplhep as hep\n",
    "import matplotlib.ticker as mticker\n",
    "import os\n",
    "\n",
    "plt.style.use(hep.style.CMS)\n",
    "hep.style.use(\"CMS\")\n",
    "formatter = mticker.ScalarFormatter(useMathText=True)\n",
    "formatter.set_powerlimits((-3, 3))\n",
    "plt.rcParams.update({\"font.size\": 20})"
   ]
  },
  {
   "cell_type": "code",
   "execution_count": 2,
   "metadata": {},
   "outputs": [],
   "source": [
    "MAIN_DIR = \"../\"\n",
    "\n",
    "plot_dir = f\"{MAIN_DIR}/plots/bias_test/30Jan24\"\n",
    "_ = os.system(f\"mkdir -p {plot_dir}\")"
   ]
  },
  {
   "cell_type": "code",
   "execution_count": 19,
   "metadata": {},
   "outputs": [],
   "source": [
    "cards_dir = \"23Sep22Scale100_bgs_only_scaleqcdsqrt\"\n",
    "bias_dir = \"23Sep22\"\n",
    "\n",
    "# r_bounds = [-1, 20]\n",
    "r_bounds = [-15, 15]\n",
    "\n",
    "samples = [\n",
    "    # \"NMSSM_XToYHTo2W2BTo4Q2B_MX-1200_MY-190\",\n",
    "    \"NMSSM_XToYHTo2W2BTo4Q2B_MX-2000_MY-125\",\n",
    "    # \"NMSSM_XToYHTo2W2BTo4Q2B_MX-3000_MY-250\",\n",
    "]\n",
    "\n",
    "# biases = [0.0, 0.15, 0.3, 1.0]\n",
    "biases = [\"0\",\"1\",\"0p3\",\"0p6\",\"3\",\"5\"]\n",
    "biases = [\"1\"]\n",
    "bias_dict = {\n",
    "    # \"0\":0,\n",
    "    \"1\":1,\n",
    "    # \"0p3\":0.3,\n",
    "    # \"0p6\":0.6,\n",
    "    # \"3\":3,\n",
    "    # \"5\":5\n",
    "}\n",
    "r_dict = {}\n",
    "\n",
    "\n",
    "for bias in biases:\n",
    "    file = uproot.concatenate(\n",
    "        f\"/home/pku/zhaoyz/Higgs/boostedHWW/combine/bias_test/cards/scale{bias}/higgsCombinebias{bias_dict[bias]}.FitDiagnostics.mH125.*.root\"\n",
    "    )\n",
    "    r = np.array(file.limit)[::4]\n",
    "    neg_lim = np.array(file.limit)[1::4]\n",
    "    pos_lim = np.array(file.limit)[2::4]\n",
    "    r_negerr = r - neg_lim #negetive error\n",
    "    r_poserr = pos_lim - r #positive error\n",
    "    reldiff = r - bias_dict[bias] #absolute difference for now\n",
    "    reldiff[reldiff < 0] = (reldiff / r_poserr)[reldiff < 0] #change to absolute difference to relative difference\n",
    "    reldiff[reldiff > 0] = (reldiff / r_negerr)[reldiff > 0] #by dividing error\n",
    "    r_dict[bias] = {\n",
    "        \"r\": r, #best fit signal strength\n",
    "        \"reldiff\": reldiff, #relative difference\n",
    "        \"neg_lim\": neg_lim,\n",
    "        \"pos_lim\": pos_lim,\n",
    "    }"
   ]
  },
  {
   "cell_type": "code",
   "execution_count": 20,
   "metadata": {},
   "outputs": [
    {
     "name": "stdout",
     "output_type": "stream",
     "text": [
      "For r = 1, # of successful fits: = 50, 100% of these with r- = -5, 96% with r+ = 40\n"
     ]
    }
   ],
   "source": [
    "# see the successful fits number\n",
    "for i, bias in enumerate(biases):\n",
    "    num_toys = len(r_dict[bias][\"r\"])\n",
    "    print(\n",
    "        f\"For r = {bias}, # of successful fits: = {num_toys}, {np.sum(r_dict[bias]['neg_lim'] == r_bounds[0]) / num_toys * 100:.0f}% of these with r- = -5, {np.sum(r_dict[bias]['pos_lim'] == r_bounds[1]) / num_toys * 100 :.0f}% with r+ = 40\"\n",
    "    )"
   ]
  },
  {
   "cell_type": "code",
   "execution_count": 21,
   "metadata": {},
   "outputs": [
    {
     "name": "stdout",
     "output_type": "stream",
     "text": [
      "For r = 1, # of successful fits: = 50, 100% of these with r-lim at boundary\n"
     ]
    }
   ],
   "source": [
    "# see the fits with r-lim at boundary\n",
    "for i, bias in enumerate(biases):\n",
    "    num_toys = len(r_dict[bias][\"r\"])\n",
    "    r_lims_bounds = (\n",
    "        (r_dict[bias][\"reldiff\"] < 0) #means fitted r < injected r\n",
    "        * (np.isclose(r_dict[bias][\"pos_lim\"], r_bounds[1]))\n",
    "    ) + (\n",
    "        (r_dict[bias][\"reldiff\"] > 0)\n",
    "        * (np.isclose(r_dict[bias][\"neg_lim\"], r_bounds[0]))\n",
    "    ) #bool array\n",
    "    r_lims_wrong = r_dict[bias][\"pos_lim\"] == r_dict[bias][\"neg_lim\"] #fit results to positive limit == negetive limit, means fit failed\n",
    "    tot_pfail = np.sum(r_lims_bounds + r_lims_wrong) #count how many events are failed/at boundary\n",
    "    print(\n",
    "        f\"For r = {bias}, # of successful fits: = {num_toys}, {tot_pfail / num_toys * 100:.0f}% of these with r-lim at boundary\"\n",
    "    )"
   ]
  },
  {
   "cell_type": "code",
   "execution_count": 23,
   "metadata": {},
   "outputs": [
    {
     "name": "stderr",
     "output_type": "stream",
     "text": [
      "/home/pku/zhaoyz/anaconda3/envs/bbVV/lib/python3.8/site-packages/numpy/core/fromnumeric.py:3432: RuntimeWarning: Mean of empty slice.\n",
      "  return _methods._mean(a, axis=axis, dtype=dtype,\n",
      "/home/pku/zhaoyz/anaconda3/envs/bbVV/lib/python3.8/site-packages/numpy/core/_methods.py:190: RuntimeWarning: invalid value encountered in double_scalars\n",
      "  ret = ret.dtype.type(ret / rcount)\n",
      "/home/pku/zhaoyz/anaconda3/envs/bbVV/lib/python3.8/site-packages/numpy/core/_methods.py:265: RuntimeWarning: Degrees of freedom <= 0 for slice\n",
      "  ret = _var(a, axis=axis, dtype=dtype, out=out, ddof=ddof,\n",
      "/home/pku/zhaoyz/anaconda3/envs/bbVV/lib/python3.8/site-packages/numpy/core/_methods.py:223: RuntimeWarning: invalid value encountered in divide\n",
      "  arrmean = um.true_divide(arrmean, div, out=arrmean, casting='unsafe',\n",
      "/home/pku/zhaoyz/anaconda3/envs/bbVV/lib/python3.8/site-packages/numpy/core/_methods.py:257: RuntimeWarning: invalid value encountered in double_scalars\n",
      "  ret = ret.dtype.type(ret / rcount)\n"
     ]
    },
    {
     "data": {
      "image/png": "[encoded data removed]",
      "text/plain": [
       "<Figure size 1400x1000 with 1 Axes>"
      ]
     },
     "metadata": {},
     "output_type": "display_data"
    }
   ],
   "source": [
    "#plot the bias plots\n",
    "from scipy import stats\n",
    "xrange = 3\n",
    "bins = 21\n",
    "x = np.linspace(-xrange, xrange, 101)\n",
    "hep.style.use(\"CMS\")\n",
    "plt.figure(figsize=(14, 10))\n",
    "ax = plt.gca()\n",
    "# fig, ax = plt.subplots(len(biases), 1, figsize=(12, 40))\n",
    "\n",
    "for i, bias in enumerate(biases):\n",
    "    # fit_fail = r_dict[sample][bias][\"pos_lim\"] == 40\n",
    "    # fit_fail = r_dict[sample][bias]['pos_lim'] == 2000000\n",
    "    r_lims_bounds = (\n",
    "        (r_dict[bias][\"reldiff\"] < 0)\n",
    "        * (np.isclose(r_dict[bias][\"pos_lim\"], r_bounds[1]))\n",
    "    ) + (\n",
    "        (r_dict[bias][\"reldiff\"] > 0)\n",
    "        * (np.isclose(r_dict[bias][\"neg_lim\"], r_bounds[0]))\n",
    "    )\n",
    "    \n",
    "    r_lims_same = r_dict[bias][\"pos_lim\"] == r_dict[bias][\"neg_lim\"]\n",
    "    \n",
    "    fit_fail = r_lims_bounds + r_lims_same #both cases results to failure of fit\n",
    "    \n",
    "    r = r_dict[bias][\"r\"][~fit_fail]\n",
    "    reldiff = r_dict[bias][\"reldiff\"][~fit_fail]\n",
    "    reldiff = reldiff[(reldiff > -xrange) * (reldiff < xrange)] #only select the relative difference within [-3,3]\n",
    "    mu, sigma = np.mean(reldiff), np.std(reldiff)\n",
    "    ax.hist(reldiff, np.linspace(-xrange, xrange, bins + 1), histtype=\"step\")\n",
    "    ax.plot(\n",
    "        x,\n",
    "        # scale by bin width\n",
    "        stats.norm.pdf(x, loc=mu, scale=sigma) * len(r) * (2 * xrange / bins),\n",
    "        label=rf\"$\\mu = {mu:.2f}, \\sigma = {sigma:.2f}$\",\n",
    "    )\n",
    "    ax.set_xlabel(rf\"$\\frac{{\\hat{{r}} - {bias}}}{{\\Delta \\hat r}}$\")\n",
    "    ax.set_ylabel(\"Number of toys\")\n",
    "    ax.set_title(f\"r = {bias}\")\n",
    "    ax.legend()\n",
    "    hep.cms.label(\n",
    "        \"Work in Progress\",\n",
    "        ax=ax,\n",
    "        data=True,\n",
    "        lumi=138,\n",
    "        year=None,\n",
    "    )\n",
    "    plt.savefig(f\"{plot_dir}/bias_test_plots_{bias}.pdf\", bbox_inches=\"tight\")\n",
    "    plt.show()"
   ]
  },
  {
   "cell_type": "code",
   "execution_count": null,
   "metadata": {},
   "outputs": [],
   "source": [
    "sample = \"NMSSM_XToYHTo2W2BTo4Q2B_MX-2000_MY-125\"\n",
    "bias = 0.0\n",
    "\n",
    "r_lims_bounds = (\n",
    "    (r_dict[sample][bias][\"reldiff\"] < 0)\n",
    "    * (np.isclose(r_dict[sample][bias][\"pos_lim\"], r_bounds[1]))\n",
    ") + (\n",
    "    (r_dict[sample][bias][\"reldiff\"] > 0)\n",
    "    * (np.isclose(r_dict[sample][bias][\"neg_lim\"], r_bounds[0]))\n",
    ")\n",
    "\n",
    "r_lims_same = r_dict[sample][bias][\"pos_lim\"] == r_dict[sample][bias][\"neg_lim\"]\n",
    "\n",
    "fit_fail = r_lims_bounds + r_lims_same\n",
    "\n",
    "preldiff = r_dict[sample][bias][\"reldiff\"][~fit_fail]\n",
    "pposlim = r_dict[sample][bias][\"pos_lim\"][~fit_fail]\n",
    "pneglim = r_dict[sample][bias][\"neg_lim\"][~fit_fail]\n",
    "pr = r_dict[sample][bias][\"r\"][~fit_fail]\n",
    "\n",
    "select = (preldiff >= -0.7) * (preldiff <= -0.6)\n",
    "\n",
    "pos_lim = pposlim[select]\n",
    "pos_lim"
   ]
  },
  {
   "cell_type": "code",
   "execution_count": null,
   "metadata": {},
   "outputs": [],
   "source": [
    "pr[select]"
   ]
  },
  {
   "cell_type": "code",
   "execution_count": null,
   "metadata": {},
   "outputs": [],
   "source": [
    "preldiff[select]"
   ]
  },
  {
   "cell_type": "code",
   "execution_count": null,
   "metadata": {},
   "outputs": [],
   "source": [
    "plt.hist(r_dict[sample][bias][\"pos_lim\"])"
   ]
  },
  {
   "cell_type": "code",
   "execution_count": null,
   "metadata": {},
   "outputs": [],
   "source": [
    "plt.hist(r_dict[sample][bias][\"neg_lim\"])"
   ]
  },
  {
   "cell_type": "code",
   "execution_count": null,
   "metadata": {},
   "outputs": [],
   "source": [
    "r = pr[select]\n",
    "r"
   ]
  },
  {
   "cell_type": "code",
   "execution_count": null,
   "metadata": {},
   "outputs": [],
   "source": [
    "plt.hist(r_dict[sample][bias][\"r\"])"
   ]
  },
  {
   "cell_type": "code",
   "execution_count": null,
   "metadata": {},
   "outputs": [],
   "source": [
    "neg_lim = pneglim[select]\n",
    "neg_lim"
   ]
  },
  {
   "cell_type": "code",
   "execution_count": null,
   "metadata": {},
   "outputs": [],
   "source": [
    "plt.hist(neg_lim)"
   ]
  },
  {
   "cell_type": "code",
   "execution_count": null,
   "metadata": {},
   "outputs": [],
   "source": [
    "from ipywidgets import interact, FloatSlider\n",
    "\n",
    "\n",
    "def phist(cut):\n",
    "    plt.hist(pneglim[preldiff > cut], np.linspace(-0.5, 0.5, 21), histtype=\"step\")\n",
    "\n",
    "\n",
    "interact(phist, cut=FloatSlider(min=-1, max=5, step=0.1))"
   ]
  },
  {
   "cell_type": "code",
   "execution_count": null,
   "metadata": {},
   "outputs": [],
   "source": [
    "reldiff = r_dict[sample][bias][\"reldiff\"][~fit_fail][select]\n",
    "reldiff"
   ]
  },
  {
   "cell_type": "code",
   "execution_count": null,
   "metadata": {},
   "outputs": [],
   "source": []
  }
 ],
 "metadata": {
  "kernelspec": {
   "display_name": "python39",
   "language": "python",
   "name": "python3"
  },
  "language_info": {
   "codemirror_mode": {
    "name": "ipython",
    "version": 3
   },
   "file_extension": ".py",
   "mimetype": "text/x-python",
   "name": "python",
   "nbconvert_exporter": "python",
   "pygments_lexer": "ipython3",
   "version": "3.8.18"
  },
  "orig_nbformat": 4
 },
 "nbformat": 4,
 "nbformat_minor": 2
}

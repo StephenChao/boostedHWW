{
 "cells": [
  {
   "cell_type": "markdown",
   "metadata": {},
   "source": [
    "### load necessary modules"
   ]
  },
  {
   "cell_type": "code",
   "execution_count": 1,
   "metadata": {},
   "outputs": [
    {
     "name": "stdout",
     "output_type": "stream",
     "text": [
      "Welcome to JupyROOT 6.28/00\n"
     ]
    }
   ],
   "source": [
    "import uproot\n",
    "import awkward as ak\n",
    "import vector\n",
    "vector.register_awkward()\n",
    "from matplotlib import pyplot as plt\n",
    "import mplhep as hep\n",
    "hep.style.use(\"CMS\")\n",
    "import math\n",
    "import itertools\n",
    "import os\n",
    "from typing import Dict, List, Tuple\n",
    "from numpy.typing import ArrayLike\n",
    "import numpy as np\n",
    "import correctionlib\n",
    "import awkward as ak\n",
    "import fastjet\n",
    "from coffea.nanoevents.methods import vector\n",
    "from coffea import nanoevents\n",
    "from coffea import processor\n",
    "from coffea.nanoevents.methods import candidate\n",
    "from coffea.analysis_tools import Weights, PackedSelection\n",
    "from hist import Hist\n",
    "ak.behavior.update(vector.behavior)\n",
    "import sys\n",
    "sys.path.append('/home/pku/zhaoyz/Higgs/LundReweighting/utils')\n",
    "from LundReweighter import *\n",
    "# import pandas as pd\n"
   ]
  },
  {
   "cell_type": "markdown",
   "metadata": {},
   "source": [
    "### Load signal NanoAOD files and do pre-selection "
   ]
  },
  {
   "cell_type": "code",
   "execution_count": 254,
   "metadata": {},
   "outputs": [],
   "source": [
    "# #first way to load root file is using nanoevents, but suffer from low process speed\n",
    "events = nanoevents.NanoEventsFactory.from_root(\n",
    "        \"/data/bond/zhaoyz/CustNano/HWWPFNano/2018/Signal_MERGED/GluGluHToWW_Pt-200ToInf_M-125_TuneCP5_MINLO_13TeV-powheg-pythia8_RunIISummer20UL18MiniAODv2-106X_upgrade2018_realistic_v16_L1v1-v2/MERGED.root\",\n",
    "        # \"/data/bond/zhaoyz/CustNano/HWWPFNano/2018/Signal_MERGED/VBFHToWWToAny_M-125_TuneCP5_withDipoleRecoil_13TeV-powheg-jhugen751-pythia8_RunIISummer20UL18MiniAODv2-106X_upgrade2018_realistic_v16_L1v1-v2/MERGED.root\",\n",
    "        # \"/data/bond/zhaoyz/CustNano/HWWPFNano/2018/Signal_MERGED/ttHToNonbb_M125_TuneCP5_13TeV-powheg-pythia8_RunIISummer20UL18MiniAODv2-106X_upgrade2018_realistic_v16_L1v1-v2/MERGED.root\",\n",
    "        # \"/data/bond/zhaoyz/CustNano/HWWPFNano/2018/Signal_MERGED/HWminusJ_HToWW_M-125_TuneCP5_13TeV-powheg-jhugen727-pythia8_RunIISummer20UL18MiniAODv2-106X_upgrade2018_realistic_v16_L1v1-v2/MERGED.root\",\n",
    "        # \"/data/bond/zhaoyz/CustNano/HWWPFNano/2018/Signal_MERGED/HZJ_HToWW_M-125_TuneCP5_13TeV-powheg-jhugen727-pythia8_RunIISummer20UL18MiniAODv2-106X_upgrade2018_realistic_v16_L1v1-v2/MERGED.root\"\n",
    "        schemaclass=nanoevents.NanoAODSchema,\n",
    "    ).events()\n",
    "\n",
    "#second way to load root file is using uproot.lazy\n",
    "# events = uproot.lazy({\"/data/bond/zhaoyz/CustNano/HWWPFNano/2018/Signal_MERGED/ttHToNonbb_M125_TuneCP5_13TeV-powheg-pythia8_RunIISummer20UL18MiniAODv2-106X_upgrade2018_realistic_v16_L1v1-v2/MERGED.root\":\"Events\"})\n"
   ]
  },
  {
   "cell_type": "code",
   "execution_count": 255,
   "metadata": {},
   "outputs": [],
   "source": [
    "frac = 1\n",
    "n_use = int(frac*len(events))\n",
    "events = events[:n_use]"
   ]
  },
  {
   "cell_type": "code",
   "execution_count": 256,
   "metadata": {},
   "outputs": [
    {
     "data": {
      "text/plain": [
       "['LHE',\n",
       " 'GenFatJetSVs',\n",
       " 'GenIsolatedPhoton',\n",
       " 'ChsMET',\n",
       " 'SV',\n",
       " 'L1Reco',\n",
       " 'Muon',\n",
       " 'TrigObj',\n",
       " 'HLTriggerFirstPath',\n",
       " 'run',\n",
       " 'GenVtx',\n",
       " 'AK15Puppi',\n",
       " 'FatJetPFCands',\n",
       " 'genWeight',\n",
       " 'SoftActivityJet',\n",
       " 'SoftActivityJetNjets5',\n",
       " 'GenJetCands',\n",
       " 'GenSubJetAK15',\n",
       " 'Flag',\n",
       " 'SoftActivityJetHT',\n",
       " 'CaloMET',\n",
       " 'SoftActivityJetNjets2',\n",
       " 'SoftActivityJetNjets10',\n",
       " 'GenJetAK15',\n",
       " 'Pileup',\n",
       " 'PSWeight',\n",
       " 'LowPtElectron',\n",
       " 'boostedTau',\n",
       " 'SoftActivityJetHT2',\n",
       " 'SubGenJetAK8',\n",
       " 'RawPuppiMET',\n",
       " 'btagWeight',\n",
       " 'GenCands',\n",
       " 'GenJetAK8',\n",
       " 'MET',\n",
       " 'Tau',\n",
       " 'fixedGridRhoFastjetCentralChargedPileUp',\n",
       " 'fixedGridRhoFastjetCentral',\n",
       " 'GenJetSVs',\n",
       " 'DeepMETResponseTune',\n",
       " 'PuppiMET',\n",
       " 'fixedGridRhoFastjetCentralCalo',\n",
       " 'event',\n",
       " 'TkMET',\n",
       " 'CorrT1METJet',\n",
       " 'fixedGridRhoFastjetAll',\n",
       " 'L1',\n",
       " 'SoftActivityJetHT10',\n",
       " 'JetPFCands',\n",
       " 'PFCands',\n",
       " 'luminosityBlock',\n",
       " 'HLTriggerFinalPath',\n",
       " 'DeepMETResolutionTune',\n",
       " 'FsrPhoton',\n",
       " 'GenVisTau',\n",
       " 'RawMET',\n",
       " 'HTXS',\n",
       " 'GenDressedLepton',\n",
       " 'LHEScaleWeight',\n",
       " 'HLT',\n",
       " 'SoftActivityJetHT5',\n",
       " 'LHEPart',\n",
       " 'fixedGridRhoFastjetCentralNeutral',\n",
       " 'SubJet',\n",
       " 'genTtbarId',\n",
       " 'LHEPdfWeight',\n",
       " 'L1PreFiringWeight',\n",
       " 'AK15PuppiSubJet',\n",
       " 'FatJetSVs',\n",
       " 'JetSVs',\n",
       " 'Generator',\n",
       " 'L1simulation',\n",
       " 'GenFatJetCands',\n",
       " 'LHEReweightingWeight',\n",
       " 'LHEWeight',\n",
       " 'Jet',\n",
       " 'IsoTrack',\n",
       " 'OtherPV',\n",
       " 'PV',\n",
       " 'FatJet',\n",
       " 'GenPart',\n",
       " 'GenJet',\n",
       " 'Photon',\n",
       " 'Electron',\n",
       " 'GenMET']"
      ]
     },
     "execution_count": 256,
     "metadata": {},
     "output_type": "execute_result"
    }
   ],
   "source": [
    "#quick look at the fields of signal files\n",
    "events.fields"
   ]
  },
  {
   "cell_type": "code",
   "execution_count": 257,
   "metadata": {},
   "outputs": [],
   "source": [
    "desired_fields = [\"Electron\",\"Muon\",\"FatJet\",\"genWeight\",\"GenPart\",\"FatJetPFCands\",\"PFCands\"]\n",
    "filtered_events = events[desired_fields]\n",
    "# # filtered_events = ak.Array({field: events[field] for field in desired_fields})\n",
    "# builder = ak.ArrayBuilder()\n",
    "\n",
    "# # only add the fields that we are interested\n",
    "# for field in events.fields:\n",
    "#     if field in desired_fields:\n",
    "#         builder.begin_list()\n",
    "#         builder.append(events[field])\n",
    "#         builder.end_list()\n",
    "\n",
    "# # build awkward array\n",
    "# filtered_events = builder.snapshot()"
   ]
  },
  {
   "cell_type": "code",
   "execution_count": 258,
   "metadata": {},
   "outputs": [
    {
     "data": {
      "text/plain": [
       "<Array [{Electron: [], Muon: [, ... ] type='2998206 * {\"Electron\": var * electro...'>"
      ]
     },
     "execution_count": 258,
     "metadata": {},
     "output_type": "execute_result"
    }
   ],
   "source": [
    "filtered_events"
   ]
  },
  {
   "cell_type": "code",
   "execution_count": 259,
   "metadata": {},
   "outputs": [
    {
     "data": {
      "text/plain": [
       "['Electron',\n",
       " 'Muon',\n",
       " 'FatJet',\n",
       " 'genWeight',\n",
       " 'GenPart',\n",
       " 'FatJetPFCands',\n",
       " 'PFCands']"
      ]
     },
     "execution_count": 259,
     "metadata": {},
     "output_type": "execute_result"
    }
   ],
   "source": [
    "filtered_events.fields"
   ]
  },
  {
   "cell_type": "markdown",
   "metadata": {},
   "source": [
    "### Define necessary functions to run the selection"
   ]
  },
  {
   "cell_type": "code",
   "execution_count": 260,
   "metadata": {},
   "outputs": [],
   "source": [
    "#pad array with given value\n",
    "def pad_val(\n",
    "    arr: ak.Array,\n",
    "    target: int,\n",
    "    value: float, #value can also be Bool variable \n",
    "    axis: int = 0,\n",
    "    to_numpy: bool = True,\n",
    "    clip: bool = True,\n",
    "):\n",
    "    \"\"\"\n",
    "    pads awkward array up to ``target`` index along axis ``axis`` with value ``value``,\n",
    "    optionally converts to numpy array\n",
    "    \"\"\"\n",
    "    padded_arr = ak.fill_none(ak.pad_none(arr, target, axis=axis, clip=clip), value, axis=axis)\n",
    "    # pad_none will fill the array to target length with \"None\" for dedicated axis\n",
    "    # \"clip\" means cut the array to the target length or not\n",
    "    # fill_none will replace \"None\" value to some value\n",
    "    return padded_arr.to_numpy() if to_numpy else padded_arr\n",
    "\n",
    "def add_selection(\n",
    "    name: str,\n",
    "    sel: np.ndarray,\n",
    "    selection: PackedSelection,\n",
    "    cutflow: dict = None,\n",
    "    isData: bool = False,\n",
    "    signGenWeights: ak.Array = None,\n",
    "):\n",
    "    \"\"\"adds selection to PackedSelection object and the cutflow dictionary\"\"\"\n",
    "    selection.add(name, sel)\n",
    "    if cutflow is not None: #only add to cutflow dictionary if cutflow is not None\n",
    "        cutflow[name] = (\n",
    "            np.sum(selection.all(*selection.names))\n",
    "            if isData\n",
    "            # add up sign of genWeights for MC\n",
    "            else np.sum(signGenWeights[selection.all(*selection.names)])\n",
    "        )\n"
   ]
  },
  {
   "cell_type": "code",
   "execution_count": 261,
   "metadata": {},
   "outputs": [],
   "source": [
    "#pre-selection:\n",
    "#1.Leading jet pT > 400GeV, maximum jet mass > 50GeV\n",
    "#2.Require 2 or 3 AK8 jet with pT > 200GeV\n",
    "#3.Veto (mini-)Isolated leptons\n",
    "isData = False\n",
    "signGenWeights = None if isData else np.sign(filtered_events[\"genWeight\"]) #get genWeight sign, because only the sign matters\n",
    "n_events = len(filtered_events) if isData else int(np.sum(signGenWeights)) #events number for MC events should be the sum of \"sign\"\n",
    "selection = PackedSelection() #initialize a new object\n",
    "\n",
    "cutflow = {}\n",
    "# cutflow[\"all\"] = len(events) #shouldn't be n_events?\n",
    "cutflow[\"all\"] = n_events\n",
    "preselection_cut_vals = {\"pt\": 200, \"msd\": 20, \"leading_pt\":400,\"maximum_mass\":50}\n",
    "num_jets = 2\n",
    "\n",
    "# fatjets = corrections.get_jec_jets(events, \"2018\")\n",
    "fatjets = filtered_events.FatJet\n",
    "\n",
    "preselection_cut_1 = pad_val(\n",
    "        ( ak.max(filtered_events.FatJet.pt, axis = 1) > preselection_cut_vals[\"leading_pt\"])\n",
    "        * (ak.max(filtered_events.FatJet.msoftdrop, axis = 1) > preselection_cut_vals[\"maximum_mass\"]), #mass and pT cut of each jet in event\n",
    "        len(events), #pad to num_jets length\n",
    "        False,  #pad with value False\n",
    "        )\n",
    "# finally with the length of events number, \"1\" for all jets are pT > pT_cut and mass > mass_cut\n",
    " # N.B. here clip always = True\n",
    "\n",
    "add_selection(\n",
    "    \"leading pT and maximum mass\", #string name\n",
    "    preselection_cut_1.astype(bool), #selection content\n",
    "    selection, #PackedSelection object\n",
    "    cutflow, #cut-flow dict, storing events number after each cut\n",
    "    isData,\n",
    "    signGenWeights,#sum the signGenWeights for events which pass the selection\n",
    ")\n",
    "\n",
    "\n",
    "\n",
    "preselection_cut_2 = np.prod(\n",
    "    pad_val(\n",
    "        (filtered_events.FatJet.pt > preselection_cut_vals[\"pt\"]),\n",
    "        # * (events.FatJet.msoftdrop > preselection_cut_vals[\"msd\"]), #mass and pT cut of each jet in event\n",
    "        num_jets, #pad to num_jets length\n",
    "        False,  #pad with value False\n",
    "        axis=1, #pad to axis=1\n",
    "    ),\n",
    "    axis=1,\n",
    ")# finally with the length of events number, \"1\" for all jets are pT > pT_cut and mass > mass_cut\n",
    " # N.B. here clip always = True\n",
    "\n",
    "add_selection(\n",
    "    \"at least 2 AK8 jet with pT >200GeV\", #string name\n",
    "    preselection_cut_2.astype(bool), #selection content\n",
    "    selection, #PackedSelection object\n",
    "    cutflow, #cut-flow dict, storing events number after each cut\n",
    "    isData,\n",
    "    signGenWeights,#sum the signGenWeights for events which pass the selection\n",
    ")\n",
    "\n",
    "preselection_cut_3 = pad_val(\n",
    "        (ak.num(filtered_events.FatJet.pt) == 2) | (ak.num(filtered_events.FatJet.pt) == 3) , #mass and pT cut of each jet in event\n",
    "        len(filtered_events), #pad to num_jets length\n",
    "        False,  #pad with value False\n",
    "        )\n",
    "\n",
    "add_selection(\n",
    "    \"2 or 3 AK8 jet\", #string name\n",
    "    preselection_cut_3.astype(bool), #selection content\n",
    "    selection, #PackedSelection object\n",
    "    cutflow, #cut-flow dict, storing events number after each cut\n",
    "    isData,\n",
    "    signGenWeights,#sum the signGenWeights for events which pass the selection\n",
    ")\n"
   ]
  },
  {
   "cell_type": "code",
   "execution_count": 262,
   "metadata": {},
   "outputs": [
    {
     "data": {
      "text/plain": [
       "{'all': 2841574,\n",
       " 'leading pT and maximum mass': 19841.0,\n",
       " 'at least 2 AK8 jet with pT >200GeV': 17730.0,\n",
       " '2 or 3 AK8 jet': 17225.0}"
      ]
     },
     "execution_count": 262,
     "metadata": {},
     "output_type": "execute_result"
    }
   ],
   "source": [
    "cutflow"
   ]
  },
  {
   "cell_type": "code",
   "execution_count": 263,
   "metadata": {},
   "outputs": [],
   "source": [
    "filtered_events = filtered_events[selection.all(*selection.names)]\n",
    "# events = nanoevents.NanoEventsFactory.from_events(events[selection.all(*selection.names)])\n"
   ]
  },
  {
   "cell_type": "code",
   "execution_count": 264,
   "metadata": {},
   "outputs": [
    {
     "data": {
      "text/plain": [
       "<Array [{Electron: [Electron], ... ] type='17701 * {\"Electron\": var * electron, ...'>"
      ]
     },
     "execution_count": 264,
     "metadata": {},
     "output_type": "execute_result"
    }
   ],
   "source": [
    "filtered_events"
   ]
  },
  {
   "cell_type": "code",
   "execution_count": 265,
   "metadata": {},
   "outputs": [],
   "source": [
    "selection = PackedSelection() #initialize a new object\n",
    "isData = False\n",
    "signGenWeights = None if isData else np.sign(filtered_events[\"genWeight\"]) #get genWeight sign, because only the sign matters\n",
    "n_events = len(filtered_events) if isData else int(np.sum(signGenWeights)) #events number for MC events should be the sum of \"sign\"\n",
    "selection = PackedSelection() #initialize a new object\n",
    "\n",
    "cutflow = {}\n",
    "# cutflow[\"all\"] = len(events) #shouldn't be n_events?\n",
    "cutflow[\"all\"] = n_events\n",
    "\n",
    "#veto (mini-)isolated muons\n",
    "#referring to : https://github.com/farakiko/boostedhiggs/blob/ec53b97857bf64aa4d75f639e290181e65a55b4c/boostedhiggs/hwwprocessor.py#L185-L237\n",
    "muons = ak.with_field(filtered_events.Muon, 0, \"flavor\")\n",
    "electrons = ak.with_field(filtered_events.Electron, 1, \"flavor\")\n",
    "\n",
    "# muons\n",
    "loose_muons = (\n",
    "    (((muons.pt > 30) & (muons.pfRelIso04_all < 0.25)) | (muons.pt > 55))\n",
    "    & (np.abs(muons.eta) < 2.4)\n",
    "    & (muons.looseId)\n",
    ")\n",
    "n_loose_muons = ak.sum(loose_muons, axis=1)\n",
    "good_muons = (\n",
    "    (muons.pt > 30)\n",
    "    & (np.abs(muons.eta) < 2.4)\n",
    "    & (np.abs(muons.dz) < 0.1)\n",
    "    & (np.abs(muons.dxy) < 0.05)\n",
    "    & (muons.sip3d <= 4.0)\n",
    "    & muons.mediumId\n",
    ")\n",
    "n_good_muons = ak.sum(good_muons, axis=1)\n",
    "\n",
    "# electrons\n",
    "loose_electrons = (\n",
    "    (((electrons.pt > 38) & (electrons.pfRelIso03_all < 0.25)) | (electrons.pt > 120))\n",
    "    & (np.abs(electrons.eta) < 2.4)\n",
    "    & ((np.abs(electrons.eta) < 1.44) | (np.abs(electrons.eta) > 1.57))\n",
    "    & (electrons.cutBased >= 2)\n",
    "    # & (electrons.cutBased >= electrons.LOOSE) #cut-based ID Fall17 V2 (0:fail, 1:veto, 2:loose, 3:medium, 4:tight)\n",
    ")\n",
    "n_loose_electrons = ak.sum(loose_electrons, axis=1)\n",
    "good_electrons = (\n",
    "    (electrons.pt > 38)\n",
    "    & (np.abs(electrons.eta) < 2.4)\n",
    "    & ((np.abs(electrons.eta) < 1.44) | (np.abs(electrons.eta) > 1.57))\n",
    "    & (np.abs(electrons.dz) < 0.1)\n",
    "    & (np.abs(electrons.dxy) < 0.05)\n",
    "    & (electrons.sip3d <= 4.0)\n",
    "    & (electrons.mvaFall17V2noIso_WP90)\n",
    ")\n",
    "n_good_electrons = ak.sum(good_electrons, axis=1)\n",
    "\n",
    "n_leptons = n_loose_electrons + n_good_electrons + n_loose_muons + n_good_muons\n",
    "\n",
    "preselection_cut_4 = pad_val(\n",
    "        (n_leptons == 0) , #mass and pT cut of each jet in event\n",
    "        len(filtered_events), #pad to num_jets length\n",
    "        False,  #pad with value False\n",
    "        )\n",
    "\n",
    "add_selection(\n",
    "    \"no (mini-)isolated leptons\", #string name\n",
    "    preselection_cut_4.astype(bool), #selection content\n",
    "    selection, #PackedSelection object\n",
    "    cutflow, #cut-flow dict, storing events number after each cut\n",
    "    isData,\n",
    "    signGenWeights,#sum the signGenWeights for events which pass the selection\n",
    ")\n"
   ]
  },
  {
   "cell_type": "code",
   "execution_count": 266,
   "metadata": {},
   "outputs": [
    {
     "data": {
      "text/plain": [
       "{'all': 17225, 'no (mini-)isolated leptons': 11198.0}"
      ]
     },
     "execution_count": 266,
     "metadata": {},
     "output_type": "execute_result"
    }
   ],
   "source": [
    "cutflow"
   ]
  },
  {
   "cell_type": "code",
   "execution_count": 267,
   "metadata": {},
   "outputs": [],
   "source": [
    "filtered_events = filtered_events[selection.all(*selection.names)]"
   ]
  },
  {
   "cell_type": "code",
   "execution_count": 268,
   "metadata": {},
   "outputs": [],
   "source": [
    "selection = PackedSelection() #initialize a new object\n",
    "isData = False\n",
    "signGenWeights = None if isData else np.sign(filtered_events[\"genWeight\"]) #get genWeight sign, because only the sign matters\n",
    "n_events = len(filtered_events) if isData else int(np.sum(signGenWeights)) #events number for MC events should be the sum of \"sign\"\n",
    "selection = PackedSelection() #initialize a new object\n",
    "\n",
    "cutflow = {}\n",
    "# cutflow[\"all\"] = len(events) #shouldn't be n_events?\n",
    "cutflow[\"all\"] = n_events\n",
    "\n",
    "#require WW decaying to 4q, because we want to calibrate H3q4q jet at first stage\n",
    "d_PDGID = 1\n",
    "u_PDGID = 2\n",
    "s_PDGID = 3\n",
    "c_PDGID = 4\n",
    "b_PDGID = 5\n",
    "g_PDGID = 21\n",
    "TOP_PDGID = 6\n",
    "\n",
    "ELE_PDGID = 11\n",
    "vELE_PDGID = 12\n",
    "MU_PDGID = 13\n",
    "vMU_PDGID = 14\n",
    "TAU_PDGID = 15\n",
    "vTAU_PDGID = 16\n",
    "\n",
    "Z_PDGID = 23\n",
    "W_PDGID = 24\n",
    "HIGGS_PDGID = 25\n",
    "Y_PDGID = 35\n",
    "\n",
    "b_PDGIDS = [511, 521, 523]\n",
    "\n",
    "GRAV_PDGID = 39\n",
    "\n",
    "GEN_FLAGS = [\"fromHardProcess\", \"isLastCopy\"]\n",
    "\n",
    "FILL_NONE_VALUE = -99999\n",
    "PAD_VAL = -99999\n",
    "\n",
    "skim_vars = {\n",
    "    \"eta\": \"Eta\",\n",
    "    \"phi\": \"Phi\",\n",
    "    \"mass\": \"Mass\",\n",
    "    \"pt\": \"Pt\",\n",
    "}"
   ]
  },
  {
   "cell_type": "markdown",
   "metadata": {},
   "source": [
    "### Select only HWW decay"
   ]
  },
  {
   "cell_type": "code",
   "execution_count": 269,
   "metadata": {},
   "outputs": [],
   "source": [
    "#firstly selection only HWW decay:\n",
    "selection = PackedSelection() #initialize a new object\n",
    "isData = False\n",
    "signGenWeights = None if isData else np.sign(filtered_events[\"genWeight\"]) #get genWeight sign, because only the sign matters\n",
    "n_events = len(filtered_events) if isData else int(np.sum(signGenWeights)) #events number for MC events should be the sum of \"sign\"\n",
    "selection = PackedSelection() #initialize a new object\n",
    "\n",
    "cutflow = {}\n",
    "# cutflow[\"all\"] = len(events) #shouldn't be n_events?\n",
    "cutflow[\"all\"] = n_events\n",
    "\n",
    "\n",
    "# finding the gen higgs\n",
    "higgs = filtered_events.GenPart[\n",
    "    (abs(filtered_events.GenPart.pdgId) == HIGGS_PDGID) * filtered_events.GenPart.hasFlags(GEN_FLAGS)\n",
    "]\n",
    "# saving 4-vector info\n",
    "GenHiggsVars = {f\"GenHiggs{key}\": higgs[var].to_numpy() for (var, key) in skim_vars.items()}\n",
    "\n",
    "higgs_children = higgs.children\n",
    "\n",
    "# saving whether H->bb or H->VV\n",
    "GenHiggsVars[\"GenHiggsChildren\"] = abs(higgs_children.pdgId[:, :, 0]).to_numpy()\n",
    "\n",
    "# finding WW children\n",
    "is_WW = abs(higgs_children.pdgId) == W_PDGID\n",
    "\n",
    "# Hbb = higgs[ak.sum(is_bb, axis=2) == 2]\n",
    "HWW = higgs[ak.sum(is_WW, axis=2) == 2]\n",
    "\n",
    "# checking that there are 2 b's and 2 V's\n",
    "has_WW = ak.sum(ak.flatten(is_WW, axis=2), axis=1) == 2\n",
    "\n",
    "add_selection(\n",
    "    \"HtoWW\",\n",
    "    has_WW, \n",
    "    selection, \n",
    "    cutflow, \n",
    "    False, \n",
    "    signGenWeights)\n",
    "# print(selection_all_q)"
   ]
  },
  {
   "cell_type": "code",
   "execution_count": 270,
   "metadata": {},
   "outputs": [
    {
     "data": {
      "text/plain": [
       "<Array [{Electron: [Electron], ... ] type='11490 * {\"Electron\": var * electron, ...'>"
      ]
     },
     "execution_count": 270,
     "metadata": {},
     "output_type": "execute_result"
    }
   ],
   "source": [
    "filtered_events"
   ]
  },
  {
   "cell_type": "code",
   "execution_count": 271,
   "metadata": {},
   "outputs": [],
   "source": [
    "filtered_events = filtered_events[selection.all(*selection.names)]\n"
   ]
  },
  {
   "cell_type": "code",
   "execution_count": 272,
   "metadata": {},
   "outputs": [
    {
     "data": {
      "text/plain": [
       "<Array [{Electron: [Electron], ... ] type='11490 * {\"Electron\": var * electron, ...'>"
      ]
     },
     "execution_count": 272,
     "metadata": {},
     "output_type": "execute_result"
    }
   ],
   "source": [
    "filtered_events"
   ]
  },
  {
   "cell_type": "code",
   "execution_count": 273,
   "metadata": {},
   "outputs": [],
   "source": [
    "#Then do other test:\n",
    "selection = PackedSelection() #initialize a new object\n",
    "isData = False\n",
    "signGenWeights = None if isData else np.sign(filtered_events[\"genWeight\"]) #get genWeight sign, because only the sign matters\n",
    "n_events = len(filtered_events) if isData else int(np.sum(signGenWeights)) #events number for MC events should be the sum of \"sign\"\n",
    "selection = PackedSelection() #initialize a new object\n",
    "\n",
    "cutflow = {}\n",
    "# cutflow[\"all\"] = len(events) #shouldn't be n_events?\n",
    "cutflow[\"all\"] = n_events\n",
    "# finding the gen higgs\n",
    "higgs = filtered_events.GenPart[\n",
    "    (abs(filtered_events.GenPart.pdgId) == HIGGS_PDGID) * filtered_events.GenPart.hasFlags(GEN_FLAGS)\n",
    "]\n",
    "# saving 4-vector info\n",
    "GenHiggsVars = {f\"GenHiggs{key}\": higgs[var].to_numpy() for (var, key) in skim_vars.items()}\n",
    "\n",
    "higgs_children = higgs.children\n",
    "\n",
    "# saving whether H->bb or H->VV\n",
    "GenHiggsVars[\"GenHiggsChildren\"] = abs(higgs_children.pdgId[:, :, 0]).to_numpy()\n",
    "\n",
    "# finding WW children\n",
    "is_WW = abs(higgs_children.pdgId) == W_PDGID\n",
    "\n",
    "# Hbb = higgs[ak.sum(is_bb, axis=2) == 2]\n",
    "HWW = higgs[ak.sum(is_WW, axis=2) == 2]\n",
    "\n",
    "# checking that there are 2 b's and 2 V's\n",
    "has_WW = ak.sum(ak.flatten(is_WW, axis=2), axis=1) == 2\n",
    "\n",
    "add_selection(\n",
    "    \"HtoWW\",\n",
    "    has_WW, \n",
    "    selection, \n",
    "    cutflow, \n",
    "    False, \n",
    "    signGenWeights)\n",
    "# print(selection_all_q)\n",
    "\n",
    "\n",
    "\n",
    "# saving WW 4-vector info\n",
    "WW = ak.flatten(higgs_children[is_WW], axis=2)\n",
    "\n",
    "#for normal ggF, VBF HWW signal\n",
    "GenWWVars = {\n",
    "    f\"GenWW{key}\": WW[var].to_numpy() for (var, key) in skim_vars.items()\n",
    "    }\n",
    "\n",
    "#for ttHnonbb HWW signal, because there may not be H-->WW events\n",
    "# GenWWVars = {\n",
    "#     f\"GenWW{key}\": pad_val(WW[var], 2, FILL_NONE_VALUE, axis=1) for (var, key) in skim_vars.items()\n",
    "#     }\n",
    "\n",
    "# checking that each W has 2 q children, so finally the HWW jet will be H4q or H3q jet\n",
    "WW_children = WW.children\n",
    "\n",
    "quarks = abs(WW_children.pdgId) <= b_PDGID #get all the 2 Ws daughter PDGID <=5 information\n",
    "\n",
    "selection_all_q = ak.all(ak.all(quarks, axis=2), axis=1) #check if all the children of 2 Ws are quarks or not\n",
    "#so first check 2nd axis, and then check 1st axis\n",
    "add_selection(\n",
    "    \"WW decays to 4q\",\n",
    "    selection_all_q, \n",
    "    selection, \n",
    "    cutflow, \n",
    "    False, \n",
    "    signGenWeights)\n",
    "# print(selection_all_q)"
   ]
  },
  {
   "cell_type": "code",
   "execution_count": 274,
   "metadata": {},
   "outputs": [
    {
     "data": {
      "text/plain": [
       "{'all': 11198, 'HtoWW': 11198.0, 'WW decays to 4q': 6806.0}"
      ]
     },
     "execution_count": 274,
     "metadata": {},
     "output_type": "execute_result"
    }
   ],
   "source": [
    "#quick look at the cut-flow\n",
    "cutflow"
   ]
  },
  {
   "cell_type": "markdown",
   "metadata": {},
   "source": [
    "### store the PFCands, GenEtaPhi, Higgs candidate AK8 jet 4-vector information for Lund Plane use"
   ]
  },
  {
   "cell_type": "code",
   "execution_count": 275,
   "metadata": {},
   "outputs": [
    {
     "data": {
      "text/plain": [
       "<Array [{Electron: [Electron], ... ] type='6988 * {\"Electron\": var * electron, \"...'>"
      ]
     },
     "execution_count": 275,
     "metadata": {},
     "output_type": "execute_result"
    }
   ],
   "source": [
    "events_after_cut = filtered_events[selection.all(*selection.names)]\n",
    "events_after_cut"
   ]
  },
  {
   "cell_type": "code",
   "execution_count": 276,
   "metadata": {},
   "outputs": [],
   "source": [
    "#find the Higgs jet idx, dR(gen_Higgs, jet)<0.8 & dR(gen_W_1, jet)<0.8 & dR(gen_W_2, jet)<0.8\n",
    "\n",
    "#collect gen-Higgs information\n",
    "higgs = events_after_cut.GenPart[\n",
    "    (abs(events_after_cut.GenPart.pdgId) == HIGGS_PDGID) * events_after_cut.GenPart.hasFlags(GEN_FLAGS)\n",
    "]\n",
    "GenHiggsVars = {\n",
    "    f\"GenHiggs{key}\": higgs[var].to_numpy() for (var, key) in skim_vars.items()\n",
    "    }\n",
    "higgs_children = higgs.children\n",
    "\n",
    "# collect gen-Higgs children WW information, may not be used, since only Higgs information is needed for the matching\n",
    "is_WW = abs(higgs_children.pdgId) == W_PDGID\n",
    "WW = ak.flatten(higgs_children[is_WW], axis=2)\n",
    "\n",
    "GenWWVars = {\n",
    "    # f\"GenWW{key}\": WW[var].to_numpy() for (var, key) in skim_vars.items()\n",
    "    f\"GenWW{key}\": pad_val(WW[var], 2, FILL_NONE_VALUE, axis=1) for (var, key) in skim_vars.items()\n",
    "    }\n",
    "GenW1Vars = {\n",
    "    # f\"GenWW{key}\": WW[var][:,0].to_numpy() for (var, key) in skim_vars.items()\n",
    "    f\"GenWW{key}\": pad_val(WW[var], 2, FILL_NONE_VALUE, axis=1)[:,0] for (var, key) in skim_vars.items()\n",
    "    }\n",
    "GenW2Vars = {\n",
    "    # f\"GenWW{key}\": WW[var][:,1].to_numpy() for (var, key) in skim_vars.items()\n",
    "    f\"GenWW{key}\": pad_val(WW[var], 2, FILL_NONE_VALUE, axis=1)[:,1] for (var, key) in skim_vars.items()\n",
    "    }\n",
    "\n",
    "#collect FatJet information\n",
    "fatjets = events_after_cut.FatJet\n",
    "HWW = ak.pad_none(higgs, 1, axis=1, clip=True)[:, 0] #because it's a 2D array\n",
    "WWdr = fatjets[:, :3].delta_r(HWW) #here use 3 because we have up to 3 AK8 jets, use ak.max(ak.num(WWdr,axis = 1)) for test\n",
    "match_dR = 0.8\n",
    "HWW_match = WWdr <= match_dR #FatJetIdx in each event, which is real HWW jet\n",
    "HWWJets = ak.pad_none(fatjets[HWW_match], 1, axis=1)[:, 0] #There can be None object in HWWJets array\n",
    "#tie [pt, eta, phi, mass] together, get new arrary\n",
    "\n",
    "\n"
   ]
  },
  {
   "cell_type": "code",
   "execution_count": 277,
   "metadata": {},
   "outputs": [
    {
     "data": {
      "text/plain": [
       "array([ True,  True,  True, ...,  True,  True,  True])"
      ]
     },
     "execution_count": 277,
     "metadata": {},
     "output_type": "execute_result"
    }
   ],
   "source": [
    "filled_pt = pad_val(HWWJets.pt,len(HWWJets.pt),-99)\n",
    "selection_has_HWWjet = filled_pt > 0\n",
    "selection_has_HWWjet"
   ]
  },
  {
   "cell_type": "code",
   "execution_count": 278,
   "metadata": {},
   "outputs": [
    {
     "data": {
      "text/plain": [
       "<Array [{Electron: [Electron], ... ] type='6357 * {\"Electron\": var * electron, \"...'>"
      ]
     },
     "execution_count": 278,
     "metadata": {},
     "output_type": "execute_result"
    }
   ],
   "source": [
    "events_final = events_after_cut[selection_has_HWWjet]\n",
    "len(events_final)\n",
    "events_final"
   ]
  },
  {
   "cell_type": "markdown",
   "metadata": {},
   "source": [
    "### Do it again after the final cut"
   ]
  },
  {
   "cell_type": "code",
   "execution_count": 279,
   "metadata": {},
   "outputs": [
    {
     "name": "stdout",
     "output_type": "stream",
     "text": [
      "[[[True, True], [True, True]], [[True, ... True]], [[True, True], [True, True]]]\n"
     ]
    },
    {
     "data": {
      "text/plain": [
       "6357"
      ]
     },
     "execution_count": 279,
     "metadata": {},
     "output_type": "execute_result"
    }
   ],
   "source": [
    "#find the Higgs jet idx, dR(gen_Higgs, jet)<0.8 & dR(gen_W_1, jet)<0.8 & dR(gen_W_2, jet)<0.8\n",
    "\n",
    "#collect gen-Higgs information\n",
    "higgs = events_final.GenPart[\n",
    "    (abs(events_final.GenPart.pdgId) == HIGGS_PDGID) * events_final.GenPart.hasFlags(GEN_FLAGS)\n",
    "]\n",
    "GenHiggsVars = {\n",
    "    f\"GenHiggs{key}\": higgs[var].to_numpy() for (var, key) in skim_vars.items()\n",
    "    }\n",
    "higgs_children = higgs.children\n",
    "\n",
    "# collect gen-Higgs children WW information, may not be used, since only Higgs information is needed for the matching\n",
    "is_WW = abs(higgs_children.pdgId) == W_PDGID\n",
    "WW = ak.flatten(higgs_children[is_WW], axis=2)\n",
    "\n",
    "GenWWVars = {\n",
    "    f\"GenWW{key}\": WW[var].to_numpy() for (var, key) in skim_vars.items()\n",
    "    }\n",
    "GenW1Vars = {\n",
    "    f\"GenWW{key}\": WW[var][:,0].to_numpy() for (var, key) in skim_vars.items()\n",
    "    }\n",
    "GenW2Vars = {\n",
    "    f\"GenWW{key}\": WW[var][:,1].to_numpy() for (var, key) in skim_vars.items()\n",
    "    }\n",
    "\n",
    "#collect FatJet information\n",
    "fatjets = events_final.FatJet\n",
    "HWW = ak.pad_none(higgs, 1, axis=1, clip=True)[:, 0] #because it's a 2D array\n",
    "WWdr = fatjets[:, :3].delta_r(HWW) #here use 3 because we have up to 3 AK8 jets, use ak.max(ak.num(WWdr,axis = 1)) for test\n",
    "match_dR = 0.8\n",
    "HWW_match = WWdr <= match_dR #FatJetIdx in each event, which is real HWW jet\n",
    "HWWJets = ak.pad_none(fatjets[HWW_match], 1, axis=1)[:, 0] #There can be None object in HWWJets array\n",
    "#tie [pt, eta, phi, mass] together, get new arrary\n",
    "\n",
    "\n",
    "WW_children = WW.children\n",
    "\n",
    "quarks = abs(WW_children.pdgId) <= b_PDGID #get all the 2 Ws daughter PDGID <=5 information\n",
    "print(quarks)\n",
    "\n",
    "# saving 4q 4-vector info\n",
    "Gen4qVars = {\n",
    "    f\"Gen4q{key}\": ak.to_numpy(\n",
    "        ak.fill_none(\n",
    "            ak.pad_none(ak.pad_none(WW_children[var], 2, axis=1, clip=True), 2, axis=2, clip=True),\n",
    "            FILL_NONE_VALUE,\n",
    "        )\n",
    "    )\n",
    "    for (var, key) in skim_vars.items()\n",
    "}\n",
    "len(Gen4qVars[\"Gen4qPt\"])"
   ]
  },
  {
   "cell_type": "markdown",
   "metadata": {},
   "source": [
    "### four vector for HWW jet"
   ]
  },
  {
   "cell_type": "code",
   "execution_count": 280,
   "metadata": {},
   "outputs": [
    {
     "data": {
      "text/plain": [
       "array([ 5.1000000e+02,  1.5292358e-01, -2.6989746e-01,  1.3937500e+02],\n",
       "      dtype=float32)"
      ]
     },
     "execution_count": 280,
     "metadata": {},
     "output_type": "execute_result"
    }
   ],
   "source": [
    "# four vector for HWW jet\n",
    "higgs_jet_4vec = np.array(np.stack((np.array(HWWJets.pt), np.array(HWWJets.eta),np.array(HWWJets.phi),np.array(HWWJets.mass)), axis=1))\n",
    "higgs_jet_4vec[1]"
   ]
  },
  {
   "cell_type": "code",
   "execution_count": 281,
   "metadata": {},
   "outputs": [
    {
     "data": {
      "text/plain": [
       "6357"
      ]
     },
     "execution_count": 281,
     "metadata": {},
     "output_type": "execute_result"
    }
   ],
   "source": [
    "len(higgs_jet_4vec)"
   ]
  },
  {
   "cell_type": "code",
   "execution_count": 282,
   "metadata": {},
   "outputs": [
    {
     "data": {
      "text/plain": [
       "array([ 3.2675000e+02, -3.0511475e-01,  2.5092773e+00,  1.3912500e+02],\n",
       "      dtype=float32)"
      ]
     },
     "execution_count": 282,
     "metadata": {},
     "output_type": "execute_result"
    }
   ],
   "source": [
    "higgs_jet_4vec[0]"
   ]
  },
  {
   "cell_type": "markdown",
   "metadata": {},
   "source": [
    "### Next eta-phi for 4 quarks"
   ]
  },
  {
   "cell_type": "code",
   "execution_count": 283,
   "metadata": {},
   "outputs": [],
   "source": [
    "# Finally construct the eta-phi array\n",
    "eta = Gen4qVars[\"Gen4qEta\"].reshape(Gen4qVars[\"Gen4qEta\"].shape[0], -1)\n",
    "phi = Gen4qVars[\"Gen4qPhi\"].reshape(Gen4qVars[\"Gen4qPhi\"].shape[0], -1)\n",
    "gen_parts_eta_phi_HWW = np.array(np.dstack((eta,phi)))\n",
    "# can do test like : gen_parts_eta_phi[:2]"
   ]
  },
  {
   "cell_type": "code",
   "execution_count": 284,
   "metadata": {},
   "outputs": [
    {
     "data": {
      "text/plain": [
       "array([[-0.29101562,  2.3203125 ],\n",
       "       [-0.40820312,  3.0859375 ],\n",
       "       [-0.23828125,  2.4921875 ],\n",
       "       [-0.48730469,  1.86328125]])"
      ]
     },
     "execution_count": 284,
     "metadata": {},
     "output_type": "execute_result"
    }
   ],
   "source": [
    "gen_parts_eta_phi_HWW[0]"
   ]
  },
  {
   "cell_type": "code",
   "execution_count": 285,
   "metadata": {},
   "outputs": [],
   "source": [
    "#count the number of quarks inside the AK8 jet, require 3 or 4 quarks.\n",
    "def count_quarks_in_jets(jet_4vec, gen_parts_eta_phi, delta_r_cut=0.8):\n",
    "    num_jets = len(jet_4vec)\n",
    "    num_quarks_in_jets = np.zeros(num_jets, dtype=int)\n",
    "\n",
    "    for i in range(num_jets):\n",
    "        jet_eta, jet_phi = jet_4vec[i][1], jet_4vec[i][2]\n",
    "\n",
    "        quark_eta_phi = gen_parts_eta_phi[i]\n",
    "        quark_eta, quark_phi = quark_eta_phi[:, 0], quark_eta_phi[:, 1]\n",
    "\n",
    "        delta_eta = jet_eta - quark_eta\n",
    "        delta_phi = jet_phi - quark_phi\n",
    "\n",
    "        delta_r_squared = delta_eta**2 + delta_phi**2\n",
    "        quarks_in_jet = np.sqrt(delta_r_squared) < delta_r_cut\n",
    "\n",
    "        num_quarks_in_jets[i] = np.sum(quarks_in_jet)\n",
    "\n",
    "    return num_quarks_in_jets\n"
   ]
  },
  {
   "cell_type": "code",
   "execution_count": 286,
   "metadata": {},
   "outputs": [],
   "source": [
    "result = count_quarks_in_jets(higgs_jet_4vec, gen_parts_eta_phi_HWW)"
   ]
  },
  {
   "cell_type": "code",
   "execution_count": 287,
   "metadata": {},
   "outputs": [
    {
     "data": {
      "text/plain": [
       "6357"
      ]
     },
     "execution_count": 287,
     "metadata": {},
     "output_type": "execute_result"
    }
   ],
   "source": [
    "len(result)"
   ]
  },
  {
   "cell_type": "code",
   "execution_count": 288,
   "metadata": {},
   "outputs": [],
   "source": [
    "H3q4q_cut = (result >= 3)"
   ]
  },
  {
   "cell_type": "code",
   "execution_count": 289,
   "metadata": {},
   "outputs": [
    {
     "data": {
      "text/plain": [
       "5185"
      ]
     },
     "execution_count": 289,
     "metadata": {},
     "output_type": "execute_result"
    }
   ],
   "source": [
    "np.sum(H3q4q_cut)\n",
    "#we should apply H3q4q cut to the events, to make sure we select the real H3q4q jet, but not only Higgs jet"
   ]
  },
  {
   "cell_type": "markdown",
   "metadata": {},
   "source": [
    "### Get FatJetPFCands 4-vector, up to 150 length to suit the input of Oz's function"
   ]
  },
  {
   "cell_type": "code",
   "execution_count": null,
   "metadata": {},
   "outputs": [],
   "source": []
  },
  {
   "cell_type": "code",
   "execution_count": 290,
   "metadata": {},
   "outputs": [],
   "source": [
    "# first get the jet_idx HWW jet, each event has one jet_idx\n",
    "HWW_match = WWdr <= match_dR #FatJetIdx in each event, which is real HWW jet\n",
    "HWW_match_padded = pad_val(HWW_match,3,False,1,True) #pad the array with False value\n",
    "HWW_jet_idx = np.argmax(HWW_match_padded,axis = 1) #the jet index in each jet which is true HWW jet\n",
    "# then get all the FatJetPFCands according to the jet_idx, and get PF_idx\n",
    "HWW_FatJetPFCands = (events_final.FatJetPFCands.jetIdx == HWW_jet_idx)\n",
    "HWW_FatJetPFCands_pFCandsIdx = events_final.FatJetPFCands.pFCandsIdx[HWW_FatJetPFCands]\n",
    "# at last, get PFCands 4-vector according to the PF_idx in last step\n"
   ]
  },
  {
   "cell_type": "code",
   "execution_count": 291,
   "metadata": {},
   "outputs": [],
   "source": [
    "index_array = ak.to_list(HWW_FatJetPFCands_pFCandsIdx)"
   ]
  },
  {
   "cell_type": "code",
   "execution_count": 292,
   "metadata": {},
   "outputs": [],
   "source": [
    "pt_array =   ak.Array(events_final.PFCands.pt)\n",
    "eta_array =  ak.Array(events_final.PFCands.eta)\n",
    "phi_array =  ak.Array(events_final.PFCands.phi)\n",
    "mass_array = ak.Array(events_final.PFCands.mass)"
   ]
  },
  {
   "cell_type": "code",
   "execution_count": 293,
   "metadata": {},
   "outputs": [],
   "source": [
    "selected_pt =  pt_array[HWW_FatJetPFCands_pFCandsIdx]\n",
    "selected_eta = eta_array[HWW_FatJetPFCands_pFCandsIdx]\n",
    "selected_phi = phi_array[HWW_FatJetPFCands_pFCandsIdx]\n",
    "selected_mass = mass_array[HWW_FatJetPFCands_pFCandsIdx]"
   ]
  },
  {
   "cell_type": "code",
   "execution_count": 294,
   "metadata": {},
   "outputs": [],
   "source": [
    "# selected_pt_2[0]"
   ]
  },
  {
   "cell_type": "code",
   "execution_count": 295,
   "metadata": {},
   "outputs": [],
   "source": [
    "# selected_pt = [[pt_array[i][j] for j in indices] for i, indices in enumerate(index_array)]"
   ]
  },
  {
   "cell_type": "code",
   "execution_count": 296,
   "metadata": {},
   "outputs": [],
   "source": [
    "# selected_eta = [[eta_array[i][j] for j in indices] for i, indices in enumerate(index_array)]"
   ]
  },
  {
   "cell_type": "code",
   "execution_count": 297,
   "metadata": {},
   "outputs": [],
   "source": [
    "# selected_phi = [[phi_array[i][j] for j in indices] for i, indices in enumerate(index_array)]"
   ]
  },
  {
   "cell_type": "code",
   "execution_count": 298,
   "metadata": {},
   "outputs": [],
   "source": [
    "# selected_mass = [[mass_array[i][j] for j in indices] for i, indices in enumerate(index_array)]"
   ]
  },
  {
   "cell_type": "code",
   "execution_count": 299,
   "metadata": {},
   "outputs": [],
   "source": [
    "selected_pt_padded = pad_val(selected_pt,150,0,1,True)"
   ]
  },
  {
   "cell_type": "code",
   "execution_count": 300,
   "metadata": {},
   "outputs": [],
   "source": [
    "selected_eta_padded = pad_val(selected_eta,150,0,1,True)"
   ]
  },
  {
   "cell_type": "code",
   "execution_count": 301,
   "metadata": {},
   "outputs": [],
   "source": [
    "selected_phi_padded = pad_val(selected_phi,150,0,1,True)"
   ]
  },
  {
   "cell_type": "code",
   "execution_count": 302,
   "metadata": {},
   "outputs": [],
   "source": [
    "selected_mass_padded = pad_val(selected_mass,150,0,1,True)"
   ]
  },
  {
   "cell_type": "code",
   "execution_count": 303,
   "metadata": {},
   "outputs": [],
   "source": [
    "# selected_pt_padded = pad_val(selected_pt,150,0,1,True)\n",
    "# selected_eta_padded = pad_val(selected_eta,150,0,1,True)\n",
    "# selected_phi_padded = pad_val(selected_phi,150,0,1,True)\n",
    "# selected_mass_padded = pad_val(selected_mass,150,0,1,True)"
   ]
  },
  {
   "cell_type": "code",
   "execution_count": 304,
   "metadata": {},
   "outputs": [],
   "source": [
    "#Construct (px,py,pz,E) using (pt,eta,phi,mass) information as the input\n",
    "pf_cands_px = selected_pt_padded * np.cos(selected_phi_padded)\n",
    "pf_cands_py = selected_pt_padded * np.sin(selected_phi_padded)\n",
    "pf_cands_pz = selected_pt_padded * np.sinh(selected_eta_padded)\n",
    "pf_cands_E = np.sqrt(pf_cands_px**2 + pf_cands_py**2 + pf_cands_pz**2 + selected_mass_padded**2)"
   ]
  },
  {
   "cell_type": "code",
   "execution_count": 305,
   "metadata": {},
   "outputs": [],
   "source": [
    "pf_cands_pxpypzE = np.dstack((pf_cands_px,pf_cands_py,pf_cands_pz,pf_cands_E))"
   ]
  },
  {
   "cell_type": "code",
   "execution_count": 306,
   "metadata": {},
   "outputs": [],
   "source": [
    "# pf_cands_pxpypzE[0]"
   ]
  },
  {
   "cell_type": "code",
   "execution_count": 307,
   "metadata": {},
   "outputs": [
    {
     "data": {
      "text/plain": [
       "array([[-2.37393421e-01,  6.92882506e-01, -2.30703017e-01,\n",
       "         7.80469918e-01],\n",
       "       [-2.32815891e-01,  7.54444960e-01, -8.09564132e-02,\n",
       "         8.05861020e-01],\n",
       "       [-7.10506857e-01,  5.28066743e-01, -4.23308869e-01,\n",
       "         9.91126876e-01],\n",
       "       [-5.64716547e-01,  3.92111554e-01, -3.43178931e-01,\n",
       "         7.80958153e-01],\n",
       "       [-3.70527394e-01,  5.88361218e-01, -3.28817652e-01,\n",
       "         7.81695675e-01],\n",
       "       [-9.18991750e-01,  1.69791575e+00, -4.41409583e-01,\n",
       "         1.98539007e+00],\n",
       "       [-6.42046673e+00,  5.53441223e+00, -1.25725110e-01,\n",
       "         8.47864295e+00],\n",
       "       [-6.93162801e+00,  5.91043534e+00, -6.22638993e-01,\n",
       "         9.13169534e+00],\n",
       "       [-2.59757880e+00,  1.52800608e+00, -4.22966757e-01,\n",
       "         3.04640553e+00],\n",
       "       [-1.78821265e+00,  1.92702973e+00, -4.41538140e-01,\n",
       "         2.66937663e+00],\n",
       "       [-1.54156239e+00,  1.08270339e+00, -4.02078402e-01,\n",
       "         1.93126795e+00],\n",
       "       [-1.43756980e+01,  1.13187871e+01, -4.12139406e+00,\n",
       "         1.87558255e+01],\n",
       "       [-1.31283994e+00,  1.39823296e+00, -4.49681990e-01,\n",
       "         1.97491408e+00],\n",
       "       [-1.07651036e+00,  1.57318610e+00, -4.50878962e-01,\n",
       "         1.96380969e+00],\n",
       "       [-1.02945813e+01,  8.04055361e+00, -3.21757769e+00,\n",
       "         1.34536679e+01],\n",
       "       [-3.06206376e+00,  3.28686995e+00, -1.10652343e+00,\n",
       "         4.62856460e+00],\n",
       "       [-1.01449289e+00,  7.50158909e-01, -3.12692553e-01,\n",
       "         1.30735552e+00],\n",
       "       [-3.19340604e+00,  1.32409324e+00, -8.83520826e-01,\n",
       "         3.57087408e+00],\n",
       "       [-7.72162371e+00,  8.67960671e+00, -3.55012344e+00,\n",
       "         1.21483287e+01],\n",
       "       [-5.90036420e+00,  6.89913442e+00, -3.16071057e+00,\n",
       "         9.61363159e+00],\n",
       "       [-5.40349692e+00,  5.97329154e+00, -3.21057911e+00,\n",
       "         8.67161947e+00],\n",
       "       [-1.54812454e+00,  1.70466888e+00, -9.51082404e-01,\n",
       "         2.49531780e+00],\n",
       "       [-5.81422520e-01,  1.77435538e+00, -7.86750507e-01,\n",
       "         2.03096852e+00],\n",
       "       [-2.00489835e+00,  6.27335280e+00, -3.40653765e+00,\n",
       "         7.41610000e+00],\n",
       "       [-6.03538436e-01,  5.09049892e-01, -5.04247780e-01,\n",
       "         9.47166230e-01],\n",
       "       [-1.19363409e+00,  1.96921895e+00,  9.19426419e-02,\n",
       "         2.30878900e+00],\n",
       "       [-1.05508906e+00,  8.27397234e-01, -1.00249454e+00,\n",
       "         1.67995893e+00],\n",
       "       [-3.14003030e-01,  2.90805273e-01, -1.23674234e-01,\n",
       "         4.66828162e-01],\n",
       "       [-3.11701275e-01,  2.47398253e-01, -1.52128993e-01,\n",
       "         4.48301705e-01],\n",
       "       [-2.07203973e-01,  2.26373084e-01, -1.55073912e-01,\n",
       "         3.71071131e-01],\n",
       "       [-9.37500712e-01,  8.58932437e-01,  2.65200783e-01,\n",
       "         1.29884717e+00],\n",
       "       [-4.34299403e-01,  9.42871382e-01,  1.08541961e-01,\n",
       "         1.04374507e+00],\n",
       "       [-5.96695592e-01,  4.23888141e-01, -2.14433977e-03,\n",
       "         7.31936735e-01],\n",
       "       [-3.79036950e+00,  3.55878837e+00, -1.09318476e+00,\n",
       "         5.31290208e+00],\n",
       "       [-2.25554686e+01,  1.82277491e+01, -6.20065769e+00,\n",
       "         2.96554912e+01],\n",
       "       [-6.15135289e-01,  3.20987766e-01, -1.65941754e-01,\n",
       "         7.13415192e-01],\n",
       "       [-7.30399707e+00,  4.88868555e+00, -2.20639569e+00,\n",
       "         9.06177695e+00],\n",
       "       [-4.18749558e+00,  7.64731864e+00, -2.23980565e+00,\n",
       "         9.00185153e+00],\n",
       "       [-2.83567814e+00,  2.06486756e+00, -9.82276989e-01,\n",
       "         3.64274850e+00],\n",
       "       [-1.96581199e+00,  1.57282639e+00, -7.35192727e-01,\n",
       "         2.62272911e+00],\n",
       "       [-2.56191736e+00,  2.60859033e+00, -1.10612608e+00,\n",
       "         3.81990562e+00],\n",
       "       [-2.70974422e+00,  2.30368809e+00, -1.10255411e+00,\n",
       "         3.72361627e+00],\n",
       "       [-4.56763938e-01,  6.10185433e-01, -2.36867749e-01,\n",
       "         7.98164074e-01],\n",
       "       [-9.78209498e-01,  5.08624185e-01, -3.52792034e-01,\n",
       "         1.15760728e+00],\n",
       "       [-4.10327607e+00,  5.29058928e+00, -2.14495022e+00,\n",
       "         7.03050645e+00],\n",
       "       [-4.12880521e-01,  5.14481782e-01, -2.23034612e-01,\n",
       "         6.96352114e-01],\n",
       "       [-3.99771687e+00,  4.38472287e+00, -2.10043072e+00,\n",
       "         6.29438988e+00],\n",
       "       [-1.82991144e+00,  2.17166679e+00, -1.06838232e+00,\n",
       "         3.03416435e+00],\n",
       "       [-1.01982123e+00,  1.40768830e+00, -6.57023170e-01,\n",
       "         1.85830599e+00],\n",
       "       [-3.47540703e+00,  1.17385136e+01, -5.99589342e+00,\n",
       "         1.36316504e+01],\n",
       "       [-2.75118686e+00,  8.95405900e+00, -4.80267923e+00,\n",
       "         1.05266295e+01],\n",
       "       [-3.96889702e+00,  3.63627926e+00, -2.90238455e+00,\n",
       "         6.11543183e+00],\n",
       "       [-5.32037598e-01,  1.65313679e-01,  1.41333934e-01,\n",
       "         5.91468939e-01],\n",
       "       [-7.87816572e-01,  3.03452342e-01, -6.02885244e-03,\n",
       "         8.55711534e-01],\n",
       "       [-7.90354224e-01,  1.09120647e-01, -6.50045388e-01,\n",
       "         1.03855367e+00],\n",
       "       [-7.76999169e+00, -2.31429596e-01, -3.37446238e+00,\n",
       "         8.47542297e+00],\n",
       "       [-1.64919372e+00,  2.21955092e-01, -1.62050181e-01,\n",
       "         1.67774607e+00],\n",
       "       [-2.80616040e+01,  1.34356686e+00, -1.18653834e+01,\n",
       "         3.04969766e+01],\n",
       "       [-2.06534676e+01,  1.82991278e+00, -8.98013671e+00,\n",
       "         2.25959428e+01],\n",
       "       [-1.89895014e+00,  2.82998894e-01, -9.54831252e-01,\n",
       "         2.14878345e+00],\n",
       "       [-1.17088160e+00,  6.27854376e-03, -9.64801500e-03,\n",
       "         1.17922171e+00],\n",
       "       [-9.25304144e-01,  3.02940743e-01, -6.89589395e-01,\n",
       "         1.20123353e+00],\n",
       "       [-6.50931414e-01,  3.42096792e-01,  1.87796391e-01,\n",
       "         7.58952834e-01],\n",
       "       [-1.77377226e+01,  5.98036781e+00,  2.25040209e+00,\n",
       "         1.88535384e+01],\n",
       "       [-1.52303958e+00,  6.30631935e-01, -8.93877733e-02,\n",
       "         1.65085928e+00],\n",
       "       [-1.22540497e+00,  5.32750723e-02, -6.65112815e-02,\n",
       "         1.22836449e+00],\n",
       "       [-1.34431203e+00,  1.07868627e-01, -1.07533408e-01,\n",
       "         1.35291312e+00],\n",
       "       [-1.35242068e+00,  1.79325601e-01, -3.50213474e-01,\n",
       "         1.40849170e+00],\n",
       "       [-6.58555023e-01, -3.83028844e-02, -2.77823935e-01,\n",
       "         7.15784861e-01],\n",
       "       [-1.62792799e+00,  5.64450568e-02, -8.49039625e-01,\n",
       "         1.83690061e+00],\n",
       "       [ 0.00000000e+00,  0.00000000e+00,  0.00000000e+00,\n",
       "         0.00000000e+00],\n",
       "       [ 0.00000000e+00,  0.00000000e+00,  0.00000000e+00,\n",
       "         0.00000000e+00],\n",
       "       [ 0.00000000e+00,  0.00000000e+00,  0.00000000e+00,\n",
       "         0.00000000e+00],\n",
       "       [ 0.00000000e+00,  0.00000000e+00,  0.00000000e+00,\n",
       "         0.00000000e+00],\n",
       "       [ 0.00000000e+00,  0.00000000e+00,  0.00000000e+00,\n",
       "         0.00000000e+00],\n",
       "       [ 0.00000000e+00,  0.00000000e+00,  0.00000000e+00,\n",
       "         0.00000000e+00],\n",
       "       [ 0.00000000e+00,  0.00000000e+00,  0.00000000e+00,\n",
       "         0.00000000e+00],\n",
       "       [ 0.00000000e+00,  0.00000000e+00,  0.00000000e+00,\n",
       "         0.00000000e+00],\n",
       "       [ 0.00000000e+00,  0.00000000e+00,  0.00000000e+00,\n",
       "         0.00000000e+00],\n",
       "       [ 0.00000000e+00,  0.00000000e+00,  0.00000000e+00,\n",
       "         0.00000000e+00],\n",
       "       [ 0.00000000e+00,  0.00000000e+00,  0.00000000e+00,\n",
       "         0.00000000e+00],\n",
       "       [ 0.00000000e+00,  0.00000000e+00,  0.00000000e+00,\n",
       "         0.00000000e+00],\n",
       "       [ 0.00000000e+00,  0.00000000e+00,  0.00000000e+00,\n",
       "         0.00000000e+00],\n",
       "       [ 0.00000000e+00,  0.00000000e+00,  0.00000000e+00,\n",
       "         0.00000000e+00],\n",
       "       [ 0.00000000e+00,  0.00000000e+00,  0.00000000e+00,\n",
       "         0.00000000e+00],\n",
       "       [ 0.00000000e+00,  0.00000000e+00,  0.00000000e+00,\n",
       "         0.00000000e+00],\n",
       "       [ 0.00000000e+00,  0.00000000e+00,  0.00000000e+00,\n",
       "         0.00000000e+00],\n",
       "       [ 0.00000000e+00,  0.00000000e+00,  0.00000000e+00,\n",
       "         0.00000000e+00],\n",
       "       [ 0.00000000e+00,  0.00000000e+00,  0.00000000e+00,\n",
       "         0.00000000e+00],\n",
       "       [ 0.00000000e+00,  0.00000000e+00,  0.00000000e+00,\n",
       "         0.00000000e+00],\n",
       "       [ 0.00000000e+00,  0.00000000e+00,  0.00000000e+00,\n",
       "         0.00000000e+00],\n",
       "       [ 0.00000000e+00,  0.00000000e+00,  0.00000000e+00,\n",
       "         0.00000000e+00],\n",
       "       [ 0.00000000e+00,  0.00000000e+00,  0.00000000e+00,\n",
       "         0.00000000e+00],\n",
       "       [ 0.00000000e+00,  0.00000000e+00,  0.00000000e+00,\n",
       "         0.00000000e+00],\n",
       "       [ 0.00000000e+00,  0.00000000e+00,  0.00000000e+00,\n",
       "         0.00000000e+00],\n",
       "       [ 0.00000000e+00,  0.00000000e+00,  0.00000000e+00,\n",
       "         0.00000000e+00],\n",
       "       [ 0.00000000e+00,  0.00000000e+00,  0.00000000e+00,\n",
       "         0.00000000e+00],\n",
       "       [ 0.00000000e+00,  0.00000000e+00,  0.00000000e+00,\n",
       "         0.00000000e+00],\n",
       "       [ 0.00000000e+00,  0.00000000e+00,  0.00000000e+00,\n",
       "         0.00000000e+00],\n",
       "       [ 0.00000000e+00,  0.00000000e+00,  0.00000000e+00,\n",
       "         0.00000000e+00],\n",
       "       [ 0.00000000e+00,  0.00000000e+00,  0.00000000e+00,\n",
       "         0.00000000e+00],\n",
       "       [ 0.00000000e+00,  0.00000000e+00,  0.00000000e+00,\n",
       "         0.00000000e+00],\n",
       "       [ 0.00000000e+00,  0.00000000e+00,  0.00000000e+00,\n",
       "         0.00000000e+00],\n",
       "       [ 0.00000000e+00,  0.00000000e+00,  0.00000000e+00,\n",
       "         0.00000000e+00],\n",
       "       [ 0.00000000e+00,  0.00000000e+00,  0.00000000e+00,\n",
       "         0.00000000e+00],\n",
       "       [ 0.00000000e+00,  0.00000000e+00,  0.00000000e+00,\n",
       "         0.00000000e+00],\n",
       "       [ 0.00000000e+00,  0.00000000e+00,  0.00000000e+00,\n",
       "         0.00000000e+00],\n",
       "       [ 0.00000000e+00,  0.00000000e+00,  0.00000000e+00,\n",
       "         0.00000000e+00],\n",
       "       [ 0.00000000e+00,  0.00000000e+00,  0.00000000e+00,\n",
       "         0.00000000e+00],\n",
       "       [ 0.00000000e+00,  0.00000000e+00,  0.00000000e+00,\n",
       "         0.00000000e+00],\n",
       "       [ 0.00000000e+00,  0.00000000e+00,  0.00000000e+00,\n",
       "         0.00000000e+00],\n",
       "       [ 0.00000000e+00,  0.00000000e+00,  0.00000000e+00,\n",
       "         0.00000000e+00],\n",
       "       [ 0.00000000e+00,  0.00000000e+00,  0.00000000e+00,\n",
       "         0.00000000e+00],\n",
       "       [ 0.00000000e+00,  0.00000000e+00,  0.00000000e+00,\n",
       "         0.00000000e+00],\n",
       "       [ 0.00000000e+00,  0.00000000e+00,  0.00000000e+00,\n",
       "         0.00000000e+00],\n",
       "       [ 0.00000000e+00,  0.00000000e+00,  0.00000000e+00,\n",
       "         0.00000000e+00],\n",
       "       [ 0.00000000e+00,  0.00000000e+00,  0.00000000e+00,\n",
       "         0.00000000e+00],\n",
       "       [ 0.00000000e+00,  0.00000000e+00,  0.00000000e+00,\n",
       "         0.00000000e+00],\n",
       "       [ 0.00000000e+00,  0.00000000e+00,  0.00000000e+00,\n",
       "         0.00000000e+00],\n",
       "       [ 0.00000000e+00,  0.00000000e+00,  0.00000000e+00,\n",
       "         0.00000000e+00],\n",
       "       [ 0.00000000e+00,  0.00000000e+00,  0.00000000e+00,\n",
       "         0.00000000e+00],\n",
       "       [ 0.00000000e+00,  0.00000000e+00,  0.00000000e+00,\n",
       "         0.00000000e+00],\n",
       "       [ 0.00000000e+00,  0.00000000e+00,  0.00000000e+00,\n",
       "         0.00000000e+00],\n",
       "       [ 0.00000000e+00,  0.00000000e+00,  0.00000000e+00,\n",
       "         0.00000000e+00],\n",
       "       [ 0.00000000e+00,  0.00000000e+00,  0.00000000e+00,\n",
       "         0.00000000e+00],\n",
       "       [ 0.00000000e+00,  0.00000000e+00,  0.00000000e+00,\n",
       "         0.00000000e+00],\n",
       "       [ 0.00000000e+00,  0.00000000e+00,  0.00000000e+00,\n",
       "         0.00000000e+00],\n",
       "       [ 0.00000000e+00,  0.00000000e+00,  0.00000000e+00,\n",
       "         0.00000000e+00],\n",
       "       [ 0.00000000e+00,  0.00000000e+00,  0.00000000e+00,\n",
       "         0.00000000e+00],\n",
       "       [ 0.00000000e+00,  0.00000000e+00,  0.00000000e+00,\n",
       "         0.00000000e+00],\n",
       "       [ 0.00000000e+00,  0.00000000e+00,  0.00000000e+00,\n",
       "         0.00000000e+00],\n",
       "       [ 0.00000000e+00,  0.00000000e+00,  0.00000000e+00,\n",
       "         0.00000000e+00],\n",
       "       [ 0.00000000e+00,  0.00000000e+00,  0.00000000e+00,\n",
       "         0.00000000e+00],\n",
       "       [ 0.00000000e+00,  0.00000000e+00,  0.00000000e+00,\n",
       "         0.00000000e+00],\n",
       "       [ 0.00000000e+00,  0.00000000e+00,  0.00000000e+00,\n",
       "         0.00000000e+00],\n",
       "       [ 0.00000000e+00,  0.00000000e+00,  0.00000000e+00,\n",
       "         0.00000000e+00],\n",
       "       [ 0.00000000e+00,  0.00000000e+00,  0.00000000e+00,\n",
       "         0.00000000e+00],\n",
       "       [ 0.00000000e+00,  0.00000000e+00,  0.00000000e+00,\n",
       "         0.00000000e+00],\n",
       "       [ 0.00000000e+00,  0.00000000e+00,  0.00000000e+00,\n",
       "         0.00000000e+00],\n",
       "       [ 0.00000000e+00,  0.00000000e+00,  0.00000000e+00,\n",
       "         0.00000000e+00],\n",
       "       [ 0.00000000e+00,  0.00000000e+00,  0.00000000e+00,\n",
       "         0.00000000e+00],\n",
       "       [ 0.00000000e+00,  0.00000000e+00,  0.00000000e+00,\n",
       "         0.00000000e+00],\n",
       "       [ 0.00000000e+00,  0.00000000e+00,  0.00000000e+00,\n",
       "         0.00000000e+00],\n",
       "       [ 0.00000000e+00,  0.00000000e+00,  0.00000000e+00,\n",
       "         0.00000000e+00],\n",
       "       [ 0.00000000e+00,  0.00000000e+00,  0.00000000e+00,\n",
       "         0.00000000e+00],\n",
       "       [ 0.00000000e+00,  0.00000000e+00,  0.00000000e+00,\n",
       "         0.00000000e+00],\n",
       "       [ 0.00000000e+00,  0.00000000e+00,  0.00000000e+00,\n",
       "         0.00000000e+00],\n",
       "       [ 0.00000000e+00,  0.00000000e+00,  0.00000000e+00,\n",
       "         0.00000000e+00],\n",
       "       [ 0.00000000e+00,  0.00000000e+00,  0.00000000e+00,\n",
       "         0.00000000e+00],\n",
       "       [ 0.00000000e+00,  0.00000000e+00,  0.00000000e+00,\n",
       "         0.00000000e+00]])"
      ]
     },
     "execution_count": 307,
     "metadata": {},
     "output_type": "execute_result"
    }
   ],
   "source": [
    "pf_cands_pxpypzE[0]"
   ]
  },
  {
   "cell_type": "code",
   "execution_count": 308,
   "metadata": {},
   "outputs": [],
   "source": [
    "pf_cands_4vec = np.dstack((selected_pt_padded,selected_eta_padded,selected_phi_padded,selected_mass_padded))"
   ]
  },
  {
   "cell_type": "code",
   "execution_count": 309,
   "metadata": {},
   "outputs": [
    {
     "data": {
      "text/plain": [
       "array([[ 7.32421875e-01, -3.09997559e-01,  1.90087891e+00,\n",
       "         1.39526367e-01],\n",
       "       [ 7.89550781e-01, -1.02355957e-01,  1.87011719e+00,\n",
       "         1.39526367e-01],\n",
       "       [ 8.85253906e-01, -4.61608887e-01,  2.50244141e+00,\n",
       "         1.39526367e-01],\n",
       "       [ 6.87500000e-01, -4.80468750e-01,  2.53466797e+00,\n",
       "         1.39526367e-01],\n",
       "       [ 6.95312500e-01, -4.56848145e-01,  2.13281250e+00,\n",
       "         1.39526367e-01],\n",
       "       [ 1.93066406e+00, -2.26684570e-01,  2.06689453e+00,\n",
       "         1.39526367e-01],\n",
       "       [ 8.47656250e+00, -1.48315430e-02,  2.43017578e+00,\n",
       "         1.39526367e-01],\n",
       "       [ 9.10937500e+00, -6.82983398e-02,  2.43554688e+00,\n",
       "         1.39526367e-01],\n",
       "       [ 3.01367188e+00, -1.39892578e-01,  2.60986328e+00,\n",
       "         1.39526367e-01],\n",
       "       [ 2.62890625e+00, -1.67175293e-01,  2.31884766e+00,\n",
       "         1.39526367e-01],\n",
       "       [ 1.88378906e+00, -2.11853027e-01,  2.52929688e+00,\n",
       "         1.39526367e-01],\n",
       "       [ 1.82968750e+01, -2.23388672e-01,  2.47460938e+00,\n",
       "         1.39526367e-01],\n",
       "       [ 1.91796875e+00, -2.32360840e-01,  2.32470703e+00,\n",
       "         1.39526367e-01],\n",
       "       [ 1.90625000e+00, -2.34375000e-01,  2.17089844e+00,\n",
       "         1.39526367e-01],\n",
       "       [ 1.30625000e+01, -2.43896484e-01,  2.47851562e+00,\n",
       "         1.39526367e-01],\n",
       "       [ 4.49218750e+00, -2.43896484e-01,  2.32080078e+00,\n",
       "         1.39526367e-01],\n",
       "       [ 1.26171875e+00, -2.45361328e-01,  2.50488281e+00,\n",
       "         1.39526367e-01],\n",
       "       [ 3.45703125e+00, -2.52868652e-01,  2.74853516e+00,\n",
       "         1.39526367e-01],\n",
       "       [ 1.16171875e+01, -3.01025391e-01,  2.29785156e+00,\n",
       "         1.39526367e-01],\n",
       "       [ 9.07812500e+00, -3.41491699e-01,  2.27832031e+00,\n",
       "         1.39526367e-01],\n",
       "       [ 8.05468750e+00, -3.88732910e-01,  2.30615234e+00,\n",
       "         1.05712891e-01],\n",
       "       [ 2.30273438e+00, -4.02099609e-01,  2.30810547e+00,\n",
       "         1.39526367e-01],\n",
       "       [ 1.86718750e+00, -4.09790039e-01,  1.88745117e+00,\n",
       "         1.39526367e-01],\n",
       "       [ 6.58593750e+00, -4.96582031e-01,  1.88012695e+00,\n",
       "         1.39526367e-01],\n",
       "       [ 7.89550781e-01, -6.01684570e-01,  2.44091797e+00,\n",
       "         1.39526367e-01],\n",
       "       [ 2.30273438e+00,  3.99169922e-02,  2.11572266e+00,\n",
       "         1.39526367e-01],\n",
       "       [ 1.34082031e+00, -6.91284180e-01,  2.47656250e+00,\n",
       "         1.39526367e-01],\n",
       "       [ 4.27978516e-01, -2.85095215e-01,  2.39453125e+00,\n",
       "         1.39526367e-01],\n",
       "       [ 3.97949219e-01, -3.73535156e-01,  2.47070312e+00,\n",
       "         1.39526367e-01],\n",
       "       [ 3.06884766e-01, -4.85961914e-01,  2.31201172e+00,\n",
       "         1.39526367e-01],\n",
       "       [ 1.27148438e+00,  2.07092285e-01,  2.39990234e+00,\n",
       "        -0.00000000e+00],\n",
       "       [ 1.03808594e+00,  1.04370117e-01,  2.00244141e+00,\n",
       "        -0.00000000e+00],\n",
       "       [ 7.31933594e-01, -2.92968750e-03,  2.52392578e+00,\n",
       "         0.00000000e+00],\n",
       "       [ 5.19921875e+00, -2.08740234e-01,  2.38769531e+00,\n",
       "        -0.00000000e+00],\n",
       "       [ 2.90000000e+01, -2.12219238e-01,  2.46191406e+00,\n",
       "        -5.96046448e-08],\n",
       "       [ 6.93847656e-01, -2.36938477e-01,  2.66064453e+00,\n",
       "        -0.00000000e+00],\n",
       "       [ 8.78906250e+00, -2.48474121e-01,  2.55175781e+00,\n",
       "         0.00000000e+00],\n",
       "       [ 8.71875000e+00, -2.54150391e-01,  2.07177734e+00,\n",
       "         5.96046448e-08],\n",
       "       [ 3.50781250e+00, -2.76489258e-01,  2.51220703e+00,\n",
       "        -0.00000000e+00],\n",
       "       [ 2.51757812e+00, -2.88024902e-01,  2.46679688e+00,\n",
       "        -0.00000000e+00],\n",
       "       [ 3.65625000e+00, -2.98095703e-01,  2.34716797e+00,\n",
       "        -0.00000000e+00],\n",
       "       [ 3.55664062e+00, -3.05236816e-01,  2.43701172e+00,\n",
       "        -0.00000000e+00],\n",
       "       [ 7.62207031e-01, -3.05969238e-01,  2.21337891e+00,\n",
       "         0.00000000e+00],\n",
       "       [ 1.10253906e+00, -3.14758301e-01,  2.66210938e+00,\n",
       "         0.00000000e+00],\n",
       "       [ 6.69531250e+00, -3.15124512e-01,  2.23046875e+00,\n",
       "         5.96046448e-08],\n",
       "       [ 6.59667969e-01, -3.31970215e-01,  2.24707031e+00,\n",
       "         0.00000000e+00],\n",
       "       [ 5.93359375e+00, -3.46984863e-01,  2.31005859e+00,\n",
       "         0.00000000e+00],\n",
       "       [ 2.83984375e+00, -3.67858887e-01,  2.27099609e+00,\n",
       "        -0.00000000e+00],\n",
       "       [ 1.73828125e+00, -3.69506836e-01,  2.19775391e+00,\n",
       "        -0.00000000e+00],\n",
       "       [ 1.22421875e+01, -4.72045898e-01,  1.85864258e+00,\n",
       "         1.19209290e-07],\n",
       "       [ 9.36718750e+00, -4.92553711e-01,  1.86889648e+00,\n",
       "        -1.19209290e-07],\n",
       "       [ 5.38281250e+00, -5.15991211e-01,  2.39990234e+00,\n",
       "        -0.00000000e+00],\n",
       "       [ 5.57128906e-01,  2.51037598e-01,  2.84033203e+00,\n",
       "         1.39526367e-01],\n",
       "       [ 8.44238281e-01, -7.14111328e-03,  2.77392578e+00,\n",
       "         1.39526367e-01],\n",
       "       [ 7.97851562e-01, -7.44140625e-01,  3.00439453e+00,\n",
       "         1.39526367e-01],\n",
       "       [ 7.77343750e+00, -4.21508789e-01, -3.11181641e+00,\n",
       "         1.39526367e-01],\n",
       "       [ 1.66406250e+00, -9.72290039e-02,  3.00781250e+00,\n",
       "         1.39526367e-01],\n",
       "       [ 2.80937500e+01, -4.10705566e-01,  3.09375000e+00,\n",
       "         1.39526367e-01],\n",
       "       [ 2.07343750e+01, -4.20593262e-01,  3.05322266e+00,\n",
       "         1.39526367e-01],\n",
       "       [ 1.91992188e+00, -4.78820801e-01,  2.99365234e+00,\n",
       "         1.39526367e-01],\n",
       "       [ 1.17089844e+00, -8.23974609e-03,  3.13623047e+00,\n",
       "         1.39526367e-01],\n",
       "       [ 9.73632812e-01, -6.59423828e-01,  2.82519531e+00,\n",
       "         1.39526367e-01],\n",
       "       [ 7.35351562e-01,  2.52685547e-01,  2.65771484e+00,\n",
       "        -0.00000000e+00],\n",
       "       [ 1.87187500e+01,  1.19934082e-01,  2.81640625e+00,\n",
       "         0.00000000e+00],\n",
       "       [ 1.64843750e+00, -5.41992188e-02,  2.74902344e+00,\n",
       "        -0.00000000e+00],\n",
       "       [ 1.22656250e+00, -5.41992188e-02,  3.09814453e+00,\n",
       "         0.00000000e+00],\n",
       "       [ 1.34863281e+00, -7.96508789e-02,  3.06152344e+00,\n",
       "         0.00000000e+00],\n",
       "       [ 1.36425781e+00, -2.53967285e-01,  3.00976562e+00,\n",
       "        -0.00000000e+00],\n",
       "       [ 6.59667969e-01, -4.09606934e-01, -3.08349609e+00,\n",
       "        -0.00000000e+00],\n",
       "       [ 1.62890625e+00, -5.00122070e-01,  3.10693359e+00,\n",
       "        -0.00000000e+00],\n",
       "       [ 0.00000000e+00,  0.00000000e+00,  0.00000000e+00,\n",
       "         0.00000000e+00],\n",
       "       [ 0.00000000e+00,  0.00000000e+00,  0.00000000e+00,\n",
       "         0.00000000e+00],\n",
       "       [ 0.00000000e+00,  0.00000000e+00,  0.00000000e+00,\n",
       "         0.00000000e+00],\n",
       "       [ 0.00000000e+00,  0.00000000e+00,  0.00000000e+00,\n",
       "         0.00000000e+00],\n",
       "       [ 0.00000000e+00,  0.00000000e+00,  0.00000000e+00,\n",
       "         0.00000000e+00],\n",
       "       [ 0.00000000e+00,  0.00000000e+00,  0.00000000e+00,\n",
       "         0.00000000e+00],\n",
       "       [ 0.00000000e+00,  0.00000000e+00,  0.00000000e+00,\n",
       "         0.00000000e+00],\n",
       "       [ 0.00000000e+00,  0.00000000e+00,  0.00000000e+00,\n",
       "         0.00000000e+00],\n",
       "       [ 0.00000000e+00,  0.00000000e+00,  0.00000000e+00,\n",
       "         0.00000000e+00],\n",
       "       [ 0.00000000e+00,  0.00000000e+00,  0.00000000e+00,\n",
       "         0.00000000e+00],\n",
       "       [ 0.00000000e+00,  0.00000000e+00,  0.00000000e+00,\n",
       "         0.00000000e+00],\n",
       "       [ 0.00000000e+00,  0.00000000e+00,  0.00000000e+00,\n",
       "         0.00000000e+00],\n",
       "       [ 0.00000000e+00,  0.00000000e+00,  0.00000000e+00,\n",
       "         0.00000000e+00],\n",
       "       [ 0.00000000e+00,  0.00000000e+00,  0.00000000e+00,\n",
       "         0.00000000e+00],\n",
       "       [ 0.00000000e+00,  0.00000000e+00,  0.00000000e+00,\n",
       "         0.00000000e+00],\n",
       "       [ 0.00000000e+00,  0.00000000e+00,  0.00000000e+00,\n",
       "         0.00000000e+00],\n",
       "       [ 0.00000000e+00,  0.00000000e+00,  0.00000000e+00,\n",
       "         0.00000000e+00],\n",
       "       [ 0.00000000e+00,  0.00000000e+00,  0.00000000e+00,\n",
       "         0.00000000e+00],\n",
       "       [ 0.00000000e+00,  0.00000000e+00,  0.00000000e+00,\n",
       "         0.00000000e+00],\n",
       "       [ 0.00000000e+00,  0.00000000e+00,  0.00000000e+00,\n",
       "         0.00000000e+00],\n",
       "       [ 0.00000000e+00,  0.00000000e+00,  0.00000000e+00,\n",
       "         0.00000000e+00],\n",
       "       [ 0.00000000e+00,  0.00000000e+00,  0.00000000e+00,\n",
       "         0.00000000e+00],\n",
       "       [ 0.00000000e+00,  0.00000000e+00,  0.00000000e+00,\n",
       "         0.00000000e+00],\n",
       "       [ 0.00000000e+00,  0.00000000e+00,  0.00000000e+00,\n",
       "         0.00000000e+00],\n",
       "       [ 0.00000000e+00,  0.00000000e+00,  0.00000000e+00,\n",
       "         0.00000000e+00],\n",
       "       [ 0.00000000e+00,  0.00000000e+00,  0.00000000e+00,\n",
       "         0.00000000e+00],\n",
       "       [ 0.00000000e+00,  0.00000000e+00,  0.00000000e+00,\n",
       "         0.00000000e+00],\n",
       "       [ 0.00000000e+00,  0.00000000e+00,  0.00000000e+00,\n",
       "         0.00000000e+00],\n",
       "       [ 0.00000000e+00,  0.00000000e+00,  0.00000000e+00,\n",
       "         0.00000000e+00],\n",
       "       [ 0.00000000e+00,  0.00000000e+00,  0.00000000e+00,\n",
       "         0.00000000e+00],\n",
       "       [ 0.00000000e+00,  0.00000000e+00,  0.00000000e+00,\n",
       "         0.00000000e+00],\n",
       "       [ 0.00000000e+00,  0.00000000e+00,  0.00000000e+00,\n",
       "         0.00000000e+00],\n",
       "       [ 0.00000000e+00,  0.00000000e+00,  0.00000000e+00,\n",
       "         0.00000000e+00],\n",
       "       [ 0.00000000e+00,  0.00000000e+00,  0.00000000e+00,\n",
       "         0.00000000e+00],\n",
       "       [ 0.00000000e+00,  0.00000000e+00,  0.00000000e+00,\n",
       "         0.00000000e+00],\n",
       "       [ 0.00000000e+00,  0.00000000e+00,  0.00000000e+00,\n",
       "         0.00000000e+00],\n",
       "       [ 0.00000000e+00,  0.00000000e+00,  0.00000000e+00,\n",
       "         0.00000000e+00],\n",
       "       [ 0.00000000e+00,  0.00000000e+00,  0.00000000e+00,\n",
       "         0.00000000e+00],\n",
       "       [ 0.00000000e+00,  0.00000000e+00,  0.00000000e+00,\n",
       "         0.00000000e+00],\n",
       "       [ 0.00000000e+00,  0.00000000e+00,  0.00000000e+00,\n",
       "         0.00000000e+00],\n",
       "       [ 0.00000000e+00,  0.00000000e+00,  0.00000000e+00,\n",
       "         0.00000000e+00],\n",
       "       [ 0.00000000e+00,  0.00000000e+00,  0.00000000e+00,\n",
       "         0.00000000e+00],\n",
       "       [ 0.00000000e+00,  0.00000000e+00,  0.00000000e+00,\n",
       "         0.00000000e+00],\n",
       "       [ 0.00000000e+00,  0.00000000e+00,  0.00000000e+00,\n",
       "         0.00000000e+00],\n",
       "       [ 0.00000000e+00,  0.00000000e+00,  0.00000000e+00,\n",
       "         0.00000000e+00],\n",
       "       [ 0.00000000e+00,  0.00000000e+00,  0.00000000e+00,\n",
       "         0.00000000e+00],\n",
       "       [ 0.00000000e+00,  0.00000000e+00,  0.00000000e+00,\n",
       "         0.00000000e+00],\n",
       "       [ 0.00000000e+00,  0.00000000e+00,  0.00000000e+00,\n",
       "         0.00000000e+00],\n",
       "       [ 0.00000000e+00,  0.00000000e+00,  0.00000000e+00,\n",
       "         0.00000000e+00],\n",
       "       [ 0.00000000e+00,  0.00000000e+00,  0.00000000e+00,\n",
       "         0.00000000e+00],\n",
       "       [ 0.00000000e+00,  0.00000000e+00,  0.00000000e+00,\n",
       "         0.00000000e+00],\n",
       "       [ 0.00000000e+00,  0.00000000e+00,  0.00000000e+00,\n",
       "         0.00000000e+00],\n",
       "       [ 0.00000000e+00,  0.00000000e+00,  0.00000000e+00,\n",
       "         0.00000000e+00],\n",
       "       [ 0.00000000e+00,  0.00000000e+00,  0.00000000e+00,\n",
       "         0.00000000e+00],\n",
       "       [ 0.00000000e+00,  0.00000000e+00,  0.00000000e+00,\n",
       "         0.00000000e+00],\n",
       "       [ 0.00000000e+00,  0.00000000e+00,  0.00000000e+00,\n",
       "         0.00000000e+00],\n",
       "       [ 0.00000000e+00,  0.00000000e+00,  0.00000000e+00,\n",
       "         0.00000000e+00],\n",
       "       [ 0.00000000e+00,  0.00000000e+00,  0.00000000e+00,\n",
       "         0.00000000e+00],\n",
       "       [ 0.00000000e+00,  0.00000000e+00,  0.00000000e+00,\n",
       "         0.00000000e+00],\n",
       "       [ 0.00000000e+00,  0.00000000e+00,  0.00000000e+00,\n",
       "         0.00000000e+00],\n",
       "       [ 0.00000000e+00,  0.00000000e+00,  0.00000000e+00,\n",
       "         0.00000000e+00],\n",
       "       [ 0.00000000e+00,  0.00000000e+00,  0.00000000e+00,\n",
       "         0.00000000e+00],\n",
       "       [ 0.00000000e+00,  0.00000000e+00,  0.00000000e+00,\n",
       "         0.00000000e+00],\n",
       "       [ 0.00000000e+00,  0.00000000e+00,  0.00000000e+00,\n",
       "         0.00000000e+00],\n",
       "       [ 0.00000000e+00,  0.00000000e+00,  0.00000000e+00,\n",
       "         0.00000000e+00],\n",
       "       [ 0.00000000e+00,  0.00000000e+00,  0.00000000e+00,\n",
       "         0.00000000e+00],\n",
       "       [ 0.00000000e+00,  0.00000000e+00,  0.00000000e+00,\n",
       "         0.00000000e+00],\n",
       "       [ 0.00000000e+00,  0.00000000e+00,  0.00000000e+00,\n",
       "         0.00000000e+00],\n",
       "       [ 0.00000000e+00,  0.00000000e+00,  0.00000000e+00,\n",
       "         0.00000000e+00],\n",
       "       [ 0.00000000e+00,  0.00000000e+00,  0.00000000e+00,\n",
       "         0.00000000e+00],\n",
       "       [ 0.00000000e+00,  0.00000000e+00,  0.00000000e+00,\n",
       "         0.00000000e+00],\n",
       "       [ 0.00000000e+00,  0.00000000e+00,  0.00000000e+00,\n",
       "         0.00000000e+00],\n",
       "       [ 0.00000000e+00,  0.00000000e+00,  0.00000000e+00,\n",
       "         0.00000000e+00],\n",
       "       [ 0.00000000e+00,  0.00000000e+00,  0.00000000e+00,\n",
       "         0.00000000e+00],\n",
       "       [ 0.00000000e+00,  0.00000000e+00,  0.00000000e+00,\n",
       "         0.00000000e+00],\n",
       "       [ 0.00000000e+00,  0.00000000e+00,  0.00000000e+00,\n",
       "         0.00000000e+00],\n",
       "       [ 0.00000000e+00,  0.00000000e+00,  0.00000000e+00,\n",
       "         0.00000000e+00],\n",
       "       [ 0.00000000e+00,  0.00000000e+00,  0.00000000e+00,\n",
       "         0.00000000e+00],\n",
       "       [ 0.00000000e+00,  0.00000000e+00,  0.00000000e+00,\n",
       "         0.00000000e+00],\n",
       "       [ 0.00000000e+00,  0.00000000e+00,  0.00000000e+00,\n",
       "         0.00000000e+00]])"
      ]
     },
     "execution_count": 309,
     "metadata": {},
     "output_type": "execute_result"
    }
   ],
   "source": [
    "pf_cands_4vec[0]"
   ]
  },
  {
   "cell_type": "code",
   "execution_count": 310,
   "metadata": {},
   "outputs": [],
   "source": [
    "# do final cut using H4q3q selection:\n",
    "gen_parts_eta_phi_HWW = gen_parts_eta_phi_HWW[H3q4q_cut]\n",
    "pf_cands_pxpypzE = pf_cands_pxpypzE[H3q4q_cut]\n",
    "higgs_jet_4vec = higgs_jet_4vec[H3q4q_cut]\n"
   ]
  },
  {
   "cell_type": "markdown",
   "metadata": {},
   "source": [
    "### Next compute tagger score"
   ]
  },
  {
   "cell_type": "code",
   "execution_count": 311,
   "metadata": {},
   "outputs": [],
   "source": [
    "eventsScoreFatjet = events_final\n",
    "tagger_scores = eventsScoreFatjet.FatJet.inclParTMDV1_probHWqqWev0c + eventsScoreFatjet.FatJet.inclParTMDV1_probHWqqWev1c + eventsScoreFatjet.FatJet.inclParTMDV1_probHWqqWmv0c + eventsScoreFatjet.FatJet.inclParTMDV1_probHWqqWmv1c + eventsScoreFatjet.FatJet.inclParTMDV1_probHWqqWq0c + eventsScoreFatjet.FatJet.inclParTMDV1_probHWqqWq1c + eventsScoreFatjet.FatJet.inclParTMDV1_probHWqqWq2c + eventsScoreFatjet.FatJet.inclParTMDV1_probHWqqWqq0c + eventsScoreFatjet.FatJet.inclParTMDV1_probHWqqWqq1c + eventsScoreFatjet.FatJet.inclParTMDV1_probHWqqWqq2c + eventsScoreFatjet.FatJet.inclParTMDV1_probHWqqWtauev0c + eventsScoreFatjet.FatJet.inclParTMDV1_probHWqqWtauev1c + eventsScoreFatjet.FatJet.inclParTMDV1_probHWqqWtauhv0c + eventsScoreFatjet.FatJet.inclParTMDV1_probHWqqWtauhv1c + eventsScoreFatjet.FatJet.inclParTMDV1_probHWqqWtaumv0c + eventsScoreFatjet.FatJet.inclParTMDV1_probHWqqWtaumv1c"
   ]
  },
  {
   "cell_type": "code",
   "execution_count": 312,
   "metadata": {},
   "outputs": [],
   "source": [
    "fatjets = events_final.FatJet\n",
    "HWW = ak.pad_none(higgs, 1, axis=1, clip=True)[:, 0] #because it's a 2D array\n",
    "WWdr = fatjets[:, :3].delta_r(HWW) #here use 3 because we have up to 3 AK8 jets, use ak.max(ak.num(WWdr,axis = 1)) for test\n",
    "match_dR = 0.8\n",
    "HWW_match = WWdr <= match_dR #FatJetIdx in each event, which is real HWW jet"
   ]
  },
  {
   "cell_type": "code",
   "execution_count": 313,
   "metadata": {},
   "outputs": [
    {
     "data": {
      "text/plain": [
       "<Array [[False, True], ... [True, False]] type='6357 * option[var * bool]'>"
      ]
     },
     "execution_count": 313,
     "metadata": {},
     "output_type": "execute_result"
    }
   ],
   "source": [
    "HWW_match"
   ]
  },
  {
   "cell_type": "code",
   "execution_count": 314,
   "metadata": {},
   "outputs": [],
   "source": [
    "HWWJets_tagger_score = ak.pad_none(tagger_scores[HWW_match], 1, axis=1)[:, 0]"
   ]
  },
  {
   "cell_type": "code",
   "execution_count": 315,
   "metadata": {},
   "outputs": [
    {
     "data": {
      "text/plain": [
       "<Array [0.937, 0.992, 0.231, ... 0.686, 0.948] type='6357 * ?float32'>"
      ]
     },
     "execution_count": 315,
     "metadata": {},
     "output_type": "execute_result"
    }
   ],
   "source": [
    "HWWJets_tagger_score"
   ]
  },
  {
   "cell_type": "code",
   "execution_count": 316,
   "metadata": {},
   "outputs": [
    {
     "data": {
      "text/plain": [
       "<Array [0.937, 0.992, 0.567, ... 0.686, 0.948] type='5185 * ?float32'>"
      ]
     },
     "execution_count": 316,
     "metadata": {},
     "output_type": "execute_result"
    }
   ],
   "source": [
    "HWWJets_tagger_score = HWWJets_tagger_score[H3q4q_cut]\n",
    "HWWJets_tagger_score"
   ]
  },
  {
   "cell_type": "markdown",
   "metadata": {},
   "source": [
    "### Calculate SFs and weights"
   ]
  },
  {
   "cell_type": "code",
   "execution_count": 323,
   "metadata": {},
   "outputs": [
    {
     "name": "stdout",
     "output_type": "stream",
     "text": [
      "Nominal efficiency 0.274, Corrected efficiency 0.273, SF (corrected / nom) 0.998\n",
      "Stat variation toys eff. avg 0.267, std dev 0.009\n",
      "Pt variation toys eff. avg 0.273, std dev 0.001\n",
      "\n",
      "\n",
      "Calibrated efficiency  is 0.273 +/- 0.015  (stat) +/- 0.001 (pt) +/- -0.005/-0.001 (sys)+/- 0.131 (matching)  \n",
      "\n",
      "\n",
      "Now perform SFs information\n",
      "SF (corrected / nom) 0.998\n",
      "\n",
      "\n",
      "SF is 0.998 +/-0.056(stat) +/-0.002(pt) +0.005/-0.001(sys) +/-0.480(match) \n",
      "\n",
      "\n"
     ]
    }
   ],
   "source": [
    "import sys, os\n",
    "sys.path.insert(0, '')\n",
    "sys.path.append(\"/home/pku/zhaoyz/Higgs/LundReweighting\")\n",
    "from utils.LundReweighter import *\n",
    "from utils.Utils import *\n",
    "\"\"\" An example how to use the Lund Plane reweighting  code \"\"\"\n",
    "\n",
    "######################## Setup \n",
    "\n",
    "#Input file \n",
    "fname = \"/home/pku/zhaoyz/Higgs/LundReweighting/data/example_signal.h5\"\n",
    "#File containing data/MC Lund Plane ratio\n",
    "f_ratio_name = '/home/pku/zhaoyz/Higgs/LundReweighting/data/ratio_2018.root'\n",
    "\n",
    "f_sig = h5py.File(fname, \"r\")\n",
    "f_ratio = ROOT.TFile.Open(f_ratio_name)\n",
    "\n",
    "#Class to help read input dataset, \"Dataset\" class defined in Utils.py\n",
    "# d = Dataset(f_sig, dtype = 1)\n",
    "# d.compute_obs() #there may be some dedicated variables inside the .h5 file\n",
    "\n",
    "#The cut we will compute a SF for 'tau21 < 0.34'\n",
    "tag_obs = 'tau21'\n",
    "score_thresh = 0.975\n",
    "\n",
    "\n",
    "#nominal data/MC Lund plane ratio (3d histogram)\n",
    "h_ratio = f_ratio.Get(\"ratio_nom\")\n",
    "#systematic variations\n",
    "h_ratio_sys_up = f_ratio.Get(\"ratio_sys_tot_up\")\n",
    "h_ratio_sys_down = f_ratio.Get(\"ratio_sys_tot_down\")\n",
    "#MC ratio of b to light quarks\n",
    "b_light_ratio = f_ratio.Get(\"h_bl_ratio\")\n",
    "\n",
    "\n",
    "#directory of pt extrapolation fits\n",
    "f_ratio.cd('pt_extrap')\n",
    "rdir = ROOT.gDirectory #get the present working directory and give it to rdir\n",
    "\n",
    "#Main class for reweighting utilities\n",
    "LP_rw = LundReweighter(pt_extrap_dir = rdir)\n",
    "\n",
    "max_evts = 5000\n",
    "\n",
    "# score = getattr(d, tag_obs)[:max_evts]\n",
    "score_cut = ((HWWJets_tagger_score >= 0.8) & (HWWJets_tagger_score <= 0.975))\n",
    "# score_cut = (HWWJets_tagger_score > 0.975)\n",
    "score_cut = score_cut[:max_evts]\n",
    "\n",
    "\n",
    "#Number of toys for statistical and pt extrapolation uncertainties\n",
    "nToys = 100\n",
    "#Noise vectors used to to generate the toys\n",
    "#NOTE the same vector has to be used for the whole sample/signal file for the toys to be consistent \n",
    "rand_noise = np.random.normal(size = (nToys, h_ratio.GetNbinsX(), h_ratio.GetNbinsY(), h_ratio.GetNbinsZ()))\n",
    "pt_rand_noise = np.random.normal(size = (nToys, h_ratio.GetNbinsY(), h_ratio.GetNbinsZ(), 3))\n",
    "\n",
    "\n",
    "################### Compute reweighting factors\n",
    "\n",
    "#PF candidates in the AK8 jet\n",
    "# pf_cands = d.get_masked(\"jet1_PFCands\").astype(np.float64)[:max_evts]\n",
    "pf_cands = pf_cands_pxpypzE[:max_evts]\n",
    "#Generator level quarks from hard process\n",
    "\n",
    "# gen_parts = d.get_masked('gen_info')[:max_evts]\n",
    "gen_parts_eta_phi = gen_parts_eta_phi_HWW[:max_evts]\n",
    "# gen_parts_pdg_ids = gen_parts[:,:,3]\n",
    "\n",
    "B_PDG_ID = 5\n",
    "\n",
    "# ak8_jets = d.get_masked('jet_kinematics')[:max_evts][:,2:6].astype(np.float64)\n",
    "ak8_jets = higgs_jet_4vec[:max_evts]\n",
    "\n",
    "#Nominal event weights of the MC, assume every event is weight '1' for this example\n",
    "weights_nom = np.ones(max_evts)\n",
    "\n",
    "LP_weights = []\n",
    "LP_weights_sys_up = []\n",
    "LP_weights_sys_down = []\n",
    "stat_smeared_weights = []\n",
    "pt_smeared_weights = []\n",
    "b_weights_up = []\n",
    "b_weights_down = []\n",
    "bad_matches = []\n",
    "\n",
    "\n",
    "for i,cands in enumerate(pf_cands):\n",
    "    # if i == 4: break\n",
    "    # print(\"now processing:\",i)\n",
    "    #Get the subjets, splittings and checking matching based on PF candidates in the jet and gen-level quarks\n",
    "    subjets, splittings, bad_match, deltaRs = LP_rw.get_splittings_and_matching(cands, gen_parts_eta_phi[i], ak8_jets[i])\n",
    "    # print(bad_match)\n",
    "    # print(deltaRs)\n",
    "    #Gets the nominal LP reweighting factor for this event and statistical + pt extrapolation toys\n",
    "    LP_weight, stat_smeared_weight, pt_smeared_weight = LP_rw.reweight_lund_plane(h_rw = h_ratio, subjets = subjets, splittings = splittings,\n",
    "            rand_noise = rand_noise, pt_rand_noise = pt_rand_noise, )\n",
    "    #Now get systematic variations\n",
    "    LP_weight_sys_up,_,_ = LP_rw.reweight_lund_plane(h_rw = h_ratio_sys_up, subjets = subjets, splittings = splittings)\n",
    "    LP_weight_sys_down,_,_ = LP_rw.reweight_lund_plane(h_rw = h_ratio_sys_down, subjets = subjets, splittings = splittings)\n",
    "\n",
    "    LP_weights.append(LP_weight)\n",
    "    stat_smeared_weights.append(stat_smeared_weight)\n",
    "    pt_smeared_weights.append(pt_smeared_weight)\n",
    "\n",
    "    LP_weights_sys_up.append(LP_weight_sys_up)\n",
    "    LP_weights_sys_down.append(LP_weight_sys_down)\n",
    "    bad_matches.append(bad_match)\n",
    "\n",
    "\n",
    "\n",
    "############### Normalize weights to preserve normalization of the MC sample\n",
    "\n",
    "#The nominal Lund Plane correction event weights\n",
    "LP_weights = LP_rw.normalize_weights(LP_weights) * weights_nom \n",
    "\n",
    "#Toy variations for stat and pt uncertainties\n",
    "stat_smeared_weights = LP_rw.normalize_weights(stat_smeared_weights) * weights_nom.reshape(max_evts, 1)\n",
    "pt_smeared_weights = LP_rw.normalize_weights(pt_smeared_weights) * weights_nom.reshape(max_evts,1)\n",
    "\n",
    "#Systematic up/down variations\n",
    "LP_weights_sys_up = LP_rw.normalize_weights(LP_weights_sys_up) * weights_nom\n",
    "LP_weights_sys_down = LP_rw.normalize_weights(LP_weights_sys_down) * weights_nom\n",
    "\n",
    "############### Compute efficiences and uncertainties\n",
    "\n",
    "\n",
    "#Efficiency of the cut in nominal MC\n",
    "eff_nom = np.average(score_cut, weights = weights_nom) #TODO\n",
    "\n",
    "#Efficiency of the cut after the Lund Plane reweighting\n",
    "eff_rw = np.average(score_cut, weights = LP_weights)\n",
    "\n",
    "#Nominal 'scale factor'\n",
    "SF = eff_rw / eff_nom\n",
    "\n",
    "print(\"Nominal efficiency %.3f, Corrected efficiency %.3f, SF (corrected / nom) %.3f\" % (eff_nom, eff_rw, SF))\n",
    "\n",
    "#NOTE, better to use corrected efficiency computed separately for each sample rather than a single 'SF'\n",
    "\n",
    "\n",
    "#Compute efficiency for each of the stat/pt toys\n",
    "eff_toys = []\n",
    "pt_eff_toys = []\n",
    "for i in range(nToys):\n",
    "    eff = np.average(score_cut, weights = stat_smeared_weights[:,i])\n",
    "    eff_toys.append(eff)\n",
    "\n",
    "    eff1 = np.average(score_cut, weights = pt_smeared_weights[:,i])\n",
    "    pt_eff_toys.append(eff1)\n",
    "\n",
    "#Compute stat and pt uncertainty based on variation in the toys\n",
    "toys_mean = np.mean(eff_toys)\n",
    "toys_std = np.std(eff_toys)\n",
    "pt_toys_mean = np.mean(pt_eff_toys)\n",
    "pt_toys_std = np.std(pt_eff_toys)\n",
    "\n",
    "eff_stat_unc = (abs(toys_mean - eff_rw)  + toys_std) \n",
    "eff_pt_unc = (abs(pt_toys_mean - eff_rw) + pt_toys_std)\n",
    "\n",
    "print(\"Stat variation toys eff. avg %.3f, std dev %.3f\" % (toys_mean, toys_std))\n",
    "print(\"Pt variation toys eff. avg %.3f, std dev %.3f\" % (pt_toys_mean, pt_toys_std))\n",
    "\n",
    "\n",
    "#Compute difference in efficiency due to weight variations as uncertainty\n",
    "def get_uncs(score_cut, weights_up, weights_down, eff_baseline):\n",
    "    eff_up =  np.average(score_cut, weights = weights_up)\n",
    "    eff_down =  np.average(score_cut, weights = weights_down)\n",
    "\n",
    "    unc_up = eff_up - eff_baseline\n",
    "    unc_down = eff_down - eff_baseline \n",
    "    return unc_up, unc_down\n",
    "\n",
    "\n",
    "#Compute efficiency of systematic variations\n",
    "sys_unc_up, sys_unc_down = get_uncs(score_cut, LP_weights_sys_up, LP_weights_sys_down, eff_rw)\n",
    "# b_unc_up, b_unc_down = get_uncs(score_cut, b_weights_up, b_weights_down, eff_rw)\n",
    "\n",
    "\n",
    "#matching uncertainty, taken as a fractional uncertainty on efficiency\n",
    "bad_match_frac = np.mean(bad_matches)\n",
    "bad_match_unc = bad_match_frac * eff_rw\n",
    "\n",
    "\n",
    "############ Results\n",
    "print(\"\\n\\nCalibrated efficiency  is %.3f +/- %.3f  (stat) +/- %.3f (pt) +/- %.3f/%.3f (sys)+/- %.3f (matching)  \\n\\n\"  % \n",
    "        (eff_rw, eff_stat_unc, eff_pt_unc, sys_unc_up, sys_unc_down, bad_match_unc))\n",
    "\n",
    "#next compute the uncertainty about SFs\n",
    "\n",
    "#Efficiency of the cut in nominal MC\n",
    "eff_nom = np.average(score_cut, weights = weights_nom) #TODO\n",
    "\n",
    "#Efficiency of the cut after the Lund Plane reweighting\n",
    "eff_rw = np.average(score_cut, weights = LP_weights)\n",
    "\n",
    "#Nominal 'scale factor'\n",
    "print(\"Now perform SFs information\")\n",
    "SF = eff_rw / eff_nom\n",
    "\n",
    "print(\"SF (corrected / nom) %.3f\" % (SF))\n",
    "\n",
    "#propagate statistical and pt extrapolation uncertainties to SF\n",
    "SF_stat_unc = (abs(toys_mean - eff_rw)  + toys_std) /eff_nom\n",
    "SF_pt_unc = (abs(pt_toys_mean - eff_rw) + pt_toys_std) /eff_nom\n",
    "\n",
    "#propagate systemetic uncertainty to SF\n",
    "eff_sys_up =  np.average(score_cut, weights = LP_weights_sys_up)\n",
    "eff_sys_down =  np.average(score_cut, weights = LP_weights_sys_down)\n",
    "\n",
    "sys_unc_up = abs(eff_rw - eff_sys_up)\n",
    "sys_unc_down = abs(eff_rw - eff_sys_down)\n",
    "\n",
    "SF_sys_unc_up = sys_unc_up/eff_nom\n",
    "SF_sys_unc_down = sys_unc_down/eff_nom\n",
    "\n",
    "#calculate bad matching uncertainty directly\n",
    "SF_match_unc = bad_match_frac * SF\n",
    "\n",
    "print(\"\\n\\nSF is %.3f +/-%.3f(stat) +/-%.3f(pt) +%.3f/-%.3f(sys) +/-%.3f(match) \\n\\n\"  % (SF, SF_stat_unc, SF_pt_unc, sys_unc_up, sys_unc_down, SF_match_unc))\n",
    "f_ratio.Close()\n"
   ]
  },
  {
   "cell_type": "markdown",
   "metadata": {},
   "source": [
    "### Make some new plots"
   ]
  },
  {
   "cell_type": "code",
   "execution_count": 318,
   "metadata": {},
   "outputs": [
    {
     "data": {
      "text/plain": [
       "<Array [[0.00173, 0.00258, ... 0.000235]] type='6357 * var * float32[parameters=...'>"
      ]
     },
     "execution_count": 318,
     "metadata": {},
     "output_type": "execute_result"
    }
   ],
   "source": [
    "events_final.FatJet.inclParTMDV1_probHWqqWev0c"
   ]
  },
  {
   "cell_type": "code",
   "execution_count": 319,
   "metadata": {},
   "outputs": [],
   "source": [
    "def get_one_file_score_HWW(events_final):\n",
    "    eventsScoreFatjet = events_final[H3q4q_cut]\n",
    "    # eventsScoreEventsID = eventsScore.arrays(['run', 'luminosityBlock', 'event', 'GenPart_pt','GenPart_eta','GenPart_phi','GenPart_mass','GenPart_genPartIdxMother','GenPart_pdgId', \"GenPart_status\", \"FatJet_pt\",\"FatJet_eta\",\"FatJet_phi\",\"FatJet_mass\", \"FatJetPFCands_jetIdx\", \"FatJetPFCands_pFCandsIdx\", \"PFCands_pt\", \"PFCands_eta\", \"PFCands_phi\", \"PFCands_mass\"], library=\"pd\")\n",
    "    # eventsScoreFatjet = eventsScore.arrays(['FatJet_inclParTMDV1_probHWqqWev0c', 'FatJet_inclParTMDV1_probHWqqWev1c', 'FatJet_inclParTMDV1_probHWqqWmv0c', 'FatJet_inclParTMDV1_probHWqqWmv1c', 'FatJet_inclParTMDV1_probHWqqWq0c', 'FatJet_inclParTMDV1_probHWqqWq1c', 'FatJet_inclParTMDV1_probHWqqWq2c', 'FatJet_inclParTMDV1_probHWqqWqq0c', 'FatJet_inclParTMDV1_probHWqqWqq1c', 'FatJet_inclParTMDV1_probHWqqWqq2c', 'FatJet_inclParTMDV1_probHWqqWtauev0c', 'FatJet_inclParTMDV1_probHWqqWtauev1c', 'FatJet_inclParTMDV1_probHWqqWtauhv0c', 'FatJet_inclParTMDV1_probHWqqWtauhv1c', 'FatJet_inclParTMDV1_probHWqqWtaumv0c', 'FatJet_inclParTMDV1_probHWqqWtaumv1c'])\n",
    "    HqqqqVsQcdTop = eventsScoreFatjet.FatJet.inclParTMDV1_probHWqqWev0c + eventsScoreFatjet.FatJet.inclParTMDV1_probHWqqWev1c + eventsScoreFatjet.FatJet.inclParTMDV1_probHWqqWmv0c + eventsScoreFatjet.FatJet.inclParTMDV1_probHWqqWmv1c + eventsScoreFatjet.FatJet.inclParTMDV1_probHWqqWq0c + eventsScoreFatjet.FatJet.inclParTMDV1_probHWqqWq1c + eventsScoreFatjet.FatJet.inclParTMDV1_probHWqqWq2c + eventsScoreFatjet.FatJet.inclParTMDV1_probHWqqWqq0c + eventsScoreFatjet.FatJet.inclParTMDV1_probHWqqWqq1c + eventsScoreFatjet.FatJet.inclParTMDV1_probHWqqWqq2c + eventsScoreFatjet.FatJet.inclParTMDV1_probHWqqWtauev0c + eventsScoreFatjet.FatJet.inclParTMDV1_probHWqqWtauev1c + eventsScoreFatjet.FatJet.inclParTMDV1_probHWqqWtauhv0c + eventsScoreFatjet.FatJet.inclParTMDV1_probHWqqWtauhv1c + eventsScoreFatjet.FatJet.inclParTMDV1_probHWqqWtaumv0c + eventsScoreFatjet.FatJet.inclParTMDV1_probHWqqWtaumv1c\n",
    "    #actually here it's HWWvsAll background tagger, but still named HqqqqVsQCDTop    \n",
    "    leading_HqqqqVsQcdTop = ak.Array(ak.max(HqqqqVsQcdTop, axis=1) )#because each event has more than 1 jet\n",
    "    eventsScoreFatjet[\"HqqqqVsQcdTop\"] = list(leading_HqqqqVsQcdTop) # why use list here?\n",
    "    # eventsScoreFatjet[\"HqqqqVsQcdTop\"] = eventsScoreFatjet[\"HqqqqVsQcdTop\"]\n",
    "    return eventsScoreFatjet \n",
    "a = get_one_file_score_HWW(events_final)"
   ]
  },
  {
   "cell_type": "code",
   "execution_count": 322,
   "metadata": {},
   "outputs": [
    {
     "data": {
      "image/png": "[encoded data removed]",
      "text/plain": [
       "<Figure size 1000x1000 with 1 Axes>"
      ]
     },
     "metadata": {},
     "output_type": "display_data"
    }
   ],
   "source": [
    "import matplotlib as mpl\n",
    "import matplotlib.pyplot as plt\n",
    "import mplhep as hep\n",
    "import boost_histogram as bh\n",
    "from cycler import cycler\n",
    "max_evts = 5000\n",
    "#implement CMS plot style functions\n",
    "use_helvet = False ## true: use helvetica for plots, make sure the system have the font installed\n",
    "if use_helvet:\n",
    "    CMShelvet = hep.style.CMS\n",
    "    CMShelvet['font.sans-serif'] = ['Helvetica', 'Arial']\n",
    "    plt.style.use(CMShelvet)\n",
    "else:\n",
    "    plt.style.use(hep.style.CMS)\n",
    "\n",
    "plt.figure(figsize=(10,10))\n",
    "ax=plt.gca()\n",
    "plt.grid()\n",
    "hep.cms.label(data=False, year=\"2018\", ax=ax, fontname='sans-serif')\n",
    "%matplotlib inline\n",
    "#step1: plot \n",
    "\n",
    "# plt.hist(eventsEventsID3Prongs4Prongs['HqqqqVsQcdTop'], bins=20, range=(0,1), histtype='step', label='before reweighting',density=True);\n",
    "# plt.hist(eventsEventsID3Prongs4Prongs['HqqqqVsQcdTop'], bins=20, range=(0,1), histtype='step', label='after reweighting', weights=eventsEventsID3Prongs4Prongs[\"LP_weight\"],density=True);\n",
    "nbins, x_min, x_max = 20, 0, 1.0\n",
    "hist_before = bh.Histogram(bh.axis.Regular(nbins, x_min, x_max), storage=bh.storage.Weight())\n",
    "hist_before.fill(HWWJets_tagger_score[:max_evts])\n",
    "hist_before_value = hist_before.view().value\n",
    "hist_before_err = np.sqrt(hist_before.view().variance)\n",
    "hist_after = bh.Histogram(bh.axis.Regular(nbins, x_min, x_max), storage=bh.storage.Weight())\n",
    "hist_after.fill(HWWJets_tagger_score[:max_evts],weight=LP_weights[:max_evts])\n",
    "hist_after_value = hist_after.view().value\n",
    "hist_after_err = np.sqrt(hist_after.view().variance)\n",
    "bins = hist_before.axes[0].edges\n",
    "\n",
    "\n",
    "hep.histplot(hist_before_value,    bins=bins, yerr=hist_before_err, label= 'before Lund Plane reweighting', lw = 2,edges = False, histtype=\"step\")\n",
    "hep.histplot(hist_after_value,     bins=bins, yerr=hist_after_err,  label= 'after Lund Plane reweighting', lw = 2,edges = False, histtype=\"step\")\n",
    "\n",
    "\n",
    "plt.legend(loc='upper left',frameon=False,fontsize=20)\n",
    "y_min,y_max = plt.gca().get_ylim()\n",
    "plt.text(0.08, 0.83*y_max, \"ggF\", fontsize=20)\n",
    "# plt.xlabel(r'$H_{qqqq} / (H_{qqqq} + QCD + Top)$')\n",
    "plt.xlabel(r'HWWvs(all background) tagger score', fontsize=20, ha='right', x=1)\n",
    "plt.ylabel('Events(No xs-weighted)',fontsize=20, ha='right', y=1)\n",
    "plt.savefig(f\"TaggerDistribution_2018_ggF_H4q3qlvqq.pdf\", bbox_inches='tight')\n",
    "plt.xticks(size=14)\n",
    "plt.yticks(size=14)\n",
    "plt.show()\n"
   ]
  },
  {
   "cell_type": "code",
   "execution_count": null,
   "metadata": {},
   "outputs": [],
   "source": []
  }
 ],
 "metadata": {
  "kernelspec": {
   "display_name": "HWWCali",
   "language": "python",
   "name": "python3"
  },
  "language_info": {
   "codemirror_mode": {
    "name": "ipython",
    "version": 3
   },
   "file_extension": ".py",
   "mimetype": "text/x-python",
   "name": "python",
   "nbconvert_exporter": "python",
   "pygments_lexer": "ipython3",
   "version": "3.9.18"
  },
  "orig_nbformat": 4
 },
 "nbformat": 4,
 "nbformat_minor": 2
}
